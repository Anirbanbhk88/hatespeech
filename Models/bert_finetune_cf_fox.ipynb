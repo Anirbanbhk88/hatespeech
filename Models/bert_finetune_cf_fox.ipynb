{
 "cells": [
  {
   "cell_type": "code",
   "execution_count": 1,
   "metadata": {
    "colab": {
     "base_uri": "https://localhost:8080/"
    },
    "id": "JsvBIx41liLy",
    "outputId": "44c84284-64d1-406a-d405-c15f35d8f57d"
   },
   "outputs": [
    {
     "name": "stdout",
     "output_type": "stream",
     "text": [
      "Collecting transformers\n",
      "\u001b[?25l  Downloading https://files.pythonhosted.org/packages/d5/43/cfe4ee779bbd6a678ac6a97c5a5cdeb03c35f9eaebbb9720b036680f9a2d/transformers-4.6.1-py3-none-any.whl (2.2MB)\n",
      "\u001b[K     |████████████████████████████████| 2.3MB 2.9MB/s \n",
      "\u001b[?25hRequirement already satisfied: tqdm>=4.27 in /usr/local/lib/python3.7/dist-packages (from transformers) (4.41.1)\n",
      "Requirement already satisfied: importlib-metadata; python_version < \"3.8\" in /usr/local/lib/python3.7/dist-packages (from transformers) (4.0.1)\n",
      "Collecting huggingface-hub==0.0.8\n",
      "  Downloading https://files.pythonhosted.org/packages/a1/88/7b1e45720ecf59c6c6737ff332f41c955963090a18e72acbcbeac6b25e86/huggingface_hub-0.0.8-py3-none-any.whl\n",
      "Requirement already satisfied: packaging in /usr/local/lib/python3.7/dist-packages (from transformers) (20.9)\n",
      "Requirement already satisfied: requests in /usr/local/lib/python3.7/dist-packages (from transformers) (2.23.0)\n",
      "Requirement already satisfied: filelock in /usr/local/lib/python3.7/dist-packages (from transformers) (3.0.12)\n",
      "Collecting tokenizers<0.11,>=0.10.1\n",
      "\u001b[?25l  Downloading https://files.pythonhosted.org/packages/d4/e2/df3543e8ffdab68f5acc73f613de9c2b155ac47f162e725dcac87c521c11/tokenizers-0.10.3-cp37-cp37m-manylinux_2_5_x86_64.manylinux1_x86_64.manylinux_2_12_x86_64.manylinux2010_x86_64.whl (3.3MB)\n",
      "\u001b[K     |████████████████████████████████| 3.3MB 19.5MB/s \n",
      "\u001b[?25hRequirement already satisfied: numpy>=1.17 in /usr/local/lib/python3.7/dist-packages (from transformers) (1.19.5)\n",
      "Collecting sacremoses\n",
      "\u001b[?25l  Downloading https://files.pythonhosted.org/packages/75/ee/67241dc87f266093c533a2d4d3d69438e57d7a90abb216fa076e7d475d4a/sacremoses-0.0.45-py3-none-any.whl (895kB)\n",
      "\u001b[K     |████████████████████████████████| 901kB 35.5MB/s \n",
      "\u001b[?25hRequirement already satisfied: regex!=2019.12.17 in /usr/local/lib/python3.7/dist-packages (from transformers) (2019.12.20)\n",
      "Requirement already satisfied: typing-extensions>=3.6.4; python_version < \"3.8\" in /usr/local/lib/python3.7/dist-packages (from importlib-metadata; python_version < \"3.8\"->transformers) (3.7.4.3)\n",
      "Requirement already satisfied: zipp>=0.5 in /usr/local/lib/python3.7/dist-packages (from importlib-metadata; python_version < \"3.8\"->transformers) (3.4.1)\n",
      "Requirement already satisfied: pyparsing>=2.0.2 in /usr/local/lib/python3.7/dist-packages (from packaging->transformers) (2.4.7)\n",
      "Requirement already satisfied: idna<3,>=2.5 in /usr/local/lib/python3.7/dist-packages (from requests->transformers) (2.10)\n",
      "Requirement already satisfied: urllib3!=1.25.0,!=1.25.1,<1.26,>=1.21.1 in /usr/local/lib/python3.7/dist-packages (from requests->transformers) (1.24.3)\n",
      "Requirement already satisfied: chardet<4,>=3.0.2 in /usr/local/lib/python3.7/dist-packages (from requests->transformers) (3.0.4)\n",
      "Requirement already satisfied: certifi>=2017.4.17 in /usr/local/lib/python3.7/dist-packages (from requests->transformers) (2020.12.5)\n",
      "Requirement already satisfied: joblib in /usr/local/lib/python3.7/dist-packages (from sacremoses->transformers) (1.0.1)\n",
      "Requirement already satisfied: six in /usr/local/lib/python3.7/dist-packages (from sacremoses->transformers) (1.15.0)\n",
      "Requirement already satisfied: click in /usr/local/lib/python3.7/dist-packages (from sacremoses->transformers) (8.0.0)\n",
      "Installing collected packages: huggingface-hub, tokenizers, sacremoses, transformers\n",
      "Successfully installed huggingface-hub-0.0.8 sacremoses-0.0.45 tokenizers-0.10.3 transformers-4.6.1\n"
     ]
    }
   ],
   "source": [
    "! pip install transformers"
   ]
  },
  {
   "cell_type": "code",
   "execution_count": 2,
   "metadata": {
    "id": "669O3YyCkTcL"
   },
   "outputs": [],
   "source": [
    "import pandas as pd\n",
    "import numpy as np\n",
    "import tensorflow as tf\n",
    "import glob\n",
    "from bert_train_fox import train_bert\n",
    "\n"
   ]
  },
  {
   "cell_type": "markdown",
   "metadata": {
    "id": "qNLCw68nFu8W"
   },
   "source": [
    "## Training on fox news dataset"
   ]
  },
  {
   "cell_type": "code",
   "execution_count": 2,
   "metadata": {
    "id": "kEhwPu5AFuOs"
   },
   "outputs": [],
   "source": []
  },
  {
   "cell_type": "code",
   "execution_count": 3,
   "metadata": {
    "id": "3YwUM7V6OewJ"
   },
   "outputs": [],
   "source": [
    "import pandas as pd\n",
    "from matplotlib import pyplot as plt\n",
    "import numpy as np\n",
    "import re\n",
    "import tensorflow as tf\n",
    "from sklearn.model_selection import train_test_split\n",
    "from sklearn.metrics import classification_report\n",
    "import os"
   ]
  },
  {
   "cell_type": "markdown",
   "metadata": {
    "id": "jrG4iXRJrAvE"
   },
   "source": [
    "#### Initialize bert classification model"
   ]
  },
  {
   "cell_type": "code",
   "execution_count": 3,
   "metadata": {
    "id": "a6-aaRm6NZ-L"
   },
   "outputs": [],
   "source": []
  },
  {
   "cell_type": "code",
   "execution_count": 4,
   "metadata": {
    "id": "Gt9MrMzWNbnc"
   },
   "outputs": [],
   "source": [
    "import pandas as pd\n",
    "from matplotlib import pyplot as plt\n",
    "import numpy as np\n",
    "import re\n",
    "import tensorflow as tf\n",
    "from sklearn.model_selection import train_test_split\n",
    "from sklearn.metrics import classification_report"
   ]
  },
  {
   "cell_type": "code",
   "execution_count": 5,
   "metadata": {
    "id": "O337QrOQkksC"
   },
   "outputs": [],
   "source": [
    "import os"
   ]
  },
  {
   "cell_type": "code",
   "execution_count": 6,
   "metadata": {
    "colab": {
     "base_uri": "https://localhost:8080/",
     "height": 353,
     "referenced_widgets": [
      "eb4524c767304786b6f706e14392caa8",
      "f391da4103474f94a1ed79811084deaf",
      "d944eabd6b7b4dcc80cd2982b8b2fb97",
      "f8562cecc914483cae371d3945471897",
      "c0510ac6fa0642dd98d13ba6ff3c622a",
      "c1c29f48cd014df5b808d4aa965c393e",
      "be379ac447c940a1ba9e90ca961aa874",
      "ce84659da28642f586f9337220c22eb9",
      "748256880cc84d1a911f738c94b9f9aa",
      "c8a36d8f7289492fba8745dad912cee2",
      "23901891710f41bfb4c34ade886b35e2",
      "50b883f371184a1abbb302839d71ba70",
      "bc1979610b1d493cbcb2e12038ac1096",
      "9e2ec43cba274719a8ba357a8c249c74",
      "905af7cc13ea4c479458d568e7738c48",
      "208e1302ecdd4941983ac883497875c8",
      "62b34b1016b34451b33e846e18c6b297",
      "955b0cb00d9a4a74aa3bc5f764639760",
      "ba4b4f7ddfda4566808705c7b978aa0f",
      "7ac42160461641aeb83717caa12b85d9",
      "861cfa25fe274e4cb528939af2c0b905",
      "9150dea2a4544278b076767b5e388fea",
      "5fd8471538284fcbbadb1ffe09daab30",
      "18ab4645af084201a7565fc62c474e74",
      "b072ed6c217f4b7ab7ef3398244806ef",
      "4eb10645171042a5a2df32d93cd28140",
      "f49fb2a218d44c9082802973967451a9",
      "6a3b9130f73c4fb6850d53408ceb88e1",
      "18e79b86ec534c1aa5d04baddf095800",
      "018af23c0e1c41a5860c6d26ed31335a",
      "72ac323e9f9443b2a074683a61267913",
      "9823602d2afe4d31ba2cb07a119bf6b2",
      "8f35fa5210024620bf6956f6d97f7b8b",
      "d90779b671b04b8092f00c2a374711dd",
      "d0d4b882745c42c4994b0cbc1f9dafb9",
      "319472eece08452182212a55b2e83d59",
      "e6b8c572bbe74e97beefc48c82e7d9e3",
      "fd1db0f909e546e0aba0736146689c6c",
      "1b9dba8a904348c88f14c4fc6d29bf27",
      "c6f3579137b14a55b7d3c03c635598ed"
     ]
    },
    "id": "SI4UAcYcOpxc",
    "outputId": "b28e143c-182c-46c2-b6c5-afa7c60c974d"
   },
   "outputs": [
    {
     "data": {
      "application/vnd.jupyter.widget-view+json": {
       "model_id": "eb4524c767304786b6f706e14392caa8",
       "version_major": 2,
       "version_minor": 0
      },
      "text/plain": [
       "HBox(children=(FloatProgress(value=0.0, description='Downloading', max=570.0, style=ProgressStyle(description_…"
      ]
     },
     "metadata": {
      "tags": []
     },
     "output_type": "display_data"
    },
    {
     "name": "stdout",
     "output_type": "stream",
     "text": [
      "\n"
     ]
    },
    {
     "data": {
      "application/vnd.jupyter.widget-view+json": {
       "model_id": "748256880cc84d1a911f738c94b9f9aa",
       "version_major": 2,
       "version_minor": 0
      },
      "text/plain": [
       "HBox(children=(FloatProgress(value=0.0, description='Downloading', max=536063208.0, style=ProgressStyle(descri…"
      ]
     },
     "metadata": {
      "tags": []
     },
     "output_type": "display_data"
    },
    {
     "name": "stdout",
     "output_type": "stream",
     "text": [
      "\n"
     ]
    },
    {
     "name": "stderr",
     "output_type": "stream",
     "text": [
      "All model checkpoint layers were used when initializing TFBertForSequenceClassification.\n",
      "\n",
      "Some layers of TFBertForSequenceClassification were not initialized from the model checkpoint at bert-base-uncased and are newly initialized: ['classifier']\n",
      "You should probably TRAIN this model on a down-stream task to be able to use it for predictions and inference.\n"
     ]
    },
    {
     "data": {
      "application/vnd.jupyter.widget-view+json": {
       "model_id": "62b34b1016b34451b33e846e18c6b297",
       "version_major": 2,
       "version_minor": 0
      },
      "text/plain": [
       "HBox(children=(FloatProgress(value=0.0, description='Downloading', max=231508.0, style=ProgressStyle(descripti…"
      ]
     },
     "metadata": {
      "tags": []
     },
     "output_type": "display_data"
    },
    {
     "name": "stdout",
     "output_type": "stream",
     "text": [
      "\n"
     ]
    },
    {
     "data": {
      "application/vnd.jupyter.widget-view+json": {
       "model_id": "b072ed6c217f4b7ab7ef3398244806ef",
       "version_major": 2,
       "version_minor": 0
      },
      "text/plain": [
       "HBox(children=(FloatProgress(value=0.0, description='Downloading', max=28.0, style=ProgressStyle(description_w…"
      ]
     },
     "metadata": {
      "tags": []
     },
     "output_type": "display_data"
    },
    {
     "name": "stdout",
     "output_type": "stream",
     "text": [
      "\n"
     ]
    },
    {
     "data": {
      "application/vnd.jupyter.widget-view+json": {
       "model_id": "8f35fa5210024620bf6956f6d97f7b8b",
       "version_major": 2,
       "version_minor": 0
      },
      "text/plain": [
       "HBox(children=(FloatProgress(value=0.0, description='Downloading', max=466062.0, style=ProgressStyle(descripti…"
      ]
     },
     "metadata": {
      "tags": []
     },
     "output_type": "display_data"
    },
    {
     "name": "stdout",
     "output_type": "stream",
     "text": [
      "\n"
     ]
    }
   ],
   "source": [
    "from transformers import BertTokenizer, TFBertForSequenceClassification\n",
    "from transformers import InputExample, InputFeatures\n",
    "\n",
    "model = TFBertForSequenceClassification.from_pretrained(\"bert-base-uncased\", \n",
    "                                                        trainable=True, \n",
    "                                                        num_labels=2)\n",
    "tokenizer = BertTokenizer.from_pretrained(\"bert-base-uncased\")"
   ]
  },
  {
   "cell_type": "code",
   "execution_count": 7,
   "metadata": {
    "id": "RXneYXFPkTO7"
   },
   "outputs": [],
   "source": [
    "\n",
    "checkpoint_path = \"training_1/cp.ckpt\"\n",
    "checkpoint_dir = os.path.dirname(checkpoint_path)\n",
    "cp_callback = tf.keras.callbacks.ModelCheckpoint(filepath=checkpoint_path,\n",
    "                                                 save_weights_only=True,\n",
    "                                                 verbose=1)\n",
    "\n"
   ]
  },
  {
   "cell_type": "markdown",
   "metadata": {
    "id": "DaTErsaJst7w"
   },
   "source": [
    "Read hate dataset and convert it into train and test"
   ]
  },
  {
   "cell_type": "code",
   "execution_count": 8,
   "metadata": {
    "id": "kd0PtS8gQqaq"
   },
   "outputs": [],
   "source": [
    "df = pd.read_csv(\"data/fox_news.csv\")\n",
    "df = df.drop(columns=['Unnamed: 0'])\n",
    "# df['comment'] = df['comment'].str.strip()"
   ]
  },
  {
   "cell_type": "code",
   "execution_count": 9,
   "metadata": {
    "colab": {
     "base_uri": "https://localhost:8080/",
     "height": 202
    },
    "id": "6Afjm1n6cqZY",
    "outputId": "26de949b-f9ae-4f30-bc32-ed69377d4508"
   },
   "outputs": [
    {
     "data": {
      "text/html": [
       "<div>\n",
       "<style scoped>\n",
       "    .dataframe tbody tr th:only-of-type {\n",
       "        vertical-align: middle;\n",
       "    }\n",
       "\n",
       "    .dataframe tbody tr th {\n",
       "        vertical-align: top;\n",
       "    }\n",
       "\n",
       "    .dataframe thead th {\n",
       "        text-align: right;\n",
       "    }\n",
       "</style>\n",
       "<table border=\"1\" class=\"dataframe\">\n",
       "  <thead>\n",
       "    <tr style=\"text-align: right;\">\n",
       "      <th></th>\n",
       "      <th>comment</th>\n",
       "      <th>label</th>\n",
       "    </tr>\n",
       "  </thead>\n",
       "  <tbody>\n",
       "    <tr>\n",
       "      <th>0</th>\n",
       "      <td>Merkel would never say NO</td>\n",
       "      <td>1</td>\n",
       "    </tr>\n",
       "    <tr>\n",
       "      <th>1</th>\n",
       "      <td>Expect more and more women to be asking .. \"wh...</td>\n",
       "      <td>1</td>\n",
       "    </tr>\n",
       "    <tr>\n",
       "      <th>2</th>\n",
       "      <td>Groping people in public wasn't already illega...</td>\n",
       "      <td>0</td>\n",
       "    </tr>\n",
       "    <tr>\n",
       "      <th>3</th>\n",
       "      <td>Merkel, possible the only person in charge who...</td>\n",
       "      <td>1</td>\n",
       "    </tr>\n",
       "    <tr>\n",
       "      <th>4</th>\n",
       "      <td>They know very well, no means NO They need to ...</td>\n",
       "      <td>1</td>\n",
       "    </tr>\n",
       "  </tbody>\n",
       "</table>\n",
       "</div>"
      ],
      "text/plain": [
       "                                             comment  label\n",
       "0                          Merkel would never say NO      1\n",
       "1  Expect more and more women to be asking .. \"wh...      1\n",
       "2  Groping people in public wasn't already illega...      0\n",
       "3  Merkel, possible the only person in charge who...      1\n",
       "4  They know very well, no means NO They need to ...      1"
      ]
     },
     "execution_count": 9,
     "metadata": {
      "tags": []
     },
     "output_type": "execute_result"
    }
   ],
   "source": [
    "df['label'] = df['label'].replace({2:1})\n",
    "df.head()"
   ]
  },
  {
   "cell_type": "code",
   "execution_count": 10,
   "metadata": {
    "id": "0zjTXZXeHWg0"
   },
   "outputs": [],
   "source": [
    "def get_dataset(df, seed, test_size):\n",
    "    return train_test_split(df, test_size=test_size, random_state=seed, shuffle=True)"
   ]
  },
  {
   "cell_type": "code",
   "execution_count": 11,
   "metadata": {
    "id": "CgefoUK4RODW"
   },
   "outputs": [],
   "source": [
    "train, test = get_dataset(df, 11, 0.2)"
   ]
  },
  {
   "cell_type": "code",
   "execution_count": 12,
   "metadata": {
    "colab": {
     "base_uri": "https://localhost:8080/"
    },
    "id": "Tf3qphCj6DCE",
    "outputId": "6c599a6b-d5c4-464e-bdba-d7f0ad0802ad"
   },
   "outputs": [
    {
     "name": "stdout",
     "output_type": "stream",
     "text": [
      "<class 'pandas.core.frame.DataFrame'>\n",
      "Int64Index: 1210 entries, 941 to 1104\n",
      "Data columns (total 2 columns):\n",
      " #   Column   Non-Null Count  Dtype \n",
      "---  ------   --------------  ----- \n",
      " 0   comment  1210 non-null   object\n",
      " 1   label    1210 non-null   int64 \n",
      "dtypes: int64(1), object(1)\n",
      "memory usage: 28.4+ KB\n"
     ]
    }
   ],
   "source": [
    "train.info()"
   ]
  },
  {
   "cell_type": "code",
   "execution_count": 13,
   "metadata": {
    "colab": {
     "base_uri": "https://localhost:8080/"
    },
    "id": "yTZU1S4f5kBE",
    "outputId": "ff11f800-a354-4cd4-dfca-87a3357dda30"
   },
   "outputs": [
    {
     "data": {
      "text/plain": [
       "comment    1513\n",
       "label      1513\n",
       "dtype: int64"
      ]
     },
     "execution_count": 13,
     "metadata": {
      "tags": []
     },
     "output_type": "execute_result"
    }
   ],
   "source": [
    "train = train.append(test)\n",
    "train.count()"
   ]
  },
  {
   "cell_type": "code",
   "execution_count": 14,
   "metadata": {
    "id": "fjBp7e80WqCQ"
   },
   "outputs": [],
   "source": [
    "train.columns = ['DATA_COLUMN', 'LABEL_COLUMN']\n",
    "test.columns = ['DATA_COLUMN', 'LABEL_COLUMN']\n"
   ]
  },
  {
   "cell_type": "code",
   "execution_count": 15,
   "metadata": {
    "id": "_cdRKItSW0Cz"
   },
   "outputs": [],
   "source": [
    "def convert_data_to_examples(train, test, DATA_COLUMN, LABEL_COLUMN): \n",
    "  train_InputExamples = train.apply(lambda x: InputExample(guid=None, # Globally unique ID for bookkeeping, unused in this case\n",
    "                                                          text_a = x[DATA_COLUMN], \n",
    "                                                          text_b = None,\n",
    "                                                          label = x[LABEL_COLUMN]), axis = 1)\n",
    "\n",
    "  validation_InputExamples = test.apply(lambda x: InputExample(guid=None, # Globally unique ID for bookkeeping, unused in this case\n",
    "                                                          text_a = x[DATA_COLUMN], \n",
    "                                                          text_b = None,\n",
    "                                                          label = x[LABEL_COLUMN]), axis = 1)\n",
    "  \n",
    "  return train_InputExamples, validation_InputExamples\n",
    "\n",
    "  \n",
    "def convert_examples_to_tf_dataset(examples, tokenizer, max_length=128):\n",
    "    features = [] # -> will hold InputFeatures to be converted later\n",
    "\n",
    "    for e in examples:\n",
    "        # Documentation is really strong for this method, so please take a look at it\n",
    "        input_dict = tokenizer.encode_plus(\n",
    "            e.text_a,\n",
    "            add_special_tokens=True,\n",
    "            max_length=max_length, # truncates if len(s) > max_length\n",
    "            return_token_type_ids=True,\n",
    "            return_attention_mask=True,\n",
    "            pad_to_max_length=True, # pads to the right by default # CHECK THIS for pad_to_max_length\n",
    "            truncation=True\n",
    "        )\n",
    "\n",
    "        input_ids, token_type_ids, attention_mask = (input_dict[\"input_ids\"],\n",
    "            input_dict[\"token_type_ids\"], input_dict['attention_mask'])\n",
    "\n",
    "        features.append(\n",
    "            InputFeatures(\n",
    "                input_ids=input_ids, attention_mask=attention_mask, token_type_ids=token_type_ids, label=e.label\n",
    "            )\n",
    "        )\n",
    "\n",
    "    def gen():\n",
    "        for f in features:\n",
    "            yield (\n",
    "                {\n",
    "                    \"input_ids\": f.input_ids,\n",
    "                    \"attention_mask\": f.attention_mask,\n",
    "                    \"token_type_ids\": f.token_type_ids,\n",
    "                },\n",
    "                f.label,\n",
    "            )\n",
    "\n",
    "    return tf.data.Dataset.from_generator(\n",
    "        gen,\n",
    "        ({\"input_ids\": tf.int32, \"attention_mask\": tf.int32, \"token_type_ids\": tf.int32}, tf.int64),\n",
    "        (\n",
    "            {\n",
    "                \"input_ids\": tf.TensorShape([None]),\n",
    "                \"attention_mask\": tf.TensorShape([None]),\n",
    "                \"token_type_ids\": tf.TensorShape([None]),\n",
    "            },\n",
    "            tf.TensorShape([]),\n",
    "        ),\n",
    "    )\n",
    "\n",
    "\n",
    "DATA_COLUMN = 'DATA_COLUMN'\n",
    "LABEL_COLUMN = 'LABEL_COLUMN'"
   ]
  },
  {
   "cell_type": "code",
   "execution_count": 16,
   "metadata": {
    "colab": {
     "base_uri": "https://localhost:8080/"
    },
    "id": "mOm1oM-HXaby",
    "outputId": "de563431-d1a1-40bf-d972-d899d9a29cdd"
   },
   "outputs": [
    {
     "name": "stderr",
     "output_type": "stream",
     "text": [
      "/usr/local/lib/python3.7/dist-packages/transformers/tokenization_utils_base.py:2110: FutureWarning: The `pad_to_max_length` argument is deprecated and will be removed in a future version, use `padding=True` or `padding='longest'` to pad to the longest sequence in the batch, or use `padding='max_length'` to pad to a max length. In this case, you can give a specific length with `max_length` (e.g. `max_length=45`) or leave max_length to None to pad to the maximal input size of the model (e.g. 512 for Bert).\n",
      "  FutureWarning,\n"
     ]
    }
   ],
   "source": [
    "train_InputExamples, validation_InputExamples = convert_data_to_examples(train, test, DATA_COLUMN, LABEL_COLUMN)\n",
    "\n",
    "train_data = convert_examples_to_tf_dataset(list(train_InputExamples), tokenizer)\n",
    "train_data = train_data.batch(32)\n",
    "\n",
    "validation_data = convert_examples_to_tf_dataset(list(validation_InputExamples), tokenizer)\n",
    "validation_data = validation_data.batch(32)"
   ]
  },
  {
   "cell_type": "code",
   "execution_count": 17,
   "metadata": {
    "id": "ujXS3VX8XjpE"
   },
   "outputs": [],
   "source": [
    "model.compile(optimizer=tf.keras.optimizers.Adam(learning_rate=3e-5, epsilon=1e-08, clipnorm=1.0), \n",
    "              loss=tf.keras.losses.SparseCategoricalCrossentropy(from_logits=True), \n",
    "              metrics=[tf.keras.metrics.SparseCategoricalAccuracy('accuracy')])\n",
    "\n"
   ]
  },
  {
   "cell_type": "code",
   "execution_count": 18,
   "metadata": {
    "colab": {
     "base_uri": "https://localhost:8080/"
    },
    "id": "WLWnbzCQmgu3",
    "outputId": "d89e311d-696a-46d2-f741-9930cc87d253"
   },
   "outputs": [
    {
     "name": "stdout",
     "output_type": "stream",
     "text": [
      "Epoch 1/6\n",
      "WARNING:tensorflow:The parameters `output_attentions`, `output_hidden_states` and `use_cache` cannot be updated when calling a model.They have to be set to True/False in the config object (i.e.: `config=XConfig.from_pretrained('name', output_attentions=True)`).\n",
      "WARNING:tensorflow:AutoGraph could not transform <bound method Socket.send of <zmq.sugar.socket.Socket object at 0x7fc45b9fdde0>> and will run it as-is.\n",
      "Please report this to the TensorFlow team. When filing the bug, set the verbosity to 10 (on Linux, `export AUTOGRAPH_VERBOSITY=10`) and attach the full output.\n",
      "Cause: module, class, method, function, traceback, frame, or code object was expected, got cython_function_or_method\n",
      "To silence this warning, decorate the function with @tf.autograph.experimental.do_not_convert\n",
      "WARNING: AutoGraph could not transform <bound method Socket.send of <zmq.sugar.socket.Socket object at 0x7fc45b9fdde0>> and will run it as-is.\n",
      "Please report this to the TensorFlow team. When filing the bug, set the verbosity to 10 (on Linux, `export AUTOGRAPH_VERBOSITY=10`) and attach the full output.\n",
      "Cause: module, class, method, function, traceback, frame, or code object was expected, got cython_function_or_method\n",
      "To silence this warning, decorate the function with @tf.autograph.experimental.do_not_convert\n",
      "WARNING:tensorflow:AutoGraph could not transform <function wrap at 0x7fc4772a4d40> and will run it as-is.\n",
      "Cause: while/else statement not yet supported\n",
      "To silence this warning, decorate the function with @tf.autograph.experimental.do_not_convert\n",
      "WARNING: AutoGraph could not transform <function wrap at 0x7fc4772a4d40> and will run it as-is.\n",
      "Cause: while/else statement not yet supported\n",
      "To silence this warning, decorate the function with @tf.autograph.experimental.do_not_convert\n",
      "WARNING:tensorflow:The parameter `return_dict` cannot be set in graph mode and will always be set to `True`.\n",
      "WARNING:tensorflow:The parameters `output_attentions`, `output_hidden_states` and `use_cache` cannot be updated when calling a model.They have to be set to True/False in the config object (i.e.: `config=XConfig.from_pretrained('name', output_attentions=True)`).\n",
      "WARNING:tensorflow:The parameter `return_dict` cannot be set in graph mode and will always be set to `True`.\n",
      "     48/Unknown - 129s 1s/step - loss: 0.6178 - accuracy: 0.6913WARNING:tensorflow:The parameters `output_attentions`, `output_hidden_states` and `use_cache` cannot be updated when calling a model.They have to be set to True/False in the config object (i.e.: `config=XConfig.from_pretrained('name', output_attentions=True)`).\n",
      "WARNING:tensorflow:The parameter `return_dict` cannot be set in graph mode and will always be set to `True`.\n",
      "48/48 [==============================] - 138s 2s/step - loss: 0.6173 - accuracy: 0.6917 - val_loss: 0.5041 - val_accuracy: 0.7558\n",
      "\n",
      "Epoch 00001: saving model to training_1/cp.ckpt\n",
      "Epoch 2/6\n",
      "48/48 [==============================] - 75s 2s/step - loss: 0.5286 - accuracy: 0.7273 - val_loss: 0.3403 - val_accuracy: 0.8746\n",
      "\n",
      "Epoch 00002: saving model to training_1/cp.ckpt\n",
      "Epoch 3/6\n",
      "48/48 [==============================] - 75s 2s/step - loss: 0.4066 - accuracy: 0.8170 - val_loss: 0.2053 - val_accuracy: 0.9472\n",
      "\n",
      "Epoch 00003: saving model to training_1/cp.ckpt\n",
      "Epoch 4/6\n",
      "48/48 [==============================] - 75s 2s/step - loss: 0.2412 - accuracy: 0.9191 - val_loss: 0.0963 - val_accuracy: 0.9736\n",
      "\n",
      "Epoch 00004: saving model to training_1/cp.ckpt\n",
      "Epoch 5/6\n",
      "48/48 [==============================] - 75s 2s/step - loss: 0.1211 - accuracy: 0.9661 - val_loss: 0.1587 - val_accuracy: 0.9505\n",
      "\n",
      "Epoch 00005: saving model to training_1/cp.ckpt\n",
      "Epoch 6/6\n",
      "48/48 [==============================] - 75s 2s/step - loss: 0.1811 - accuracy: 0.9297 - val_loss: 0.0340 - val_accuracy: 0.9901\n",
      "\n",
      "Epoch 00006: saving model to training_1/cp.ckpt\n"
     ]
    }
   ],
   "source": [
    "hist = model.fit(train_data, epochs=6, validation_data=validation_data, callbacks=[cp_callback])"
   ]
  },
  {
   "cell_type": "code",
   "execution_count": 19,
   "metadata": {
    "colab": {
     "base_uri": "https://localhost:8080/"
    },
    "id": "IWogEL_YnDJT",
    "outputId": "0934767f-7f80-4f6b-b976-cff3ae5b0526"
   },
   "outputs": [
    {
     "name": "stdout",
     "output_type": "stream",
     "text": [
      "WARNING:tensorflow:The parameters `output_attentions`, `output_hidden_states` and `use_cache` cannot be updated when calling a model.They have to be set to True/False in the config object (i.e.: `config=XConfig.from_pretrained('name', output_attentions=True)`).\n",
      "WARNING:tensorflow:The parameter `return_dict` cannot be set in graph mode and will always be set to `True`.\n"
     ]
    }
   ],
   "source": [
    "preds = model.predict(validation_data)"
   ]
  },
  {
   "cell_type": "code",
   "execution_count": 20,
   "metadata": {
    "colab": {
     "base_uri": "https://localhost:8080/"
    },
    "id": "y8Jk04uZnmmH",
    "outputId": "47513472-21fb-44d7-dc4d-0db06eff7266"
   },
   "outputs": [
    {
     "name": "stdout",
     "output_type": "stream",
     "text": [
      "              precision    recall  f1-score   support\n",
      "\n",
      "           0       0.99      1.00      0.99       229\n",
      "           1       1.00      0.96      0.98        74\n",
      "\n",
      "    accuracy                           0.99       303\n",
      "   macro avg       0.99      0.98      0.99       303\n",
      "weighted avg       0.99      0.99      0.99       303\n",
      "\n"
     ]
    }
   ],
   "source": [
    "print(classification_report(test['LABEL_COLUMN'],np.argmax(preds[0],axis=1)))"
   ]
  },
  {
   "cell_type": "markdown",
   "metadata": {
    "id": "YVytRbvlGZEp"
   },
   "source": [
    "\n",
    "\n",
    "---\n",
    "\n",
    "\n",
    "\n",
    "---\n",
    "\n",
    "\n",
    "\n",
    "---\n",
    "\n",
    "\n",
    "\n",
    "---\n",
    "\n"
   ]
  },
  {
   "cell_type": "markdown",
   "metadata": {
    "id": "SrwLQYIiF0iU"
   },
   "source": [
    "## Cross validation by loading above training set"
   ]
  },
  {
   "cell_type": "code",
   "execution_count": 21,
   "metadata": {
    "id": "DWsFTqlHlgv3"
   },
   "outputs": [],
   "source": [
    "# perform cross folding\n",
    "def load_movies_to_df(path):\n",
    "    df_movies = []\n",
    "\n",
    "    for filename in glob.glob(path + '*.csv'):\n",
    "        df_movies.append(pd.read_csv(filename))\n",
    "\n",
    "    return df_movies"
   ]
  },
  {
   "cell_type": "code",
   "execution_count": 22,
   "metadata": {
    "id": "Xz1rCrpvB2RA"
   },
   "outputs": [],
   "source": [
    "df_movies = load_movies_to_df('movies/for_training/')\n",
    "classification_report = []\n",
    "df_main = pd.DataFrame()"
   ]
  },
  {
   "cell_type": "code",
   "execution_count": 23,
   "metadata": {
    "colab": {
     "base_uri": "https://localhost:8080/"
    },
    "id": "DpchIXr0lciQ",
    "outputId": "1b2d0d3a-631c-45be-9b9e-b06460669c0f"
   },
   "outputs": [
    {
     "name": "stdout",
     "output_type": "stream",
     "text": [
      "South_Park,Django_Unchained,Pulp_Fiction,AmerricanHistoryX,TheWolfofWallStreet\n",
      "BlacKkKlansman\n"
     ]
    },
    {
     "name": "stderr",
     "output_type": "stream",
     "text": [
      "All model checkpoint layers were used when initializing TFBertForSequenceClassification.\n",
      "\n",
      "Some layers of TFBertForSequenceClassification were not initialized from the model checkpoint at bert-base-uncased and are newly initialized: ['classifier']\n",
      "You should probably TRAIN this model on a down-stream task to be able to use it for predictions and inference.\n",
      "/usr/local/lib/python3.7/dist-packages/transformers/tokenization_utils_base.py:2110: FutureWarning: The `pad_to_max_length` argument is deprecated and will be removed in a future version, use `padding=True` or `padding='longest'` to pad to the longest sequence in the batch, or use `padding='max_length'` to pad to a max length. In this case, you can give a specific length with `max_length` (e.g. `max_length=45`) or leave max_length to None to pad to the maximal input size of the model (e.g. 512 for Bert).\n",
      "  FutureWarning,\n"
     ]
    },
    {
     "name": "stdout",
     "output_type": "stream",
     "text": [
      "Epoch 1/6\n",
      "WARNING:tensorflow:The parameters `output_attentions`, `output_hidden_states` and `use_cache` cannot be updated when calling a model.They have to be set to True/False in the config object (i.e.: `config=XConfig.from_pretrained('name', output_attentions=True)`).\n",
      "WARNING:tensorflow:The parameter `return_dict` cannot be set in graph mode and will always be set to `True`.\n",
      "WARNING:tensorflow:The parameters `output_attentions`, `output_hidden_states` and `use_cache` cannot be updated when calling a model.They have to be set to True/False in the config object (i.e.: `config=XConfig.from_pretrained('name', output_attentions=True)`).\n",
      "WARNING:tensorflow:The parameter `return_dict` cannot be set in graph mode and will always be set to `True`.\n",
      "283/283 [==============================] - 439s 1s/step - loss: 0.2421 - accuracy: 0.9108\n",
      "Epoch 2/6\n",
      "283/283 [==============================] - 415s 1s/step - loss: 0.0984 - accuracy: 0.9651\n",
      "Epoch 3/6\n",
      "283/283 [==============================] - 418s 1s/step - loss: 0.0534 - accuracy: 0.9837\n",
      "Epoch 4/6\n",
      "283/283 [==============================] - 419s 1s/step - loss: 0.0379 - accuracy: 0.9888\n",
      "Epoch 5/6\n",
      "283/283 [==============================] - 420s 1s/step - loss: 0.0304 - accuracy: 0.9916\n",
      "Epoch 6/6\n",
      "283/283 [==============================] - 419s 1s/step - loss: 0.0250 - accuracy: 0.9932\n",
      "predicting\n",
      "WARNING:tensorflow:The parameters `output_attentions`, `output_hidden_states` and `use_cache` cannot be updated when calling a model.They have to be set to True/False in the config object (i.e.: `config=XConfig.from_pretrained('name', output_attentions=True)`).\n",
      "WARNING:tensorflow:The parameter `return_dict` cannot be set in graph mode and will always be set to `True`.\n",
      "Train movies:  South_Park,Django_Unchained,Pulp_Fiction,AmerricanHistoryX,TheWolfofWallStreet\n",
      "Test movie:  BlacKkKlansman\n",
      "Classification report: \n",
      " {'0': {'precision': 0.9588116137744767, 'recall': 0.9712722298221614, 'f1-score': 0.9650016989466531, 'support': 1462}, '1': {'precision': 0.7439024390243902, 'recall': 0.6666666666666666, 'f1-score': 0.7031700288184437, 'support': 183}, 'accuracy': 0.9373860182370821, 'macro avg': {'precision': 0.8513570263994334, 'recall': 0.8189694482444141, 'f1-score': 0.8340858638825484, 'support': 1645}, 'weighted avg': {'precision': 0.9349037846077497, 'recall': 0.9373860182370821, 'f1-score': 0.935873920446068, 'support': 1645}}\n",
      "------------------------------------------------\n",
      "BlacKkKlansman,Django_Unchained,Pulp_Fiction,AmerricanHistoryX,TheWolfofWallStreet\n",
      "South_Park\n"
     ]
    },
    {
     "name": "stderr",
     "output_type": "stream",
     "text": [
      "All model checkpoint layers were used when initializing TFBertForSequenceClassification.\n",
      "\n",
      "Some layers of TFBertForSequenceClassification were not initialized from the model checkpoint at bert-base-uncased and are newly initialized: ['classifier']\n",
      "You should probably TRAIN this model on a down-stream task to be able to use it for predictions and inference.\n"
     ]
    },
    {
     "name": "stdout",
     "output_type": "stream",
     "text": [
      "Epoch 1/6\n",
      "WARNING:tensorflow:The parameters `output_attentions`, `output_hidden_states` and `use_cache` cannot be updated when calling a model.They have to be set to True/False in the config object (i.e.: `config=XConfig.from_pretrained('name', output_attentions=True)`).\n",
      "WARNING:tensorflow:The parameter `return_dict` cannot be set in graph mode and will always be set to `True`.\n",
      "WARNING:tensorflow:The parameters `output_attentions`, `output_hidden_states` and `use_cache` cannot be updated when calling a model.They have to be set to True/False in the config object (i.e.: `config=XConfig.from_pretrained('name', output_attentions=True)`).\n",
      "WARNING:tensorflow:The parameter `return_dict` cannot be set in graph mode and will always be set to `True`.\n",
      "302/302 [==============================] - 471s 1s/step - loss: 0.1927 - accuracy: 0.9350\n",
      "Epoch 2/6\n",
      "302/302 [==============================] - 444s 1s/step - loss: 0.0930 - accuracy: 0.9669\n",
      "Epoch 3/6\n",
      "302/302 [==============================] - 444s 1s/step - loss: 0.0484 - accuracy: 0.9866\n",
      "Epoch 4/6\n",
      "302/302 [==============================] - 444s 1s/step - loss: 0.0334 - accuracy: 0.9900\n",
      "Epoch 5/6\n",
      "302/302 [==============================] - 445s 1s/step - loss: 0.0254 - accuracy: 0.9927\n",
      "Epoch 6/6\n",
      "302/302 [==============================] - 444s 1s/step - loss: 0.0185 - accuracy: 0.9943\n",
      "predicting\n",
      "WARNING:tensorflow:The parameters `output_attentions`, `output_hidden_states` and `use_cache` cannot be updated when calling a model.They have to be set to True/False in the config object (i.e.: `config=XConfig.from_pretrained('name', output_attentions=True)`).\n",
      "WARNING:tensorflow:The parameter `return_dict` cannot be set in graph mode and will always be set to `True`.\n",
      "Train movies:  BlacKkKlansman,Django_Unchained,Pulp_Fiction,AmerricanHistoryX,TheWolfofWallStreet\n",
      "Test movie:  South_Park\n",
      "Classification report: \n",
      " {'0': {'precision': 0.9525909592061742, 'recall': 0.9707865168539326, 'f1-score': 0.9616026711185309, 'support': 890}, '1': {'precision': 0.8129496402877698, 'recall': 0.7243589743589743, 'f1-score': 0.7661016949152544, 'support': 156}, 'accuracy': 0.9340344168260039, 'macro avg': {'precision': 0.882770299746972, 'recall': 0.8475727456064535, 'f1-score': 0.8638521830168926, 'support': 1046}, 'weighted avg': {'precision': 0.9317649116428175, 'recall': 0.9340344168260039, 'f1-score': 0.9324457377650786, 'support': 1046}}\n",
      "------------------------------------------------\n",
      "BlacKkKlansman,South_Park,Pulp_Fiction,AmerricanHistoryX,TheWolfofWallStreet\n",
      "Django_Unchained\n"
     ]
    },
    {
     "name": "stderr",
     "output_type": "stream",
     "text": [
      "All model checkpoint layers were used when initializing TFBertForSequenceClassification.\n",
      "\n",
      "Some layers of TFBertForSequenceClassification were not initialized from the model checkpoint at bert-base-uncased and are newly initialized: ['classifier']\n",
      "You should probably TRAIN this model on a down-stream task to be able to use it for predictions and inference.\n"
     ]
    },
    {
     "name": "stdout",
     "output_type": "stream",
     "text": [
      "Epoch 1/6\n",
      "WARNING:tensorflow:The parameters `output_attentions`, `output_hidden_states` and `use_cache` cannot be updated when calling a model.They have to be set to True/False in the config object (i.e.: `config=XConfig.from_pretrained('name', output_attentions=True)`).\n",
      "WARNING:tensorflow:The parameter `return_dict` cannot be set in graph mode and will always be set to `True`.\n",
      "WARNING:tensorflow:The parameters `output_attentions`, `output_hidden_states` and `use_cache` cannot be updated when calling a model.They have to be set to True/False in the config object (i.e.: `config=XConfig.from_pretrained('name', output_attentions=True)`).\n",
      "WARNING:tensorflow:The parameter `return_dict` cannot be set in graph mode and will always be set to `True`.\n",
      "280/280 [==============================] - 436s 1s/step - loss: 0.2106 - accuracy: 0.9211\n",
      "Epoch 2/6\n",
      "280/280 [==============================] - 410s 1s/step - loss: 0.0990 - accuracy: 0.9644\n",
      "Epoch 3/6\n",
      "280/280 [==============================] - 411s 1s/step - loss: 0.0567 - accuracy: 0.9826\n",
      "Epoch 4/6\n",
      "280/280 [==============================] - 412s 1s/step - loss: 0.0410 - accuracy: 0.9881\n",
      "Epoch 5/6\n",
      "280/280 [==============================] - 411s 1s/step - loss: 0.0300 - accuracy: 0.9919\n",
      "Epoch 6/6\n",
      "280/280 [==============================] - 410s 1s/step - loss: 0.0214 - accuracy: 0.9934\n",
      "predicting\n",
      "WARNING:tensorflow:The parameters `output_attentions`, `output_hidden_states` and `use_cache` cannot be updated when calling a model.They have to be set to True/False in the config object (i.e.: `config=XConfig.from_pretrained('name', output_attentions=True)`).\n",
      "WARNING:tensorflow:The parameter `return_dict` cannot be set in graph mode and will always be set to `True`.\n",
      "Train movies:  BlacKkKlansman,South_Park,Pulp_Fiction,AmerricanHistoryX,TheWolfofWallStreet\n",
      "Test movie:  Django_Unchained\n",
      "Classification report: \n",
      " {'0': {'precision': 0.982973149967256, 'recall': 0.9677627337201805, 'f1-score': 0.9753086419753088, 'support': 1551}, '1': {'precision': 0.7727272727272727, 'recall': 0.8673469387755102, 'f1-score': 0.8173076923076923, 'support': 196}, 'accuracy': 0.95649685174585, 'macro avg': {'precision': 0.8778502113472644, 'recall': 0.9175548362478454, 'f1-score': 0.8963081671415005, 'support': 1747}, 'weighted avg': {'precision': 0.9593851751881852, 'recall': 0.95649685174585, 'f1-score': 0.9575821473360112, 'support': 1747}}\n",
      "------------------------------------------------\n",
      "BlacKkKlansman,South_Park,Django_Unchained,AmerricanHistoryX,TheWolfofWallStreet\n",
      "Pulp_Fiction\n"
     ]
    },
    {
     "name": "stderr",
     "output_type": "stream",
     "text": [
      "All model checkpoint layers were used when initializing TFBertForSequenceClassification.\n",
      "\n",
      "Some layers of TFBertForSequenceClassification were not initialized from the model checkpoint at bert-base-uncased and are newly initialized: ['classifier']\n",
      "You should probably TRAIN this model on a down-stream task to be able to use it for predictions and inference.\n"
     ]
    },
    {
     "name": "stdout",
     "output_type": "stream",
     "text": [
      "Epoch 1/6\n",
      "WARNING:tensorflow:The parameters `output_attentions`, `output_hidden_states` and `use_cache` cannot be updated when calling a model.They have to be set to True/False in the config object (i.e.: `config=XConfig.from_pretrained('name', output_attentions=True)`).\n",
      "WARNING:tensorflow:The parameter `return_dict` cannot be set in graph mode and will always be set to `True`.\n",
      "WARNING:tensorflow:The parameters `output_attentions`, `output_hidden_states` and `use_cache` cannot be updated when calling a model.They have to be set to True/False in the config object (i.e.: `config=XConfig.from_pretrained('name', output_attentions=True)`).\n",
      "WARNING:tensorflow:The parameter `return_dict` cannot be set in graph mode and will always be set to `True`.\n",
      "284/284 [==============================] - 442s 1s/step - loss: 0.1947 - accuracy: 0.9300\n",
      "Epoch 2/6\n",
      "284/284 [==============================] - 416s 1s/step - loss: 0.0899 - accuracy: 0.9652\n",
      "Epoch 3/6\n",
      "284/284 [==============================] - 415s 1s/step - loss: 0.0442 - accuracy: 0.9839\n",
      "Epoch 4/6\n",
      "284/284 [==============================] - 415s 1s/step - loss: 0.0332 - accuracy: 0.9902\n",
      "Epoch 5/6\n",
      "284/284 [==============================] - 416s 1s/step - loss: 0.0238 - accuracy: 0.9924\n",
      "Epoch 6/6\n",
      "284/284 [==============================] - 416s 1s/step - loss: 0.0200 - accuracy: 0.9930\n",
      "predicting\n",
      "WARNING:tensorflow:The parameters `output_attentions`, `output_hidden_states` and `use_cache` cannot be updated when calling a model.They have to be set to True/False in the config object (i.e.: `config=XConfig.from_pretrained('name', output_attentions=True)`).\n",
      "WARNING:tensorflow:The parameter `return_dict` cannot be set in graph mode and will always be set to `True`.\n",
      "Train movies:  BlacKkKlansman,South_Park,Django_Unchained,AmerricanHistoryX,TheWolfofWallStreet\n",
      "Test movie:  Pulp_Fiction\n",
      "Classification report: \n",
      " {'0': {'precision': 0.9813664596273292, 'recall': 0.9482370592648162, 'f1-score': 0.964517359786341, 'support': 1333}, '1': {'precision': 0.7934131736526946, 'recall': 0.916955017301038, 'f1-score': 0.8507223113964686, 'support': 289}, 'accuracy': 0.9426633785450061, 'macro avg': {'precision': 0.8873898166400118, 'recall': 0.932596038282927, 'f1-score': 0.9076198355914048, 'support': 1622}, 'weighted avg': {'precision': 0.9478778655171753, 'recall': 0.9426633785450061, 'f1-score': 0.9442419165158892, 'support': 1622}}\n",
      "------------------------------------------------\n",
      "BlacKkKlansman,South_Park,Django_Unchained,Pulp_Fiction,TheWolfofWallStreet\n",
      "AmerricanHistoryX\n"
     ]
    },
    {
     "name": "stderr",
     "output_type": "stream",
     "text": [
      "All model checkpoint layers were used when initializing TFBertForSequenceClassification.\n",
      "\n",
      "Some layers of TFBertForSequenceClassification were not initialized from the model checkpoint at bert-base-uncased and are newly initialized: ['classifier']\n",
      "You should probably TRAIN this model on a down-stream task to be able to use it for predictions and inference.\n"
     ]
    },
    {
     "name": "stdout",
     "output_type": "stream",
     "text": [
      "Epoch 1/6\n",
      "WARNING:tensorflow:The parameters `output_attentions`, `output_hidden_states` and `use_cache` cannot be updated when calling a model.They have to be set to True/False in the config object (i.e.: `config=XConfig.from_pretrained('name', output_attentions=True)`).\n",
      "WARNING:tensorflow:The parameter `return_dict` cannot be set in graph mode and will always be set to `True`.\n",
      "WARNING:tensorflow:The parameters `output_attentions`, `output_hidden_states` and `use_cache` cannot be updated when calling a model.They have to be set to True/False in the config object (i.e.: `config=XConfig.from_pretrained('name', output_attentions=True)`).\n",
      "WARNING:tensorflow:The parameter `return_dict` cannot be set in graph mode and will always be set to `True`.\n",
      "286/286 [==============================] - 444s 1s/step - loss: 0.2059 - accuracy: 0.9260\n",
      "Epoch 2/6\n",
      "286/286 [==============================] - 419s 1s/step - loss: 0.0959 - accuracy: 0.9654\n",
      "Epoch 3/6\n",
      "286/286 [==============================] - 418s 1s/step - loss: 0.0525 - accuracy: 0.9811\n",
      "Epoch 4/6\n",
      "286/286 [==============================] - 418s 1s/step - loss: 0.0329 - accuracy: 0.9886\n",
      "Epoch 5/6\n",
      "286/286 [==============================] - 418s 1s/step - loss: 0.0266 - accuracy: 0.9929\n",
      "Epoch 6/6\n",
      "286/286 [==============================] - 419s 1s/step - loss: 0.0209 - accuracy: 0.9940\n",
      "predicting\n",
      "WARNING:tensorflow:The parameters `output_attentions`, `output_hidden_states` and `use_cache` cannot be updated when calling a model.They have to be set to True/False in the config object (i.e.: `config=XConfig.from_pretrained('name', output_attentions=True)`).\n",
      "WARNING:tensorflow:The parameter `return_dict` cannot be set in graph mode and will always be set to `True`.\n",
      "Train movies:  BlacKkKlansman,South_Park,Django_Unchained,Pulp_Fiction,TheWolfofWallStreet\n",
      "Test movie:  AmerricanHistoryX\n",
      "Classification report: \n",
      " {'0': {'precision': 0.9644208932626798, 'recall': 0.9769938650306749, 'f1-score': 0.9706666666666667, 'support': 1304}, '1': {'precision': 0.8770491803278688, 'recall': 0.8199233716475096, 'f1-score': 0.8475247524752475, 'support': 261}, 'accuracy': 0.9507987220447285, 'macro avg': {'precision': 0.9207350367952742, 'recall': 0.8984586183390922, 'f1-score': 0.9090957095709571, 'support': 1565}, 'weighted avg': {'precision': 0.949849636345117, 'recall': 0.9507987220447285, 'f1-score': 0.9501299001465642, 'support': 1565}}\n",
      "------------------------------------------------\n",
      "BlacKkKlansman,South_Park,Django_Unchained,Pulp_Fiction,AmerricanHistoryX\n",
      "TheWolfofWallStreet\n"
     ]
    },
    {
     "name": "stderr",
     "output_type": "stream",
     "text": [
      "All model checkpoint layers were used when initializing TFBertForSequenceClassification.\n",
      "\n",
      "Some layers of TFBertForSequenceClassification were not initialized from the model checkpoint at bert-base-uncased and are newly initialized: ['classifier']\n",
      "You should probably TRAIN this model on a down-stream task to be able to use it for predictions and inference.\n"
     ]
    },
    {
     "name": "stdout",
     "output_type": "stream",
     "text": [
      "Epoch 1/6\n",
      "WARNING:tensorflow:The parameters `output_attentions`, `output_hidden_states` and `use_cache` cannot be updated when calling a model.They have to be set to True/False in the config object (i.e.: `config=XConfig.from_pretrained('name', output_attentions=True)`).\n",
      "WARNING:tensorflow:The parameter `return_dict` cannot be set in graph mode and will always be set to `True`.\n",
      "WARNING:tensorflow:The parameters `output_attentions`, `output_hidden_states` and `use_cache` cannot be updated when calling a model.They have to be set to True/False in the config object (i.e.: `config=XConfig.from_pretrained('name', output_attentions=True)`).\n",
      "WARNING:tensorflow:The parameter `return_dict` cannot be set in graph mode and will always be set to `True`.\n",
      "239/239 [==============================] - 377s 1s/step - loss: 0.2098 - accuracy: 0.9206\n",
      "Epoch 2/6\n",
      "239/239 [==============================] - 352s 1s/step - loss: 0.0933 - accuracy: 0.9663\n",
      "Epoch 3/6\n",
      "239/239 [==============================] - 352s 1s/step - loss: 0.0569 - accuracy: 0.9781\n",
      "Epoch 4/6\n",
      "239/239 [==============================] - 352s 1s/step - loss: 0.0316 - accuracy: 0.9909\n",
      "Epoch 5/6\n",
      "239/239 [==============================] - 352s 1s/step - loss: 0.0301 - accuracy: 0.9909\n",
      "Epoch 6/6\n",
      "239/239 [==============================] - 351s 1s/step - loss: 0.0237 - accuracy: 0.9925\n",
      "predicting\n",
      "WARNING:tensorflow:The parameters `output_attentions`, `output_hidden_states` and `use_cache` cannot be updated when calling a model.They have to be set to True/False in the config object (i.e.: `config=XConfig.from_pretrained('name', output_attentions=True)`).\n",
      "WARNING:tensorflow:The parameter `return_dict` cannot be set in graph mode and will always be set to `True`.\n",
      "Train movies:  BlacKkKlansman,South_Park,Django_Unchained,Pulp_Fiction,AmerricanHistoryX\n",
      "Test movie:  TheWolfofWallStreet\n",
      "Classification report: \n",
      " {'0': {'precision': 0.9833333333333333, 'recall': 0.9777687954729184, 'f1-score': 0.9805431698419131, 'support': 2474}, '1': {'precision': 0.9087893864013267, 'recall': 0.9303904923599321, 'f1-score': 0.9194630872483222, 'support': 589}, 'accuracy': 0.9686581782566112, 'macro avg': {'precision': 0.94606135986733, 'recall': 0.9540796439164252, 'f1-score': 0.9500031285451176, 'support': 3063}, 'weighted avg': {'precision': 0.9689988949582266, 'recall': 0.9686581782566112, 'f1-score': 0.9687977670839553, 'support': 3063}}\n",
      "------------------------------------------------\n"
     ]
    }
   ],
   "source": [
    "for i in range(len(df_movies)):\n",
    "    df_train = pd.concat(df_movies[0:i] + df_movies[i + 1:])\n",
    "    df_test = df_movies[i]\n",
    "\n",
    "    df_train['majority_answer'] = df_train['majority_answer'].replace({2:1})\n",
    "    df_test['majority_answer'] = df_test['majority_answer'].replace({2:1})\n",
    "\n",
    "    train_movies = df_train['movie_name'].unique()\n",
    "    test_movie = df_test['movie_name'].unique()\n",
    "    print(','.join(train_movies))\n",
    "    print(test_movie[0])\n",
    "    classification_report.append(train_bert(df_train, df_test))\n",
    "    # classification_report.append(x)\n",
    "    print('Train movies: ', str(','.join(train_movies)))\n",
    "    print('Test movie: ', str(test_movie[0]))\n",
    "    print('Classification report: \\n', classification_report[i])\n",
    "    print('------------------------------------------------')\n",
    "\n",
    "    df_cr = pd.DataFrame(classification_report[i]).transpose()\n",
    "    df_cr['movie_train'] =  str(','.join(train_movies))\n",
    "    df_cr['movie_test'] = str(test_movie[0])\n",
    "    df_cr.to_csv('classification_reports/'+str(test_movie[0])+'.csv')\n",
    "    df_main = df_main.append(df_cr)"
   ]
  },
  {
   "cell_type": "code",
   "execution_count": 24,
   "metadata": {
    "id": "LyfPoHfVB63k"
   },
   "outputs": [],
   "source": [
    "df_main.to_csv('cross_fold_results_foxnews_finetune_6epochs.csv')"
   ]
  },
  {
   "cell_type": "code",
   "execution_count": 25,
   "metadata": {
    "colab": {
     "base_uri": "https://localhost:8080/"
    },
    "id": "e9c-yeiBHfGG",
    "outputId": "e8babc71-a929-4cd8-f38b-53b3e77b3063"
   },
   "outputs": [
    {
     "name": "stdout",
     "output_type": "stream",
     "text": [
      "              precision  ...           movie_test\n",
      "0              0.958812  ...       BlacKkKlansman\n",
      "1              0.743902  ...       BlacKkKlansman\n",
      "accuracy       0.937386  ...       BlacKkKlansman\n",
      "macro avg      0.851357  ...       BlacKkKlansman\n",
      "weighted avg   0.934904  ...       BlacKkKlansman\n",
      "0              0.952591  ...           South_Park\n",
      "1              0.812950  ...           South_Park\n",
      "accuracy       0.934034  ...           South_Park\n",
      "macro avg      0.882770  ...           South_Park\n",
      "weighted avg   0.931765  ...           South_Park\n",
      "0              0.982973  ...     Django_Unchained\n",
      "1              0.772727  ...     Django_Unchained\n",
      "accuracy       0.956497  ...     Django_Unchained\n",
      "macro avg      0.877850  ...     Django_Unchained\n",
      "weighted avg   0.959385  ...     Django_Unchained\n",
      "0              0.981366  ...         Pulp_Fiction\n",
      "1              0.793413  ...         Pulp_Fiction\n",
      "accuracy       0.942663  ...         Pulp_Fiction\n",
      "macro avg      0.887390  ...         Pulp_Fiction\n",
      "weighted avg   0.947878  ...         Pulp_Fiction\n",
      "0              0.964421  ...    AmerricanHistoryX\n",
      "1              0.877049  ...    AmerricanHistoryX\n",
      "accuracy       0.950799  ...    AmerricanHistoryX\n",
      "macro avg      0.920735  ...    AmerricanHistoryX\n",
      "weighted avg   0.949850  ...    AmerricanHistoryX\n",
      "0              0.983333  ...  TheWolfofWallStreet\n",
      "1              0.908789  ...  TheWolfofWallStreet\n",
      "accuracy       0.968658  ...  TheWolfofWallStreet\n",
      "macro avg      0.946061  ...  TheWolfofWallStreet\n",
      "weighted avg   0.968999  ...  TheWolfofWallStreet\n",
      "\n",
      "[30 rows x 6 columns]\n"
     ]
    }
   ],
   "source": [
    "print(df_main)"
   ]
  },
  {
   "cell_type": "code",
   "execution_count": 26,
   "metadata": {
    "colab": {
     "base_uri": "https://localhost:8080/"
    },
    "id": "iD3D9odZB7de",
    "outputId": "e645f153-dd84-49ca-e97d-6337fa24689a"
   },
   "outputs": [
    {
     "data": {
      "text/plain": [
       "5"
      ]
     },
     "execution_count": 26,
     "metadata": {
      "tags": []
     },
     "output_type": "execute_result"
    }
   ],
   "source": [
    "len(classification_report[0])"
   ]
  },
  {
   "cell_type": "code",
   "execution_count": 27,
   "metadata": {
    "colab": {
     "base_uri": "https://localhost:8080/",
     "height": 274
    },
    "id": "68L-CNl6GGg8",
    "outputId": "5d3eb3c5-b0c1-4713-ef49-eaeaeeab741e"
   },
   "outputs": [
    {
     "data": {
      "text/html": [
       "<div>\n",
       "<style scoped>\n",
       "    .dataframe tbody tr th:only-of-type {\n",
       "        vertical-align: middle;\n",
       "    }\n",
       "\n",
       "    .dataframe tbody tr th {\n",
       "        vertical-align: top;\n",
       "    }\n",
       "\n",
       "    .dataframe thead th {\n",
       "        text-align: right;\n",
       "    }\n",
       "</style>\n",
       "<table border=\"1\" class=\"dataframe\">\n",
       "  <thead>\n",
       "    <tr style=\"text-align: right;\">\n",
       "      <th></th>\n",
       "      <th>precision</th>\n",
       "      <th>recall</th>\n",
       "      <th>f1-score</th>\n",
       "      <th>support</th>\n",
       "      <th>movie_train</th>\n",
       "      <th>movie_test</th>\n",
       "    </tr>\n",
       "  </thead>\n",
       "  <tbody>\n",
       "    <tr>\n",
       "      <th>0</th>\n",
       "      <td>0.958812</td>\n",
       "      <td>0.971272</td>\n",
       "      <td>0.965002</td>\n",
       "      <td>1462.000000</td>\n",
       "      <td>South_Park,Django_Unchained,Pulp_Fiction,Amerr...</td>\n",
       "      <td>BlacKkKlansman</td>\n",
       "    </tr>\n",
       "    <tr>\n",
       "      <th>1</th>\n",
       "      <td>0.743902</td>\n",
       "      <td>0.666667</td>\n",
       "      <td>0.703170</td>\n",
       "      <td>183.000000</td>\n",
       "      <td>South_Park,Django_Unchained,Pulp_Fiction,Amerr...</td>\n",
       "      <td>BlacKkKlansman</td>\n",
       "    </tr>\n",
       "    <tr>\n",
       "      <th>accuracy</th>\n",
       "      <td>0.937386</td>\n",
       "      <td>0.937386</td>\n",
       "      <td>0.937386</td>\n",
       "      <td>0.937386</td>\n",
       "      <td>South_Park,Django_Unchained,Pulp_Fiction,Amerr...</td>\n",
       "      <td>BlacKkKlansman</td>\n",
       "    </tr>\n",
       "    <tr>\n",
       "      <th>macro avg</th>\n",
       "      <td>0.851357</td>\n",
       "      <td>0.818969</td>\n",
       "      <td>0.834086</td>\n",
       "      <td>1645.000000</td>\n",
       "      <td>South_Park,Django_Unchained,Pulp_Fiction,Amerr...</td>\n",
       "      <td>BlacKkKlansman</td>\n",
       "    </tr>\n",
       "    <tr>\n",
       "      <th>weighted avg</th>\n",
       "      <td>0.934904</td>\n",
       "      <td>0.937386</td>\n",
       "      <td>0.935874</td>\n",
       "      <td>1645.000000</td>\n",
       "      <td>South_Park,Django_Unchained,Pulp_Fiction,Amerr...</td>\n",
       "      <td>BlacKkKlansman</td>\n",
       "    </tr>\n",
       "  </tbody>\n",
       "</table>\n",
       "</div>"
      ],
      "text/plain": [
       "              precision  ...      movie_test\n",
       "0              0.958812  ...  BlacKkKlansman\n",
       "1              0.743902  ...  BlacKkKlansman\n",
       "accuracy       0.937386  ...  BlacKkKlansman\n",
       "macro avg      0.851357  ...  BlacKkKlansman\n",
       "weighted avg   0.934904  ...  BlacKkKlansman\n",
       "\n",
       "[5 rows x 6 columns]"
      ]
     },
     "execution_count": 27,
     "metadata": {
      "tags": []
     },
     "output_type": "execute_result"
    }
   ],
   "source": [
    "df_main.head()"
   ]
  },
  {
   "cell_type": "code",
   "execution_count": 28,
   "metadata": {
    "id": "NRGObHolGHHF"
   },
   "outputs": [],
   "source": [
    "def get_precision_recall_f1(category, result_df):\n",
    "    precision = result_df[result_df.label==category].precision.mean()\n",
    "    recall = result_df[result_df.label==category].recall.mean()\n",
    "    f1 = result_df[result_df.label==category]['f1-score'].mean()\n",
    "    \n",
    "    return {'label': category, 'precision': precision, 'recall': recall, 'f1': f1}"
   ]
  },
  {
   "cell_type": "code",
   "execution_count": 29,
   "metadata": {
    "id": "vj_ZEFYdRdF4"
   },
   "outputs": [],
   "source": [
    "df_cv= pd.read_csv('cross_fold_results_foxnews_finetune_6epochs.csv')"
   ]
  },
  {
   "cell_type": "code",
   "execution_count": 30,
   "metadata": {
    "colab": {
     "base_uri": "https://localhost:8080/",
     "height": 274
    },
    "id": "SnXkEFJlmfSU",
    "outputId": "487a7bf7-94ff-4b02-81c8-d14a0726cb50"
   },
   "outputs": [
    {
     "data": {
      "text/html": [
       "<div>\n",
       "<style scoped>\n",
       "    .dataframe tbody tr th:only-of-type {\n",
       "        vertical-align: middle;\n",
       "    }\n",
       "\n",
       "    .dataframe tbody tr th {\n",
       "        vertical-align: top;\n",
       "    }\n",
       "\n",
       "    .dataframe thead th {\n",
       "        text-align: right;\n",
       "    }\n",
       "</style>\n",
       "<table border=\"1\" class=\"dataframe\">\n",
       "  <thead>\n",
       "    <tr style=\"text-align: right;\">\n",
       "      <th></th>\n",
       "      <th>label</th>\n",
       "      <th>precision</th>\n",
       "      <th>recall</th>\n",
       "      <th>f1-score</th>\n",
       "      <th>support</th>\n",
       "      <th>movie_train</th>\n",
       "      <th>movie_test</th>\n",
       "    </tr>\n",
       "  </thead>\n",
       "  <tbody>\n",
       "    <tr>\n",
       "      <th>0</th>\n",
       "      <td>0</td>\n",
       "      <td>0.958812</td>\n",
       "      <td>0.971272</td>\n",
       "      <td>0.965002</td>\n",
       "      <td>1462.000000</td>\n",
       "      <td>South_Park,Django_Unchained,Pulp_Fiction,Amerr...</td>\n",
       "      <td>BlacKkKlansman</td>\n",
       "    </tr>\n",
       "    <tr>\n",
       "      <th>1</th>\n",
       "      <td>1</td>\n",
       "      <td>0.743902</td>\n",
       "      <td>0.666667</td>\n",
       "      <td>0.703170</td>\n",
       "      <td>183.000000</td>\n",
       "      <td>South_Park,Django_Unchained,Pulp_Fiction,Amerr...</td>\n",
       "      <td>BlacKkKlansman</td>\n",
       "    </tr>\n",
       "    <tr>\n",
       "      <th>2</th>\n",
       "      <td>accuracy</td>\n",
       "      <td>0.937386</td>\n",
       "      <td>0.937386</td>\n",
       "      <td>0.937386</td>\n",
       "      <td>0.937386</td>\n",
       "      <td>South_Park,Django_Unchained,Pulp_Fiction,Amerr...</td>\n",
       "      <td>BlacKkKlansman</td>\n",
       "    </tr>\n",
       "    <tr>\n",
       "      <th>3</th>\n",
       "      <td>macro avg</td>\n",
       "      <td>0.851357</td>\n",
       "      <td>0.818969</td>\n",
       "      <td>0.834086</td>\n",
       "      <td>1645.000000</td>\n",
       "      <td>South_Park,Django_Unchained,Pulp_Fiction,Amerr...</td>\n",
       "      <td>BlacKkKlansman</td>\n",
       "    </tr>\n",
       "    <tr>\n",
       "      <th>4</th>\n",
       "      <td>weighted avg</td>\n",
       "      <td>0.934904</td>\n",
       "      <td>0.937386</td>\n",
       "      <td>0.935874</td>\n",
       "      <td>1645.000000</td>\n",
       "      <td>South_Park,Django_Unchained,Pulp_Fiction,Amerr...</td>\n",
       "      <td>BlacKkKlansman</td>\n",
       "    </tr>\n",
       "  </tbody>\n",
       "</table>\n",
       "</div>"
      ],
      "text/plain": [
       "          label  ...      movie_test\n",
       "0             0  ...  BlacKkKlansman\n",
       "1             1  ...  BlacKkKlansman\n",
       "2      accuracy  ...  BlacKkKlansman\n",
       "3     macro avg  ...  BlacKkKlansman\n",
       "4  weighted avg  ...  BlacKkKlansman\n",
       "\n",
       "[5 rows x 7 columns]"
      ]
     },
     "execution_count": 30,
     "metadata": {
      "tags": []
     },
     "output_type": "execute_result"
    }
   ],
   "source": [
    "df_cv = df_cv.rename(columns={'Unnamed: 0': 'label', 'b': 'Y'})\n",
    "df_cv.head()"
   ]
  },
  {
   "cell_type": "code",
   "execution_count": 31,
   "metadata": {
    "id": "42LOVWQeRm6P"
   },
   "outputs": [],
   "source": [
    "normal_dict = get_precision_recall_f1('0', df_cv)\n",
    "offensive_dict = get_precision_recall_f1('1',df_cv)"
   ]
  },
  {
   "cell_type": "code",
   "execution_count": 32,
   "metadata": {
    "colab": {
     "base_uri": "https://localhost:8080/",
     "height": 110
    },
    "id": "9xnoFFrOmgu1",
    "outputId": "78d6709b-e46b-41dd-ae52-15940f6b7788"
   },
   "outputs": [
    {
     "data": {
      "text/html": [
       "<div>\n",
       "<style scoped>\n",
       "    .dataframe tbody tr th:only-of-type {\n",
       "        vertical-align: middle;\n",
       "    }\n",
       "\n",
       "    .dataframe tbody tr th {\n",
       "        vertical-align: top;\n",
       "    }\n",
       "\n",
       "    .dataframe thead th {\n",
       "        text-align: right;\n",
       "    }\n",
       "</style>\n",
       "<table border=\"1\" class=\"dataframe\">\n",
       "  <thead>\n",
       "    <tr style=\"text-align: right;\">\n",
       "      <th></th>\n",
       "      <th>label</th>\n",
       "      <th>precision</th>\n",
       "      <th>recall</th>\n",
       "      <th>f1</th>\n",
       "    </tr>\n",
       "  </thead>\n",
       "  <tbody>\n",
       "    <tr>\n",
       "      <th>0</th>\n",
       "      <td>0</td>\n",
       "      <td>0.970583</td>\n",
       "      <td>0.968804</td>\n",
       "      <td>0.969607</td>\n",
       "    </tr>\n",
       "    <tr>\n",
       "      <th>1</th>\n",
       "      <td>1</td>\n",
       "      <td>0.818139</td>\n",
       "      <td>0.820940</td>\n",
       "      <td>0.817382</td>\n",
       "    </tr>\n",
       "  </tbody>\n",
       "</table>\n",
       "</div>"
      ],
      "text/plain": [
       "  label  precision    recall        f1\n",
       "0     0   0.970583  0.968804  0.969607\n",
       "1     1   0.818139  0.820940  0.817382"
      ]
     },
     "execution_count": 32,
     "metadata": {
      "tags": []
     },
     "output_type": "execute_result"
    }
   ],
   "source": [
    "df_result = pd.DataFrame([normal_dict, offensive_dict])\n",
    "df_result"
   ]
  },
  {
   "cell_type": "code",
   "execution_count": 33,
   "metadata": {
    "colab": {
     "base_uri": "https://localhost:8080/"
    },
    "id": "cLHfd4BFnloL",
    "outputId": "02f93085-b603-4506-f222-c2480caec521"
   },
   "outputs": [
    {
     "name": "stdout",
     "output_type": "stream",
     "text": [
      "{'0': {'precision': 0.9588116137744767, 'recall': 0.9712722298221614, 'f1-score': 0.9650016989466531, 'support': 1462}, '1': {'precision': 0.7439024390243902, 'recall': 0.6666666666666666, 'f1-score': 0.7031700288184437, 'support': 183}, 'accuracy': 0.9373860182370821, 'macro avg': {'precision': 0.8513570263994334, 'recall': 0.8189694482444141, 'f1-score': 0.8340858638825484, 'support': 1645}, 'weighted avg': {'precision': 0.9349037846077497, 'recall': 0.9373860182370821, 'f1-score': 0.935873920446068, 'support': 1645}}\n",
      "{'0': {'precision': 0.9525909592061742, 'recall': 0.9707865168539326, 'f1-score': 0.9616026711185309, 'support': 890}, '1': {'precision': 0.8129496402877698, 'recall': 0.7243589743589743, 'f1-score': 0.7661016949152544, 'support': 156}, 'accuracy': 0.9340344168260039, 'macro avg': {'precision': 0.882770299746972, 'recall': 0.8475727456064535, 'f1-score': 0.8638521830168926, 'support': 1046}, 'weighted avg': {'precision': 0.9317649116428175, 'recall': 0.9340344168260039, 'f1-score': 0.9324457377650786, 'support': 1046}}\n",
      "{'0': {'precision': 0.982973149967256, 'recall': 0.9677627337201805, 'f1-score': 0.9753086419753088, 'support': 1551}, '1': {'precision': 0.7727272727272727, 'recall': 0.8673469387755102, 'f1-score': 0.8173076923076923, 'support': 196}, 'accuracy': 0.95649685174585, 'macro avg': {'precision': 0.8778502113472644, 'recall': 0.9175548362478454, 'f1-score': 0.8963081671415005, 'support': 1747}, 'weighted avg': {'precision': 0.9593851751881852, 'recall': 0.95649685174585, 'f1-score': 0.9575821473360112, 'support': 1747}}\n",
      "{'0': {'precision': 0.9813664596273292, 'recall': 0.9482370592648162, 'f1-score': 0.964517359786341, 'support': 1333}, '1': {'precision': 0.7934131736526946, 'recall': 0.916955017301038, 'f1-score': 0.8507223113964686, 'support': 289}, 'accuracy': 0.9426633785450061, 'macro avg': {'precision': 0.8873898166400118, 'recall': 0.932596038282927, 'f1-score': 0.9076198355914048, 'support': 1622}, 'weighted avg': {'precision': 0.9478778655171753, 'recall': 0.9426633785450061, 'f1-score': 0.9442419165158892, 'support': 1622}}\n",
      "{'0': {'precision': 0.9644208932626798, 'recall': 0.9769938650306749, 'f1-score': 0.9706666666666667, 'support': 1304}, '1': {'precision': 0.8770491803278688, 'recall': 0.8199233716475096, 'f1-score': 0.8475247524752475, 'support': 261}, 'accuracy': 0.9507987220447285, 'macro avg': {'precision': 0.9207350367952742, 'recall': 0.8984586183390922, 'f1-score': 0.9090957095709571, 'support': 1565}, 'weighted avg': {'precision': 0.949849636345117, 'recall': 0.9507987220447285, 'f1-score': 0.9501299001465642, 'support': 1565}}\n",
      "{'0': {'precision': 0.9833333333333333, 'recall': 0.9777687954729184, 'f1-score': 0.9805431698419131, 'support': 2474}, '1': {'precision': 0.9087893864013267, 'recall': 0.9303904923599321, 'f1-score': 0.9194630872483222, 'support': 589}, 'accuracy': 0.9686581782566112, 'macro avg': {'precision': 0.94606135986733, 'recall': 0.9540796439164252, 'f1-score': 0.9500031285451176, 'support': 3063}, 'weighted avg': {'precision': 0.9689988949582266, 'recall': 0.9686581782566112, 'f1-score': 0.9687977670839553, 'support': 3063}}\n"
     ]
    }
   ],
   "source": [
    "for cr in classification_report:\n",
    "  print(cr)"
   ]
  },
  {
   "cell_type": "code",
   "execution_count": 33,
   "metadata": {
    "id": "6yd9PocUIbKy"
   },
   "outputs": [],
   "source": []
  }
 ],
 "metadata": {
  "accelerator": "GPU",
  "colab": {
   "collapsed_sections": [],
   "name": "bert_finetune_cf_fox (1).ipynb",
   "provenance": [],
   "toc_visible": true
  },
  "kernelspec": {
   "display_name": "Python 3",
   "language": "python",
   "name": "python3"
  },
  "language_info": {
   "codemirror_mode": {
    "name": "ipython",
    "version": 3
   },
   "file_extension": ".py",
   "mimetype": "text/x-python",
   "name": "python",
   "nbconvert_exporter": "python",
   "pygments_lexer": "ipython3",
   "version": "3.8.3"
  },
  "widgets": {
   "application/vnd.jupyter.widget-state+json": {
    "018af23c0e1c41a5860c6d26ed31335a": {
     "model_module": "@jupyter-widgets/base",
     "model_name": "LayoutModel",
     "state": {
      "_model_module": "@jupyter-widgets/base",
      "_model_module_version": "1.2.0",
      "_model_name": "LayoutModel",
      "_view_count": null,
      "_view_module": "@jupyter-widgets/base",
      "_view_module_version": "1.2.0",
      "_view_name": "LayoutView",
      "align_content": null,
      "align_items": null,
      "align_self": null,
      "border": null,
      "bottom": null,
      "display": null,
      "flex": null,
      "flex_flow": null,
      "grid_area": null,
      "grid_auto_columns": null,
      "grid_auto_flow": null,
      "grid_auto_rows": null,
      "grid_column": null,
      "grid_gap": null,
      "grid_row": null,
      "grid_template_areas": null,
      "grid_template_columns": null,
      "grid_template_rows": null,
      "height": null,
      "justify_content": null,
      "justify_items": null,
      "left": null,
      "margin": null,
      "max_height": null,
      "max_width": null,
      "min_height": null,
      "min_width": null,
      "object_fit": null,
      "object_position": null,
      "order": null,
      "overflow": null,
      "overflow_x": null,
      "overflow_y": null,
      "padding": null,
      "right": null,
      "top": null,
      "visibility": null,
      "width": null
     }
    },
    "18ab4645af084201a7565fc62c474e74": {
     "model_module": "@jupyter-widgets/base",
     "model_name": "LayoutModel",
     "state": {
      "_model_module": "@jupyter-widgets/base",
      "_model_module_version": "1.2.0",
      "_model_name": "LayoutModel",
      "_view_count": null,
      "_view_module": "@jupyter-widgets/base",
      "_view_module_version": "1.2.0",
      "_view_name": "LayoutView",
      "align_content": null,
      "align_items": null,
      "align_self": null,
      "border": null,
      "bottom": null,
      "display": null,
      "flex": null,
      "flex_flow": null,
      "grid_area": null,
      "grid_auto_columns": null,
      "grid_auto_flow": null,
      "grid_auto_rows": null,
      "grid_column": null,
      "grid_gap": null,
      "grid_row": null,
      "grid_template_areas": null,
      "grid_template_columns": null,
      "grid_template_rows": null,
      "height": null,
      "justify_content": null,
      "justify_items": null,
      "left": null,
      "margin": null,
      "max_height": null,
      "max_width": null,
      "min_height": null,
      "min_width": null,
      "object_fit": null,
      "object_position": null,
      "order": null,
      "overflow": null,
      "overflow_x": null,
      "overflow_y": null,
      "padding": null,
      "right": null,
      "top": null,
      "visibility": null,
      "width": null
     }
    },
    "18e79b86ec534c1aa5d04baddf095800": {
     "model_module": "@jupyter-widgets/controls",
     "model_name": "ProgressStyleModel",
     "state": {
      "_model_module": "@jupyter-widgets/controls",
      "_model_module_version": "1.5.0",
      "_model_name": "ProgressStyleModel",
      "_view_count": null,
      "_view_module": "@jupyter-widgets/base",
      "_view_module_version": "1.2.0",
      "_view_name": "StyleView",
      "bar_color": null,
      "description_width": "initial"
     }
    },
    "1b9dba8a904348c88f14c4fc6d29bf27": {
     "model_module": "@jupyter-widgets/controls",
     "model_name": "DescriptionStyleModel",
     "state": {
      "_model_module": "@jupyter-widgets/controls",
      "_model_module_version": "1.5.0",
      "_model_name": "DescriptionStyleModel",
      "_view_count": null,
      "_view_module": "@jupyter-widgets/base",
      "_view_module_version": "1.2.0",
      "_view_name": "StyleView",
      "description_width": ""
     }
    },
    "208e1302ecdd4941983ac883497875c8": {
     "model_module": "@jupyter-widgets/base",
     "model_name": "LayoutModel",
     "state": {
      "_model_module": "@jupyter-widgets/base",
      "_model_module_version": "1.2.0",
      "_model_name": "LayoutModel",
      "_view_count": null,
      "_view_module": "@jupyter-widgets/base",
      "_view_module_version": "1.2.0",
      "_view_name": "LayoutView",
      "align_content": null,
      "align_items": null,
      "align_self": null,
      "border": null,
      "bottom": null,
      "display": null,
      "flex": null,
      "flex_flow": null,
      "grid_area": null,
      "grid_auto_columns": null,
      "grid_auto_flow": null,
      "grid_auto_rows": null,
      "grid_column": null,
      "grid_gap": null,
      "grid_row": null,
      "grid_template_areas": null,
      "grid_template_columns": null,
      "grid_template_rows": null,
      "height": null,
      "justify_content": null,
      "justify_items": null,
      "left": null,
      "margin": null,
      "max_height": null,
      "max_width": null,
      "min_height": null,
      "min_width": null,
      "object_fit": null,
      "object_position": null,
      "order": null,
      "overflow": null,
      "overflow_x": null,
      "overflow_y": null,
      "padding": null,
      "right": null,
      "top": null,
      "visibility": null,
      "width": null
     }
    },
    "23901891710f41bfb4c34ade886b35e2": {
     "model_module": "@jupyter-widgets/controls",
     "model_name": "FloatProgressModel",
     "state": {
      "_dom_classes": [],
      "_model_module": "@jupyter-widgets/controls",
      "_model_module_version": "1.5.0",
      "_model_name": "FloatProgressModel",
      "_view_count": null,
      "_view_module": "@jupyter-widgets/controls",
      "_view_module_version": "1.5.0",
      "_view_name": "ProgressView",
      "bar_style": "success",
      "description": "Downloading: 100%",
      "description_tooltip": null,
      "layout": "IPY_MODEL_9e2ec43cba274719a8ba357a8c249c74",
      "max": 536063208,
      "min": 0,
      "orientation": "horizontal",
      "style": "IPY_MODEL_bc1979610b1d493cbcb2e12038ac1096",
      "value": 536063208
     }
    },
    "319472eece08452182212a55b2e83d59": {
     "model_module": "@jupyter-widgets/controls",
     "model_name": "HTMLModel",
     "state": {
      "_dom_classes": [],
      "_model_module": "@jupyter-widgets/controls",
      "_model_module_version": "1.5.0",
      "_model_name": "HTMLModel",
      "_view_count": null,
      "_view_module": "@jupyter-widgets/controls",
      "_view_module_version": "1.5.0",
      "_view_name": "HTMLView",
      "description": "",
      "description_tooltip": null,
      "layout": "IPY_MODEL_c6f3579137b14a55b7d3c03c635598ed",
      "placeholder": "​",
      "style": "IPY_MODEL_1b9dba8a904348c88f14c4fc6d29bf27",
      "value": " 466k/466k [00:00&lt;00:00, 499kB/s]"
     }
    },
    "4eb10645171042a5a2df32d93cd28140": {
     "model_module": "@jupyter-widgets/base",
     "model_name": "LayoutModel",
     "state": {
      "_model_module": "@jupyter-widgets/base",
      "_model_module_version": "1.2.0",
      "_model_name": "LayoutModel",
      "_view_count": null,
      "_view_module": "@jupyter-widgets/base",
      "_view_module_version": "1.2.0",
      "_view_name": "LayoutView",
      "align_content": null,
      "align_items": null,
      "align_self": null,
      "border": null,
      "bottom": null,
      "display": null,
      "flex": null,
      "flex_flow": null,
      "grid_area": null,
      "grid_auto_columns": null,
      "grid_auto_flow": null,
      "grid_auto_rows": null,
      "grid_column": null,
      "grid_gap": null,
      "grid_row": null,
      "grid_template_areas": null,
      "grid_template_columns": null,
      "grid_template_rows": null,
      "height": null,
      "justify_content": null,
      "justify_items": null,
      "left": null,
      "margin": null,
      "max_height": null,
      "max_width": null,
      "min_height": null,
      "min_width": null,
      "object_fit": null,
      "object_position": null,
      "order": null,
      "overflow": null,
      "overflow_x": null,
      "overflow_y": null,
      "padding": null,
      "right": null,
      "top": null,
      "visibility": null,
      "width": null
     }
    },
    "50b883f371184a1abbb302839d71ba70": {
     "model_module": "@jupyter-widgets/controls",
     "model_name": "HTMLModel",
     "state": {
      "_dom_classes": [],
      "_model_module": "@jupyter-widgets/controls",
      "_model_module_version": "1.5.0",
      "_model_name": "HTMLModel",
      "_view_count": null,
      "_view_module": "@jupyter-widgets/controls",
      "_view_module_version": "1.5.0",
      "_view_name": "HTMLView",
      "description": "",
      "description_tooltip": null,
      "layout": "IPY_MODEL_208e1302ecdd4941983ac883497875c8",
      "placeholder": "​",
      "style": "IPY_MODEL_905af7cc13ea4c479458d568e7738c48",
      "value": " 536M/536M [00:16&lt;00:00, 31.8MB/s]"
     }
    },
    "5fd8471538284fcbbadb1ffe09daab30": {
     "model_module": "@jupyter-widgets/controls",
     "model_name": "DescriptionStyleModel",
     "state": {
      "_model_module": "@jupyter-widgets/controls",
      "_model_module_version": "1.5.0",
      "_model_name": "DescriptionStyleModel",
      "_view_count": null,
      "_view_module": "@jupyter-widgets/base",
      "_view_module_version": "1.2.0",
      "_view_name": "StyleView",
      "description_width": ""
     }
    },
    "62b34b1016b34451b33e846e18c6b297": {
     "model_module": "@jupyter-widgets/controls",
     "model_name": "HBoxModel",
     "state": {
      "_dom_classes": [],
      "_model_module": "@jupyter-widgets/controls",
      "_model_module_version": "1.5.0",
      "_model_name": "HBoxModel",
      "_view_count": null,
      "_view_module": "@jupyter-widgets/controls",
      "_view_module_version": "1.5.0",
      "_view_name": "HBoxView",
      "box_style": "",
      "children": [
       "IPY_MODEL_ba4b4f7ddfda4566808705c7b978aa0f",
       "IPY_MODEL_7ac42160461641aeb83717caa12b85d9"
      ],
      "layout": "IPY_MODEL_955b0cb00d9a4a74aa3bc5f764639760"
     }
    },
    "6a3b9130f73c4fb6850d53408ceb88e1": {
     "model_module": "@jupyter-widgets/controls",
     "model_name": "HTMLModel",
     "state": {
      "_dom_classes": [],
      "_model_module": "@jupyter-widgets/controls",
      "_model_module_version": "1.5.0",
      "_model_name": "HTMLModel",
      "_view_count": null,
      "_view_module": "@jupyter-widgets/controls",
      "_view_module_version": "1.5.0",
      "_view_name": "HTMLView",
      "description": "",
      "description_tooltip": null,
      "layout": "IPY_MODEL_9823602d2afe4d31ba2cb07a119bf6b2",
      "placeholder": "​",
      "style": "IPY_MODEL_72ac323e9f9443b2a074683a61267913",
      "value": " 28.0/28.0 [00:02&lt;00:00, 13.1B/s]"
     }
    },
    "72ac323e9f9443b2a074683a61267913": {
     "model_module": "@jupyter-widgets/controls",
     "model_name": "DescriptionStyleModel",
     "state": {
      "_model_module": "@jupyter-widgets/controls",
      "_model_module_version": "1.5.0",
      "_model_name": "DescriptionStyleModel",
      "_view_count": null,
      "_view_module": "@jupyter-widgets/base",
      "_view_module_version": "1.2.0",
      "_view_name": "StyleView",
      "description_width": ""
     }
    },
    "748256880cc84d1a911f738c94b9f9aa": {
     "model_module": "@jupyter-widgets/controls",
     "model_name": "HBoxModel",
     "state": {
      "_dom_classes": [],
      "_model_module": "@jupyter-widgets/controls",
      "_model_module_version": "1.5.0",
      "_model_name": "HBoxModel",
      "_view_count": null,
      "_view_module": "@jupyter-widgets/controls",
      "_view_module_version": "1.5.0",
      "_view_name": "HBoxView",
      "box_style": "",
      "children": [
       "IPY_MODEL_23901891710f41bfb4c34ade886b35e2",
       "IPY_MODEL_50b883f371184a1abbb302839d71ba70"
      ],
      "layout": "IPY_MODEL_c8a36d8f7289492fba8745dad912cee2"
     }
    },
    "7ac42160461641aeb83717caa12b85d9": {
     "model_module": "@jupyter-widgets/controls",
     "model_name": "HTMLModel",
     "state": {
      "_dom_classes": [],
      "_model_module": "@jupyter-widgets/controls",
      "_model_module_version": "1.5.0",
      "_model_name": "HTMLModel",
      "_view_count": null,
      "_view_module": "@jupyter-widgets/controls",
      "_view_module_version": "1.5.0",
      "_view_name": "HTMLView",
      "description": "",
      "description_tooltip": null,
      "layout": "IPY_MODEL_18ab4645af084201a7565fc62c474e74",
      "placeholder": "​",
      "style": "IPY_MODEL_5fd8471538284fcbbadb1ffe09daab30",
      "value": " 232k/232k [00:02&lt;00:00, 77.3kB/s]"
     }
    },
    "861cfa25fe274e4cb528939af2c0b905": {
     "model_module": "@jupyter-widgets/controls",
     "model_name": "ProgressStyleModel",
     "state": {
      "_model_module": "@jupyter-widgets/controls",
      "_model_module_version": "1.5.0",
      "_model_name": "ProgressStyleModel",
      "_view_count": null,
      "_view_module": "@jupyter-widgets/base",
      "_view_module_version": "1.2.0",
      "_view_name": "StyleView",
      "bar_color": null,
      "description_width": "initial"
     }
    },
    "8f35fa5210024620bf6956f6d97f7b8b": {
     "model_module": "@jupyter-widgets/controls",
     "model_name": "HBoxModel",
     "state": {
      "_dom_classes": [],
      "_model_module": "@jupyter-widgets/controls",
      "_model_module_version": "1.5.0",
      "_model_name": "HBoxModel",
      "_view_count": null,
      "_view_module": "@jupyter-widgets/controls",
      "_view_module_version": "1.5.0",
      "_view_name": "HBoxView",
      "box_style": "",
      "children": [
       "IPY_MODEL_d0d4b882745c42c4994b0cbc1f9dafb9",
       "IPY_MODEL_319472eece08452182212a55b2e83d59"
      ],
      "layout": "IPY_MODEL_d90779b671b04b8092f00c2a374711dd"
     }
    },
    "905af7cc13ea4c479458d568e7738c48": {
     "model_module": "@jupyter-widgets/controls",
     "model_name": "DescriptionStyleModel",
     "state": {
      "_model_module": "@jupyter-widgets/controls",
      "_model_module_version": "1.5.0",
      "_model_name": "DescriptionStyleModel",
      "_view_count": null,
      "_view_module": "@jupyter-widgets/base",
      "_view_module_version": "1.2.0",
      "_view_name": "StyleView",
      "description_width": ""
     }
    },
    "9150dea2a4544278b076767b5e388fea": {
     "model_module": "@jupyter-widgets/base",
     "model_name": "LayoutModel",
     "state": {
      "_model_module": "@jupyter-widgets/base",
      "_model_module_version": "1.2.0",
      "_model_name": "LayoutModel",
      "_view_count": null,
      "_view_module": "@jupyter-widgets/base",
      "_view_module_version": "1.2.0",
      "_view_name": "LayoutView",
      "align_content": null,
      "align_items": null,
      "align_self": null,
      "border": null,
      "bottom": null,
      "display": null,
      "flex": null,
      "flex_flow": null,
      "grid_area": null,
      "grid_auto_columns": null,
      "grid_auto_flow": null,
      "grid_auto_rows": null,
      "grid_column": null,
      "grid_gap": null,
      "grid_row": null,
      "grid_template_areas": null,
      "grid_template_columns": null,
      "grid_template_rows": null,
      "height": null,
      "justify_content": null,
      "justify_items": null,
      "left": null,
      "margin": null,
      "max_height": null,
      "max_width": null,
      "min_height": null,
      "min_width": null,
      "object_fit": null,
      "object_position": null,
      "order": null,
      "overflow": null,
      "overflow_x": null,
      "overflow_y": null,
      "padding": null,
      "right": null,
      "top": null,
      "visibility": null,
      "width": null
     }
    },
    "955b0cb00d9a4a74aa3bc5f764639760": {
     "model_module": "@jupyter-widgets/base",
     "model_name": "LayoutModel",
     "state": {
      "_model_module": "@jupyter-widgets/base",
      "_model_module_version": "1.2.0",
      "_model_name": "LayoutModel",
      "_view_count": null,
      "_view_module": "@jupyter-widgets/base",
      "_view_module_version": "1.2.0",
      "_view_name": "LayoutView",
      "align_content": null,
      "align_items": null,
      "align_self": null,
      "border": null,
      "bottom": null,
      "display": null,
      "flex": null,
      "flex_flow": null,
      "grid_area": null,
      "grid_auto_columns": null,
      "grid_auto_flow": null,
      "grid_auto_rows": null,
      "grid_column": null,
      "grid_gap": null,
      "grid_row": null,
      "grid_template_areas": null,
      "grid_template_columns": null,
      "grid_template_rows": null,
      "height": null,
      "justify_content": null,
      "justify_items": null,
      "left": null,
      "margin": null,
      "max_height": null,
      "max_width": null,
      "min_height": null,
      "min_width": null,
      "object_fit": null,
      "object_position": null,
      "order": null,
      "overflow": null,
      "overflow_x": null,
      "overflow_y": null,
      "padding": null,
      "right": null,
      "top": null,
      "visibility": null,
      "width": null
     }
    },
    "9823602d2afe4d31ba2cb07a119bf6b2": {
     "model_module": "@jupyter-widgets/base",
     "model_name": "LayoutModel",
     "state": {
      "_model_module": "@jupyter-widgets/base",
      "_model_module_version": "1.2.0",
      "_model_name": "LayoutModel",
      "_view_count": null,
      "_view_module": "@jupyter-widgets/base",
      "_view_module_version": "1.2.0",
      "_view_name": "LayoutView",
      "align_content": null,
      "align_items": null,
      "align_self": null,
      "border": null,
      "bottom": null,
      "display": null,
      "flex": null,
      "flex_flow": null,
      "grid_area": null,
      "grid_auto_columns": null,
      "grid_auto_flow": null,
      "grid_auto_rows": null,
      "grid_column": null,
      "grid_gap": null,
      "grid_row": null,
      "grid_template_areas": null,
      "grid_template_columns": null,
      "grid_template_rows": null,
      "height": null,
      "justify_content": null,
      "justify_items": null,
      "left": null,
      "margin": null,
      "max_height": null,
      "max_width": null,
      "min_height": null,
      "min_width": null,
      "object_fit": null,
      "object_position": null,
      "order": null,
      "overflow": null,
      "overflow_x": null,
      "overflow_y": null,
      "padding": null,
      "right": null,
      "top": null,
      "visibility": null,
      "width": null
     }
    },
    "9e2ec43cba274719a8ba357a8c249c74": {
     "model_module": "@jupyter-widgets/base",
     "model_name": "LayoutModel",
     "state": {
      "_model_module": "@jupyter-widgets/base",
      "_model_module_version": "1.2.0",
      "_model_name": "LayoutModel",
      "_view_count": null,
      "_view_module": "@jupyter-widgets/base",
      "_view_module_version": "1.2.0",
      "_view_name": "LayoutView",
      "align_content": null,
      "align_items": null,
      "align_self": null,
      "border": null,
      "bottom": null,
      "display": null,
      "flex": null,
      "flex_flow": null,
      "grid_area": null,
      "grid_auto_columns": null,
      "grid_auto_flow": null,
      "grid_auto_rows": null,
      "grid_column": null,
      "grid_gap": null,
      "grid_row": null,
      "grid_template_areas": null,
      "grid_template_columns": null,
      "grid_template_rows": null,
      "height": null,
      "justify_content": null,
      "justify_items": null,
      "left": null,
      "margin": null,
      "max_height": null,
      "max_width": null,
      "min_height": null,
      "min_width": null,
      "object_fit": null,
      "object_position": null,
      "order": null,
      "overflow": null,
      "overflow_x": null,
      "overflow_y": null,
      "padding": null,
      "right": null,
      "top": null,
      "visibility": null,
      "width": null
     }
    },
    "b072ed6c217f4b7ab7ef3398244806ef": {
     "model_module": "@jupyter-widgets/controls",
     "model_name": "HBoxModel",
     "state": {
      "_dom_classes": [],
      "_model_module": "@jupyter-widgets/controls",
      "_model_module_version": "1.5.0",
      "_model_name": "HBoxModel",
      "_view_count": null,
      "_view_module": "@jupyter-widgets/controls",
      "_view_module_version": "1.5.0",
      "_view_name": "HBoxView",
      "box_style": "",
      "children": [
       "IPY_MODEL_f49fb2a218d44c9082802973967451a9",
       "IPY_MODEL_6a3b9130f73c4fb6850d53408ceb88e1"
      ],
      "layout": "IPY_MODEL_4eb10645171042a5a2df32d93cd28140"
     }
    },
    "ba4b4f7ddfda4566808705c7b978aa0f": {
     "model_module": "@jupyter-widgets/controls",
     "model_name": "FloatProgressModel",
     "state": {
      "_dom_classes": [],
      "_model_module": "@jupyter-widgets/controls",
      "_model_module_version": "1.5.0",
      "_model_name": "FloatProgressModel",
      "_view_count": null,
      "_view_module": "@jupyter-widgets/controls",
      "_view_module_version": "1.5.0",
      "_view_name": "ProgressView",
      "bar_style": "success",
      "description": "Downloading: 100%",
      "description_tooltip": null,
      "layout": "IPY_MODEL_9150dea2a4544278b076767b5e388fea",
      "max": 231508,
      "min": 0,
      "orientation": "horizontal",
      "style": "IPY_MODEL_861cfa25fe274e4cb528939af2c0b905",
      "value": 231508
     }
    },
    "bc1979610b1d493cbcb2e12038ac1096": {
     "model_module": "@jupyter-widgets/controls",
     "model_name": "ProgressStyleModel",
     "state": {
      "_model_module": "@jupyter-widgets/controls",
      "_model_module_version": "1.5.0",
      "_model_name": "ProgressStyleModel",
      "_view_count": null,
      "_view_module": "@jupyter-widgets/base",
      "_view_module_version": "1.2.0",
      "_view_name": "StyleView",
      "bar_color": null,
      "description_width": "initial"
     }
    },
    "be379ac447c940a1ba9e90ca961aa874": {
     "model_module": "@jupyter-widgets/controls",
     "model_name": "DescriptionStyleModel",
     "state": {
      "_model_module": "@jupyter-widgets/controls",
      "_model_module_version": "1.5.0",
      "_model_name": "DescriptionStyleModel",
      "_view_count": null,
      "_view_module": "@jupyter-widgets/base",
      "_view_module_version": "1.2.0",
      "_view_name": "StyleView",
      "description_width": ""
     }
    },
    "c0510ac6fa0642dd98d13ba6ff3c622a": {
     "model_module": "@jupyter-widgets/controls",
     "model_name": "ProgressStyleModel",
     "state": {
      "_model_module": "@jupyter-widgets/controls",
      "_model_module_version": "1.5.0",
      "_model_name": "ProgressStyleModel",
      "_view_count": null,
      "_view_module": "@jupyter-widgets/base",
      "_view_module_version": "1.2.0",
      "_view_name": "StyleView",
      "bar_color": null,
      "description_width": "initial"
     }
    },
    "c1c29f48cd014df5b808d4aa965c393e": {
     "model_module": "@jupyter-widgets/base",
     "model_name": "LayoutModel",
     "state": {
      "_model_module": "@jupyter-widgets/base",
      "_model_module_version": "1.2.0",
      "_model_name": "LayoutModel",
      "_view_count": null,
      "_view_module": "@jupyter-widgets/base",
      "_view_module_version": "1.2.0",
      "_view_name": "LayoutView",
      "align_content": null,
      "align_items": null,
      "align_self": null,
      "border": null,
      "bottom": null,
      "display": null,
      "flex": null,
      "flex_flow": null,
      "grid_area": null,
      "grid_auto_columns": null,
      "grid_auto_flow": null,
      "grid_auto_rows": null,
      "grid_column": null,
      "grid_gap": null,
      "grid_row": null,
      "grid_template_areas": null,
      "grid_template_columns": null,
      "grid_template_rows": null,
      "height": null,
      "justify_content": null,
      "justify_items": null,
      "left": null,
      "margin": null,
      "max_height": null,
      "max_width": null,
      "min_height": null,
      "min_width": null,
      "object_fit": null,
      "object_position": null,
      "order": null,
      "overflow": null,
      "overflow_x": null,
      "overflow_y": null,
      "padding": null,
      "right": null,
      "top": null,
      "visibility": null,
      "width": null
     }
    },
    "c6f3579137b14a55b7d3c03c635598ed": {
     "model_module": "@jupyter-widgets/base",
     "model_name": "LayoutModel",
     "state": {
      "_model_module": "@jupyter-widgets/base",
      "_model_module_version": "1.2.0",
      "_model_name": "LayoutModel",
      "_view_count": null,
      "_view_module": "@jupyter-widgets/base",
      "_view_module_version": "1.2.0",
      "_view_name": "LayoutView",
      "align_content": null,
      "align_items": null,
      "align_self": null,
      "border": null,
      "bottom": null,
      "display": null,
      "flex": null,
      "flex_flow": null,
      "grid_area": null,
      "grid_auto_columns": null,
      "grid_auto_flow": null,
      "grid_auto_rows": null,
      "grid_column": null,
      "grid_gap": null,
      "grid_row": null,
      "grid_template_areas": null,
      "grid_template_columns": null,
      "grid_template_rows": null,
      "height": null,
      "justify_content": null,
      "justify_items": null,
      "left": null,
      "margin": null,
      "max_height": null,
      "max_width": null,
      "min_height": null,
      "min_width": null,
      "object_fit": null,
      "object_position": null,
      "order": null,
      "overflow": null,
      "overflow_x": null,
      "overflow_y": null,
      "padding": null,
      "right": null,
      "top": null,
      "visibility": null,
      "width": null
     }
    },
    "c8a36d8f7289492fba8745dad912cee2": {
     "model_module": "@jupyter-widgets/base",
     "model_name": "LayoutModel",
     "state": {
      "_model_module": "@jupyter-widgets/base",
      "_model_module_version": "1.2.0",
      "_model_name": "LayoutModel",
      "_view_count": null,
      "_view_module": "@jupyter-widgets/base",
      "_view_module_version": "1.2.0",
      "_view_name": "LayoutView",
      "align_content": null,
      "align_items": null,
      "align_self": null,
      "border": null,
      "bottom": null,
      "display": null,
      "flex": null,
      "flex_flow": null,
      "grid_area": null,
      "grid_auto_columns": null,
      "grid_auto_flow": null,
      "grid_auto_rows": null,
      "grid_column": null,
      "grid_gap": null,
      "grid_row": null,
      "grid_template_areas": null,
      "grid_template_columns": null,
      "grid_template_rows": null,
      "height": null,
      "justify_content": null,
      "justify_items": null,
      "left": null,
      "margin": null,
      "max_height": null,
      "max_width": null,
      "min_height": null,
      "min_width": null,
      "object_fit": null,
      "object_position": null,
      "order": null,
      "overflow": null,
      "overflow_x": null,
      "overflow_y": null,
      "padding": null,
      "right": null,
      "top": null,
      "visibility": null,
      "width": null
     }
    },
    "ce84659da28642f586f9337220c22eb9": {
     "model_module": "@jupyter-widgets/base",
     "model_name": "LayoutModel",
     "state": {
      "_model_module": "@jupyter-widgets/base",
      "_model_module_version": "1.2.0",
      "_model_name": "LayoutModel",
      "_view_count": null,
      "_view_module": "@jupyter-widgets/base",
      "_view_module_version": "1.2.0",
      "_view_name": "LayoutView",
      "align_content": null,
      "align_items": null,
      "align_self": null,
      "border": null,
      "bottom": null,
      "display": null,
      "flex": null,
      "flex_flow": null,
      "grid_area": null,
      "grid_auto_columns": null,
      "grid_auto_flow": null,
      "grid_auto_rows": null,
      "grid_column": null,
      "grid_gap": null,
      "grid_row": null,
      "grid_template_areas": null,
      "grid_template_columns": null,
      "grid_template_rows": null,
      "height": null,
      "justify_content": null,
      "justify_items": null,
      "left": null,
      "margin": null,
      "max_height": null,
      "max_width": null,
      "min_height": null,
      "min_width": null,
      "object_fit": null,
      "object_position": null,
      "order": null,
      "overflow": null,
      "overflow_x": null,
      "overflow_y": null,
      "padding": null,
      "right": null,
      "top": null,
      "visibility": null,
      "width": null
     }
    },
    "d0d4b882745c42c4994b0cbc1f9dafb9": {
     "model_module": "@jupyter-widgets/controls",
     "model_name": "FloatProgressModel",
     "state": {
      "_dom_classes": [],
      "_model_module": "@jupyter-widgets/controls",
      "_model_module_version": "1.5.0",
      "_model_name": "FloatProgressModel",
      "_view_count": null,
      "_view_module": "@jupyter-widgets/controls",
      "_view_module_version": "1.5.0",
      "_view_name": "ProgressView",
      "bar_style": "success",
      "description": "Downloading: 100%",
      "description_tooltip": null,
      "layout": "IPY_MODEL_fd1db0f909e546e0aba0736146689c6c",
      "max": 466062,
      "min": 0,
      "orientation": "horizontal",
      "style": "IPY_MODEL_e6b8c572bbe74e97beefc48c82e7d9e3",
      "value": 466062
     }
    },
    "d90779b671b04b8092f00c2a374711dd": {
     "model_module": "@jupyter-widgets/base",
     "model_name": "LayoutModel",
     "state": {
      "_model_module": "@jupyter-widgets/base",
      "_model_module_version": "1.2.0",
      "_model_name": "LayoutModel",
      "_view_count": null,
      "_view_module": "@jupyter-widgets/base",
      "_view_module_version": "1.2.0",
      "_view_name": "LayoutView",
      "align_content": null,
      "align_items": null,
      "align_self": null,
      "border": null,
      "bottom": null,
      "display": null,
      "flex": null,
      "flex_flow": null,
      "grid_area": null,
      "grid_auto_columns": null,
      "grid_auto_flow": null,
      "grid_auto_rows": null,
      "grid_column": null,
      "grid_gap": null,
      "grid_row": null,
      "grid_template_areas": null,
      "grid_template_columns": null,
      "grid_template_rows": null,
      "height": null,
      "justify_content": null,
      "justify_items": null,
      "left": null,
      "margin": null,
      "max_height": null,
      "max_width": null,
      "min_height": null,
      "min_width": null,
      "object_fit": null,
      "object_position": null,
      "order": null,
      "overflow": null,
      "overflow_x": null,
      "overflow_y": null,
      "padding": null,
      "right": null,
      "top": null,
      "visibility": null,
      "width": null
     }
    },
    "d944eabd6b7b4dcc80cd2982b8b2fb97": {
     "model_module": "@jupyter-widgets/controls",
     "model_name": "FloatProgressModel",
     "state": {
      "_dom_classes": [],
      "_model_module": "@jupyter-widgets/controls",
      "_model_module_version": "1.5.0",
      "_model_name": "FloatProgressModel",
      "_view_count": null,
      "_view_module": "@jupyter-widgets/controls",
      "_view_module_version": "1.5.0",
      "_view_name": "ProgressView",
      "bar_style": "success",
      "description": "Downloading: 100%",
      "description_tooltip": null,
      "layout": "IPY_MODEL_c1c29f48cd014df5b808d4aa965c393e",
      "max": 570,
      "min": 0,
      "orientation": "horizontal",
      "style": "IPY_MODEL_c0510ac6fa0642dd98d13ba6ff3c622a",
      "value": 570
     }
    },
    "e6b8c572bbe74e97beefc48c82e7d9e3": {
     "model_module": "@jupyter-widgets/controls",
     "model_name": "ProgressStyleModel",
     "state": {
      "_model_module": "@jupyter-widgets/controls",
      "_model_module_version": "1.5.0",
      "_model_name": "ProgressStyleModel",
      "_view_count": null,
      "_view_module": "@jupyter-widgets/base",
      "_view_module_version": "1.2.0",
      "_view_name": "StyleView",
      "bar_color": null,
      "description_width": "initial"
     }
    },
    "eb4524c767304786b6f706e14392caa8": {
     "model_module": "@jupyter-widgets/controls",
     "model_name": "HBoxModel",
     "state": {
      "_dom_classes": [],
      "_model_module": "@jupyter-widgets/controls",
      "_model_module_version": "1.5.0",
      "_model_name": "HBoxModel",
      "_view_count": null,
      "_view_module": "@jupyter-widgets/controls",
      "_view_module_version": "1.5.0",
      "_view_name": "HBoxView",
      "box_style": "",
      "children": [
       "IPY_MODEL_d944eabd6b7b4dcc80cd2982b8b2fb97",
       "IPY_MODEL_f8562cecc914483cae371d3945471897"
      ],
      "layout": "IPY_MODEL_f391da4103474f94a1ed79811084deaf"
     }
    },
    "f391da4103474f94a1ed79811084deaf": {
     "model_module": "@jupyter-widgets/base",
     "model_name": "LayoutModel",
     "state": {
      "_model_module": "@jupyter-widgets/base",
      "_model_module_version": "1.2.0",
      "_model_name": "LayoutModel",
      "_view_count": null,
      "_view_module": "@jupyter-widgets/base",
      "_view_module_version": "1.2.0",
      "_view_name": "LayoutView",
      "align_content": null,
      "align_items": null,
      "align_self": null,
      "border": null,
      "bottom": null,
      "display": null,
      "flex": null,
      "flex_flow": null,
      "grid_area": null,
      "grid_auto_columns": null,
      "grid_auto_flow": null,
      "grid_auto_rows": null,
      "grid_column": null,
      "grid_gap": null,
      "grid_row": null,
      "grid_template_areas": null,
      "grid_template_columns": null,
      "grid_template_rows": null,
      "height": null,
      "justify_content": null,
      "justify_items": null,
      "left": null,
      "margin": null,
      "max_height": null,
      "max_width": null,
      "min_height": null,
      "min_width": null,
      "object_fit": null,
      "object_position": null,
      "order": null,
      "overflow": null,
      "overflow_x": null,
      "overflow_y": null,
      "padding": null,
      "right": null,
      "top": null,
      "visibility": null,
      "width": null
     }
    },
    "f49fb2a218d44c9082802973967451a9": {
     "model_module": "@jupyter-widgets/controls",
     "model_name": "FloatProgressModel",
     "state": {
      "_dom_classes": [],
      "_model_module": "@jupyter-widgets/controls",
      "_model_module_version": "1.5.0",
      "_model_name": "FloatProgressModel",
      "_view_count": null,
      "_view_module": "@jupyter-widgets/controls",
      "_view_module_version": "1.5.0",
      "_view_name": "ProgressView",
      "bar_style": "success",
      "description": "Downloading: 100%",
      "description_tooltip": null,
      "layout": "IPY_MODEL_018af23c0e1c41a5860c6d26ed31335a",
      "max": 28,
      "min": 0,
      "orientation": "horizontal",
      "style": "IPY_MODEL_18e79b86ec534c1aa5d04baddf095800",
      "value": 28
     }
    },
    "f8562cecc914483cae371d3945471897": {
     "model_module": "@jupyter-widgets/controls",
     "model_name": "HTMLModel",
     "state": {
      "_dom_classes": [],
      "_model_module": "@jupyter-widgets/controls",
      "_model_module_version": "1.5.0",
      "_model_name": "HTMLModel",
      "_view_count": null,
      "_view_module": "@jupyter-widgets/controls",
      "_view_module_version": "1.5.0",
      "_view_name": "HTMLView",
      "description": "",
      "description_tooltip": null,
      "layout": "IPY_MODEL_ce84659da28642f586f9337220c22eb9",
      "placeholder": "​",
      "style": "IPY_MODEL_be379ac447c940a1ba9e90ca961aa874",
      "value": " 570/570 [00:00&lt;00:00, 727B/s]"
     }
    },
    "fd1db0f909e546e0aba0736146689c6c": {
     "model_module": "@jupyter-widgets/base",
     "model_name": "LayoutModel",
     "state": {
      "_model_module": "@jupyter-widgets/base",
      "_model_module_version": "1.2.0",
      "_model_name": "LayoutModel",
      "_view_count": null,
      "_view_module": "@jupyter-widgets/base",
      "_view_module_version": "1.2.0",
      "_view_name": "LayoutView",
      "align_content": null,
      "align_items": null,
      "align_self": null,
      "border": null,
      "bottom": null,
      "display": null,
      "flex": null,
      "flex_flow": null,
      "grid_area": null,
      "grid_auto_columns": null,
      "grid_auto_flow": null,
      "grid_auto_rows": null,
      "grid_column": null,
      "grid_gap": null,
      "grid_row": null,
      "grid_template_areas": null,
      "grid_template_columns": null,
      "grid_template_rows": null,
      "height": null,
      "justify_content": null,
      "justify_items": null,
      "left": null,
      "margin": null,
      "max_height": null,
      "max_width": null,
      "min_height": null,
      "min_width": null,
      "object_fit": null,
      "object_position": null,
      "order": null,
      "overflow": null,
      "overflow_x": null,
      "overflow_y": null,
      "padding": null,
      "right": null,
      "top": null,
      "visibility": null,
      "width": null
     }
    }
   }
  }
 },
 "nbformat": 4,
 "nbformat_minor": 4
}
