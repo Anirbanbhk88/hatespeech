{
  "nbformat": 4,
  "nbformat_minor": 0,
  "metadata": {
    "colab": {
      "name": "Model_LSTM_Movies.ipynb",
      "provenance": [],
      "collapsed_sections": [],
      "toc_visible": true
    },
    "kernelspec": {
      "display_name": "Python 3",
      "language": "python",
      "name": "python3"
    },
    "language_info": {
      "codemirror_mode": {
        "name": "ipython",
        "version": 3
      },
      "file_extension": ".py",
      "mimetype": "text/x-python",
      "name": "python",
      "nbconvert_exporter": "python",
      "pygments_lexer": "ipython3",
      "version": "3.7.4"
    }
  },
  "cells": [
    {
      "cell_type": "code",
      "metadata": {
        "colab": {
          "base_uri": "https://localhost:8080/"
        },
        "id": "iU0N2hKHeAIy",
        "outputId": "0dfe18b9-d9cd-432e-fdc5-fb35ce743419"
      },
      "source": [
        "import re\n",
        "import pandas as pd\n",
        "import numpy as np\n",
        "import matplotlib.pyplot as plt \n",
        "import seaborn as sns\n",
        "import string\n",
        "import nltk\n",
        "import warnings \n",
        "warnings.filterwarnings(\"ignore\", category=DeprecationWarning)\n",
        "nltk.download('punkt')\n",
        "from nltk.tokenize import word_tokenize\n",
        "from nltk import PorterStemmer\n",
        "from wordcloud import WordCloud,ImageColorGenerator\n",
        "from PIL import Image\n",
        "import urllib\n",
        "import requests\n",
        "#from Preprocessing import clean_text, remove_names, entity_recognizing, remove_url\n",
        "from keras_preprocessing.sequence import pad_sequences\n",
        "from keras_preprocessing.text import Tokenizer\n",
        "from keras import Sequential\n",
        "from keras.layers import Embedding\n",
        "from keras.layers import SpatialDropout1D\n",
        "from keras.layers import LSTM\n",
        "from keras.layers import Dense\n",
        "from keras.callbacks import EarlyStopping\n",
        "from sklearn.preprocessing import LabelEncoder\n",
        "from sklearn.model_selection import train_test_split\n",
        "from sklearn.metrics import classification_report\n",
        "import tensorflow as tf\n",
        "from keras.models import Sequential\n",
        "from keras.layers import Dense\n",
        "from keras.layers import LSTM\n",
        "from keras.regularizers import l2\n",
        "import re\n",
        "import os\n",
        "\n",
        "%matplotlib inline\n",
        "print(tf.__version__)"
      ],
      "execution_count": null,
      "outputs": [
        {
          "output_type": "stream",
          "text": [
            "[nltk_data] Downloading package punkt to /root/nltk_data...\n",
            "[nltk_data]   Package punkt is already up-to-date!\n",
            "2.4.1\n"
          ],
          "name": "stdout"
        }
      ]
    },
    {
      "cell_type": "code",
      "metadata": {
        "colab": {
          "base_uri": "https://localhost:8080/"
        },
        "id": "DClAs95Ne0Dj",
        "outputId": "04054c72-34c5-4d72-c688-446a377e1761"
      },
      "source": [
        "from google.colab import drive\n",
        "drive.mount('/content/drive')"
      ],
      "execution_count": null,
      "outputs": [
        {
          "output_type": "stream",
          "text": [
            "Drive already mounted at /content/drive; to attempt to forcibly remount, call drive.mount(\"/content/drive\", force_remount=True).\n"
          ],
          "name": "stdout"
        }
      ]
    },
    {
      "cell_type": "markdown",
      "metadata": {
        "id": "TNt3t5PDfGVi"
      },
      "source": [
        "# New Section"
      ]
    },
    {
      "cell_type": "code",
      "metadata": {
        "colab": {
          "base_uri": "https://localhost:8080/"
        },
        "id": "95DxqXw5eAI2",
        "outputId": "074838af-56bd-407f-8a0b-0e24bec8e79d"
      },
      "source": [
        "path = \"drive/MyDrive/IAS/NLP_and_Web/data/all_movies.csv\"\n",
        "df_training = pd.read_csv(path, index_col=0)\n",
        "df_training.info()"
      ],
      "execution_count": null,
      "outputs": [
        {
          "output_type": "stream",
          "text": [
            "<class 'pandas.core.frame.DataFrame'>\n",
            "Int64Index: 10688 entries, 0 to 10687\n",
            "Data columns (total 5 columns):\n",
            " #   Column           Non-Null Count  Dtype \n",
            "---  ------           --------------  ----- \n",
            " 0   movie_id         10688 non-null  object\n",
            " 1   batch_id         10688 non-null  int64 \n",
            " 2   majority_answer  10688 non-null  int64 \n",
            " 3   text             10688 non-null  object\n",
            " 4   movie_name       10688 non-null  object\n",
            "dtypes: int64(2), object(3)\n",
            "memory usage: 501.0+ KB\n"
          ],
          "name": "stdout"
        }
      ]
    },
    {
      "cell_type": "code",
      "metadata": {
        "id": "tzIzhmBWJfH6"
      },
      "source": [
        "\n",
        "df_training = df_training.rename(columns={'majority_answer': 'label'})"
      ],
      "execution_count": null,
      "outputs": []
    },
    {
      "cell_type": "code",
      "metadata": {
        "colab": {
          "base_uri": "https://localhost:8080/",
          "height": 204
        },
        "id": "GNd1AOWvXQNx",
        "outputId": "f3b73454-06eb-4eb5-f914-7813a52ea10c"
      },
      "source": [
        "df_training.head()\n"
      ],
      "execution_count": null,
      "outputs": [
        {
          "output_type": "execute_result",
          "data": {
            "text/html": [
              "<div>\n",
              "<style scoped>\n",
              "    .dataframe tbody tr th:only-of-type {\n",
              "        vertical-align: middle;\n",
              "    }\n",
              "\n",
              "    .dataframe tbody tr th {\n",
              "        vertical-align: top;\n",
              "    }\n",
              "\n",
              "    .dataframe thead th {\n",
              "        text-align: right;\n",
              "    }\n",
              "</style>\n",
              "<table border=\"1\" class=\"dataframe\">\n",
              "  <thead>\n",
              "    <tr style=\"text-align: right;\">\n",
              "      <th></th>\n",
              "      <th>movie_id</th>\n",
              "      <th>batch_id</th>\n",
              "      <th>label</th>\n",
              "      <th>text</th>\n",
              "      <th>movie_name</th>\n",
              "    </tr>\n",
              "  </thead>\n",
              "  <tbody>\n",
              "    <tr>\n",
              "      <th>0</th>\n",
              "      <td>AmericanHistoryX(1998)_1</td>\n",
              "      <td>1566624979</td>\n",
              "      <td>0</td>\n",
              "      <td>Derek.</td>\n",
              "      <td>AmerricanHistoryX</td>\n",
              "    </tr>\n",
              "    <tr>\n",
              "      <th>1</th>\n",
              "      <td>AmericanHistoryX(1998)_2</td>\n",
              "      <td>1566624979</td>\n",
              "      <td>1</td>\n",
              "      <td>What the fuck are you thinking?</td>\n",
              "      <td>AmerricanHistoryX</td>\n",
              "    </tr>\n",
              "    <tr>\n",
              "      <th>2</th>\n",
              "      <td>AmericanHistoryX(1998)_3</td>\n",
              "      <td>1566624979</td>\n",
              "      <td>0</td>\n",
              "      <td>There's a black guy outside breaking into your...</td>\n",
              "      <td>AmerricanHistoryX</td>\n",
              "    </tr>\n",
              "    <tr>\n",
              "      <th>3</th>\n",
              "      <td>AmericanHistoryX(1998)_4</td>\n",
              "      <td>1566624979</td>\n",
              "      <td>0</td>\n",
              "      <td>How long has he been there?</td>\n",
              "      <td>AmerricanHistoryX</td>\n",
              "    </tr>\n",
              "    <tr>\n",
              "      <th>4</th>\n",
              "      <td>AmericanHistoryX(1998)_5</td>\n",
              "      <td>1566624979</td>\n",
              "      <td>0</td>\n",
              "      <td>I don't know.</td>\n",
              "      <td>AmerricanHistoryX</td>\n",
              "    </tr>\n",
              "  </tbody>\n",
              "</table>\n",
              "</div>"
            ],
            "text/plain": [
              "                   movie_id  ...         movie_name\n",
              "0  AmericanHistoryX(1998)_1  ...  AmerricanHistoryX\n",
              "1  AmericanHistoryX(1998)_2  ...  AmerricanHistoryX\n",
              "2  AmericanHistoryX(1998)_3  ...  AmerricanHistoryX\n",
              "3  AmericanHistoryX(1998)_4  ...  AmerricanHistoryX\n",
              "4  AmericanHistoryX(1998)_5  ...  AmerricanHistoryX\n",
              "\n",
              "[5 rows x 5 columns]"
            ]
          },
          "metadata": {
            "tags": []
          },
          "execution_count": 385
        }
      ]
    },
    {
      "cell_type": "code",
      "metadata": {
        "colab": {
          "base_uri": "https://localhost:8080/"
        },
        "id": "nlXMdGG58LCs",
        "outputId": "b93fb658-765a-4429-caa4-25108baa6ae9"
      },
      "source": [
        "df_training[df_training['movie_name'] == 'South_Park'].label.value_counts()"
      ],
      "execution_count": null,
      "outputs": [
        {
          "output_type": "execute_result",
          "data": {
            "text/plain": [
              "0    890\n",
              "1    145\n",
              "2     11\n",
              "Name: label, dtype: int64"
            ]
          },
          "metadata": {
            "tags": []
          },
          "execution_count": 386
        }
      ]
    },
    {
      "cell_type": "code",
      "metadata": {
        "colab": {
          "base_uri": "https://localhost:8080/",
          "height": 379
        },
        "id": "g_KEj1RGeAI7",
        "outputId": "e03c9b82-a45d-4401-b887-b94f9a6995e9"
      },
      "source": [
        "#Normal:0 , Offensive:1, Hate:2\n",
        "print(df_training.label.value_counts())\n",
        "df_training.label.value_counts().plot(kind='pie', subplots=True, autopct='%1.0f%%', title='Hate Speech Distribution Movies')"
      ],
      "execution_count": null,
      "outputs": [
        {
          "output_type": "stream",
          "text": [
            "0    9014\n",
            "1    1380\n",
            "2     294\n",
            "Name: label, dtype: int64\n"
          ],
          "name": "stdout"
        },
        {
          "output_type": "execute_result",
          "data": {
            "text/plain": [
              "array([<matplotlib.axes._subplots.AxesSubplot object at 0x7f446db78b50>],\n",
              "      dtype=object)"
            ]
          },
          "metadata": {
            "tags": []
          },
          "execution_count": 387
        },
        {
          "output_type": "display_data",
          "data": {
            "image/png": "[encoded data removed]",
            "text/plain": [
              "<Figure size 432x288 with 1 Axes>"
            ]
          },
          "metadata": {
            "tags": []
          }
        }
      ]
    },
    {
      "cell_type": "code",
      "metadata": {
        "colab": {
          "base_uri": "https://localhost:8080/"
        },
        "id": "-C_IJcOhYcCv",
        "outputId": "0adb55cc-4bcd-48b9-cdfc-8d1643ab9707"
      },
      "source": [
        "movie_names = df_training.movie_name.unique()\n",
        "movie_names"
      ],
      "execution_count": null,
      "outputs": [
        {
          "output_type": "execute_result",
          "data": {
            "text/plain": [
              "array(['AmerricanHistoryX', 'BlacKkKlansman', 'Django_Unchained',\n",
              "       'Pulp_Fiction', 'South_Park', 'TheWolfofWallStreet'], dtype=object)"
            ]
          },
          "metadata": {
            "tags": []
          },
          "execution_count": 388
        }
      ]
    },
    {
      "cell_type": "markdown",
      "metadata": {
        "id": "FMS64728eAI8"
      },
      "source": [
        "## class label for majority of CF users. 0 - normal, 1 - offensive language, 2 - hate"
      ]
    },
    {
      "cell_type": "code",
      "metadata": {
        "colab": {
          "base_uri": "https://localhost:8080/",
          "height": 221
        },
        "id": "fynBIfipeAI_",
        "outputId": "5c7a78d6-34f9-4386-f8fb-170e7383ebe5"
      },
      "source": [
        "TEXT_COLUMN = \"text\"\n",
        "LABEL_COLUMN = \"label\"\n",
        "\n",
        "print(\"Converting to lower-case\")\n",
        "df_training[TEXT_COLUMN] = df_training[TEXT_COLUMN].str.lower()\n",
        "df_training.head()"
      ],
      "execution_count": null,
      "outputs": [
        {
          "output_type": "stream",
          "text": [
            "Converting to lower-case\n"
          ],
          "name": "stdout"
        },
        {
          "output_type": "execute_result",
          "data": {
            "text/html": [
              "<div>\n",
              "<style scoped>\n",
              "    .dataframe tbody tr th:only-of-type {\n",
              "        vertical-align: middle;\n",
              "    }\n",
              "\n",
              "    .dataframe tbody tr th {\n",
              "        vertical-align: top;\n",
              "    }\n",
              "\n",
              "    .dataframe thead th {\n",
              "        text-align: right;\n",
              "    }\n",
              "</style>\n",
              "<table border=\"1\" class=\"dataframe\">\n",
              "  <thead>\n",
              "    <tr style=\"text-align: right;\">\n",
              "      <th></th>\n",
              "      <th>movie_id</th>\n",
              "      <th>batch_id</th>\n",
              "      <th>label</th>\n",
              "      <th>text</th>\n",
              "      <th>movie_name</th>\n",
              "    </tr>\n",
              "  </thead>\n",
              "  <tbody>\n",
              "    <tr>\n",
              "      <th>0</th>\n",
              "      <td>AmericanHistoryX(1998)_1</td>\n",
              "      <td>1566624979</td>\n",
              "      <td>0</td>\n",
              "      <td>derek.</td>\n",
              "      <td>AmerricanHistoryX</td>\n",
              "    </tr>\n",
              "    <tr>\n",
              "      <th>1</th>\n",
              "      <td>AmericanHistoryX(1998)_2</td>\n",
              "      <td>1566624979</td>\n",
              "      <td>1</td>\n",
              "      <td>what the fuck are you thinking?</td>\n",
              "      <td>AmerricanHistoryX</td>\n",
              "    </tr>\n",
              "    <tr>\n",
              "      <th>2</th>\n",
              "      <td>AmericanHistoryX(1998)_3</td>\n",
              "      <td>1566624979</td>\n",
              "      <td>0</td>\n",
              "      <td>there's a black guy outside breaking into your...</td>\n",
              "      <td>AmerricanHistoryX</td>\n",
              "    </tr>\n",
              "    <tr>\n",
              "      <th>3</th>\n",
              "      <td>AmericanHistoryX(1998)_4</td>\n",
              "      <td>1566624979</td>\n",
              "      <td>0</td>\n",
              "      <td>how long has he been there?</td>\n",
              "      <td>AmerricanHistoryX</td>\n",
              "    </tr>\n",
              "    <tr>\n",
              "      <th>4</th>\n",
              "      <td>AmericanHistoryX(1998)_5</td>\n",
              "      <td>1566624979</td>\n",
              "      <td>0</td>\n",
              "      <td>i don't know.</td>\n",
              "      <td>AmerricanHistoryX</td>\n",
              "    </tr>\n",
              "  </tbody>\n",
              "</table>\n",
              "</div>"
            ],
            "text/plain": [
              "                   movie_id  ...         movie_name\n",
              "0  AmericanHistoryX(1998)_1  ...  AmerricanHistoryX\n",
              "1  AmericanHistoryX(1998)_2  ...  AmerricanHistoryX\n",
              "2  AmericanHistoryX(1998)_3  ...  AmerricanHistoryX\n",
              "3  AmericanHistoryX(1998)_4  ...  AmerricanHistoryX\n",
              "4  AmericanHistoryX(1998)_5  ...  AmerricanHistoryX\n",
              "\n",
              "[5 rows x 5 columns]"
            ]
          },
          "metadata": {
            "tags": []
          },
          "execution_count": 389
        }
      ]
    },
    {
      "cell_type": "code",
      "metadata": {
        "id": "X4yvUcBUeAJA"
      },
      "source": [
        "df_training['doc_len'] = df_training[TEXT_COLUMN].apply(lambda words: len(words.split(\" \")))\n",
        "max_seq_len = np.round(df_training['doc_len'].mean() + df_training['doc_len'].std()).astype(int)"
      ],
      "execution_count": null,
      "outputs": []
    },
    {
      "cell_type": "code",
      "metadata": {
        "colab": {
          "base_uri": "https://localhost:8080/",
          "height": 204
        },
        "id": "yLMwtMhoeAJB",
        "outputId": "755e2ab7-afac-4a44-83ab-1b22925410d9"
      },
      "source": [
        "df_training.head()"
      ],
      "execution_count": null,
      "outputs": [
        {
          "output_type": "execute_result",
          "data": {
            "text/html": [
              "<div>\n",
              "<style scoped>\n",
              "    .dataframe tbody tr th:only-of-type {\n",
              "        vertical-align: middle;\n",
              "    }\n",
              "\n",
              "    .dataframe tbody tr th {\n",
              "        vertical-align: top;\n",
              "    }\n",
              "\n",
              "    .dataframe thead th {\n",
              "        text-align: right;\n",
              "    }\n",
              "</style>\n",
              "<table border=\"1\" class=\"dataframe\">\n",
              "  <thead>\n",
              "    <tr style=\"text-align: right;\">\n",
              "      <th></th>\n",
              "      <th>movie_id</th>\n",
              "      <th>batch_id</th>\n",
              "      <th>label</th>\n",
              "      <th>text</th>\n",
              "      <th>movie_name</th>\n",
              "      <th>doc_len</th>\n",
              "    </tr>\n",
              "  </thead>\n",
              "  <tbody>\n",
              "    <tr>\n",
              "      <th>0</th>\n",
              "      <td>AmericanHistoryX(1998)_1</td>\n",
              "      <td>1566624979</td>\n",
              "      <td>0</td>\n",
              "      <td>derek.</td>\n",
              "      <td>AmerricanHistoryX</td>\n",
              "      <td>1</td>\n",
              "    </tr>\n",
              "    <tr>\n",
              "      <th>1</th>\n",
              "      <td>AmericanHistoryX(1998)_2</td>\n",
              "      <td>1566624979</td>\n",
              "      <td>1</td>\n",
              "      <td>what the fuck are you thinking?</td>\n",
              "      <td>AmerricanHistoryX</td>\n",
              "      <td>6</td>\n",
              "    </tr>\n",
              "    <tr>\n",
              "      <th>2</th>\n",
              "      <td>AmericanHistoryX(1998)_3</td>\n",
              "      <td>1566624979</td>\n",
              "      <td>0</td>\n",
              "      <td>there's a black guy outside breaking into your...</td>\n",
              "      <td>AmerricanHistoryX</td>\n",
              "      <td>9</td>\n",
              "    </tr>\n",
              "    <tr>\n",
              "      <th>3</th>\n",
              "      <td>AmericanHistoryX(1998)_4</td>\n",
              "      <td>1566624979</td>\n",
              "      <td>0</td>\n",
              "      <td>how long has he been there?</td>\n",
              "      <td>AmerricanHistoryX</td>\n",
              "      <td>6</td>\n",
              "    </tr>\n",
              "    <tr>\n",
              "      <th>4</th>\n",
              "      <td>AmericanHistoryX(1998)_5</td>\n",
              "      <td>1566624979</td>\n",
              "      <td>0</td>\n",
              "      <td>i don't know.</td>\n",
              "      <td>AmerricanHistoryX</td>\n",
              "      <td>3</td>\n",
              "    </tr>\n",
              "  </tbody>\n",
              "</table>\n",
              "</div>"
            ],
            "text/plain": [
              "                   movie_id    batch_id  ...         movie_name doc_len\n",
              "0  AmericanHistoryX(1998)_1  1566624979  ...  AmerricanHistoryX       1\n",
              "1  AmericanHistoryX(1998)_2  1566624979  ...  AmerricanHistoryX       6\n",
              "2  AmericanHistoryX(1998)_3  1566624979  ...  AmerricanHistoryX       9\n",
              "3  AmericanHistoryX(1998)_4  1566624979  ...  AmerricanHistoryX       6\n",
              "4  AmericanHistoryX(1998)_5  1566624979  ...  AmerricanHistoryX       3\n",
              "\n",
              "[5 rows x 6 columns]"
            ]
          },
          "metadata": {
            "tags": []
          },
          "execution_count": 391
        }
      ]
    },
    {
      "cell_type": "markdown",
      "metadata": {
        "id": "rq6nf8yneAJC"
      },
      "source": [
        "## Splitting the data"
      ]
    },
    {
      "cell_type": "code",
      "metadata": {
        "id": "2lXJeCdZeAJD"
      },
      "source": [
        "def split_dataset(df, test_movie, seed):\n",
        "    test = df[df.movie_name == test_movie]\n",
        "    train = df[df.movie_name != test_movie]\n",
        "    train = train.sample(frac=1, random_state=seed)\n",
        "    return train.text.values, train.label.values, test.text.values, test.label.values"
      ],
      "execution_count": null,
      "outputs": []
    },
    {
      "cell_type": "code",
      "metadata": {
        "colab": {
          "base_uri": "https://localhost:8080/"
        },
        "id": "BZN8nMkPZq-E",
        "outputId": "adc9915d-7001-4d0a-8965-bac104494291"
      },
      "source": [
        "seed = 11\n",
        "#test_size = 0.2\n",
        "categories = [0,1,2]\n",
        "movie_index = 5 #change the index to test on each movie and train on remaining 5movies\n",
        "test_movie = movie_names[movie_index]\n",
        "print(test_movie)"
      ],
      "execution_count": null,
      "outputs": [
        {
          "output_type": "stream",
          "text": [
            "TheWolfofWallStreet\n"
          ],
          "name": "stdout"
        }
      ]
    },
    {
      "cell_type": "code",
      "metadata": {
        "id": "P-O7D0dceAJE"
      },
      "source": [
        "train, train_targets, test, test_targets = split_dataset(df_training, test_movie,seed=seed)"
      ],
      "execution_count": null,
      "outputs": []
    },
    {
      "cell_type": "code",
      "metadata": {
        "colab": {
          "base_uri": "https://localhost:8080/"
        },
        "id": "Bs3oHDiyeAJF",
        "outputId": "f44d0125-9310-4702-a302-c9f1422823b0"
      },
      "source": [
        "print(len(train))\n",
        "print(len(test))"
      ],
      "execution_count": null,
      "outputs": [
        {
          "output_type": "stream",
          "text": [
            "7625\n",
            "3063\n"
          ],
          "name": "stdout"
        }
      ]
    },
    {
      "cell_type": "code",
      "metadata": {
        "id": "W9ywvoxqrnVT"
      },
      "source": [
        "def calculate_dataset_class_distribution(targets, categories):\n",
        "    df = pd.DataFrame({'category':targets})\n",
        "    s = df.category.value_counts(normalize=True)\n",
        "    s = s.reindex(categories)\n",
        "    return [s.index[0], s[0]], [s.index[1], s[1]], [s.index[2], s[2]]"
      ],
      "execution_count": null,
      "outputs": []
    },
    {
      "cell_type": "code",
      "metadata": {
        "id": "YZW5PS7GroRW",
        "colab": {
          "base_uri": "https://localhost:8080/"
        },
        "outputId": "e7a86da7-89ff-4ac0-ee71-23f598e11b4d"
      },
      "source": [
        "train_class_distribution = calculate_dataset_class_distribution(train_targets, categories)\n",
        "test_class_distribution = calculate_dataset_class_distribution(test_targets, categories)\n",
        "print(train_class_distribution)\n",
        "print(test_class_distribution)"
      ],
      "execution_count": null,
      "outputs": [
        {
          "output_type": "stream",
          "text": [
            "([0, 0.8577049180327869], [1, 0.104], [2, 0.03829508196721312])\n",
            "([0, 0.8077048645119165], [1, 0.19164218086842966], [2, 0.000652954619653934])\n"
          ],
          "name": "stdout"
        }
      ]
    },
    {
      "cell_type": "code",
      "metadata": {
        "id": "JmC1W49VeAJG"
      },
      "source": [
        "embed_size = 300  # how big is each word vector\n",
        "max_features = None  # how many unique words to use (i.e num rows in embedding vector)\n",
        "maxlen = max_seq_len  # max number of words in a question to use #99.99%\n",
        "\n",
        "def encode(train_data, test_data, train_label, test_label):\n",
        "    total_data = list(train_data)+list(test_data)\n",
        "    # Tokenize the sentences\n",
        "    tokenizer = Tokenizer(num_words=max_features, filters='')\n",
        "    tokenizer.fit_on_texts(total_data)\n",
        "    X_train = tokenizer.texts_to_sequences(train_data)\n",
        "    X_test = tokenizer.texts_to_sequences(test_data)\n",
        "\n",
        "\n",
        "    vocab_size = len(tokenizer.word_index) + 1\n",
        "    print(tokenizer.word_index)\n",
        "    \n",
        "    # Pad the sentences\n",
        "    X_train = pad_sequences(X_train, maxlen=maxlen)\n",
        "    print(X_train.shape)\n",
        "    X_test = pad_sequences(X_test, maxlen=maxlen)\n",
        "    print(X_test.shape)\n",
        "    \n",
        "    # Get the target values\n",
        "    y_train = pd.get_dummies(train_label)\n",
        "    y_test = pd.get_dummies(test_label)\n",
        "    print(y_train.shape)\n",
        "    print(y_test.shape)\n",
        "    \n",
        "    return X_train, X_test,y_train, y_test,vocab_size\n",
        "    "
      ],
      "execution_count": null,
      "outputs": []
    },
    {
      "cell_type": "code",
      "metadata": {
        "colab": {
          "base_uri": "https://localhost:8080/"
        },
        "id": "RPwzkl-6tmdY",
        "outputId": "63657636-7892-473f-afc5-8245ababa81c"
      },
      "source": [
        "len(list(train)+list(test))"
      ],
      "execution_count": null,
      "outputs": [
        {
          "output_type": "execute_result",
          "data": {
            "text/plain": [
              "10688"
            ]
          },
          "metadata": {
            "tags": []
          },
          "execution_count": 399
        }
      ]
    },
    {
      "cell_type": "code",
      "metadata": {
        "colab": {
          "base_uri": "https://localhost:8080/"
        },
        "id": "77D8wbLbeAJI",
        "outputId": "1036993b-7aa0-448b-87d6-78a4b68c98f8"
      },
      "source": [
        "# FETCH DATA, LABELS, DICTIONARIES\n",
        "X_train, X_test, y_train, y_test, vocab_size = encode(train,test, train_targets, test_targets)\n",
        "#X_test, y_test, vocab_size = encode(test, test_targets)\n",
        "\n",
        "print(vocab_size)"
      ],
      "execution_count": null,
      "outputs": [
        {
          "output_type": "stream",
          "text": [
            "{'you': 1, 'the': 2, '-': 3, 'i': 4, 'a': 5, 'to': 6, 'and': 7, 'of': 8, 'that': 9, 'in': 10, 'is': 11, 'this': 12, 'my': 13, 'your': 14, 'what': 15, 'it': 16, 'we': 17, \"i'm\": 18, \"don't\": 19, 'fucking': 20, 'all': 21, 'get': 22, 'for': 23, 'be': 24, 'on': 25, \"it's\": 26, 'with': 27, 'do': 28, 'me': 29, 'was': 30, 'are': 31, 'he': 32, 'like': 33, 'not': 34, 'have': 35, 'just': 36, 'got': 37, 'know': 38, 'but': 39, 'gonna': 40, 'they': 41, \"you're\": 42, \"that's\": 43, 'come': 44, 'about': 45, 'at': 46, 'out': 47, 'if': 48, 'you.': 49, 'so': 50, 'can': 51, 'fuck': 52, 'oh,': 53, 'it.': 54, 'up': 55, 'want': 56, 'go': 57, 'one': 58, 'how': 59, 'well,': 60, 'no': 61, 'think': 62, 'right': 63, 'you,': 64, 'no,': 65, 'who': 66, 'our': 67, 'his': 68, 'yeah,': 69, 'as': 70, 'yeah.': 71, 'some': 72, 'there': 73, 'when': 74, 'from': 75, 'or': 76, 'take': 77, 'me.': 78, 'now': 79, 'good': 80, 'her': 81, 'see': 82, 'an': 83, 'say': 84, 'little': 85, 'did': 86, 'black': 87, 'will': 88, 'him': 89, 'give': 90, 'here': 91, \"ain't\": 92, 'would': 93, \"we're\": 94, \"he's\": 95, 'right?': 96, 'now,': 97, 'right.': 98, \"can't\": 99, 'tell': 100, \"let's\": 101, 'by': 102, 'had': 103, \"what's\": 104, 'she': 105, 'make': 106, \"i'll\": 107, 'them': 108, 'that.': 109, 'were': 110, 'here.': 111, 'what?': 112, 'white': 113, 'been': 114, 'going': 115, 'where': 116, 'back': 117, 'let': 118, 'why': 119, 'hey,': 120, 'these': 121, 'could': 122, 'two': 123, \"didn't\": 124, 'gotta': 125, 'over': 126, \"they're\": 127, 'no.': 128, 'need': 129, 'mr.': 130, 'then': 131, 'off': 132, 'on.': 133, 'on,': 134, 'look': 135, 'me,': 136, 'never': 137, 'shit': 138, 'love': 139, 'down': 140, 'thank': 141, 'okay.': 142, \"fuckin'\": 143, 'big': 144, 'time': 145, 'up.': 146, 'man.': 147, 'that?': 148, 'us': 149, 'know,': 150, 'right,': 151, 'because': 152, 'wanna': 153, 'more': 154, 'any': 155, 'call': 156, 'him.': 157, 'put': 158, 'know.': 159, 'nigger': 160, 'you?': 161, 'people': 162, 'yes,': 163, 'it?': 164, 'said': 165, 'something': 166, 'their': 167, 'every': 168, 'those': 169, 'name': 170, 'shit.': 171, 'talking': 172, 'now.': 173, \"i've\": 174, 'even': 175, 'terrance': 176, 'into': 177, 'me?': 178, '-i': 179, \"'cause\": 180, 'shut': 181, 'way': 182, 'should': 183, 'too': 184, 'here,': 185, \"there's\": 186, 'talk': 187, 'than': 188, 'very': 189, 'it,': 190, 'keep': 191, 'goddamn': 192, 'three': 193, 'getting': 194, 'really': 195, \"she's\": 196, 'go.': 197, 'real': 198, 'day': 199, 'doing': 200, 'ever': 201, 'believe': 202, 'man': 203, 'it!': 204, 'kill': 205, 'only': 206, 'you!': 207, 'mean,': 208, 'must': 209, 'has': 210, 'told': 211, 'sure': 212, 'does': 213, 'through': 214, 'good.': 215, 'first': 216, 'man,': 217, 'sir.': 218, 'ass': 219, 'feel': 220, 'find': 221, 'up,': 222, 'that,': 223, 'hear': 224, 'time.': 225, 'uh,': 226, 'much': 227, 'better': 228, 'before': 229, \"won't\": 230, 'last': 231, 'okay?': 232, 'okay,': 233, 'guys': 234, \"you'll\": 235, 'huh?': 236, 'out.': 237, 'hell': 238, \"i'd\": 239, 'new': 240, 'around': 241, 'there.': 242, 'lot': 243, 'help': 244, 'am': 245, 'thing': 246, 'mean': 247, 'still': 248, 'old': 249, 'no!': 250, 'may': 251, 'up!': 252, 'other': 253, 'after': 254, 'looking': 255, 'meet': 256, 'do.': 257, 'shit!': 258, 'phillip': 259, 'long': 260, 'baby.': 261, 'me!': 262, 'show': 263, 'this.': 264, 'trying': 265, 'thought': 266, '-you': 267, 'here!': 268, 'oh!': 269, 'down.': 270, 'which': 271, 'made': 272, 'money': 273, \"doesn't\": 274, 'whole': 275, 'so,': 276, 'pretty': 277, \"we'll\": 278, 'done': 279, 'ask': 280, 'anything': 281, 'bitch': 282, 'stop': 283, 'hate': 284, 'away': 285, 'five': 286, 'look,': 287, 'people.': 288, 'heard': 289, 'dr.': 290, 'buy': 291, 'stay': 292, 'nothing': 293, 'ron': 294, 'god': 295, 'jordan,': 296, 'yes.': 297, 'guy': 298, 'things': 299, 'sell': 300, 'do?': 301, 'damn': 302, 'god.': 303, 'excuse': 304, 'start': 305, 'on!': 306, 'is.': 307, 'go!': 308, 'hold': 309, 'know?': 310, 'son': 311, \"isn't\": 312, 'uncle': 313, 'jordan.': 314, 'next': 315, 'bad': 316, 'home': 317, 'care': 318, 'god,': 319, 'maybe': 320, 'them.': 321, \"'em\": 322, 'another': 323, 'again.': 324, 'us.': 325, 'fucked': 326, 'niggers': 327, \"we've\": 328, 'listen': 329, 'sorry.': 330, 'came': 331, 'went': 332, 'work': 333, 'woman:': 334, 'man:': 335, 'same': 336, 'jesus': 337, 'bring': 338, 'took': 339, 'own': 340, 'called': 341, 'always': 342, 'nice': 343, 'taking': 344, 'life': 345, 'one.': 346, 'kind': 347, 'see,': 348, 'off.': 349, 'while': 350, 'yeah!': 351, 'god!': 352, 'pay': 353, 'this?': 354, 'sit': 355, 'everything': 356, 'house': 357, 'great': 358, 'few': 359, \"who's\": 360, 'here?': 361, 'piece': 362, 'too.': 363, 'him,': 364, \"you've\": 365, 'shit,': 366, 'watch': 367, 'try': 368, 'boy.': 369, 'coming': 370, 'america': 371, 'ron,': 372, 'power!': 373, '-what': 374, 'blame': 375, 'seen': 376, 'there,': 377, 'place': 378, 'use': 379, 'doing?': 380, 'hands': 381, 'saw': 382, 'marsellus': 383, 'being': 384, 'fight': 385, 'leave': 386, 'flip:': 387, 'way.': 388, 'knew': 389, 'this,': 390, 'steve': 391, 'about?': 392, 'now!': 393, 'nobody': 394, 'monsieur': 395, 'wait': 396, 'speak': 397, 'pick': 398, 'world': 399, 'years': 400, 'under': 401, \"he'd\": 402, 'is,': 403, 'thing.': 404, 'ron:': 405, 'job.': 406, 'forget': 407, 'go,': 408, 'supposed': 409, 'wall': 410, 'gun': 411, 'fuck!': 412, 'comes': 413, 'now?': 414, 'shot': 415, 'sorry,': 416, 'something.': 417, 'most': 418, 'live': 419, 'bunch': 420, 'please.': 421, 'wants': 422, 'please': 423, 'say,': 424, 'power': 425, 'duke:': 426, 'phone': 427, 'back.': 428, 'wanted': 429, 'hey!': 430, 'guy.': 431, 'dead': 432, 'once': 433, 'nigger,': 434, 'head': 435, 'everybody': 436, 'turn': 437, 'in.': 438, 'why?': 439, 'understand': 440, 'nigger.': 441, 'night': 442, 'bitch!': 443, 'happy': 444, 'one,': 445, 'about.': 446, \"wouldn't\": 447, 'means': 448, 'ass.': 449, 'making': 450, 'all.': 451, 'business': 452, 'did.': 453, 'gets': 454, 'wrong': 455, 'friend': 456, 'motherfucker.': 457, 'fine.': 458, 'four': 459, 'out,': 460, 'outta': 461, 'motherfucker!': 462, 'remember': 463, 'fuck,': 464, 'telling': 465, 'money.': 466, 'i...': 467, 'stock': 468, 'yourself': 469, 'brother': 470, 'hard': 471, 'on?': 472, 'matter': 473, '-no,': 474, 'someone': 475, 'throw': 476, 'cool.': 477, 'you...': 478, 'goes': 479, 'uh...': 480, 'connie:': 481, \"wasn't\": 482, 'until': 483, 'probably': 484, 'might': 485, 'sure.': 486, 'there?': 487, 'time,': 488, 'him!': 489, 'point': 490, 'used': 491, 'six': 492, 'bit': 493, 'shoot': 494, 'against': 495, 'free': 496, 'million': 497, 'run': 498, 'girl': 499, 'do,': 500, 'behind': 501, 'miss': 502, 'each': 503, 'canadian': 504, 'makes': 505, 'couple': 506, 'brian': 507, 'said,': 508, 'play': 509, 'eyes': 510, 'open': 511, 'dude,': 512, 'many': 513, 'foot': 514, 'niggers.': 515, 'exactly': 516, 'brother.': 517, 'anything.': 518, 'killed': 519, 'mind': 520, 'soon': 521, 'without': 522, 'touch': 523, 'canada!': 524, 'found': 525, 'mean?': 526, 'war': 527, 'ron.': 528, 'for?': 529, 'man!': 530, 'bitch,': 531, 'sound': 532, 'german': 533, 'since': 534, \"couldn't\": 535, 'step': 536, 'both': 537, 'life.': 538, 'great.': 539, 'people,': 540, 'kwame': 541, 'be.': 542, 'started': 543, 'else': 544, 'word': 545, 'today.': 546, 'ready': 547, 'sent': 548, 'car': 549, 'lives': 550, 'whatever': 551, 'move': 552, 'street': 553, 'enough': 554, 'say?': 555, 'met': 556, 'house.': 557, 'times': 558, 'holy': 559, 'movie': 560, 'day,': 561, 'but,': 562, 'sorry': 563, 'phone.': 564, 'yeah?': 565, \"where's\": 566, 'boitano': 567, 'colorado': 568, 'somebody': 569, 'boy,': 570, 'till': 571, 'believe,': 572, 'country': 573, 'also': 574, 'stand': 575, 'cut': 576, 'anybody': 577, 'woman': 578, 'best': 579, 'enough.': 580, 'guess': 581, \"m'kay?\": 582, 'dead.': 583, 'happened': 584, 'but...': 585, 'says': 586, 'is?': 587, 'blood': 588, 'la': 589, 'between': 590, 'django.': 591, 'her.': 592, 'day.': 593, 'town': 594, 'hey.': 595, 'who?': 596, 'jordan': 597, 'down!': 598, \"how's\": 599, 'lost': 600, 'american': 601, 'stupid': 602, 'baby,': 603, 'mm-hmm.': 604, \"you'd\": 605, 'boy': 606, 'mind.': 607, 'myself.': 608, 'men': 609, 'wife': 610, 'much.': 611, 'derek': 612, 'end': 613, 'hand': 614, 'name.': 615, 'nigger!': 616, 'wear': 617, 'her,': 618, 'name?': 619, 'change': 620, 'away.': 621, 'worth': 622, 'wife.': 623, 'really?': 624, 'sir,': 625, 'calling': 626, 'hit': 627, 'not.': 628, 'walk': 629, 'aunt': 630, 'save': 631, 'calm': 632, 'gentlemen.': 633, 'father': 634, 'vincent.': 635, 'hang': 636, 'two.': 637, 'please,': 638, 'become': 639, 'sweet': 640, 'crowd:': 641, 'way,': 642, 'fuck.': 643, 'years.': 644, 'such': 645, 'read': 646, 'days': 647, 'yes': 648, 'again': 649, 'yet.': 650, \"here's\": 651, 'having': 652, 'united': 653, 'course': 654, 'deal': 655, 'jew': 656, 'kid': 657, 'poor': 658, 'dude!': 659, 'today': 660, 'like,': 661, 'company': 662, 'kids': 663, 'sounds': 664, \"it'll\": 665, 'rich': 666, 'saying?': 667, 'gave': 668, 'looks': 669, 'fat': 670, 'heart': 671, 'captain': 672, 'before.': 673, 'easy,': 674, 'learn': 675, 'yes!': 676, 'smitty': 677, 'guys.': 678, 'home.': 679, 'stratton': 680, 'plan': 681, 'ungawa,': 682, 'just...': 683, 'there!': 684, 'pull': 685, 'problem': 686, 'beat': 687, 'send': 688, 'girl.': 689, 'can.': 690, '-yeah.': 691, 'and...': 692, 'tomorrow': 693, 'king': 694, 'worked': 695, \"don't.\": 696, 'wait.': 697, 'trust': 698, 'david': 699, 'straight': 700, 'django': 701, 'handle': 702, 'drink': 703, 'ride': 704, 'nothing.': 705, 'stuff': 706, 'night,': 707, '\"and': 708, 'look.': 709, 'far': 710, 'line': 711, 'understand?': 712, 'bacall': 713, 'hi,': 714, 'high': 715, 'course,': 716, 'bet': 717, 'fucka': 718, 'donnie': 719, \"-i'm\": 720, 'house,': 721, 'schultz.': 722, 'student': 723, 'please?': 724, 'rest': 725, '-all': 726, 'part': 727, 'over.': 728, 'children': 729, 'follow': 730, 'waiting': 731, 'count': 732, 'school.': 733, 'together.': 734, 'police': 735, 'today,': 736, 'back,': 737, 'along': 738, 'check': 739, 'none': 740, 'up?': 741, 'night.': 742, 'quite': 743, 'street.': 744, 'honey.': 745, 'school': 746, 'dig': 747, 'super': 748, 'country.': 749, '\"the': 750, 'beautiful': 751, 'cop': 752, 'duke.': 753, 'business.': 754, 'brought': 755, 'first.': 756, 'r': 757, 'worse': 758, 'shall': 759, 'ahead.': 760, 'phillip.': 761, 'hope': 762, 'a...': 763, 'mom': 764, 'that...': 765, 'like?': 766, 'man?': 767, 'biggest': 768, 'morning': 769, 'appreciate': 770, 'pleasure': 771, 'killing': 772, 'job': 773, 'shot.': 774, 'first!': 775, 'myself': 776, 'asking': 777, 'anymore.': 778, 'buddy.': 779, 'move!': 780, 'already': 781, 'phone!': 782, 'horse': 783, 'to.': 784, 'swiss': 785, 'inside': 786, '-well,': 787, 'then,': 788, 'morning,': 789, 'going?': 790, 'world.': 791, 'wish': 792, 'saying': 793, 'set': 794, 'respect': 795, 'us!': 796, 'thanks': 797, 'lose': 798, 'idea': 799, 'tired': 800, 'years,': 801, 'baby!': 802, 'afraid': 803, 'well': 804, 'left': 805, 'what,': 806, 'now...': 807, 'gay': 808, 'racist': 809, 'hurt': 810, 'bag.': 811, 'bullshit.': 812, 'young': 813, 'room': 814, 'folks': 815, 'tonight.': 816, 'again!': 817, 'worry': 818, 'men.': 819, 'almost': 820, 'in,': 821, 'honey': 822, 'bounty': 823, 'easy.': 824, 'stephen,': 825, 'knows': 826, 'government': 827, 'question.': 828, 'mmm.': 829, 'boy?': 830, 'fact': 831, 'drive': 832, \"-it's\": 833, 'are.': 834, 'evil': 835, 'her?': 836, 'giving': 837, 'top': 838, 'to?': 839, 'boogie': 840, 'jews': 841, 'them?': 842, 'good,': 843, 'consider': 844, 'boy!': 845, 'across': 846, 'know...': 847, 'daddy.': 848, 'car.': 849, 'friend.': 850, 'down,': 851, 'felix:': 852, 'doctor.': 853, 'putting': 854, 'so...': 855, 'drop': 856, 'morning.': 857, 'they?': 858, 'seven': 859, \"-don't\": 860, 'point.': 861, 'stallworth,': 862, 'baby': 863, 'welcome': 864, 'uso': 865, 'least': 866, 'blue': 867, 'stick': 868, 'whose': 869, 'states': 870, 'die': 871, 'upon': 872, '-what?': 873, 'named': 874, 'watch.': 875, 'talked': 876, 'guys,': 877, 'front': 878, 'derek.': 879, 'phillip,': 880, 'running': 881, 'quit': 882, 'listen.': 883, 'eat': 884, 'job,': 885, 'actually': 886, 'sick': 887, 'children.': 888, \"man's\": 889, 'gone': 890, 'ass!': 891, 'trouble': 892, 'candie,': 893, 'wow.': 894, 'mother': 895, 'realize': 896, \"'em.\": 897, 'them,': 898, 'person': 899, 'sometimes': 900, 'dirty': 901, 'selling': 902, \"aren't\": 903, 'blow': 904, 'money?': 905, 'absolutely': 906, 'hi.': 907, 'entire': 908, 'sleep': 909, 'more.': 910, 'jordan!': 911, 'true': 912, 'race': 913, 'normal': 914, 'face,': 915, 'pot': 916, 'lay': 917, 'hello?': 918, 'takes': 919, 'share': 920, 'everyone': 921, 'springs': 922, 'bitch.': 923, 'quiet': 924, \"haven't\": 925, 'crazy': 926, 'kyle,': 927, 'lucky': 928, 'bill': 929, 'doubt': 930, 'ok?': 931, 'hundred': 932, 'jewish': 933, 'around.': 934, 'friends': 935, 'ron?': 936, 'bless': 937, 'america.': 938, 'stallworth': 939, 'minutes.': 940, 'its': 941, '-come': 942, 'it...': 943, 'and,': 944, \"we'd\": 945, 'minute.': 946, 'happen': 947, 'though.': 948, 'this!': 949, 'promise': 950, 'outside': 951, 'actually,': 952, 'break': 953, 'too,': 954, 'bad.': 955, 'given': 956, 'kidding': 957, 'recall': 958, 'here...': 959, 'understand.': 960, 'out!': 961, 'different': 962, \"-that's\": 963, 'asses': 964, 'changed': 965, 'needed': 966, '-yeah,': 967, 'stephen.': 968, 'light': 969, 'us,': 970, 'stallworth.': 971, 'in?': 972, \"they'll\": 973, 'schultz,': 974, '15': 975, 'daddy': 976, 'christ.': 977, 'catch': 978, 'special': 979, 'that!': 980, 'again,': 981, 'relax.': 982, 'hair': 983, \"shouldn't\": 984, 'during': 985, \"talkin'\": 986, 'looked': 987, '-oh,': 988, 'fire': 989, 'well...': 990, 'legal': 991, 'second.': 992, \"motherfuckin'\": 993, 'grand': 994, 'order': 995, 'jungle': 996, 'cash': 997, 'mad': 998, 'kiss': 999, 'u.s.': 1000, 'filthy': 1001, 'built': 1002, 'please!': 1003, 'mom?': 1004, 'jules,': 1005, 'bright': 1006, 'dog': 1007, 'paper': 1008, 'together': 1009, 'truth.': 1010, \"how'd\": 1011, 'eskimo': 1012, 'cops': 1013, 'tv': 1014, 'shake': 1015, 'able': 1016, \"takin'\": 1017, 'european': 1018, 'tried': 1019, 'undercover': 1020, 'him?': 1021, 'family': 1022, 'best.': 1023, 'jesus.': 1024, 'candie.': 1025, 'canadians': 1026, 'butch.': 1027, 'hello.': 1028, 'criminal': 1029, 'washed': 1030, 'mouth': 1031, 'christ,': 1032, 'derek,': 1033, 'so?': 1034, \"nothin'\": 1035, 'huh!': 1036, 'teach': 1037, 'bought': 1038, 'horse.': 1039, 'thinking': 1040, 'die,': 1041, 'death': 1042, '-but': 1043, '-and': 1044, 'president': 1045, \"what'd\": 1046, 'seat.': 1047, 'too!': 1048, 'brother,': 1049, 'dude.': 1050, 'definitely': 1051, '-how': 1052, 'watching': 1053, \"kyle's\": 1054, 'dollars': 1055, 'spend': 1056, 'funny.': 1057, 'hot': 1058, 'place.': 1059, 'smoke': 1060, 'listen,': 1061, 'raised': 1062, 'wearing': 1063, 'work.': 1064, 'el': 1065, 'did,': 1066, 'nice.': 1067, 'patrice:': 1068, 'anyway,': 1069, 'seeing': 1070, 'treat': 1071, 'off,': 1072, 'human': 1073, 'to,': 1074, 'important': 1075, 'going.': 1076, 'swear': 1077, 'safe': 1078, 'hello,': 1079, 'minutes': 1080, 'game': 1081, 'saddam': 1082, 'ready.': 1083, 'turned': 1084, 'within': 1085, 'shit?': 1086, 'asked': 1087, 'allow': 1088, 'wrong,': 1089, 'off!': 1090, 'fbi': 1091, 'jimmie,': 1092, '\"fuck\"': 1093, 'am.': 1094, 'danny.': 1095, 'room.': 1096, 'sir?': 1097, 'beer.': 1098, 'gives': 1099, 'cool': 1100, 'mean...': 1101, 'pen.': 1102, 'turner:': 1103, 'kick': 1104, 'christ!': 1105, 'to...': 1106, 'full': 1107, 'course.': 1108, 'wedding': 1109, 'sweetheart.': 1110, 'belfort.': 1111, 'madden.': 1112, 'cool,': 1113, 'her!': 1114, 'so.': 1115, 'people?': 1116, 'family.': 1117, 'doing.': 1118, 'fighting': 1119, 'moving': 1120, 'names': 1121, 'second': 1122, 'well.': 1123, 'three.': 1124, 'gang.': 1125, 'venice': 1126, 'cameron': 1127, 'fun': 1128, 'thinks': 1129, 'lie': 1130, 'walter:': 1131, 'i?': 1132, 'gone.': 1133, 'mine.': 1134, 'ya.': 1135, 'caught': 1136, 'felix!': 1137, 'glad': 1138, 'penny': 1139, 'yourself,': 1140, 'investigation.': 1141, 'five,': 1142, '-thank': 1143, 'grounded': 1144, \"fuck's\": 1145, 'house!': 1146, 'me...': 1147, 'welcome.': 1148, 'fine': 1149, 'tonight,': 1150, 'needs': 1151, 'meeting': 1152, 'proud': 1153, 'talk.': 1154, 'see.': 1155, 'righteous': 1156, 'not?': 1157, 'not,': 1158, 'word.': 1159, 'coming.': 1160, 'why.': 1161, 'friends.': 1162, 'yep.': 1163, \"where'd\": 1164, 'carry': 1165, 'act': 1166, 'visit': 1167, 'war.': 1168, 'bigger': 1169, 'felix.': 1170, 'working': 1171, 'remove': 1172, '\"i': 1173, 'cross': 1174, 'near': 1175, 'truth': 1176, 'store': 1177, 'be,': 1178, 'danny,': 1179, 'django,': 1180, 'stuff.': 1181, 'lara': 1182, 'personal': 1183, 'happened.': 1184, '50': 1185, 'bro.': 1186, 'partner': 1187, 'john.': 1188, 'book': 1189, 'character.': 1190, 'anyone': 1191, 'breakfast.': 1192, 'half': 1193, 'men,': 1194, 'clean': 1195, 'cartman!': 1196, 'federal': 1197, 'mountain': 1198, 'finish': 1199, 'klan': 1200, 'think?': 1201, 'wake': 1202, 'okay!': 1203, 'off?': 1204, 'skull': 1205, 'truly': 1206, 'face.': 1207, 'answer': 1208, 'grew': 1209, 'done.': 1210, 'problem.': 1211, 'motherfucker': 1212, 'chance': 1213, 'single': 1214, 'week.': 1215, \"brother's\": 1216, 'say.': 1217, 'sold': 1218, 'something?': 1219, 'whatever.': 1220, \"one's\": 1221, 'wife,': 1222, 'easy': 1223, 'right!': 1224, \"didn't.\": 1225, 'year': 1226, 'gentlemen,': 1227, 'sister.': 1228, 'them!': 1229, 'whoa,': 1230, 'finally': 1231, 'case,': 1232, 'sign': 1233, 'is...': 1234, 'case': 1235, 'court': 1236, 'falling': 1237, 'dick': 1238, 'turns': 1239, 'clients': 1240, 'sales': 1241, 'madden': 1242, 'drink.': 1243, 'body': 1244, 'offer': 1245, 'shooting': 1246, 'hilda,': 1247, 'union': 1248, 'college': 1249, \"'til\": 1250, 'big,': 1251, 'german.': 1252, 'us?': 1253, 'pack': 1254, 'sister': 1255, 'seat': 1256, 'beach': 1257, 'membership': 1258, 'hmm?': 1259, 'car,': 1260, 'carrucan': 1261, 'brothers': 1262, \"y'all\": 1263, 'black.': 1264, 'idea.': 1265, 'except': 1266, 'wallace.': 1267, 'whether': 1268, 'no?': 1269, 'life,': 1270, '-get': 1271, 'either.': 1272, 'dangerous.': 1273, 'join': 1274, 'movie.': 1275, 'destroy': 1276, 'two,': 1277, 'three,': 1278, 'late': 1279, 'jimmy:': 1280, 'party': 1281, 'red': 1282, 'moms': 1283, '-is': 1284, 'worse.': 1285, 'nigger?': 1286, 'wait,': 1287, 'guard': 1288, \"nothin'.\": 1289, 'thanks,': 1290, 'kenny!': 1291, 'jimmy,': 1292, 'late.': 1293, '-this': 1294, 'dogs': 1295, 'cannot': 1296, 'though': 1297, 'think.': 1298, 'want,': 1299, 'cartman,': 1300, 'phillip!': 1301, 'phillip?': 1302, 'are?': 1303, 'child': 1304, 'moved': 1305, \"god's\": 1306, 'ahead,': 1307, 'english.': 1308, 'dance.': 1309, 'chief,': 1310, 'pulled': 1311, 'moment': 1312, 'saddam,': 1313, 'certainly': 1314, 'bunny.': 1315, 'reason': 1316, 'fine,': 1317, 'rule': 1318, 'come.': 1319, 'fart': 1320, 'ivanhoe:': 1321, 'maybe.': 1322, 'figure': 1323, 'dumb': 1324, 'kids.': 1325, 'wallace': 1326, 'fact,': 1327, 'figured': 1328, 'rodney': 1329, 'friend,': 1330, 'yourself.': 1331, 'boys': 1332, 'again?': 1333, 'hell,': 1334, 'weeks': 1335, 'boys,': 1336, 'information': 1337, 'bitch?': 1338, 'price': 1339, 'tonight': 1340, 'killed,': 1341, 'happens': 1342, 'canada': 1343, 'ku': 1344, 'klux': 1345, 'klan.': 1346, 'born': 1347, 'luck.': 1348, 'people!': 1349, 'for.': 1350, 'smart': 1351, 'system.': 1352, 'slave': 1353, 'guy,': 1354, 'south': 1355, 'carmichael': 1356, 'office.': 1357, 'feet': 1358, 'freedom.': 1359, 'better,': 1360, 'why,': 1361, 'the...': 1362, 'children,': 1363, 'mom,': 1364, 'oh.': 1365, 'my...': 1366, 'serious.': 1367, 'deal.': 1368, 'earth.': 1369, 'security': 1370, \"would've\": 1371, 'words': 1372, 'instead': 1373, 'pissed': 1374, 'face': 1375, 'are,': 1376, 'drug': 1377, 'exactly.': 1378, 'name,': 1379, 'said.': 1380, 'law': 1381, 'starting': 1382, 'wolf,': 1383, 'feeling': 1384, 'think,': 1385, 'chief': 1386, 'alive.': 1387, 'word?': 1388, 'sitting': 1389, 'motherfuckers': 1390, 'married': 1391, 'serious': 1392, 'trade': 1393, 'places': 1394, 'john,': 1395, 'rich.': 1396, 'jordan?': 1397, 'donnie!': 1398, 'phase.': 1399, 'donnie.': 1400, 'control.': 1401, 'mia.': 1402, 'hurry': 1403, 'news.': 1404, 'ture.': 1405, 'out?': 1406, 'office': 1407, 'rid': 1408, \"can't.\": 1409, 'days,': 1410, 'willing': 1411, 'yo,': 1412, 'police.': 1413, 'head,': 1414, \"could've\": 1415, 'due': 1416, 'freedom': 1417, 'wendy': 1418, 'threw': 1419, 'certain': 1420, 'other.': 1421, \"broomhilda's\": 1422, 'attacked': 1423, 'mean.': 1424, 'minute,': 1425, 'cool!': 1426, 'spread': 1427, 'said...': 1428, 'knock': 1429, 'rendezvous': 1430, 'yours.': 1431, 'learned': 1432, 'help.': 1433, 'shoes': 1434, 'bullshit': 1435, 'aboot': 1436, 'bringing': 1437, 'loved': 1438, 'strong.': 1439, 'ben': 1440, 'coffee': 1441, 'ladies': 1442, 'antwan': 1443, 'chapter': 1444, 'president.': 1445, 'ready,': 1446, 'line.': 1447, \"it'd\": 1448, 'mouth.': 1449, 'sure?': 1450, 'mom.': 1451, 'does.': 1452, 'friend?': 1453, 'army': 1454, '10': 1455, 'green': 1456, 'soil!': 1457, 'billy': 1458, 'joe': 1459, \"weren't\": 1460, 'care.': 1461, 'over,': 1462, 'meant': 1463, 'seems': 1464, 'hood.': 1465, 'chief.': 1466, 'pig': 1467, 'sweeney': 1468, 'sale.': 1469, 'feed': 1470, 'funny': 1471, \"'em,\": 1472, 'niggers,': 1473, 'load': 1474, '-tell': 1475, 'too?': 1476, 'brothers,': 1477, 'slave.': 1478, 'months': 1479, 'brothers.': 1480, \"everything's\": 1481, 'sex.': 1482, 'fat,': 1483, 'satan,': 1484, 'led': 1485, \"they'd\": 1486, 'situation': 1487, 'door.': 1488, 'cousin': 1489, 'parents': 1490, 'though,': 1491, 'besides,': 1492, 'character': 1493, 'greenville': 1494, 'mandingo': 1495, 'eyes.': 1496, 'remember.': 1497, 'brittle': 1498, 'chip': 1499, 'walter.': 1500, 'sweet.': 1501, 'civil': 1502, 'pigs': 1503, 'happy.': 1504, 'doctor,': 1505, 'punch': 1506, 'broomhilda': 1507, 'black,': 1508, 'story': 1509, 'questions.': 1510, 'film': 1511, \"doin'\": 1512, 'ok.': 1513, 'motherfucking': 1514, '-did': 1515, \"-i'll\": 1516, 'danny?': 1517, 'duke': 1518, 'sex': 1519, 'massage.': 1520, 'bad,': 1521, 'everybody.': 1522, 'perfect.': 1523, 'is!': 1524, \"-what's\": 1525, 'jesus,': 1526, 'jive': 1527, 'fire!': 1528, 'playing': 1529, 'kenny,': 1530, 'anybody.': 1531, 'forgive': 1532, 'with.': 1533, 'yet,': 1534, 'then.': 1535, 'sweetie.': 1536, 'book.': 1537, 'stupid.': 1538, 'what.': 1539, \"'em!\": 1540, 'fair': 1541, 'fast,': 1542, 'held': 1543, 'jail.': 1544, 'arrest': 1545, 'later.': 1546, 'fast.': 1547, 'moguy,': 1548, 'state': 1549, 'picked': 1550, 'completely': 1551, 'connie,': 1552, 'agree': 1553, 'speaks': 1554, 'calvin': 1555, 'honey,': 1556, 'candie': 1557, 'message': 1558, 'laughing': 1559, 'known': 1560, 'taken': 1561, \"name's\": 1562, 'candyland': 1563, 'stop.': 1564, 'wow!': 1565, 'sort': 1566, '-if': 1567, 'saying.': 1568, 'beautiful.': 1569, '-fuck': 1570, 'drugs': 1571, 'joke.': 1572, 'blind': 1573, 'about...': 1574, 'ago.': 1575, 'sense': 1576, 'house?': 1577, \"-you're\": 1578, \"father's\": 1579, 'place,': 1580, 'lot.': 1581, 'ready?': 1582, 'dying': 1583, 'future': 1584, 'spent': 1585, 'streets': 1586, 'force': 1587, 'discuss': 1588, 'expect': 1589, 'hanging': 1590, 'close': 1591, 'chill': 1592, 'month.': 1593, 'wonder': 1594, 'saying,': 1595, 'homeless': 1596, 'still,': 1597, '20': 1598, 'boys.': 1599, 'shoe': 1600, 'holding': 1601, 'becoming': 1602, 'living': 1603, 'gun!': 1604, 'whoa!': 1605, 'wife?': 1606, 'better.': 1607, 'allowed': 1608, '\"you': 1609, 'walks': 1610, 'either': 1611, 'organization.': 1612, 'kids!': 1613, 'general': 1614, 'hell!': 1615, 'alive,': 1616, 'short': 1617, 'fit': 1618, 'pure': 1619, 'showed': 1620, '-okay.': 1621, 'money,': 1622, 'suck': 1623, 'jerk': 1624, 'complete': 1625, 'matter!': 1626, 'ah,': 1627, 'worry,': 1628, 'fell': 1629, 'situation.': 1630, 'satan.': 1631, 'trip': 1632, 'months.': 1633, 'decided': 1634, 'hired': 1635, 'naomi': 1636, \"it's...\": 1637, 'pink': 1638, \"women's\": 1639, 'jet': 1640, 'donnie,': 1641, 'securities': 1642, 'bonnie': 1643, 'together,': 1644, 'cap': 1645, 'past': 1646, 'death.': 1647, 'path': 1648, 'john': 1649, 'round': 1650, 'hilda.': 1651, 'move.': 1652, 'books': 1653, 'spoke': 1654, 'kids,': 1655, 'cheese.': 1656, '$12,000.': 1657, 'broomhilda.': 1658, 'watched': 1659, 'bags': 1660, 'want?': 1661, 'bar': 1662, 'one!': 1663, 'trash': 1664, 'with?': 1665, 'test.': 1666, 'seem': 1667, 'secret': 1668, \"boy's\": 1669, \"they've\": 1670, 'position': 1671, 'oh...': 1672, 'morning...': 1673, 'fellas.': 1674, 'notice': 1675, 'attention,': 1676, 'was.': 1677, 'americans': 1678, '-a': 1679, 'candie...': 1680, \"should've\": 1681, 'enter': 1682, 'woman.': 1683, 'hand,': 1684, 'paid': 1685, 'news': 1686, 'floor': 1687, 'ring': 1688, 'table': 1689, 'jesse': 1690, 'bullshit,': 1691, 'ourselves': 1692, 'finish?': 1693, '-uh,': 1694, 'sweeney.': 1695, \"givin'\": 1696, 'moment.': 1697, 'mine': 1698, 'tonight?': 1699, 'else.': 1700, 'vincent': 1701, 'fact.': 1702, 'quick.': 1703, 'careful.': 1704, 'hell.': 1705, 'dead,': 1706, 'wrote': 1707, 'out...': 1708, 'say...': 1709, 'pen': 1710, 'using': 1711, 'beast': 1712, 'favor': 1713, 'time?': 1714, 'nah,': 1715, 'small': 1716, 'happen.': 1717, 'alive': 1718, 'pal.': 1719, 'different.': 1720, 'gold': 1721, 'days.': 1722, 'simply': 1723, 'execution': 1724, '\"it\\'s': 1725, 'dare': 1726, 'crazy?': 1727, 'dad': 1728, 'judge': 1729, '-yes,': 1730, 'pride': 1731, 'buys': 1732, 'fire.': 1733, 'hilda': 1734, 'schultz': 1735, 'back?': 1736, 'lick': 1737, 'lawyer.': 1738, 'flowers': 1739, 'department': 1740, '-chill': 1741, 'fellow': 1742, 'safe.': 1743, 'border': 1744, 'purchase': 1745, 'ass,': 1746, 'conversation': 1747, 'guy?': 1748, 'thousand': 1749, \"daddy's\": 1750, 'goddamn,': 1751, \"jimmie's\": 1752, 'home,': 1753, 'duke,': 1754, 'troops': 1755, 'game.': 1756, 'um...': 1757, 'horse,': 1758, 'head.': 1759, 'strong': 1760, 'lead': 1761, 'sun': 1762, '-so': 1763, 'heard.': 1764, 'several': 1765, 'felix': 1766, 'door!': 1767, 'picture': 1768, 'walter': 1769, 'beer': 1770, 'broomhilda,': 1771, 'pie.': 1772, 'cousin,': 1773, 'hands.': 1774, \"mom's\": 1775, 'wide': 1776, 'girls': 1777, 'wrong?': 1778, '-no': 1779, 'farmer': 1780, 'we?': 1781, 'stan.': 1782, 'imagine': 1783, 'going!': 1784, 'django!': 1785, 'stopped': 1786, 'canada.': 1787, 'deal,': 1788, 'clitoris.': 1789, 'peckerwood': 1790, 'massage': 1791, 'medical': 1792, 'play.': 1793, \"sittin'\": 1794, \"eatin'\": 1795, 'white,': 1796, 'trouble,': 1797, 'ow!': 1798, 'brain': 1799, 'times.': 1800, 'pulling': 1801, 'minute': 1802, \"guy's\": 1803, 'saved': 1804, 'hitting': 1805, 'remember,': 1806, 'sight': 1807, 'burning': 1808, 'german,': 1809, 'understand,': 1810, 'high.': 1811, \"somebody's\": 1812, 'sons': 1813, 'corpse': 1814, 'cold': 1815, 'evening,': 1816, 'jules.': 1817, 'straight.': 1818, 'bastard': 1819, 'jew.': 1820, 'asshole.': 1821, 'dead?': 1822, 'rode': 1823, 'continue': 1824, \"sayin'\": 1825, 'boner-biting': 1826, 'liquor': 1827, 'decision.': 1828, 'tv.': 1829, 'will,': 1830, 'total': 1831, 'above': 1832, 'market': 1833, 'war,': 1834, 'brittle.': 1835, 'lived': 1836, 'shit...': 1837, 'scare': 1838, 'intend': 1839, 'show,': 1840, 'north': 1841, 'live.': 1842, 'v-chip': 1843, 'laying': 1844, 'candyland.': 1845, 'martin': 1846, 'heart.': 1847, 'happens.': 1848, 'last.': 1849, 'week': 1850, 'today?': 1851, 'want.': 1852, 'everybody,': 1853, 'preacher': 1854, 'things.': 1855, 'hour.': 1856, 'attack.': 1857, 'alone': 1858, 'anymore,': 1859, 'before,': 1860, 'mary': 1861, 'problem,': 1862, 'stan,': 1863, 'justice': 1864, 'al!': 1865, 'then?': 1866, \"gettin'\": 1867, 'there...': 1868, 'pussy': 1869, 'who,': 1870, 'double': 1871, 'robbery.': 1872, 'operation': 1873, 'words.': 1874, 'like...': 1875, 'ago,': 1876, 'island': 1877, 'candyland,': 1878, 'friendly': 1879, 'ture:': 1880, 'works': 1881, 'like.': 1882, 'taught': 1883, 'prison.': 1884, 'pocket.': 1885, 'national': 1886, 'card': 1887, 'private': 1888, '-why': 1889, 'leaving.': 1890, 'lequint': 1891, 'prison': 1892, 'oh': 1893, 'broken': 1894, 'night...': 1895, 'crazy.': 1896, 'apartment.': 1897, 'huge': 1898, 'powerful': 1899, 'felt': 1900, 'home!': 1901, 'good!': 1902, 'thing!': 1903, 'if...': 1904, 'he?': 1905, 'bullshit!': 1906, 'chop': 1907, 'water': 1908, 'bank': 1909, 'fucking...': 1910, \"that'd\": 1911, 'else,': 1912, 'really,': 1913, 'de': 1914, 'oakmont': 1915, 'naomi,': 1916, 'broker': 1917, 'happened?': 1918, 'shares': 1919, 'firm': 1920, 'belfort,': 1921, 'babe.': 1922, 'cost': 1923, 'wolfie!': 1924, 'steve.': 1925, 'shoes.': 1926, 'sec': 1927, 'agent': 1928, 'sweetheart,': 1929, 'switzerland': 1930, 'case.': 1931, 'totally': 1932, 'fast': 1933, 'member': 1934, 'terrance.': 1935, 'rights': 1936, 'hour': 1937, 'honor': 1938, 'crash': 1939, 'plantation': 1940, \"don't,\": 1941, 'granddad': 1942, 'of.': 1943, 'ice': 1944, 'more,': 1945, 'rat': 1946, 'taste': 1947, 'bed.': 1948, \"tellin'\": 1949, 'kinda': 1950, 'own.': 1951, 'rocky': 1952, 'honor.': 1953, 'matter.': 1954, \"danny's\": 1955, '-hey,': 1956, '\"don\\'t': 1957, 'fire,': 1958, 'shy.': 1959, 'prepare': 1960, 'red.': 1961, 'tasty': 1962, 'detector': 1963, 'illegal': 1964, 'chicken': 1965, 'hercules.': 1966, 'mrs.': 1967, 'die.': 1968, 'brett?': 1969, 'introduce': 1970, 'broomhilda?': 1971, \"everyone's\": 1972, 'zed.': 1973, 'gone,': 1974, 'seat,': 1975, \"pleasure's\": 1976, 'hash': 1977, 'was,': 1978, 'lot,': 1979, 'threats': 1980, 'detective': 1981, 'toss': 1982, 'love.': 1983, 'nine': 1984, 'business,': 1985, 'believed': 1986, 'ike,': 1987, 'horrible': 1988, 'bit.': 1989, 'hair.': 1990, 'heart,': 1991, 'oppression': 1992, 'trip.': 1993, 'choose': 1994, '$500': 1995, 'four,': 1996, 'longer': 1997, \"nigger's\": 1998, 'movie,': 1999, 'organization': 2000, 'gentlemen': 2001, 'the,': 2002, 'miles': 2003, 'officer': 2004, 'shot!': 2005, 'dear': 2006, \"thinkin'\": 2007, 'wedding.': 2008, 'twice': 2009, 'laugh': 2010, 'indeed,': 2011, 'sale': 2012, 'race.': 2013, 'african': 2014, '-in': 2015, 'are!': 2016, 'motherfuckers!': 2017, 'seen.': 2018, 'inside.': 2019, 'patrice.': 2020, 'everything.': 2021, 'luck,': 2022, 'redneck': 2023, 'followed': 2024, 'paper.': 2025, 'acting': 2026, '-stop': 2027, 'top,': 2028, \"she'll\": 2029, 'handbill': 2030, 'stacey.': 2031, 'danny!': 2032, 'goddamn!': 2033, 'help,': 2034, 'thinking?': 2035, 'sistance': 2036, 'burned': 2037, 'difference': 2038, 'laugh.': 2039, 'sure,': 2040, 'hon.': 2041, \"dad's\": 2042, 'god?': 2043, 'walker:': 2044, 'nervous': 2045, 'later,': 2046, 'ugly': 2047, 'public': 2048, 'mind?': 2049, 'number': 2050, 'fabienne!': 2051, 'ok,': 2052, 'something,': 2053, 'cleaned': 2054, 'danny': 2055, \"he'll\": 2056, 'sleep.': 2057, 'unbelievable.': 2058, 'fuck...': 2059, 'time!': 2060, 'share.': 2061, 'boom-shaka-laka!': 2062, 'town,': 2063, '[radio:': 2064, 'ran': 2065, 'access': 2066, 'joe.': 2067, 'cops...': 2068, 'standing': 2069, 'sick.': 2070, 'shits': 2071, 'back...': 2072, 'cop,': 2073, 'french': 2074, 'sell.': 2075, '-are': 2076, 'something!': 2077, 'saturday': 2078, 'blueberry': 2079, '-not': 2080, 'anyway?': 2081, \"america's\": 2082, 'open.': 2083, \"-you'd\": 2084, 'massage?': 2085, 'asshole!': 2086, 'be?': 2087, 'mess': 2088, 'kept': 2089, 'dangerous': 2090, 'speaking': 2091, 'at?': 2092, 'rescue': 2093, 'dress': 2094, \"goin'\": 2095, 'spell': 2096, 'relax,': 2097, 'glass': 2098, '-we': 2099, 'um,': 2100, 'von': 2101, 'loud.': 2102, 'proud.': 2103, 'slaver.': 2104, 'feel.': 2105, 'city': 2106, 'account': 2107, 'eight': 2108, 'clear.': 2109, 'thanks.': 2110, 'example,': 2111, 'lift': 2112, 'smart,': 2113, 'laws': 2114, 'flip?': 2115, 'horses,': 2116, \"lookin'\": 2117, 'watch,': 2118, \"-he's\": 2119, 'rare': 2120, 'soul': 2121, 'mouth,': 2122, 'cops.': 2123, 'lunch.': 2124, 'perfect': 2125, 'sunday': 2126, 'rolling': 2127, 'mistake.': 2128, \"felix's\": 2129, 'turkey.': 2130, 'stopping': 2131, 'one...': 2132, 'for...': 2133, 'heaven': 2134, 'still.': 2135, 'march': 2136, 'placed': 2137, 'wait!': 2138, 'jesse.': 2139, 'work?': 2140, 'thrown': 2141, 'thing,': 2142, '\"we': 2143, 'next,': 2144, 'interested': 2145, 'bloody': 2146, 'honey!': 2147, 'fought': 2148, 'christian': 2149, 'church': 2150, 'goddamn.': 2151, 'watches.': 2152, 'first,': 2153, 'soon.': 2154, 'sometime': 2155, 'him...': 2156, 'early': 2157, 'serving': 2158, 'wanted.': 2159, 'clear?': 2160, '-he': 2161, 'butch,': 2162, 'stab': 2163, '-hey': 2164, 'town.': 2165, 'sugar': 2166, 'little.': 2167, 'flip,': 2168, 'pass': 2169, 'fucks': 2170, 'amount': 2171, 'world!': 2172, 'chickasaw': 2173, 'puts': 2174, 'mmm,': 2175, 'officer.': 2176, 'magic': 2177, 'fun.': 2178, 'buddy,': 2179, 'jack': 2180, 'tyranny': 2181, 'sheets,': 2182, 'smart.': 2183, 'owned': 2184, 'negro': 2185, 'kyle!': 2186, 'go?': 2187, 'dogs!': 2188, 'club!': 2189, 'forward': 2190, 'extra': 2191, 'slow': 2192, 'military': 2193, 'expert': 2194, 'what...': 2195, 'change,': 2196, 'society': 2197, '\"kill': 2198, 'stokely': 2199, 'tells': 2200, 'jew,': 2201, 'dog.': 2202, 'matter?': 2203, 'baby?': 2204, '-my': 2205, 'damn.': 2206, 'klan?': 2207, 'neck': 2208, 'strike': 2209, 'fucka!': 2210, 'stock.': 2211, \"m'kay.\": 2212, '\"this': 2213, 'associated': 2214, 'smells': 2215, 'mind,': 2216, 'hero': 2217, 'butter': 2218, 'around!': 2219, 'beyond': 2220, 'guest.': 2221, 'rest.': 2222, 'coming,': 2223, 'mothers': 2224, 'four.': 2225, 'hooray!': 2226, 'wore': 2227, 'long,': 2228, 'done?': 2229, 'jump': 2230, 'day?': 2231, \"calvin's\": 2232, 'luck': 2233, 'states.': 2234, 'sarge.': 2235, 'excited': 2236, 'ellis': 2237, 'hand.': 2238, 'kills': 2239, '$10,000': 2240, 'replace': 2241, 'call.': 2242, 'auf': 2243, 'breakfast?': 2244, 'investigation?': 2245, 'help!': 2246, 'forced': 2247, 'three!': 2248, 'get.': 2249, 'shh!': 2250, 'kid.': 2251, 'tony': 2252, 'bottom': 2253, 'choice.': 2254, 'awesome': 2255, 'keeps': 2256, 'rob': 2257, 'cold.': 2258, 'goddamn...': 2259, 'anymore': 2260, 'liked': 2261, 'neighborhood.': 2262, 'dreams': 2263, 'mouth!': 2264, 'dollars.': 2265, 'earth': 2266, 'attack,': 2267, 'late,': 2268, 'eye': 2269, 'hat.': 2270, 'lock': 2271, 'sec.': 2272, 'belong': 2273, 'marshal.': 2274, 'one-eyed': 2275, 'lance!': 2276, \"farmer's\": 2277, 'lil': 2278, 'raj.': 2279, 'ah!': 2280, 'right...': 2281, 'political': 2282, 'gang': 2283, 'lady,': 2284, 'high?': 2285, '\"mein': 2286, 'language': 2287, 'remember?': 2288, 'starts': 2289, 'faster.': 2290, 'dan.': 2291, 'hear.': 2292, 'jackrabbit': 2293, 'pitch': 2294, 'jimmie?': 2295, 'reach': 2296, 'amazing': 2297, 'darn': 2298, 'weak': 2299, 'valley': 2300, 'lawn': 2301, 'afternoon': 2302, 'together?': 2303, 'surprised': 2304, 'garage.': 2305, 'himself': 2306, 'clothes': 2307, 'interesting.': 2308, 'local': 2309, 'air': 2310, 'sing': 2311, 'anybody,': 2312, 'list': 2313, 'lying': 2314, 'spare': 2315, 'driving': 2316, 'idiot.': 2317, 'english': 2318, 'got...': 2319, 'ourselves.': 2320, 'patrice': 2321, 'way!': 2322, 'unless': 2323, 'battalion': 2324, 'slave,': 2325, 'treated': 2326, 'arrested': 2327, 'problem?': 2328, 'vengeance': 2329, 'promise.': 2330, 'month': 2331, 'riding': 2332, 'contact': 2333, 'flip.': 2334, 'well?': 2335, 'mention': 2336, 'hussein': 2337, 'dickey': 2338, 'ashamed': 2339, 'myself,': 2340, 'attempt': 2341, 'sail': 2342, 'inside?': 2343, 'same.': 2344, 'hmm.': 2345, 'investigating': 2346, 'pocket': 2347, 'careful': 2348, 'power.': 2349, 'former': 2350, 'serve': 2351, 'release': 2352, 'personally': 2353, 'enough,': 2354, 'bucks': 2355, 'over?': 2356, 'minute!': 2357, '\"native': 2358, 'family,': 2359, 'ahead': 2360, 'phase': 2361, 'appears': 2362, 'helped': 2363, 'rifles': 2364, 'enjoy': 2365, 'scared.': 2366, 'adrenaline': 2367, 'british': 2368, 'tom.': 2369, 'person.': 2370, 'died': 2371, 'fall': 2372, 'ten': 2373, 'records': 2374, 'hot.': 2375, \"c'est\": 2376, 'history': 2377, 'brittle,': 2378, 'gun,': 2379, 'mommy': 2380, 'all!': 2381, 'stop!': 2382, 'old,': 2383, 'cartman?': 2384, 'plan.': 2385, 'happen?': 2386, 'night?': 2387, 'of...': 2388, 'motherfuckers.': 2389, 'plane': 2390, 'i,': 2391, \"i'm...\": 2392, 'area': 2393, 'we...': 2394, 'garbage': 2395, 'license': 2396, 'pants.': 2397, 'rock': 2398, 'run!': 2399, 'cop?': 2400, 'company.': 2401, 'oakmont.': 2402, 'million.': 2403, \"investor's\": 2404, 'center.': 2405, 'boat': 2406, 'ludes': 2407, 'brad,': 2408, 'chester': 2409, 'kevin.': 2410, 'offered': 2411, 'belfort!': 2412, 'dad,': 2413, 'dollar': 2414, 'correct.': 2415, 'ej': 2416, 'jordy!': 2417, 't&a.': 2418, 'credit': 2419, 'minutes,': 2420, 'naomi.': 2421, 'rocky.': 2422, 'rudy.': 2423, 'rudy': 2424, 'rathole': 2425, 'brad': 2426, 'bribe': 2427, 'rugrat.': 2428, 'jail': 2429, 'croix.': 2430, 'switzerland.': 2431, 'emma': 2432, 'kimmie': 2433, 'orders': 2434, 'moguy.': 2435, 'hands,': 2436, 'lovebirds.': 2437, 'more!': 2438, 'losing': 2439, 'finds': 2440, 'miracle': 2441, 'ya': 2442, 'rats': 2443, 'goodbye,': 2444, 'gun.': 2445, 'ron!': 2446, 'hero.': 2447, 'honored': 2448, 'wondering': 2449, 'year.': 2450, 'lower': 2451, 'belly.': 2452, 'milk': 2453, 'less.': 2454, '10,000.': 2455, 'snow': 2456, 'affirmative': 2457, 'royale': 2458, 'fort': 2459, 'marry': 2460, 'bed,': 2461, 'asshole': 2462, 'jerry.': 2463, 'innocent': 2464, 'lies': 2465, 'brother?': 2466, 'tea': 2467, 'country,': 2468, 'maple': 2469, 'large': 2470, 'alexander': 2471, 'vinyard': 2472, 'trigger.': 2473, 'specifically': 2474, 'reminded': 2475, 'fuss': 2476, 'wherever': 2477, 'breaks': 2478, 'tarzan': 2479, 'wash': 2480, 'amongst': 2481, 'donde': 2482, 'esta': 2483, 'hand?': 2484, 'file': 2485, 'enough?': 2486, 'mother.': 2487, 'clitoris': 2488, 'body.': 2489, 'bible,': 2490, 'shining': 2491, 'way...': 2492, 'hear?': 2493, 'were,': 2494, 'l.a.': 2495, 'deal?': 2496, 'important.': 2497, 'naughty': 2498, '-the': 2499, 'won': 2500, 'smile': 2501, 'sick!': 2502, 'broke': 2503, 'launched': 2504, 'soap.': 2505, 'nothing,': 2506, 'quack.': 2507, '-take': 2508, 'damn!': 2509, '7,': 2510, 'buckle': 2511, 'six,': 2512, 'corner': 2513, 'lincoln': 2514, 'bell': 2515, 'wolf.': 2516, 'jimmie.': 2517, 'pig?': 2518, 'grab': 2519, 'aboot...': 2520, 'positive': 2521, 'manager.': 2522, 'invited': 2523, 'others': 2524, 'came.': 2525, 'ways': 2526, '...and': 2527, 'also,': 2528, 'speck': 2529, 'food': 2530, 'charge': 2531, 'al': 2532, '-no.': 2533, 'ooh!': 2534, 'anger': 2535, 'field': 2536, 'girl?': 2537, 'lesson': 2538, 'arm': 2539, 'alone.': 2540, 'nerve.': 2541, 'let...': 2542, 'kid,': 2543, 'hates': 2544, 'skin': 2545, 'northern': 2546, '\"black': 2547, \"sayin'?\": 2548, 'charming': 2549, 'mommy!': 2550, 'stabbed': 2551, 'dollars,': 2552, 'dealing': 2553, 'some...': 2554, 'lots': 2555, 'watch!': 2556, 'war?': 2557, \"somethin'.\": 2558, 'amen.': 2559, 'less': 2560, 'carried': 2561, 'ground': 2562, 'box?': 2563, 'winona': 2564, 'hot!': 2565, 'celebrities,': 2566, 'tough,': 2567, 'uh-huh.': 2568, 'keeping': 2569, 'precious': 2570, 'drink,': 2571, 'second,': 2572, 'miracle,': 2573, 'winston.': 2574, 'terrance,': 2575, 'responsible': 2576, \"wasn't.\": 2577, 'subject': 2578, 'teacher': 2579, 'legs': 2580, 'women.': 2581, 'exceptional': 2582, \"walkin'\": 2583, \"countin'\": 2584, 'bother': 2585, 'talk,': 2586, 'rookie.': 2587, 'alright,': 2588, 'quietly': 2589, 'folks,': 2590, 'for,': 2591, 'burger': 2592, 'redneck,': 2593, 'fabulous': 2594, 'chill!': 2595, 'bunny!': 2596, 'calvin!': 2597, 'jackie': 2598, '-let': 2599, 'wise': 2600, 'stan!': 2601, 'age': 2602, 'goes.': 2603, 'record': 2604, 'equal': 2605, 'told,': 2606, 'patrice,': 2607, 'liberation': 2608, \"stonesipher's\": 2609, 'sheila': 2610, 'breaking': 2611, 'higher': 2612, 'fight,': 2613, '-just': 2614, 'lucky.': 2615, 'have,': 2616, '5,000': 2617, 'pancakes.': 2618, 'writes': 2619, 'true.': 2620, 'joke,': 2621, \"nobody's\": 2622, 'pot.': 2623, 'ezekiel': 2624, '25:17.': 2625, 'finder': 2626, 'lotsa': 2627, 'partners': 2628, '-have': 2629, 'voice': 2630, 'change.': 2631, 'weight': 2632, 'string': 2633, 'kid?': 2634, 'one?': 2635, 'everywhere': 2636, 'be...': 2637, 'dick!': 2638, \"comin'\": 2639, 'ya,': 2640, 'sees': 2641, 'afraid.': 2642, 'staring': 2643, 'straight,': 2644, 'on...': 2645, 'words?': 2646, 'everyone.': 2647, 'plays]': 2648, 'dropped': 2649, 'sisters': 2650, \"somethin'\": 2651, 'possible.': 2652, 'motherfucker,': 2653, 'raquel.': 2654, 'jimmy.': 2655, 'box': 2656, 'coon': 2657, 'doctor': 2658, 'lawyer': 2659, 'instead,': 2660, 'credible': 2661, 'remind': 2662, 'maker.': 2663, \"wallace's\": 2664, 'ball.': 2665, 'seth!': 2666, 'twin.': 2667, 'quarter': 2668, 'pounder': 2669, 'cheese': 2670, 'word,': 2671, 'invisible': 2672, 'city.': 2673, 'young,': 2674, 'aside,': 2675, 'tongue.': 2676, 'fuck?': 2677, 'apparently': 2678, 'officers.': 2679, 'missed': 2680, 'low': 2681, 'sistance.': 2682, 'oughta': 2683, 'simple.': 2684, 'or...': 2685, 'stupid,': 2686, 'goddamned': 2687, 'later': 2688, 'spot.': 2689, 'parents,': 2690, 'immediately.': 2691, 'funny?': 2692, 'pleasure.': 2693, 'visitor.': 2694, 'anyway.': 2695, 'murray,': 2696, 'reimburse': 2697, 'koons.': 2698, 'bullets.': 2699, 'stole': 2700, 'says,': 2701, 'island.': 2702, 'about!': 2703, 'buddy': 2704, 'win,': 2705, 'wow,': 2706, 'daddy?': 2707, 'ye...': 2708, \"fuck'd\": 2709, 'ya?': 2710, 'little,': 2711, 'mate.': 2712, 'fool': 2713, 'lady': 2714, 'folks.': 2715, 'answer,': 2716, 'garrison.': 2717, 'lookie': 2718, \"stickin'\": 2719, 'line!': 2720, 'incident': 2721, '85%': 2722, 'society,': 2723, 'although': 2724, 'target.': 2725, 'furious': 2726, 'anger...': 2727, 'roll': 2728, 'dirty.': 2729, 'nowhere.': 2730, 'problems.': 2731, '-well': 2732, 'company,': 2733, 'date.': 2734, \"motherfucker's\": 2735, '-good': 2736, 'breathe': 2737, 'roscoe,': 2738, 'trapp,': 2739, 'leaving': 2740, 'indeed.': 2741, 'however,': 2742, 'yolanda!': 2743, 'property.': 2744, 'else?': 2745, 'meanwhile,': 2746, 'thousand?': 2747, 'detective.': 2748, 'funny,': 2749, 'metric': 2750, 'sense,': 2751, 'attitude.': 2752, 'are...': 2753, 'mom!': 2754, '-uh-huh.': 2755, 'killed.': 2756, 'kicking': 2757, 'listening': 2758, 'bitches!': 2759, 'trapp:': 2760, 'fault.': 2761, 'bullet': 2762, 'means.': 2763, 'piss': 2764, 'your...': 2765, 'song': 2766, 'husband': 2767, 'thing?': 2768, 'see?': 2769, 'act,': 2770, 'week,': 2771, 'weird': 2772, 'have...': 2773, 'before?': 2774, 'ball': 2775, '\"i\\'m': 2776, 'mess!': 2777, 'speech': 2778, 'amsterdam': 2779, 'have.': 2780, 'cellular': 2781, 'phone?': 2782, 'thee': 2783, 'partner,': 2784, 'cake.': 2785, 'christ': 2786, 'hours': 2787, 'side.': 2788, 'bomb?': 2789, 'address': 2790, '-shut': 2791, 'check.': 2792, 'execute': 2793, 'know!': 2794, 'beauty': 2795, 'pair': 2796, 'shows': 2797, 'dinner': 2798, 'sometime.': 2799, 'lips': 2800, 'really.': 2801, 'seek': 2802, 'biscuit': 2803, 'heck': 2804, 'job?': 2805, 'calvin.': 2806, 'bed': 2807, 'antagonizing': 2808, 'five.': 2809, 'ah': 2810, 'owe': 2811, 'heritage.': 2812, 'ben.': 2813, 'percent.': 2814, 'owns': 2815, 'run,': 2816, 'nervous.': 2817, 'return': 2818, 'big.': 2819, 'dear.': 2820, 'scorned.': 2821, 'come,': 2822, 'wendy.': 2823, 'humor': 2824, 'lie.': 2825, 'switch.': 2826, 'problems': 2827, 'ballpark.': 2828, 'perhaps': 2829, 'slave?': 2830, '-now,': 2831, 'panther': 2832, 'beady': 2833, 'blown': 2834, 'conrad': 2835, 'filled': 2836, 'road': 2837, 'box.': 2838, 'greatest': 2839, '-ohh!': 2840, 'weary': 2841, 'star': 2842, 'cuts': 2843, 'accept': 2844, 'charges': 2845, 'angel': 2846, '-okay,': 2847, 'texas': 2848, 'tennessee': 2849, '-yes!': 2850, 'satan!': 2851, 'satan': 2852, 'cool?': 2853, 'wiedersehen.': 2854, 'idea,': 2855, 'read.': 2856, 'pray': 2857, 'prank': 2858, 'form': 2859, 'hard.': 2860, 'window': 2861, 'decision,': 2862, 'line,': 2863, 'according': 2864, \"wife's\": 2865, 'mile': 2866, 'phone,': 2867, 'hand-jobs': 2868, 'm\\'kay?\"': 2869, '\"you\\'re': 2870, '\"shit\"': 2871, 'fix': 2872, 'left,': 2873, 'freeman.': 2874, 'mississippi': 2875, 'bridges:': 2876, 'babies': 2877, 'burp': 2878, 'bloom': 2879, 'ocean': 2880, 'show.': 2881, 'pie?': 2882, 'wallets': 2883, '-say': 2884, '\"what\"': 2885, 'candyland?': 2886, 'beset': 2887, 'dares': 2888, \"country's\": 2889, 'southern': 2890, 'available': 2891, 'part.': 2892, 'pictures': 2893, 'occasion.': 2894, 'official.': 2895, 'cover': 2896, \"sweeney's\": 2897, 'marsha!': 2898, 'group': 2899, 'side': 2900, 'plantation.': 2901, 'coulda': 2902, 'county': 2903, 'i.': 2904, 'handbill.': 2905, 'propose': 2906, 'nail': 2907, 'party,': 2908, 'giri': 2909, 'mole.': 2910, 'system': 2911, 'america,': 2912, 'gangs': 2913, 'flesh': 2914, 'search': 2915, 'toward': 2916, '-which': 2917, '-mia.': 2918, 'fella': 2919, 'foul': 2920, 'tomato': 2921, 'fear': 2922, 'building': 2923, 'floor.': 2924, 'streets?': 2925, 'streets!': 2926, 'passage': 2927, 'memorized.': 2928, 'porch,': 2929, 'flat': 2930, 'strong,': 2931, 'split': 2932, 'plans': 2933, 'possible': 2934, 'assignment': 2935, 'neither.': 2936, '-[announcer': 2937, 'faggot?': 2938, 'stealing': 2939, 'ever.': 2940, 'time...': 2941, 'was...': 2942, 'deliver': 2943, '\"blessed': 2944, 'charity': 2945, '\"shepherds': 2946, 'darkness,': 2947, '\"for': 2948, 'huh,': 2949, 'pop': 2950, 'all...': 2951, 'motherfucker?': 2952, 'stagecoach': 2953, 'sister,': 2954, 'absolutely.': 2955, 'luther': 2956, 'kenny': 2957, 'ride.': 2958, 'opinion.': 2959, 'roof.': 2960, 'forever.': 2961, 'nose.': 2962, 'texas.': 2963, 'brett!': 2964, 'citizens': 2965, 'someone...': 2966, 'following': 2967, 'seth,': 2968, 'seconds,': 2969, 'marches': 2970, 'island,': 2971, 'technically,': 2972, 'whenever': 2973, 'real.': 2974, 'them...': 2975, 'move,': 2976, 'cash.': 2977, 'monster': 2978, \"joe's\": 2979, 'last,': 2980, 'risk.': 2981, 'push': 2982, 'pinky': 2983, 'five-dollar': 2984, 'unite': 2985, 'eric!': 2986, 'curious': 2987, 'white.': 2988, \"it's,\": 2989, 'moment,': 2990, 'ready!': 2991, 'real,': 2992, 'participate': 2993, 'fucked.': 2994, 'door': 2995, 'rather': 2996, 'social': 2997, 'blamed': 2998, 'slow.': 2999, 'point!': 3000, 'uncomfortable': 3001, 'bugs': 3002, \"you're...\": 3003, 'hat?': 3004, 'marshal': 3005, 'whoa': 3006, 'noticed': 3007, 'insist.': 3008, '\"what': 3009, 'did?': 3010, 'we,': 3011, 'which,': 3012, 'honest': 3013, '\"those': 3014, 'poison': 3015, 'lovely': 3016, 'cease': 3017, 'involved.': 3018, 'gotten': 3019, \"expectin'\": 3020, 'direction.': 3021, 'concentration': 3022, 'friends,': 3023, 'pierce': 3024, 'room?': 3025, \"life's\": 3026, \"cartman's\": 3027, 'bum.': 3028, 'hung': 3029, 'wire.': 3030, 'yours?': 3031, 'doing,': 3032, 'alexandre': 3033, 'dumas': 3034, 'conspiracy': 3035, 'decide': 3036, 'tickets': 3037, 'jewish,': 3038, '\"f\"': 3039, 'marilyn': 3040, 'school,': 3041, 'tip': 3042, 'stanley!': 3043, 'growing': 3044, 'win': 3045, 'fights.': 3046, 'bureau': 3047, 'whoa.': 3048, 'pilot.': 3049, 'disgusting.': 3050, '-it': 3051, 'arrest!': 3052, 'hidden': 3053, 'definitely.': 3054, 'pieces': 3055, 'likes': 3056, 'matters': 3057, 'thousand.': 3058, 'active': 3059, 'fish': 3060, 'tight.': 3061, 'point,': 3062, 'easier': 3063, 'warning': 3064, 'come?': 3065, 'garage': 3066, 'scared,': 3067, 'born,': 3068, 'take.': 3069, 'wizard': 3070, 'duke?': 3071, 'matter,': 3072, 'bet.': 3073, 'respect.': 3074, 'fine!': 3075, 'harm': 3076, 'amsterdam.': 3077, 'mister.': 3078, 'very,': 3079, 'guilty': 3080, 'act.': 3081, 'inequities': 3082, 'selfish...': 3083, 'planned': 3084, 'win.': 3085, 'heavy': 3086, 'hid': 3087, 'hide': 3088, 'murder': 3089, 'unlike': 3090, 'cartman.': 3091, 'cigarettes': 3092, 'park': 3093, 'c-4': 3094, 'nothing!': 3095, 'safely': 3096, '-mmm.': 3097, 'pricks': 3098, 'look!': 3099, 'gourmet': 3100, 'drink?': 3101, 'throwing': 3102, 'look...': 3103, 'dinner,': 3104, 'mia': 3105, 'pierre': 3106, 'vie': 3107, 'apartment': 3108, 'uh': 3109, 'clitoris?': 3110, 'eric,': 3111, 'eating': 3112, 'fucker!': 3113, 'answers': 3114, 'lord...': 3115, 'ridiculous': 3116, 'express': 3117, \"world's\": 3118, 'wild': 3119, 'ass?': 3120, 'alright.': 3121, 'talks': 3122, 'bow': 3123, 'fired': 3124, 'present': 3125, 'lighting': 3126, 'favor.': 3127, 'popped': 3128, 'write': 3129, 'dimples': 3130, 'nuts.': 3131, 'building.': 3132, 'derek?': 3133, 'smell,': 3134, 'table.': 3135, \"children's\": 3136, 'deals': 3137, 'hunter': 3138, 'for-i': 3139, 'mayflower': 3140, 'including': 3141, \"-she's\": 3142, 'marvin.': 3143, 'palms': 3144, 'kahuna': 3145, '11': 3146, 'boarding': 3147, 'steak.': 3148, 'vincent,': 3149, 'finished': 3150, 'fight.': 3151, 'brains': 3152, 'twin': 3153, 'feet.': 3154, 'fourth': 3155, 'question': 3156, 'ask.': 3157, 'burn': 3158, 'he...': 3159, 'happening': 3160, 'yo!': 3161, 'nothing?': 3162, 'dick,': 3163, 'faggot.': 3164, 'addicted': 3165, 'crack': 3166, 'months,': 3167, 'dead!': 3168, 'favor,': 3169, 'run.': 3170, 'connie.': 3171, 'model': 3172, 'will.': 3173, 'parties': 3174, 'from,': 3175, 'aryan': 3176, 'expensive': 3177, 'immediately': 3178, 'personal,': 3179, 'ideas': 3180, '18': 3181, 'book,': 3182, 'commit': 3183, 'terrible.': 3184, 'sheets.': 3185, 'sea': 3186, 'drown': 3187, 'team': 3188, 'busted': 3189, 'tight': 3190, 'millions': 3191, 'calls': 3192, 'died.': 3193, 'schedule': 3194, 'closed': 3195, \"can't...\": 3196, 'rub': 3197, 'rat.': 3198, 'message.': 3199, 'would.': 3200, 'free.': 3201, 'investing': 3202, 'financial': 3203, 'duchess': 3204, 'bay': 3205, 'yacht.': 3206, 'world,': 3207, 'pond': 3208, 'senior': 3209, 'worthless': 3210, 'excellent': 3211, 'clients.': 3212, 'client': 3213, 'belt.': 3214, 'key': 3215, 'master': 3216, 'p.m.,': 3217, 'month,': 3218, 'miserable': 3219, 'cents': 3220, 'companies': 3221, 'main': 3222, 'honestly,': 3223, \"that's...\": 3224, 'exact': 3225, 'discovered': 3226, 'great!': 3227, 'wrapped': 3228, 'weed.': 3229, 'anything?': 3230, 'robbie': 3231, 'nicky': 3232, 'rugrat': 3233, 'companies...': 3234, 'afford': 3235, 'vice': 3236, 'divorce': 3237, 'scalp!': 3238, 'forbes': 3239, 'wolf': 3240, 'suit': 3241, 'shopping': 3242, 'max,': 3243, \"stratton's\": 3244, 'max': 3245, 'stratton.': 3246, 'gooble': 3247, 'gobble,': 3248, 'jordy,': 3249, 'champagne.': 3250, 'sides?': 3251, 'entertainment?': 3252, 't&e.': 3253, 'pops.': 3254, 'home?': 3255, 'public.': 3256, 'jb,': 3257, 'emma.': 3258, 'explains': 3259, 'duchess,': 3260, 'babe,': 3261, 'party?': 3262, 'sweetheart?': 3263, 'serious?': 3264, 'stolen': 3265, 'rudy?': 3266, 'lollipop': 3267, 'ipo.': 3268, 'flight': 3269, 'barry': 3270, 'eventually': 3271, 'wolfie,': 3272, 'flew': 3273, 'baby...': 3274, 'mommy.': 3275, 'issue': 3276, 'not...': 3277, 'steve!': 3278, 'dialing!': 3279, 'choke': 3280, 'video.': 3281, 'york': 3282, 'balls': 3283, 'boat.': 3284, 'switzerland,': 3285, 'rue': 3286, 'crime': 3287, 'suppose': 3288, 'mash': 3289, 'teeth': 3290, 'idiot!': 3291, 'fucksville': 3292, 'yourself!': 3293, 'brad!': 3294, 'donnie?': 3295, 'belfort?': 3296, 'stratton?': 3297, 'belfort': 3298, 'shares.': 3299, 'ted!': 3300, 'monaco,': 3301, 'monaco': 3302, 'chop.': 3303, 'ludes!': 3304, 'counts': 3305, 'already.': 3306, 'alcohol.': 3307, 'violet!': 3308, 'paragraph': 3309, 'defendant': 3310, 'stall': 3311, 'lance,': 3312, 'son,': 3313, '-about': 3314, 'witnessed.': 3315, 'cheek.': 3316, 'been?': 3317, 'yourselves,': 3318, 'realization': 3319, 'shoot.': 3320, 'landers.': 3321, 'else...': 3322, 'honda.': 3323, 'woulda': 3324, 'slaver': 3325, 'nigger...': 3326, 'shake?': 3327, 'pie,': 3328, 'tour': 3329, 'war!': 3330, 'practice': 3331, 'earlier,': 3332, 'leave,': 3333, 'winter': 3334, 'kevin': 3335, 'mentioned': 3336, 'street?': 3337, 'butch?': 3338, '-they': 3339, 'carson': 3340, 'dynamite.': 3341, 'p.o.w.': 3342, 'camp': 3343, \"-who's\": 3344, 'antwan?': 3345, 'motherfucker...': 3346, 'o.j.': 3347, 'proposition': 3348, '30': 3349, 'criticize,': 3350, 'race-related.': 3351, 'wilson-lowe': 3352, 'swish!': 3353, 'cat': 3354, 'dragged': 3355, 'anywhere.': 3356, 'problem!': 3357, 'effects': 3358, 'negroes': 3359, 'arm!': 3360, 'hooked': 3361, 'finger': 3362, 'faces.': 3363, 'handed': 3364, 'resignation': 3365, 'authority.': 3366, 'rednecks': 3367, 'kkk.': 3368, 'cause': 3369, 'floor!': 3370, 'tomorrow.': 3371, 'europe.': 3372, 'guys!': 3373, 'protective': 3374, 'toad.': 3375, 'suit,': 3376, 'public,': 3377, 'kid!': 3378, 'oil': 3379, 'however...': 3380, 'offend': 3381, 'wallets.': 3382, 'in...': 3383, '-bye.': 3384, 'seriously': 3385, '-hello.': 3386, 'she?': 3387, 'german?': 3388, 'rape': 3389, 'hate.': 3390, 'immigration,': 3391, 'welfare.': 3392, 'forgetting': 3393, 'expensive.': 3394, '\"they\"': 3395, 'dry': 3396, 'clothes.': 3397, 'awful': 3398, 'desk': 3399, 'window!': 3400, '\"bitch,': 3401, 'cool!\"': 3402, '-be': 3403, 'attack': 3404, '-better': 3405, 'walked': 3406, 'shame': 3407, 'through,': 3408, 'motorcycle': 3409, 'ends': 3410, 'pickaninny.': 3411, 'agreement.': 3412, '-butch.': 3413, '7': 3414, 'low.': 3415, 'baby-doll': 3416, 'kicks': 3417, 'yeah': 3418, 'telephone': 3419, 'coffee,': 3420, 'party.': 3421, 'trial,': 3422, 'convicted': 3423, 'endure': 3424, 'retribution.': 3425, \"kid's\": 3426, 'natural.': 3427, 'boxing': 3428, 'towel.': 3429, 'see!': 3430, 'bob': 3431, 'deaf?': 3432, 'fucked-up': 3433, 'conan!': 3434, 'show!': 3435, 'departed': 3436, 'behind.': 3437, 'charly.': 3438, 'touched': 3439, 'shook': 3440, \"cam's\": 3441, 'pam': 3442, 'wine': 3443, 'honest.': 3444, 'asks': 3445, 'panache.': 3446, 'someplace': 3447, \"o'neal\": 3448, 'richard': 3449, 'pants': 3450, 'tie': 3451, 'vega.': 3452, 'fact?': 3453, 'draw': 3454, 'mine,': 3455, 'computer': 3456, 'research': 3457, 'bag!': 3458, 'man...': 3459, 'ladies.': 3460, \"doesn't,\": 3461, 'kkk': 3462, 'army?': 3463, 'wh...': 3464, 'friendly.': 3465, 'revolution': 3466, '-aw,': 3467, 'flow,': 3468, 'no...': 3469, 'meant.': 3470, 'stop,': 3471, 'root': 3472, '-then': 3473, \"tryin'\": 3474, 'game,': 3475, 'program': 3476, 'snacky': 3477, 'smores': 3478, 'delightful': 3479, 'punish': 3480, 'offended.': 3481, 'pocket,': 3482, 'sins': 3483, 'kenny.': 3484, 'moving!': 3485, 'lame': 3486, 'butch': 3487, 'bowl': 3488, 'vinyard,': 3489, 'nation': 3490, 'flames': 3491, 'skinned': 3492, 'torture': 3493, \"other's\": 3494, 'silence.': 3495, 'europe': 3496, 'gals': 3497, 'per': 3498, 'grant': 3499, 'infant': 3500, 'reward.': 3501, 'pointing': 3502, 'weapon': 3503, 'half.': 3504, 'voice.': 3505, 'folk': 3506, 'intelligence.': 3507, 'door...': 3508, 'super!': 3509, 'ryder!': 3510, 'peace.': 3511, 'boring,': 3512, 'wonderful.': 3513, 'mother?': 3514, 'battlefield': 3515, 'damned.': 3516, 'matches.': 3517, 'prefer': 3518, 'darling.': 3519, 'close.': 3520, 'rude.': 3521, 'quickly.': 3522, 'communicate': 3523, 'wanting': 3524, 'questions,': 3525, 'based': 3526, '-on': 3527, 'kangaroo.': 3528, 'hurts.': 3529, 'unfortunate': 3530, 'floyd.': 3531, 'eric.': 3532, 'stores...': 3533, 'crash.': 3534, 'catches': 3535, 'acknowledge': 3536, 'bumper': 3537, 'confused.': 3538, 'malice.': 3539, 'stan': 3540, 'stage': 3541, 'embarrassing.': 3542, 'boss.': 3543, 'eyeballs': 3544, 'interest': 3545, 'experience.': 3546, 'yourselves.': 3547, 'faggot,': 3548, 'cameron.': 3549, 'candy.': 3550, 'happening.': 3551, 'talking.': 3552, 'hospital': 3553, 'normally,': 3554, \"playin'\": 3555, 'solitaire': 3556, 'dawn': 3557, 'deck': 3558, '51': 3559, 'tv?': 3560, 'whichever': 3561, 'force,': 3562, 'talker.': 3563, 'archie': 3564, 'miller': 3565, 'grocery': 3566, 'seth.': 3567, 'ridge.': 3568, 'execution!': 3569, 'racist,': 3570, 'doctors': 3571, 'exercise': 3572, 'stops': 3573, 'trying.': 3574, 'of,': 3575, '\"oh,': 3576, 'riots': 3577, 'stonesipher?': 3578, 'fancy': 3579, 'luigi.': 3580, 'toad,': 3581, 'mandingos.': 3582, 'dogs.': 3583, 'newly': 3584, 'secretary': 3585, 'ms.': 3586, 'broflovski.': 3587, 'camps?': 3588, 'burger!': 3589, 'vincent!': 3590, 'dream': 3591, 'ins': 3592, 'club,': 3593, 'danger?': 3594, 'tuesday': 3595, 'wednesday': 3596, 'forward!': 3597, 'pie': 3598, 'woke': 3599, 'liberal': 3600, 'piss.': 3601, 'mmm!': 3602, 'fags.': 3603, 'over!': 3604, 'dandy': 3605, 'michaels,': 3606, 'gerald': 3607, \"kickin'\": 3608, 'dressed.': 3609, 'embarrassed.': 3610, 'being,': 3611, 'where?': 3612, 'curse': 3613, 'draft': 3614, 'invade': 3615, 'c-4?': 3616, \"samson's\": 3617, 'notice,': 3618, 'brothers?': 3619, 'guest,': 3620, 'admit': 3621, '\"as': 3622, 'whistling]': 3623, 'doc?': 3624, 'third': 3625, 'customers': 3626, 'forgot,': 3627, 'gar': 3628, 'coffee!': 3629, 'part,': 3630, 'holocaust': 3631, 'bedside': 3632, 'drawer.': 3633, 'executed.': 3634, 'thought,': 3635, 'family?': 3636, 'struggle': 3637, 'rights...': 3638, 'blankets,': 3639, 'guy!': 3640, 'politicians': 3641, 'happy?': 3642, 'scaring': 3643, 'canadian,': 3644, 'prescribed': 3645, 'belly,': 3646, 'all:': 3647, 'dragging': 3648, 'bush.': 3649, 'minutes!': 3650, 'anyway': 3651, 'fire?': 3652, 'friendly,': 3653, 'doc.': 3654, 'gang?': 3655, 'ever!': 3656, 'foreign': 3657, 'bunch.': 3658, 'scotty,': 3659, '-wanna': 3660, 'essentially,': 3661, 'actress.': 3662, 'two...': 3663, 'six.': 3664, 'traitor!': 3665, 'popular': 3666, '-pretty': 3667, 'oak': 3668, 'bedroom.': 3669, '-any': 3670, 'pistol,': 3671, 'celebrate.': 3672, 'piercing.': 3673, 'shoulda': 3674, 'mystery': 3675, 'jerry?': 3676, \"why'd\": 3677, '-go': 3678, 'empire': 3679, 'books.': 3680, 'helps': 3681, 'stud': 3682, 'cops?': 3683, 'insured.': 3684, 'bank.': 3685, 'farm.': 3686, 'cheers.': 3687, 'fuck-face.': 3688, 'fuckers.': 3689, 'bitches': 3690, \"d'artagnan\": 3691, 'heaven.': 3692, 'bye-bye.': 3693, 'court!': 3694, 'considering': 3695, 'nasty': 3696, 'sights': 3697, 'massa': 3698, 'way?': 3699, 'bare': 3700, 'yolanda,': 3701, 'leader.': 3702, 'fishy': 3703, 'crew.': 3704, 'discussing': 3705, 'shirt': 3706, 'say!': 3707, 'tamara': 3708, 'focused': 3709, 'bellies': 3710, 'sexy.': 3711, 'vince,': 3712, 'roots': 3713, 'aye,': 3714, 'started.': 3715, \"-you've\": 3716, 'control!': 3717, 'meade?': 3718, 'horn': 3719, 'outside.': 3720, 'kenny?': 3721, 'attack!': 3722, 'stan?': 3723, 'embarrass': 3724, 'couch.': 3725, 'sweet!': 3726, 'woman!': 3727, 'towel': 3728, 'hurting': 3729, 'shop.': 3730, 'dane': 3731, 'battle': 3732, 'language.': 3733, 'die?': 3734, 'minister,': 3735, 'fighting.': 3736, 'tall': 3737, 'yessir,': 3738, 'mission.': 3739, 'hide.': 3740, 'careful,': 3741, 'watch?': 3742, 'will?': 3743, 'inquiry': 3744, 'django?': 3745, 'dressed': 3746, 'sense?': 3747, 'podunk,': 3748, 'white-trash': 3749, 'town!': 3750, \"leavin'\": 3751, 'b.': 3752, 'marsellus.': 3753, 'enemies,': 3754, 'talented': 3755, \"havin'\": 3756, 'thought.': 3757, 'couch': 3758, \"hilda's\": 3759, 'from.': 3760, 'vanilla': 3761, 'coke.': 3762, 'ace': 3763, 'sweeney,': 3764, 'wilson': 3765, 'basis': 3766, 'culture': 3767, 'played': 3768, 'whipping': 3769, 'door?': 3770, 'son?': 3771, 'joint': 3772, 'reached': 3773, 'odd': 3774, 'husband,': 3775, 'boss,': 3776, 'titty.': 3777, \"doin'?\": 3778, 'currently': 3779, 'impossible.': 3780, 'space.': 3781, 'ridiculous?': 3782, 'action': 3783, 'free,': 3784, 'grounded?': 3785, 'politics?': 3786, 'ball!': 3787, 'tremendous': 3788, 'fonzie': 3789, 'county,': 3790, 'fair?': 3791, 'personally,': 3792, 'place?': 3793, 'patrice?': 3794, 'pair.': 3795, 'forgive.': 3796, 'soldier.': 3797, 'marker.': 3798, 'criminals': 3799, 'execution.': 3800, 'celebrate': 3801, 'hoods': 3802, 'travel': 3803, 'hearing': 3804, 'stories.': 3805, 'shield,': 3806, 'tanks': 3807, 'planes,': 3808, 'impressed.': 3809, 'cam.': 3810, 'answer.': 3811, 'mommy,': 3812, 'back!': 3813, 'lee,': 3814, 'calvin,': 3815, 'feels': 3816, 'meeting.': 3817, 'ideas.': 3818, 'weapon.': 3819, 'steal': 3820, 'toluca': 3821, 'hill': 3822, 'que': 3823, 'hora': 3824, 'es?': 3825, \"candie's\": 3826, 'horseshit.': 3827, 'hop': 3828, 'sake.': 3829, 'davina,': 3830, 'spics': 3831, 'kkk?': 3832, \"ally's\": 3833, 'skull...': 3834, 'ours!': 3835, 'mitch': 3836, 'buttfor?': 3837, 'silly.': 3838, 'die!': 3839, 'relax!': 3840, 'towel,': 3841, 'aware': 3842, 'invention': 3843, 'mud': 3844, 'action,': 3845, 'register.': 3846, 'beach.': 3847, 'tries': 3848, 'parts.': 3849, 'pistol': 3850, 'upside': 3851, \"can't!\": 3852, 'church!': 3853, \"that's,\": 3854, 'felix,': 3855, 'bad?': 3856, 'coffee?': 3857, 'sugar?': 3858, 'job!': 3859, 'sugar,': 3860, 'bar,': 3861, 'fault': 3862, 'prick': 3863, 'remain': 3864, 'tolerate': 3865, 'sheila,': 3866, 'bye.': 3867, \"bell's\": 3868, 'vince.': 3869, 'scared': 3870, 'positive?': 3871, '-your': 3872, 'boss': 3873, '-when': 3874, 'clean.': 3875, 'ping-pong': 3876, 'trick!': 3877, 'bernie': 3878, 'casey.': 3879, 'passions': 3880, 'boston!': 3881, 'mountain.': 3882, 'either!': 3883, 'thoughts': 3884, 'developed': 3885, 'kitchen.': 3886, \"goin'.\": 3887, '10.': 3888, 'vengeance...': 3889, 'gone?': 3890, 'gas': 3891, 'california.': 3892, 'don': 3893, 'tough': 3894, 'cora,': 3895, 'hussein?': 3896, 'cop.': 3897, \"mama's\": 3898, \"sister's\": 3899, 'along.': 3900, '-after': 3901, '-correct.': 3902, 'important,': 3903, 'bluestem': 3904, 'scum': 3905, 'alright': 3906, 'seemed': 3907, 'candie?': 3908, 'satisfied?': 3909, 'bags?': 3910, 'shit-faced': 3911, 'advancement': 3912, 'among': 3913, 'buying.': 3914, 'rules.': 3915, 'stores.': 3916, '\"brown\"': 3917, 'cause.': 3918, 'cleansing': 3919, 'people.\"': 3920, 'much,': 3921, 'advice.': 3922, 'jewish?': 3923, 'robinson': 3924, 'mexico.': 3925, 'impact': 3926, 'fighting?': 3927, 'pretend': 3928, \"there'll\": 3929, 'department.': 3930, 'lot?': 3931, 'laundry.': 3932, 'am,': 3933, 'sheriff': 3934, 'suckered': 3935, 'side,': 3936, '21st': 3937, 'land.': 3938, 'crying?': 3939, '\"please\"': 3940, 'hello': 3941, 'gentleman': 3942, 'speck?': 3943, 'sign.': 3944, 'background': 3945, 'slaves': 3946, '10:00,': 3947, 'leave.': 3948, 'legal.': 3949, 'buked,': 3950, 'sad': 3951, 'indeed': 3952, 'dentist.': 3953, 'did...': 3954, 'try.': 3955, 'table?': 3956, 'listening?': 3957, 'flip': 3958, 'color': 3959, 'caused': 3960, 'pueblo.': 3961, 'basically,': 3962, 'marshal,': 3963, 'court.': 3964, 'jokers': 3965, 'thoughts?': 3966, 'ears,': 3967, 'beautiful!': 3968, '-like': 3969, 'kung': 3970, 'so-called': 3971, 'flapping': 3972, 'seth': 3973, 'goldie.': 3974, 'exploit': 3975, 'thousands': 3976, 'hotel': 3977, 'fella.': 3978, 'blackie.': 3979, 'j.': 3980, 'dollars?': 3981, 'knights': 3982, 'alexander.': 3983, 'r-rated': 3984, 'good?': 3985, 'billion': 3986, 'fellas': 3987, 'cleaning': 3988, 'lonesome': 3989, 'punk-ass': 3990, 'soak': 3991, 'bunny,': 3992, 'craig': 3993, 'joint.': 3994, 'monkey': 3995, '\"fox': 3996, 'joke?': 3997, 'finish.': 3998, 'lucky,': 3999, 'everyday': 4000, 'support': 4001, 'eventually,': 4002, 'duty,': 4003, 'can,': 4004, 'sister?': 4005, 'patrice!': 4006, 'sucks': 4007, 'returning': 4008, 'ever...': 4009, 'totem': 4010, 'pole': 4011, 'nuts,': 4012, 'bleed': 4013, 'fights': 4014, 'slice': 4015, 'caller!': 4016, 'bell.': 4017, 'students.': 4018, 'tuttle.': 4019, '$11,500': 4020, 'youse': 4021, 'clothes?': 4022, 'chosen': 4023, 'passing': 4024, 'rookie': 4025, 'billfold?': 4026, 'derek!': 4027, 'burgers.': 4028, 'behind?': 4029, 'fourth-story': 4030, 'sheriff.': 4031, 'five...': 4032, 'doomed': 4033, 'yesterday?': 4034, '$200.': 4035, 'sticking': 4036, 'landed': 4037, 'smell': 4038, 'skating': 4039, 'triple': 4040, 'breath': 4041, 'themselves': 4042, 'textbook': 4043, 'creating': 4044, 'nonsense,': 4045, '\"ass\"': 4046, '\"buns\"': 4047, '\"kiss': 4048, 'buns\"': 4049, 'buns-hole\"': 4050, '\"poo\"': 4051, '\"poo-head\"': 4052, 'poo': 4053, 'cold\"': 4054, '\"bitch\"': 4055, '\"t\"': 4056, '\"bich\"': 4057, 'latin': 4058, '\"generosity\"': 4059, 'car!': 4060, '-yes.': 4061, 'huge.': 4062, 'community...': 4063, 'son.': 4064, 'sheets': 4065, 'at...': 4066, 'wind': 4067, 'garrison': 4068, 'jody.': 4069, 'tuttle': 4070, 'themselves.': 4071, 'bun.': 4072, '-can': 4073, 'evening': 4074, 'ture?': 4075, 'springs.': 4076, 'restaurants.': 4077, \"stinkin'\": 4078, 'all,': 4079, 'raped': 4080, 'murdered': 4081, 'register,': 4082, 'respect,': 4083, 'dream,': 4084, 'skies': 4085, 'lemon': 4086, 'narcotics?': 4087, 'successful': 4088, 'waste': 4089, 'whip': 4090, 'track': 4091, 'sides...': 4092, 'expose': 4093, 'kitchen?': 4094, '1,500': 4095, 'criminals...': 4096, 'smoking.': 4097, 'conan.': 4098, 'gregory!': 4099, 'far.': 4100, 'smack': 4101, 'deserve.': 4102, \"duke's\": 4103, 'fits': 4104, 'sizes': 4105, 'drawers...': 4106, 'teresa': 4107, 'lunch': 4108, 'ride?': 4109, 'teacher.': 4110, 'marsha,': 4111, 'hush': 4112, 'sink': 4113, 'below': 4114, 'tired,': 4115, 'innkeeper!': 4116, 'sheriff,': 4117, 'entertain': 4118, '4.0': 4119, 'grade': 4120, 'average.': 4121, 'sneak': 4122, 'appropriate.': 4123, 'comes.': 4124, 'sale,': 4125, 'history,': 4126, 'expect?': 4127, 'created': 4128, 'cutting': 4129, \"y'all.\": 4130, 'fingers': 4131, 'close,': 4132, 'nice,': 4133, 'grow': 4134, 'farm,': 4135, 'knocks': 4136, 'guess,': 4137, 'gentlemen...': 4138, 'court,': 4139, 'race,': 4140, 'final': 4141, 'clear': 4142, 'gregory?': 4143, 'auction,': 4144, 'hockey': 4145, 'says.': 4146, 'light,': 4147, 'fades': 4148, 'strength': 4149, 'representative': 4150, 'terrible!': 4151, 'intel.': 4152, 'quick': 4153, 'class.': 4154, 'wendy,': 4155, 'comfortable': 4156, 'polaroid': 4157, 'arms': 4158, 'asshole,': 4159, 'fragile': 4160, 'trudi?': 4161, 'apples.': 4162, 'hear,': 4163, 'auction': 4164, 'toilet': 4165, 'uppity': 4166, 'with,': 4167, 'trial': 4168, 'gentlemen?': 4169, 'malarkey': 4170, 'burger.': 4171, 'mmmm.': 4172, 'teaching': 4173, 'papa': 4174, 'angry.': 4175, 'tactics.': 4176, 'jokes.': 4177, 'pi': 4178, 'tidy': 4179, \"slim's\": 4180, 'twist': 4181, 'wheel': 4182, 'alone!': 4183, 'appropriate': 4184, 'bomp,': 4185, 'bomp': 4186, 'response': 4187, 'shave': 4188, '$11,000?': 4189, 'statement.': 4190, 'walk.': 4191, 'mandingos,': 4192, 'along,': 4193, '2]': 4194, 'happening!': 4195, 'lord': 4196, 'theater': 4197, 'golden': 4198, 'stanley.': 4199, 'coffee.': 4200, 'fried': 4201, 'chicken,': 4202, 'help?': 4203, 'not!': 4204, 'cock,': 4205, 'pussy,': 4206, 'beloved': 4207, 'club': 4208, 'protecting': 4209, 'ringo.': 4210, 'body,': 4211, '-mm-hmm.': 4212, 'eric': 4213, 'non-jewish': 4214, 'start,': 4215, 'woman2:': 4216, \"today's\": 4217, 'zapater': 4218, 'a?': 4219, 'keeper...': 4220, 'coke': 4221, 'as...': 4222, 'whoops!': 4223, 'wanted,': 4224, 'control': 4225, 'customers.': 4226, 'ya!': 4227, 'ass-licking': 4228, 'fucka,': 4229, 'inflation.': 4230, 'angela': 4231, 'quality': 4232, 'americans.': 4233, 'pounds,': 4234, 'breastplate': 4235, 'alright?': 4236, 'years?': 4237, 'japanese': 4238, 'fu': 4239, 'master.': 4240, 'birds': 4241, 'mouths': 4242, 'greenville,': 4243, 'chester,': 4244, 'bastards!': 4245, 'someday,': 4246, 'men!': 4247, 'shield': 4248, 'darkies.': 4249, 'pisses': 4250, 'bathroom': 4251, 'lakers': 4252, 'events': 4253, 'movie!': 4254, 'guns,': 4255, 'report': 4256, 'camps': 4257, 'v-chip.': 4258, 'wipe': 4259, 'hammer': 4260, 'belly?': 4261, 'violence': 4262, 'dynamite': 4263, 'chef,': 4264, 'vinyard...': 4265, 'winocki': 4266, 'shore': 4267, \"who'd\": 4268, 'organization?': 4269, 'second?': 4270, 'join.': 4271, 'flowing.': 4272, 'marvin,': 4273, \"-i'd\": 4274, 'breathe!': 4275, 'nor': 4276, 'neither': 4277, 'elect': 4278, 'country...': 4279, 'speech.': 4280, 'bacall.': 4281, 'runs': 4282, 'dick.': 4283, 'canadians.': 4284, 'shaft...': 4285, 'truck': 4286, 'are-uh': 4287, 'gates.': 4288, 'appear': 4289, '-give': 4290, 'murder.': 4291, 'offense': 4292, 'offensive.': 4293, 'cop!': 4294, 'banks': 4295, 'soft': 4296, 'rapists,': 4297, 'murderers,': 4298, 'craving': 4299, 'virgin': 4300, 'button': 4301, 'field.': 4302, 'bad!': 4303, 'great-grandfather': 4304, 'tastes': 4305, 'window.': 4306, 'faster': 4307, 'fry': 4308, 'circle': 4309, 'process,': 4310, 'freaks': 4311, \"-fuckin'\": 4312, 'transaction.': 4313, 'ripped': 4314, 'collect': 4315, 'natural': 4316, 'happens?': 4317, 'springs,': 4318, 'code': 4319, 'naturally.': 4320, 'dark': 4321, 'garrison,': 4322, 'level.': 4323, 'swing': 4324, 'by.': 4325, 'hallway': 4326, 'find...': 4327, 'warrant,': 4328, 'circuit': 4329, 'henry': 4330, 'allen': 4331, 'laudermilk': 4332, 'austin,': 4333, 'doctor!': 4334, 'nag?': 4335, \"they're...\": 4336, 'texas,': 4337, 'county.': 4338, 'divine': 4339, 'bye,': 4340, 'admit,': 4341, 'again...': 4342, 'lewis.': 4343, 'responsibility.': 4344, 'der?': 4345, '-do': 4346, 'most.': 4347, 'zimmerman.': 4348, 'windows': 4349, 'doubt,': 4350, 'surprise,': 4351, 'face-to-face.': 4352, 'applause!': 4353, 'irrational': 4354, 'expression': 4355, 'rage.': 4356, 'glory,': 4357, 'hurry.': 4358, 'burden': 4359, 'jig': 4360, 'super,': 4361, 'considered': 4362, 'cute': 4363, 'business?': 4364, 'disgust': 4365, 'sweet,': 4366, 'grounded.': 4367, 'g': 4368, 'mama': 4369, '-open': 4370, 'apologize.': 4371, 'crimes': 4372, 'mole,': 4373, 'nonsense.': 4374, 'custom': 4375, 'strong...': 4376, 'boys!': 4377, '-sure': 4378, 'bag': 4379, 'landers:': 4380, 'promised': 4381, 'ben,': 4382, 'cry': 4383, 'circle.': 4384, 'thin': 4385, 'unload': 4386, 'shepherd,': 4387, '$12,000': 4388, 'ivanhoe,': 4389, 'prick.': 4390, 'attend': 4391, 'guns': 4392, 'door,': 4393, 'personality.': 4394, 'animal.': 4395, 'fritz.': 4396, 'internet.': 4397, \"ma'am.\": 4398, 'numbers.': 4399, 'brothers!': 4400, '$500,': 4401, 'camp.': 4402, 'sometimes.': 4403, 'ooh.': 4404, 'bucks?': 4405, 'blew': 4406, 'paso,': 4407, 'paso.': 4408, 'damn,': 4409, 'dessert?': 4410, 'motion.': 4411, 'saying...': 4412, 'destroying': 4413, 'connie!': 4414, 'dance': 4415, 'bars,': 4416, 'apologized': 4417, 'bryan': 4418, 'darling,': 4419, 'accident.': 4420, 'planning': 4421, 'bitch...': 4422, \"marsellus's\": 4423, 'two?': 4424, 'this...': 4425, '-hmm.': 4426, 'lee': 4427, \"she'd\": 4428, 'dicks.': 4429, 'seriously,': 4430, 'forth': 4431, 'dallas.': 4432, 'mac.': 4433, 'excited.': 4434, 'walking': 4435, 'americans,': 4436, \"zed's\": 4437, 'card,': 4438, 'valet.': 4439, '\"dead': 4440, 'storage\"?': 4441, \"hadn't\": 4442, 'original': 4443, 'dress.': 4444, 'jimmie': 4445, \"davina's\": 4446, 'invite': 4447, 'many?': 4448, 'cooperate,': 4449, 'fbi?': 4450, 'son.\"': 4451, 'course?': 4452, 'remains.': 4453, 'magnificent': 4454, 'joe,': 4455, 'donkey-raping': 4456, 'shit-eater!': 4457, 'american.': 4458, 'bonjour.': 4459, 'bonsoir,': 4460, 'pumpkin.': 4461, 'passed': 4462, 'approval': 4463, '-unless': 4464, '\"clitoris.\"': 4465, 'grabbed': 4466, 'enemies.': 4467, 'mining': 4468, 'sledgehammer,': 4469, 'turning': 4470, 'nickname': 4471, 'cared': 4472, 'gregory.': 4473, 'enemy.': 4474, \"else's\": 4475, 'precisely': 4476, 'nearest': 4477, '\"cleopatra': 4478, 'jones\"': 4479, 'd': 4480, 'giraffe': 4481, 'create': 4482, 'patient': 4483, 'killed!': 4484, 'pilot': 4485, 'bombardier.': 4486, 'intriguing': 4487, 'screen': 4488, 'quickly,': 4489, '-does': 4490, 'finding': 4491, 'tape': 4492, 'chopper': 4493, 'absolute': 4494, 'lesson.': 4495, 'hours.': 4496, 'hunter.': 4497, 'a.m.': 4498, 'damage': 4499, 'prove': 4500, 'investigation,': 4501, 'raid!': 4502, 'bridges': 4503, \"that'll\": 4504, 'plantation,': 4505, 'fortune,': 4506, 'starred': 4507, 'ones': 4508, 'ears.': 4509, 'baboon': 4510, 'boston': 4511, 'accidentally': 4512, 'materials': 4513, 'carefully.': 4514, 'stage,': 4515, 'slight': 4516, 'director,': 4517, 'aaah!': 4518, 'pie!': 4519, 'universe.': 4520, 'knees': 4521, 'badge.': 4522, 'proper': 4523, 'crime,': 4524, 'tax': 4525, 'children!': 4526, '-ohh.': 4527, '$500?': 4528, 'neighborhood,': 4529, 'betina,': 4530, 'wagon!': 4531, 'loyal': 4532, 'girlfriend': 4533, 'ridden': 4534, 'done!': 4535, 'rise.': 4536, 'eggs': 4537, 'adolf': 4538, 'daughter': 4539, 'kampf\"?': 4540, 'hitler': 4541, 'grandfather,': 4542, 'gain': 4543, '\"by': 4544, 'risk': 4545, 'up...': 4546, 'huh.': 4547, 'explain': 4548, 'damned': 4549, 'pursue': 4550, 'strap': 4551, 'luigi,': 4552, 'e': 4553, 'loose': 4554, 'undercover.': 4555, 'believe!': 4556, 'spilled': 4557, 'ground.': 4558, 'diver.': 4559, 'fault!': 4560, 'barrels': 4561, 'aimed': 4562, 'early.': 4563, 'potty': 4564, 'dishes,': 4565, 'happen,': 4566, 'kinds': 4567, 'stallworth?': 4568, 'decision': 4569, 'price...': 4570, 'television': 4571, 'programs.': 4572, 'boyfriend.': 4573, 'finally,': 4574, 'understand...': 4575, 'statue': 4576, 'affect': 4577, 'think!': 4578, 'klansmen': 4579, '-man,': 4580, 'sally!': 4581, 'choice,': 4582, 'tied': 4583, 'finishing': 4584, 'd,': 4585, 'amsterdam,': 4586, 'chicks': 4587, 'confidence.': 4588, 'hurry!': 4589, 'ticket.': 4590, 'chain': 4591, 'robbery!': 4592, 'dinner.': 4593, 'love...': 4594, 'jerking': 4595, 'chain.': 4596, 'when?': 4597, 'chest.': 4598, 'fluent': 4599, 'both.': 4600, 'evening.': 4601, 'ringo?': 4602, '300': 4603, 'gram.': 4604, 'teenage': 4605, 'wished': 4606, 'mademoiselle': 4607, 'crammed': 4608, 'rhythm': 4609, 'literature': 4610, 'jumped': 4611, 'about,': 4612, '-right': 4613, 'some.': 4614, 'cold!': 4615, 'linen': 4616, 'tight!': 4617, 'bob,': 4618, 'signed': 4619, 'roger': 4620, \"shit's\": 4621, 'zed?': 4622, 'parley': 4623, 'spoil': 4624, 'celebration.': 4625, 'trouble.': 4626, \"'bout\": 4627, 'circus.': 4628, 'brung': 4629, 'factor.': 4630, 'further': 4631, 'champion.': 4632, 'hurt,': 4633, 'ours.': 4634, 'papers?': 4635, 'earth,': 4636, 'al,': 4637, 'movies.': 4638, 'animals.': 4639, 'beat-ass': 4640, 'losing.': 4641, 'leave?': 4642, 'face?': 4643, 'wine,': 4644, 'first?': 4645, 'pow,': 4646, 'honey?': 4647, '-that': 4648, 'released': 4649, 'current': 4650, 'hello!': 4651, 'front?': 4652, 'maintain': 4653, 'window...': 4654, 'sand.': 4655, 'yelling': 4656, 'blowing': 4657, 'threats.': 4658, 'describe': 4659, 'sticks': 4660, 'difference.': 4661, 'earlier': 4662, 'shape': 4663, 'negro.': 4664, 'abuse': 4665, 'shakes': 4666, 'robbed': 4667, 'decent': 4668, 'seen,': 4669, 'harm.': 4670, 'attractive': 4671, \"slim's.\": 4672, 'examine': 4673, 'skull!': 4674, 'fake.': 4675, 'away!': 4676, 'informed': 4677, 'chicks.': 4678, 'bitches.': 4679, 'sense.': 4680, 'factor': 4681, 'favorite.': 4682, 'runaway': 4683, 'sake,': 4684, 'cattle': 4685, 'dickless': 4686, 'sold!': 4687, 'beard': 4688, 'left.': 4689, 'feces.': 4690, 'brown': 4691, 'sick,': 4692, \"tootin'.\": 4693, 'cares': 4694, 'guests': 4695, 'flying': 4696, 'lying,': 4697, 'questions?': 4698, 'alone,': 4699, 'risking': 4700, 'weak,': 4701, 'does,': 4702, 'calls,': 4703, 'poverty.': 4704, '8': 4705, 'overseas': 4706, 'quit.': 4707, \"smokin'\": 4708, \"watchin'\": 4709, 'kangaroo': 4710, 'pain.': 4711, 'international': 4712, 'doris.': 4713, 'caribbean,': 4714, 'fifth,': 4715, 'table,': 4716, 'fuckers': 4717, 'places.': 4718, 'good-bye.': 4719, 'dollar.': 4720, 'people...': 4721, 'banks,': 4722, 'steak,': 4723, \"cousin's\": 4724, 'money...': 4725, 'plus': 4726, 'oral': 4727, 'pleasure?': 4728, 'guys...': 4729, 'should...': 4730, 'jules': 4731, 'telephone.': 4732, 'territory.': 4733, 'tomorrow,': 4734, 'counter': 4735, 'son\"?': 4736, 'bridges,': 4737, 'blow.': 4738, 'crashed': 4739, 'toot!': 4740, 'illegal.': 4741, 'recognize': 4742, 'sucks.': 4743, 'boom!': 4744, 'away...': 4745, 'somewhere.': 4746, 'peace': 4747, 'stick.': 4748, 'answer!': 4749, 'head!': 4750, 'sit.': 4751, 'movie?': 4752, 'bounty.': 4753, 'away,': 4754, 'ketchup?': 4755, 'breakfast': 4756, 'college,': 4757, 'jewish.': 4758, 'hands!': 4759, 'assault': 4760, 'produce': 4761, 'movies': 4762, \"movie's\": 4763, 'christmas': 4764, 'article.': 4765, 'faggot': 4766, 'everywhere.': 4767, \"mcdonald's,\": 4768, '-goddamn!': 4769, 'with...': 4770, 'men?': 4771, 'now.\"': 4772, 'goodbye.': 4773, 'upset.': 4774, 'man2:': 4775, 'need...': 4776, 'meet?': 4777, 'bodies': 4778, 'quickly': 4779, 'willie': 4780, 'shots': 4781, 'brilliant': 4782, 'mike.': 4783, 'assholes': 4784, 'lip': 4785, 'ricky': 4786, 'candyland!': 4787, 'executed': 4788, 'mexican': 4789, 'interrupted': 4790, \"king's\": 4791, 'suggest': 4792, \"washin'\": 4793, \"ben's\": 4794, 'loose?': 4795, 'stronger': 4796, 'protocol.': 4797, 'speck,': 4798, 'shepherd.': 4799, 'gun?': 4800, \"girlfriend's\": 4801, 'god...': 4802, 'call,': 4803, '\"are\".': 4804, 'pronounce': 4805, 'phony': 4806, \"doin',\": 4807, 'life?': 4808, 'warrant': 4809, '500': 4810, 'travesty.': 4811, \"son's\": 4812, 'south.': 4813, 'were...': 4814, '\"is': 4815, 'sides': 4816, 'soon,': 4817, 'chance,': 4818, 'unless,': 4819, '40': 4820, 'concerned': 4821, 'entertainment.': 4822, 'villa': 4823, 'stuck': 4824, 'down...': 4825, 'office?': 4826, 'hard-working': 4827, 'month?': 4828, 'follows.': 4829, 'birthday': 4830, 'madman.': 4831, 'she...': 4832, 'through.': 4833, 'require': 4834, 'naturally': 4835, \"hell's\": 4836, 'sergeant': 4837, 'convince': 4838, 'everything?': 4839, 'breachway.': 4840, 'pretending': 4841, 'reading': 4842, 'exact.': 4843, 'marshal!': 4844, 'spola': 4845, 'carpet': 4846, 'silver': 4847, 'telephone,': 4848, 'middle': 4849, 'nevada': 4850, 'got?': 4851, 'weeks,': 4852, 'retard.': 4853, 'yes?': 4854, 'woman,': 4855, 'breathing,': 4856, 'advantage.': 4857, \"mcdonald's.\": 4858, 'available.': 4859, '\"jimmie\"': 4860, 'budget': 4861, 'pulls': 4862, 'twisted': 4863, 'inclined': 4864, 'eat?': 4865, 'ate': 4866, 'night!': 4867, 'keys.': 4868, 'fucker': 4869, 'james': 4870, \"ron's\": 4871, 'words,': 4872, 'attention': 4873, 'pleasing': 4874, 'information.': 4875, 'gangsters': 4876, 'click': 4877, 'educate.': 4878, 'laura.': 4879, \"i's\": 4880, '9:30': 4881, 'correct?': 4882, 'indian': 4883, 'dear,': 4884, 'ricky,': 4885, 'umberto,': 4886, 'only...': 4887, 'off...': 4888, 'raise': 4889, 'hungry': 4890, 'poor.': 4891, 'work,': 4892, 'handsome': 4893, 'question,': 4894, 'communicate.': 4895, 'turn.': 4896, 'trained': 4897, 'two!': 4898, 'million,': 4899, 'shy': 4900, 'estate': 4901, 'millionaires': 4902, 'ridge,': 4903, 'brooklyn,': 4904, 'cock': 4905, 'cars,': 4906, 'vacation': 4907, '170-foot': 4908, 'anchors': 4909, 'aweigh!': 4910, 'drugs.': 4911, 'safe,': 4912, '\"back': 4913, 'edge': 4914, 'cocaine': 4915, 'married,': 4916, 'money-crazed': 4917, 'scum.': 4918, 'dialing': 4919, 'series': 4920, 'hanna.': 4921, 'hanna?': 4922, 'answering': 4923, 'trading': 4924, 'seconds.': 4925, '2,000.': 4926, 'hookers,': 4927, 'meat': 4928, 'teresa.': 4929, 'fairy': 4930, 'landed.': 4931, '16,': 4932, 'brokers,': 4933, 'commission,': 4934, 'success': 4935, 'week?': 4936, 'times,': 4937, 'numbers': 4938, 'bang,': 4939, 'tip,': 4940, 'dial': 4941, 'revolutions.': 4942, 'wheel.': 4943, '36': 4944, 'mr...': 4945, '4:00': 4946, 'points.': 4947, 'institution': 4948, 'stockbroker.': 4949, 'stockbrokers': 4950, 'island?': 4951, 'dwayne.': 4952, 'york.': 4953, 'cheap': 4954, 'stocks.': 4955, 'aerotyne...': 4956, 'aerotyne,': 4957, 'radar': 4958, 'detectors': 4959, 'mostly': 4960, 'ads': 4961, 'helping': 4962, 'diamond': 4963, '50%': 4964, 'services.': 4965, 'commission': 4966, 'stock,': 4967, 'blowjob': 4968, 'stocks': 4969, '60': 4970, 'very...': 4971, 'international.': 4972, 'profit': 4973, 'jesus!': 4974, 'grand.': 4975, 'azoff.': 4976, 'bro?': 4977, 'furniture.': 4978, 'make?': 4979, 'teeth.': 4980, 'wife!': 4981, 'whatever,': 4982, 'retarded': 4983, 'just,': 4984, 'horrible.': 4985, 'enjoying': 4986, 'present.': 4987, 'hit.': 4988, 'otter,': 4989, 'brad.': 4990, \"brad's\": 4991, 'quaaludes,': 4992, 'amish': 4993, 'bullshit?': 4994, 'alden': 4995, 'ming,': 4996, 'jerk-offs?': 4997, 'ahab.': 4998, 'sailed': 4999, 'whoever': 5000, 'kevin?': 5001, 'brokers': 5002, 'kevin,': 5003, 'airlines.': 5004, 'pass?': 5005, 'rhonda!': 5006, 'danielle': 5007, 'scalp': 5008, 'roof': 5009, 'champagne?': 5010, 'street,': 5011, '\"who': 5012, 'overnight': 5013, 'cocaine,': 5014, 'wives': 5015, \"mother's\": 5016, 'who...': 5017, 'chin.': 5018, 'dart.': 5019, 'safety': 5020, 'pellet': 5021, 'gossip.': 5022, '$26,000': 5023, 'ordered': 5024, 'sides.': 5025, 'cure': 5026, 't&e!': 5027, 'upset': 5028, 'dad.': 5029, 'hooker': 5030, 'stratton,': 5031, 'penicillin': 5032, 'marriage.': 5033, 'bald': 5034, 'knuckleheads': 5035, 'jordy.': 5036, 'chickens': 5037, 'obscene.': 5038, 'arncliffe': 5039, 'ludes,': 5040, 'bug': 5041, 'ski?': 5042, 'hildy.': 5043, 'verrazano': 5044, 'fever': 5045, 'guinea': 5046, 'mutt.': 5047, 'london.': 5048, 'friends?': 5049, 'panties.': 5050, 'tea?': 5051, 'tea.': 5052, 'lord!': 5053, 'doing...': 5054, 'whore': 5055, 'get...': 5056, 'beginning.': 5057, 'another.': 5058, 'sock': 5059, \"don't...\": 5060, 'club.': 5061, 'nicholas': 5062, 'kicked': 5063, 'no-no,': 5064, 'law.': 5065, 'exchange': 5066, 'lawyers': 5067, 'ipo': 5068, 'initial': 5069, 'bachelor': 5070, 'bahamas': 5071, 'came!': 5072, 'boats': 5073, 'rocco.': 5074, 'venice.': 5075, 'venice!': 5076, 'italy.': 5077, '\"duchess\"': 5078, 'skylar!': 5079, 'bermuda': 5080, 'golf': 5081, 'gosh.': 5082, 'rocco': 5083, 'yet?': 5084, 'bowl?': 5085, 'office!': 5086, 'genius.': 5087, 'shoes,': 5088, 'legally': 5089, 'hottest': 5090, 'trends.': 5091, 'industry,': 5092, 'telephones.': 5093, 'tits.': 5094, 'bills?': 5095, 'america!': 5096, 'subpoena?': 5097, 'denham.': 5098, 'inner': 5099, 'rattle': 5100, 'phones': 5101, 'call?': 5102, 'pills,': 5103, 'fellas!': 5104, 'aboard': 5105, 'privately.': 5106, 'hungry?': 5107, 'loud': 5108, 'block,': 5109, 'should.': 5110, \"broker's\": 5111, 'subway': 5112, 'situations': 5113, 'guidance.': 5114, 'opportunity.': 5115, 'trade,': 5116, 'fathers': 5117, 'coupons!': 5118, 'switzerland?': 5119, 'geneva.': 5120, 'sober.': 5121, 'tingle': 5122, 'drool': 5123, 'fasten': 5124, 'hilfe!': 5125, 'untie': 5126, 'flying.': 5127, 'ludes?': 5128, 'saurel.': 5129, 'requires': 5130, 'blah,': 5131, 'chit': 5132, 'circumstances': 5133, 'cooperate': 5134, 'oui.': 5135, 'exactly?': 5136, 'croy.': 5137, 'said?': 5138, 'aunt,': 5139, 'tension.': 5140, 'winters': 5141, 'chantalle,': 5142, 'trips,': 5143, 'boom,': 5144, 'briefcase.': 5145, 'stupid?': 5146, 'apology': 5147, 'messages': 5148, 'twinkle.': 5149, 'briefcase,': 5150, 'cunt,': 5151, 'knees!': 5152, 'twenty': 5153, 'old.': 5154, 'bo,': 5155, 'roll!': 5156, 'million?': 5157, \"daughter's\": 5158, 'fbi!': 5159, 'cocksucker!': 5160, 'breathing.': 5161, \"people's\": 5162, 'wave': 5163, 'terms': 5164, 'plead': 5165, \"donnie's\": 5166, 'kimmie,': 5167, 'met.': 5168, 'barring': 5169, 'subpoenas': 5170, 'danish?': 5171, 'hair?': 5172, 'madden,': 5173, 'unloading': 5174, '$20': 5175, 'english!': 5176, 'dishes.': 5177, 'gale': 5178, 'warning!': 5179, 'mayday!': 5180, 'financially': 5181, 'independent': 5182, \"belfort's\": 5183, 'guts.': 5184, 'camera': 5185, 'living,': 5186, 'laundering': 5187, 'benihana.': 5188, 'beni-fucking-hana!': 5189, 'oui,': 5190, 'engaging': 5191, 'fraud.': 5192, 'laundering.': 5193, 'non-alcoholic': 5194, 'baking': 5195, 'term,': 5196, 'cooperation.': 5197, 'cooperate.': 5198, 'divorce.': 5199, 'divorce?': 5200, 'whore!': 5201, 'key!': 5202, 'district': 5203, 'normally.': 5204, 'commit,': 5205, 'mil,': 5206, 'crop...': 5207, \"barkin'\": 5208, 'calvin?': 5209, 'cute?': 5210, 'can!': 5211, 'divorced?': 5212, '-miracle': 5213, 'alternative': 5214, 'action?': 5215, \"-we're\": 5216, 'jobs?': 5217, \"'r'\": 5218, 'power...': 5219, 'quiet!': 5220, 'vinyard?': 5221, \"landers'\": 5222, 'complicated.': 5223, 'deserves': 5224, 'frenzy': 5225, 'since.': 5226, 'threatened': 5227, 'follow-through.': 5228, 'kind?': 5229, 'dumb,': 5230, 'vanguard': 5231, 'revolutionaries': 5232, 'tomorrow?': 5233, 'begins,': 5234, 'cell': 5235, 'clearing.': 5236, 'thatta': 5237, 'facing': 5238, 'toward?': 5239, 'q.': 5240, 'laws,': 5241, '-nobody': 5242, '-right.': 5243, 'leeches': 5244, 'legs,': 5245, 'hips,': 5246, 'perfectly': 5247, \"kiddin'?\": 5248, 'cream?': 5249, 'someplace.': 5250, 'problemo.': 5251, 'sewer': 5252, 'pumpkin': 5253, 'nkrumah': 5254, 'ghana': 5255, 'mentor,': 5256, 's': 5257, 'kou': 5258, 'guinea,': 5259, 'leaders.': 5260, 'profession...': 5261, 'indicated': 5262, 'melts...': 5263, 'mchale.': 5264, 'bookies': 5265, 'qualify': 5266, 'action.': 5267, 'lawman,': 5268, 'massages.': 5269, 'mood.': 5270, 'homework.': 5271, 'precious!': 5272, 'shady': 5273, 'passel': 5274, 'ponies.': 5275, 'scope': 5276, 'doctor?': 5277, 'boast.': 5278, 'attack?': 5279, 'petty': 5280, 'crap': 5281, 'pulling.': 5282, 'names,': 5283, 'file.': 5284, 'sensitive...': 5285, '-tony': 5286, 'horror.': 5287, 'coldblooded': 5288, 'juice!': 5289, 'hypocrisy': 5290, 'dummy!': 5291, 'p-press': 5292, 'th-,': 5293, 'p-plunger.': 5294, 'trigger': 5295, 'ungrateful': 5296, 'sons-a-bitches,': 5297, 'criticize!': 5298, '\"no.': 5299, 'later.\"': 5300, 'break.': 5301, 'beds': 5302, 'made.': 5303, 'building,': 5304, 'plant': 5305, 'hopped': 5306, 'pcp': 5307, 'danny...': 5308, 'shaming': 5309, 'execution...': 5310, 'sign?': 5311, 'qualifies.': 5312, 'speciality?': 5313, '-knives.': 5314, 'christophe,': 5315, 'bourbon.': 5316, 'run-ins': 5317, 'vast': 5318, 'majority': 5319, 'captive': 5320, 'communities.': 5321, 'seven!': 5322, 'punk.': 5323, 'something.\"': 5324, 'chrysler.': 5325, 'joe?': 5326, 'milk.': 5327, 'settle': 5328, 'jokes?': 5329, 'process': 5330, 'started?': 5331, 'affirmative.': 5332, 'department?': 5333, \"dad's.\": 5334, 'packing,': 5335, 'bitch-ass': 5336, 'anyone?': 5337, 'disorganized': 5338, 'smut': 5339, 'bash': 5340, 'laughter': 5341, 'undone': 5342, 'blaming': 5343, 'waitresses': 5344, 'stand...': 5345, 'undying': 5346, 'falls': 5347, 'chiefs': 5348, 'lily': 5349, 'caves': 5350, 'beverage': 5351, 'despite': 5352, 'cart,': 5353, 'practiced': 5354, 'dentistry': 5355, 'formerly': 5356, 'resident': 5357, 'plantation?': 5358, 'foreigners...': 5359, '-spit,': 5360, 'immigrants...': 5361, '102.7': 5362, 'allman': 5363, 'fix.': 5364, 'three-piece': 5365, 'hood': 5366, 'robe': 5367, '\"national': 5368, 'director\".': 5369, 'sip': 5370, 'fingers.': 5371, 'coal': 5372, 'person,': 5373, '-oooh.': 5374, '-by': 5375, \"i'm,\": 5376, 'know-i': 5377, 'experienced...': 5378, '\"good': 5379, '-except': 5380, 'jerry!': 5381, 'spic!': 5382, 'responsibilities': 5383, 'dapper': 5384, 'gentleman.': 5385, '-or': 5386, 'privileges.': 5387, 'masters': 5388, 'crime.': 5389, 'aids,': 5390, 'oscar': 5391, 'role.': 5392, 'supporting': 5393, 'actress,': 5394, 'live?': 5395, 'met?': 5396, 'grumpy': 5397, '-those': 5398, 'bars?': 5399, '-marsellus': 5400, 'then...': 5401, 'misdemeanor': 5402, 'aw,': 5403, 'assigned': 5404, 'bodyguard.': 5405, 'might-a': 5406, 'dose': 5407, 'picture.': 5408, 'thousand,': 5409, 'ninety-nine?': 5410, 'struggle.': 5411, 'abusive.': 5412, 'storing': 5413, 'why!': 5414, 'truth?': 5415, 'necklace': 5416, 'neck.': 5417, 'tada.': 5418, 'road.': 5419, 'drenched': 5420, 'blood.': 5421, 'pantry.': 5422, 'soaring,': 5423, 'eagle': 5424, 'attracts': 5425, 'plucked': 5426, 'chicken.': 5427, '-say,': 5428, 'full-scale': 5429, 'toronto': 5430, \"canadians'\": 5431, 'bombing': 5432, 'toll': 5433, 'arquette': 5434, \"vincent's\": 5435, 'hair!': 5436, 'cheeky.': 5437, 'driving,': 5438, 'spear': 5439, 'chucker,': 5440, 'bora-boran': 5441, '-quack,': 5442, 'quack,': 5443, 'lordy,': 5444, 'complete?': 5445, 'shooting.': 5446, 'watching?': 5447, \"all's\": 5448, 'b-but': 5449, 'burgundy': 5450, 'color.': 5451, 'paying': 5452, 'basketball': 5453, 'court...': 5454, 'american,': 5455, 'bro': 5456, 'pope,': 5457, 'property,': 5458, 'desire!': 5459, 'constructive': 5460, 'evidence': 5461, 'calling.': 5462, 'gal,': 5463, '46th,': 5464, \"waitin'\": 5465, 'decaf!': 5466, 'struggling': 5467, 'aggression': 5468, 'closing': 5469, 'all-white': 5470, 'jury': 5471, 'deliberated': 5472, 'negative...': 5473, '-here': 5474, 'hat': 5475, 'rooms.': 5476, 'statistics...': 5477, 'blood...': 5478, 'tragedy': 5479, 'foundations.': 5480, 'care!': 5481, 'um': 5482, 'jacket.': 5483, 'guarantee': 5484, '100%%...': 5485, 'censoring': 5486, 'art!': 5487, 'seth?': 5488, 'ii.': 5489, 'vinyard.': 5490, 'together!': 5491, \"moms'\": 5492, 'daddy...': 5493, 'shop': 5494, 'army,': 5495, 'vile': 5496, 'jive.': 5497, '37': 5498, 'grabs': 5499, 'arm...': 5500, 'buckboard': 5501, 'saloon.': 5502, 'banking': 5503, 'establishment.': 5504, 'coat': 5505, \"quittin'.\": 5506, 'farted': 5507, 'lagoon.': 5508, 'heisman': 5509, 'pose!': 5510, 'whew!': 5511, 'enriched.\"': 5512, 'negroes,': 5513, 'grier?': 5514, 'mellow.': 5515, 'effort.': 5516, 'chew': 5517, 'closed,': 5518, 'jokes,': 5519, 'deeper.': 5520, 'tarzan.': 5521, 'fare': 5522, 'roundtree?': 5523, 'roundtree.': 5524, 'pimps': 5525, 'heroes.': 5526, 'matching': 5527, \"merv's\": 5528, 'barracks': 5529, 'trenches': 5530, '\"do': 5531, 'ask,': 5532, 'tell\"': 5533, 'skittles': 5534, 'anti-white': 5535, 'improvise.': 5536, 'started...': 5537, 'grandpa!': 5538, 'boring': 5539, 'job...': 5540, \"merv's?\": 5541, 'nobel': 5542, 'prize': 5543, 'recipient,': 5544, 'co-creator': 5545, 'transistor': 5546, 'dear...': 5547, 'william': 5548, 'shockley,': 5549, 'groundbreaking': 5550, 'scientific': 5551, 'ushered': 5552, 'age,': 5553, 'proven,': 5554, 'eugenics,': 5555, 'flowing': 5556, 'veins': 5557, 'genes': 5558, 'superior': 5559, 'restroom': 5560, 'consuming': 5561, 'excited!': 5562, 'niche': 5563, 'lesaigneur': 5564, 'sync': 5565, '&': 5566, 'corrections': 5567, 'august': 5568, '2020': 5569, 'moment...': 5570, 'fellows.': 5571, 'cupboard.': 5572, 'champions.': 5573, 'undone?': 5574, 'camaraderie?': 5575, 'come...': 5576, 'kidding,': 5577, 'destined': 5578, 'mia!': 5579, 'brutal': 5580, \"city's\": 5581, 'handling': 5582, 'fit?': 5583, 'battling': 5584, 'blaze...': 5585, 'flow.': 5586, 'toy': 5587, 'please...': 5588, 'technique': 5589, \"ticklin'\": 5590, 'reward?': 5591, 'friend!': 5592, 'begging.': 5593, 'sh...': 5594, 'questions': 5595, 'supper.': 5596, 'abos.': 5597, '-no!': 5598, 'directions.': 5599, '\"a\"': 5600, 'care,': 5601, 'rookie,': 5602, 'accompany': 5603, 'bar?': 5604, 'came,': 5605, 'anyhow.': 5606, 'coughing': 5607, 'lungs': 5608, 'gal?': 5609, 'bothering': 5610, '-while': 5611, 'looking,': 5612, \"girl's\": 5613, 'carpet.': 5614, '\"d\"': 5615, 'begins': 5616, 'darkness!': 5617, 'smores,': 5618, 'creamy': 5619, 'cookie': 5620, 'crunch.': 5621, 'ink': 5622, 'hog': 5623, 'slop!': 5624, \"negro's\": 5625, 'insidious': 5626, 'tactics,': 5627, 'tutelage': 5628, 'high-ranking,': 5629, 'blood-sucking': 5630, 'jews,': 5631, 'preda...': 5632, 'agitat...\"': 5633, '\"agitators.\"': 5634, 'happening?': 5635, 'bastard!': 5636, 'cp': 5637, \"rookie's\": 5638, 'stronger.': 5639, 'arnold': 5640, 'acres.': 5641, 'hercules?': 5642, 'yours': 5643, 'walker,': 5644, 'rubble.': 5645, 'barbecued': 5646, 'these?': 5647, 'indochina,': 5648, 'hiding': 5649, 'rice...': 5650, 'baggage...': 5651, 'devil': 5652, 'fed': 5653, 'smiled': 5654, 'fate': 5655, 'blessed': 5656, 'bravery': 5657, 'distant': 5658, 'bellow': 5659, 'dagger': 5660, 'sword': 5661, '-told': 5662, \"suckin'\": 5663, 'dicks': 5664, 'belly': 5665, 'tummy.': 5666, \"won't.\": 5667, 'funniest': 5668, \"django's\": 5669, 'gay.': 5670, 'disobeys': 5671, 'se.': 5672, 'conclusion,': 5673, 'drafted': 5674, 'vietnam': 5675, 'walt.': 5676, 'momentarily.': 5677, 'alas.': 5678, 'bartender.': 5679, 'grandmother,': 5680, 'delivering': 5681, 'massages,': 5682, 'dramatic': 5683, 'gesture': 5684, 'lethal': 5685, 'intention?': 5686, 'america?': 5687, 'sakes,': 5688, 'helping!': 5689, 'stronger!': 5690, 'judgment.': 5691, \"gimp's\": 5692, \"sleepin'.\": 5693, 'calls?': 5694, 'canadians?': 5695, 'scout': 5696, 'ron...': 5697, 'dynasty': 5698, 'motherfuckers,': 5699, 'trippy.': 5700, 'meantime,': 5701, 'pint-size': 5702, 'pixie': 5703, 'darling': 5704, 'indie': 5705, 'scene,': 5706, 'ignore': 5707, 'usual,': 5708, 'mindless,': 5709, \"gettin'-to-know-you\": 5710, 'chitchat.': 5711, '-act': 5712, 'people\"': 5713, '\"no': 5714, 'country.\"': 5715, 'jews.\"': 5716, 'senator': 5717, 'congressman': 5718, 'revolution,': 5719, 'battlefield.': 5720, 'duties': 5721, 'seriously.': 5722, 'miserable.': 5723, 'toes': 5724, 'negroes?': 5725, 'bat': 5726, 'eye.': 5727, '103-9994.': 5728, 'kid...': 5729, 'merit.': 5730, 'examples?': 5731, 'word...': 5732, 'kangaroo?': 5733, 'poor,': 5734, \"have's\": 5735, 'sakes.': 5736, '\"horse': 5737, 'fucker.\"': 5738, 'irony': 5739, 'lengths.': 5740, 'duds?': 5741, 'bonnie.': 5742, 'adopted!': 5743, 'fucker?': 5744, '-who': 5745, '-they.': 5746, 'special.': 5747, 'cora': 5748, 'presentable': 5749, 'wristwatches.': 5750, 'womanizer?': 5751, 'slavers': 5752, 'ease': 5753, '\"the\"': 5754, 'skinhead...': 5755, 'ridiculous.': 5756, 'task': 5757, 'obtaining': 5758, 'plain': 5759, 'earlier.': 5760, 'warriors': 5761, 'started!': 5762, 'wondering.': 5763, 'lies,': 5764, 'students,': 5765, 'society?': 5766, 'nope,': 5767, 'mama.': 5768, 'hey...': 5769, 'bugger.': 5770, 'listened': 5771, 'bite': 5772, 'bullet,': 5773, 'occasion': 5774, 'tad': 5775, 'overzealous,': 5776, 'clocked': 5777, '-shit!': 5778, '\"flowers': 5779, 'wall\"]': 5780, 'rhetoric.': 5781, 'class...': 5782, 'images': 5783, 'retired.': 5784, '\"buked\"': 5785, 'disrespected.': 5786, 'works,': 5787, 'joined': 5788, 'upset,': 5789, 'brings': 5790, 'defeats': 5791, 'purpose!': 5792, '-great.': 5793, '\"le': 5794, 'mac\"': 5795, 'whopper?': 5796, 'king.': 5797, 'peckerwood,': 5798, 'inch': 5799, 'worm,': 5800, 'needle-dick': 5801, 'osmonds,': 5802, 'marie': 5803, 'osmond.': 5804, 'camps,': 5805, 'finest': 5806, 'meals,': 5807, 'regularly.': 5808, 'sunday?': 5809, 'robinson,': 5810, 'guff': 5811, 'teammates,': 5812, 'fans,': 5813, 'teams': 5814, 'press.': 5815, 'going,': 5816, 'guy.\"': 5817, '\"soul': 5818, 'train\".': 5819, 'watts': 5820, 'chicago': 5821, \"'68.\": 5822, 'assume,': 5823, 'instance,': 5824, '-yes?': 5825, 'age...': 5826, 'servant.': 5827, 'raped?': 5828, 'gross,': 5829, 'beverly': 5830, 'hillbillies.': 5831, '27.': 5832, 'have!': 5833, 'minorities': 5834, 'hire': 5835, 'jumpers,': 5836, 'nip': 5837, 'bastard?': 5838, \"owner's\": 5839, 'yelling.': 5840, 'review.': 5841, 'overseers.': 5842, 'wants.': 5843, 'maurice': 5844, 'smalls.': 5845, 'goodyear?': 5846, 'dreams,': 5847, 'jellybean.': 5848, 'negative.': 5849, \"fox's\": 5850, 'speciality': 5851, 'appointed': 5852, 'offense,': 5853, 'collarbone!': 5854, 'imbecile,': 5855, 'stephen!': 5856, 'decided...': 5857, 'gals.': 5858, 'violent,': 5859, 'style,': 5860, 'stupid...': 5861, 'lights?': 5862, \"-there's\": 5863, 'reservation': 5864, '-wallace?': 5865, 'scored': 5866, 'speech,': 5867, 'censorship': 5868, 'lee!': 5869, 'quick,': 5870, 'monday': 5871, 'sunday,': 5872, 'kamehameha': 5873, 'businessman': 5874, \"8-o'clock\": 5875, 'promotes': 5876, 'bands,': 5877, 'reviews...': 5878, 'stands': 5879, 'hypocrites.': 5880, 'classic': 5881, 'instance.': 5882, 'bodyguard': 5883, 'molasses': 5884, 'respects.': 5885, 'agitators': 5886, 'determined': 5887, 'overthrow': 5888, 'god-commanded': 5889, 'biblically': 5890, 'inspired': 5891, 'accomplices.': 5892, 'counting': 5893, 'jimmie!': 5894, 'suspense.': 5895, \"help's\": 5896, 'appreciated,': 5897, 'bend': 5898, 'nash': 5899, 'remark': 5900, \"ringo's\": 5901, 'choco': 5902, 'harz': 5903, 'mountains': 5904, 'germany.': 5905, 'funeral.': 5906, '818.': 5907, 'ah...': 5908, 'handbasket.': 5909, '[\"bullwinkle': 5910, 'ii\"]': 5911, \"[mia's\": 5912, 'voice]': 5913, 'hi': 5914, \"door's\": 5915, 'one-on-one': 5916, 'embarr': 5917, '-foot': 5918, 'massages': 5919, 'obey': 5920, 'government?': 5921, 'begin': 5922, 'border.': 5923, 'firemen.': 5924, 'husky!': 5925, 'predators!': 5926, \"mexican's\": 5927, 'steven': 5928, 'wilson.': 5929, 'hunters.': 5930, 'regardless,': 5931, 'end,': 5932, 'loud,': 5933, 'floyd,': 5934, 'rifle': 5935, 'wagon,': 5936, 'buyer': 5937, 'dusseldorf,': 5938, 'highest': 5939, 'hills': 5940, 'means...': 5941, 'distinct': 5942, 'dimples.': 5943, 'finished.': 5944, 'naive.': 5945, 'rice': 5946, 'source': 5947, 'clever.': 5948, 'point?': 5949, 'surely': 5950, '-motherfucker!': 5951, 'monkeying': 5952, 'best?': 5953, 'rots': 5954, 'might.': 5955, 'hall?': 5956, 'boy...': 5957, 'sheba,': 5958, 'wallace,': 5959, 'sneaking': 5960, 'donald': 5961, 'trump:': 5962, 'neo-nazis,': 5963, '-fabienne,': 5964, 'cheated': 5965, 'stuff...': 5966, 'shenanigans.': 5967, 'attacks': 5968, '$75': 5969, 'pocket...': 5970, 'cesar': 5971, 'commie': 5972, 'chavez': 5973, 'pat': 5974, 'buster.': 5975, 'anglo-saxon': 5976, 'protestant,': 5977, 'cherry': 5978, 'dog,': 5979, 'somehow': 5980, 'swearing?': 5981, 'gang,': 5982, 'ah-ah-ah-ah.': 5983, 'mealymouth': 5984, 'sensuous': 5985, 'mmm...': 5986, 'firemen?': 5987, 'prophecy': 5988, 'keeled': 5989, 'related': 5990, 'sheila!': 5991, 'condemned!': 5992, 'comforters,': 5993, 'quilts,': 5994, 'bedspreads.': 5995, 'packing': 5996, 'packing.': 5997, 'aye!': 5998, 'seats,': 5999, 'announce': 6000, 'drinks': 6001, '[\"brandy': 6002, \"(you're\": 6003, 'girl)\"': 6004, 'airport,': 6005, 'movement': 6006, 'capitalist': 6007, 'perpetuate': 6008, 'vincent?!': 6009, 'carry\".': 6010, '-actually,': 6011, 'when,': 6012, 'impossible': 6013, 'hunters': 6014, 'drugs?': 6015, \"mushroom-cloud-layin'\": 6016, 'shaft.': 6017, 'ambassador?': 6018, '\"heroic.\"': 6019, 'sticks,': 6020, 'medieval': 6021, 'cats': 6022, 'patio.': 6023, 'o.j.,': 6024, 'sizzling': 6025, 'bramble': 6026, 'slew': 6027, 'insecure,': 6028, 'frustrated,': 6029, 'impressionable': 6030, 'bragging': 6031, 'cameron...': 6032, 'knows?': 6033, 'once.': 6034, 'piggy': 6035, 'barbecue': 6036, 'matches?': 6037, 'mm-mm.': 6038, 'seasoned': 6039, 'der.': 6040, 'officials': 6041, 'bennett,': 6042, 'conviction.': 6043, 'stragglers': 6044, 'aside.': 6045, '-because': 6046, 'cab?': 6047, \"'round\": 6048, 'campfire': 6049, 'spick-and-span.': 6050, 'admirer.': 6051, 'breachway,': 6052, 'gentleman,': 6053, 'businessman.': 6054, 'recruit...': 6055, 'however': 6056, 'pops': 6057, 'protestant.': 6058, 'france?': 6059, '-cleans': 6060, 'finger.': 6061, 'most,': 6062, 'legends.': 6063, '11,500,': 6064, '-whoa.': 6065, 'lend': 6066, \"somethin',\": 6067, 'palooka.': 6068, '9,000.': 6069, 'reclarify': 6070, 'negotiation': 6071, 'dennehy!': 6072, 'hate,': 6073, 'achieve': 6074, 'its...': 6075, 'circus?': 6076, '-yolanda!': 6077, 's-u-c-k-m-y-a-s-s.': 6078, 'forensics.': 6079, 'bald!': 6080, 'demands': 6081, 'minds,': 6082, 'hearts,': 6083, 'faith,': 6084, \"week's\": 6085, 'welcoming': 6086, 'whupped': 6087, 'severe,': 6088, 'hip': 6089, '-step': 6090, '-boys,': 6091, 'fellatio.': 6092, 'witch': 6093, 'ear,': 6094, 'nipple': 6095, 'breast,': 6096, 'nostril,': 6097, 'eyebrow,': 6098, 'lip,': 6099, 'clit,': 6100, 'paraphrasing': 6101, 'tad,': 6102, 'no--no,': 6103, 'jailhouse': 6104, 'tickets,': 6105, '-jimmie,': 6106, 'cheers,': 6107, 'ass-ramming': 6108, 'splendid,': 6109, 'choice': 6110, 'potato?': 6111, \"temperature's\": 6112, 'marsha': 6113, 'bam!': 6114, '-shh.': 6115, 'whole...': 6116, 'limp': 6117, 'got.': 6118, 'iron': 6119, 'aside': 6120, 'politics.': 6121, 'fixed,': 6122, 'misconduct,': 6123, 'sexual': 6124, 'misconduct...': 6125, 'vinceeent.': 6126, 'intercom.': 6127, 'sons-a-bitches.': 6128, 'strip.': 6129, 'boston.': 6130, 'arctic': 6131, 'tenderfoot!': 6132, 'radio.': 6133, 'starving.': 6134, 'grave.': 6135, '-jesus': 6136, 'blaspheme.': 6137, '-goddamn': 6138, '\"my': 6139, 'frequent...': 6140, 'military,': 6141, 'apropos,': 6142, 'exit,': 6143, 'possibility': 6144, 'purchasing': 6145, 'niglet': 6146, 'louisiana': 6147, 'sometime?': 6148, 'roundhouse': 6149, 'equal.': 6150, 'pin': 6151, 'respectful': 6152, 'toad?': 6153, \"d'artagnan,\": 6154, 'needed,': 6155, 'weeding': 6156, 'joking.': 6157, 'subterfuge.': 6158, 'shoots?': 6159, 'risky.': 6160, 'screw': 6161, '[car': 6162, '\"la': 6163, 'cucaracha\"]': 6164, 'burro!': 6165, 'refreshment?': 6166, 'days?': 6167, 'spoken.': 6168, 'means?': 6169, 'sistance?': 6170, 'eenie-meenie-minie-mo.': 6171, 'garrison!': 6172, 'room,': 6173, 'detector.': 6174, 'mediums': 6175, 'mediums...': 6176, 'dream.': 6177, 'busy.': 6178, 'soap': 6179, 'finished,': 6180, 'maxi-pad!': 6181, 'untalented': 6182, 'actors': 6183, 'pool': 6184, 'tar.': 6185, 'floating,': 6186, 'doughnut': 6187, 'marine,': 6188, 'marines': 6189, 'allergies...': 6190, 'allergies': 6191, 'troublesome': 6192, 'details.': 6193, 'bitching,': 6194, 'orange': 6195, 'juice...': 6196, 'want...': 6197, 'betina.': 6198, 'remembering': 6199, 'begun.': 6200, 'hamburgers.': 6201, 'hamburgers!': 6202, 'cornerstone': 6203, 'nutritious': 6204, 'brass': 6205, 'tacks,': 6206, 'failed': 6207, 'valet,': 6208, 'canceled.': 6209, 'chucked': 6210, 'union.': 6211, 'stephen...': 6212, 'caterwauling': 6213, 'minimum,': 6214, 'prisoners.': 6215, 'pissant,': 6216, 'jerkwater': 6217, 'greenhorn,': 6218, 'one-horse': 6219, 'mudhole,': 6220, 'right-wing,': 6221, 'whistle-stop': 6222, 'hobnail,': 6223, 'truck-driving': 6224, 'old-fashioned,': 6225, 'hayseed': 6226, 'inbred,': 6227, 'unkempt': 6228, 'out-of-date,': 6229, 'out-of-touch,': 6230, 'kick-ass,': 6231, 'liking': 6232, '\"will': 6233, 'swell': 6234, 'touched...': 6235, \"d'artagnan!\": 6236, '-trust': 6237, 'chair?': 6238, 'trash.': 6239, 'resent': 6240, 'racist!': 6241, 'servility.': 6242, 'otto': 6243, 'garbageman': 6244, 'stalling,': 6245, 'pooed': 6246, 'bashed': 6247, 'grier': 6248, 'jazz.': 6249, 'bebop.': 6250, '-royale': 6251, 'specimen,': 6252, 'denver': 6253, 'omelet,': 6254, 'ages.': 6255, 'pussies.': 6256, 'will...': 6257, 'opportunity,': 6258, 'peeled': 6259, 'emancipation': 6260, 'proclamation?': 6261, \"friend's\": 6262, 'quick...': 6263, '-burned': 6264, 'crisp': 6265, 'hell?': 6266, '-bloody': 6267, 'boon': 6268, 'partner.': 6269, 'abolish': 6270, 'smut!': 6271, 'cowgirl.': 6272, 'neophyte.': 6273, 'hip-hop': 6274, 'influence': 6275, 'suburbia.': 6276, 'muffin,': 6277, \"drinkin'\": 6278, \"replayin'\": 6279, 'alcoholics': 6280, 'refer': 6281, 'clarity.': 6282, 'chuck': 6283, 'meaner': 6284, 'bobby': 6285, 'lowe': 6286, 'acolytes.': 6287, '-hate': 6288, 'founded': 6289, 'exclusively': 6290, 'declaration': 6291, 'independence': 6292, 'freedoms,': 6293, 'civilization': 6294, 'western': 6295, 'overwhelmingly': 6296, 'phenomenon.': 6297, 'pimp,': 6298, 'sizes-medium': 6299, 'large,': 6300, 'chapter,': 6301, 'flash': 6302, 'fred.': 6303, 'watches?': 6304, 'primary': 6305, 'presents': 6306, 'feeling,': 6307, 'vehicle.': 6308, 'detail!': 6309, \"switchin'!\": 6310, 'ellis.': 6311, 'roger.': 6312, 'saloon!': 6313, 'dave': 6314, 'mike': 6315, 'restaurant,': 6316, \"puffin'\": 6317, 'gay!': 6318, 'separately.': 6319, '\"though': 6320, 'passion': 6321, 'strained...': 6322, 'o.d.ing': 6323, 'buke...': 6324, '\"buked.\"': 6325, 'covered.': 6326, 'mother!': 6327, 'managed': 6328, 'reason.': 6329, 'marsellus,': 6330, 'trial...': 6331, \"'un\": 6332, 'times?': 6333, 'once!': 6334, \"mammy's\": 6335, 'according-to-hoyle': 6336, 'insignificant.': 6337, 'tip-top.': 6338, 'internment': 6339, 'kilometers': 6340, 'mission': 6341, 'nut-cracking': 6342, 'pop.': 6343, 'actions.': 6344, 'coco,': 6345, 'definition': 6346, \"should've.\": 6347, 'saddam!': 6348, 'j-o-b.': 6349, 'j-o-b,': 6350, 'comfortably': 6351, 'citizens,': 6352, 'condemned': 6353, 'u.': 6354, 'n.': 6355, 'open!': 6356, 'gunfighter': 6357, 'causes,': 6358, 'fighter.': 6359, \"-'til\": 6360, 'capable.': 6361, 'password?': 6362, 'counselor?': 6363, 'shop?': 6364, 'oppress': 6365, 'chief!': 6366, 'assaulting': 6367, 'inside,': 6368, 'personal.': 6369, 'prepped': 6370, 'funny!': 6371, 'chaos,': 6372, 'filth,': 6373, 'greed.': 6374, 'rung.': 6375, 'policy': 6376, 'surprised...': 6377, 'masks': 6378, '$11,500,': 6379, 'actually.': 6380, 'friday?': 6381, 'bedding': 6382, 'gate.': 6383, 'country?': 6384, 'today...': 6385, 'mentally': 6386, 'retarded.': 6387, 'write.': 6388, 'protect': 6389, 'radio?': 6390, 'attacking!': 6391, 'lives!': 6392, 'butt-fucker!': 6393, 'nobody.': 6394, 'hearing.': 6395, 'toe.': 6396, 'water.': 6397, 'v-chips': 6398, 'week!': 6399, 'kool': 6400, 'how.': 6401, '-vincent!': 6402, 'dusseldorf.': 6403, 'entertain?': 6404, 'grammatical': 6405, 'pillowcases,': 6406, 'black-ass': 6407, 'gone!': 6408, 'moments.': 6409, 'confidant.': 6410, 'destroyed': 6411, 'shaft?': 6412, 'cora.': 6413, 'sniff': 6414, 'drawers,': 6415, 'honored.': 6416, 'window,': 6417, '-toss': 6418, 'horses.': 6419, 'fucker,': 6420, \"-where's\": 6421, 'lake?': 6422, '-over': 6423, 'burbank': 6424, 'studios.': 6425, 'road!': 6426, 'ghost': 6427, 'half-black,': 6428, 'half-samoan.': 6429, '\"tony': 6430, 'horror.\"': 6431, 'fat.': 6432, 'strength,': 6433, 'bonds': 6434, 'affection.': 6435, 'alarms!': 6436, 'statistics,': 6437, \"christ's\": 6438, 'typical.': 6439, 'typical': 6440, 'how?': 6441, 'mackey,': 6442, 'question?': 6443, 'petrified': 6444, 'ellis?': 6445, 'kikes,': 6446, 'inevitable?': 6447, 'tabitha': 6448, 'soren': 6449, 'zionist': 6450, 'mtv': 6451, 'pigs...': 6452, 'downstairs,': 6453, 'jug': 6454, '-jimmie.': 6455, 'sleeping.': 6456, \"briseno's\": 6457, 'store-': 6458, 'explosive': 6459, 'element...': 6460, '-cool.': 6461, 'pooping,': 6462, '-die,': 6463, 'drinking': 6464, 'hopefully': 6465, 'guns!': 6466, 'detector?': 6467, 'board!': 6468, 'attractive?': 6469, 'tulip?': 6470, 'television,': 6471, 'shows,': 6472, '-butch?': 6473, 'apartment,': 6474, 'hard...': 6475, 'ned!': 6476, 'worth...': 6477, 'waitresses.': 6478, 'easier!': 6479, 'kike': 6480, 'unloaded': 6481, 'once-over.': 6482, 'messy': 6483, 'beg.': 6484, 'hatred': 6485, 'dallas,': 6486, 'lover,': 6487, 'kennedy.': 6488, 'burn!': 6489, 'covert': 6490, 'operations.': 6491, 'mercenary': 6492, 'hire.': 6493, 'jerry,': 6494, 'graveyard': 6495, 'shift': 6496, 'hospital.': 6497, 'marathon?': 6498, 'betina': 6499, 'grounds': 6500, 'courageous': 6501, 'flinch': 6502, 'duty.': 6503, 'bad-ass': 6504, '\"blueberry': 6505, 'pie.\"': 6506, 'promises': 6507, 'kill,': 6508, 'maim': 6509, 'insane,': 6510, 'okay': 6511, 'abusive': 6512, 'sandy': 6513, 'butthole?': 6514, 'world...': 6515, 'angry': 6516, 'yelling,': 6517, 'beasts!': 6518, 'yippie': 6519, 'back-flipping': 6520, 'dog!': 6521, '\"friday': 6522, 'union...\"': 6523, '\"...hosted': 6524, 'controversial': 6525, 'featuring': 6526, 'nightingale': 6527, 'nightclub.\"': 6528, 'union.\"': 6529, 'student...\"': 6530, 'hoped': 6531, 'meeting,': 6532, 'gig.': 6533, 'ornery?': 6534, 'kidding.': 6535, 'laundry?': 6536, 'enjoyment,': 6537, 'famous': 6538, 'ooh,': 6539, 'clusterfuck.': 6540, 'inspire': 6541, 'justified.': 6542, 'pitt,': 6543, \"tinker's\": 6544, 'dangerous.\"': 6545, 'birthright.': 6546, 'camouflage': 6547, 'interior': 6548, 'floorboards...': 6549, 'fire-breathing': 6550, 'dragon': 6551, \"holly's\": 6552, 'waiter.': 6553, 'baldwins': 6554, 'come!': 6555, 'best,': 6556, 'american!': 6557, 'impediment.': 6558, '-jules.': 6559, '-cards,': 6560, 'fabienne': 6561, 'skip': 6562, 'president?': 6563, 'earned': 6564, 'items': 6565, 'yesterday,': 6566, 'chino,': 6567, 'rated': 6568, 'motion': 6569, 'association': 6570, 'smoke?': 6571, 'noise?': 6572, 'cornelius.': 6573, '\"retard.\"': 6574, 'fabby.': 6575, 'volleyball': 6576, 'milady': 6577, 'necessary,': 6578, 'cora!': 6579, 'chucking': 6580, 'girl!': 6581, 'feel,': 6582, 'fouling': 6583, 'mayor': 6584, 'photographer': 6585, 'gildersleeve.': 6586, 'cartman.\"': 6587, \"ryder's\": 6588, 'possess': 6589, 'persuasion.': 6590, 'lane.': 6591, 'backyard': 6592, 'science': 6593, 'phrenology': 6594, 'crucial': 6595, 'understanding': 6596, 'separation': 6597, 'species.': 6598, 'vincenzo.': 6599, 'heroes': 6600, 'historical': 6601, 'injustices.': 6602, 'massaging': 6603, 'reasonable?': 6604, 'sm...': 6605, 'kosher': 6606, 'dick-fart': 6607, 'cockmaster!': 6608, 'dedicate': 6609, 'protection,': 6610, 'preservation': 6611, 'spirit?': 6612, 'store...': 6613, 'sleep,': 6614, 'privileged': 6615, 'yolanda.': 6616, 'dug.': 6617, 'collects': 6618, 'welfare': 6619, \"'er\": 6620, 'chamber.': 6621, 'melodrama': 6622, 'brewing': 6623, 'shot?': 6624, 'argument': 6625, 'hogging': 6626, 'curious...': 6627, 'giggle': 6628, 'foreigners': 6629, 'hooray,': 6630, 'gooder': 6631, '\"gooder\"': 6632, 'respect-mr.': 6633, 'junior': 6634, 'ah-ah-ah!': 6635, 'something...': 6636, 'defined': 6637, 'narrow': 6638, 'nose?': 6639, 'traders': 6640, 'freak.': 6641, 'chief?': 6642, 'those...': 6643, 'heroic': 6644, 'love,': 6645, 'jake!': 6646, 'backwards': 6647, 'chimpanzees.': 6648, 'weeks!': 6649, 'cranky.': 6650, 'lasted?': 6651, 'attractive.': 6652, 'beating': 6653, 'thick.': 6654, 'politician...': 6655, 'politician': 6656, 'genuflect': 6657, 'rulers': 6658, 'business!': 6659, 'aim': 6660, 'low!': 6661, 'yum,': 6662, 'yum.': 6663, 'rim': 6664, 'jewish;': 6665, 'swine,': 6666, 'officer,': 6667, 'effect,': 6668, 'force.': 6669, 'expert?': 6670, 'soft-hearted': 6671, 'frenchie.': 6672, 'pocket?': 6673, 'parasites?': 6674, 'blacks,': 6675, 'browns,': 6676, 'yellow,': 6677, '\"fucked-up': 6678, 'bitch\"': 6679, 'sought': 6680, 'top-dollar': 6681, 'price.': 6682, '-:': 6683, 'panda': 6684, \"family's.\": 6685, 'miracle.': 6686, 'knoxville.': 6687, 'philosophies.': 6688, 'professional,': 6689, 'professionalism.': 6690, 'none.': 6691, 'beaten,': 6692, 'beings.': 6693, 'arrest.': 6694, 'case?': 6695, \"boss'\": 6696, 'alcohol': 6697, 'women,': 6698, 'fuck.\"': 6699, 'lets': 6700, 'theirs.': 6701, 'stephen': 6702, 'stallworth!': 6703, 'ronny!': 6704, \"comin'.\": 6705, 'mercedes.': 6706, 'tequila.': 6707, 'lane?': 6708, 'blue.': 6709, 'rituals': 6710, 'creativity.': 6711, 'chef.': 6712, 'well-dressed,': 6713, 'slightly': 6714, 'toasted': 6715, 'mexicans.': 6716, 'godfather.': 6717, 'overseeing': 6718, 'gatlinburg,': 6719, 'where.': 6720, 'repellant': 6721, \"great-grandfather's\": 6722, 'seventh': 6723, 'played,': 6724, 'raven': 6725, 'mccoy,': 6726, 'circus': 6727, 'performers.': 6728, 'dang.': 6729, 'nine!': 6730, 'feeling.': 6731, 'ivanhoe': 6732, '\"boom,\"': 6733, 'fireworks.': 6734, 'freed': 6735, '130': 6736, 'news?': 6737, '-hash': 6738, 'legal,': 6739, '100%': 6740, 'ally': 6741, 'anymore?': 6742, 'paramount': 6743, 'importance,': 6744, 'w.b.a.': 6745, '-marsellus.': 6746, 'four...': 6747, 'famously.': 6748, 'native': 6749, 'tongue,': 6750, 'brave,': 6751, 'squad,': 6752, 'arrivederci,': 6753, 'gross!': 6754, 'hilly': 6755, 'brush.': 6756, 'demagogue': 6757, 'treacherous': 6758, 'flatteries': 6759, 'blinking.': 6760, 'beads': 6761, 'recruits.': 6762, 'administrative': 6763, 'backlog.': 6764, 'adventures.': 6765, 'league.': 6766, 'sport.': 6767, 'whereabout?': 6768, 'hug,': 6769, 'corny.': 6770, 'retort.': 6771, 'weeks.': 6772, 'opinion,': 6773, 'political.': 6774, 'servant': 6775, 'promise!': 6776, 'pepsi': 6777, 'challenge': 6778, 'rats.': 6779, 'frightening,': 6780, 'lashes': 6781, 'motorcycle?': 6782, '\"walk': 6783, 'earth\"?': 6784, 'caine': 6785, 'fu.': 6786, 'spoken': 6787, 'prodigy.': 6788, 'hanoi': 6789, 'pit': 6790, 'together...': 6791, 'cake!': 6792, 'big-shot': 6793, 'passing?': 6794, 'same,': 6795, 'heads!': 6796, 'ryan': 6797, 'icu': 6798, 'st.': 6799, \"john's.\": 6800, 'insult': 6801, 'intelligence,': 6802, 'murray.': 6803, 't-i-p-p-y.': 6804, 'sound?': 6805, 'giraffe.': 6806, 'psyching': 6807, 'game?': 6808, '-hold': 6809, 'wizard?': 6810, 'weight.': 6811, 'officer:': 6812, 'ginny.': 6813, 'fixing': 6814, 'liars.': 6815, 'soldiers,': 6816, 'safely.': 6817, 'fuck-face,': 6818, 'gracie?': 6819, 'parlor...': 6820, 'b-minus.': 6821, 'truck.': 6822, 'riled': 6823, 'rules': 6824, 'c.c.,': 6825, 'unfortunately,': 6826, \"dane's\": 6827, \"man's.\": 6828, 'sunday.': 6829, 'concerned,': 6830, 'director': 6831, 'edgar': 6832, 'hoover': 6833, 'panthers': 6834, 'internal': 6835, 'threat': 6836, '-last': 6837, 'bourbon': 6838, \"nothin'?\": 6839, 'earth?': 6840, 'motorcycle,': 6841, 'chopper.': 6842, 'honda?': 6843, 'necessary': 6844, 'yak': 6845, 'comfortable?': 6846, 'belittle': 6847, '-yeah!': 6848, 'prey': 6849, 'cam!': 6850, 'year...': 6851, 'products...': 6852, 'never...': 6853, 'dread': 6854, 'winter?': 6855, '-so...': 6856, 'gotcha.': 6857, 'eyeball': 6858, 'skull-fuck': 6859, 'pools': 6860, 'collected,': 6861, 'beers': 6862, 'travelers.': 6863, 'nash,': 6864, 'astronomy': 6865, 'aficionados': 6866, 'over...': 6867, 'dollar,': 6868, 'five\"': 6869, 'others:': 6870, 'curious,': 6871, 'tongue?': 6872, '-sounds': 6873, '-funny,': 6874, 'cooties': 6875, 'handle.': 6876, 'sass,': 6877, 'worship': 6878, 'issues,': 6879, 'embodies': 6880, 'weapons': 6881, 'business...': 6882, '[\"misirlou\"]': 6883, '[\"jungle': 6884, 'boogie\"]': 6885, 'bars.': 6886, 'great-grandmother,': 6887, 'stayed...': 6888, 'laughs': 6889, \"willard's\": 6890, 'hoping': 6891, 'crew-': 6892, 'willie,': 6893, 'dallas': 6894, 'layover': 6895, 'paso': 6896, 'machinery': 6897, 'gals?': 6898, 'alec,': 6899, 'baldwin?': 6900, 'regularly,': 6901, 'hip-hop.': 6902, 'learned.': 6903, 'list...': 6904, 'norad.': 6905, 'little...': 6906, 'detective,': 6907, 'forever!': 6908, 'assignment,': 6909, 'finger?': 6910, 'seem,': 6911, 'snip': 6912, '-pie': 6913, \"pop's\": 6914, 'health.': 6915, 'prefers': 6916, 'unring': 6917, 'mom...': 6918, 'guise': 6919, 'searching': 6920, 'blond': 6921, 'sommerset': 6922, \"o'neal.\": 6923, 'stitches.': 6924, 'assignment...': 6925, 'persnickety': 6926, 'fortune': 6927, 'wasp.': 6928, 'affirmative-action': 6929, 'crap...': 6930, 'price,': 6931, 'cracker.': 6932, \"when's\": 6933, 'shake,': 6934, 'lewis,': 6935, 'amos': 6936, \"'n\": 6937, 'andy?': 6938, 'tabletop': 6939, 'vocabulary.': 6940, 'look:': 6941, 'am--': 6942, 'and--': 6943, 'lawn.': 6944, '.45.': 6945, 'happened...': 6946, 'ear?': 6947, 'gregory': 6948, 'horror': 6949, 'ten...': 6950, '20...': 6951, 'muffin?': 6952, 'penitentiary': 6953, 'recession.': 6954, 'walked.': 6955, \"it's-it's\": 6956, 'freaky,': 6957, \"talkin'.\": 6958, 'offense.': 6959, 'best...': 6960, 'freeze-dried': 6961, \"taster's\": 6962, 'deadliest': 6963, 'knife.': 6964, 'causing': 6965, 'problems!': 6966, 'holds': 6967, 'usual.': 6968, 'ascertain...': 6969, \"touchin'\": 6970, 'tongue': 6971, 'holiest': 6972, 'holies...': 6973, 'escape.': 6974, 'he,': 6975, 'groups.': 6976, 'commute': 6977, 'asked.': 6978, 'stagecoaches': 6979, '-goddamn,': 6980, 'unconditional.': 6981, 'germs.': 6982, 'stuck.': 6983, 'curtis,': 6984, 'olympics': 6985, 'salchows': 6986, 'lutz': 6987, 'blindfold': 6988, 'alps': 6989, 'grizzly': 6990, 'bears': 6991, 'magical': 6992, 'maidens': 6993, 'defending': 6994, 'standard': 6995, 'procedures.': 6996, 'ronny': 6997, 'roll,': 6998, 'assistance': 6999, 'opportunity': 7000, 'appointment.': 7001, \"m'kay\": 7002, '\"bull-poo\"': 7003, '\"fuck,\"': 7004, 'cannon?': 7005, 'matches,': 7006, 'burned.': 7007, 'other,': 7008, \"fightin'.\": 7009, 'situation!': 7010, 'expel': 7011, 'fighter?': 7012, '-whatever': 7013, 'idea?': 7014, \"sayin'!\": 7015, 'self': 7016, 'bushes': 7017, 'thief,': 7018, 'thieves.': 7019, 'electrical': 7020, 'deputy.': 7021, 'brotherhood,': 7022, 'frequent': 7023, 'nightclubs?': 7024, 'rex.': 7025, 'self.': 7026, 'specimens,': 7027, 'painful': 7028, 'ability...': 7029, 'prop.': 7030, 'nigga,': 7031, 'coon,': 7032, 'gator': 7033, 'bait,': 7034, 'spade,': 7035, 'spook,': 7036, 'sambo,': 7037, 'spear-chucking': 7038, 'chime...': 7039, 'wood': 7040, 'kerosene': 7041, 'cig': 7042, '\"eat': 7043, 'penguin': 7044, 'spelunker.\"': 7045, 'credit.': 7046, 'rain': 7047, '-oh.': 7048, 'broflovski!': 7049, 'lot!': 7050, 'judicial': 7051, 'finer': 7052, 'details': 7053, '[\"surf': 7054, 'rider\"]': 7055, 'sleeps.': 7056, 'respect!': 7057, 'realizing': 7058, 'humor...': 7059, \"strippin'\": 7060, 'rags': 7061, 'necessary.': 7062, '\"donkey-raping': 7063, 'shit-eater.\"': 7064, 'uncle.': 7065, 'uncle!': 7066, 'news...': 7067, 'cspd': 7068, '-ginny.': 7069, '-ginny': 7070, 'furnish': 7071, 'bedroom': 7072, 'set,': 7073, 'goodness': 7074, 'poisoning': 7075, \"family's\": 7076, 'dinner...': 7077, 'ringo': 7078, 'intended': 7079, 'kike.': 7080, 'outfits?': 7081, 'lucy': 7082, 'fryer.': 7083, 'empty': 7084, 'wonderful': 7085, 'sponsors': 7086, '-what,': 7087, 'dobson': 7088, 'ifs!': 7089, 'score,': 7090, '$300.': 7091, '[loud,': 7092, 'high-pitched': 7093, 'scream]': 7094, '[\"son': 7095, 'man\"]': 7096, 'issues': 7097, 'poverty?': 7098, 'miracle!': 7099, '-chill.': 7100, 'story.': 7101, '-who?': 7102, '-him.': 7103, 'springs?': 7104, '...program': 7105, 'heritage': 7106, 'supremacism...': 7107, 'store?': 7108, 'baggies': 7109, 'twistix': 7110, 'haven': 7111, 'prepared': 7112, 'scour': 7113, 'entertained': 7114, 'heck!': 7115, 'continued.': 7116, 'smaller': 7117, 'hat!': 7118, 'vibe.': 7119, 'brooke': 7120, 'shields.': 7121, 'hospitality': 7122, 'dictates,': 7123, \"didn't?\": 7124, 'couple.': 7125, '\"that\\'s': 7126, 'bitch!\"': 7127, 'frankly...': 7128, 'celtics?': 7129, 'assignment.': 7130, 'preventing': 7131, 'postcards.': 7132, 'sorta': 7133, 'paper,': 7134, 'bike': 7135, 'around?': 7136, 'tom': 7137, 'clancy': 7138, 'residence': 7139, 'tender,': 7140, 'wholesale': 7141, 'manufacturing.': 7142, 'danger,': 7143, 'tippy': 7144, 'birdsong.': 7145, 'flier.': 7146, 'walter,': 7147, 'asks,': 7148, 'twit': 7149, 'changing': 7150, 'matured.': 7151, 'went.': 7152, 'pop?': 7153, '-oui.': 7154, 'politics,': 7155, 'favors,': 7156, 'simple': 7157, 'jokers.': 7158, 'stopped!': 7159, '\"pigs.\"': 7160, 'badder': 7161, 'claimed': 7162, 'jesse...': 7163, 'violent.': 7164, 'we.': 7165, '$400': 7166, 'immigrant': 7167, 'dreams.': 7168, 'tripping': 7169, 'sec,': 7170, 'lonely': 7171, \"why's\": 7172, 'beliefs': 7173, 'sown': 7174, 'rhyme?': 7175, 'overseers': 7176, 'needing': 7177, 'nag.': 7178, 'authority?': 7179, 'cream': 7180, 'puff?': 7181, 'cranky': 7182, 'susie.': 7183, 'sammy': 7184, 'davis': 7185, 'jr.': 7186, 'attended': 7187, 'yardale': 7188, 'fingers,': 7189, 'blimp,': 7190, 'democrat?': 7191, 'hunters?': 7192, \"phone's\": 7193, 'ringing!': 7194, 'alarms': 7195, 'lll?': 7196, 'house...': 7197, 'grounded,': 7198, 'fun!': 7199, 'ownership': 7200, 'papers,': 7201, 'canadian.': 7202, '\"that': 7203, 'western,': 7204, 'civilization.': 7205, 'persevere.': 7206, 'tony.': 7207, 'dr...': 7208, 'joint?': 7209, 'jane.': 7210, 'brain,': 7211, 'superfly': 7212, 't.n.t.': 7213, 'prerogative.': 7214, \"bacall's\": 7215, 'pleases.': 7216, '\"soon-to-be-livin\\'': 7217, 'the-rest-of-his-short-ass-': 7218, 'life-in-agonizing-pain\"...': 7219, \"interestin'\": 7220, 'pistol!': 7221, 'splendid.': 7222, 'toast.': 7223, 'loving': 7224, 'jewish-controlled': 7225, 'puppets': 7226, 'supreme': 7227, 'compelling': 7228, 'inferior': 7229, 'coffin...': 7230, 'coffin': 7231, 'towards': 7232, 'mongrel': 7233, 'nation.': 7234, 'pissy!': 7235, 'ringo,': 7236, 'one-two-three-four-five': 7237, 'neglected': 7238, 'suspected': 7239, 'compton': 7240, 'den.': 7241, 'service.': 7242, 'brett,': 7243, 'never.': 7244, 'sheriff!': 7245, 'ohh!': 7246, 'smother': 7247, 'members': 7248, 'follas.': 7249, 'disputing': 7250, 'confused...': 7251, '$100': 7252, 'testicle-shitting': 7253, 'rectal': 7254, 'wart.': 7255, 'face-to-face,': 7256, 'becomes': 7257, 'combined': 7258, 'm.': 7259, 'p.a.a.': 7260, 'darkness': 7261, 'settles': 7262, \"shan't\": 7263, 'deputies': 7264, 'freedom,': 7265, '$25': 7266, 'plague.': 7267, 'slavery,': 7268, 'spanish.': 7269, 'movements,': 7270, \"butch's\": 7271, 'fabi': 7272, 'fuckhead!': 7273, 'mongoloid': 7274, 'aware,': 7275, 'marks': 7276, 'contract': 7277, 'exchanging': 7278, 'flesh.': 7279, 'stunt': 7280, 'pulled,': 7281, 'butterflies': 7282, 'stomach': 7283, 'queasy': 7284, 'fatso.': 7285, 'warped': 7286, 'chocolate,': 7287, '-gimme': 7288, '-filters?': 7289, 'flavor': 7290, '-knock': 7291, 'julie.': 7292, 'snipping': 7293, 'garden': 7294, 'enclosed': 7295, 'glass,': 7296, 'greenhouse.': 7297, 'propaganda,': 7298, 'kampf\"': 7299, 'psychobabble...': 7300, 'arise?': 7301, 'pee.': 7302, 'visit.': 7303, 'jessie!': 7304, 'humor.': 7305, 'laughed!': 7306, 'meade!': 7307, 'marriage': 7308, 'counselor.': 7309, 'separation.': 7310, 'divorced.': 7311, 'brandies,': 7312, 'spray.': 7313, '-fantastic': 7314, 'rick.': 7315, 'lagging': 7316, 'behind,': 7317, 'intimidate,': 7318, 'test?': 7319, 'zillion': 7320, 'devi': 7321, 'essere': 7322, 'rapido.': 7323, 'world-famous': 7324, 'contest.': 7325, 'c.i.d.': 7326, 'pocketbook': 7327, 'sidewalk.': 7328, 'tabletop.': 7329, 'guest?': 7330, 'ivan...': 7331, 'fair,': 7332, '\"cool.\"': 7333, 'construction.': 7334, 'importantly,': 7335, 'intelligent,': 7336, 'safeguards': 7337, 'cspd,': 7338, 'pale,': 7339, 'pasty,': 7340, 'pastrami-eating,': 7341, 'cracker': 7342, '[\"girl,': 7343, 'soon\"]': 7344, 'bom': 7345, 'bom.': 7346, 'slaver?': 7347, 'memories': 7348, 'past.': 7349, 'declared': 7350, 'razor.': 7351, 'synchronize': 7352, 'jokers?': 7353, '\"shit\"?': 7354, 'hosts': 7355, 'broflovski': 7356, 'bold': 7357, 'meet...': 7358, 'much?': 7359, 'little?': 7360, 'discussed': 7361, 'snake': 7362, 'clearly': 7363, 'hispanic': 7364, 'community,': 7365, 'asian': 7366, 'community.': 7367, '12,000?': 7368, 'figures': 7369, 'saddlebags.': 7370, 'sidelines?': 7371, '1]': 7372, 'kisses': 7373, 'sly': 7374, 'learning': 7375, \"knowin'\": 7376, 'grown': 7377, 'bean,': 7378, 'beaner!': 7379, 'harry': 7380, 'dricks': 7381, 'nelson.': 7382, 'my!': 7383, 'den?': 7384, '-made': 7385, 'rule,': 7386, 'frankie?': 7387, 'sarge...': 7388, 'phil-lip': 7389, 'mor-ris.': 7390, 'emergency.': 7391, 'talks;': 7392, 'homeboy': 7393, 'road,': 7394, 'pronto.': 7395, 'cup': 7396, 'normally': 7397, 'transitional': 7398, 'period,': 7399, 'you;': 7400, 'titties,': 7401, 'boner,': 7402, 'muff,': 7403, 'butthole,': 7404, 'barbra': 7405, 'streisand!': 7406, \"stealin'\": 7407, 'owner?': 7408, 'waltz': 7409, 'out-': 7410, '\"hour,\"': 7411, 'fart.': 7412, 'shoot!': 7413, 'differ.': 7414, '-two': 7415, '-three.': 7416, 'baldwin': 7417, 'residence.': 7418, 'baldwin.': 7419, 'trunk.': 7420, 'noses': 7421, 'broad.': 7422, 'nappy.': 7423, 'cartoon': 7424, 'shelf': 7425, 'taco!': 7426, \"threatenin'\": 7427, \"nothin',\": 7428, 'messing': 7429, 'citizen?': 7430, 'implement': 7431, 'design.': 7432, \"walter's\": 7433, 'army.': 7434, 'illegal...': 7435, 'mighty': 7436, 'cold...': 7437, 'goodwill,': 7438, 'add,': 7439, 'crowd': 7440, 'employees.': 7441, 'spider': 7442, 'flies.': 7443, 'involved?': 7444, 'u.s.a.': 7445, '-ready': 7446, '\"find': 7447, 'clitoris\"?': 7448, 'nails': 7449, 'bora': 7450, 'bora?': 7451, 'betcha.': 7452, 'math': 7453, 'asap.': 7454, 'nope.': 7455, 'done,': 7456, 'paddlefoot.': 7457, 'silly': 7458, 'underwear.': 7459, 'devils.': 7460, 'you-': 7461, 'africa.': 7462, 'lines.': 7463, 'swear,': 7464, 'cock-sucking,': 7465, 'uncles': 7466, 'mow': 7467, 'wanted!': 7468, 'positively': 7469, 'soul-enriching.': 7470, 'dentist': 7471, 'lifetime': 7472, 'davis,': 7473, 'lightweight': 7474, 'division,': 7475, 'trunks,': 7476, 'weighing': 7477, '210': 7478, 'floyd': 7479, 'ray': 7480, 'wilson!': 7481, 'yahoo': 7482, 'video': 7483, 'camera...': 7484, 'rope!': 7485, 'wager,': 7486, 'elected': 7487, 'impressed': 7488, 'conversations': 7489, 'outrage.': 7490, 'ago': 7491, 'sumbitches': 7492, 'spic': 7493, 'king...': 7494, 'released!': 7495, 'caught.': 7496, 'hour,': 7497, 'tops.': 7498, 'fox': 7499, 'only,': 7500, 'ph.': 7501, 'd.s.': 7502, 'rocks': 7503, 'disneyland,': 7504, 'code!': 7505, 'reroute': 7506, 'encryptions.': 7507, 'britney': 7508, 'spears': 7509, 'records.': 7510, 'doctor...': 7511, 'darkness.': 7512, 'rodney,': 7513, 'mess.': 7514, 'odds': 7515, 'minus': 7516, 'itching': 7517, 'blueberry,': 7518, 'apple?': 7519, 'hogs': 7520, 'fathouse': 7521, 'flattering,': 7522, 'less,': 7523, 'front,': 7524, 'line...': 7525, 'knees,': 7526, 'cocksuckers.': 7527, 'powder': 7528, 'jerome': 7529, 'spring': 7530, 'waco,': 7531, 'seats.': 7532, 'kampf.\"': 7533, 'lying...': 7534, 'flare-up,': 7535, 'fluke.': 7536, 'gimmick...': 7537, 'fortuitous': 7538, '\"proud': 7539, 'nigger\"': 7540, 'jeopardize': 7541, 'new.': 7542, '\"bad': 7543, 'motherfucker.\"': 7544, 'me:': 7545, 'cartman...': 7546, 'canadian-american': 7547, 'detail.': 7548, 'passed,': 7549, 'twoness?': 7550, 'negro?': 7551, 'holy!': 7552, 'ethnically': 7553, 'fest,': 7554, 'guys?': 7555, 'peckerwood?': 7556, 'upholstery.': 7557, 'ball-sucking': 7558, '-mind': 7559, 'mi': 7560, 'casa': 7561, 'es': 7562, 'su': 7563, 'casa.': 7564, 'mistress,': 7565, 'shafts.': 7566, 'punchy.': 7567, '\"horrific,': 7568, 'deplorable': 7569, 'words!\"': 7570, 'freeloaders.': 7571, 'courts.': 7572, 'adopted': 7573, 'canadian?': 7574, 'newspapers': 7575, '-now': 7576, '-yolanda.': 7577, 'illusions': 7578, 'gunner': 7579, 'transport,': 7580, 'flesh,': 7581, 'poontang.': 7582, 'opinion': 7583, 'incident.': 7584, 'major': 7585, \"coolidge'd\": 7586, 'jim.': 7587, 'surrounded,': 7588, 'moving...': 7589, 'roll.': 7590, 'announcement': 7591, \"child's\": 7592, 'emits': 7593, 'shock': 7594, 'electricity': 7595, 'obscenity': 7596, 'uttered.': 7597, 'manager': 7598, 'skulduggery.': 7599, 'cheap.': 7600, 'smut-free': 7601, 'environment!': 7602, 'singing': 7603, 'tune-': 7604, 'dirt,': 7605, 'daughtrey': 7606, 'sharp,': 7607, 'outlaw': 7608, 'willard': 7609, 'peck,': 7610, 'columns.': 7611, 'nimrod': 7612, 'principle.': 7613, 'granddad,': 7614, 'coolidge,': 7615, 'infiltrate': 7616, 'subversives': 7617, 'monitor': 7618, 'audience': 7619, 'reaction': 7620, \"carmichael's\": 7621, \"buyin'\": 7622, '[\"lucky': 7623, 'man\"': 7624, 'emerson,': 7625, 'lake': 7626, 'palmer': 7627, 'group,': 7628, 'p.': 7629, '120': 7630, 'highway.': 7631, 'parked?': 7632, 'slack': 7633, 'overcome...': 7634, 'cops!': 7635, 'mexicans...': 7636, 'all-access': 7637, 'e-mail.': 7638, 'buddy!': 7639, 'realize,': 7640, 'high,': 7641, 'warn': 7642, 'penalty': 7643, 'deadly': 7644, 'performance': 7645, 'duty': 7646, 'inconvenient,': 7647, 'psychopath,': 7648, 'condition.': 7649, 'tree.': 7650, '$7,000': 7651, 'pride!': 7652, 'cracks': 7653, 'looked.': 7654, 'corpses': 7655, 'interesting!': 7656, 'organization\".': 7657, 'morning?': 7658, 'deserves.': 7659, 'swell,': 7660, 'tow.': 7661, 'crap.': 7662, 'perpetuates': 7663, 'role,': 7664, 'officer...': 7665, 'all-night': 7666, 'shift.': 7667, 'asked,': 7668, 'mothers...': 7669, 'clinton': 7670, 'evii': 7671, 'scourge.': 7672, 'concerning': 7673, 'contemporary': 7674, \"belly's\": 7675, '-\"what\"': 7676, '-w-what?': 7677, 'displays': 7678, 'leadership': 7679, 'qualities.': 7680, \"who'll\": 7681, 'missed.': 7682, 'videotape': 7683, 'set-up': 7684, 'army!': 7685, 'quilts': 7686, 'snout': 7687, 'subterfuge': 7688, 'glance': 7689, 'normal.': 7690, '-here.': 7691, 'celtics,': 7692, 'afro-americans': 7693, 'excessive,': 7694, 'true?': 7695, \"-we'd\": 7696, 'pig.': 7697, 'laughing.': 7698, 'ingenuity': 7699, 'women!': 7700, 'you!\"': 7701, 'dynasty...': 7702, 'access.': 7703, 'easier.': 7704, 'silver-tongued': 7705, 'devil,': 7706, 'conclusion': 7707, 'baggage.': 7708, 'due?': 7709, 'gangster': 7710, 'liable': 7711, 'charley': 7712, 'hullabaloo': 7713, 'anne': 7714, 'warm.': 7715, 'warmer.': 7716, 'disco.': 7717, 'dan?': 7718, 'child,': 7719, 'believe.': 7720, 'j-o-b': 7721, 'kathleen': 7722, 'cleaver,': 7723, 'segregation': 7724, 'purchased': 7725, 'tainted': 7726, 'clyde?': 7727, 'twelve?': 7728, 'truck,': 7729, 'cream,': 7730, 'sugar.': 7731, 'skating.': 7732, 'citizens.': 7733, 'pickaninnies.': 7734, 'patrice...': 7735, 'union,': 7736, '\"white\"': 7737, 'coolidge': 7738, 'victorious': 7739, 'boxer': 7740, 'ring.': 7741, 'crispy': 7742, 'brother?\"': 7743, 'bounty?': 7744, 'school...': 7745, \"wendy's\": 7746, 'office...': 7747, 'track.': 7748, 'hollers,': 7749, 'iv': 7750, '70': 7751, \"cc's\": 7752, 'sodium': 7753, 'pentothal!': 7754, 'surrounds': 7755, 'hellfire.': 7756, 'horrific': 7757, 'obscenities,': 7758, 'awry': 7759, 'fry!': 7760, 'keyed': 7761, 'customer,': 7762, 'conduct': 7763, 'stunted': 7764, 'vocabulary': 7765, 'activist,': 7766, 'guests,': 7767, 'obliged': 7768, 'quest': 7769, 'apart': 7770, 'unite.': 7771, 'outspoken': 7772, '[country/western': 7773, 'muzak]': 7774, 'wallets!': 7775, 'stretch': 7776, 'y.a.': 7777, 'children?': 7778, 'convincingly': 7779, 'masquerade': 7780, 'blockbuster.': 7781, 'bava.': 7782, 'different,': 7783, 'equally': 7784, 'flag': 7785, '-one.': 7786, 'wrong!': 7787, 'wrong.': 7788, '\"just': 7789, 'happen.\"': 7790, 'theological': 7791, 'discussion': 7792, 'car...': 7793, 'discussion.': 7794, 'gatlinburg': 7795, 'realistic': 7796, 'harp!': 7797, 'ascertain': 7798, 'cowboy': 7799, 'advantage': 7800, '-kinda': 7801, 'geez,': 7802, '-good.': 7803, \"stephen's\": 7804, 'colorado.': 7805, 'specific': 7806, 'sight!': 7807, 'everybody...': 7808, '-want': 7809, 'bacon?': 7810, \"novel's\": 7811, 'warring': 7812, 'ideals': 7813, 'charles,': 7814, 'quarter-pounder': 7815, 'boot.': 7816, 'chasing': 7817, \"d'artagnan's\": 7818, 'light-skinned': 7819, 'dodger,': 7820, 'muhammad': 7821, 'ali.': 7822, 'doris?': 7823, 'nice!': 7824, 'stallworths.': 7825, '[\"since': 7826, 'you\"]': 7827, 'deeper': 7828, 'gunfight': 7829, 'jemima.': 7830, 'peddling': 7831, 'mainstream.': 7832, 'shower,': 7833, 'dumbass!': 7834, 'thee!\"': 7835, '[\"let\\'s': 7836, 'together\"]': 7837, 'cunt?': 7838, 'excused?': 7839, 'interrupt.': 7840, 'judge,': 7841, 'security.': 7842, 'bear?': 7843, 'lord.': 7844, 'slays': 7845, 'dragon,': 7846, 'eat!': 7847, 'elbows': 7848, 'rack': 7849, \"haven't,\": 7850, 'snowball,': 7851, 'mississippi,': 7852, 'usa.': 7853, 'afros': 7854, 'products': 7855, 'environments.': 7856, 'imminent.': 7857, 'tracked': 7858, 'hollywood.': 7859, 'halfway': 7860, 'through...': 7861, 'intervention': 7862, 'mouths,': 7863, 'quandary': 7864, 'cake?': 7865, '-martin': 7866, 'trouble?': 7867, 'snowy': 7868, 'yourselves': 7869, 'shaved': 7870, 'minute...': 7871, 'toothpaste.': 7872, '-where': 7873, 'organized.': 7874, 'six!': 7875, 'civic': 7876, 'desperately': 7877, \"chapter's\": 7878, 'honorary': 7879, 'events,': 7880, 'receive': 7881, 'card.': 7882, 'directly.': 7883, 'thee.\"': 7884, 'shutting': 7885, 'over-stand.': 7886, 'spooks': 7887, 'private.': 7888, 'all?': 7889, '98!': 7890, 'gates': 7891, 'stash.': 7892, 'alcoa': 7893, 'commercials.': 7894, 'rubbed': 7895, 'parasites.': 7896, 'hundred...': 7897, 'filthy,': 7898, 'proposition.': 7899, 'grasp': 7900, 'been,': 7901, 'weirdest': 7902, 'hakeem,': 7903, 'established': 7904, 'familiarity': 7905, 'klansman': 7906, 'horses...': 7907, 'marvin': 7908, 'farmer,': 7909, 'threat,': 7910, 'whatcha': 7911, \"havin'?\": 7912, 'planned?': 7913, 'eyeholes.': 7914, '\"ron': 7915, 'riot': 7916, 'de-escalate...': 7917, 'calmly,': 7918, 'firmly.': 7919, 'hallelujah...': 7920, 'diplomacy,': 7921, 'dignity!': 7922, 'option.': 7923, 'brat!': 7924, 'yeee!': 7925, 'yeeee-hah!': 7926, 'protest.': 7927, '$100.': 7928, 'bumper.': 7929, 'inviting': 7930, 'downstairs.': 7931, 'silences.': 7932, 'cripple': 7933, 'insanely': 7934, 'convicted...': 7935, 'balls,': 7936, 'garrison?': 7937, 'cock-sucking': 7938, 'thicker': 7939, 'darker': 7940, 'whites.': 7941, 'gill': 7942, 'tatum.': 7943, 'powell': 7944, 'koon': 7945, 'cracking': 7946, 'clubs...': 7947, 'lash': 7948, 'larue?': 7949, 'spurs': 7950, 'jingling': 7951, 'jangling?': 7952, 'prot': 7953, 'tomato,': 7954, 'tomato.': 7955, 'greenville...': 7956, \"lizzy's\": 7957, 'examined,': 7958, 'physician': 7959, 'choosing.': 7960, 'humanity.': 7961, 'jenny': 7962, 'waited': 7963, 'contestants.': 7964, 'south,': 7965, 'concluded': 7966, 'parties,': 7967, 'radio': 7968, 'jacket': 7969, 'spanish,': 7970, 'colombian.': 7971, 'record?': 7972, 'now\"?': 7973, 'coffee...': 7974, 'shitfire.': 7975, 'ruler,': 7976, 'judge.': 7977, 'rights?': 7978, 'scales': 7979, 'mountain,': 7980, 'throat': 7981, 'apparently,': 7982, 'nope!': 7983, 'heritage,': 7984, 'troubles': 7985, 'those,': 7986, 'cowboy?': 7987, 'scamps': 7988, 'sewing': 7989, 'body!': 7990, 'dennehy.': 7991, 'recognizes': 7992, 'voice...': 7993, 'server.': 7994, 'mainframe.': 7995, 'lips?': 7996, 'o...': 7997, 'greatest.': 7998, 'slack-jawed': 7999, 'gaze.': 8000, 'logs,': 8001, 'anyway...': 8002, 'clowns': 8003, 'clearances.': 8004, 'spoons?': 8005, 'selfish.': 8006, 'listen...': 8007, 'know-': 8008, 'ok': 8009, 'h.': 8010, 'cowards': 8011, 'tend': 8012, 'homes': 8013, 'samson.': 8014, 'warms': 8015, 'fireworks,': 8016, 'ivan,': 8017, 'picks': 8018, 'feet?': 8019, 'terrance?': 8020, 'farted.': 8021, '...get': 8022, 'bread': 8023, 'butter.': 8024, 'burning,': 8025, 'own,': 8026, '-would': 8027, 'cup?': 8028, \"yes'm,\": 8029, 'strength!': 8030, 'horseshit!': 8031, 'lnjun,': 8032, 'blows': 8033, 'beg,': 8034, 'shotguns': 8035, 'navarone.': 8036, 'evening.\"': 8037, \"dog's\": 8038, 'personality': 8039, '-ah,': 8040, 'rationale,': 8041, 'personality,': 8042, '1:30': 8043, 'kite...': 8044, \"wait'll\": 8045, '-\"and': 8046, 'pain': 8047, 'suffering...': 8048, 'racist.': 8049, 'offing': 8050, 'paris.': 8051, 'aloud.': 8052, 'practically': 8053, 'broom?': 8054, 'insist': 8055, 'opposite': 8056, 'gist.': 8057, 'attic': 8058, 'roy.': 8059, 'sweets,': 8060, 'inspiration!': 8061, 'idiot,': 8062, 'chance.': 8063, 'dependable': 8064, 'character,': 8065, 'sterling': 8066, 'worth.': 8067, 'fight...': 8068, 'break,': 8069, 'valet?': 8070, \"character's\": 8071, 'costume.': 8072, 'weight!': 8073, 'shaffer,': 8074, \"butchers'\": 8075, 'paso!': 8076, 'toes.': 8077, 'needle': 8078, 'stabbing': 8079, 'cheating!': 8080, 'demonstration,': 8081, '...just': 8082, 'tragedy.': 8083, 'frail': 8084, 'rotten': 8085, 'disgrace': 8086, 'meshugana': 8087, 'ike!': 8088, 'least,': 8089, 'reason:': 8090, 'backs...': 8091, 'judging': 8092, \"kwame's\": 8093, 'speech?': 8094, 'organizations': 8095, '-dorks.': 8096, 'dorks.': 8097, '-ha-ha-ha.': 8098, 'clothes,': 8099, 'catch...': 8100, 'jockey': 8101, 'lawn!': 8102, 'lake.': 8103, 'balls.': 8104, 'vacuum!': 8105, 'untangle': 8106, 'trachea': 8107, 'esophagus.': 8108, 'colonize.': 8109, 'treatment.': 8110, 'adams': 8111, 'occasions.': 8112, 'thank,': 8113, 'lack': 8114, 'overall': 8115, 'leadership.': 8116, 'obvious': 8117, 'reasons,': 8118, 'klan.\"': 8119, 'plan,': 8120, 'chef!': 8121, 'tonic': 8122, 'chat': 8123, '-huh?': 8124, 'firstborn...': 8125, 'high-muckety-muck': 8126, 'panthers.': 8127, \"-they're\": 8128, 'scrotum': 8129, 'sucker': 8130, 'deceived': 8131, 'scotty.': 8132, 'boxer,': 8133, 'specifics,': 8134, 'won,': 8135, 'pan-ass.': 8136, 'students!': 8137, 'nicely,': 8138, 'parasites...': 8139, 'mitzvahs.': 8140, 'mitzvah.': 8141, 'robs': 8142, 'dicks!': 8143, 'aboot!': 8144, 'assigning': 8145, 'detail': 8146, 'that;': 8147, 'appreciated.': 8148, 'toke?': 8149, 'turds,': 8150, 'sunrise,': 8151, 'meat.': 8152, 'fool.': 8153, 'familiar': 8154, 'lately': 8155, 'if,': 8156, 'bags;': 8157, 'train.': 8158, 'zap': 8159, 'quick!': 8160, 'enter...': 8161, 'fabienne,': 8162, 'disappointed': 8163, \"ain't.\": 8164, 'speak.': 8165, 'images.': 8166, 'exam.': 8167, 'pliers': 8168, 'blowtorch.': 8169, 'shame.': 8170, 'circumstanced?': 8171, 'difficult': 8172, 'kill!': 8173, 'prove?': 8174, 'strip': 8175, 'clip': 8176, 'garboon': 8177, 'pure,': 8178, 'saint.': 8179, 'angel.': 8180, 'puke.': 8181, 'yahoo.': 8182, \"tryin',\": 8183, 'learned,': 8184, 'fuck-ass...': 8185, 'chef?': 8186, 'rockamora?': 8187, 'ambassador,': 8188, 'hereby': 8189, 'condemn': 8190, 'actions': 8191, 'apprehending': 8192, 'samson?': 8193, \"mac's\": 8194, 'mac,': 8195, 'le': 8196, 'ten?': 8197, 'ace!': 8198, 'wha...': 8199, 'hilda?': 8200, 'shower...': 8201, 'seldom': 8202, 'neighbor': 8203, 'abused': 8204, 'australians!': 8205, 'doris,': 8206, 'better?': 8207, 'monkey-fucking': 8208, 'shows.': 8209, 'comprende?': 8210, 'scared...': 8211, 'accustomed': 8212, '-uhh!': 8213, 'walter?': 8214, 'bottle': 8215, 'vodka,': 8216, 'valet': 8217, 'sat': 8218, \"monroe's\": 8219, 'section.': 8220, '-butch,': 8221, '-yeah?': 8222, 'despise': 8223, 'slavery.': 8224, 'intercom?': 8225, 'jew?': 8226, '\"fuck.\"': 8227, 'fat-ass!': 8228, 'aah!': 8229, 'merde!': 8230, 'startled': 8231, 'dream?': 8232, 'owner,': 8233, 'disputed.': 8234, 'toad': 8235, 'penis.': 8236, 'impression,': 8237, 'granted': 8238, 'audience,': 8239, 'limited': 8240, 'skinny': 8241, 'gangbanger.': 8242, 'takes.': 8243, 'picture-perfect': 8244, 'tender': 8245, 'mild': 8246, 'thorny': 8247, 'crown': 8248, 'hector...': 8249, 'realize...': 8250, 'intellectuals': 8251, 'define': 8252, 'neighborhood...': 8253, 'sacred': 8254, 'oath': 8255, 'swore': 8256, 'secrecy.': 8257, 'coat.': 8258, 'black!': 8259, 'shoeshine': 8260, 'parlor.': 8261, 'watertight?': 8262, 'saddlebags': 8263, 'calm,': 8264, \"this'll\": 8265, 'waiting.': 8266, 'multiple': 8267, 'felon': 8268, 'admission.': 8269, 'plans,': 8270, \"-isn't\": 8271, 'exciting': 8272, 'permission?': 8273, 'monroe.': 8274, 'sooner': 8275, 'expecting.': 8276, \"pluggin'\": 8277, 'diners.': 8278, '\"shit-faced': 8279, 'cockmaster.\"': 8280, \"whatever's\": 8281, 'w-whoa.': 8282, \"w-what's\": 8283, \"show's\": 8284, 'impress': 8285, 'jerk-offs': 8286, 'dress-up?': 8287, 'ma': 8288, 'petite': 8289, 'femme': 8290, 'noire.': 8291, 'congrats.': 8292, 'mustard.': 8293, 'dubious': 8294, 'pages': 8295, 'witnesses,': 8296, 'attest': 8297, 'all-important': 8298, 'wave,': 8299, 'shield.': 8300, 'correctional': 8301, 'arm,': 8302, 'foot.': 8303, 'henceforth,': 8304, 'swinging': 8305, 'rocks,': 8306, 'rocks.': 8307, 'skinheads': 8308, 'freezing!': 8309, 'biscuit.': 8310, 'nickname?': 8311, 'biscuits.': 8312, 'surprise.': 8313, 'piece,': 8314, 'sistance!': 8315, 'winston': 8316, 'solve': 8317, 'placing': 8318, \"citizen's\": 8319, 'jackass.': 8320, 'laws?': 8321, 'mics.': 8322, 'righty': 8323, 'shopping,': 8324, 'anything!': 8325, 'heroin,': 8326, 'medicine.': 8327, 'apologize,': 8328, 'travels': 8329, 'bennett?': 8330, 'trench!': 8331, 'pussyfooting': 8332, 'scoop': 8333, 'skull.': 8334, '10:00': 8335, 'p.m.': 8336, 'anti-semitism?': 8337, 'orleans,': 8338, 'types.': 8339, 'words:': 8340, 'watch.\"': 8341, 'political,': 8342, '\"coffy\".': 8343, '\"think.\"': 8344, 'kennel,': 8345, 'sic': 8346, 'silent,': 8347, 'hillbilly.': 8348, 'ones.': 8349, 'eyeballing,': 8350, 'reflection,': 8351, 'hammer,': 8352, 'hole.': 8353, 'peculiar.': 8354, 'reader.': 8355, 'b5': 8356, 'fitted': 8357, 'week...': 8358, 'wallet.': 8359, 'around....': 8360, 'odetta': 8361, 'turner': 8362, 'hotel.': 8363, 'hussein!': 8364, 'stuff?': 8365, 'associates': 8366, \"sendin'\": 8367, 'wolf?': 8368, 'suspects.': 8369, 'honor,': 8370, 'accept.': 8371, 'nearing': 8372, 'seven-zero-zero-zero..': 8373, 'futility.': 8374, 'tell,': 8375, 'stinks.': 8376, 'chips': 8377, 'guacamole.': 8378, 'effort': 8379, 'felons.': 8380, 'solving': 8381, 'rooms': 8382, 'rage...': 8383, 'balcony.': 8384, 'passing.': 8385, 'lara.': 8386, 'eight?': 8387, 'collect?': 8388, 'balloons.': 8389, 'baggie': 8390, 'mon': 8391, 'amour.': 8392, \"l'aventure\": 8393, 'commence.': 8394, 'courtesy': 8395, 'nbc.': 8396, 'chopper,': 8397, '-whose': 8398, 'scapegoated': 8399, 'secret.': 8400, 'password': 8401, 'is...\"': 8402, 'armed': 8403, 'illustrating': 8404, 'driveway.': 8405, 'points': 8406, 'favorite?': 8407, 'ch-cheeseburgers.': 8408, \"boardwalk's\": 8409, 'dump...': 8410, 'addict': 8411, 'shades': 8412, 'tunnel.': 8413, 'dealer...': 8414, 'letter': 8415, 'assault.': 8416, '\"fuck\"?': 8417, 'rogues.': 8418, 'shots,': 8419, \"didn't,\": 8420, 'were.': 8421, 'robert?': 8422, 'guardian?': 8423, 'landers?': 8424, 'hoo!': 8425, 'painting.': 8426, \"thing's\": 8427, 'domesticated': 8428, 'cleaners': 8429, 'cleansers': 8430, '-yeah': 8431, 'sink.': 8432, 'graph,': 8433, 'economy': 8434, 'relies': 8435, 'cheat': 8436, 'hangman': 8437, 'agenda': 8438, 'socialize.': 8439, 'beers.': 8440, 'chow.': 8441, 'method': 8442, 'differs': 8443, 'shitload.': 8444, '-kill': 8445, 'preach.': 8446, '5:00': 8447, 'infamy,': 8448, 'bombed': 8449, 'baldwins.': 8450, 'stall?': 8451, 'image': 8452, 'uh-uh.': 8453, 'nervous,': 8454, '\"doggy.\"': 8455, 'doggy.': 8456, 'killer': 8457, '-english,': 8458, 'relationship.': 8459, 'gigantic': 8460, 'fair.': 8461, 'branch': 8462, 'rickey.': 8463, 'tapes': 8464, 'scott': 8465, 'purified': 8466, 'discussion,': 8467, 'kinda...': 8468, 'turkey,': 8469, 'turkey?': 8470, 'bob.': 8471, 'became': 8472, \"fun's\": 8473, \"joy-poppin'\": 8474, 'bubble-gummers!': 8475, 'highs!': 8476, 'era': 8477, 'marked': 8478, 'integration': 8479, 'miscegenation.': 8480, 'uniform': 8481, 'brute': 8482, 'son...': 8483, 'mayor,': 8484, 'vaguely': 8485, 'pure-as-white-driven-snow': 8486, 'body...': 8487, 'snake.': 8488, 'tweaking.': 8489, 'celtics.': 8490, 'cameron,': 8491, 'garbage.': 8492, 'marriage?': 8493, 'fridge': 8494, 'bedrock,': 8495, 'sting.': 8496, 'answers.': 8497, 'shake.': 8498, 'dimples,': 8499, 'confidence': 8500, 'feel?': 8501, '\"want': 8502, 'phillip?\"': 8503, \"bar's\": 8504, 'fireplace.': 8505, 'fag,': 8506, 'bowie,': 8507, 'pipes': 8508, 'orderliness': 8509, 'clitoris...': 8510, 'bored.': 8511, 'pronounces': 8512, '\"are-uh.\"': 8513, '\"are-uh...': 8514, 'more...': 8515, '9-millimeter': 8516, 'shepherd...': 8517, 'demolition': 8518, 'expert.': 8519, \"restaurant's\": 8520, \"haven't...\": 8521, \"-let's\": 8522, 'impossibility.': 8523, 'bartender:': 8524, 'having?': 8525, 'open...': 8526, 'introductions?': 8527, \"boys'\": 8528, 'hips': 8529, 'reform.': 8530, 'dreadful': 8531, 'thoughts.': 8532, 'walking,': 8533, 'bowie.': 8534, 'willie.': 8535, 'murray': 8536, 'bible': 8537, 'erase': 8538, 'bomb': 8539, 'along...': 8540, '-almost': 8541, 'plastered': 8542, 'windshield,': 8543, 'real?': 8544, 'sight.': 8545, 'couple...': 8546, 'amazed.': 8547, 'moonlight': 8548, 'roscoe!': 8549, 'lover': 8550, 'manipulative,': 8551, 'self-righteous': 8552, 'count,': 8553, 'really...': 8554, 'alleviating': 8555, 'responsibility...': 8556, 'because...': 8557, 'ned,': 8558, 'given...': 8559, 'weirdo?': 8560, 'psyched': 8561, '10:00.': 8562, 'owner': 8563, 'lotta...': 8564, 'drunken': 8565, 'maniac.': 8566, \"when'd\": 8567, 'principal': 8568, 'considering,': 8569, 'miles,': 8570, 'bull': 8571, 'camp?': 8572, 'hussein,': 8573, 'evil.': 8574, 'clubs': 8575, 'excessively.': 8576, 'glass?': 8577, 'empire,': 8578, 'comet,': 8579, 'touches': 8580, 'soil,': 8581, 'pta,': 8582, '7:22': 8583, 'rehearsed.': 8584, 'insisted': 8585, 'schoolwork': 8586, 'rehab': 8587, 'swear.': 8588, 'sold...': 8589, 'heck,': 8590, 'jews.': 8591, 'bump': 8592, 'everyone,': 8593, 'writing': 8594, 'hitler.': 8595, 'i-i': 8596, 'lose,': 8597, 'raquel': 8598, 'sympathetic': 8599, 'dilemma.': 8600, 'yonder.': 8601, 'reasons': 8602, '\"birth': 8603, 'nation\".': 8604, 'rebirth.': 8605, 'explosions': 8606, 'tricked': 8607, 'pa?': 8608, 'pa!': 8609, \"somethin'?\": 8610, 'transferred': 8611, 'yardale,': 8612, 'property?': 8613, 'reckoned': 8614, 'block.': 8615, 'viva': 8616, 'mexico!': 8617, 'arguing': 8618, \"oak's\": 8619, 'vaudevillian,': 8620, 'plantations,': 8621, 'signs': 8622, 'reign': 8623, 'joint,': 8624, 'rope?': 8625, 'robes': 8626, 'included.': 8627, 'extra.': 8628, 'kneecapping.': 8629, 'may.': 8630, 'trophy.': 8631, 'th-that': 8632, 'glory...': 8633, 'react': 8634, 'reaction.': 8635, 'command!': 8636, 'helps.': 8637, 'rifle.': 8638, 'hang.': 8639, 'suffer': 8640, 'losses.': 8641, 'earth!': 8642, 'parents.': 8643, 'siegfried.': 8644, \"slope's\": 8645, 'greasy,': 8646, 'yellow': 8647, 'birthright,': 8648, 'lied': 8649, 'mac?': 8650, 'contemplating': 8651, 'ifs.': 8652, 'mia?': 8653, 'future.': 8654, 'cab': 8655, 'father?': 8656, 'some,': 8657, 'punk,': 8658, 'destiny.': 8659, 'arm.': 8660, 'massa?': 8661, \"everybody's\": 8662, 'song!': 8663, 'bravo': 8664, 'cos': 8665, 'dai.': 8666, 'been...': 8667, 'cannon.': 8668, 'articulate,': 8669, 'significant': 8670, 'nigger-loving,': 8671, 'hippie': 8672, 'candy,': 8673, 'harbors': 8674, 'ideas...': 8675, 'hilda!': 8676, 'woodpile.': 8677, 'confederacy!': 8678, 'excessive?': 8679, 'apologize?': 8680, 'louisiana?': 8681, '...anti-white...': 8682, 'tuesday,': 8683, 'thursday.': 8684, \"phillip's\": 8685, 'beard,': 8686, 'polynesian': 8687, 'pearl': 8688, 'rum.': 8689, 'conscience.': 8690, 'd?': 8691, 'soldier?': 8692, 'interrupt,': 8693, 'dip': 8694, 'crackers.': 8695, 'some?': 8696, 'nerves.': 8697, '-fuck.': 8698, 'marvin...': 8699, 'fabienne?': 8700, 'direct': 8701, 'parole': 8702, 'aunt...': 8703, 'remain.': 8704, 'controversy': 8705, 'began': 8706, 'pta': 8707, 'ban': 8708, 'notion': 8709, 'obligation...': 8710, 'canada,': 8711, 'm.a.c.': 8712, 'seattle': 8713, 'san': 8714, 'diego...': 8715, 'elbow': 8716, '\"pillow.\"': 8717, 'pillow.': 8718, 'laid': 8719, 'convincing': 8720, 'differences.': 8721, '-example...': 8722, 'samoan.': 8723, 'francophile.': 8724, 'impressive.': 8725, 'reported': 8726, 'explosives': 8727, 'missing': 8728, 'armory.': 8729, 'real!': 8730, 'syrup,': 8731, 'sausages.': 8732, 'best!': 8733, 'switch,': 8734, 'swallow': 8735, 'feeds': 8736, 'whole.': 8737, 'stink.': 8738, 'blackie,': 8739, 'bandits.': 8740, 'organization,': 8741, '\"get': 8742, 'smart\"': 8743, 'fucking!': 8744, 'pardon.': 8745, 'behold.': 8746, 'dames': 8747, 'booth,': 8748, 'ten!': 8749, 'bust.': 8750, 'shitfire!': 8751, 'but..': 8752, 'hooray.': 8753, 'ante': 8754, 'spy!': 8755, 'na': 8756, 'wunderbar,': 8757, 'witnessed': 8758, 'freak': 8759, 'occurrence.': 8760, 'vincent?': 8761, '\"pissed': 8762, 'off\"?': 8763, 'dickheads': 8764, 'der!': 8765, 'enforcing': 8766, 'elementary.': 8767, '-whoa!': 8768, \"happenin'?\": 8769, 'curious.': 8770, 'heap,': 8771, 'street...': 8772, 'eight-six,': 8773, 'plate': 8774, 'pancakes...': 8775, 'sex?': 8776, 'behold': 8777, 'glory.': 8778, 'states,': 8779, 'woodrow': 8780, 'wilson,': 8781, 'liberty': 8782, 'says...': 8783, 'souvenirs.': 8784, 'boxing?': 8785, 'busboys.': 8786, 'wetback': 8787, '$1.50': 8788, 'hour...': 8789, 'compromise': 8790, 'cured,': 8791, 'shatter': 8792, 'ego,': 8793, 'pointed': 8794, 'fattest': 8795, 'world\"?': 8796, 'restaurants,': 8797, 'crazy-ass': 8798, 'whiny': 8799, '-aaaah!': 8800, '-aaah!': 8801, 'watches!': 8802, 'mamacita': 8803, 'suddenly,': 8804, 'america...': 8805, 'ike.': 8806, 'nightmare': 8807, 'worthwhile.': 8808, 'source?': 8809, 'appreciates': 8810, 'value': 8811, 'showmanship': 8812, 'members?': 8813, \"leg's\": 8814, 'busted!': 8815, 'kicked...': 8816, 'scarlett,': 8817, 'mammy.': 8818, \"yes'm?\": 8819, 'deserved...': 8820, 'disappointing.': 8821, 'legacy': 8822, 'kwame?': 8823, 'carmichael?': 8824, 'manners,': 8825, 'davina!': 8826, 'verdict,': 8827, 'mob': 8828, 'jesse,': 8829, '...dragged': 8830, 'courthouse.': 8831, 'kikes.': 8832, 'intimidation?': 8833, 'clearly,': 8834, 'union...': 8835, 'terrific': 8836, '-everybody': 8837, 'conversation.': 8838, 'white...': 8839, 'knees.': 8840, 'winter,': 8841, 'melts,': 8842, 'charley.': 8843, 'spectacularly': 8844, 'attention!': 8845, 'kitchen': 8846, 'scrubbing': 8847, 'hot-ass': 8848, 'pots': 8849, 'pans.': 8850, 'prejudice...': 8851, 'robbed.': 8852, 'consequences': 8853, 'grave!': 8854, \"kkk's\": 8855, 'honky-pig': 8856, '$200,': 8857, '\"all': 8858, 'enemy?': 8859, 'wannabe': 8860, 'laced': 8861, 'gloves,': 8862, 'crowding': 8863, 'cockmasters!': 8864, 'loudmouth': 8865, 'papers': 8866, 'complaining': 8867, 'police...': 8868, 'tummy,': 8869, 'madonna': 8870, '\"lucky': 8871, 'star.\"': 8872, 'contestants': 8873, \"buyin',\": 8874, 'nurture': 8875, 'emotions.': 8876, 'should,': 8877, \"what's...\": 8878, 'jim,': 8879, 'prices.': 8880, \"smilin'\": 8881, '[\"you': 8882, 'tell\"]': 8883, 'madame': 8884, 'rung': 8885, 'chapel': 8886, 'furnished': 8887, 'two-room': 8888, 'roebucks': 8889, \"'coolerador\": 8890, 'dinners': 8891, 'ginger': 8892, 'ale': 8893, 'hi-fi': 8894, 'phono': 8895, 'blast': 8896, 'rock,': 8897, 'jazz': 8898, 'rapid': 8899, 'tempo': 8900, 'music': 8901, 'silence?': 8902, 'unit.': 8903, 'b5,': 8904, 'lantern?': 8905, 'rambunctious': 8906, 'sort,': 8907, '$9,000': 8908, 'bandying': 8909, 'fools,': 8910, 'boot': 8911, 'heel': 8912, 'signing,': 8913, 'doing?\"': 8914, \"animation's\": 8915, 'crappy.': 8916, 'clear,': 8917, 'ginny,': 8918, 'millionaires?': 8919, 'hole': 8920, 'bag,': 8921, 'x.': 8922, 'guilty!': 8923, 'understood,': 8924, 'lonely.': 8925, 'roosevelt': 8926, 'story,': 8927, 'whew.': 8928, 'injection': 8929, 'wunderbar.': 8930, 'malibu?': 8931, 'present...': 8932, 'sit?': 8933, 'stand.': 8934, 'brake': 8935, 'lights': 8936, 'yessiree': 8937, 'frequent.': 8938, 'capture,': 8939, 'paul,': 8940, 'more?': 8941, 'hanger': 8942, 'womb?': 8943, 'friends!': 8944, 'terrorist.': 8945, 'tailing': 8946, \"bomb's\": 8947, 'aaaaah!': 8948, '-aaaaah!': 8949, 'monitoring': 8950, 'safety.': 8951, 'attributes': 8952, 'vietnamese.': 8953, 'coloreds.': 8954, '76': 8955, 'manner': 8956, 'and?': 8957, 'cock-a-doodle-do,': 8958, 'seventy-six': 8959, 'shaffer.': 8960, 'regale': 8961, 'tale': 8962, 'woman?': 8963, 'gooks,': 8964, \"who've\": 8965, 'generations.': 8966, '-his': 8967, 'trainer?': 8968, '-says': 8969, 'cody': 8970, 'goodbye?': 8971, 'expire?': 8972, 'chapters...': 8973, 'curt': 8974, 'eyeballing': 8975, 'eyeball-fuck': 8976, 'hysterical': 8977, 'type?': 8978, 'posters': 8979, \"makin'\": 8980, 'trial.\"': 8981, 'valley,': 8982, 'klan,': 8983, 'effective': 8984, 'midget.': 8985, 'paralyze': 8986, 'horse...': 8987, 'frustrated': 8988, 'ones...': 8989, 'saddam?': 8990, \"bull's-eye,\": 8991, '...to': 8992, 'raid': 8993, 'closet.': 8994, 'black-and-white': 8995, 'says?': 8996, 'authority!': 8997, 'wrongs': 8998, 'redressed,': 8999, 'melted': 9000, 'fucked-up,': 9001, 'repugnant': 9002, 'attitude...': 9003, 'gooks': 9004, 'confiscated,': 9005, 'under,': 9006, 'korean': 9007, \"principals'\": 9008, 'clean-shaven?': 9009, '-pigs': 9010, 'smell-o-vision?': 9011, 'moving.': 9012, 'muddled': 9013, 'winning': 9014, 'shy,': 9015, 'tetherball.': 9016, 'doc': 9017, '\"shaft\"': 9018, '\"super': 9019, 'fly?\"': 9020, 'skate': 9021, 'toads.': 9022, 'probably.': 9023, 'confirmed': 9024, 'hun?': 9025, 'seen?': 9026, 'maybe,': 9027, 'provide': 9028, 'loveliest': 9029, 'creatures': 9030, 'escort': 9031, 'grounds.': 9032, 'n': 9033, 'speech!': 9034, 'censorship!': 9035, 'quiet.': 9036, 'shapes': 9037, 'sizes,': 9038, 'pow.': 9039, '-hurry': 9040, 'but-but': 9041, 'dying.': 9042, 'newest': 9043, 'recruit,': 9044, 'army-trained?': 9045, '-excellent': 9046, 'pronunciation.': 9047, 'chino...': 9048, 'tom,': 9049, 'devastating': 9050, 'duo': 9051, 'fucka.': 9052, 'events.': 9053, 'persecuted': 9054, 'end!': 9055, 'basement': 9056, 'denying': 9057, 'transport': 9058, 'authorities.': 9059, 'florida.': 9060, 'presence.': 9061, 'grace': 9062, 'regalia.': 9063, '[\"ace': 9064, 'spades\"]': 9065, 'boars': 9066, 'butch...': 9067, 'mackey': 9068, 'instant': 9069, 'phrases!': 9070, 'occasions,': 9071, 'toying': 9072, 'misunderstood': 9073, \"sayin',\": 9074, 'knife': 9075, 'moral': 9076, 'test': 9077, 'oneself': 9078, 'loyalty.': 9079, 'diligent': 9080, 'alarm': 9081, 'corrupting': 9082, 'youth.': 9083, 'kitchen,': 9084, 'adult': 9085, 'supervision': 9086, 'required.': 9087, '-shit.': 9088, 'spin': 9089, \"officers'\": 9090, 'names?': 9091, 'any.': 9092, 'differently.': 9093, 'boxers': 9094, \"old-timers'\": 9095, 'certainly.': 9096, 'yummy.': 9097, \"zimmerman's\": 9098, 'mops.': 9099, 'stokely.': 9100, 'walking.': 9101, 'oafish': 9102, 'gorilla.': 9103, 'like!': 9104, 'frankie,': 9105, 'cage.': 9106, 'traveled': 9107, '3010': 9108, 'robot': 9109, 'pyramids': 9110, 'kublai': 9111, 'khan': 9112, '-looks': 9113, 'vigilante': 9114, 'midst.': 9115, '-shoot': 9116, 'face!': 9117, 'biblical,': 9118, 'hollywood,': 9119, 'twists': 9120, 'hollywood': 9121, 'sting,': 9122, 'harder.': 9123, 'insist?': 9124, 'amer...': 9125, \"let's,\": 9126, 'bio.': 9127, 'killing...': 9128, 'folks?': 9129, 'charlottesville,': 9130, 'trump': 9131, 'alluded': 9132, 'campaign,': 9133, '11,500': 9134, 'grabs,': 9135, 'accentuate': 9136, 'perspective...': 9137, 'curiosity,': 9138, 'attention.': 9139, 'fucka...': 9140, 'buy...': 9141, 'service': 9142, 'bloke,': 9143, 'portable': 9144, 'fish,': 9145, '7:00': 9146, 'farts': 9147, 'canadians,': 9148, 'australians,': 9149, 'difference?': 9150, 'earn': 9151, 'had...': 9152, 'ma-ma-ma-ma-ma!': 9153, 'citizens!': 9154, '\"big': 9155, 'floppy': 9156, 'donkey': 9157, 'dick.\"': 9158, 'success!': 9159, 'firefighter': 9160, 'dennis': 9161, 'musketeers.': 9162, 'coach': 9163, 'celtics': 9164, 'dynasty!': 9165, 'threshold,': 9166, '$75.': 9167, 'mystic': 9168, 'chords': 9169, 'memory...': 9170, 'floating': 9171, \"lamb's\": 9172, 'tail.': 9173, 'sheriff?': 9174, 'teller.': 9175, 'bloke': 9176, 'her.\"': 9177, 'worked.': 9178, 'lined': 9179, 'hawk.': 9180, 'canadian!': 9181, 'fag': 9182, 'overnight.': 9183, 'fags': 9184, \"isn't...\": 9185, 'school?': 9186, 'crossing': 9187, 'ghetto': 9188, 'points!': 9189, 'sarge?': 9190, \"ma'am?\": 9191, 'nazis,': 9192, 'show\".': 9193, 'black...': 9194, 'camaraderie': 9195, 'history?': 9196, 'ghost!': 9197, 'contestants?': 9198, '...la': 9199, 'insist,': 9200, 'song.': 9201, 'nigger-loving': 9202, 'negro!': 9203, 'frighten': 9204, 'scary': 9205, 'partner?': 9206, 'lit': 9207, 'bonfire': 9208, 'lowered': 9209, 'moonlight.': 9210, 'cabala-reading': 9211, 'spider-man!': 9212, 'jimmy?': 9213, '\"behind\"': 9214, 'shocked': 9215, '\"ass\"...': 9216, 'periods': 9217, 'slavery': 9218, 'benefit.': 9219, 'rain?': 9220, 'belle': 9221, 'widowed': 9222, 'illustrate': 9223, 'murdering': 9224, 'crips...': 9225, 'yes...': 9226, 'beach...': 9227, 'pancakes?': 9228, 'refuse,': 9229, 'footage?': 9230, 'forever?': 9231, 'admittedly': 9232, 'neophyte,': 9233, 'traveling': 9234, 'bathroom?': 9235, 'accurate.': 9236, 'correctly,': 9237, 'clock': 9238, 'ticking.': 9239, 'nevertheless,': 9240, 'done...': 9241, '-pilot?': 9242, 'pilot?': 9243, 'wine.': 9244, 'rehabilitation,': 9245, 'fox,': 9246, 'foxy': 9247, 'tv,': 9248, 'prepared.': 9249, 'retiring?': 9250, 'wasting': 9251, 'si': 9252, 'cela': 9253, \"qu'il\": 9254, 'prefere.': 9255, 'prefers.': 9256, 'matinees': 9257, 'bigot': 9258, '-three': 9259, 'rhetorical': 9260, 'hillary': 9261, 'rodham': 9262, 'clinton...': 9263, '\"b\"?': 9264, 'child.': 9265, 'siegfried': 9266, 'heads': 9267, 'uh-huh!': 9268, 'implies': 9269, 'faith.': 9270, 'low-rent...': 9271, 'leo.': 9272, 'sheets...': 9273, 'nipples,': 9274, 'snowball?': 9275, '-fox': 9276, 'cheek...': 9277, \"-it'd\": 9278, 'belong.': 9279, 'bull.': 9280, 'corrigan': 9281, 'lubbock,': 9282, \"po'\": 9283, 'squirrels.': 9284, 'embrace': 9285, 'rhetoric': 9286, 'propaganda...': 9287, 'minutes...': 9288, \"jesse's\": 9289, 'charred': 9290, \"pony's\": 9291, 'unexceptional': 9292, 'phd.': 9293, '-aside': 9294, 'looks,': 9295, \"car's\": 9296, '-positive?': 9297, \"buddy's\": 9298, '-forever?': 9299, '-forever': 9300, 'everyone!': 9301, 'winged!': 9302, '17,': 9303, '18.': 9304, 'ears!': 9305, 'alarms,': 9306, 'squad': 9307, 'jody?': 9308, 'reason...': 9309, 'commie,': 9310, 'davis.': 9311, 'cash,': 9312, 'corpses.': 9313, 'innocent!': 9314, 'tore': 9315, 'they...': 9316, 'raye': 9317, \"preacher's\": 9318, 'thanked': 9319, 'shooting,': 9320, 'dog?': 9321, 'eats': 9322, 'esmarelda,': 9323, 'mole?': 9324, 'sky': 9325, 'deers': 9326, \"snow's\": 9327, 'grass': 9328, 'snow,': 9329, 'frown': 9330, 'knoxville,': 9331, 'tennessee.': 9332, '-redondo.': 9333, '-inglewood.': 9334, '\"yes.': 9335, 'biscuits,': 9336, 'ring?': 9337, 'penny.': 9338, 'college?': 9339, 'death!': 9340, 'curb.': 9341, 'ture': 9342, 'chow!': 9343, 'amount.': 9344, 'hungry.': 9345, 'burgers,': 9346, 'claim': 9347, 'immature': 9348, 'offers': 9349, 'marijuana': 9350, 'cigarette?': 9351, 'mirror?': 9352, 'father,': 9353, 'rustling': 9354, 'b.c.': 9355, 'shower.': 9356, 'ass...': 9357, 'hunk': 9358, 'metal': 9359, 'weed': 9360, 'unless.': 9361, 'basket': 9362, 'catch.': 9363, 'wilt': 9364, 'stilt.': 9365, 'bombs': 9366, 'crying': 9367, 'cancer': 9368, \"texaco's\": 9369, 'spilling': 9370, 'yonder?': 9371, 'daddy!': 9372, 'cheese?': 9373, 'celine': 9374, 'dion!': 9375, 'cue,': 9376, 'mirror.': 9377, 'brethren': 9378, 'baptized': 9379, 'light.': 9380, 'fonzies': 9381, 'shelly,': 9382, 'nerve!': 9383, 'correct': 9384, 'boast': 9385, 'jive?': 9386, 'chairs': 9387, 'sheila?': 9388, 'uh-oh!': 9389, 'notice.': 9390, \"ain't?\": 9391, 'fucker.': 9392, 'weapon!': 9393, 'ground!': 9394, 'prevent': 9395, 'dumas.': 9396, 'joke!': 9397, 'kiddie-hour': 9398, 'barney': 9399, \"dinosaur's\": 9400, 'eating.': 9401, 'whipped': 9402, 'd.o.c.': 9403, 'talk?': 9404, 'father.': 9405, 'mmm': 9406, 'hmmm.': 9407, 'race-related?': 9408, 'though-i': 9409, '14': 9410, 'poker': 9411, '-mexicans,': 9412, 'kitchen!': 9413, '-1,': 9414, '2,': 9415, '3,': 9416, '4,': 9417, '5,': 9418, '6,': 9419, 'yuppie?': 9420, 'germans': 9421, 'ought': 9422, 'fright': 9423, 'vouch': 9424, 'conspiracy.': 9425, 'bets.': 9426, 'bleeds': 9427, 'spanish': 9428, 'priest': 9429, 'iranian': 9430, 'gynecologist?': 9431, '$1.40.': 9432, 'greatness': 9433, 'riding,': 9434, \"bag's\": 9435, 'blind.': 9436, 'advertisement': 9437, '\"colorado': 9438, 'gazette\".': 9439, '\"marsellus': 9440, 'right.\"': 9441, 'relieved': 9442, 'weapons,': 9443, 'instructed,': 9444, 'map!': 9445, 'sources': 9446, 'preparing': 9447, 'invasion,': 9448, 'caution.': 9449, 'g...': 9450, 'surrounding': 9451, \"derek's\": 9452, 'incarceration.': 9453, 'savages.': 9454, 'them!\"': 9455, 'was:': 9456, 'me\".': 9457, 'plan...': 9458, 'mouths!': 9459, 'cake,': 9460, 'eyeball,': 9461, 'card...': 9462, 'books?': 9463, 'saturday,': 9464, \"felix's.\": 9465, 'story?': 9466, 'imperial': 9467, 'member:': 9468, 'year,': 9469, '$15': 9470, 'fee.': 9471, 'primping': 9472, 'gook': 9473, 'designated': 9474, '-sprite.': 9475, 'freaked': 9476, 'gates!': 9477, 'cameron?': 9478, 'god-fucking-damn': 9479, 'liberation.': 9480, 'appropriate!': 9481, 'coloreds': 9482, 'mammy': 9483, '\"gone': 9484, 'wind?\"': 9485, 'hattie': 9486, 'mcdaniel.': 9487, \"if'n\": 9488, 'manage': 9489, '-where?': 9490, 'valley.': 9491, 'correctamundo.': 9492, 'kike!': 9493, 'hurts': 9494, 'shat': 9495, 'die...': 9496, 'savagely': 9497, 'chime?': 9498, '...detective...': 9499, '[\"lonesome': 9500, 'town\"]': 9501, 'douglas': 9502, 'sirk': 9503, 'ahh!': 9504, 'beethoven?': 9505, '\"shut': 9506, 'power,': 9507, 'planned.': 9508, 'prosperous': 9509, 'ancestors': 9510, 'spending': 9511, 'kwyd,': 9512, 'signal': 9513, 'guilty?': 9514, '...unless': 9515, \"d'artagnan.\": 9516, 'acura.': 9517, 'pooch?': 9518, 'larges': 9519, 'larges,': 9520, 'mirror': 9521, 'pot?': 9522, 'nuisance.': 9523, \"'nam.\": 9524, 'bird': 9525, 'boobs': 9526, 'butt-fucking': 9527, 'lava': 9528, 'bump.': 9529, 'hairy': 9530, 'yuppie,': 9531, '-throw': 9532, 'bags!': 9533, 'videos': 9534, 'shelter': 9535, 'maynard.': 9536, 'fascinate': 9537, \"niggers'\": 9538, 'endurance': 9539, \"-ain't\": 9540, 'ballpark': 9541, 'meets': 9542, 'siegfried,': 9543, '-giving': 9544, 'retard,': 9545, 'meal.': 9546, 'divorced!': 9547, 'from?': 9548, '-wha-': 9549, 'barrel': 9550, '.45': 9551, 'storage': 9552, 'playing.': 9553, 'scary.': 9554, \"bitch's\": 9555, 'shows...': 9556, 'book!': 9557, 'nurses.': 9558, 'inventory,': 9559, 'specimen': 9560, 'keen': 9561, 'acquire.': 9562, 'pickaninny': 9563, 'winfield,': 9564, 'inglewood.': 9565, 'horses': 9566, 'conscience': 9567, 'giving--': 9568, 'felix...': 9569, 'green.': 9570, 'astonishing.': 9571, 'obliged.': 9572, 'when.': 9573, 'grandpa': 9574, 'irving': 9575, 'magnum': 9576, 'graphic': 9577, '\"saddam,': 9578, 'alone!\"': 9579, 'tour.': 9580, 'essay': 9581, 'exam': 9582, 'companion.': 9583, '[\"oh': 9584, 'day\"': 9585, 'edwin': 9586, 'hawkins': 9587, 'singers': 9588, 'sleeping?': 9589, 'sorry!': 9590, 'mistake?': 9591, 'christophe?': 9592, 'monroes.': 9593, 'turtle': 9594, 'shell': 9595, 'tabletop,': 9596, 'pooch': 9597, 'sawed-off.': 9598, 'slow,': 9599, 'kyle': 9600, '-grab': 9601, 'stood': 9602, 'july': 9603, 'parade.': 9604, '219.': 9605, 'peanut': 9606, 'butter!': 9607, 'schultz!': 9608, 'brim': 9609, 'unrealistic': 9610, 'mate,': 9611, 'come-bucket!': 9612, 'retain': 9613, 'brooding': 9614, 'winner?': 9615, 'weak.': 9616, 'worse?': 9617, 'stepped': 9618, 'cell...': 9619, 'reason,': 9620, '-and?': 9621, 'vouches': 9622, 'blow?': 9623, 'blood-drenched': 9624, 'frozen': 9625, 'tampon': 9626, 'popsicle!': 9627, 'coors,': 9628, 'burnings': 9629, 'pork.': 9630, 'fellow.': 9631, 'hard,': 9632, \"pipe-hittin'\": 9633, 'niggers...': 9634, 'colored': 9635, 'negroes.': 9636, 'blacks.': 9637, 'killed?': 9638, 'assholes?': 9639, 'crusade.': 9640, 'number,': 9641, 'work!': 9642, 'dissed': 9643, 'public!': 9644, 'own!': 9645, 'pen!': 9646, 'kind.': 9647, 'marched': 9648, 'streets.': 9649, 'type.': 9650, 'narcotics,': 9651, 'meaning': 9652, 'bridges.': 9653, 'meeting...': 9654, 'gear.': 9655, 'punished.': 9656, 'prost!': 9657, 'was!': 9658, 'someday': 9659, 'hers.': 9660, 'broom-hilda.': 9661, 'owners': 9662, 'leader': 9663, 'murderous': 9664, 'robbers,': 9665, 'steep...': 9666, 'date?': 9667, 'west': 9668, 'inglewood': 9669, 'central...': 9670, 'messed': 9671, 'entraz.': 9672, 'sabotage': 9673, 'straw.': 9674, 'cooties.': 9675, 'cheeky': 9676, 'bugger': 9677, 'blood,': 9678, 'peace,': 9679, 'soul.': 9680, 'sensible': 9681, 'duck.': 9682, 'almighty,': 9683, 'slip': 9684, 'tired.': 9685, '-yo,': 9686, 'distributor': 9687, 'writer...': 9688, 'murder...': 9689, 'tabletop!': 9690, 'himself...': 9691, 'receipt': 9692, '$12,000,': 9693, '$12,000?': 9694, 'musclebound': 9695, 'takeoff.': 9696, 'note,': 9697, 'curb': 9698, \"talkin',\": 9699, 'hillbilly': 9700, 'fred': 9701, 'score...': 9702, 'bed?': 9703, 'jayne': 9704, 'mansfield,': 9705, 'phrenologist': 9706, 'colleagues': 9707, 'level': 9708, 'bright,': 9709, 'talented,': 9710, 'aspire': 9711, '12:00': 9712, 'noon': 9713, 'sharp.': 9714, 'narcotics': 9715, 'division.': 9716, 'doubt.': 9717, 'pamela,': 9718, 'recently': 9719, 'accosted': 9720, 'coons.': 9721, '$8': 9722, 'hellfire...': 9723, 'bonfire.': 9724, 'fifty': 9725, 'keeper': 9726, 'neighborhood?': 9727, 'sexist': 9728, 'candles,': 9729, 'lampshades?': 9730, 'thinking.': 9731, 'gyp.': 9732, 'disconcerting': 9733, 'manifest.': 9734, 'important?': 9735, 'du': 9736, 'bois': 9737, 'consciousness?': 9738, 'fries': 9739, 'holland': 9740, 'outreach': 9741, 'work...': 9742, 'vinegar...': 9743, 'vietnam?': 9744, 'blueberry.': 9745, 'buttermilk.': 9746, 'animal?': 9747, 'forever,': 9748, 'tarted': 9749, 'curiosity.': 9750, \"dryin'\": 9751, 'cavalry.': 9752, 'coons': 9753, 'commies': 9754, 'protestant': 9755, 'values.': 9756, 'hurt?': 9757, \"might've\": 9758, 'biggie.': 9759, 'welcome,': 9760, 'inequalities': 9761, 'leavenworth,': 9762, 'kansas.': 9763, 'guest': 9764, 'bedrooms': 9765, 'baptist': 9766, 'paris?': 9767, 'nig': 9768, \"number's\": 9769, 'unlisted.': 9770, 'asleep.': 9771, 'victoria.': 9772, 'beautiful,': 9773, 'merciful': 9774, 'purpose,': 9775, 'bounds': 9776, 'taste,': 9777, 'extension': 9778, 'moment?': 9779, 'tatum,': 9780, 'deputies,': 9781, 'daughtrey,': 9782, 'occurred?': 9783, 'cotton': 9784, 'mississippi.': 9785, 'gazette': 9786, 'rally': 9787, 'attacking': 9788, 'squared': 9789, 'what?!': 9790, 'generally?': 9791, 'tipped': 9792, \"'em?\": 9793, \"wendy's,\": 9794, 'intervention.': 9795, 'for!': 9796, 'button!': 9797, 'crap!': 9798, 'fit.': 9799, 'o.d.ing!': 9800, 'ours': 9801, 'futures...': 9802, 'dessert.': 9803, 'pissed-off,': 9804, 'generation.': 9805, 'girlfriend,': 9806, 'vacation.': 9807, \"water's\": 9808, 'dipshit!': 9809, 'unburdened': 9810, 'genius,': 9811, 'exist': 9812, \"dyin'\": 9813, 'dandy.': 9814, 'diddly.': 9815, 'heater.': 9816, '\"me': 9817, 'you\".': 9818, 'us...': 9819, 'wiedersehen': 9820, 'disposing': 9821, 'bodies.': 9822, 't-shirt': 9823, 'small...': 9824, 'alive!': 9825, 'processed,': 9826, 'approved...': 9827, 'chilly': 9828, 'interest.': 9829, 'stream': 9830, 'ata': 9831, 'exploded.': 9832, 'concept': 9833, 'minds?': 9834, 'dysentery': 9835, \"russell's\": 9836, 'somebody.': 9837, 'captain?': 9838, 'asked...': 9839, \"-nobody's\": 9840, 'anybody!': 9841, 'appointment,': 9842, 'man3:': 9843, 'lawyers,': 9844, 'doctors,': 9845, 'friday': 9846, 'swear!': 9847, 'loot': 9848, 'store,': 9849, 'buked.': 9850, 'natives.': 9851, 'posthaste.': 9852, '\"looking': 9853, 'another...': 9854, 'mays.': 9855, '\"bull-poo,\"': 9856, 'worst': 9857, '\"m\\'kay\"': 9858, 'fired?': 9859, 'death,': 9860, 'destruction...': 9861, 'late!': 9862, 'disrespected,': 9863, 'kitty-cat.': 9864, 'end.': 9865, 'ear!': 9866, 'yay!': 9867, 'impressive': 9868, 'wax': 9869, 'museum': 9870, 'pulse.': 9871, 'bitches,': 9872, 'rolled': 9873, 'kids...': 9874, 'meals': 9875, 'transferring': 9876, 'duke...': 9877, 'filth!': 9878, 'nigger-fucker?': 9879, 'smile...': 9880, 'incident,': 9881, 'star-studded': 9882, 'troops.': 9883, 'gangs.': 9884, 'bum,': 9885, 'beg': 9886, 'bins,': 9887, '$45.60.': 9888, 'asleep': 9889, 'picture!': 9890, 'everyone?': 9891, 'contemplating.': 9892, 'pimp': 9893, 'sundays.': 9894, 'address.': 9895, 'units.': 9896, 'lookout': 9897, '\"white': 9898, 'pride\"': 9899, 'sticker.': 9900, 'plate:': 9901, 'ke4108.': 9902, '-wilson': 9903, 'dan,': 9904, 'bloodiest...': 9905, 'fucking?': 9906, 'd!': 9907, 'rampant!': 9908, 'bacall?': 9909, 'chewed': 9910, '$300?': 9911, 'grounded!': 9912, 'submissiveness,': 9913, 'larger': 9914, 'subhuman': 9915, 'species': 9916, 'planet': 9917, 'dissolve.': 9918, 'water,': 9919, 'n-no,': 9920, 'kn-knees.': 9921, 'reading?': 9922, \"bull's-eye.\": 9923, 'smelled': 9924, 'tv!': 9925, 'wet.': 9926, '7:00...': 9927, 'cop-out.': 9928, 'opportunism': 9929, 'worst.': 9930, 'things,': 9931, 'radical,': 9932, 'carmichael,': 9933, 'nightingale.': 9934, 'crew': 9935, 'his.': 9936, 'sheba...': 9937, 'bounties.': 9938, 'fuckity,': 9939, 'mole': 9940, 'backbone': 9941, 'whence': 9942, 'candie-fitzwilly.': 9943, 'disregard': 9944, 'authorities,': 9945, 'proving': 9946, 'authorities': 9947, 'preaching': 9948, 'buenas': 9949, 'noches,': 9950, 'worth,': 9951, 'williams?': 9952, 'worried': 9953, 'drill.': 9954, 'beat-up.': 9955, 'grabbing': 9956, 'cured.': 9957, 'reasonable': 9958, 'remaining': 9959, '12-gauge.': 9960, 'killer.': 9961, 'remington': 9962, '1900.': 9963, 'cybill': 9964, 'mackey?': 9965, '\"s\"': 9966, 'visibility,': 9967, 'media,': 9968, 'usually': 9969, 'vegetarian,': 9970, 'vegetarian.': 9971, 'wh...what': 9972, 'constant.': 9973, 'explosives?': 9974, 'parlor': 9975, 'attic.': 9976, 'living.': 9977, 'tear': 9978, 'loose.': 9979, 'lara,': 9980, 'hate?': 9981, 'amateur': 9982, 'acknowledge...': 9983, 'guess.': 9984, 'bacon.': 9985, 'testicles.': 9986, 'riot,': 9987, 'croaks': 9988, 'grease': 9989, 'spot!': 9990, 'carrying': 9991, 'minister': 9992, 'jokes': 9993, 'nickelodeon.': 9994, 'correctly.': 9995, 'acts': 9996, 'comfort?': 9997, 'cause...': 9998, 'civilized': 9999, \"aren't?\": 10000, 'bite?': 10001, 'tasty.': 10002, 'resist.': 10003, 'belt?': 10004, 'laid.': 10005, 'crank.': 10006, 'for-': 10007, 'pigs.': 10008, 'schei': 10009, 'video,': 10010, '16': 10011, 'encouraged': 10012, 'wire': 10013, 'decrepit': 10014, 'bastard,': 10015, 'hospitality.': 10016, 'skin?': 10017, 'skinhead,': 10018, 'doughboy': 10019, 'erine': 10020, 'coolidge...': 10021, 'put.': 10022, 'gosh': 10023, 'corrupt': 10024, '-drinks!': 10025, 'music!': 10026, 'wrist': 10027, 'hanoi.': 10028, 'guilty.': 10029, '-for': 10030, '-most': 10031, 'philosophy': 10032, 'admits': 10033, 'forgiven': 10034, 'wrongdoings?': 10035, 'straighten': 10036, 'ambushed!': 10037, 'supremacists.': 10038, 'liver.': 10039, 'language!': 10040, '\"montana.\"': 10041, 'montana.': 10042, 'paper-': 10043, 'klan\".': 10044, 'midget': 10045, 'bikini.': 10046, 'fastest': 10047, 'heavy,': 10048, 'isaac': 10049, 'newton': 10050, 'galileo,': 10051, 'evil!': 10052, 'yousa': 10053, 'self-preservation': 10054, 'instinct': 10055, 'possess,': 10056, 'emergency': 10057, 'kendrickson.': 10058, 'hon?': 10059, 'worries.': 10060, 'prince.': 10061, 'look-see.': 10062, 'streets,': 10063, 'arises': 10064, 'brave': 10065, 'chance!': 10066, '\"history': 10067, 'written': 10068, 'lightning\".': 10069, 'coincidence...': 10070, \"cameron's.\": 10071, 'esmarelda...': 10072, 'stallworth...': 10073, 'forward.': 10074, 'stores,': 10075, 'stations;': 10076, 'devils!': 10077, 'satisfied...': 10078, 'misses': 10079, 'shoe.': 10080, '-um': 10081, 'involve': 10082, 'racist?': 10083, 'toads': 10084, 'eenie-meenie-minie-mo,': 10085, 'fart!': 10086, '-wh': 10087, \"o.d.in'?\": 10088, 'worried,': 10089, '-she': 10090, 'dodge,': 10091, 'plenty.': 10092, 'snatch': 10093, 'nag': 10094, 'fast...': 10095, 'stacey,': 10096, 'loser.': 10097, 'piercing,': 10098, 'needle.': 10099, 'stars?': 10100, 'mamie': 10101, 'van': 10102, 'doren.': 10103, 'shirts': 10104, 'muchas': 10105, 'gracias.': 10106, 'sprite.': 10107, 'votes.': 10108, 'yourself?': 10109, 'measures,': 10110, 'rounding': 10111, 'camps.': 10112, 'wanted-': 10113, 'significance...': 10114, '\"d.\"': 10115, 'defense!': 10116, 'salvation.': 10117, 'tree': 10118, 'males...': 10119, 'pacific.': 10120, 'freeze!': 10121, 'packed.': 10122, 'lobos': 10123, 'mexican?': 10124, 'eight!': 10125, 'difference...': 10126, 'competing': 10127, 'consolidated.': 10128, 'nicknames': 10129, 'liza': 10130, 'minnelli?': 10131, 'citizen.': 10132, 'unshackle': 10133, 'rifle,': 10134, 'bury': 10135, 'deep,': 10136, 'enlightened': 10137, 'w-we': 10138, 'intentions.': 10139, 'concentration?': 10140, 'burger?': 10141, 'tarzan?': 10142, 'seriously!': 10143, 'awhile,': 10144, 'often': 10145, 'worried.': 10146, 'chair!': 10147, 'slaves.': 10148, 'esmarelda': 10149, 'lobos.': 10150, 'youth?': 10151, \"underestimatin'\": 10152, 'strictly': 10153, 'nonviolent.': 10154, 'nonviolent': 10155, 'coon.': 10156, 'plowed': 10157, 'him-': 10158, 'communities,': 10159, 'reflects...': 10160, 'tense': 10161, \"mum's\": 10162, 'jason,': 10163, 'chris.': 10164, 'brittle?': 10165, 'anonymous,': 10166, '-lance,': 10167, 'masks!': 10168, 'minions': 10169, 'yesterday': 10170, 'u-n-c-l-e': 10171, 'decent,': 10172, 'americans...': 10173, 'racial': 10174, 'commitment': 10175, 'crime?': 10176, 'brutality.': 10177, 'fancy-pants': 10178, 'beast,': 10179, 'rash': 10180, 'senses.': 10181, 'union?': 10182, 'wounded': 10183, '...three!': 10184, 'kidding?': 10185, 'you.\"': 10186, 'shotguns.': 10187, 'spooks.': 10188, 'sand,': 10189, 'yesterday.': 10190, 'odetta:': 10191, 'fourteen?': 10192, 'adams.': 10193, 'vietnamese,': 10194, 'koreans,': 10195, \"thinkin'.\": 10196, 'library.': 10197, 'bunker': 10198, 'uncool.': 10199, \"-'fraid\": 10200, 'gang!': 10201, 'ears': 10202, 'bride': 10203, 'smiles': 10204, 'white-bread': 10205, 'ike?': 10206, 'ability.': 10207, 'tragedy...': 10208, 'reiterate,': 10209, 'freeman': 10210, 'sight,': 10211, 'operating': 10212, 'boundaries.': 10213, 'pretty.': 10214, 'fights!': 10215, 'windows,': 10216, \"pickin'\": 10217, 'nomination.': 10218, 'spook': 10219, 'female': 10220, 'agents': 10221, 'five\".': 10222, 'stonesipher,': 10223, 'swearing.': 10224, 'loads': 10225, 'entertainment': 10226, 'hamburgers?': 10227, 'checking.': 10228, 'influenced,': 10229, 'spelling': 10230, 'bee': 10231, 'washington.': 10232, 'cover.': 10233, 'sillies!': 10234, 'pleads': 10235, 'peaceful': 10236, 'resolution,': 10237, 'listening.': 10238, 'zog': 10239, 'machine...': 10240, 'bells.': 10241, 'knew.': 10242, '1974': 10243, 'chevy': 10244, 'nova.': 10245, 'continue.': 10246, '\"best': 10247, 'intentions.\"': 10248, 'finished!': 10249, 'bankers,': 10250, 'fed,': 10251, 'establishment': 10252, \"canada's\": 10253, 'phoning': 10254, 'unusual': 10255, 'marsellus]': 10256, \"vega's\": 10257, 'comfort': 10258, 'honors': 10259, 'cooked?': 10260, 'lazy': 10261, 'bones!': 10262, 'lieutenant': 10263, \"vinyard's\": 10264, 'oldest': 10265, 'derek...': 10266, 'anonymous.': 10267, 'europeans': 10268, 'flourished...': 10269, 'troops!': 10270, 'brother...': 10271, 'overreacted?': 10272, 'approached': 10273, 'moves': 10274, 'two:': 10275, '-negative!': 10276, 'bust': 10277, '-thanks.': 10278, 'regret': 10279, 'advice,': 10280, 'laws.': 10281, \"cop's\": 10282, 'unarmed?': 10283, 'young.': 10284, 'wh...who': 10285, 'walter...': 10286, 'dig?': 10287, 'joking': 10288, 'pooh-bah': 10289, 'joker,': 10290, 'speaker,': 10291, 'minds': 10292, 'stirring': 10293, 'smart-aleck': 10294, 'white?': 10295, \"sharp's\": 10296, 'proprietor': 10297, 'gymnasium': 10298, 'announcement,': 10299, 'stoked': 10300, 'mountain?': 10301, 'careful?': 10302, '-an': 10303, 'elvis': 10304, 'steak': 10305, 'daddy-o.': 10306, 'trampling': 10307, 'zoo.': 10308, 'special,': 10309, 'whitefish?': 10310, 'ridiculous,': 10311, 'success.': 10312, 'in!': 10313, 'receiving': 10314, 'exact?': 10315, '-yes': 10316, 'elbows.': 10317, '-quit': 10318, '-look,': 10319, 'analyze': 10320, 'interpret': 10321, 'events...': 10322, 'abysmal': 10323, 'winner.': 10324, 'jobs.': 10325, 'tappeto': 10326, 'gi': 10327, '!': 10328, '-put': 10329, 'approach': 10330, 'chief:': 10331, 'endeavor,': 10332, 'disadvantage,': 10333, 'insofar': 10334, 'vote,': 10335, 'robert.': 10336, 'medal.': 10337, '\"forensics.\"': 10338, '\"forensics\"?': 10339, 'worries': 10340, 'last?': 10341, 'democracy!': 10342, 'cora?': 10343, 'permanently.': 10344, 'knowing': 10345, 'cheek?': 10346, 'looked?': 10347, '[\"rumble\"': 10348, 'begins]': 10349, 'shake!': 10350, 'idea!': 10351, 'lawyer,': 10352, 'leonide': 10353, 'dad...': 10354, 'marvin!': 10355, 'approve?': 10356, 'impression!': 10357, 'dickey,': 10358, 'screwy!': 10359, 'twice.': 10360, 'chicken-shit': 10361, 'automobile?': 10362, 'balls?': 10363, 'knucklehead': 10364, 'shotgun,': 10365, 'avenue,': 10366, 'cavalry,': 10367, 'directly.\"': 10368, 'moms.': 10369, 'commend': 10370, 'achieved.': 10371, 'posters...': 10372, 'broad': 10373, 'daylight': 10374, 'mixed': 10375, 'feelings,': 10376, 'make-up': 10377, 'sucks,': 10378, \"war's\": 10379, \"a-comin'.\": 10380, 'b,': 10381, 'ashamed?': 10382, 'intolerance': 10383, '$7,000.': 10384, \"do's\": 10385, '-yuck.': 10386, 'reject': 10387, 'lie:': 10388, 'do...': 10389, 'fill': 10390, 'headquarters.': 10391, 'jumpers.': 10392, 'coloradans': 10393, 'cook': 10394, 'cajun': 10395, 'authority...': 10396, 'tulip.': 10397, '\"tulip\"': 10398, '\"mongoloid.\"': 10399, 'mongoloid.': 10400, 'adjust': 10401, 'bags.': 10402, 'booked.': 10403, 'checked.': 10404, \"woman's\": 10405, \"there'd\": 10406, 'punch.': 10407, 'strapped?': 10408, '15,': 10409, '1916.': 10410, 'washington...': 10411, 'so\"?': 10412, 'heavily': 10413, 'guarded.': 10414, 'd-j-a-n': 10415, 'o': 10416, 'silent.': 10417, 'anxious': 10418, '...was': 10419, 'himself.': 10420, 'exploitation': 10421, 'film,': 10422, 'fantasy.': 10423, 'gray': 10424, 'taken.': 10425, 'packhorse': 10426, 'starve': 10427, 'lost...': 10428, 'necessary?': 10429, 'hardly': 10430, 'ended': 10431, \"-zed's.\": 10432, 'jury,': 10433, 'choices.': 10434, '-vincent.': 10435, 'blame.': 10436, 'mm-hmm?': 10437, 'shaffers?': 10438, 'screwed': 10439, 'seconds': 10440, 'am!': 10441, 'paris,': 10442, 'call...': 10443, 'farm': 10444, '22,': 10445, 'printed': 10446, 'protection.': 10447, \"chillin'.\": 10448, 'weak...': 10449, '-fuck!': 10450, 'toilet?': 10451, 'micks.': 10452, 'dagos': 10453, 'chinks.': 10454, 'tahiti,': 10455, 'jules!': 10456, 'beginning': 10457, 'crow': 10458, 'coming...': 10459, 'gimme': 10460, 'grams': 10461, 'cuts.': 10462, 'cuts?': 10463, '[\"waitin\\'': 10464, 'school\"]': 10465, 'reserved': 10466, '-right?': 10467, '-pig.': 10468, 'curtis!': 10469, 'jokes!': 10470, 'cup.': 10471, 'unlearn': 10472, '1813': 10473, 'non': 10474, 'names.': 10475, 'desire': 10476, 'examine...': 10477, 'burnt': 10478, 'ends.': 10479, 'showmanship.': 10480, 'showmanship,': 10481, 'media': 10482, 'around...': 10483, '12.': 10484, \"doesn't?\": 10485, 'sounded': 10486, 'reasonable.': 10487, 'cracked': 10488, 'rib.': 10489, 'pony': 10490, 'pole.': 10491, 'horsemen': 10492, 'drawing': 10493, 'nigh!': 10494, 'murdered.': 10495, 'generous,': 10496, 'generous...': 10497, 'starving': 10498, 'hears': 10499, \"operation's\": 10500, 'guarding': 10501, 'mongrels,': 10502, \"startin'\": 10503, 'lighten': 10504, 'durward': 10505, 'kirby': 10506, 'burger,': 10507, 'bloody.': 10508, 'lady?': 10509, '-respect': 10510, 'elders': 10511, 'bennett.': 10512, 'capable': 10513, 'cops,': 10514, '\"right,': 10515, 'words!': 10516, 'favors': 10517, 'spic?': 10518, 'cruising.': 10519, 'fred,': 10520, 'easy?': 10521, 'stable,': 10522, 'punishing': 10523, 'jody': 10524, 'eggs.': 10525, 'nipples': 10526, 'piggy!': 10527, 'sending': 10528, '-fucking': 10529, '-move!': 10530, 'embarrassing': 10531, 'yell': 10532, 'delicate': 10533, 'headed': 10534, 'new...': 10535, 'worthy.': 10536, 'melon.': 10537, 'seven.': 10538, 'vince': 10539, 'at.': 10540, \"askin'\": 10541, 'fatso?': 10542, 'standing.': 10543, 'addressing?': 10544, 'group:': 10545, 'spat': 10546, 'lll!': 10547, 'blonde': 10548, 'veins.': 10549, 'touching': 10550, \"-h-h-he's\": 10551, 'jesup.': 10552, '-mr.': 10553, '-winston,': 10554, 'charade,': 10555, 'likely': 10556, '-satisfied?': 10557, 'hell-a': 10558, 'agreed': 10559, 'daniel': 10560, 'baldwin,': 10561, 'extension,': 10562, 'stupid!': 10563, 'seated.': 10564, 'clitoris!': 10565, 'neck?': 10566, 'yarmulke': 10567, 'head?': 10568, 'behave': 10569, 'how...': 10570, 'lord,': 10571, 'hopefully...': 10572, 'experience': 10573, 'hoot!': 10574, 'holes': 10575, 'quote.': 10576, 'snake,': 10577, 'flock': 10578, 'seagulls.': 10579, 'split.': 10580, 'matter...': 10581, 'stagecoach...': 10582, 'nigger-les.': 10583, 'train': 10584, 'arrive?': 10585, '-eleven.': 10586, 'monkeys': 10587, 'message!': 10588, 'oppressors.': 10589, 'almost.': 10590, 'gunning': 10591, 'girl,': 10592, 'sour,': 10593, 'shot,': 10594, 'blacktion.': 10595, 'kyle.': 10596, 'ghost.': 10597, 'eye...': 10598, 'classified': 10599, 'shocking': 10600, 'report.': 10601, 'website.\"': 10602, '\"welcome': 10603, 'fetish': 10604, 'video.\"': 10605, '\"if': 10606, 'not...\"': 10607, 'smoke,': 10608, 'proof?': 10609, 'monkeys,': 10610, 'equality': 10611, 'brittle!': 10612, 'hunting': 10613, 'whup': 10614, 'nigger-lover': 10615, 'mic': 10616, 'trick.': 10617, 'shaken': 10618, 'core.': 10619, 'harass': 10620, 'heavy.': 10621, 'steakhouse,': 10622, 'piece.': 10623, 'betsey.': 10624, 'hercules,': 10625, 'clever?': 10626, 'chick,': 10627, \"o.d.in'\": 10628, 'okey-dokey.': 10629, 'moguy': 10630, 'impressed?': 10631, 'incredible': 10632, 'kwame.': 10633, 'mistress': 10634, 'active-duty': 10635, 'soldiers': 10636, 'carson.': 10637, 'policemen': 10638, 'pizza': 10639, 'order!': 10640, 'banks?': 10641, 'banks.': 10642, 'starting.': 10643, 'team.': 10644, \"kenny's\": 10645, 'accompanied': 10646, 'parent': 10647, 'guardian.': 10648, \"love's\": 10649, 'emotion,': 10650, '\"virgin': 10651, 'pure\"?': 10652, 'dickens,': 10653, 'forget,': 10654, 'forgets': 10655, 'captured,': 10656, 'vietnamese': 10657, 'fighting,': 10658, 'size': 10659, 'black...?': 10660, 'replaced': 10661, 'baked': 10662, 'potato.': 10663, 'bacon': 10664, 'pork': 10665, 'chops': 10666, 'reach-around': 10667, 'jerk!': 10668, 'kingdom': 10669, 'luggage': 10670, 'amazing.': 10671, 'reminds': 10672, 'group.': 10673, 'pleased': 10674, 'conditions,': 10675, 'powerless.': 10676, 'gills': 10677, 'sport': 10678, 'expecting': 10679, 'specimens': 10680, 'confidential': 10681, 'strategy': 10682, 'marsellus...': 10683, 'services': 10684, 'violated': 10685, 'parole.': 10686, 'backyard.': 10687, 'clitoris,': 10688, 'joy': 10689, 'conversing': 10690, 'tips.': 10691, 'mates,': 10692, 'squishes': 10693, '\"ketchup.\"': 10694, 'ketchup.': 10695, 'everyone...': 10696, '\"dem': 10697, 'free-niggers': 10698, \"f'um\": 10699, \"n'of\": 10700, \"sho'\": 10701, 'crazy.\"': 10702, 'nazis': 10703, 'cheered': 10704, 'free?': 10705, 'cater': 10706, '-mayonnaise.': 10707, 'basically': 10708, 'hope.': 10709, \"comin',\": 10710, 'style': 10711, 'negotiation?': 10712, 'a.m.,': 10713, 'am?': 10714, 'terrance!': 10715, 'pistol-whip': 10716, 'auction?': 10717, 'closely.': 10718, 'bead': 10719, 'initiation.': 10720, \"'un.\": 10721, '\"comanche\"': 10722, 'revels]': 10723, 'girlie.': 10724, 'eyeball?': 10725, 'ecco': 10726, 'con': 10727, 'tappeto.': 10728, 'shuttle.': 10729, 'ourselves!': 10730, 'heading': 10731, 'drugstore': 10732, 'soda': 10733, 'nickel': 10734, 'jukebox': 10735, 'gal': 10736, '46th': 10737, 'ricky!': 10738, 'nelson!': 10739, \"seller's\": 10740, 'market.': 10741, 'cruising': 10742, 'vietnam,': 10743, 'illegal,': 10744, 'immoral.': 10745, 'jehoshaphat!': 10746, 'gve': 10747, 'vosknocker.': 10748, 'rapist': 10749, 'showing': 10750, 'rooms,': 10751, 'fetch': 10752, 'smelling': 10753, \"schultz's\": 10754, 'automobiles.': 10755, 'necklace.': 10756, 'david.': 10757, 'news,': 10758, 'princess.': 10759, 'wotan,': 10760, 'gods.': 10761, 'english,': 10762, 'crazy!': 10763, 'coming?': 10764, 'hoot': 10765, 'inglewood?': 10766, 'asking.': 10767, 'andiamo.': 10768, 'politicians...': 10769, \"y'all,\": 10770, 'fucked...': 10771, 'legend,': 10772, 'lumberyard.': 10773, 'itty-bitty': 10774, 'self-respect.': 10775, 'django...': 10776, 'shylock': 10777, 'nose': 10778, 'know--': 10779, \"freakin'\": 10780, 'spin.': 10781, 'study.': 10782, 'macs': 10783, 'dudes.': 10784, 'fantastic': 10785, 'crowd.': 10786, 'julius': 10787, 'caesar': 10788, 'mandingos': 10789, 'orenthal': 10790, 'simpson.': 10791, 'alexander,': 10792, 'landmark.': 10793, 'violated.': 10794, 'basically...': 10795, 'strategize.': 10796, 'extra...': 10797, '\"give': 10798, 'hungry,': 10799, 'poor.\"': 10800, 'underway.': 10801, 'stumbling': 10802, 'dark?': 10803, \"day's\": 10804, 'kitchen...': 10805, 'system?': 10806, \"-i've\": 10807, 'before!': 10808, 'shot?!': 10809, '98': 10810, 'efficient': 10811, 'stores?': 10812, \"-what've\": 10813, 'hodun.': 10814, 'gimp.': 10815, '-promise?': 10816, 'disrespect,': 10817, 'marker!': 10818, '-christ.': 10819, 'request.': 10820, 'position,': 10821, 'hence,': 10822, 'presentation.': 10823, 'unite,': 10824, 'organize': 10825, 'base': 10826, 'racism.': 10827, 'bullets,': 10828, 'pepsi,': 10829, 'barking': 10830, 'alone?': 10831, 'ugliest': 10832, 'sports.': 10833, 'prost.': 10834, 'traveler.': 10835, 'drinks.': 10836, 'hawaiian': 10837, 'trophy': 10838, 'holding.': 10839, 'fallen': 10840, 'sell,': 10841, 'gang...': 10842, 'mem...': 10843, 'members.': 10844, 'third,': 10845, 'fourth,': 10846, 'fifth': 10847, 'concern.': 10848, 'lo': 10849, 'behold,': 10850, 'nowhere,': 10851, 'kind,': 10852, 'tomatoes': 10853, 'wendy?': 10854, 'correct,': 10855, 'chummy': 10856, 'jew!': 10857, '\"gar': 10858, 'on\"': 10859, 'beret': 10860, 'leather': 10861, 'jacket,': 10862, 'ray-bans,': 10863, 'screaming,': 10864, 'whitey,\"': 10865, 'speak,': 10866, 'peggy': 10867, 'sue?': 10868, 'french.': 10869, 'size.': 10870, 'comedy': 10871, 'far-reaching': 10872, 'million...': 10873, 'his...': 10874, 'i-25.': 10875, 'jungle.': 10876, 'bulls.': 10877, 'bears.': 10878, 'danger': 10879, 'professionals': 10880, 'guide': 10881, 'wilderness.': 10882, 'stability.': 10883, 'integrity.': 10884, 'pride.': 10885, 'twenty-five': 10886, 'cocksucker': 10887, \"bull's-eye!\": 10888, 'class': 10889, 'accountants': 10890, 'tiny': 10891, 'bayside,': 10892, 'queens.': 10893, '26,': 10894, 'brokerage': 10895, 'firm,': 10896, '$49': 10897, 'ferrari': 10898, \"johnson's\": 10899, 'miami': 10900, 'vice.': 10901, 'humongous': 10902, 'ships...': 10903, 'lite': 10904, 'ferrari.': 10905, 'addition': 10906, 'mansion,': 10907, 'jet,': 10908, 'homes,': 10909, 'gamble': 10910, 'degenerate.': 10911, 'fish.': 10912, 'hookers': 10913, 'agencies': 10914, 'indict': 10915, 'round.': 10916, 'crash,': 10917, 'sake!': 10918, 'yup,': 10919, 'daily': 10920, 'consume': 10921, 'sedate': 10922, 'manhattan,': 10923, 'queens': 10924, 'quaaludes': 10925, 'pain,\"': 10926, 'adderall': 10927, 'focused,': 10928, 'xanax': 10929, 'mellow': 10930, 'morphine,': 10931, 'awesome.': 10932, 'nathan.': 10933, 'heaven,': 10934, \"shit'll\": 10935, 'invincible.': 10936, 'conquer': 10937, 'eviscerate': 10938, 'food,': 10939, 'pussy.': 10940, 'generously': 10941, 'spotted': 10942, 'owl': 10943, '22': 10944, 'befit': 10945, 'high-minded': 10946, 'ambitions.': 10947, 'connector,': 10948, 'connect': 10949, 'wealthy': 10950, 'owners.': 10951, 'sit!': 10952, '$300,000.': 10953, 'douchebag': 10954, 'mark': 10955, 'village': 10956, 'dial.': 10957, '1:00.': 10958, 'piker.': 10959, 'interview?': 10960, '\"cunt,\"': 10961, '\"cock,\"': 10962, '\"asshole.\"': 10963, 'package...': 10964, 'mainlining': 10965, 'adrenaline.': 10966, 'fuckface,': 10967, \"stock's\": 10968, '44...': 10969, 'cocksucking': 10970, 'sorry...': 10971, 'douchebag,': 10972, 'technology': 10973, 'solid,': 10974, 'paint': 10975, 'tape.': 10976, 'microsoft.': 10977, 'hole!': 10978, 'tootski?': 10979, 'hanna,': 10980, 'glorious': 10981, 'afternoon?': 10982, 'hector,': 10983, 'absolut': 10984, 'martinis.': 10985, 'passes': 10986, 'strategy,': 10987, 'function,': 10988, 'incredibly': 10989, 'firm.': 10990, 'absolutely...': 10991, 'responsibility': 10992, 'girlfriend?': 10993, 'married.': 10994, 'congratulations.': 10995, \"client's\": 10996, 'advantageous': 10997, 'nobody...': 10998, 'warren': 10999, 'buffett': 11000, 'jimmy': 11001, 'buffett.': 11002, 'sideways,': 11003, 'circles.': 11004, 'stockbrokers,': 11005, 'fugazi.': 11006, 'fugazi': 11007, 'fugayzi.': 11008, 'fugayzi,': 11009, 'fugazi,': 11010, 'whazy,': 11011, 'woozy,': 11012, 'dust.': 11013, 'exist.': 11014, 'elemental': 11015, 'chart.': 11016, 'build': 11017, 'sits': 11018, 'liquidate,': 11019, '\"situation.\"': 11020, 'reinvest': 11021, 'earnings': 11022, 'addicted.': 11023, 'rich,': 11024, 'via': 11025, 'incredible,': 11026, 'keys': 11027, 'relaxed.': 11028, 'pump': 11029, 'racket.': 11030, 'decimal': 11031, 'points,': 11032, 'frequencies.': 11033, 'bang.': 11034, 'digits.': 11035, 'acidic': 11036, 'above-the-shoulders': 11037, 'mustard': 11038, 'wigs': 11039, 'geese': 11040, 'prescription.': 11041, 'balance,': 11042, 'differential': 11043, 'implode.': 11044, 'implode,': 11045, 'implosions': 11046, 'ugly.': 11047, 'bathroom,': 11048, 'stroking': 11049, 'racket': 11050, 'cocaine.': 11051, 'sharp': 11052, 'follow?': 11053, 'ferris': 11054, '24/7,': 11055, '365,': 11056, 'decade,': 11057, 'century.': 11058, 'halkidiki?': 11059, 'common': 11060, 'denominator.': 11061, 'echo': 11062, 'parade': 11063, 'broadway': 11064, 'one-way': 11065, 'outs': 11066, 'earning': 11067, 'geared': 11068, '7.': 11069, 'licensed': 11070, 'fortune.': 11071, 'exxon': 11072, '86': 11073, '.': 11074, 'monday.': 11075, '508': 11076, 'plummet': 11077, \"'29.\": 11078, \"market's\": 11079, 'solid.': 11080, 'tsunami.': 11081, 'shitty': 11082, 'broker.': 11083, 'l.f.': 11084, 'rothschild,': 11085, '1899,': 11086, 'doors.': 11087, 'swallowed': 11088, 'pawn': 11089, 'engagement': 11090, 'babe...': 11091, 'pawning': 11092, 'millionaire.': 11093, 'beats': 11094, 'wiz,': 11095, 'electronics': 11096, 'store.': 11097, 'sales.': 11098, 'hiring': 11099, '\"stockbrokers.\"': 11100, 'invest?': 11101, 'dwayne?': 11102, 'rothschild': 11103, 'conversation...': 11104, 'comers.': 11105, 'share,': 11106, '$3!': 11107, 'quotrons': 11108, 'quotrons?': 11109, 'computers.': 11110, 'computers': 11111, 'sheets?': 11112, 'listed': 11113, 'nasdaq,': 11114, 'capital?': 11115, 'stocks?': 11116, 'aerodyne,': 11117, 'interesting...': 11118, 'aero...': 11119, 'aerotyne.': 11120, 'dubuque.': 11121, 'microwaves.': 11122, \"company's\": 11123, 'dorothy,': 11124, 'share?': 11125, 'crap?': 11126, 'schmucks.': 11127, 'postmen,': 11128, 'postmen.': 11129, 'plumbers.': 11130, 'hustler': 11131, 'mechanics.': 11132, 'hustler?': 11133, 'girlie': 11134, 'magazines.': 11135, 'nudie': 11136, 'mag.': 11137, 'finance': 11138, 'houses,': 11139, 'ring...': 11140, 'regulated': 11141, 'of?': 11142, 'mine...': 11143, 'stock?': 11144, '50.': 11145, '50%?': 11146, 'commission?': 11147, 'yup.': 11148, 'markup': 11149, '$10,000,': 11150, 'mailed': 11151, 'postcard': 11152, 'requesting': 11153, 'potential': 11154, 'downside': 11155, 'bell?': 11156, 'desk,': 11157, 'minute?': 11158, 'aerotyne': 11159, 'high-tech': 11160, 'midwest': 11161, 'awaiting': 11162, 'imminent': 11163, 'patent': 11164, 'generation': 11165, 'civilian': 11166, 'applications': 11167, 'trades': 11168, 'over-the-counter': 11169, 'analysts': 11170, 'indicate': 11171, 'mere': 11172, '$6,000': 11173, 'investment': 11174, 'upwards': 11175, '$60,000!': 11176, 'mortgage,': 11177, 'mortgage.': 11178, 'market,': 11179, 'winners.': 11180, 'losers': 11181, 'few.': 11182, 'technical': 11183, 'slam': 11184, '$4,000?': 11185, '40,000': 11186, 'shares,': 11187, 'confirmation.': 11188, 'john?': 11189, 'vote': 11190, 'better!': 11191, 'fist.': 11192, 'twelfth': 11193, 'floor?': 11194, 'stockbroker?': 11195, 'understanding...': 11196, '$70,000': 11197, 'serious,': 11198, '$70,000.': 11199, '$72,000.': 11200, '72': 11201, 'stub': 11202, '$72,000': 11203, 'paulie,': 11204, 'weird.': 11205, 'susan.': 11206, 'phosphorescent': 11207, 'rims': 11208, 'lenses': 11209, 'wasp-y.': 11210, 'rumors.': 11211, 'bro,': 11212, \"she's,\": 11213, 'her...': 11214, 'hot,': 11215, 'cousin.': 11216, \"anyone's\": 11217, '60%,': 11218, '65%': 11219, 'risk,': 11220, 'cousins': 11221, 'retarded,': 11222, 'would,': 11223, '\"run': 11224, 'free.\"': 11225, 'gonna...': 11226, \"you've...\": 11227, 'somewhere': 11228, 'handled': 11229, 'happy,': 11230, 'appreciative': 11231, 'present?': 11232, 'crack.': 11233, 'nut': 11234, 'lions': 11235, 'tigers': 11236, 'bears!': 11237, \"frank's\": 11238, 'auto': 11239, 'renting': 11240, 'brokers.': 11241, 'recruited': 11242, 'hometown': 11243, 'tires': 11244, 'robbie,': 11245, 'quaalude': 11246, 'bayside.': 11247, 'sometime,': 11248, 'zip!': 11249, 'panties': 11250, 'ma,': 11251, 'ma!': 11252, 'mustache': 11253, 'buddhists.': 11254, 'buying': 11255, 'buddhists': 11256, 'amish.': 11257, 'working-class,': 11258, 'buddhist.': 11259, 'ketchup,': 11260, 'convent': 11261, 'nuns,': 11262, 'horny': 11263, 'eaten': 11264, 'boom.': 11265, 'pen?': 11266, 'napkin': 11267, 'supply': 11268, 'demand,': 11269, 'urgency.': 11270, 'need,': 11271, 'nuns': 11272, 'lesbians.': 11273, 'otter?': 11274, 'dude': 11275, 'kimmie!': 11276, \"friggin'\": 11277, 'rambo.': 11278, 'runs.': 11279, 'harvard': 11280, 'mbas.': 11281, 'feinberg,': 11282, 'pinhead,': 11283, 'kupferberg,': 11284, 'graduate.': 11285, 'depraved': 11286, 'chinaman,': 11287, 'jujitsu': 11288, 'israel.': 11289, 'smartest': 11290, 'koskoff.': 11291, 'hairpiece.': 11292, 'stones': 11293, 'quality.': 11294, 'stocks...': 11295, 'crappy': 11296, 'companies.': 11297, 'education': 11298, 'reinvent': 11299, 'schnooks': 11300, 'targeting': 11301, 'wealthiest': 11302, '1%': 11303, 'whales': 11304, 'moby': 11305, 'script,': 11306, 'harpoon,': 11307, 'robbie.': 11308, 'trust.': 11309, 'deeply': 11310, 'embedded': 11311, 'founders': 11312, 'chiseled': 11313, 'plymouth': 11314, 'rock!': 11315, 'disney,': 11316, 'at&t,': 11317, 'ibm,': 11318, 'exclusively.': 11319, 'stocks,': 11320, 'settlement.': 11321, 'journal,': 11322, 'loses.': 11323, 'wives,': 11324, 'tooth': 11325, 'fairy.': 11326, 'objection': 11327, 'sleazy': 11328, 'salesmen,': 11329, 'carbide': 11330, '32...': 11331, 'instruments': 11332, '47...': 11333, 'steel': 11334, '41': 11335, '\"chester\",': 11336, '\"pick': 11337, 'disney\"': 11338, '\"on': 11339, 'spot,': 11340, 'on.\"': 11341, 'honestly?': 11342, 'seriously?': 11343, 'cold-called': 11344, 'stranger.': 11345, 'agreement': 11346, 'kupferberg.': 11347, 'feinberg.': 11348, 'ming.': 11349, 'oakmont...': 11350, 'sincere': 11351, 'benchmark': 11352, 'scotty?': 11353, 'trust,': 11354, 'consistently': 11355, 'kodak,': 11356, '$5,000.': 11357, '8,000,': 11358, 'ten.': 11359, 'choice!': 11360, 'confirmation,': 11361, 'kev.': 11362, 'cuchon': 11363, 'airlines': 11364, 'koskoff...': 11365, 'ming...': 11366, 'judy,': 11367, 'loss.': 11368, 'points...': 11369, 'soul,': 11370, '\"a': 11371, 'ton': 11372, 'money.\"': 11373, 'sunlight': 11374, 'sunlight.': 11375, '8,000': 11376, 'shares?': 11377, '25,000.': 11378, 'intelligent': 11379, 'transfer': 11380, 'associate.': 11381, 'andrea.': 11382, 'rhonda?': 11383, '$28.7': 11384, 'gross': 11385, 'commissions,': 11386, 'sheet': 11387, 'weekly': 11388, 'debauchery,': 11389, 'assistant,': 11390, 'harrison,': 11391, 'scalping': 11392, 'begin!': 11393, 'fyi,': 11394, 'breast': 11395, 'implants!': 11396, 'c': 11397, 'cups,': 11398, \"d's!\": 11399, 'world?': 11400, 'stripees!': 11401, 'mine!': 11402, 'throughout': 11403, 'magazine,': 11404, 'flagship': 11405, 'profile': 11406, 'oakmont?': 11407, 'diversification.': 11408, 'fantastic.': 11409, 'picture?': 11410, 'hatchet': 11411, 'conniving': 11412, 'twat!': 11413, 'street\"': 11414, '\"jordan': 11415, 'sounding': 11416, 'robin': 11417, 'hood\"': 11418, 'himself\"': 11419, 'merry': 11420, 'band': 11421, 'brokers.\"': 11422, 'publicity,': 11423, 'article,': 11424, 'magazine.': 11425, 'resume,': 11426, 'sir!': 11427, 'superstar.': 11428, 'dozens': 11429, 'allowance': 11430, 'tailor.': 11431, 'literally': 11432, \"kids'\": 11433, 'backs.': 11434, 'jerk-off': 11435, 'sniffing': 11436, 'rises': 11437, 'drag': 11438, 'doubled': 11439, 'size,': 11440, 'offices.': 11441, 'madhouse.': 11442, 'greed-fest,': 11443, 'parts': 11444, 'testosterone,': 11445, 'fluids.': 11446, 'declare': 11447, 'fuck-free': 11448, 'zone': 11449, '9:00': 11450, '7:00.': 11451, 'madness': 11452, 'jenner,': 11453, 'christened': 11454, 'elevator': 11455, 'assistant.': 11456, 'pam,': 11457, 'credit,': 11458, 'technique,': 11459, 'double-team': 11460, 'dresses.': 11461, 'depressed': 11462, 'enforcer.': 11463, 'gestapo.': 11464, 'hair-trigger': 11465, 'temper,': 11466, 'innocuous': 11467, 'ringing': 11468, 'gall': 11469, 'equalizer': 11470, 'phone...': 11471, 'gene.': 11472, 'gene?': 11473, 'accent.': 11474, 'right-o,': 11475, 'gene,': 11476, 'cheerio.': 11477, 'bizarre.': 11478, 'halfwit!': 11479, 'main...': 11480, 'guy...': 11481, 'target': 11482, \"bull's-eye\": 11483, \"bull's-eye's\": 11484, 'closer': 11485, 'hurt.': 11486, 'superhuman': 11487, 'strength.': 11488, 'eye?': 11489, 'pbs.': 11490, 'confused': 11491, 'wires': 11492, 'crossed.': 11493, 'addressing': 11494, 'mona': 11495, 'lisa.': 11496, 'contact,': 11497, 'limit': 11498, 'food?': 11499, 'bananas.': 11500, 'food.': 11501, 'fondle': 11502, 'unacceptable?': 11503, 'dartboard.': 11504, 'gift,': 11505, 'accuracy.': 11506, 'rob.': 11507, 'bowling': 11508, 'skateboard': 11509, 'skateboard,': 11510, 'alley': 11511, 'pins.': 11512, 'cock.': 11513, 'ornery': 11514, 'tranquilizer': 11515, 'mace.': 11516, 'taser': 11517, 'guns.': 11518, 'maybe?': 11519, 'knocked': 11520, 'loophole.': 11521, 'human,': 11522, 'wallendas.': 11523, 'sued': 11524, 'us.\"': 11525, 'bill.': 11526, 'twat.': 11527, 'serious!': 11528, 'working.': 11529, 'forms?': 11530, 'pfizer...': 11531, '$430,000': 11532, '30,000': 11533, 'month!': 11534, 'expenses.': 11535, 'expenses?': 11536, 'dinner!': 11537, 'explained.': 11538, 'pfizer': 11539, 'porterhouse': 11540, 'argentina.': 11541, 'champagne': 11542, 'sides,': 11543, 'cancer?': 11544, 'cancer.': 11545, 'jord,': 11546, 'prostitution': 11547, 'ring,': 11548, 'description': 11549, 'charged': 11550, 'irs,': 11551, 'absolutely,': 11552, 'close!': 11553, 'max.': 11554, 'cards?': 11555, 'hookers.': 11556, 'chips,': 11557, 'material.': 11558, '$300': 11559, 'condom': 11560, 'hefty': 11561, 'nasdaqs,': 11562, 'pretty,': 11563, '200': 11564, 'bucks.': 11565, 'skanks.': 11566, '100': 11567, 'condom,': 11568, 'slipped': 11569, 'disc': 11570, 'much...': 11571, \"doesn't...\": 11572, 'smell...': 11573, 'attraction': 11574, 'fade': 11575, \"we're...\": 11576, 'jumping': 11577, 'minutes?': 11578, 'girls...': 11579, 'shaved,': 11580, 'shaven.': 11581, 'china': 11582, 'doll.': 11583, 'bush?': 11584, 'sudden,': 11585, 'eyebrows': 11586, 'stitch.': 11587, 'lasers.': 11588, 'too...': 11589, 'fan': 11590, 'bush,': 11591, 'stressing': 11592, 'stressed': 11593, 'roost.': 11594, 'cocks': 11595, 'legends': 11596, 'street!': 11597, 'stratosphere!': 11598, 'merrill': 11599, 'lynch.': 11600, 'underwriters.': 11601, 'ipos.': 11602, 'shitkicker': 11603, 'bucket': 11604, 'powwows': 11605, 'stimulate': 11606, 'free-flowing': 11607, 'ideas,': 11608, 'popping': 11609, \"m&m's.\": 11610, 'lude': 11611, 'quaalude,': 11612, 'lude,': 11613, 'commonly': 11614, 'referred': 11615, 'synthesized': 11616, '1951': 11617, 'dots,': 11618, 'feathers,': 11619, 'sedative,': 11620, 'stressed-out': 11621, 'housewives': 11622, 'disorders.': 11623, 'resisted': 11624, 'urge': 11625, 'kick-ass': 11626, 'abusing': 11627, '1982,': 11628, \"1'd\": 11629, 'finite': 11630, 'ads?': 11631, 'giant-headed': 11632, 'clunky': 11633, 'shoes?': 11634, 'begging': 11635, 'except,': 11636, 'shoes!': 11637, 'jb.': 11638, 'chick': 11639, 'aids.': 11640, 'cristy.': 11641, 'blair': 11642, 'hollingsworth.': 11643, 'blair.': 11644, 'blair,': 11645, \"ski'd\": 11646, \"ski'd.\": 11647, 'ski.': 11648, 'secretary?': 11649, 'drink...': 11650, \"she's...\": 11651, 'gets...': 11652, 'finish,': 11653, 'manners.': 11654, 'staten': 11655, 'bridge.': 11656, 'gulch.': 11657, 'bridge': 11658, 'gangplank.': 11659, 'presume': 11660, 'italian?': 11661, 'dutch,': 11662, 'british,': 11663, 'classy': 11664, 'lady.': 11665, 'straw,': 11666, 'cristy': 11667, 'number.': 11668, 'married?': 11669, 'designs.': 11670, 'lingerie.': 11671, 'camisoles,': 11672, 'bustiers,': 11673, 'designs': 11674, 'panties,': 11675, 'darjeeling': 11676, 'rose': 11677, 'hip,': 11678, 'painting': 11679, 'rocky!': 11680, 'rocky,': 11681, 'play,': 11682, 'heroin': 11683, 'sex,': 11684, 'similar': 11685, 'interests': 11686, 'choc-choc': 11687, 'tram.': 11688, 'toke': 11689, 'okay...': 11690, 'geez!': 11691, 'beach!': 11692, 'sweetie,': 11693, 'person!': 11694, 'filed': 11695, 'style.': 11696, 'decorator,': 11697, 'feng': 11698, \"shui'd\": 11699, 'butler.': 11700, 'sophisticated,': 11701, 'professional.': 11702, 'jasmine?': 11703, 'stump': 11704, 'already?': 11705, 'hamptons': 11706, 'weekend,': 11707, 'bedroom?': 11708, 'checked': 11709, 'babe?': 11710, 'beginning,': 11711, 'degenerates': 11712, 'eggs,': 11713, 'cream.': 11714, 'cream?\"': 11715, 'dancing...': 11716, 'any...': 11717, 'club?': 11718, 'grinding': 11719, '$50,000': 11720, 'drawer!': 11721, 'jewelry': 11722, 'fag?': 11723, 'charge,': 11724, 'talk!': 11725, 'faggot!': 11726, 'toby,': 11727, 'yakuza': 11728, 'nicholas.': 11729, '1,000': 11730, 'nickle-jew?': 11731, \"'d\": 11732, 'profits': 11733, 'guessed': 11734, 'attorney,': 11735, 'manny': 11736, 'riskin.': 11737, '700': 11738, 'doom.': 11739, \"sec's\": 11740, 'leg,': 11741, 'tits': 11742, 'ringer.': 11743, 'imbeciles': 11744, 'review': 11745, 'files.': 11746, 'conference': 11747, 'bugged': 11748, 'conditioning': 11749, 'antarctica': 11750, 'smoking': 11751, 'room...': 11752, '|': 11753, 'bazooka': 11754, 'offering': 11755, 'latest': 11756, 'offering.': 11757, 'population.': 11758, '\"was': 11759, 'legal?\"': 11760, 'mirage': 11761, 'las': 11762, 'vegas.': 11763, 'bacchanal.': 11764, 'blowout': 11765, 'gods': 11766, 'settled': 11767, 'strattonites,': 11768, 'pharmacy': 11769, 'wings.': 11770, 'weekend': 11771, 'bucks,': 11772, 'refurbishing': 11773, '28th': 11774, 'bride.': 11775, 'tale.': 11776, 'castle.': 11777, 'consummate': 11778, 'kleinman,': 11779, 'filming': 11780, 'involves': 11781, 'penis': 11782, 'vagina.': 11783, 'emma?': 11784, 'lovely.': 11785, 'donuts,': 11786, \"'60s,\": 11787, 'step.': 11788, 'closed.': 11789, 'present,': 11790, 'yacht?': 11791, 'ships': 11792, 'pricey': 11793, 'afloat.': 11794, 'coincidence': 11795, '150': 11796, 'hull': 11797, 'acres': 11798, 'coast': 11799, 'maids,': 11800, 'cooks,': 11801, 'landscapers,': 11802, 'guards': 11803, 'shifts.': 11804, 'venice?': 11805, \"'who?\": 11806, '\"who?\"': 11807, 'owl?': 11808, 'sleep!': 11809, 'stupidest': 11810, 'life!': 11811, 'venice...': 11812, 'venice,': 11813, 'rough,': 11814, 'wolfie.': 11815, 'wolfie?': 11816, 'word!': 11817, 'birdy!': 11818, 'forgot.': 11819, 'condominium': 11820, 'complex': 11821, 'confusion.': 11822, 'italy?': 11823, 'california?': 11824, 'infant!': 11825, 'issues.': 11826, '3:00': 11827, 'helicopter': 11828, 'skylar?': 11829, 'range': 11830, 'sodded': 11831, 'grass,': 11832, 'wrecked': 11833, 'grass.': 11834, 'greek': 11835, 'tragedy,': 11836, 'burden.': 11837, 'besides': 11838, 'swiping': 11839, 'professions,': 11840, 'connoisseur.': 11841, 'aspiring': 11842, 'landscape': 11843, 'architect!': 11844, 'dare.': 11845, 'flexing': 11846, 'muscles,': 11847, 'imbecile.': 11848, 'kiss.': 11849, 'beautiful...': 11850, 'ritual.': 11851, 'steam': 11852, 'sweat': 11853, 'assess': 11854, 'damage.': 11855, 'eyeballs.': 11856, 'pills\"': 11857, 'started,': 11858, 'kiss?': 11859, 'girls,': 11860, 'short,': 11861, 'skirts': 11862, 'yeah...': 11863, 'touching.': 11864, 'games': 11865, 'fuzzy': 11866, 'bear': 11867, 'odd,': 11868, '\"hi,\"': 11869, '\"hi\"': 11870, '\"hi.\"': 11871, 'chooses': 11872, 'balls!': 11873, 'rallied,': 11874, \"firm's\": 11875, 'history.': 11876, 'tie?': 11877, \"how're\": 11878, 'paperwork': 11879, 'cocksucking,': 11880, 'pets': 11881, 'day!': 11882, 'tie,': 11883, 'pit,': 11884, 'lobby.': 11885, 'cobbler.': 11886, 'red-hot': 11887, 'footwear': 11888, 'impresario.': 11889, 'crawling': 11890, 'primordial': 11891, 'ooze.': 11892, 'secretly': 11893, 'lou,': 11894, 'map.': 11895, \"girls'\": 11896, 'shoe!': 11897, 'lou': 11898, 'jane,': 11899, 'leather.': 11900, 'lou!': 11901, 'proud!': 11902, 'systems,': 11903, 'wall.': 11904, 'creative': 11905, 'ability,': 11906, 'gift': 11907, 'has,': 11908, 'spotting': 11909, \"steve's\": 11910, 'creates': 11911, 'artists': 11912, 'decade.': 11913, 'giorgio': 11914, 'armani,': 11915, 'gianni': 11916, 'versace,': 11917, 'coco': 11918, 'chanel,': 11919, 'yves': 11920, 'saint': 11921, 'laurent.': 11922, 'steve,': 11923, 'stars': 11924, 'ticket': 11925, 'chocolate': 11926, 'factory': 11927, 'willy': 11928, 'wonka,': 11929, 'oompa': 11930, 'loompas': 11931, 'stage!': 11932, 'focus': 11933, 'boxes?': 11934, 'hunks': 11935, 'plastic.': 11936, 'loaded': 11937, 'm16': 11938, 'marine': 11939, 'highly-trained': 11940, 'strattonites.': 11941, 'killers!': 11942, 'killers,': 11943, 'warriors,': 11944, 'dies!': 11945, 'nobility': 11946, 'problems,': 11947, 'limo,': 11948, '$2,000': 11949, '$40,000': 11950, 'superficial': 11951, 'materialistic,': 11952, 'belong!': 11953, 'depart': 11954, 'winners,': 11955, 'not-so-distant': 11956, 'future,': 11957, 'beat-up': 11958, 'pinto,': 11959, \"person's\": 11960, 'alongside': 11961, 'brand': 11962, 'porsche': 11963, 'voluptuous': 11964, \"who're\": 11965, 'disgusting': 11966, 'wildebeest': 11967, 'razor-stubble,': 11968, 'sleeveless': 11969, 'muumuu,': 11970, 'carload': 11971, 'groceries': 11972, 'to!': 11973, 'landlord': 11974, 'evict': 11975, 'loser?': 11976, 'rich!': 11977, 'richer': 11978, 'ceo': 11979, 'ram': 11980, \"clients'\": 11981, 'throats': 11982, '100,000': 11983, 'shares!': 11984, 'ferocious!': 11985, 'relentless!': 11986, 'terrorists!': 11987, 'park!': 11988, '1:00': 11989, 'opened': 11990, '$4.50': 11991, '1:03,': 11992, '$18.': 11993, 'firms': 11994, 'belonged': 11995, 'accounts': 11996, 'ratholes.': 11997, 'teens...': 11998, 'always,': 11999, '$22': 12000, 'hours!': 12001, 'amazing!': 12002, \"kleinman's\": 12003, 'urgent.': 12004, 'urgent?': 12005, 'kleinman?': 12006, 'cousin!': 12007, 'barry,': 12008, 'subpoena.': 12009, 'fbi,': 12010, 'copy': 12011, 'scout.': 12012, 'gordon': 12013, 'gekko.': 12014, 'video?': 12015, 'invasion': 12016, 'privacy.': 12017, 'intrusive,': 12018, 'pictures,': 12019, 'nags': 12020, 'witness.': 12021, 'myself?': 12022, 'downtown,': 12023, 'department,': 12024, 'dea,': 12025, 'exist,': 12026, 'exist?': 12027, 'information,': 12028, 'knows,': 12029, 'tap': 12030, 'bit,': 12031, 'information...': 12032, 'nuts': 12033, 'p.i.': 12034, 'license,': 12035, 'favor?': 12036, 'rules?': 12037, 'dumb.': 12038, 'schwacked?': 12039, 'macaroni.': 12040, 'board.': 12041, \"plank's\": 12042, 'welcome!': 12043, 'aboard.': 12044, 'hughes.': 12045, 'nicole,': 12046, 'heidi.': 12047, 'ladies?': 12048, 'pasta,': 12049, 'shrimp,': 12050, 'lobster.': 12051, 'whiskey.': 12052, 'booze': 12053, 'sea.': 12054, 'duh!': 12055, 'boat?': 12056, 'though?': 12057, 'extended': 12058, 'expedite': 12059, 'unorthodox,': 12060, 'whatsoever.': 12061, 'regulatory': 12062, 'agency.': 12063, 'activities.': 12064, 'exactly!': 12065, 'criminals,': 12066, 'honestly...': 12067, 'ongoing': 12068, 'dumped': 12069, 'desk...': 12070, 'higher-up': 12071, 'press': 12072, 'schmuck': 12073, 'looking.': 12074, 'bothers': 12075, 'banging': 12076, \"street's\": 12077, 'firms.': 12078, 'true!': 12079, 'goldman,': 12080, 'lehman': 12081, 'merrill...': 12082, 'collateralized': 12083, 'debt': 12084, 'obligations?': 12085, 'internet': 12086, 'step-by-step': 12087, 'occurring.': 12088, 'sit-down': 12089, 'profitable': 12090, 'stayed': 12091, 'sweating,': 12092, 'row...': 12093, \"wouldn't,\": 12094, \"wouldn't?\": 12095, 'answer...': 12096, '50,': 12097, '60k?': 12098, 'year?': 12099, 'ballpark?': 12100, 'handgun': 12101, 'bureau.': 12102, 'hardworking': 12103, 'firefighters,': 12104, 'teachers,': 12105, 'agents.': 12106, 'financially.': 12107, \"there's...\": 12108, 'opportunity...': 12109, 'environmental': 12110, 'science,': 12111, 'bogged': 12112, 'loans.': 12113, 'bypass': 12114, 'surgery.': 12115, 'chose': 12116, 'overnight,': 12117, 'granted,': 12118, 'unfortunately.': 12119, 'setting': 12120, 'team,': 12121, 'does...': 12122, 'intern...': 12123, 'intern': 12124, 'situation,': 12125, 'particular': 12126, 'mistaken...': 12127, 'technically': 12128, 'heard,': 12129, 'code,': 12130, 'arrow.': 12131, 'bond': 12132, 'villain,': 12133, 'jackasses': 12134, 'bust,': 12135, 'manor': 12136, 'born.': 12137, 'douchebags,': 12138, 'bullshitting': 12139, 'nicest': 12140, 'thinking,': 12141, 'seizes': 12142, 'because,': 12143, 'fuckety-fuck-fuck,': 12144, 'other...': 12145, 'miserable,': 12146, 'wives.': 12147, 'heidi': 12148, 'caviar': 12149, 'meantime.': 12150, 'lobsters': 12151, 'pricks,': 12152, 'fucks.': 12153, 'pricks.': 12154, 'pocket!': 12155, \"year's\": 12156, 'salary': 12157, 'ass-covering': 12158, 'banker': 12159, 'pussy!': 12160, 'flight.': 12161, 'cocktails': 12162, 'valium': 12163, 'slur': 12164, '8:30,': 12165, 'motor': 12166, 'skills.': 12167, 'amnesia': 12168, 'boarded': 12169, 'midnight.': 12170, 'sleeping': 12171, 'pills': 12172, 'passes,': 12173, 'passes.': 12174, 'cock!': 12175, 'dick?': 12176, 'treasure': 12177, 'map': 12178, 'miss.': 12179, 'captain.': 12180, 'belt,': 12181, 'fastened': 12182, 'horny,': 12183, 'speaking.': 12184, 'lean': 12185, 'bitte,': 12186, 'donnie...': 12187, 'tasered': 12188, 'flyer.': 12189, 'screaming': 12190, 'n-word.': 12191, 'n-word?': 12192, 'luckily': 12193, 'buddy?': 12194, 'breathe.': 12195, 'harder,': 12196, 'geneva': 12197, 'asshole-free': 12198, 'zone,': 12199, 'limo': 12200, 'jean': 12201, 'jacques': 12202, 'acquaintance.': 12203, 'guests.': 12204, 'secrecy': 12205, 'excusez-moi,': 12206, 'blah.': 12207, 'chat.': 12208, 'chat,': 12209, 'discussed.': 12210, 'obligated': 12211, 'example?': 12212, 'depend.': 12213, 'depend?': 12214, 'depend': 12215, 'croy?': 12216, 'fries,': 12217, 'pommes': 12218, 'frites.': 12219, 'asking,': 12220, 'perfectly,': 12221, 'banque': 12222, 'gen': 12223, 've': 12224, 'pursued': 12225, 'apply': 12226, 'practices.': 12227, 'standpoint,': 12228, 'fantastic,': 12229, 'subpoena,': 12230, 'papier': 12231, 'toilette.': 12232, 'investigation': 12233, 'fraud,': 12234, 'coop': 12235, 'ration': 12236, '...if': 12237, 'mistaken.': 12238, 'assuming': 12239, \"friend's,\": 12240, 'camarade...': 12241, 'cousin?': 12242, 'relative?': 12243, 'yodeling': 12244, 'rathole.': 12245, 'passport.': 12246, 'favorite': 12247, 'traffic': 12248, 'terrible?': 12249, 'convincing.': 12250, 'swiss.': 12251, 'bus.': 12252, '\"rathole\"': 12253, 'british?': 12254, 'whatsoever,': 12255, 'duped': 12256, 'darling?': 12257, 'substances.': 12258, 'obvious,': 12259, 'chilly,': 12260, 'sweating': 12261, 'addict.': 12262, 'addict,': 12263, 'dependent': 12264, 'tens': 12265, 'stake,': 12266, 'bitten': 12267, 'chew,': 12268, 'appetites.': 12269, 'anxiety': 12270, 'sometimes,': 12271, 'relax': 12272, 'learn...': 12273, 'stability,': 12274, 'niece,': 12275, 'had,': 12276, 'literally,': 12277, 'fuckload': 12278, 'herself.': 12279, 'passport?': 12280, 'dealer,': 12281, 'france,': 12282, 'stripper': 12283, 'slovenian': 12284, 'origin': 12285, 'places,': 12286, 'trips.': 12287, 'passports,': 12288, 'nitwits': 12289, 'crooked-nose': 12290, 'forgot': 12291, 'mil': 12292, 'taped': 12293, 'shvartze.': 12294, 'pickups,': 12295, 'loopy': 12296, \"douchebag's\": 12297, 'table!': 12298, 'deal!': 12299, 'pill': 12300, 'dealer.': 12301, 'talking,': 12302, 'carry-on,': 12303, 'bucket.': 12304, \"chantalle's\": 12305, 'smuggled': 12306, 'hiccup.': 12307, 'swiss-slovakian': 12308, 'swiss-slovenian?': 12309, 'slovenian.': 12310, 'slovenian?': 12311, 'cares.': 12312, 'blonde.': 12313, 'park,': 12314, 'maniac,': 12315, 'draws?': 12316, 'smart?': 12317, 'million-dollar': 12318, 'deals.': 12319, 'sucker-punch': 12320, 'yet': 12321, 'apology,': 12322, 'machine.': 12323, 'zero.': 12324, 'blinking': 12325, 'checking': 12326, '45': 12327, 'office,': 12328, '\"has': 12329, 'yet?\"': 12330, 'machine?\"': 12331, 'pass.': 12332, 'emperor': 12333, 'pass!': 12334, 'fucksville,': 12335, \"emperor's\": 12336, 'mayhem?': 12337, 'looting': 12338, 'raping?': 12339, 'fuckheads': 12340, 'scene': 12341, 'anything,': 12342, 'fucking,': 12343, 'homophobic': 12344, 'begging,': 12345, 'neatly': 12346, 'organized': 12347, 'shove': 12348, 'latvian': 12349, 'chill,': 12350, 'motherfuck!': 12351, 'case!': 12352, 'air!': 12353, 'surprise': 12354, 'lemmons.': 12355, 'retired': 12356, \"pharmacist's\": 12357, 'lemmons?': 12358, 'heads.': 12359, 'lemmon': 12360, '714': 12361, 'grail.': 12362, 'myth.': 12363, 'babies.': 12364, 'saving': 12365, 'birthday,': 12366, 'clap': 12367, 'arriving': 12368, 'cleared': 12369, 'celebration': 12370, 'goes?': 12371, 'salud!': 12372, 'carl,': 12373, '35': 12374, 'tolerance': 12375, \"metabolism's\": 12376, 'pumping.': 12377, 'potency,': 12378, 'bottle!': 12379, 'january': 12380, \"'81.\": 12381, 'duds.': 12382, 'take...': 12383, 'each.': 12384, 'retards': 12385, 'bo': 12386, \"dietl's\": 12387, 'clearly.': 12388, 'ls': 12389, 'closest': 12390, 'brookville': 12391, 'wasp': 12392, 'stronghold,': 12393, 'mall.': 12394, 'locked': 12395, 'by...': 12396, 'mall?': 12397, 'denham,': 12398, 'tapped.': 12399, 'agent,': 12400, 'agent.': 12401, 'storage,': 12402, 'lemmons': 12403, 'delayed': 12404, 'fuse.': 12405, '90': 12406, 'skipped': 12407, 'drive...': 12408, 'bastards': 12409, 'cerebral': 12410, 'palsy': 12411, \"walking's\": 12412, 'crawl.': 12413, 'crawl': 12414, 'easy!': 12415, 'drove': 12416, 'could.': 12417, 'jell-o': 12418, 'lates.': 12419, 'scratch': 12420, 'take?': 12421, 'jor!': 12422, 'upstairs,': 12423, 'do!': 12424, 'choking,': 12425, 'aside!': 12426, 'father!': 12427, 'rocco,': 12428, 'ambulance!': 12429, '911.': 12430, 'warrant.': 12431, 'questioning,': 12432, 'proof': 12433, 'contempt': 12434, 'result,': 12435, 'scat-free.': 12436, 'handful': 12437, 'violations,': 12438, 'manipulation,': 12439, 'high-pressure': 12440, 'ticky-tack': 12441, 'fines,': 12442, 'exchange,': 12443, 'charge.': 12444, 'animal': 12445, 'completely.': 12446, 'pursuing': 12447, 'wrongdoing.': 12448, 'stepping': 12449, 'voluntarily,': 12450, 'denham': 12451, 'won!': 12452, \"what're\": 12453, 'jail?': 12454, 'preserve': 12455, 'azoff,': 12456, 'wanna...': 12457, 'loyalty': 12458, 'admiration.': 12459, 'leadership,': 12460, 'koskoff': 12461, 'feinberg': 12462, 'management': 12463, 'positions,': 12464, 'applause.': 12465, 'relatives': 12466, 'tube': 12467, 'haiti,': 12468, 'land': 12469, 'belzer,': 12470, 'kimmie.': 12471, '20.': 12472, 'sophisticated': 12473, 'wears': 12474, '$3,000': 12475, 'armani': 12476, 'suits.': 12477, 'drives': 12478, 'brand-new': 12479, 'mercedes': 12480, 'benz.': 12481, 'spends': 12482, 'summers': 12483, 'hamptons!': 12484, 'nickels': 12485, 'eight-year-old': 12486, 'rent.': 12487, '$5,000': 12488, 'advance': 12489, 'tuition.': 12490, 'kimmie?': 12491, '$25,000.': 12492, 'shame,': 12493, 'pushing,': 12494, 'deserve': 12495, 'hypocrite': 12496, 'leaving!': 12497, 'promotion!': 12498, 'wrecking': 12499, 'swat': 12500, 'nowhere!': 12501, 'ramar': 12502, 'jungle,': 12503, 'sake?': 12504, 'paddy': 12505, 'mazel': 12506, 'tov,': 12507, 'irishman.': 12508, 'welched': 12509, 'ocean.': 12510, 'hunting.': 12511, 'jail,': 12512, 'apologized,': 12513, 'massive': 12514, 'thirty-five.': 12515, 'mozart': 12516, 'common,': 12517, 'notices': 12518, 'documents,': 12519, 'depositions,': 12520, 'oakmont!': 12521, 'usa!': 12522, 'alden.': 12523, 'interrogated': 12524, 'thyroid': 12525, 'harassment.': 12526, 'proceed': 12527, 'strattonite': 12528, 'cracked.': 12529, 'gladys': 12530, 'carrera?': 12531, 'recommendation': 12532, 'milk?': 12533, 'francis': 12534, 'sortigi': 12535, 'those?': 12536, 'abdul...': 12537, 'recall.': 12538, 'wondered': 12539, 'memory': 12540, 'employees': 12541, 'odd.': 12542, 'cartage': 12543, 'corporation?': 12544, 'comment': 12545, 'condition': 12546, 'advised': 12547, 'safer': 12548, 'bald-headed': 12549, 'eagle,': 12550, 'listen!': 12551, \"madden's\": 12552, 'chunks': 12553, 'sold,': 12554, 'conclusions.': 12555, 'steve-cocksucking-motherfucking-madden': 12556, 'feds': 12557, 'stock!': 12558, 'conclusions': 12559, 'phones!': 12560, 'emma...': 12561, 'betty.': 12562, 'snap,': 12563, 'shuffled': 12564, 'mortal': 12565, 'coil.': 12566, 'account.': 12567, 'elegant,': 12568, 'condolences': 12569, 'devastated.': 12570, 'condolences.': 12571, 'regard': 12572, 'probate': 12573, 'worry.': 12574, 'died,': 12575, 'document': 12576, 'naming': 12577, 'successor.': 12578, 'fantastic!': 12579, 'news!': 12580, 'reception.': 12581, 'english?': 12582, 'fast?': 12583, 'quiet,': 12584, 'sneaky': 12585, 'forger': 12586, 'fake': 12587, \"emma's\": 12588, 'signature.': 12589, 'monaco!': 12590, 'monaco?': 12591, 'funeral!': 12592, 'london,': 12593, 'ted,': 12594, 'monaco.': 12595, 'stamp': 12596, 'passports.': 12597, 'london': 12598, 'funeral': 12599, 'days!': 12600, 'chop?': 12601, 'chop,': 12602, 'anywhere': 12603, 'ted?': 12604, 'uncomfortable.': 12605, 'batten': 12606, 'hatches': 12607, 'secure': 12608, 'deck.': 12609, 'few...': 12610, 'dishes?': 12611, 'skis': 12612, 'overboard!': 12613, 'waves': 12614, 'building!': 12615, 'around,': 12616, 'broad-sided.': 12617, 'diver!': 12618, 'ludes.': 12619, 'downstairs!': 12620, 'flooded.': 12621, 'sober!': 12622, 'everybody!': 12623, 'rogue': 12624, 'wave!': 12625, 'ted': 12626, 'beecham': 12627, 'yacht': 12628, 'naomi!': 12629, 'nerves!': 12630, 'immediate': 12631, 'assistance!': 12632, 'rescued': 12633, 'italians': 12634, 'exploded': 12635, 'seagull': 12636, 'engine.': 12637, 'barely': 12638, 'rent?': 12639, 'wealth': 12640, 'creation.': 12641, 'strategy.': 12642, '24': 12643, 'survive,': 12644, 'thrive.': 12645, '$33,000': 12646, 'profit.': 12647, 'guts': 12648, 'persuasion': 12649, 'seminar,': 12650, 'millionaire': 12651, 'setup': 12652, 'lazy.': 12653, 'millions.': 12654, 'yours,': 12655, 'seminar!': 12656, 'joking!': 12657, 'infomercial': 12658, 'prick!': 12659, 'rehab.': 12660, 'sober': 12661, 'happens!': 12662, 'miami.': 12663, 'swiss,': 12664, 'communist.': 12665, 'odds?': 12666, '10,000': 12667, 'bankers': 12668, 'geneva,': 12669, 'soil.': 12670, 'offshore': 12671, 'racing': 12672, 'aoki,': 12673, 'founder': 12674, 'cruel': 12675, 'hibachi': 12676, 'restaurants': 12677, 'down?': 12678, 'short.': 12679, 'saurel': 12680, 'switzerland!': 12681, 'twenty-one': 12682, 'obstruction': 12683, 'justice.': 12684, 'bail': 12685, '$10': 12686, 'decrepit.': 12687, 'shitty,': 12688, 'jewelry.': 12689, 'cabin': 12690, 'wig-wearing': 12691, 'irresponsible': 12692, 'benihana': 12693, 'naomi?': 12694, 'sweetheart!': 12695, 'mortgage': 12696, 'bail.': 12697, 'lawyers.': 12698, 'nightmare,': 12699, 'morale?': 12700, 'founding': 12701, 'beer,': 12702, 'pal?': 12703, 'drinking?': 12704, 'beer?': 12705, 'scientist.': 12706, 'lines': 12707, 'powder?': 12708, 'soda...': 12709, 'sober?': 12710, 'boring.': 12711, 'dictate,': 12712, 'dictate': 12713, 'term': 12714, '\"grenada.\"': 12715, 'grenada?': 12716, \"haven't.\": 12717, \"grenada's\": 12718, 'interesting': 12719, 'invaded': 12720, '1983.': 12721, '90,000': 12722, 'unloseable.': 12723, 'grenada.': 12724, 'shoving': 12725, 'mattress.': 12726, 'rotting': 12727, 'ambition': 12728, 'involved': 12729, 'air?': 12730, 'kreskin?': 12731, 'provides': 12732, 'comprehensive': 12733, 'co-conspirators': 12734, 'spanning': 12735, 'agrees': 12736, 'wait...': 12737, '\"wear': 12738, 'wire\"?': 12739, 'rat?': 12740, 'rat,': 12741, \"cristy's\": 12742, 'hook,': 12743, 'heartache,': 12744, 'countless': 12745, 'fresh,': 12746, 'fines': 12747, 'plenty': 12748, 'bummed': 12749, '\"there\\'s': 12750, 'street.\"': 12751, 'lining': 12752, 'eventually...': 12753, 'kiss,': 12754, 'jordan...': 12755, 'long.': 12756, 'convenient': 12757, 'indictment,': 12758, 'electronic': 12759, 'bracelet': 12760, 'ankle,': 12761, 'custody': 12762, 'visitation.': 12763, 'convicted,': 12764, 'vicious': 12765, 'years!': 12766, 'letting': 12767, 'daddy,': 12768, 'belt': 12769, 'trip,': 12770, 'heavens...': 12771, 'indictment': 12772, 'pending': 12773, 'eastern': 12774, 'activities...': 12775, 'recording': 12776, 'device,': 12777, 'wire...': 12778, 'conjunction': 12779, 'investigation...': 12780, 'brutal.': 12781, 'bitching.': 12782, 'crimes.': 12783, 'hours,': 12784, 'list.': 12785, 'associates.': 12786, 'tip.': 12787, 'sad,': 12788, 'boils.': 12789, 'betrays': 12790, 'account?': 12791, 'yellowtail,': 12792, 'bud?': 12793, 'hildy?': 12794, 'fucked,': 12795, 'seats!': 12796, 'chanel!': 12797, 'return,': 12798, 'hellhole': 12799, 'pops,': 12800, 'roost.\"': 12801, 'distinguished': 12802, 'convictions': 12803, 'dozen': 12804, 'offenders': 12805, 'recover': 12806, 'restitution': 12807, 'victims.': 12808, 'sentence': 12809, 'remand': 12810, 'defendant.': 12811, 'arrived': 12812, 'prison,': 12813, 'terrified.': 12814, \"needn't\": 12815, 'been.': 12816, 'brief': 12817, 'fleeting': 12818, 'forgotten': 12819, 'stars,': 12820, 'professional': 12821, 'athletes,': 12822, 'gangsters.': 12823, 'baddest': 12824, 'warm': 12825, 'auckland,': 12826, 'zealand': 12827, 'trainer,': 12828, 'professionals,': 12829, 'can...': 12830, 'pen...': 12831}\n",
            "(7625, 18)\n",
            "(3063, 18)\n",
            "(7625, 3)\n",
            "(3063, 3)\n",
            "12832\n"
          ],
          "name": "stdout"
        }
      ]
    },
    {
      "cell_type": "code",
      "metadata": {
        "colab": {
          "base_uri": "https://localhost:8080/",
          "height": 419
        },
        "id": "yhga6vU3eAJJ",
        "outputId": "2fd52f70-026d-49db-84b3-d7e60b2357e9"
      },
      "source": [
        "y_train"
      ],
      "execution_count": null,
      "outputs": [
        {
          "output_type": "execute_result",
          "data": {
            "text/html": [
              "<div>\n",
              "<style scoped>\n",
              "    .dataframe tbody tr th:only-of-type {\n",
              "        vertical-align: middle;\n",
              "    }\n",
              "\n",
              "    .dataframe tbody tr th {\n",
              "        vertical-align: top;\n",
              "    }\n",
              "\n",
              "    .dataframe thead th {\n",
              "        text-align: right;\n",
              "    }\n",
              "</style>\n",
              "<table border=\"1\" class=\"dataframe\">\n",
              "  <thead>\n",
              "    <tr style=\"text-align: right;\">\n",
              "      <th></th>\n",
              "      <th>0</th>\n",
              "      <th>1</th>\n",
              "      <th>2</th>\n",
              "    </tr>\n",
              "  </thead>\n",
              "  <tbody>\n",
              "    <tr>\n",
              "      <th>0</th>\n",
              "      <td>1</td>\n",
              "      <td>0</td>\n",
              "      <td>0</td>\n",
              "    </tr>\n",
              "    <tr>\n",
              "      <th>1</th>\n",
              "      <td>0</td>\n",
              "      <td>1</td>\n",
              "      <td>0</td>\n",
              "    </tr>\n",
              "    <tr>\n",
              "      <th>2</th>\n",
              "      <td>1</td>\n",
              "      <td>0</td>\n",
              "      <td>0</td>\n",
              "    </tr>\n",
              "    <tr>\n",
              "      <th>3</th>\n",
              "      <td>1</td>\n",
              "      <td>0</td>\n",
              "      <td>0</td>\n",
              "    </tr>\n",
              "    <tr>\n",
              "      <th>4</th>\n",
              "      <td>1</td>\n",
              "      <td>0</td>\n",
              "      <td>0</td>\n",
              "    </tr>\n",
              "    <tr>\n",
              "      <th>...</th>\n",
              "      <td>...</td>\n",
              "      <td>...</td>\n",
              "      <td>...</td>\n",
              "    </tr>\n",
              "    <tr>\n",
              "      <th>7620</th>\n",
              "      <td>1</td>\n",
              "      <td>0</td>\n",
              "      <td>0</td>\n",
              "    </tr>\n",
              "    <tr>\n",
              "      <th>7621</th>\n",
              "      <td>1</td>\n",
              "      <td>0</td>\n",
              "      <td>0</td>\n",
              "    </tr>\n",
              "    <tr>\n",
              "      <th>7622</th>\n",
              "      <td>1</td>\n",
              "      <td>0</td>\n",
              "      <td>0</td>\n",
              "    </tr>\n",
              "    <tr>\n",
              "      <th>7623</th>\n",
              "      <td>1</td>\n",
              "      <td>0</td>\n",
              "      <td>0</td>\n",
              "    </tr>\n",
              "    <tr>\n",
              "      <th>7624</th>\n",
              "      <td>1</td>\n",
              "      <td>0</td>\n",
              "      <td>0</td>\n",
              "    </tr>\n",
              "  </tbody>\n",
              "</table>\n",
              "<p>7625 rows × 3 columns</p>\n",
              "</div>"
            ],
            "text/plain": [
              "      0  1  2\n",
              "0     1  0  0\n",
              "1     0  1  0\n",
              "2     1  0  0\n",
              "3     1  0  0\n",
              "4     1  0  0\n",
              "...  .. .. ..\n",
              "7620  1  0  0\n",
              "7621  1  0  0\n",
              "7622  1  0  0\n",
              "7623  1  0  0\n",
              "7624  1  0  0\n",
              "\n",
              "[7625 rows x 3 columns]"
            ]
          },
          "metadata": {
            "tags": []
          },
          "execution_count": 401
        }
      ]
    },
    {
      "cell_type": "code",
      "metadata": {
        "colab": {
          "base_uri": "https://localhost:8080/"
        },
        "id": "BWIpzmQhnQWE",
        "outputId": "e65812fa-7b51-440c-9e25-dd2b0c9ee2d8"
      },
      "source": [
        "X_train.shape"
      ],
      "execution_count": null,
      "outputs": [
        {
          "output_type": "execute_result",
          "data": {
            "text/plain": [
              "(7625, 18)"
            ]
          },
          "metadata": {
            "tags": []
          },
          "execution_count": 402
        }
      ]
    },
    {
      "cell_type": "markdown",
      "metadata": {
        "id": "T4MfWcdOdC2A"
      },
      "source": [
        "Loading the Movies dataset and preparing the encodings for each utterences"
      ]
    },
    {
      "cell_type": "markdown",
      "metadata": {
        "id": "iZPAivwkpt2J"
      },
      "source": [
        "## Creating the model"
      ]
    },
    {
      "cell_type": "code",
      "metadata": {
        "id": "L65cTI4YeAJL"
      },
      "source": [
        "# model = Sequential()\n",
        "# model.add(Embedding(vocab_size, embed_size, input_length=X_train.shape[1]))\n",
        "# model.add(SpatialDropout1D(0.2))\n",
        "# model.add(LSTM(100, dropout=0.2, recurrent_dropout=0.2))\n",
        "# model.add(Dense(1, activation='softmax'))\n",
        "# model.compile(loss='categorical_crossentropy', optimizer='adam', metrics=['accuracy'])\n",
        "\n",
        "epochs = 8\n",
        "batch_size = 32\n",
        "lr = 0.001\n",
        "\n",
        "\n",
        "model = tf.keras.Sequential([\n",
        "        tf.keras.layers.Embedding(vocab_size, embed_size, input_length=X_train.shape[1]),\n",
        "        tf.keras.layers.LSTM(64, kernel_regularizer=l2(0.01), recurrent_regularizer=l2(0.01), bias_regularizer=l2(0.01)),\n",
        "        tf.keras.layers.Dense(3, activation = 'softmax')\n",
        "  ])\n",
        "\n",
        "model.compile(optimizer= tf.keras.optimizers.Adam(learning_rate=lr),\n",
        "                loss='categorical_crossentropy',\n",
        "                metrics=['accuracy', tf.keras.metrics.Precision(), tf.keras.metrics.Recall()])\n"
      ],
      "execution_count": null,
      "outputs": []
    },
    {
      "cell_type": "code",
      "metadata": {
        "colab": {
          "base_uri": "https://localhost:8080/"
        },
        "id": "q0EN_lBGeAJM",
        "outputId": "f41b3d5e-9f3a-4bdd-f390-035f5bd32748"
      },
      "source": [
        "model.summary()"
      ],
      "execution_count": null,
      "outputs": [
        {
          "output_type": "stream",
          "text": [
            "Model: \"sequential_8\"\n",
            "_________________________________________________________________\n",
            "Layer (type)                 Output Shape              Param #   \n",
            "=================================================================\n",
            "embedding_8 (Embedding)      (None, 18, 300)           3849600   \n",
            "_________________________________________________________________\n",
            "lstm_8 (LSTM)                (None, 64)                93440     \n",
            "_________________________________________________________________\n",
            "dense_8 (Dense)              (None, 3)                 195       \n",
            "=================================================================\n",
            "Total params: 3,943,235\n",
            "Trainable params: 3,943,235\n",
            "Non-trainable params: 0\n",
            "_________________________________________________________________\n"
          ],
          "name": "stdout"
        }
      ]
    },
    {
      "cell_type": "code",
      "metadata": {
        "colab": {
          "base_uri": "https://localhost:8080/"
        },
        "id": "FwwuZpTAeAJw",
        "outputId": "8e3e5d71-bf16-46b5-a070-f7006ccf8d0d"
      },
      "source": [
        "history = model.fit(X_train, y_train, \n",
        "      epochs=epochs,  \n",
        "      verbose=1, \n",
        "      validation_split=0.25,\n",
        "      batch_size=batch_size)"
      ],
      "execution_count": null,
      "outputs": [
        {
          "output_type": "stream",
          "text": [
            "Epoch 1/8\n",
            "179/179 [==============================] - 15s 70ms/step - loss: 2.6479 - accuracy: 0.8601 - precision_8: 0.8358 - recall_8: 0.6854 - val_loss: 0.9315 - val_accuracy: 0.8490 - val_precision_8: 0.8583 - val_recall_8: 0.8448\n",
            "Epoch 2/8\n",
            "179/179 [==============================] - 12s 66ms/step - loss: 0.7679 - accuracy: 0.8886 - precision_8: 0.9100 - recall_8: 0.8661 - val_loss: 0.6930 - val_accuracy: 0.8951 - val_precision_8: 0.9151 - val_recall_8: 0.8757\n",
            "Epoch 3/8\n",
            "179/179 [==============================] - 12s 66ms/step - loss: 0.5079 - accuracy: 0.9338 - precision_8: 0.9484 - recall_8: 0.9171 - val_loss: 0.5884 - val_accuracy: 0.8888 - val_precision_8: 0.9060 - val_recall_8: 0.8794\n",
            "Epoch 4/8\n",
            "179/179 [==============================] - 12s 66ms/step - loss: 0.3594 - accuracy: 0.9481 - precision_8: 0.9554 - recall_8: 0.9424 - val_loss: 0.5046 - val_accuracy: 0.8915 - val_precision_8: 0.9025 - val_recall_8: 0.8836\n",
            "Epoch 5/8\n",
            "179/179 [==============================] - 12s 66ms/step - loss: 0.2644 - accuracy: 0.9582 - precision_8: 0.9609 - recall_8: 0.9519 - val_loss: 0.4999 - val_accuracy: 0.8904 - val_precision_8: 0.9042 - val_recall_8: 0.8810\n",
            "Epoch 6/8\n",
            "179/179 [==============================] - 12s 66ms/step - loss: 0.2153 - accuracy: 0.9572 - precision_8: 0.9606 - recall_8: 0.9539 - val_loss: 0.4291 - val_accuracy: 0.8967 - val_precision_8: 0.9105 - val_recall_8: 0.8852\n",
            "Epoch 7/8\n",
            "179/179 [==============================] - 12s 66ms/step - loss: 0.1566 - accuracy: 0.9760 - precision_8: 0.9798 - recall_8: 0.9721 - val_loss: 0.4525 - val_accuracy: 0.9040 - val_precision_8: 0.9090 - val_recall_8: 0.8956\n",
            "Epoch 8/8\n",
            "179/179 [==============================] - 12s 66ms/step - loss: 0.1317 - accuracy: 0.9905 - precision_8: 0.9927 - recall_8: 0.9887 - val_loss: 0.4409 - val_accuracy: 0.9056 - val_precision_8: 0.9133 - val_recall_8: 0.9009\n"
          ],
          "name": "stdout"
        }
      ]
    },
    {
      "cell_type": "code",
      "metadata": {
        "colab": {
          "base_uri": "https://localhost:8080/",
          "height": 295
        },
        "id": "wpX_tUTneAJx",
        "outputId": "31afb7b8-6fc5-421a-e1a5-f389e7096791"
      },
      "source": [
        "# summarize history for accuracy\n",
        "plt.plot(history.history['accuracy'])\n",
        "plt.plot(history.history['val_accuracy'])\n",
        "plt.title('model accuracy')\n",
        "plt.ylabel('accuracy')\n",
        "plt.xlabel('epoch')\n",
        "plt.legend(['train', 'val'], loc='upper left')\n",
        "plt.show()"
      ],
      "execution_count": null,
      "outputs": [
        {
          "output_type": "display_data",
          "data": {
            "image/png": "[encoded data removed]",
            "text/plain": [
              "<Figure size 432x288 with 1 Axes>"
            ]
          },
          "metadata": {
            "tags": [],
            "needs_background": "light"
          }
        }
      ]
    },
    {
      "cell_type": "code",
      "metadata": {
        "colab": {
          "base_uri": "https://localhost:8080/",
          "height": 295
        },
        "id": "zc1UmohieAJy",
        "outputId": "04b74cfd-988b-4cd3-ec97-16adba12e239"
      },
      "source": [
        "# summarize history for loss\n",
        "plt.plot(history.history['loss'])\n",
        "plt.plot(history.history['val_loss'])\n",
        "plt.title('model loss')\n",
        "plt.ylabel('loss')\n",
        "plt.xlabel('epoch')\n",
        "plt.legend(['train', 'val'], loc='upper left')\n",
        "plt.show()"
      ],
      "execution_count": null,
      "outputs": [
        {
          "output_type": "display_data",
          "data": {
            "image/png": "[encoded data removed]",
            "text/plain": [
              "<Figure size 432x288 with 1 Axes>"
            ]
          },
          "metadata": {
            "tags": [],
            "needs_background": "light"
          }
        }
      ]
    },
    {
      "cell_type": "code",
      "metadata": {
        "colab": {
          "base_uri": "https://localhost:8080/"
        },
        "id": "JJxEWEQ0eAJz",
        "outputId": "759925e2-4ff4-4f2d-c9df-842d944a1509"
      },
      "source": [
        "loss, accuracy, precision, recall = model.evaluate(X_test, y_test,batch_size=32)\n",
        "print(\"loss: %s accuracy: %s precision: %s recall: %s\" % (loss, accuracy, precision, recall))\n",
        "\n",
        "df_evaluation = pd.DataFrame({'loss':loss, 'accuracy':accuracy, 'precision': precision, 'recall':recall},index=[0])"
      ],
      "execution_count": null,
      "outputs": [
        {
          "output_type": "stream",
          "text": [
            "96/96 [==============================] - 1s 6ms/step - loss: 0.3589 - accuracy: 0.9216 - precision_8: 0.9249 - recall_8: 0.9122\n",
            "loss: 0.35890069603919983 accuracy: 0.92164546251297 precision: 0.924859344959259 recall: 0.9121776223182678\n"
          ],
          "name": "stdout"
        }
      ]
    },
    {
      "cell_type": "code",
      "metadata": {
        "id": "L2MMe5qieAJ0",
        "colab": {
          "base_uri": "https://localhost:8080/"
        },
        "outputId": "44011e97-e009-42ce-c0f0-1aa0efbed8a9"
      },
      "source": [
        "Y_pred = model.predict(X_test)\n",
        "Y_pred.shape"
      ],
      "execution_count": null,
      "outputs": [
        {
          "output_type": "execute_result",
          "data": {
            "text/plain": [
              "(3063, 3)"
            ]
          },
          "metadata": {
            "tags": []
          },
          "execution_count": 409
        }
      ]
    },
    {
      "cell_type": "code",
      "metadata": {
        "colab": {
          "base_uri": "https://localhost:8080/"
        },
        "id": "i9yoA2_veAJ1",
        "outputId": "e27e63b4-1eee-4099-ffcf-24b471b57ece"
      },
      "source": [
        "Y_pred"
      ],
      "execution_count": null,
      "outputs": [
        {
          "output_type": "execute_result",
          "data": {
            "text/plain": [
              "array([[8.66706908e-01, 1.12897865e-01, 2.03953013e-02],\n",
              "       [9.77124751e-01, 1.83070898e-02, 4.56819916e-03],\n",
              "       [9.98834550e-01, 9.82085243e-04, 1.83399723e-04],\n",
              "       ...,\n",
              "       [9.84902084e-01, 1.34952553e-02, 1.60267833e-03],\n",
              "       [9.91060317e-01, 7.83518516e-03, 1.10453006e-03],\n",
              "       [9.98787940e-01, 1.06305163e-03, 1.49030006e-04]], dtype=float32)"
            ]
          },
          "metadata": {
            "tags": []
          },
          "execution_count": 410
        }
      ]
    },
    {
      "cell_type": "code",
      "metadata": {
        "colab": {
          "base_uri": "https://localhost:8080/"
        },
        "id": "lSBtKhUBeAJ1",
        "outputId": "8ac79e04-3715-4dc8-fc9e-e923ae3b27b6"
      },
      "source": [
        "Y_pred = np.argmax(Y_pred, axis=1)\n",
        "Y_pred"
      ],
      "execution_count": null,
      "outputs": [
        {
          "output_type": "execute_result",
          "data": {
            "text/plain": [
              "array([0, 0, 0, ..., 0, 0, 0])"
            ]
          },
          "metadata": {
            "tags": []
          },
          "execution_count": 411
        }
      ]
    },
    {
      "cell_type": "code",
      "metadata": {
        "colab": {
          "base_uri": "https://localhost:8080/"
        },
        "id": "2HdAde9U1cXs",
        "outputId": "eea09cd4-fec7-4739-f5fe-576a1ac5b1cf"
      },
      "source": [
        "test_targets.shape"
      ],
      "execution_count": null,
      "outputs": [
        {
          "output_type": "execute_result",
          "data": {
            "text/plain": [
              "(3063,)"
            ]
          },
          "metadata": {
            "tags": []
          },
          "execution_count": 412
        }
      ]
    },
    {
      "cell_type": "code",
      "metadata": {
        "colab": {
          "base_uri": "https://localhost:8080/",
          "height": 289
        },
        "id": "kJooOhgqeAJ3",
        "outputId": "087c7115-b8f4-4f4e-d03f-6b37bcaefd04"
      },
      "source": [
        "categories = ['normal', 'offensive', 'hate']\n",
        " \n",
        "report = classification_report(test_targets, Y_pred, target_names=categories, output_dict=True)\n",
        "df_report = pd.DataFrame(report).transpose()\n",
        "df_report"
      ],
      "execution_count": null,
      "outputs": [
        {
          "output_type": "stream",
          "text": [
            "/usr/local/lib/python3.7/dist-packages/sklearn/metrics/_classification.py:1272: UndefinedMetricWarning: Precision and F-score are ill-defined and being set to 0.0 in labels with no predicted samples. Use `zero_division` parameter to control this behavior.\n",
            "  _warn_prf(average, modifier, msg_start, len(result))\n"
          ],
          "name": "stderr"
        },
        {
          "output_type": "execute_result",
          "data": {
            "text/html": [
              "<div>\n",
              "<style scoped>\n",
              "    .dataframe tbody tr th:only-of-type {\n",
              "        vertical-align: middle;\n",
              "    }\n",
              "\n",
              "    .dataframe tbody tr th {\n",
              "        vertical-align: top;\n",
              "    }\n",
              "\n",
              "    .dataframe thead th {\n",
              "        text-align: right;\n",
              "    }\n",
              "</style>\n",
              "<table border=\"1\" class=\"dataframe\">\n",
              "  <thead>\n",
              "    <tr style=\"text-align: right;\">\n",
              "      <th></th>\n",
              "      <th>precision</th>\n",
              "      <th>recall</th>\n",
              "      <th>f1-score</th>\n",
              "      <th>support</th>\n",
              "    </tr>\n",
              "  </thead>\n",
              "  <tbody>\n",
              "    <tr>\n",
              "      <th>normal</th>\n",
              "      <td>0.917102</td>\n",
              "      <td>0.992724</td>\n",
              "      <td>0.953416</td>\n",
              "      <td>2474.000000</td>\n",
              "    </tr>\n",
              "    <tr>\n",
              "      <th>offensive</th>\n",
              "      <td>0.953247</td>\n",
              "      <td>0.625213</td>\n",
              "      <td>0.755144</td>\n",
              "      <td>587.000000</td>\n",
              "    </tr>\n",
              "    <tr>\n",
              "      <th>hate</th>\n",
              "      <td>0.000000</td>\n",
              "      <td>0.000000</td>\n",
              "      <td>0.000000</td>\n",
              "      <td>2.000000</td>\n",
              "    </tr>\n",
              "    <tr>\n",
              "      <th>accuracy</th>\n",
              "      <td>0.921645</td>\n",
              "      <td>0.921645</td>\n",
              "      <td>0.921645</td>\n",
              "      <td>0.921645</td>\n",
              "    </tr>\n",
              "    <tr>\n",
              "      <th>macro avg</th>\n",
              "      <td>0.623450</td>\n",
              "      <td>0.539312</td>\n",
              "      <td>0.569520</td>\n",
              "      <td>3063.000000</td>\n",
              "    </tr>\n",
              "    <tr>\n",
              "      <th>weighted avg</th>\n",
              "      <td>0.923430</td>\n",
              "      <td>0.921645</td>\n",
              "      <td>0.914796</td>\n",
              "      <td>3063.000000</td>\n",
              "    </tr>\n",
              "  </tbody>\n",
              "</table>\n",
              "</div>"
            ],
            "text/plain": [
              "              precision    recall  f1-score      support\n",
              "normal         0.917102  0.992724  0.953416  2474.000000\n",
              "offensive      0.953247  0.625213  0.755144   587.000000\n",
              "hate           0.000000  0.000000  0.000000     2.000000\n",
              "accuracy       0.921645  0.921645  0.921645     0.921645\n",
              "macro avg      0.623450  0.539312  0.569520  3063.000000\n",
              "weighted avg   0.923430  0.921645  0.914796  3063.000000"
            ]
          },
          "metadata": {
            "tags": []
          },
          "execution_count": 413
        }
      ]
    },
    {
      "cell_type": "code",
      "metadata": {
        "id": "Xs8Z_At5szN9"
      },
      "source": [
        "name = '/content/drive/MyDrive/IAS/NLP_and_Web/report/matrix_report_'+ movie_names[movie_index]+ '.csv'\n",
        "df_report.to_csv(name)"
      ],
      "execution_count": null,
      "outputs": []
    },
    {
      "cell_type": "code",
      "metadata": {
        "id": "knSN3ki8qSlb"
      },
      "source": [
        "df_results = pd.DataFrame(history.history)\n",
        "df_results['learning_rate'] = lr\n",
        "df_results['num_epochs'] = epochs\n",
        "df_results['batch_size'] = batch_size\n",
        "df_results['num_classes'] =  len(categories) \n",
        "df_results['train_size'] = len(train)\n",
        "df_results['seed'] = seed\n",
        "df_results['test_size'] = len(test)\n",
        "df_results['Tokenizer'] = 'keras_preprocessing.text.Tokenizer'\n",
        "df_results['loss_function'] = 'categorical_crossentropy'\n",
        "df_results['learning_rate'] = lr\n",
        "df_results['train_class_proportion_' + categories[0]] = round(train_class_distribution[0][1], 2)\n",
        "df_results['train_class_proportion_' + categories[1]] = round(train_class_distribution[1][1], 2)\n",
        "df_results['train_class_proportion_' + categories[2]] = round(train_class_distribution[2][1], 2)\n",
        "df_results['test_class_proportion_' + categories[0]] = round(test_class_distribution[0][1], 2)\n",
        "df_results['test_class_proportion_' + categories[1]] = round(test_class_distribution[1][1], 2)\n",
        "df_results['test_class_proportion_' + categories[2]] = round(test_class_distribution[2][1], 2)"
      ],
      "execution_count": null,
      "outputs": []
    },
    {
      "cell_type": "code",
      "metadata": {
        "colab": {
          "base_uri": "https://localhost:8080/",
          "height": 224
        },
        "id": "gXeYIr7_r8nB",
        "outputId": "ea4b6b05-c9a8-495d-938f-5d8543f910b5"
      },
      "source": [
        "df_results.head()"
      ],
      "execution_count": null,
      "outputs": [
        {
          "output_type": "execute_result",
          "data": {
            "text/html": [
              "<div>\n",
              "<style scoped>\n",
              "    .dataframe tbody tr th:only-of-type {\n",
              "        vertical-align: middle;\n",
              "    }\n",
              "\n",
              "    .dataframe tbody tr th {\n",
              "        vertical-align: top;\n",
              "    }\n",
              "\n",
              "    .dataframe thead th {\n",
              "        text-align: right;\n",
              "    }\n",
              "</style>\n",
              "<table border=\"1\" class=\"dataframe\">\n",
              "  <thead>\n",
              "    <tr style=\"text-align: right;\">\n",
              "      <th></th>\n",
              "      <th>loss</th>\n",
              "      <th>accuracy</th>\n",
              "      <th>precision_8</th>\n",
              "      <th>recall_8</th>\n",
              "      <th>val_loss</th>\n",
              "      <th>val_accuracy</th>\n",
              "      <th>val_precision_8</th>\n",
              "      <th>val_recall_8</th>\n",
              "      <th>learning_rate</th>\n",
              "      <th>num_epochs</th>\n",
              "      <th>batch_size</th>\n",
              "      <th>num_classes</th>\n",
              "      <th>train_size</th>\n",
              "      <th>seed</th>\n",
              "      <th>test_size</th>\n",
              "      <th>Tokenizer</th>\n",
              "      <th>loss_function</th>\n",
              "      <th>train_class_proportion_normal</th>\n",
              "      <th>train_class_proportion_offensive</th>\n",
              "      <th>train_class_proportion_hate</th>\n",
              "      <th>test_class_proportion_normal</th>\n",
              "      <th>test_class_proportion_offensive</th>\n",
              "      <th>test_class_proportion_hate</th>\n",
              "    </tr>\n",
              "  </thead>\n",
              "  <tbody>\n",
              "    <tr>\n",
              "      <th>0</th>\n",
              "      <td>1.701242</td>\n",
              "      <td>0.859741</td>\n",
              "      <td>0.862825</td>\n",
              "      <td>0.811822</td>\n",
              "      <td>0.931511</td>\n",
              "      <td>0.848977</td>\n",
              "      <td>0.858284</td>\n",
              "      <td>0.844782</td>\n",
              "      <td>0.001</td>\n",
              "      <td>8</td>\n",
              "      <td>32</td>\n",
              "      <td>3</td>\n",
              "      <td>7625</td>\n",
              "      <td>11</td>\n",
              "      <td>3063</td>\n",
              "      <td>keras_preprocessing.text.Tokenizer</td>\n",
              "      <td>categorical_crossentropy</td>\n",
              "      <td>0.86</td>\n",
              "      <td>0.1</td>\n",
              "      <td>0.04</td>\n",
              "      <td>0.81</td>\n",
              "      <td>0.19</td>\n",
              "      <td>0.0</td>\n",
              "    </tr>\n",
              "    <tr>\n",
              "      <th>1</th>\n",
              "      <td>0.706426</td>\n",
              "      <td>0.899091</td>\n",
              "      <td>0.919794</td>\n",
              "      <td>0.874432</td>\n",
              "      <td>0.693046</td>\n",
              "      <td>0.895123</td>\n",
              "      <td>0.915069</td>\n",
              "      <td>0.875721</td>\n",
              "      <td>0.001</td>\n",
              "      <td>8</td>\n",
              "      <td>32</td>\n",
              "      <td>3</td>\n",
              "      <td>7625</td>\n",
              "      <td>11</td>\n",
              "      <td>3063</td>\n",
              "      <td>keras_preprocessing.text.Tokenizer</td>\n",
              "      <td>categorical_crossentropy</td>\n",
              "      <td>0.86</td>\n",
              "      <td>0.1</td>\n",
              "      <td>0.04</td>\n",
              "      <td>0.81</td>\n",
              "      <td>0.19</td>\n",
              "      <td>0.0</td>\n",
              "    </tr>\n",
              "    <tr>\n",
              "      <th>2</th>\n",
              "      <td>0.470256</td>\n",
              "      <td>0.935642</td>\n",
              "      <td>0.948963</td>\n",
              "      <td>0.920252</td>\n",
              "      <td>0.588399</td>\n",
              "      <td>0.888831</td>\n",
              "      <td>0.905997</td>\n",
              "      <td>0.879392</td>\n",
              "      <td>0.001</td>\n",
              "      <td>8</td>\n",
              "      <td>32</td>\n",
              "      <td>3</td>\n",
              "      <td>7625</td>\n",
              "      <td>11</td>\n",
              "      <td>3063</td>\n",
              "      <td>keras_preprocessing.text.Tokenizer</td>\n",
              "      <td>categorical_crossentropy</td>\n",
              "      <td>0.86</td>\n",
              "      <td>0.1</td>\n",
              "      <td>0.04</td>\n",
              "      <td>0.81</td>\n",
              "      <td>0.19</td>\n",
              "      <td>0.0</td>\n",
              "    </tr>\n",
              "    <tr>\n",
              "      <th>3</th>\n",
              "      <td>0.335047</td>\n",
              "      <td>0.949283</td>\n",
              "      <td>0.955311</td>\n",
              "      <td>0.942113</td>\n",
              "      <td>0.504639</td>\n",
              "      <td>0.891453</td>\n",
              "      <td>0.902517</td>\n",
              "      <td>0.883587</td>\n",
              "      <td>0.001</td>\n",
              "      <td>8</td>\n",
              "      <td>32</td>\n",
              "      <td>3</td>\n",
              "      <td>7625</td>\n",
              "      <td>11</td>\n",
              "      <td>3063</td>\n",
              "      <td>keras_preprocessing.text.Tokenizer</td>\n",
              "      <td>categorical_crossentropy</td>\n",
              "      <td>0.86</td>\n",
              "      <td>0.1</td>\n",
              "      <td>0.04</td>\n",
              "      <td>0.81</td>\n",
              "      <td>0.19</td>\n",
              "      <td>0.0</td>\n",
              "    </tr>\n",
              "    <tr>\n",
              "      <th>4</th>\n",
              "      <td>0.254175</td>\n",
              "      <td>0.954704</td>\n",
              "      <td>0.958488</td>\n",
              "      <td>0.948933</td>\n",
              "      <td>0.499930</td>\n",
              "      <td>0.890404</td>\n",
              "      <td>0.904198</td>\n",
              "      <td>0.880965</td>\n",
              "      <td>0.001</td>\n",
              "      <td>8</td>\n",
              "      <td>32</td>\n",
              "      <td>3</td>\n",
              "      <td>7625</td>\n",
              "      <td>11</td>\n",
              "      <td>3063</td>\n",
              "      <td>keras_preprocessing.text.Tokenizer</td>\n",
              "      <td>categorical_crossentropy</td>\n",
              "      <td>0.86</td>\n",
              "      <td>0.1</td>\n",
              "      <td>0.04</td>\n",
              "      <td>0.81</td>\n",
              "      <td>0.19</td>\n",
              "      <td>0.0</td>\n",
              "    </tr>\n",
              "  </tbody>\n",
              "</table>\n",
              "</div>"
            ],
            "text/plain": [
              "       loss  ...  test_class_proportion_hate\n",
              "0  1.701242  ...                         0.0\n",
              "1  0.706426  ...                         0.0\n",
              "2  0.470256  ...                         0.0\n",
              "3  0.335047  ...                         0.0\n",
              "4  0.254175  ...                         0.0\n",
              "\n",
              "[5 rows x 23 columns]"
            ]
          },
          "metadata": {
            "tags": []
          },
          "execution_count": 416
        }
      ]
    },
    {
      "cell_type": "code",
      "metadata": {
        "id": "puM7VOTTshEt"
      },
      "source": [
        "name = '/content/drive/MyDrive/IAS/NLP_and_Web/report/training_logs_'+ movie_names[movie_index]+ '.csv'\n",
        "df_results.to_csv(name)"
      ],
      "execution_count": null,
      "outputs": []
    },
    {
      "cell_type": "code",
      "metadata": {
        "id": "QfMZzRfhs6bI"
      },
      "source": [
        "def plot_loss(path, ax, title):\n",
        "    df = pd.read_csv(path)\n",
        "    df.loss.plot(kind='line', legend=True, title=title, ax=ax, figsize=(15,8))\n",
        "    ax.legend(loc='upper right')\n",
        "    plt.xlabel('Step') \n",
        "    plt.ylabel('Loss')"
      ],
      "execution_count": null,
      "outputs": []
    },
    {
      "cell_type": "code",
      "metadata": {
        "colab": {
          "base_uri": "https://localhost:8080/",
          "height": 513
        },
        "id": "HQUXupp5s-Am",
        "outputId": "7d6f2d18-e9a7-4dbe-fd28-b3b3dd6856eb"
      },
      "source": [
        "fig, axs = plt.subplots(1,1)\n",
        "path = '/content/drive/MyDrive/IAS/NLP_and_Web/report/training_logs_'+ movie_names[movie_index]+ '.csv'\n",
        "plot_loss(path, axs, title='Loss LSTM for Movies Dataset')"
      ],
      "execution_count": null,
      "outputs": [
        {
          "output_type": "display_data",
          "data": {
            "image/png": "[encoded data removed]",
            "text/plain": [
              "<Figure size 1080x576 with 1 Axes>"
            ]
          },
          "metadata": {
            "tags": [],
            "needs_background": "light"
          }
        }
      ]
    },
    {
      "cell_type": "markdown",
      "metadata": {
        "id": "qY3yUWXM208u"
      },
      "source": [
        "###Average the Results"
      ]
    },
    {
      "cell_type": "code",
      "metadata": {
        "id": "CVrd5cB_20WJ"
      },
      "source": [
        "def load_df(path):\n",
        "    movie_name = path.split('/')[-1].replace('matrix_report_','').split('.')[0]\n",
        "    #name = path.split('.')[0]\n",
        "    df = pd.read_csv(path)\n",
        "    df['movie_name'] = movie_name\n",
        "    df = df.rename(columns={'Unnamed: 0': 'label'})\n",
        "    return df"
      ],
      "execution_count": null,
      "outputs": []
    },
    {
      "cell_type": "code",
      "metadata": {
        "id": "5PeD2b949Lea"
      },
      "source": [
        "report_file = ['TheWolfofWallStreet.csv', 'South_Park.csv', 'Pulp_Fiction.csv', 'Django_Unchained.csv', 'AmerricanHistoryX.csv', 'BlacKkKlansman.csv']"
      ],
      "execution_count": null,
      "outputs": []
    },
    {
      "cell_type": "code",
      "metadata": {
        "id": "taX-vdyS9Tih"
      },
      "source": [
        "dataframes = []\n",
        "for report in report_file:\n",
        "    df = load_df('/content/drive/MyDrive/IAS/NLP_and_Web/report/matrix_report_'+ report)\n",
        "    dataframes.append(df)\n",
        "result_df = pd.concat(dataframes)"
      ],
      "execution_count": null,
      "outputs": []
    },
    {
      "cell_type": "code",
      "metadata": {
        "colab": {
          "base_uri": "https://localhost:8080/",
          "height": 1000
        },
        "id": "BRBxNUui9pMY",
        "outputId": "7f166a81-0063-43de-ddf5-934ff1420eed"
      },
      "source": [
        "result_df"
      ],
      "execution_count": null,
      "outputs": [
        {
          "output_type": "execute_result",
          "data": {
            "text/html": [
              "<div>\n",
              "<style scoped>\n",
              "    .dataframe tbody tr th:only-of-type {\n",
              "        vertical-align: middle;\n",
              "    }\n",
              "\n",
              "    .dataframe tbody tr th {\n",
              "        vertical-align: top;\n",
              "    }\n",
              "\n",
              "    .dataframe thead th {\n",
              "        text-align: right;\n",
              "    }\n",
              "</style>\n",
              "<table border=\"1\" class=\"dataframe\">\n",
              "  <thead>\n",
              "    <tr style=\"text-align: right;\">\n",
              "      <th></th>\n",
              "      <th>label</th>\n",
              "      <th>precision</th>\n",
              "      <th>recall</th>\n",
              "      <th>f1-score</th>\n",
              "      <th>support</th>\n",
              "      <th>movie_name</th>\n",
              "    </tr>\n",
              "  </thead>\n",
              "  <tbody>\n",
              "    <tr>\n",
              "      <th>0</th>\n",
              "      <td>normal</td>\n",
              "      <td>0.917102</td>\n",
              "      <td>0.992724</td>\n",
              "      <td>0.953416</td>\n",
              "      <td>2474.000000</td>\n",
              "      <td>TheWolfofWallStreet</td>\n",
              "    </tr>\n",
              "    <tr>\n",
              "      <th>1</th>\n",
              "      <td>offensive</td>\n",
              "      <td>0.953247</td>\n",
              "      <td>0.625213</td>\n",
              "      <td>0.755144</td>\n",
              "      <td>587.000000</td>\n",
              "      <td>TheWolfofWallStreet</td>\n",
              "    </tr>\n",
              "    <tr>\n",
              "      <th>2</th>\n",
              "      <td>hate</td>\n",
              "      <td>0.000000</td>\n",
              "      <td>0.000000</td>\n",
              "      <td>0.000000</td>\n",
              "      <td>2.000000</td>\n",
              "      <td>TheWolfofWallStreet</td>\n",
              "    </tr>\n",
              "    <tr>\n",
              "      <th>3</th>\n",
              "      <td>accuracy</td>\n",
              "      <td>0.921645</td>\n",
              "      <td>0.921645</td>\n",
              "      <td>0.921645</td>\n",
              "      <td>0.921645</td>\n",
              "      <td>TheWolfofWallStreet</td>\n",
              "    </tr>\n",
              "    <tr>\n",
              "      <th>4</th>\n",
              "      <td>macro avg</td>\n",
              "      <td>0.623450</td>\n",
              "      <td>0.539312</td>\n",
              "      <td>0.569520</td>\n",
              "      <td>3063.000000</td>\n",
              "      <td>TheWolfofWallStreet</td>\n",
              "    </tr>\n",
              "    <tr>\n",
              "      <th>5</th>\n",
              "      <td>weighted avg</td>\n",
              "      <td>0.923430</td>\n",
              "      <td>0.921645</td>\n",
              "      <td>0.914796</td>\n",
              "      <td>3063.000000</td>\n",
              "      <td>TheWolfofWallStreet</td>\n",
              "    </tr>\n",
              "    <tr>\n",
              "      <th>0</th>\n",
              "      <td>normal</td>\n",
              "      <td>0.914195</td>\n",
              "      <td>0.969663</td>\n",
              "      <td>0.941112</td>\n",
              "      <td>890.000000</td>\n",
              "      <td>South_Park</td>\n",
              "    </tr>\n",
              "    <tr>\n",
              "      <th>1</th>\n",
              "      <td>offensive</td>\n",
              "      <td>0.712871</td>\n",
              "      <td>0.496552</td>\n",
              "      <td>0.585366</td>\n",
              "      <td>145.000000</td>\n",
              "      <td>South_Park</td>\n",
              "    </tr>\n",
              "    <tr>\n",
              "      <th>2</th>\n",
              "      <td>hate</td>\n",
              "      <td>0.000000</td>\n",
              "      <td>0.000000</td>\n",
              "      <td>0.000000</td>\n",
              "      <td>11.000000</td>\n",
              "      <td>South_Park</td>\n",
              "    </tr>\n",
              "    <tr>\n",
              "      <th>3</th>\n",
              "      <td>accuracy</td>\n",
              "      <td>0.893881</td>\n",
              "      <td>0.893881</td>\n",
              "      <td>0.893881</td>\n",
              "      <td>0.893881</td>\n",
              "      <td>South_Park</td>\n",
              "    </tr>\n",
              "    <tr>\n",
              "      <th>4</th>\n",
              "      <td>macro avg</td>\n",
              "      <td>0.542355</td>\n",
              "      <td>0.488738</td>\n",
              "      <td>0.508826</td>\n",
              "      <td>1046.000000</td>\n",
              "      <td>South_Park</td>\n",
              "    </tr>\n",
              "    <tr>\n",
              "      <th>5</th>\n",
              "      <td>weighted avg</td>\n",
              "      <td>0.876673</td>\n",
              "      <td>0.893881</td>\n",
              "      <td>0.881901</td>\n",
              "      <td>1046.000000</td>\n",
              "      <td>South_Park</td>\n",
              "    </tr>\n",
              "    <tr>\n",
              "      <th>0</th>\n",
              "      <td>normal</td>\n",
              "      <td>0.895833</td>\n",
              "      <td>0.935484</td>\n",
              "      <td>0.915229</td>\n",
              "      <td>1333.000000</td>\n",
              "      <td>Pulp_Fiction</td>\n",
              "    </tr>\n",
              "    <tr>\n",
              "      <th>1</th>\n",
              "      <td>offensive</td>\n",
              "      <td>0.594595</td>\n",
              "      <td>0.498113</td>\n",
              "      <td>0.542094</td>\n",
              "      <td>265.000000</td>\n",
              "      <td>Pulp_Fiction</td>\n",
              "    </tr>\n",
              "    <tr>\n",
              "      <th>2</th>\n",
              "      <td>hate</td>\n",
              "      <td>0.500000</td>\n",
              "      <td>0.166667</td>\n",
              "      <td>0.250000</td>\n",
              "      <td>24.000000</td>\n",
              "      <td>Pulp_Fiction</td>\n",
              "    </tr>\n",
              "    <tr>\n",
              "      <th>3</th>\n",
              "      <td>accuracy</td>\n",
              "      <td>0.852651</td>\n",
              "      <td>0.852651</td>\n",
              "      <td>0.852651</td>\n",
              "      <td>0.852651</td>\n",
              "      <td>Pulp_Fiction</td>\n",
              "    </tr>\n",
              "    <tr>\n",
              "      <th>4</th>\n",
              "      <td>macro avg</td>\n",
              "      <td>0.663476</td>\n",
              "      <td>0.533421</td>\n",
              "      <td>0.569108</td>\n",
              "      <td>1622.000000</td>\n",
              "      <td>Pulp_Fiction</td>\n",
              "    </tr>\n",
              "    <tr>\n",
              "      <th>5</th>\n",
              "      <td>weighted avg</td>\n",
              "      <td>0.840760</td>\n",
              "      <td>0.852651</td>\n",
              "      <td>0.844424</td>\n",
              "      <td>1622.000000</td>\n",
              "      <td>Pulp_Fiction</td>\n",
              "    </tr>\n",
              "    <tr>\n",
              "      <th>0</th>\n",
              "      <td>normal</td>\n",
              "      <td>0.934985</td>\n",
              "      <td>0.973565</td>\n",
              "      <td>0.953885</td>\n",
              "      <td>1551.000000</td>\n",
              "      <td>Django_Unchained</td>\n",
              "    </tr>\n",
              "    <tr>\n",
              "      <th>1</th>\n",
              "      <td>offensive</td>\n",
              "      <td>0.330709</td>\n",
              "      <td>0.531646</td>\n",
              "      <td>0.407767</td>\n",
              "      <td>79.000000</td>\n",
              "      <td>Django_Unchained</td>\n",
              "    </tr>\n",
              "    <tr>\n",
              "      <th>2</th>\n",
              "      <td>hate</td>\n",
              "      <td>0.800000</td>\n",
              "      <td>0.034188</td>\n",
              "      <td>0.065574</td>\n",
              "      <td>117.000000</td>\n",
              "      <td>Django_Unchained</td>\n",
              "    </tr>\n",
              "    <tr>\n",
              "      <th>3</th>\n",
              "      <td>accuracy</td>\n",
              "      <td>0.890670</td>\n",
              "      <td>0.890670</td>\n",
              "      <td>0.890670</td>\n",
              "      <td>0.890670</td>\n",
              "      <td>Django_Unchained</td>\n",
              "    </tr>\n",
              "    <tr>\n",
              "      <th>4</th>\n",
              "      <td>macro avg</td>\n",
              "      <td>0.688564</td>\n",
              "      <td>0.513133</td>\n",
              "      <td>0.475742</td>\n",
              "      <td>1747.000000</td>\n",
              "      <td>Django_Unchained</td>\n",
              "    </tr>\n",
              "    <tr>\n",
              "      <th>5</th>\n",
              "      <td>weighted avg</td>\n",
              "      <td>0.898619</td>\n",
              "      <td>0.890670</td>\n",
              "      <td>0.869697</td>\n",
              "      <td>1747.000000</td>\n",
              "      <td>Django_Unchained</td>\n",
              "    </tr>\n",
              "    <tr>\n",
              "      <th>0</th>\n",
              "      <td>normal</td>\n",
              "      <td>0.942279</td>\n",
              "      <td>0.963957</td>\n",
              "      <td>0.952995</td>\n",
              "      <td>1304.000000</td>\n",
              "      <td>AmerricanHistoryX</td>\n",
              "    </tr>\n",
              "    <tr>\n",
              "      <th>1</th>\n",
              "      <td>offensive</td>\n",
              "      <td>0.654867</td>\n",
              "      <td>0.714976</td>\n",
              "      <td>0.683603</td>\n",
              "      <td>207.000000</td>\n",
              "      <td>AmerricanHistoryX</td>\n",
              "    </tr>\n",
              "    <tr>\n",
              "      <th>2</th>\n",
              "      <td>hate</td>\n",
              "      <td>1.000000</td>\n",
              "      <td>0.092593</td>\n",
              "      <td>0.169492</td>\n",
              "      <td>54.000000</td>\n",
              "      <td>AmerricanHistoryX</td>\n",
              "    </tr>\n",
              "    <tr>\n",
              "      <th>3</th>\n",
              "      <td>accuracy</td>\n",
              "      <td>0.900958</td>\n",
              "      <td>0.900958</td>\n",
              "      <td>0.900958</td>\n",
              "      <td>0.900958</td>\n",
              "      <td>AmerricanHistoryX</td>\n",
              "    </tr>\n",
              "    <tr>\n",
              "      <th>4</th>\n",
              "      <td>macro avg</td>\n",
              "      <td>0.865715</td>\n",
              "      <td>0.590508</td>\n",
              "      <td>0.602030</td>\n",
              "      <td>1565.000000</td>\n",
              "      <td>AmerricanHistoryX</td>\n",
              "    </tr>\n",
              "    <tr>\n",
              "      <th>5</th>\n",
              "      <td>weighted avg</td>\n",
              "      <td>0.906255</td>\n",
              "      <td>0.900958</td>\n",
              "      <td>0.890328</td>\n",
              "      <td>1565.000000</td>\n",
              "      <td>AmerricanHistoryX</td>\n",
              "    </tr>\n",
              "    <tr>\n",
              "      <th>0</th>\n",
              "      <td>normal</td>\n",
              "      <td>0.933117</td>\n",
              "      <td>0.982900</td>\n",
              "      <td>0.957362</td>\n",
              "      <td>1462.000000</td>\n",
              "      <td>BlacKkKlansman</td>\n",
              "    </tr>\n",
              "    <tr>\n",
              "      <th>1</th>\n",
              "      <td>offensive</td>\n",
              "      <td>0.474227</td>\n",
              "      <td>0.474227</td>\n",
              "      <td>0.474227</td>\n",
              "      <td>97.000000</td>\n",
              "      <td>BlacKkKlansman</td>\n",
              "    </tr>\n",
              "    <tr>\n",
              "      <th>2</th>\n",
              "      <td>hate</td>\n",
              "      <td>1.000000</td>\n",
              "      <td>0.093023</td>\n",
              "      <td>0.170213</td>\n",
              "      <td>86.000000</td>\n",
              "      <td>BlacKkKlansman</td>\n",
              "    </tr>\n",
              "    <tr>\n",
              "      <th>3</th>\n",
              "      <td>accuracy</td>\n",
              "      <td>0.906383</td>\n",
              "      <td>0.906383</td>\n",
              "      <td>0.906383</td>\n",
              "      <td>0.906383</td>\n",
              "      <td>BlacKkKlansman</td>\n",
              "    </tr>\n",
              "    <tr>\n",
              "      <th>4</th>\n",
              "      <td>macro avg</td>\n",
              "      <td>0.802448</td>\n",
              "      <td>0.516717</td>\n",
              "      <td>0.533934</td>\n",
              "      <td>1645.000000</td>\n",
              "      <td>BlacKkKlansman</td>\n",
              "    </tr>\n",
              "    <tr>\n",
              "      <th>5</th>\n",
              "      <td>weighted avg</td>\n",
              "      <td>0.909554</td>\n",
              "      <td>0.906383</td>\n",
              "      <td>0.887721</td>\n",
              "      <td>1645.000000</td>\n",
              "      <td>BlacKkKlansman</td>\n",
              "    </tr>\n",
              "  </tbody>\n",
              "</table>\n",
              "</div>"
            ],
            "text/plain": [
              "          label  precision  ...      support           movie_name\n",
              "0        normal   0.917102  ...  2474.000000  TheWolfofWallStreet\n",
              "1     offensive   0.953247  ...   587.000000  TheWolfofWallStreet\n",
              "2          hate   0.000000  ...     2.000000  TheWolfofWallStreet\n",
              "3      accuracy   0.921645  ...     0.921645  TheWolfofWallStreet\n",
              "4     macro avg   0.623450  ...  3063.000000  TheWolfofWallStreet\n",
              "5  weighted avg   0.923430  ...  3063.000000  TheWolfofWallStreet\n",
              "0        normal   0.914195  ...   890.000000           South_Park\n",
              "1     offensive   0.712871  ...   145.000000           South_Park\n",
              "2          hate   0.000000  ...    11.000000           South_Park\n",
              "3      accuracy   0.893881  ...     0.893881           South_Park\n",
              "4     macro avg   0.542355  ...  1046.000000           South_Park\n",
              "5  weighted avg   0.876673  ...  1046.000000           South_Park\n",
              "0        normal   0.895833  ...  1333.000000         Pulp_Fiction\n",
              "1     offensive   0.594595  ...   265.000000         Pulp_Fiction\n",
              "2          hate   0.500000  ...    24.000000         Pulp_Fiction\n",
              "3      accuracy   0.852651  ...     0.852651         Pulp_Fiction\n",
              "4     macro avg   0.663476  ...  1622.000000         Pulp_Fiction\n",
              "5  weighted avg   0.840760  ...  1622.000000         Pulp_Fiction\n",
              "0        normal   0.934985  ...  1551.000000     Django_Unchained\n",
              "1     offensive   0.330709  ...    79.000000     Django_Unchained\n",
              "2          hate   0.800000  ...   117.000000     Django_Unchained\n",
              "3      accuracy   0.890670  ...     0.890670     Django_Unchained\n",
              "4     macro avg   0.688564  ...  1747.000000     Django_Unchained\n",
              "5  weighted avg   0.898619  ...  1747.000000     Django_Unchained\n",
              "0        normal   0.942279  ...  1304.000000    AmerricanHistoryX\n",
              "1     offensive   0.654867  ...   207.000000    AmerricanHistoryX\n",
              "2          hate   1.000000  ...    54.000000    AmerricanHistoryX\n",
              "3      accuracy   0.900958  ...     0.900958    AmerricanHistoryX\n",
              "4     macro avg   0.865715  ...  1565.000000    AmerricanHistoryX\n",
              "5  weighted avg   0.906255  ...  1565.000000    AmerricanHistoryX\n",
              "0        normal   0.933117  ...  1462.000000       BlacKkKlansman\n",
              "1     offensive   0.474227  ...    97.000000       BlacKkKlansman\n",
              "2          hate   1.000000  ...    86.000000       BlacKkKlansman\n",
              "3      accuracy   0.906383  ...     0.906383       BlacKkKlansman\n",
              "4     macro avg   0.802448  ...  1645.000000       BlacKkKlansman\n",
              "5  weighted avg   0.909554  ...  1645.000000       BlacKkKlansman\n",
              "\n",
              "[36 rows x 6 columns]"
            ]
          },
          "metadata": {
            "tags": []
          },
          "execution_count": 423
        }
      ]
    },
    {
      "cell_type": "code",
      "metadata": {
        "id": "4J8IUwTh9t8T"
      },
      "source": [
        "def get_precision_recall_f1(category):\n",
        "    precision = result_df[result_df.label==category].precision.mean()\n",
        "    recall = result_df[result_df.label==category].recall.mean()\n",
        "    f1 = result_df[result_df.label==category]['f1-score'].mean()\n",
        "    macro_avg_f1 = result_df[result_df.label=='macro avg']['f1-score'].mean()\n",
        "    \n",
        "    return {'label': category, 'precision': precision, 'recall': recall, 'f1': f1, 'macro_avg_f1':macro_avg_f1 }"
      ],
      "execution_count": null,
      "outputs": []
    },
    {
      "cell_type": "code",
      "metadata": {
        "id": "VyMI11X19wKL"
      },
      "source": [
        "normal_dict = get_precision_recall_f1('normal')\n",
        "offensive_dict = get_precision_recall_f1('offensive')\n",
        "hate_dict = get_precision_recall_f1('hate')"
      ],
      "execution_count": null,
      "outputs": []
    },
    {
      "cell_type": "code",
      "metadata": {
        "colab": {
          "base_uri": "https://localhost:8080/",
          "height": 142
        },
        "id": "NEAxtX8t9zWz",
        "outputId": "8c757dab-c893-45a7-b427-56102071e002"
      },
      "source": [
        "df_result = pd.DataFrame([normal_dict, offensive_dict, hate_dict])\n",
        "df_result"
      ],
      "execution_count": null,
      "outputs": [
        {
          "output_type": "execute_result",
          "data": {
            "text/html": [
              "<div>\n",
              "<style scoped>\n",
              "    .dataframe tbody tr th:only-of-type {\n",
              "        vertical-align: middle;\n",
              "    }\n",
              "\n",
              "    .dataframe tbody tr th {\n",
              "        vertical-align: top;\n",
              "    }\n",
              "\n",
              "    .dataframe thead th {\n",
              "        text-align: right;\n",
              "    }\n",
              "</style>\n",
              "<table border=\"1\" class=\"dataframe\">\n",
              "  <thead>\n",
              "    <tr style=\"text-align: right;\">\n",
              "      <th></th>\n",
              "      <th>label</th>\n",
              "      <th>precision</th>\n",
              "      <th>recall</th>\n",
              "      <th>f1</th>\n",
              "      <th>macro_avg_f1</th>\n",
              "    </tr>\n",
              "  </thead>\n",
              "  <tbody>\n",
              "    <tr>\n",
              "      <th>0</th>\n",
              "      <td>normal</td>\n",
              "      <td>0.922918</td>\n",
              "      <td>0.969716</td>\n",
              "      <td>0.945667</td>\n",
              "      <td>0.543193</td>\n",
              "    </tr>\n",
              "    <tr>\n",
              "      <th>1</th>\n",
              "      <td>offensive</td>\n",
              "      <td>0.620086</td>\n",
              "      <td>0.556788</td>\n",
              "      <td>0.574700</td>\n",
              "      <td>0.543193</td>\n",
              "    </tr>\n",
              "    <tr>\n",
              "      <th>2</th>\n",
              "      <td>hate</td>\n",
              "      <td>0.550000</td>\n",
              "      <td>0.064412</td>\n",
              "      <td>0.109213</td>\n",
              "      <td>0.543193</td>\n",
              "    </tr>\n",
              "  </tbody>\n",
              "</table>\n",
              "</div>"
            ],
            "text/plain": [
              "       label  precision    recall        f1  macro_avg_f1\n",
              "0     normal   0.922918  0.969716  0.945667      0.543193\n",
              "1  offensive   0.620086  0.556788  0.574700      0.543193\n",
              "2       hate   0.550000  0.064412  0.109213      0.543193"
            ]
          },
          "metadata": {
            "tags": []
          },
          "execution_count": 426
        }
      ]
    },
    {
      "cell_type": "markdown",
      "metadata": {
        "id": "0sXe2ZwgsQYD"
      },
      "source": [
        "###Testing in HateXplain model"
      ]
    },
    {
      "cell_type": "code",
      "metadata": {
        "id": "dqCRtSw8sZQo"
      },
      "source": [
        ""
      ],
      "execution_count": null,
      "outputs": []
    }
  ]
}