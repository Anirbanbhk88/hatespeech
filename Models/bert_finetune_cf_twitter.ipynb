{
  "nbformat": 4,
  "nbformat_minor": 0,
  "metadata": {
    "colab": {
      "name": "bert_finetune_cf_twitter.ipynb",
      "provenance": []
    },
    "kernelspec": {
      "name": "python3",
      "display_name": "Python 3"
    },
    "language_info": {
      "name": "python"
    },
    "accelerator": "GPU",
    "widgets": {
      "application/vnd.jupyter.widget-state+json": {
        "6a8ebdf20fee4f0992bd5c6bbc2b873c": {
          "model_module": "@jupyter-widgets/controls",
          "model_name": "HBoxModel",
          "state": {
            "_view_name": "HBoxView",
            "_dom_classes": [],
            "_model_name": "HBoxModel",
            "_view_module": "@jupyter-widgets/controls",
            "_model_module_version": "1.5.0",
            "_view_count": null,
            "_view_module_version": "1.5.0",
            "box_style": "",
            "layout": "IPY_MODEL_be08294eec554e06a88e9017362f030e",
            "_model_module": "@jupyter-widgets/controls",
            "children": [
              "IPY_MODEL_7e8e01887bc34ccb89202a5333ec0025",
              "IPY_MODEL_b6b1e1e3cde243e1a92cc4cea0b19139"
            ]
          }
        },
        "be08294eec554e06a88e9017362f030e": {
          "model_module": "@jupyter-widgets/base",
          "model_name": "LayoutModel",
          "state": {
            "_view_name": "LayoutView",
            "grid_template_rows": null,
            "right": null,
            "justify_content": null,
            "_view_module": "@jupyter-widgets/base",
            "overflow": null,
            "_model_module_version": "1.2.0",
            "_view_count": null,
            "flex_flow": null,
            "width": null,
            "min_width": null,
            "border": null,
            "align_items": null,
            "bottom": null,
            "_model_module": "@jupyter-widgets/base",
            "top": null,
            "grid_column": null,
            "overflow_y": null,
            "overflow_x": null,
            "grid_auto_flow": null,
            "grid_area": null,
            "grid_template_columns": null,
            "flex": null,
            "_model_name": "LayoutModel",
            "justify_items": null,
            "grid_row": null,
            "max_height": null,
            "align_content": null,
            "visibility": null,
            "align_self": null,
            "height": null,
            "min_height": null,
            "padding": null,
            "grid_auto_rows": null,
            "grid_gap": null,
            "max_width": null,
            "order": null,
            "_view_module_version": "1.2.0",
            "grid_template_areas": null,
            "object_position": null,
            "object_fit": null,
            "grid_auto_columns": null,
            "margin": null,
            "display": null,
            "left": null
          }
        },
        "7e8e01887bc34ccb89202a5333ec0025": {
          "model_module": "@jupyter-widgets/controls",
          "model_name": "FloatProgressModel",
          "state": {
            "_view_name": "ProgressView",
            "style": "IPY_MODEL_107bc9fa4fa9459dbaee7b9babea1da4",
            "_dom_classes": [],
            "description": "Downloading: 100%",
            "_model_name": "FloatProgressModel",
            "bar_style": "success",
            "max": 570,
            "_view_module": "@jupyter-widgets/controls",
            "_model_module_version": "1.5.0",
            "value": 570,
            "_view_count": null,
            "_view_module_version": "1.5.0",
            "orientation": "horizontal",
            "min": 0,
            "description_tooltip": null,
            "_model_module": "@jupyter-widgets/controls",
            "layout": "IPY_MODEL_e241c1b922e040b6b7b8d697786b3296"
          }
        },
        "b6b1e1e3cde243e1a92cc4cea0b19139": {
          "model_module": "@jupyter-widgets/controls",
          "model_name": "HTMLModel",
          "state": {
            "_view_name": "HTMLView",
            "style": "IPY_MODEL_21f77f48c2284180a4334a8da2330cdf",
            "_dom_classes": [],
            "description": "",
            "_model_name": "HTMLModel",
            "placeholder": "​",
            "_view_module": "@jupyter-widgets/controls",
            "_model_module_version": "1.5.0",
            "value": " 570/570 [00:16&lt;00:00, 34.7B/s]",
            "_view_count": null,
            "_view_module_version": "1.5.0",
            "description_tooltip": null,
            "_model_module": "@jupyter-widgets/controls",
            "layout": "IPY_MODEL_2f9cd7ea1aad4ab5a4ce298f14ec4a72"
          }
        },
        "107bc9fa4fa9459dbaee7b9babea1da4": {
          "model_module": "@jupyter-widgets/controls",
          "model_name": "ProgressStyleModel",
          "state": {
            "_view_name": "StyleView",
            "_model_name": "ProgressStyleModel",
            "description_width": "initial",
            "_view_module": "@jupyter-widgets/base",
            "_model_module_version": "1.5.0",
            "_view_count": null,
            "_view_module_version": "1.2.0",
            "bar_color": null,
            "_model_module": "@jupyter-widgets/controls"
          }
        },
        "e241c1b922e040b6b7b8d697786b3296": {
          "model_module": "@jupyter-widgets/base",
          "model_name": "LayoutModel",
          "state": {
            "_view_name": "LayoutView",
            "grid_template_rows": null,
            "right": null,
            "justify_content": null,
            "_view_module": "@jupyter-widgets/base",
            "overflow": null,
            "_model_module_version": "1.2.0",
            "_view_count": null,
            "flex_flow": null,
            "width": null,
            "min_width": null,
            "border": null,
            "align_items": null,
            "bottom": null,
            "_model_module": "@jupyter-widgets/base",
            "top": null,
            "grid_column": null,
            "overflow_y": null,
            "overflow_x": null,
            "grid_auto_flow": null,
            "grid_area": null,
            "grid_template_columns": null,
            "flex": null,
            "_model_name": "LayoutModel",
            "justify_items": null,
            "grid_row": null,
            "max_height": null,
            "align_content": null,
            "visibility": null,
            "align_self": null,
            "height": null,
            "min_height": null,
            "padding": null,
            "grid_auto_rows": null,
            "grid_gap": null,
            "max_width": null,
            "order": null,
            "_view_module_version": "1.2.0",
            "grid_template_areas": null,
            "object_position": null,
            "object_fit": null,
            "grid_auto_columns": null,
            "margin": null,
            "display": null,
            "left": null
          }
        },
        "21f77f48c2284180a4334a8da2330cdf": {
          "model_module": "@jupyter-widgets/controls",
          "model_name": "DescriptionStyleModel",
          "state": {
            "_view_name": "StyleView",
            "_model_name": "DescriptionStyleModel",
            "description_width": "",
            "_view_module": "@jupyter-widgets/base",
            "_model_module_version": "1.5.0",
            "_view_count": null,
            "_view_module_version": "1.2.0",
            "_model_module": "@jupyter-widgets/controls"
          }
        },
        "2f9cd7ea1aad4ab5a4ce298f14ec4a72": {
          "model_module": "@jupyter-widgets/base",
          "model_name": "LayoutModel",
          "state": {
            "_view_name": "LayoutView",
            "grid_template_rows": null,
            "right": null,
            "justify_content": null,
            "_view_module": "@jupyter-widgets/base",
            "overflow": null,
            "_model_module_version": "1.2.0",
            "_view_count": null,
            "flex_flow": null,
            "width": null,
            "min_width": null,
            "border": null,
            "align_items": null,
            "bottom": null,
            "_model_module": "@jupyter-widgets/base",
            "top": null,
            "grid_column": null,
            "overflow_y": null,
            "overflow_x": null,
            "grid_auto_flow": null,
            "grid_area": null,
            "grid_template_columns": null,
            "flex": null,
            "_model_name": "LayoutModel",
            "justify_items": null,
            "grid_row": null,
            "max_height": null,
            "align_content": null,
            "visibility": null,
            "align_self": null,
            "height": null,
            "min_height": null,
            "padding": null,
            "grid_auto_rows": null,
            "grid_gap": null,
            "max_width": null,
            "order": null,
            "_view_module_version": "1.2.0",
            "grid_template_areas": null,
            "object_position": null,
            "object_fit": null,
            "grid_auto_columns": null,
            "margin": null,
            "display": null,
            "left": null
          }
        },
        "380273b4ea6d43d8a46a2f2c65ad5d71": {
          "model_module": "@jupyter-widgets/controls",
          "model_name": "HBoxModel",
          "state": {
            "_view_name": "HBoxView",
            "_dom_classes": [],
            "_model_name": "HBoxModel",
            "_view_module": "@jupyter-widgets/controls",
            "_model_module_version": "1.5.0",
            "_view_count": null,
            "_view_module_version": "1.5.0",
            "box_style": "",
            "layout": "IPY_MODEL_eed5d0e18a2a4ea98e4e6a0140d11127",
            "_model_module": "@jupyter-widgets/controls",
            "children": [
              "IPY_MODEL_f8d9476dbca7439da41a856930e3d5c9",
              "IPY_MODEL_f6fc7a6da48042fc95f2a33f019dac82"
            ]
          }
        },
        "eed5d0e18a2a4ea98e4e6a0140d11127": {
          "model_module": "@jupyter-widgets/base",
          "model_name": "LayoutModel",
          "state": {
            "_view_name": "LayoutView",
            "grid_template_rows": null,
            "right": null,
            "justify_content": null,
            "_view_module": "@jupyter-widgets/base",
            "overflow": null,
            "_model_module_version": "1.2.0",
            "_view_count": null,
            "flex_flow": null,
            "width": null,
            "min_width": null,
            "border": null,
            "align_items": null,
            "bottom": null,
            "_model_module": "@jupyter-widgets/base",
            "top": null,
            "grid_column": null,
            "overflow_y": null,
            "overflow_x": null,
            "grid_auto_flow": null,
            "grid_area": null,
            "grid_template_columns": null,
            "flex": null,
            "_model_name": "LayoutModel",
            "justify_items": null,
            "grid_row": null,
            "max_height": null,
            "align_content": null,
            "visibility": null,
            "align_self": null,
            "height": null,
            "min_height": null,
            "padding": null,
            "grid_auto_rows": null,
            "grid_gap": null,
            "max_width": null,
            "order": null,
            "_view_module_version": "1.2.0",
            "grid_template_areas": null,
            "object_position": null,
            "object_fit": null,
            "grid_auto_columns": null,
            "margin": null,
            "display": null,
            "left": null
          }
        },
        "f8d9476dbca7439da41a856930e3d5c9": {
          "model_module": "@jupyter-widgets/controls",
          "model_name": "FloatProgressModel",
          "state": {
            "_view_name": "ProgressView",
            "style": "IPY_MODEL_0458e693c60347ff80fecce3de17e317",
            "_dom_classes": [],
            "description": "Downloading: 100%",
            "_model_name": "FloatProgressModel",
            "bar_style": "success",
            "max": 536063208,
            "_view_module": "@jupyter-widgets/controls",
            "_model_module_version": "1.5.0",
            "value": 536063208,
            "_view_count": null,
            "_view_module_version": "1.5.0",
            "orientation": "horizontal",
            "min": 0,
            "description_tooltip": null,
            "_model_module": "@jupyter-widgets/controls",
            "layout": "IPY_MODEL_d361027b4da14080b0f9c5ccb2400679"
          }
        },
        "f6fc7a6da48042fc95f2a33f019dac82": {
          "model_module": "@jupyter-widgets/controls",
          "model_name": "HTMLModel",
          "state": {
            "_view_name": "HTMLView",
            "style": "IPY_MODEL_98565f39bfee4171acdcc4c41aab9547",
            "_dom_classes": [],
            "description": "",
            "_model_name": "HTMLModel",
            "placeholder": "​",
            "_view_module": "@jupyter-widgets/controls",
            "_model_module_version": "1.5.0",
            "value": " 536M/536M [00:15&lt;00:00, 33.7MB/s]",
            "_view_count": null,
            "_view_module_version": "1.5.0",
            "description_tooltip": null,
            "_model_module": "@jupyter-widgets/controls",
            "layout": "IPY_MODEL_0fb2602faf5441f4b830b2e7b01fb4ad"
          }
        },
        "0458e693c60347ff80fecce3de17e317": {
          "model_module": "@jupyter-widgets/controls",
          "model_name": "ProgressStyleModel",
          "state": {
            "_view_name": "StyleView",
            "_model_name": "ProgressStyleModel",
            "description_width": "initial",
            "_view_module": "@jupyter-widgets/base",
            "_model_module_version": "1.5.0",
            "_view_count": null,
            "_view_module_version": "1.2.0",
            "bar_color": null,
            "_model_module": "@jupyter-widgets/controls"
          }
        },
        "d361027b4da14080b0f9c5ccb2400679": {
          "model_module": "@jupyter-widgets/base",
          "model_name": "LayoutModel",
          "state": {
            "_view_name": "LayoutView",
            "grid_template_rows": null,
            "right": null,
            "justify_content": null,
            "_view_module": "@jupyter-widgets/base",
            "overflow": null,
            "_model_module_version": "1.2.0",
            "_view_count": null,
            "flex_flow": null,
            "width": null,
            "min_width": null,
            "border": null,
            "align_items": null,
            "bottom": null,
            "_model_module": "@jupyter-widgets/base",
            "top": null,
            "grid_column": null,
            "overflow_y": null,
            "overflow_x": null,
            "grid_auto_flow": null,
            "grid_area": null,
            "grid_template_columns": null,
            "flex": null,
            "_model_name": "LayoutModel",
            "justify_items": null,
            "grid_row": null,
            "max_height": null,
            "align_content": null,
            "visibility": null,
            "align_self": null,
            "height": null,
            "min_height": null,
            "padding": null,
            "grid_auto_rows": null,
            "grid_gap": null,
            "max_width": null,
            "order": null,
            "_view_module_version": "1.2.0",
            "grid_template_areas": null,
            "object_position": null,
            "object_fit": null,
            "grid_auto_columns": null,
            "margin": null,
            "display": null,
            "left": null
          }
        },
        "98565f39bfee4171acdcc4c41aab9547": {
          "model_module": "@jupyter-widgets/controls",
          "model_name": "DescriptionStyleModel",
          "state": {
            "_view_name": "StyleView",
            "_model_name": "DescriptionStyleModel",
            "description_width": "",
            "_view_module": "@jupyter-widgets/base",
            "_model_module_version": "1.5.0",
            "_view_count": null,
            "_view_module_version": "1.2.0",
            "_model_module": "@jupyter-widgets/controls"
          }
        },
        "0fb2602faf5441f4b830b2e7b01fb4ad": {
          "model_module": "@jupyter-widgets/base",
          "model_name": "LayoutModel",
          "state": {
            "_view_name": "LayoutView",
            "grid_template_rows": null,
            "right": null,
            "justify_content": null,
            "_view_module": "@jupyter-widgets/base",
            "overflow": null,
            "_model_module_version": "1.2.0",
            "_view_count": null,
            "flex_flow": null,
            "width": null,
            "min_width": null,
            "border": null,
            "align_items": null,
            "bottom": null,
            "_model_module": "@jupyter-widgets/base",
            "top": null,
            "grid_column": null,
            "overflow_y": null,
            "overflow_x": null,
            "grid_auto_flow": null,
            "grid_area": null,
            "grid_template_columns": null,
            "flex": null,
            "_model_name": "LayoutModel",
            "justify_items": null,
            "grid_row": null,
            "max_height": null,
            "align_content": null,
            "visibility": null,
            "align_self": null,
            "height": null,
            "min_height": null,
            "padding": null,
            "grid_auto_rows": null,
            "grid_gap": null,
            "max_width": null,
            "order": null,
            "_view_module_version": "1.2.0",
            "grid_template_areas": null,
            "object_position": null,
            "object_fit": null,
            "grid_auto_columns": null,
            "margin": null,
            "display": null,
            "left": null
          }
        },
        "48a0b62269cf4fe2b73d12da533dac07": {
          "model_module": "@jupyter-widgets/controls",
          "model_name": "HBoxModel",
          "state": {
            "_view_name": "HBoxView",
            "_dom_classes": [],
            "_model_name": "HBoxModel",
            "_view_module": "@jupyter-widgets/controls",
            "_model_module_version": "1.5.0",
            "_view_count": null,
            "_view_module_version": "1.5.0",
            "box_style": "",
            "layout": "IPY_MODEL_46555703dc5d4db3b707fccc2b4003db",
            "_model_module": "@jupyter-widgets/controls",
            "children": [
              "IPY_MODEL_d41c8ce7bafa4884b79daf3397975ca3",
              "IPY_MODEL_aa51a61325944589ad8a40ec3e56f581"
            ]
          }
        },
        "46555703dc5d4db3b707fccc2b4003db": {
          "model_module": "@jupyter-widgets/base",
          "model_name": "LayoutModel",
          "state": {
            "_view_name": "LayoutView",
            "grid_template_rows": null,
            "right": null,
            "justify_content": null,
            "_view_module": "@jupyter-widgets/base",
            "overflow": null,
            "_model_module_version": "1.2.0",
            "_view_count": null,
            "flex_flow": null,
            "width": null,
            "min_width": null,
            "border": null,
            "align_items": null,
            "bottom": null,
            "_model_module": "@jupyter-widgets/base",
            "top": null,
            "grid_column": null,
            "overflow_y": null,
            "overflow_x": null,
            "grid_auto_flow": null,
            "grid_area": null,
            "grid_template_columns": null,
            "flex": null,
            "_model_name": "LayoutModel",
            "justify_items": null,
            "grid_row": null,
            "max_height": null,
            "align_content": null,
            "visibility": null,
            "align_self": null,
            "height": null,
            "min_height": null,
            "padding": null,
            "grid_auto_rows": null,
            "grid_gap": null,
            "max_width": null,
            "order": null,
            "_view_module_version": "1.2.0",
            "grid_template_areas": null,
            "object_position": null,
            "object_fit": null,
            "grid_auto_columns": null,
            "margin": null,
            "display": null,
            "left": null
          }
        },
        "d41c8ce7bafa4884b79daf3397975ca3": {
          "model_module": "@jupyter-widgets/controls",
          "model_name": "FloatProgressModel",
          "state": {
            "_view_name": "ProgressView",
            "style": "IPY_MODEL_758b0f864c5948c897e9f6ea43490990",
            "_dom_classes": [],
            "description": "Downloading: 100%",
            "_model_name": "FloatProgressModel",
            "bar_style": "success",
            "max": 231508,
            "_view_module": "@jupyter-widgets/controls",
            "_model_module_version": "1.5.0",
            "value": 231508,
            "_view_count": null,
            "_view_module_version": "1.5.0",
            "orientation": "horizontal",
            "min": 0,
            "description_tooltip": null,
            "_model_module": "@jupyter-widgets/controls",
            "layout": "IPY_MODEL_43e3565fd6b64ec386ae335e9da07a92"
          }
        },
        "aa51a61325944589ad8a40ec3e56f581": {
          "model_module": "@jupyter-widgets/controls",
          "model_name": "HTMLModel",
          "state": {
            "_view_name": "HTMLView",
            "style": "IPY_MODEL_892830db08ba41169807cbcf638b7436",
            "_dom_classes": [],
            "description": "",
            "_model_name": "HTMLModel",
            "placeholder": "​",
            "_view_module": "@jupyter-widgets/controls",
            "_model_module_version": "1.5.0",
            "value": " 232k/232k [00:01&lt;00:00, 220kB/s]",
            "_view_count": null,
            "_view_module_version": "1.5.0",
            "description_tooltip": null,
            "_model_module": "@jupyter-widgets/controls",
            "layout": "IPY_MODEL_c63763ee3662434a9e77b19dedde1cc7"
          }
        },
        "758b0f864c5948c897e9f6ea43490990": {
          "model_module": "@jupyter-widgets/controls",
          "model_name": "ProgressStyleModel",
          "state": {
            "_view_name": "StyleView",
            "_model_name": "ProgressStyleModel",
            "description_width": "initial",
            "_view_module": "@jupyter-widgets/base",
            "_model_module_version": "1.5.0",
            "_view_count": null,
            "_view_module_version": "1.2.0",
            "bar_color": null,
            "_model_module": "@jupyter-widgets/controls"
          }
        },
        "43e3565fd6b64ec386ae335e9da07a92": {
          "model_module": "@jupyter-widgets/base",
          "model_name": "LayoutModel",
          "state": {
            "_view_name": "LayoutView",
            "grid_template_rows": null,
            "right": null,
            "justify_content": null,
            "_view_module": "@jupyter-widgets/base",
            "overflow": null,
            "_model_module_version": "1.2.0",
            "_view_count": null,
            "flex_flow": null,
            "width": null,
            "min_width": null,
            "border": null,
            "align_items": null,
            "bottom": null,
            "_model_module": "@jupyter-widgets/base",
            "top": null,
            "grid_column": null,
            "overflow_y": null,
            "overflow_x": null,
            "grid_auto_flow": null,
            "grid_area": null,
            "grid_template_columns": null,
            "flex": null,
            "_model_name": "LayoutModel",
            "justify_items": null,
            "grid_row": null,
            "max_height": null,
            "align_content": null,
            "visibility": null,
            "align_self": null,
            "height": null,
            "min_height": null,
            "padding": null,
            "grid_auto_rows": null,
            "grid_gap": null,
            "max_width": null,
            "order": null,
            "_view_module_version": "1.2.0",
            "grid_template_areas": null,
            "object_position": null,
            "object_fit": null,
            "grid_auto_columns": null,
            "margin": null,
            "display": null,
            "left": null
          }
        },
        "892830db08ba41169807cbcf638b7436": {
          "model_module": "@jupyter-widgets/controls",
          "model_name": "DescriptionStyleModel",
          "state": {
            "_view_name": "StyleView",
            "_model_name": "DescriptionStyleModel",
            "description_width": "",
            "_view_module": "@jupyter-widgets/base",
            "_model_module_version": "1.5.0",
            "_view_count": null,
            "_view_module_version": "1.2.0",
            "_model_module": "@jupyter-widgets/controls"
          }
        },
        "c63763ee3662434a9e77b19dedde1cc7": {
          "model_module": "@jupyter-widgets/base",
          "model_name": "LayoutModel",
          "state": {
            "_view_name": "LayoutView",
            "grid_template_rows": null,
            "right": null,
            "justify_content": null,
            "_view_module": "@jupyter-widgets/base",
            "overflow": null,
            "_model_module_version": "1.2.0",
            "_view_count": null,
            "flex_flow": null,
            "width": null,
            "min_width": null,
            "border": null,
            "align_items": null,
            "bottom": null,
            "_model_module": "@jupyter-widgets/base",
            "top": null,
            "grid_column": null,
            "overflow_y": null,
            "overflow_x": null,
            "grid_auto_flow": null,
            "grid_area": null,
            "grid_template_columns": null,
            "flex": null,
            "_model_name": "LayoutModel",
            "justify_items": null,
            "grid_row": null,
            "max_height": null,
            "align_content": null,
            "visibility": null,
            "align_self": null,
            "height": null,
            "min_height": null,
            "padding": null,
            "grid_auto_rows": null,
            "grid_gap": null,
            "max_width": null,
            "order": null,
            "_view_module_version": "1.2.0",
            "grid_template_areas": null,
            "object_position": null,
            "object_fit": null,
            "grid_auto_columns": null,
            "margin": null,
            "display": null,
            "left": null
          }
        },
        "d68eb487f77f4ab9819efb4545fe1efb": {
          "model_module": "@jupyter-widgets/controls",
          "model_name": "HBoxModel",
          "state": {
            "_view_name": "HBoxView",
            "_dom_classes": [],
            "_model_name": "HBoxModel",
            "_view_module": "@jupyter-widgets/controls",
            "_model_module_version": "1.5.0",
            "_view_count": null,
            "_view_module_version": "1.5.0",
            "box_style": "",
            "layout": "IPY_MODEL_ebca1ce3e98f4d099d47ab338bec947f",
            "_model_module": "@jupyter-widgets/controls",
            "children": [
              "IPY_MODEL_75c787ce35574c41ae57cccd2c8c4701",
              "IPY_MODEL_c8f5307c55a845a3840964d268d69476"
            ]
          }
        },
        "ebca1ce3e98f4d099d47ab338bec947f": {
          "model_module": "@jupyter-widgets/base",
          "model_name": "LayoutModel",
          "state": {
            "_view_name": "LayoutView",
            "grid_template_rows": null,
            "right": null,
            "justify_content": null,
            "_view_module": "@jupyter-widgets/base",
            "overflow": null,
            "_model_module_version": "1.2.0",
            "_view_count": null,
            "flex_flow": null,
            "width": null,
            "min_width": null,
            "border": null,
            "align_items": null,
            "bottom": null,
            "_model_module": "@jupyter-widgets/base",
            "top": null,
            "grid_column": null,
            "overflow_y": null,
            "overflow_x": null,
            "grid_auto_flow": null,
            "grid_area": null,
            "grid_template_columns": null,
            "flex": null,
            "_model_name": "LayoutModel",
            "justify_items": null,
            "grid_row": null,
            "max_height": null,
            "align_content": null,
            "visibility": null,
            "align_self": null,
            "height": null,
            "min_height": null,
            "padding": null,
            "grid_auto_rows": null,
            "grid_gap": null,
            "max_width": null,
            "order": null,
            "_view_module_version": "1.2.0",
            "grid_template_areas": null,
            "object_position": null,
            "object_fit": null,
            "grid_auto_columns": null,
            "margin": null,
            "display": null,
            "left": null
          }
        },
        "75c787ce35574c41ae57cccd2c8c4701": {
          "model_module": "@jupyter-widgets/controls",
          "model_name": "FloatProgressModel",
          "state": {
            "_view_name": "ProgressView",
            "style": "IPY_MODEL_1b26b82b11194d5bb1a9de427240490e",
            "_dom_classes": [],
            "description": "Downloading: 100%",
            "_model_name": "FloatProgressModel",
            "bar_style": "success",
            "max": 28,
            "_view_module": "@jupyter-widgets/controls",
            "_model_module_version": "1.5.0",
            "value": 28,
            "_view_count": null,
            "_view_module_version": "1.5.0",
            "orientation": "horizontal",
            "min": 0,
            "description_tooltip": null,
            "_model_module": "@jupyter-widgets/controls",
            "layout": "IPY_MODEL_4f3f6da0336c48fd92f9e15cb3f3ca41"
          }
        },
        "c8f5307c55a845a3840964d268d69476": {
          "model_module": "@jupyter-widgets/controls",
          "model_name": "HTMLModel",
          "state": {
            "_view_name": "HTMLView",
            "style": "IPY_MODEL_649cf684937a4d71a57bb6aab80094db",
            "_dom_classes": [],
            "description": "",
            "_model_name": "HTMLModel",
            "placeholder": "​",
            "_view_module": "@jupyter-widgets/controls",
            "_model_module_version": "1.5.0",
            "value": " 28.0/28.0 [01:02&lt;00:00, 2.22s/B]",
            "_view_count": null,
            "_view_module_version": "1.5.0",
            "description_tooltip": null,
            "_model_module": "@jupyter-widgets/controls",
            "layout": "IPY_MODEL_bc68c3bcb1bc46da93b04b1f178dce0d"
          }
        },
        "1b26b82b11194d5bb1a9de427240490e": {
          "model_module": "@jupyter-widgets/controls",
          "model_name": "ProgressStyleModel",
          "state": {
            "_view_name": "StyleView",
            "_model_name": "ProgressStyleModel",
            "description_width": "initial",
            "_view_module": "@jupyter-widgets/base",
            "_model_module_version": "1.5.0",
            "_view_count": null,
            "_view_module_version": "1.2.0",
            "bar_color": null,
            "_model_module": "@jupyter-widgets/controls"
          }
        },
        "4f3f6da0336c48fd92f9e15cb3f3ca41": {
          "model_module": "@jupyter-widgets/base",
          "model_name": "LayoutModel",
          "state": {
            "_view_name": "LayoutView",
            "grid_template_rows": null,
            "right": null,
            "justify_content": null,
            "_view_module": "@jupyter-widgets/base",
            "overflow": null,
            "_model_module_version": "1.2.0",
            "_view_count": null,
            "flex_flow": null,
            "width": null,
            "min_width": null,
            "border": null,
            "align_items": null,
            "bottom": null,
            "_model_module": "@jupyter-widgets/base",
            "top": null,
            "grid_column": null,
            "overflow_y": null,
            "overflow_x": null,
            "grid_auto_flow": null,
            "grid_area": null,
            "grid_template_columns": null,
            "flex": null,
            "_model_name": "LayoutModel",
            "justify_items": null,
            "grid_row": null,
            "max_height": null,
            "align_content": null,
            "visibility": null,
            "align_self": null,
            "height": null,
            "min_height": null,
            "padding": null,
            "grid_auto_rows": null,
            "grid_gap": null,
            "max_width": null,
            "order": null,
            "_view_module_version": "1.2.0",
            "grid_template_areas": null,
            "object_position": null,
            "object_fit": null,
            "grid_auto_columns": null,
            "margin": null,
            "display": null,
            "left": null
          }
        },
        "649cf684937a4d71a57bb6aab80094db": {
          "model_module": "@jupyter-widgets/controls",
          "model_name": "DescriptionStyleModel",
          "state": {
            "_view_name": "StyleView",
            "_model_name": "DescriptionStyleModel",
            "description_width": "",
            "_view_module": "@jupyter-widgets/base",
            "_model_module_version": "1.5.0",
            "_view_count": null,
            "_view_module_version": "1.2.0",
            "_model_module": "@jupyter-widgets/controls"
          }
        },
        "bc68c3bcb1bc46da93b04b1f178dce0d": {
          "model_module": "@jupyter-widgets/base",
          "model_name": "LayoutModel",
          "state": {
            "_view_name": "LayoutView",
            "grid_template_rows": null,
            "right": null,
            "justify_content": null,
            "_view_module": "@jupyter-widgets/base",
            "overflow": null,
            "_model_module_version": "1.2.0",
            "_view_count": null,
            "flex_flow": null,
            "width": null,
            "min_width": null,
            "border": null,
            "align_items": null,
            "bottom": null,
            "_model_module": "@jupyter-widgets/base",
            "top": null,
            "grid_column": null,
            "overflow_y": null,
            "overflow_x": null,
            "grid_auto_flow": null,
            "grid_area": null,
            "grid_template_columns": null,
            "flex": null,
            "_model_name": "LayoutModel",
            "justify_items": null,
            "grid_row": null,
            "max_height": null,
            "align_content": null,
            "visibility": null,
            "align_self": null,
            "height": null,
            "min_height": null,
            "padding": null,
            "grid_auto_rows": null,
            "grid_gap": null,
            "max_width": null,
            "order": null,
            "_view_module_version": "1.2.0",
            "grid_template_areas": null,
            "object_position": null,
            "object_fit": null,
            "grid_auto_columns": null,
            "margin": null,
            "display": null,
            "left": null
          }
        },
        "2656decdaed54c309dc24311c1935fd3": {
          "model_module": "@jupyter-widgets/controls",
          "model_name": "HBoxModel",
          "state": {
            "_view_name": "HBoxView",
            "_dom_classes": [],
            "_model_name": "HBoxModel",
            "_view_module": "@jupyter-widgets/controls",
            "_model_module_version": "1.5.0",
            "_view_count": null,
            "_view_module_version": "1.5.0",
            "box_style": "",
            "layout": "IPY_MODEL_73bb78f730db43d4aacfee0bd1e9f96e",
            "_model_module": "@jupyter-widgets/controls",
            "children": [
              "IPY_MODEL_d149275e0bcf4fef9333f9a8eb345e61",
              "IPY_MODEL_5e09fb7928a047e284bb2faa26e152c2"
            ]
          }
        },
        "73bb78f730db43d4aacfee0bd1e9f96e": {
          "model_module": "@jupyter-widgets/base",
          "model_name": "LayoutModel",
          "state": {
            "_view_name": "LayoutView",
            "grid_template_rows": null,
            "right": null,
            "justify_content": null,
            "_view_module": "@jupyter-widgets/base",
            "overflow": null,
            "_model_module_version": "1.2.0",
            "_view_count": null,
            "flex_flow": null,
            "width": null,
            "min_width": null,
            "border": null,
            "align_items": null,
            "bottom": null,
            "_model_module": "@jupyter-widgets/base",
            "top": null,
            "grid_column": null,
            "overflow_y": null,
            "overflow_x": null,
            "grid_auto_flow": null,
            "grid_area": null,
            "grid_template_columns": null,
            "flex": null,
            "_model_name": "LayoutModel",
            "justify_items": null,
            "grid_row": null,
            "max_height": null,
            "align_content": null,
            "visibility": null,
            "align_self": null,
            "height": null,
            "min_height": null,
            "padding": null,
            "grid_auto_rows": null,
            "grid_gap": null,
            "max_width": null,
            "order": null,
            "_view_module_version": "1.2.0",
            "grid_template_areas": null,
            "object_position": null,
            "object_fit": null,
            "grid_auto_columns": null,
            "margin": null,
            "display": null,
            "left": null
          }
        },
        "d149275e0bcf4fef9333f9a8eb345e61": {
          "model_module": "@jupyter-widgets/controls",
          "model_name": "FloatProgressModel",
          "state": {
            "_view_name": "ProgressView",
            "style": "IPY_MODEL_521625d60a834e29ac42047f345d77cb",
            "_dom_classes": [],
            "description": "Downloading: 100%",
            "_model_name": "FloatProgressModel",
            "bar_style": "success",
            "max": 466062,
            "_view_module": "@jupyter-widgets/controls",
            "_model_module_version": "1.5.0",
            "value": 466062,
            "_view_count": null,
            "_view_module_version": "1.5.0",
            "orientation": "horizontal",
            "min": 0,
            "description_tooltip": null,
            "_model_module": "@jupyter-widgets/controls",
            "layout": "IPY_MODEL_ffc9ee5f0f914f8b9b8535070b775add"
          }
        },
        "5e09fb7928a047e284bb2faa26e152c2": {
          "model_module": "@jupyter-widgets/controls",
          "model_name": "HTMLModel",
          "state": {
            "_view_name": "HTMLView",
            "style": "IPY_MODEL_72a56eb02c1f4768a72c113b7a512b01",
            "_dom_classes": [],
            "description": "",
            "_model_name": "HTMLModel",
            "placeholder": "​",
            "_view_module": "@jupyter-widgets/controls",
            "_model_module_version": "1.5.0",
            "value": " 466k/466k [00:00&lt;00:00, 1.43MB/s]",
            "_view_count": null,
            "_view_module_version": "1.5.0",
            "description_tooltip": null,
            "_model_module": "@jupyter-widgets/controls",
            "layout": "IPY_MODEL_606c122c2cf24a37a3549f0943e09d3e"
          }
        },
        "521625d60a834e29ac42047f345d77cb": {
          "model_module": "@jupyter-widgets/controls",
          "model_name": "ProgressStyleModel",
          "state": {
            "_view_name": "StyleView",
            "_model_name": "ProgressStyleModel",
            "description_width": "initial",
            "_view_module": "@jupyter-widgets/base",
            "_model_module_version": "1.5.0",
            "_view_count": null,
            "_view_module_version": "1.2.0",
            "bar_color": null,
            "_model_module": "@jupyter-widgets/controls"
          }
        },
        "ffc9ee5f0f914f8b9b8535070b775add": {
          "model_module": "@jupyter-widgets/base",
          "model_name": "LayoutModel",
          "state": {
            "_view_name": "LayoutView",
            "grid_template_rows": null,
            "right": null,
            "justify_content": null,
            "_view_module": "@jupyter-widgets/base",
            "overflow": null,
            "_model_module_version": "1.2.0",
            "_view_count": null,
            "flex_flow": null,
            "width": null,
            "min_width": null,
            "border": null,
            "align_items": null,
            "bottom": null,
            "_model_module": "@jupyter-widgets/base",
            "top": null,
            "grid_column": null,
            "overflow_y": null,
            "overflow_x": null,
            "grid_auto_flow": null,
            "grid_area": null,
            "grid_template_columns": null,
            "flex": null,
            "_model_name": "LayoutModel",
            "justify_items": null,
            "grid_row": null,
            "max_height": null,
            "align_content": null,
            "visibility": null,
            "align_self": null,
            "height": null,
            "min_height": null,
            "padding": null,
            "grid_auto_rows": null,
            "grid_gap": null,
            "max_width": null,
            "order": null,
            "_view_module_version": "1.2.0",
            "grid_template_areas": null,
            "object_position": null,
            "object_fit": null,
            "grid_auto_columns": null,
            "margin": null,
            "display": null,
            "left": null
          }
        },
        "72a56eb02c1f4768a72c113b7a512b01": {
          "model_module": "@jupyter-widgets/controls",
          "model_name": "DescriptionStyleModel",
          "state": {
            "_view_name": "StyleView",
            "_model_name": "DescriptionStyleModel",
            "description_width": "",
            "_view_module": "@jupyter-widgets/base",
            "_model_module_version": "1.5.0",
            "_view_count": null,
            "_view_module_version": "1.2.0",
            "_model_module": "@jupyter-widgets/controls"
          }
        },
        "606c122c2cf24a37a3549f0943e09d3e": {
          "model_module": "@jupyter-widgets/base",
          "model_name": "LayoutModel",
          "state": {
            "_view_name": "LayoutView",
            "grid_template_rows": null,
            "right": null,
            "justify_content": null,
            "_view_module": "@jupyter-widgets/base",
            "overflow": null,
            "_model_module_version": "1.2.0",
            "_view_count": null,
            "flex_flow": null,
            "width": null,
            "min_width": null,
            "border": null,
            "align_items": null,
            "bottom": null,
            "_model_module": "@jupyter-widgets/base",
            "top": null,
            "grid_column": null,
            "overflow_y": null,
            "overflow_x": null,
            "grid_auto_flow": null,
            "grid_area": null,
            "grid_template_columns": null,
            "flex": null,
            "_model_name": "LayoutModel",
            "justify_items": null,
            "grid_row": null,
            "max_height": null,
            "align_content": null,
            "visibility": null,
            "align_self": null,
            "height": null,
            "min_height": null,
            "padding": null,
            "grid_auto_rows": null,
            "grid_gap": null,
            "max_width": null,
            "order": null,
            "_view_module_version": "1.2.0",
            "grid_template_areas": null,
            "object_position": null,
            "object_fit": null,
            "grid_auto_columns": null,
            "margin": null,
            "display": null,
            "left": null
          }
        }
      }
    }
  },
  "cells": [
    {
      "cell_type": "code",
      "metadata": {
        "colab": {
          "base_uri": "https://localhost:8080/"
        },
        "id": "JsvBIx41liLy",
        "outputId": "7f81bcc6-8571-4530-da6f-2553c44ffe07"
      },
      "source": [
        "! pip install transformers"
      ],
      "execution_count": 4,
      "outputs": [
        {
          "output_type": "stream",
          "text": [
            "Requirement already satisfied: transformers in /usr/local/lib/python3.7/dist-packages (4.6.1)\n",
            "Requirement already satisfied: huggingface-hub==0.0.8 in /usr/local/lib/python3.7/dist-packages (from transformers) (0.0.8)\n",
            "Requirement already satisfied: requests in /usr/local/lib/python3.7/dist-packages (from transformers) (2.23.0)\n",
            "Requirement already satisfied: tokenizers<0.11,>=0.10.1 in /usr/local/lib/python3.7/dist-packages (from transformers) (0.10.2)\n",
            "Requirement already satisfied: regex!=2019.12.17 in /usr/local/lib/python3.7/dist-packages (from transformers) (2019.12.20)\n",
            "Requirement already satisfied: sacremoses in /usr/local/lib/python3.7/dist-packages (from transformers) (0.0.45)\n",
            "Requirement already satisfied: importlib-metadata; python_version < \"3.8\" in /usr/local/lib/python3.7/dist-packages (from transformers) (4.0.1)\n",
            "Requirement already satisfied: packaging in /usr/local/lib/python3.7/dist-packages (from transformers) (20.9)\n",
            "Requirement already satisfied: filelock in /usr/local/lib/python3.7/dist-packages (from transformers) (3.0.12)\n",
            "Requirement already satisfied: tqdm>=4.27 in /usr/local/lib/python3.7/dist-packages (from transformers) (4.41.1)\n",
            "Requirement already satisfied: numpy>=1.17 in /usr/local/lib/python3.7/dist-packages (from transformers) (1.19.5)\n",
            "Requirement already satisfied: chardet<4,>=3.0.2 in /usr/local/lib/python3.7/dist-packages (from requests->transformers) (3.0.4)\n",
            "Requirement already satisfied: certifi>=2017.4.17 in /usr/local/lib/python3.7/dist-packages (from requests->transformers) (2020.12.5)\n",
            "Requirement already satisfied: urllib3!=1.25.0,!=1.25.1,<1.26,>=1.21.1 in /usr/local/lib/python3.7/dist-packages (from requests->transformers) (1.24.3)\n",
            "Requirement already satisfied: idna<3,>=2.5 in /usr/local/lib/python3.7/dist-packages (from requests->transformers) (2.10)\n",
            "Requirement already satisfied: click in /usr/local/lib/python3.7/dist-packages (from sacremoses->transformers) (8.0.0)\n",
            "Requirement already satisfied: joblib in /usr/local/lib/python3.7/dist-packages (from sacremoses->transformers) (1.0.1)\n",
            "Requirement already satisfied: six in /usr/local/lib/python3.7/dist-packages (from sacremoses->transformers) (1.15.0)\n",
            "Requirement already satisfied: zipp>=0.5 in /usr/local/lib/python3.7/dist-packages (from importlib-metadata; python_version < \"3.8\"->transformers) (3.4.1)\n",
            "Requirement already satisfied: typing-extensions>=3.6.4; python_version < \"3.8\" in /usr/local/lib/python3.7/dist-packages (from importlib-metadata; python_version < \"3.8\"->transformers) (3.7.4.3)\n",
            "Requirement already satisfied: pyparsing>=2.0.2 in /usr/local/lib/python3.7/dist-packages (from packaging->transformers) (2.4.7)\n"
          ],
          "name": "stdout"
        }
      ]
    },
    {
      "cell_type": "code",
      "metadata": {
        "id": "669O3YyCkTcL"
      },
      "source": [
        "import pandas as pd\n",
        "import numpy as np\n",
        "import tensorflow as tf\n",
        "import glob\n",
        "from bert_train import train_bert\n",
        "\n"
      ],
      "execution_count": 5,
      "outputs": []
    },
    {
      "cell_type": "markdown",
      "metadata": {
        "id": "qNLCw68nFu8W"
      },
      "source": [
        "## Training on twitter dataset"
      ]
    },
    {
      "cell_type": "code",
      "metadata": {
        "id": "kEhwPu5AFuOs"
      },
      "source": [
        ""
      ],
      "execution_count": 5,
      "outputs": []
    },
    {
      "cell_type": "code",
      "metadata": {
        "id": "3YwUM7V6OewJ"
      },
      "source": [
        "import pandas as pd\n",
        "from matplotlib import pyplot as plt\n",
        "import numpy as np\n",
        "import re\n",
        "import tensorflow as tf\n",
        "from sklearn.model_selection import train_test_split\n",
        "from sklearn.metrics import classification_report\n",
        "import os"
      ],
      "execution_count": 6,
      "outputs": []
    },
    {
      "cell_type": "markdown",
      "metadata": {
        "id": "jrG4iXRJrAvE"
      },
      "source": [
        "#### Initialize bert classification model"
      ]
    },
    {
      "cell_type": "code",
      "metadata": {
        "colab": {
          "base_uri": "https://localhost:8080/",
          "height": 353,
          "referenced_widgets": [
            "6a8ebdf20fee4f0992bd5c6bbc2b873c",
            "be08294eec554e06a88e9017362f030e",
            "7e8e01887bc34ccb89202a5333ec0025",
            "b6b1e1e3cde243e1a92cc4cea0b19139",
            "107bc9fa4fa9459dbaee7b9babea1da4",
            "e241c1b922e040b6b7b8d697786b3296",
            "21f77f48c2284180a4334a8da2330cdf",
            "2f9cd7ea1aad4ab5a4ce298f14ec4a72",
            "380273b4ea6d43d8a46a2f2c65ad5d71",
            "eed5d0e18a2a4ea98e4e6a0140d11127",
            "f8d9476dbca7439da41a856930e3d5c9",
            "f6fc7a6da48042fc95f2a33f019dac82",
            "0458e693c60347ff80fecce3de17e317",
            "d361027b4da14080b0f9c5ccb2400679",
            "98565f39bfee4171acdcc4c41aab9547",
            "0fb2602faf5441f4b830b2e7b01fb4ad",
            "48a0b62269cf4fe2b73d12da533dac07",
            "46555703dc5d4db3b707fccc2b4003db",
            "d41c8ce7bafa4884b79daf3397975ca3",
            "aa51a61325944589ad8a40ec3e56f581",
            "758b0f864c5948c897e9f6ea43490990",
            "43e3565fd6b64ec386ae335e9da07a92",
            "892830db08ba41169807cbcf638b7436",
            "c63763ee3662434a9e77b19dedde1cc7",
            "d68eb487f77f4ab9819efb4545fe1efb",
            "ebca1ce3e98f4d099d47ab338bec947f",
            "75c787ce35574c41ae57cccd2c8c4701",
            "c8f5307c55a845a3840964d268d69476",
            "1b26b82b11194d5bb1a9de427240490e",
            "4f3f6da0336c48fd92f9e15cb3f3ca41",
            "649cf684937a4d71a57bb6aab80094db",
            "bc68c3bcb1bc46da93b04b1f178dce0d",
            "2656decdaed54c309dc24311c1935fd3",
            "73bb78f730db43d4aacfee0bd1e9f96e",
            "d149275e0bcf4fef9333f9a8eb345e61",
            "5e09fb7928a047e284bb2faa26e152c2",
            "521625d60a834e29ac42047f345d77cb",
            "ffc9ee5f0f914f8b9b8535070b775add",
            "72a56eb02c1f4768a72c113b7a512b01",
            "606c122c2cf24a37a3549f0943e09d3e"
          ]
        },
        "id": "SI4UAcYcOpxc",
        "outputId": "adbadf89-d7ac-4a57-a541-9ed2d9f1133b"
      },
      "source": [
        "from transformers import BertTokenizer, TFBertForSequenceClassification\n",
        "from transformers import InputExample, InputFeatures\n",
        "\n",
        "model = TFBertForSequenceClassification.from_pretrained(\"bert-base-uncased\", \n",
        "                                                        trainable=True, \n",
        "                                                        num_labels=3)\n",
        "tokenizer = BertTokenizer.from_pretrained(\"bert-base-uncased\")"
      ],
      "execution_count": 7,
      "outputs": [
        {
          "output_type": "display_data",
          "data": {
            "application/vnd.jupyter.widget-view+json": {
              "model_id": "6a8ebdf20fee4f0992bd5c6bbc2b873c",
              "version_minor": 0,
              "version_major": 2
            },
            "text/plain": [
              "HBox(children=(FloatProgress(value=0.0, description='Downloading', max=570.0, style=ProgressStyle(description_…"
            ]
          },
          "metadata": {
            "tags": []
          }
        },
        {
          "output_type": "stream",
          "text": [
            "\n"
          ],
          "name": "stdout"
        },
        {
          "output_type": "display_data",
          "data": {
            "application/vnd.jupyter.widget-view+json": {
              "model_id": "380273b4ea6d43d8a46a2f2c65ad5d71",
              "version_minor": 0,
              "version_major": 2
            },
            "text/plain": [
              "HBox(children=(FloatProgress(value=0.0, description='Downloading', max=536063208.0, style=ProgressStyle(descri…"
            ]
          },
          "metadata": {
            "tags": []
          }
        },
        {
          "output_type": "stream",
          "text": [
            "\n"
          ],
          "name": "stdout"
        },
        {
          "output_type": "stream",
          "text": [
            "All model checkpoint layers were used when initializing TFBertForSequenceClassification.\n",
            "\n",
            "Some layers of TFBertForSequenceClassification were not initialized from the model checkpoint at bert-base-uncased and are newly initialized: ['classifier']\n",
            "You should probably TRAIN this model on a down-stream task to be able to use it for predictions and inference.\n"
          ],
          "name": "stderr"
        },
        {
          "output_type": "display_data",
          "data": {
            "application/vnd.jupyter.widget-view+json": {
              "model_id": "48a0b62269cf4fe2b73d12da533dac07",
              "version_minor": 0,
              "version_major": 2
            },
            "text/plain": [
              "HBox(children=(FloatProgress(value=0.0, description='Downloading', max=231508.0, style=ProgressStyle(descripti…"
            ]
          },
          "metadata": {
            "tags": []
          }
        },
        {
          "output_type": "stream",
          "text": [
            "\n"
          ],
          "name": "stdout"
        },
        {
          "output_type": "display_data",
          "data": {
            "application/vnd.jupyter.widget-view+json": {
              "model_id": "d68eb487f77f4ab9819efb4545fe1efb",
              "version_minor": 0,
              "version_major": 2
            },
            "text/plain": [
              "HBox(children=(FloatProgress(value=0.0, description='Downloading', max=28.0, style=ProgressStyle(description_w…"
            ]
          },
          "metadata": {
            "tags": []
          }
        },
        {
          "output_type": "stream",
          "text": [
            "\n"
          ],
          "name": "stdout"
        },
        {
          "output_type": "display_data",
          "data": {
            "application/vnd.jupyter.widget-view+json": {
              "model_id": "2656decdaed54c309dc24311c1935fd3",
              "version_minor": 0,
              "version_major": 2
            },
            "text/plain": [
              "HBox(children=(FloatProgress(value=0.0, description='Downloading', max=466062.0, style=ProgressStyle(descripti…"
            ]
          },
          "metadata": {
            "tags": []
          }
        },
        {
          "output_type": "stream",
          "text": [
            "\n"
          ],
          "name": "stdout"
        }
      ]
    },
    {
      "cell_type": "code",
      "metadata": {
        "id": "tXpzylZOGzpT"
      },
      "source": [
        "checkpoint_path = \"training_1/cp.ckpt\"\n",
        "checkpoint_dir = os.path.dirname(checkpoint_path)\n",
        "cp_callback = tf.keras.callbacks.ModelCheckpoint(filepath=checkpoint_path,\n",
        "                                                 save_weights_only=True,\n",
        "                                                 verbose=1)"
      ],
      "execution_count": 8,
      "outputs": []
    },
    {
      "cell_type": "code",
      "metadata": {
        "id": "kd0PtS8gQqaq",
        "colab": {
          "base_uri": "https://localhost:8080/"
        },
        "outputId": "14d2ff69-550d-4186-b11c-7a35f7d97aa3"
      },
      "source": [
        "df = pd.read_csv(\"data/twitter.csv\")\n",
        "df = df.drop(columns=['Unnamed: 0'])\n",
        "df['tweet'] = df['tweet'].str.strip()\n",
        "df.count()"
      ],
      "execution_count": 9,
      "outputs": [
        {
          "output_type": "execute_result",
          "data": {
            "text/plain": [
              "tweet    24472\n",
              "label    24472\n",
              "dtype: int64"
            ]
          },
          "metadata": {
            "tags": []
          },
          "execution_count": 9
        }
      ]
    },
    {
      "cell_type": "code",
      "metadata": {
        "colab": {
          "base_uri": "https://localhost:8080/"
        },
        "id": "6p4uB34gSwbI",
        "outputId": "c3bb5ee6-f92e-4d5f-fede-4bef80991c5e"
      },
      "source": [
        "df.info()"
      ],
      "execution_count": 10,
      "outputs": [
        {
          "output_type": "stream",
          "text": [
            "<class 'pandas.core.frame.DataFrame'>\n",
            "RangeIndex: 24472 entries, 0 to 24471\n",
            "Data columns (total 2 columns):\n",
            " #   Column  Non-Null Count  Dtype \n",
            "---  ------  --------------  ----- \n",
            " 0   tweet   24472 non-null  object\n",
            " 1   label   24472 non-null  int64 \n",
            "dtypes: int64(1), object(1)\n",
            "memory usage: 382.5+ KB\n"
          ],
          "name": "stdout"
        }
      ]
    },
    {
      "cell_type": "code",
      "metadata": {
        "id": "0zjTXZXeHWg0"
      },
      "source": [
        "def get_dataset(df, seed, test_size):\n",
        "    return train_test_split(df, test_size=test_size, random_state=seed, shuffle=True)"
      ],
      "execution_count": 11,
      "outputs": []
    },
    {
      "cell_type": "code",
      "metadata": {
        "id": "CgefoUK4RODW"
      },
      "source": [
        "train, test = get_dataset(df, 11, 0.2)"
      ],
      "execution_count": 12,
      "outputs": []
    },
    {
      "cell_type": "code",
      "metadata": {
        "id": "0pTTeOk6uVeE"
      },
      "source": [
        "train = train.append(test)"
      ],
      "execution_count": 13,
      "outputs": []
    },
    {
      "cell_type": "code",
      "metadata": {
        "colab": {
          "base_uri": "https://localhost:8080/"
        },
        "id": "fKcwAZ0SIAmS",
        "outputId": "71d405a6-b63a-4bda-e2d5-01ff58c50f2c"
      },
      "source": [
        "train.info()"
      ],
      "execution_count": 14,
      "outputs": [
        {
          "output_type": "stream",
          "text": [
            "<class 'pandas.core.frame.DataFrame'>\n",
            "Int64Index: 24472 entries, 11983 to 24279\n",
            "Data columns (total 2 columns):\n",
            " #   Column  Non-Null Count  Dtype \n",
            "---  ------  --------------  ----- \n",
            " 0   tweet   24472 non-null  object\n",
            " 1   label   24472 non-null  int64 \n",
            "dtypes: int64(1), object(1)\n",
            "memory usage: 573.6+ KB\n"
          ],
          "name": "stdout"
        }
      ]
    },
    {
      "cell_type": "code",
      "metadata": {
        "id": "fjBp7e80WqCQ"
      },
      "source": [
        "train.columns = ['DATA_COLUMN', 'LABEL_COLUMN']\n",
        "test.columns = ['DATA_COLUMN', 'LABEL_COLUMN']"
      ],
      "execution_count": 16,
      "outputs": []
    },
    {
      "cell_type": "code",
      "metadata": {
        "id": "_cdRKItSW0Cz"
      },
      "source": [
        "def convert_data_to_examples(train, test, DATA_COLUMN, LABEL_COLUMN): \n",
        "  train_InputExamples = train.apply(lambda x: InputExample(guid=None, # Globally unique ID for bookkeeping, unused in this case\n",
        "                                                          text_a = x[DATA_COLUMN], \n",
        "                                                          text_b = None,\n",
        "                                                          label = x[LABEL_COLUMN]), axis = 1)\n",
        "\n",
        "  validation_InputExamples = test.apply(lambda x: InputExample(guid=None, # Globally unique ID for bookkeeping, unused in this case\n",
        "                                                          text_a = x[DATA_COLUMN], \n",
        "                                                          text_b = None,\n",
        "                                                          label = x[LABEL_COLUMN]), axis = 1)\n",
        "  \n",
        "  return train_InputExamples, validation_InputExamples\n",
        "\n",
        "  train_InputExamples, validation_InputExamples = convert_data_to_examples(train, \n",
        "                                                                           test, \n",
        "                                                                           'DATA_COLUMN', \n",
        "                                                                           'LABEL_COLUMN')\n",
        "  \n",
        "def convert_examples_to_tf_dataset(examples, tokenizer, max_length=128):\n",
        "    features = [] # -> will hold InputFeatures to be converted later\n",
        "\n",
        "    for e in examples:\n",
        "        # Documentation is really strong for this method, so please take a look at it\n",
        "        input_dict = tokenizer.encode_plus(\n",
        "            e.text_a,\n",
        "            add_special_tokens=True,\n",
        "            max_length=max_length, # truncates if len(s) > max_length\n",
        "            return_token_type_ids=True,\n",
        "            return_attention_mask=True,\n",
        "            pad_to_max_length=True, # pads to the right by default # CHECK THIS for pad_to_max_length\n",
        "            truncation=True\n",
        "        )\n",
        "\n",
        "        input_ids, token_type_ids, attention_mask = (input_dict[\"input_ids\"],\n",
        "            input_dict[\"token_type_ids\"], input_dict['attention_mask'])\n",
        "\n",
        "        features.append(\n",
        "            InputFeatures(\n",
        "                input_ids=input_ids, attention_mask=attention_mask, token_type_ids=token_type_ids, label=e.label\n",
        "            )\n",
        "        )\n",
        "\n",
        "    def gen():\n",
        "        for f in features:\n",
        "            yield (\n",
        "                {\n",
        "                    \"input_ids\": f.input_ids,\n",
        "                    \"attention_mask\": f.attention_mask,\n",
        "                    \"token_type_ids\": f.token_type_ids,\n",
        "                },\n",
        "                f.label,\n",
        "            )\n",
        "\n",
        "    return tf.data.Dataset.from_generator(\n",
        "        gen,\n",
        "        ({\"input_ids\": tf.int32, \"attention_mask\": tf.int32, \"token_type_ids\": tf.int32}, tf.int64),\n",
        "        (\n",
        "            {\n",
        "                \"input_ids\": tf.TensorShape([None]),\n",
        "                \"attention_mask\": tf.TensorShape([None]),\n",
        "                \"token_type_ids\": tf.TensorShape([None]),\n",
        "            },\n",
        "            tf.TensorShape([]),\n",
        "        ),\n",
        "    )\n",
        "\n",
        "\n",
        "DATA_COLUMN = 'DATA_COLUMN'\n",
        "LABEL_COLUMN = 'LABEL_COLUMN'"
      ],
      "execution_count": 17,
      "outputs": []
    },
    {
      "cell_type": "code",
      "metadata": {
        "colab": {
          "base_uri": "https://localhost:8080/"
        },
        "id": "mOm1oM-HXaby",
        "outputId": "739b95d3-42da-4192-a70b-7d84d38c08ac"
      },
      "source": [
        "train_InputExamples, validation_InputExamples = convert_data_to_examples(train, test, DATA_COLUMN, LABEL_COLUMN)\n",
        "\n",
        "train_data = convert_examples_to_tf_dataset(list(train_InputExamples), tokenizer)\n",
        "train_data = train_data.batch(32)\n",
        "\n",
        "validation_data = convert_examples_to_tf_dataset(list(validation_InputExamples), tokenizer)\n",
        "validation_data = validation_data.batch(32)"
      ],
      "execution_count": 18,
      "outputs": [
        {
          "output_type": "stream",
          "text": [
            "/usr/local/lib/python3.7/dist-packages/transformers/tokenization_utils_base.py:2110: FutureWarning: The `pad_to_max_length` argument is deprecated and will be removed in a future version, use `padding=True` or `padding='longest'` to pad to the longest sequence in the batch, or use `padding='max_length'` to pad to a max length. In this case, you can give a specific length with `max_length` (e.g. `max_length=45`) or leave max_length to None to pad to the maximal input size of the model (e.g. 512 for Bert).\n",
            "  FutureWarning,\n"
          ],
          "name": "stderr"
        }
      ]
    },
    {
      "cell_type": "code",
      "metadata": {
        "id": "ujXS3VX8XjpE"
      },
      "source": [
        "model.compile(optimizer=tf.keras.optimizers.Adam(learning_rate=3e-5, epsilon=1e-08, clipnorm=1.0), \n",
        "              loss=tf.keras.losses.SparseCategoricalCrossentropy(from_logits=True), \n",
        "              metrics=[tf.keras.metrics.SparseCategoricalAccuracy('accuracy')])\n",
        "\n"
      ],
      "execution_count": 20,
      "outputs": []
    },
    {
      "cell_type": "code",
      "metadata": {
        "colab": {
          "base_uri": "https://localhost:8080/"
        },
        "id": "hhGM8DV9VEsc",
        "outputId": "0b376213-35a4-4160-fb8f-1f50dcfe526b"
      },
      "source": [
        "hist = model.fit(train_data, epochs=6, validation_data=validation_data, callbacks=[cp_callback])"
      ],
      "execution_count": 21,
      "outputs": [
        {
          "output_type": "stream",
          "text": [
            "Epoch 1/6\n",
            "WARNING:tensorflow:The parameters `output_attentions`, `output_hidden_states` and `use_cache` cannot be updated when calling a model.They have to be set to True/False in the config object (i.e.: `config=XConfig.from_pretrained('name', output_attentions=True)`).\n",
            "WARNING:tensorflow:AutoGraph could not transform <bound method Socket.send of <zmq.sugar.socket.Socket object at 0x7f64cbec3de0>> and will run it as-is.\n",
            "Please report this to the TensorFlow team. When filing the bug, set the verbosity to 10 (on Linux, `export AUTOGRAPH_VERBOSITY=10`) and attach the full output.\n",
            "Cause: module, class, method, function, traceback, frame, or code object was expected, got cython_function_or_method\n",
            "To silence this warning, decorate the function with @tf.autograph.experimental.do_not_convert\n",
            "WARNING: AutoGraph could not transform <bound method Socket.send of <zmq.sugar.socket.Socket object at 0x7f64cbec3de0>> and will run it as-is.\n",
            "Please report this to the TensorFlow team. When filing the bug, set the verbosity to 10 (on Linux, `export AUTOGRAPH_VERBOSITY=10`) and attach the full output.\n",
            "Cause: module, class, method, function, traceback, frame, or code object was expected, got cython_function_or_method\n",
            "To silence this warning, decorate the function with @tf.autograph.experimental.do_not_convert\n",
            "WARNING:tensorflow:AutoGraph could not transform <function wrap at 0x7f64e7769d40> and will run it as-is.\n",
            "Cause: while/else statement not yet supported\n",
            "To silence this warning, decorate the function with @tf.autograph.experimental.do_not_convert\n",
            "WARNING: AutoGraph could not transform <function wrap at 0x7f64e7769d40> and will run it as-is.\n",
            "Cause: while/else statement not yet supported\n",
            "To silence this warning, decorate the function with @tf.autograph.experimental.do_not_convert\n",
            "WARNING:tensorflow:The parameter `return_dict` cannot be set in graph mode and will always be set to `True`.\n",
            "WARNING:tensorflow:The parameters `output_attentions`, `output_hidden_states` and `use_cache` cannot be updated when calling a model.They have to be set to True/False in the config object (i.e.: `config=XConfig.from_pretrained('name', output_attentions=True)`).\n",
            "WARNING:tensorflow:The parameter `return_dict` cannot be set in graph mode and will always be set to `True`.\n",
            "    765/Unknown - 656s 790ms/step - loss: 0.3546 - accuracy: 0.8850WARNING:tensorflow:The parameters `output_attentions`, `output_hidden_states` and `use_cache` cannot be updated when calling a model.They have to be set to True/False in the config object (i.e.: `config=XConfig.from_pretrained('name', output_attentions=True)`).\n",
            "WARNING:tensorflow:The parameter `return_dict` cannot be set in graph mode and will always be set to `True`.\n",
            "765/765 [==============================] - 702s 850ms/step - loss: 0.3545 - accuracy: 0.8850 - val_loss: 0.1861 - val_accuracy: 0.9379\n",
            "\n",
            "Epoch 00001: saving model to training_1/cp.ckpt\n",
            "Epoch 2/6\n",
            "765/765 [==============================] - 654s 855ms/step - loss: 0.2245 - accuracy: 0.9182 - val_loss: 0.1242 - val_accuracy: 0.9583\n",
            "\n",
            "Epoch 00002: saving model to training_1/cp.ckpt\n",
            "Epoch 3/6\n",
            "765/765 [==============================] - 654s 855ms/step - loss: 0.1733 - accuracy: 0.9369 - val_loss: 0.0660 - val_accuracy: 0.9818\n",
            "\n",
            "Epoch 00003: saving model to training_1/cp.ckpt\n",
            "Epoch 4/6\n",
            "765/765 [==============================] - 654s 856ms/step - loss: 0.1240 - accuracy: 0.9572 - val_loss: 0.0311 - val_accuracy: 0.9937\n",
            "\n",
            "Epoch 00004: saving model to training_1/cp.ckpt\n",
            "Epoch 5/6\n",
            "765/765 [==============================] - 654s 855ms/step - loss: 0.0827 - accuracy: 0.9746 - val_loss: 0.0189 - val_accuracy: 0.9924\n",
            "\n",
            "Epoch 00005: saving model to training_1/cp.ckpt\n",
            "Epoch 6/6\n",
            "765/765 [==============================] - 655s 856ms/step - loss: 0.0538 - accuracy: 0.9822 - val_loss: 0.0081 - val_accuracy: 0.9986\n",
            "\n",
            "Epoch 00006: saving model to training_1/cp.ckpt\n"
          ],
          "name": "stdout"
        }
      ]
    },
    {
      "cell_type": "code",
      "metadata": {
        "id": "IWogEL_YnDJT",
        "colab": {
          "base_uri": "https://localhost:8080/"
        },
        "outputId": "a0d511f7-6eda-4b5c-ed86-f947a412b602"
      },
      "source": [
        "preds = model.predict(validation_data)"
      ],
      "execution_count": 22,
      "outputs": [
        {
          "output_type": "stream",
          "text": [
            "WARNING:tensorflow:The parameters `output_attentions`, `output_hidden_states` and `use_cache` cannot be updated when calling a model.They have to be set to True/False in the config object (i.e.: `config=XConfig.from_pretrained('name', output_attentions=True)`).\n",
            "WARNING:tensorflow:The parameter `return_dict` cannot be set in graph mode and will always be set to `True`.\n"
          ],
          "name": "stdout"
        }
      ]
    },
    {
      "cell_type": "code",
      "metadata": {
        "id": "VZFSpUcQvNz2"
      },
      "source": [
        "cr = classification_report(test['LABEL_COLUMN'],np.argmax(preds[0],axis=1),output_dict=True)"
      ],
      "execution_count": 23,
      "outputs": []
    },
    {
      "cell_type": "code",
      "metadata": {
        "id": "JJLTRyWYvT_N"
      },
      "source": [
        "pd.DataFrame(cr).transpose().to_csv('classification_reports/classification_mat_bert_cv_6epochs_tweet_finetune.csv')"
      ],
      "execution_count": 24,
      "outputs": []
    },
    {
      "cell_type": "markdown",
      "metadata": {
        "id": "YVytRbvlGZEp"
      },
      "source": [
        "\n",
        "\n",
        "---\n",
        "\n",
        "\n",
        "\n",
        "---\n",
        "\n",
        "\n",
        "\n",
        "---\n",
        "\n",
        "\n",
        "\n",
        "---\n",
        "\n"
      ]
    },
    {
      "cell_type": "code",
      "metadata": {
        "id": "lsjCKTPhkXz9",
        "colab": {
          "base_uri": "https://localhost:8080/"
        },
        "outputId": "f6879d8b-7d4d-4b68-cae3-1e9749ad55bb"
      },
      "source": [
        "from transformers import BertTokenizer, TFBertForSequenceClassification\n",
        "\n",
        "model = TFBertForSequenceClassification.from_pretrained(\"bert-base-uncased\",\n",
        "                                                        trainable=True,\n",
        "                                                        num_labels=3)\n",
        "tokenizer = BertTokenizer.from_pretrained(\"bert-base-uncased\")\n"
      ],
      "execution_count": 25,
      "outputs": [
        {
          "output_type": "stream",
          "text": [
            "All model checkpoint layers were used when initializing TFBertForSequenceClassification.\n",
            "\n",
            "Some layers of TFBertForSequenceClassification were not initialized from the model checkpoint at bert-base-uncased and are newly initialized: ['classifier']\n",
            "You should probably TRAIN this model on a down-stream task to be able to use it for predictions and inference.\n"
          ],
          "name": "stderr"
        }
      ]
    },
    {
      "cell_type": "markdown",
      "metadata": {
        "id": "SrwLQYIiF0iU"
      },
      "source": [
        "## Cross validation by loading above training set"
      ]
    },
    {
      "cell_type": "code",
      "metadata": {
        "id": "DWsFTqlHlgv3"
      },
      "source": [
        "# perform cross folding\n",
        "def load_movies_to_df(path):\n",
        "    df_movies = []\n",
        "\n",
        "    for filename in glob.glob(path + '*.csv'):\n",
        "        df_movies.append(pd.read_csv(filename))\n",
        "\n",
        "    return df_movies"
      ],
      "execution_count": 26,
      "outputs": []
    },
    {
      "cell_type": "code",
      "metadata": {
        "id": "Xz1rCrpvB2RA"
      },
      "source": [
        "df_movies = load_movies_to_df('movies/for_training/')\n",
        "classification_report = []\n",
        "df_main = pd.DataFrame()"
      ],
      "execution_count": 27,
      "outputs": []
    },
    {
      "cell_type": "code",
      "metadata": {
        "colab": {
          "base_uri": "https://localhost:8080/"
        },
        "id": "DpchIXr0lciQ",
        "outputId": "cb4113ed-47b1-48f3-8114-16183a882d86"
      },
      "source": [
        "for i in range(len(df_movies)):\n",
        "    df_train = pd.concat(df_movies[0:i] + df_movies[i + 1:])\n",
        "    df_test = df_movies[i]\n",
        "\n",
        "    train_movies = df_train['movie_name'].unique()\n",
        "    test_movie = df_test['movie_name'].unique()\n",
        "    print(','.join(train_movies))\n",
        "    print(test_movie[0])\n",
        "    classification_report.append(train_bert(df_train, df_test))\n",
        "    # classification_report.append(x)\n",
        "    print('Train movies: ', str(','.join(train_movies)))\n",
        "    print('Test movie: ', str(test_movie[0]))\n",
        "    print('Classification report: \\n', classification_report[i])\n",
        "    print('------------------------------------------------')\n",
        "\n",
        "    df_cr = pd.DataFrame(classification_report[i]).transpose()\n",
        "    df_cr['movie_train'] =  str(','.join(train_movies))\n",
        "    df_cr['movie_test'] = str(test_movie[0])\n",
        "    df_cr.to_csv('classification_reports/'+str(test_movie[0])+'.csv')\n",
        "    df_main = df_main.append(df_cr)"
      ],
      "execution_count": 28,
      "outputs": [
        {
          "output_type": "stream",
          "text": [
            "South_Park,Django_Unchained,Pulp_Fiction,AmerricanHistoryX,TheWolfofWallStreet\n",
            "BlacKkKlansman\n"
          ],
          "name": "stdout"
        },
        {
          "output_type": "stream",
          "text": [
            "All model checkpoint layers were used when initializing TFBertForSequenceClassification.\n",
            "\n",
            "Some layers of TFBertForSequenceClassification were not initialized from the model checkpoint at bert-base-uncased and are newly initialized: ['classifier']\n",
            "You should probably TRAIN this model on a down-stream task to be able to use it for predictions and inference.\n",
            "/usr/local/lib/python3.7/dist-packages/transformers/tokenization_utils_base.py:2110: FutureWarning: The `pad_to_max_length` argument is deprecated and will be removed in a future version, use `padding=True` or `padding='longest'` to pad to the longest sequence in the batch, or use `padding='max_length'` to pad to a max length. In this case, you can give a specific length with `max_length` (e.g. `max_length=45`) or leave max_length to None to pad to the maximal input size of the model (e.g. 512 for Bert).\n",
            "  FutureWarning,\n"
          ],
          "name": "stderr"
        },
        {
          "output_type": "stream",
          "text": [
            "Epoch 1/5\n",
            "WARNING:tensorflow:The parameters `output_attentions`, `output_hidden_states` and `use_cache` cannot be updated when calling a model.They have to be set to True/False in the config object (i.e.: `config=XConfig.from_pretrained('name', output_attentions=True)`).\n",
            "WARNING:tensorflow:The parameter `return_dict` cannot be set in graph mode and will always be set to `True`.\n",
            "WARNING:tensorflow:The parameters `output_attentions`, `output_hidden_states` and `use_cache` cannot be updated when calling a model.They have to be set to True/False in the config object (i.e.: `config=XConfig.from_pretrained('name', output_attentions=True)`).\n",
            "WARNING:tensorflow:The parameter `return_dict` cannot be set in graph mode and will always be set to `True`.\n",
            "283/283 [==============================] - 244s 796ms/step - loss: 0.2415 - accuracy: 0.9350\n",
            "Epoch 2/5\n",
            "283/283 [==============================] - 225s 794ms/step - loss: 0.1185 - accuracy: 0.9596\n",
            "Epoch 3/5\n",
            "283/283 [==============================] - 225s 795ms/step - loss: 0.0676 - accuracy: 0.9778\n",
            "Epoch 4/5\n",
            "283/283 [==============================] - 225s 795ms/step - loss: 0.0372 - accuracy: 0.9901\n",
            "Epoch 5/5\n",
            "283/283 [==============================] - 225s 795ms/step - loss: 0.0259 - accuracy: 0.9925\n",
            "predicting\n",
            "WARNING:tensorflow:The parameters `output_attentions`, `output_hidden_states` and `use_cache` cannot be updated when calling a model.They have to be set to True/False in the config object (i.e.: `config=XConfig.from_pretrained('name', output_attentions=True)`).\n",
            "WARNING:tensorflow:The parameter `return_dict` cannot be set in graph mode and will always be set to `True`.\n",
            "Train movies:  South_Park,Django_Unchained,Pulp_Fiction,AmerricanHistoryX,TheWolfofWallStreet\n",
            "Test movie:  BlacKkKlansman\n",
            "Classification report: \n",
            " {'0': {'precision': 0.9574036511156186, 'recall': 0.9685362517099864, 'f1-score': 0.9629377762665761, 'support': 1462}, '1': {'precision': 0.5, 'recall': 0.5773195876288659, 'f1-score': 0.5358851674641149, 'support': 97}, '2': {'precision': 0.8888888888888888, 'recall': 0.5581395348837209, 'f1-score': 0.6857142857142857, 'support': 86}, 'accuracy': 0.9240121580547113, 'macro avg': {'precision': 0.7820975133348358, 'recall': 0.7013317914075244, 'f1-score': 0.7281790764816588, 'support': 1645}, 'weighted avg': {'precision': 0.9268502020519628, 'recall': 0.9240121580547113, 'f1-score': 0.9232628077308096, 'support': 1645}}\n",
            "------------------------------------------------\n",
            "BlacKkKlansman,Django_Unchained,Pulp_Fiction,AmerricanHistoryX,TheWolfofWallStreet\n",
            "South_Park\n"
          ],
          "name": "stdout"
        },
        {
          "output_type": "stream",
          "text": [
            "All model checkpoint layers were used when initializing TFBertForSequenceClassification.\n",
            "\n",
            "Some layers of TFBertForSequenceClassification were not initialized from the model checkpoint at bert-base-uncased and are newly initialized: ['classifier']\n",
            "You should probably TRAIN this model on a down-stream task to be able to use it for predictions and inference.\n"
          ],
          "name": "stderr"
        },
        {
          "output_type": "stream",
          "text": [
            "Epoch 1/5\n",
            "WARNING:tensorflow:The parameters `output_attentions`, `output_hidden_states` and `use_cache` cannot be updated when calling a model.They have to be set to True/False in the config object (i.e.: `config=XConfig.from_pretrained('name', output_attentions=True)`).\n",
            "WARNING:tensorflow:The parameter `return_dict` cannot be set in graph mode and will always be set to `True`.\n",
            "WARNING:tensorflow:The parameters `output_attentions`, `output_hidden_states` and `use_cache` cannot be updated when calling a model.They have to be set to True/False in the config object (i.e.: `config=XConfig.from_pretrained('name', output_attentions=True)`).\n",
            "WARNING:tensorflow:The parameter `return_dict` cannot be set in graph mode and will always be set to `True`.\n",
            "302/302 [==============================] - 259s 795ms/step - loss: 0.2779 - accuracy: 0.9337\n",
            "Epoch 2/5\n",
            "302/302 [==============================] - 240s 793ms/step - loss: 0.1528 - accuracy: 0.9560\n",
            "Epoch 3/5\n",
            "302/302 [==============================] - 240s 794ms/step - loss: 0.1181 - accuracy: 0.9569\n",
            "Epoch 4/5\n",
            "302/302 [==============================] - 240s 793ms/step - loss: 0.0756 - accuracy: 0.9694\n",
            "Epoch 5/5\n",
            "302/302 [==============================] - 240s 794ms/step - loss: 0.0564 - accuracy: 0.9787\n",
            "predicting\n",
            "WARNING:tensorflow:The parameters `output_attentions`, `output_hidden_states` and `use_cache` cannot be updated when calling a model.They have to be set to True/False in the config object (i.e.: `config=XConfig.from_pretrained('name', output_attentions=True)`).\n",
            "WARNING:tensorflow:The parameter `return_dict` cannot be set in graph mode and will always be set to `True`.\n",
            "Train movies:  BlacKkKlansman,Django_Unchained,Pulp_Fiction,AmerricanHistoryX,TheWolfofWallStreet\n",
            "Test movie:  South_Park\n",
            "Classification report: \n",
            " {'0': {'precision': 0.9481236203090507, 'recall': 0.9651685393258427, 'f1-score': 0.9565701559020043, 'support': 890}, '1': {'precision': 0.7611940298507462, 'recall': 0.7034482758620689, 'f1-score': 0.7311827956989247, 'support': 145}, '2': {'precision': 0.3333333333333333, 'recall': 0.18181818181818182, 'f1-score': 0.23529411764705885, 'support': 11}, 'accuracy': 0.9206500956022945, 'macro avg': {'precision': 0.6808836611643768, 'recall': 0.6168116656686978, 'f1-score': 0.6410156897493293, 'support': 1046}, 'weighted avg': {'precision': 0.9157455287476864, 'recall': 0.9206500956022945, 'f1-score': 0.9177410893147664, 'support': 1046}}\n",
            "------------------------------------------------\n",
            "BlacKkKlansman,South_Park,Pulp_Fiction,AmerricanHistoryX,TheWolfofWallStreet\n",
            "Django_Unchained\n"
          ],
          "name": "stdout"
        },
        {
          "output_type": "stream",
          "text": [
            "All model checkpoint layers were used when initializing TFBertForSequenceClassification.\n",
            "\n",
            "Some layers of TFBertForSequenceClassification were not initialized from the model checkpoint at bert-base-uncased and are newly initialized: ['classifier']\n",
            "You should probably TRAIN this model on a down-stream task to be able to use it for predictions and inference.\n"
          ],
          "name": "stderr"
        },
        {
          "output_type": "stream",
          "text": [
            "Epoch 1/5\n",
            "WARNING:tensorflow:The parameters `output_attentions`, `output_hidden_states` and `use_cache` cannot be updated when calling a model.They have to be set to True/False in the config object (i.e.: `config=XConfig.from_pretrained('name', output_attentions=True)`).\n",
            "WARNING:tensorflow:The parameter `return_dict` cannot be set in graph mode and will always be set to `True`.\n",
            "WARNING:tensorflow:The parameters `output_attentions`, `output_hidden_states` and `use_cache` cannot be updated when calling a model.They have to be set to True/False in the config object (i.e.: `config=XConfig.from_pretrained('name', output_attentions=True)`).\n",
            "WARNING:tensorflow:The parameter `return_dict` cannot be set in graph mode and will always be set to `True`.\n",
            "280/280 [==============================] - 242s 795ms/step - loss: 0.3220 - accuracy: 0.9177\n",
            "Epoch 2/5\n",
            "280/280 [==============================] - 222s 794ms/step - loss: 0.1882 - accuracy: 0.9446\n",
            "Epoch 3/5\n",
            "280/280 [==============================] - 223s 795ms/step - loss: 0.1285 - accuracy: 0.9545\n",
            "Epoch 4/5\n",
            "280/280 [==============================] - 222s 793ms/step - loss: 0.0819 - accuracy: 0.9626\n",
            "Epoch 5/5\n",
            "280/280 [==============================] - 222s 795ms/step - loss: 0.0552 - accuracy: 0.9775\n",
            "predicting\n",
            "WARNING:tensorflow:The parameters `output_attentions`, `output_hidden_states` and `use_cache` cannot be updated when calling a model.They have to be set to True/False in the config object (i.e.: `config=XConfig.from_pretrained('name', output_attentions=True)`).\n",
            "WARNING:tensorflow:The parameter `return_dict` cannot be set in graph mode and will always be set to `True`.\n",
            "Train movies:  BlacKkKlansman,South_Park,Pulp_Fiction,AmerricanHistoryX,TheWolfofWallStreet\n",
            "Test movie:  Django_Unchained\n",
            "Classification report: \n",
            " {'0': {'precision': 0.9794740218088518, 'recall': 0.9845261121856866, 'f1-score': 0.9819935691318328, 'support': 1551}, '1': {'precision': 0.7012987012987013, 'recall': 0.6835443037974683, 'f1-score': 0.6923076923076923, 'support': 79}, '2': {'precision': 0.9819819819819819, 'recall': 0.9316239316239316, 'f1-score': 0.9561403508771931, 'support': 117}, 'accuracy': 0.9673726388093875, 'macro avg': {'precision': 0.8875849016965116, 'recall': 0.8665647825356956, 'f1-score': 0.8768138707722394, 'support': 1747}, 'weighted avg': {'precision': 0.9670627917115159, 'recall': 0.9673726388093875, 'f1-score': 0.9671624238514093, 'support': 1747}}\n",
            "------------------------------------------------\n",
            "BlacKkKlansman,South_Park,Django_Unchained,AmerricanHistoryX,TheWolfofWallStreet\n",
            "Pulp_Fiction\n"
          ],
          "name": "stdout"
        },
        {
          "output_type": "stream",
          "text": [
            "All model checkpoint layers were used when initializing TFBertForSequenceClassification.\n",
            "\n",
            "Some layers of TFBertForSequenceClassification were not initialized from the model checkpoint at bert-base-uncased and are newly initialized: ['classifier']\n",
            "You should probably TRAIN this model on a down-stream task to be able to use it for predictions and inference.\n"
          ],
          "name": "stderr"
        },
        {
          "output_type": "stream",
          "text": [
            "Epoch 1/5\n",
            "WARNING:tensorflow:The parameters `output_attentions`, `output_hidden_states` and `use_cache` cannot be updated when calling a model.They have to be set to True/False in the config object (i.e.: `config=XConfig.from_pretrained('name', output_attentions=True)`).\n",
            "WARNING:tensorflow:The parameter `return_dict` cannot be set in graph mode and will always be set to `True`.\n",
            "WARNING:tensorflow:The parameters `output_attentions`, `output_hidden_states` and `use_cache` cannot be updated when calling a model.They have to be set to True/False in the config object (i.e.: `config=XConfig.from_pretrained('name', output_attentions=True)`).\n",
            "WARNING:tensorflow:The parameter `return_dict` cannot be set in graph mode and will always be set to `True`.\n",
            "284/284 [==============================] - 244s 796ms/step - loss: 0.2994 - accuracy: 0.9263\n",
            "Epoch 2/5\n",
            "284/284 [==============================] - 225s 794ms/step - loss: 0.1627 - accuracy: 0.9426\n",
            "Epoch 3/5\n",
            "284/284 [==============================] - 226s 795ms/step - loss: 0.1145 - accuracy: 0.9577\n",
            "Epoch 4/5\n",
            "284/284 [==============================] - 226s 794ms/step - loss: 0.0669 - accuracy: 0.9758\n",
            "Epoch 5/5\n",
            "284/284 [==============================] - 226s 795ms/step - loss: 0.0396 - accuracy: 0.9872\n",
            "predicting\n",
            "WARNING:tensorflow:The parameters `output_attentions`, `output_hidden_states` and `use_cache` cannot be updated when calling a model.They have to be set to True/False in the config object (i.e.: `config=XConfig.from_pretrained('name', output_attentions=True)`).\n",
            "WARNING:tensorflow:The parameter `return_dict` cannot be set in graph mode and will always be set to `True`.\n",
            "Train movies:  BlacKkKlansman,South_Park,Django_Unchained,AmerricanHistoryX,TheWolfofWallStreet\n",
            "Test movie:  Pulp_Fiction\n",
            "Classification report: \n",
            " {'0': {'precision': 0.9725818735719726, 'recall': 0.9579894973743436, 'f1-score': 0.9652305366591082, 'support': 1333}, '1': {'precision': 0.7964912280701755, 'recall': 0.8566037735849057, 'f1-score': 0.8254545454545454, 'support': 265}, '2': {'precision': 0.8333333333333334, 'recall': 0.8333333333333334, 'f1-score': 0.8333333333333334, 'support': 24}, 'accuracy': 0.9395807644882861, 'macro avg': {'precision': 0.8674688116584939, 'recall': 0.8826422014308609, 'f1-score': 0.8746728051489957, 'support': 1622}, 'weighted avg': {'precision': 0.941752042484609, 'recall': 0.9395807644882861, 'f1-score': 0.9404425153588445, 'support': 1622}}\n",
            "------------------------------------------------\n",
            "BlacKkKlansman,South_Park,Django_Unchained,Pulp_Fiction,TheWolfofWallStreet\n",
            "AmerricanHistoryX\n"
          ],
          "name": "stdout"
        },
        {
          "output_type": "stream",
          "text": [
            "All model checkpoint layers were used when initializing TFBertForSequenceClassification.\n",
            "\n",
            "Some layers of TFBertForSequenceClassification were not initialized from the model checkpoint at bert-base-uncased and are newly initialized: ['classifier']\n",
            "You should probably TRAIN this model on a down-stream task to be able to use it for predictions and inference.\n"
          ],
          "name": "stderr"
        },
        {
          "output_type": "stream",
          "text": [
            "Epoch 1/5\n",
            "WARNING:tensorflow:The parameters `output_attentions`, `output_hidden_states` and `use_cache` cannot be updated when calling a model.They have to be set to True/False in the config object (i.e.: `config=XConfig.from_pretrained('name', output_attentions=True)`).\n",
            "WARNING:tensorflow:The parameter `return_dict` cannot be set in graph mode and will always be set to `True`.\n",
            "WARNING:tensorflow:The parameters `output_attentions`, `output_hidden_states` and `use_cache` cannot be updated when calling a model.They have to be set to True/False in the config object (i.e.: `config=XConfig.from_pretrained('name', output_attentions=True)`).\n",
            "WARNING:tensorflow:The parameter `return_dict` cannot be set in graph mode and will always be set to `True`.\n",
            "286/286 [==============================] - 246s 793ms/step - loss: 0.2923 - accuracy: 0.9268\n",
            "Epoch 2/5\n",
            "286/286 [==============================] - 227s 793ms/step - loss: 0.1654 - accuracy: 0.9523\n",
            "Epoch 3/5\n",
            "286/286 [==============================] - 227s 794ms/step - loss: 0.1158 - accuracy: 0.9598\n",
            "Epoch 4/5\n",
            "286/286 [==============================] - 227s 793ms/step - loss: 0.0771 - accuracy: 0.9732\n",
            "Epoch 5/5\n",
            "286/286 [==============================] - 227s 794ms/step - loss: 0.0512 - accuracy: 0.9820\n",
            "predicting\n",
            "WARNING:tensorflow:The parameters `output_attentions`, `output_hidden_states` and `use_cache` cannot be updated when calling a model.They have to be set to True/False in the config object (i.e.: `config=XConfig.from_pretrained('name', output_attentions=True)`).\n",
            "WARNING:tensorflow:The parameter `return_dict` cannot be set in graph mode and will always be set to `True`.\n",
            "Train movies:  BlacKkKlansman,South_Park,Django_Unchained,Pulp_Fiction,TheWolfofWallStreet\n",
            "Test movie:  AmerricanHistoryX\n",
            "Classification report: \n",
            " {'0': {'precision': 0.9628506444275967, 'recall': 0.9739263803680982, 'f1-score': 0.9683568433091879, 'support': 1304}, '1': {'precision': 0.7741935483870968, 'recall': 0.8115942028985508, 'f1-score': 0.7924528301886792, 'support': 207}, '2': {'precision': 0.9655172413793104, 'recall': 0.5185185185185185, 'f1-score': 0.6746987951807228, 'support': 54}, 'accuracy': 0.936741214057508, 'macro avg': {'precision': 0.9008538113980014, 'recall': 0.7680130339283892, 'f1-score': 0.8118361562261965, 'support': 1565}, 'weighted avg': {'precision': 0.9379892881049188, 'recall': 0.936741214057508, 'f1-score': 0.9349576961431288, 'support': 1565}}\n",
            "------------------------------------------------\n",
            "BlacKkKlansman,South_Park,Django_Unchained,Pulp_Fiction,AmerricanHistoryX\n",
            "TheWolfofWallStreet\n"
          ],
          "name": "stdout"
        },
        {
          "output_type": "stream",
          "text": [
            "All model checkpoint layers were used when initializing TFBertForSequenceClassification.\n",
            "\n",
            "Some layers of TFBertForSequenceClassification were not initialized from the model checkpoint at bert-base-uncased and are newly initialized: ['classifier']\n",
            "You should probably TRAIN this model on a down-stream task to be able to use it for predictions and inference.\n"
          ],
          "name": "stderr"
        },
        {
          "output_type": "stream",
          "text": [
            "Epoch 1/5\n",
            "WARNING:tensorflow:The parameters `output_attentions`, `output_hidden_states` and `use_cache` cannot be updated when calling a model.They have to be set to True/False in the config object (i.e.: `config=XConfig.from_pretrained('name', output_attentions=True)`).\n",
            "WARNING:tensorflow:The parameter `return_dict` cannot be set in graph mode and will always be set to `True`.\n",
            "WARNING:tensorflow:The parameters `output_attentions`, `output_hidden_states` and `use_cache` cannot be updated when calling a model.They have to be set to True/False in the config object (i.e.: `config=XConfig.from_pretrained('name', output_attentions=True)`).\n",
            "WARNING:tensorflow:The parameter `return_dict` cannot be set in graph mode and will always be set to `True`.\n",
            "239/239 [==============================] - 209s 795ms/step - loss: 0.3183 - accuracy: 0.9213\n",
            "Epoch 2/5\n",
            "239/239 [==============================] - 190s 794ms/step - loss: 0.1645 - accuracy: 0.9490\n",
            "Epoch 3/5\n",
            "239/239 [==============================] - 190s 794ms/step - loss: 0.1176 - accuracy: 0.9577\n",
            "Epoch 4/5\n",
            "239/239 [==============================] - 190s 794ms/step - loss: 0.0918 - accuracy: 0.9636\n",
            "Epoch 5/5\n",
            "239/239 [==============================] - 190s 795ms/step - loss: 0.0659 - accuracy: 0.9760\n",
            "predicting\n",
            "WARNING:tensorflow:The parameters `output_attentions`, `output_hidden_states` and `use_cache` cannot be updated when calling a model.They have to be set to True/False in the config object (i.e.: `config=XConfig.from_pretrained('name', output_attentions=True)`).\n",
            "WARNING:tensorflow:The parameter `return_dict` cannot be set in graph mode and will always be set to `True`.\n",
            "Train movies:  BlacKkKlansman,South_Park,Django_Unchained,Pulp_Fiction,AmerricanHistoryX\n",
            "Test movie:  TheWolfofWallStreet\n",
            "Classification report: \n",
            " {'0': {'precision': 0.988491574188245, 'recall': 0.9721099434114794, 'f1-score': 0.9802323211738333, 'support': 2474}, '1': {'precision': 0.9053156146179402, 'recall': 0.9284497444633731, 'f1-score': 0.9167367535744324, 'support': 587}, '2': {'precision': 0.07142857142857142, 'recall': 1.0, 'f1-score': 0.13333333333333333, 'support': 2}, 'accuracy': 0.9637610186092067, 'macro avg': {'precision': 0.6550785867449188, 'recall': 0.9668532292916175, 'f1-score': 0.676767469360533, 'support': 3063}, 'weighted avg': {'precision': 0.9719527513762019, 'recall': 0.9637610186092067, 'f1-score': 0.9675109055171147, 'support': 3063}}\n",
            "------------------------------------------------\n"
          ],
          "name": "stdout"
        }
      ]
    },
    {
      "cell_type": "code",
      "metadata": {
        "id": "LyfPoHfVB63k"
      },
      "source": [
        "df_main.to_csv('cross_fold_results_tweet_finetune_6epochs.csv')"
      ],
      "execution_count": 29,
      "outputs": []
    },
    {
      "cell_type": "code",
      "metadata": {
        "colab": {
          "base_uri": "https://localhost:8080/"
        },
        "id": "e9c-yeiBHfGG",
        "outputId": "436914f9-423d-4d93-ec4f-8dfef1efb7dc"
      },
      "source": [
        "print(df_main)"
      ],
      "execution_count": 30,
      "outputs": [
        {
          "output_type": "stream",
          "text": [
            "              precision  ...           movie_test\n",
            "0              0.957404  ...       BlacKkKlansman\n",
            "1              0.500000  ...       BlacKkKlansman\n",
            "2              0.888889  ...       BlacKkKlansman\n",
            "accuracy       0.924012  ...       BlacKkKlansman\n",
            "macro avg      0.782098  ...       BlacKkKlansman\n",
            "weighted avg   0.926850  ...       BlacKkKlansman\n",
            "0              0.948124  ...           South_Park\n",
            "1              0.761194  ...           South_Park\n",
            "2              0.333333  ...           South_Park\n",
            "accuracy       0.920650  ...           South_Park\n",
            "macro avg      0.680884  ...           South_Park\n",
            "weighted avg   0.915746  ...           South_Park\n",
            "0              0.979474  ...     Django_Unchained\n",
            "1              0.701299  ...     Django_Unchained\n",
            "2              0.981982  ...     Django_Unchained\n",
            "accuracy       0.967373  ...     Django_Unchained\n",
            "macro avg      0.887585  ...     Django_Unchained\n",
            "weighted avg   0.967063  ...     Django_Unchained\n",
            "0              0.972582  ...         Pulp_Fiction\n",
            "1              0.796491  ...         Pulp_Fiction\n",
            "2              0.833333  ...         Pulp_Fiction\n",
            "accuracy       0.939581  ...         Pulp_Fiction\n",
            "macro avg      0.867469  ...         Pulp_Fiction\n",
            "weighted avg   0.941752  ...         Pulp_Fiction\n",
            "0              0.962851  ...    AmerricanHistoryX\n",
            "1              0.774194  ...    AmerricanHistoryX\n",
            "2              0.965517  ...    AmerricanHistoryX\n",
            "accuracy       0.936741  ...    AmerricanHistoryX\n",
            "macro avg      0.900854  ...    AmerricanHistoryX\n",
            "weighted avg   0.937989  ...    AmerricanHistoryX\n",
            "0              0.988492  ...  TheWolfofWallStreet\n",
            "1              0.905316  ...  TheWolfofWallStreet\n",
            "2              0.071429  ...  TheWolfofWallStreet\n",
            "accuracy       0.963761  ...  TheWolfofWallStreet\n",
            "macro avg      0.655079  ...  TheWolfofWallStreet\n",
            "weighted avg   0.971953  ...  TheWolfofWallStreet\n",
            "\n",
            "[36 rows x 6 columns]\n"
          ],
          "name": "stdout"
        }
      ]
    },
    {
      "cell_type": "code",
      "metadata": {
        "colab": {
          "base_uri": "https://localhost:8080/"
        },
        "id": "iD3D9odZB7de",
        "outputId": "fa8cd0ee-c7fe-459f-dfab-25213d3dc20c"
      },
      "source": [
        "len(classification_report[0])"
      ],
      "execution_count": 31,
      "outputs": [
        {
          "output_type": "execute_result",
          "data": {
            "text/plain": [
              "6"
            ]
          },
          "metadata": {
            "tags": []
          },
          "execution_count": 31
        }
      ]
    },
    {
      "cell_type": "code",
      "metadata": {
        "colab": {
          "base_uri": "https://localhost:8080/",
          "height": 257
        },
        "id": "68L-CNl6GGg8",
        "outputId": "dcdd050d-908c-464b-a9ec-91f2bdd88b4e"
      },
      "source": [
        "df_main.head()"
      ],
      "execution_count": 32,
      "outputs": [
        {
          "output_type": "execute_result",
          "data": {
            "text/html": [
              "<div>\n",
              "<style scoped>\n",
              "    .dataframe tbody tr th:only-of-type {\n",
              "        vertical-align: middle;\n",
              "    }\n",
              "\n",
              "    .dataframe tbody tr th {\n",
              "        vertical-align: top;\n",
              "    }\n",
              "\n",
              "    .dataframe thead th {\n",
              "        text-align: right;\n",
              "    }\n",
              "</style>\n",
              "<table border=\"1\" class=\"dataframe\">\n",
              "  <thead>\n",
              "    <tr style=\"text-align: right;\">\n",
              "      <th></th>\n",
              "      <th>precision</th>\n",
              "      <th>recall</th>\n",
              "      <th>f1-score</th>\n",
              "      <th>support</th>\n",
              "      <th>movie_train</th>\n",
              "      <th>movie_test</th>\n",
              "    </tr>\n",
              "  </thead>\n",
              "  <tbody>\n",
              "    <tr>\n",
              "      <th>0</th>\n",
              "      <td>0.957404</td>\n",
              "      <td>0.968536</td>\n",
              "      <td>0.962938</td>\n",
              "      <td>1462.000000</td>\n",
              "      <td>South_Park,Django_Unchained,Pulp_Fiction,Amerr...</td>\n",
              "      <td>BlacKkKlansman</td>\n",
              "    </tr>\n",
              "    <tr>\n",
              "      <th>1</th>\n",
              "      <td>0.500000</td>\n",
              "      <td>0.577320</td>\n",
              "      <td>0.535885</td>\n",
              "      <td>97.000000</td>\n",
              "      <td>South_Park,Django_Unchained,Pulp_Fiction,Amerr...</td>\n",
              "      <td>BlacKkKlansman</td>\n",
              "    </tr>\n",
              "    <tr>\n",
              "      <th>2</th>\n",
              "      <td>0.888889</td>\n",
              "      <td>0.558140</td>\n",
              "      <td>0.685714</td>\n",
              "      <td>86.000000</td>\n",
              "      <td>South_Park,Django_Unchained,Pulp_Fiction,Amerr...</td>\n",
              "      <td>BlacKkKlansman</td>\n",
              "    </tr>\n",
              "    <tr>\n",
              "      <th>accuracy</th>\n",
              "      <td>0.924012</td>\n",
              "      <td>0.924012</td>\n",
              "      <td>0.924012</td>\n",
              "      <td>0.924012</td>\n",
              "      <td>South_Park,Django_Unchained,Pulp_Fiction,Amerr...</td>\n",
              "      <td>BlacKkKlansman</td>\n",
              "    </tr>\n",
              "    <tr>\n",
              "      <th>macro avg</th>\n",
              "      <td>0.782098</td>\n",
              "      <td>0.701332</td>\n",
              "      <td>0.728179</td>\n",
              "      <td>1645.000000</td>\n",
              "      <td>South_Park,Django_Unchained,Pulp_Fiction,Amerr...</td>\n",
              "      <td>BlacKkKlansman</td>\n",
              "    </tr>\n",
              "  </tbody>\n",
              "</table>\n",
              "</div>"
            ],
            "text/plain": [
              "           precision  ...      movie_test\n",
              "0           0.957404  ...  BlacKkKlansman\n",
              "1           0.500000  ...  BlacKkKlansman\n",
              "2           0.888889  ...  BlacKkKlansman\n",
              "accuracy    0.924012  ...  BlacKkKlansman\n",
              "macro avg   0.782098  ...  BlacKkKlansman\n",
              "\n",
              "[5 rows x 6 columns]"
            ]
          },
          "metadata": {
            "tags": []
          },
          "execution_count": 32
        }
      ]
    },
    {
      "cell_type": "code",
      "metadata": {
        "id": "NRGObHolGHHF"
      },
      "source": [
        "def get_precision_recall_f1(category, result_df):\n",
        "    precision = result_df[result_df.label==category].precision.mean()\n",
        "    recall = result_df[result_df.label==category].recall.mean()\n",
        "    f1 = result_df[result_df.label==category]['f1-score'].mean()\n",
        "    \n",
        "    return {'label': category, 'precision': precision, 'recall': recall, 'f1': f1}"
      ],
      "execution_count": 33,
      "outputs": []
    },
    {
      "cell_type": "code",
      "metadata": {
        "id": "PVRT0b1thTtB"
      },
      "source": [
        "df_cv= pd.read_csv('cross_fold_results_tweet_finetune_6epochs.csv')"
      ],
      "execution_count": 34,
      "outputs": []
    },
    {
      "cell_type": "code",
      "metadata": {
        "colab": {
          "base_uri": "https://localhost:8080/",
          "height": 257
        },
        "id": "SnXkEFJlmfSU",
        "outputId": "b6fe2630-09c1-4d83-a033-71e8717b851b"
      },
      "source": [
        "df_cv = df_cv.rename(columns={'Unnamed: 0': 'label', 'b': 'Y'})\n",
        "df_cv.head()"
      ],
      "execution_count": 35,
      "outputs": [
        {
          "output_type": "execute_result",
          "data": {
            "text/html": [
              "<div>\n",
              "<style scoped>\n",
              "    .dataframe tbody tr th:only-of-type {\n",
              "        vertical-align: middle;\n",
              "    }\n",
              "\n",
              "    .dataframe tbody tr th {\n",
              "        vertical-align: top;\n",
              "    }\n",
              "\n",
              "    .dataframe thead th {\n",
              "        text-align: right;\n",
              "    }\n",
              "</style>\n",
              "<table border=\"1\" class=\"dataframe\">\n",
              "  <thead>\n",
              "    <tr style=\"text-align: right;\">\n",
              "      <th></th>\n",
              "      <th>label</th>\n",
              "      <th>precision</th>\n",
              "      <th>recall</th>\n",
              "      <th>f1-score</th>\n",
              "      <th>support</th>\n",
              "      <th>movie_train</th>\n",
              "      <th>movie_test</th>\n",
              "    </tr>\n",
              "  </thead>\n",
              "  <tbody>\n",
              "    <tr>\n",
              "      <th>0</th>\n",
              "      <td>0</td>\n",
              "      <td>0.957404</td>\n",
              "      <td>0.968536</td>\n",
              "      <td>0.962938</td>\n",
              "      <td>1462.000000</td>\n",
              "      <td>South_Park,Django_Unchained,Pulp_Fiction,Amerr...</td>\n",
              "      <td>BlacKkKlansman</td>\n",
              "    </tr>\n",
              "    <tr>\n",
              "      <th>1</th>\n",
              "      <td>1</td>\n",
              "      <td>0.500000</td>\n",
              "      <td>0.577320</td>\n",
              "      <td>0.535885</td>\n",
              "      <td>97.000000</td>\n",
              "      <td>South_Park,Django_Unchained,Pulp_Fiction,Amerr...</td>\n",
              "      <td>BlacKkKlansman</td>\n",
              "    </tr>\n",
              "    <tr>\n",
              "      <th>2</th>\n",
              "      <td>2</td>\n",
              "      <td>0.888889</td>\n",
              "      <td>0.558140</td>\n",
              "      <td>0.685714</td>\n",
              "      <td>86.000000</td>\n",
              "      <td>South_Park,Django_Unchained,Pulp_Fiction,Amerr...</td>\n",
              "      <td>BlacKkKlansman</td>\n",
              "    </tr>\n",
              "    <tr>\n",
              "      <th>3</th>\n",
              "      <td>accuracy</td>\n",
              "      <td>0.924012</td>\n",
              "      <td>0.924012</td>\n",
              "      <td>0.924012</td>\n",
              "      <td>0.924012</td>\n",
              "      <td>South_Park,Django_Unchained,Pulp_Fiction,Amerr...</td>\n",
              "      <td>BlacKkKlansman</td>\n",
              "    </tr>\n",
              "    <tr>\n",
              "      <th>4</th>\n",
              "      <td>macro avg</td>\n",
              "      <td>0.782098</td>\n",
              "      <td>0.701332</td>\n",
              "      <td>0.728179</td>\n",
              "      <td>1645.000000</td>\n",
              "      <td>South_Park,Django_Unchained,Pulp_Fiction,Amerr...</td>\n",
              "      <td>BlacKkKlansman</td>\n",
              "    </tr>\n",
              "  </tbody>\n",
              "</table>\n",
              "</div>"
            ],
            "text/plain": [
              "       label  ...      movie_test\n",
              "0          0  ...  BlacKkKlansman\n",
              "1          1  ...  BlacKkKlansman\n",
              "2          2  ...  BlacKkKlansman\n",
              "3   accuracy  ...  BlacKkKlansman\n",
              "4  macro avg  ...  BlacKkKlansman\n",
              "\n",
              "[5 rows x 7 columns]"
            ]
          },
          "metadata": {
            "tags": []
          },
          "execution_count": 35
        }
      ]
    },
    {
      "cell_type": "code",
      "metadata": {
        "id": "V81usTykmsnl"
      },
      "source": [
        "normal_dict = get_precision_recall_f1('0', df_cv)\n",
        "offensive_dict = get_precision_recall_f1('1',df_cv)\n",
        "hate_dict = get_precision_recall_f1('2',df_cv)"
      ],
      "execution_count": 36,
      "outputs": []
    },
    {
      "cell_type": "code",
      "metadata": {
        "colab": {
          "base_uri": "https://localhost:8080/",
          "height": 141
        },
        "id": "9xnoFFrOmgu1",
        "outputId": "2742fb04-c8e0-4124-df84-03d05c9dc97d"
      },
      "source": [
        "df_result = pd.DataFrame([normal_dict, offensive_dict, hate_dict])\n",
        "df_result"
      ],
      "execution_count": 37,
      "outputs": [
        {
          "output_type": "execute_result",
          "data": {
            "text/html": [
              "<div>\n",
              "<style scoped>\n",
              "    .dataframe tbody tr th:only-of-type {\n",
              "        vertical-align: middle;\n",
              "    }\n",
              "\n",
              "    .dataframe tbody tr th {\n",
              "        vertical-align: top;\n",
              "    }\n",
              "\n",
              "    .dataframe thead th {\n",
              "        text-align: right;\n",
              "    }\n",
              "</style>\n",
              "<table border=\"1\" class=\"dataframe\">\n",
              "  <thead>\n",
              "    <tr style=\"text-align: right;\">\n",
              "      <th></th>\n",
              "      <th>label</th>\n",
              "      <th>precision</th>\n",
              "      <th>recall</th>\n",
              "      <th>f1</th>\n",
              "    </tr>\n",
              "  </thead>\n",
              "  <tbody>\n",
              "    <tr>\n",
              "      <th>0</th>\n",
              "      <td>0</td>\n",
              "      <td>0.968154</td>\n",
              "      <td>0.970376</td>\n",
              "      <td>0.969220</td>\n",
              "    </tr>\n",
              "    <tr>\n",
              "      <th>1</th>\n",
              "      <td>1</td>\n",
              "      <td>0.739749</td>\n",
              "      <td>0.760160</td>\n",
              "      <td>0.749003</td>\n",
              "    </tr>\n",
              "    <tr>\n",
              "      <th>2</th>\n",
              "      <td>2</td>\n",
              "      <td>0.679081</td>\n",
              "      <td>0.670572</td>\n",
              "      <td>0.586419</td>\n",
              "    </tr>\n",
              "  </tbody>\n",
              "</table>\n",
              "</div>"
            ],
            "text/plain": [
              "  label  precision    recall        f1\n",
              "0     0   0.968154  0.970376  0.969220\n",
              "1     1   0.739749  0.760160  0.749003\n",
              "2     2   0.679081  0.670572  0.586419"
            ]
          },
          "metadata": {
            "tags": []
          },
          "execution_count": 37
        }
      ]
    },
    {
      "cell_type": "code",
      "metadata": {
        "id": "cLHfd4BFnloL",
        "colab": {
          "base_uri": "https://localhost:8080/"
        },
        "outputId": "25e99fdc-f2c6-48c4-f7db-005afb862266"
      },
      "source": [
        "for cr in classification_report:\n",
        "  print(cr)"
      ],
      "execution_count": 38,
      "outputs": [
        {
          "output_type": "stream",
          "text": [
            "{'0': {'precision': 0.9574036511156186, 'recall': 0.9685362517099864, 'f1-score': 0.9629377762665761, 'support': 1462}, '1': {'precision': 0.5, 'recall': 0.5773195876288659, 'f1-score': 0.5358851674641149, 'support': 97}, '2': {'precision': 0.8888888888888888, 'recall': 0.5581395348837209, 'f1-score': 0.6857142857142857, 'support': 86}, 'accuracy': 0.9240121580547113, 'macro avg': {'precision': 0.7820975133348358, 'recall': 0.7013317914075244, 'f1-score': 0.7281790764816588, 'support': 1645}, 'weighted avg': {'precision': 0.9268502020519628, 'recall': 0.9240121580547113, 'f1-score': 0.9232628077308096, 'support': 1645}}\n",
            "{'0': {'precision': 0.9481236203090507, 'recall': 0.9651685393258427, 'f1-score': 0.9565701559020043, 'support': 890}, '1': {'precision': 0.7611940298507462, 'recall': 0.7034482758620689, 'f1-score': 0.7311827956989247, 'support': 145}, '2': {'precision': 0.3333333333333333, 'recall': 0.18181818181818182, 'f1-score': 0.23529411764705885, 'support': 11}, 'accuracy': 0.9206500956022945, 'macro avg': {'precision': 0.6808836611643768, 'recall': 0.6168116656686978, 'f1-score': 0.6410156897493293, 'support': 1046}, 'weighted avg': {'precision': 0.9157455287476864, 'recall': 0.9206500956022945, 'f1-score': 0.9177410893147664, 'support': 1046}}\n",
            "{'0': {'precision': 0.9794740218088518, 'recall': 0.9845261121856866, 'f1-score': 0.9819935691318328, 'support': 1551}, '1': {'precision': 0.7012987012987013, 'recall': 0.6835443037974683, 'f1-score': 0.6923076923076923, 'support': 79}, '2': {'precision': 0.9819819819819819, 'recall': 0.9316239316239316, 'f1-score': 0.9561403508771931, 'support': 117}, 'accuracy': 0.9673726388093875, 'macro avg': {'precision': 0.8875849016965116, 'recall': 0.8665647825356956, 'f1-score': 0.8768138707722394, 'support': 1747}, 'weighted avg': {'precision': 0.9670627917115159, 'recall': 0.9673726388093875, 'f1-score': 0.9671624238514093, 'support': 1747}}\n",
            "{'0': {'precision': 0.9725818735719726, 'recall': 0.9579894973743436, 'f1-score': 0.9652305366591082, 'support': 1333}, '1': {'precision': 0.7964912280701755, 'recall': 0.8566037735849057, 'f1-score': 0.8254545454545454, 'support': 265}, '2': {'precision': 0.8333333333333334, 'recall': 0.8333333333333334, 'f1-score': 0.8333333333333334, 'support': 24}, 'accuracy': 0.9395807644882861, 'macro avg': {'precision': 0.8674688116584939, 'recall': 0.8826422014308609, 'f1-score': 0.8746728051489957, 'support': 1622}, 'weighted avg': {'precision': 0.941752042484609, 'recall': 0.9395807644882861, 'f1-score': 0.9404425153588445, 'support': 1622}}\n",
            "{'0': {'precision': 0.9628506444275967, 'recall': 0.9739263803680982, 'f1-score': 0.9683568433091879, 'support': 1304}, '1': {'precision': 0.7741935483870968, 'recall': 0.8115942028985508, 'f1-score': 0.7924528301886792, 'support': 207}, '2': {'precision': 0.9655172413793104, 'recall': 0.5185185185185185, 'f1-score': 0.6746987951807228, 'support': 54}, 'accuracy': 0.936741214057508, 'macro avg': {'precision': 0.9008538113980014, 'recall': 0.7680130339283892, 'f1-score': 0.8118361562261965, 'support': 1565}, 'weighted avg': {'precision': 0.9379892881049188, 'recall': 0.936741214057508, 'f1-score': 0.9349576961431288, 'support': 1565}}\n",
            "{'0': {'precision': 0.988491574188245, 'recall': 0.9721099434114794, 'f1-score': 0.9802323211738333, 'support': 2474}, '1': {'precision': 0.9053156146179402, 'recall': 0.9284497444633731, 'f1-score': 0.9167367535744324, 'support': 587}, '2': {'precision': 0.07142857142857142, 'recall': 1.0, 'f1-score': 0.13333333333333333, 'support': 2}, 'accuracy': 0.9637610186092067, 'macro avg': {'precision': 0.6550785867449188, 'recall': 0.9668532292916175, 'f1-score': 0.676767469360533, 'support': 3063}, 'weighted avg': {'precision': 0.9719527513762019, 'recall': 0.9637610186092067, 'f1-score': 0.9675109055171147, 'support': 3063}}\n"
          ],
          "name": "stdout"
        }
      ]
    },
    {
      "cell_type": "code",
      "metadata": {
        "id": "6yd9PocUIbKy"
      },
      "source": [
        ""
      ],
      "execution_count": null,
      "outputs": []
    }
  ]
}