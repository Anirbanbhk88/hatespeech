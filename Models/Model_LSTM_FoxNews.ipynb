{
  "nbformat": 4,
  "nbformat_minor": 0,
  "metadata": {
    "kernelspec": {
      "display_name": "Python 3",
      "language": "python",
      "name": "python3"
    },
    "language_info": {
      "codemirror_mode": {
        "name": "ipython",
        "version": 3
      },
      "file_extension": ".py",
      "mimetype": "text/x-python",
      "name": "python",
      "nbconvert_exporter": "python",
      "pygments_lexer": "ipython3",
      "version": "3.8.5"
    },
    "colab": {
      "name": "Model_LSTM_FoxNews.ipynb",
      "provenance": [],
      "collapsed_sections": [
        "Uh4m8uTatWso",
        "hv14PhShtsJ-",
        "v8qaLJO8_AW9"
      ],
      "toc_visible": true
    }
  },
  "cells": [
    {
      "cell_type": "code",
      "metadata": {
        "colab": {
          "base_uri": "https://localhost:8080/"
        },
        "id": "iU0N2hKHeAIy",
        "outputId": "d9f383d3-3afe-41e5-ad24-bc246489a382"
      },
      "source": [
        "import re\n",
        "import pandas as pd\n",
        "import numpy as np\n",
        "import matplotlib.pyplot as plt \n",
        "import seaborn as sns\n",
        "import string\n",
        "import nltk\n",
        "import warnings \n",
        "warnings.filterwarnings(\"ignore\", category=DeprecationWarning)\n",
        "nltk.download('punkt')\n",
        "from nltk.tokenize import word_tokenize\n",
        "from nltk import PorterStemmer\n",
        "from wordcloud import WordCloud,ImageColorGenerator\n",
        "from PIL import Image\n",
        "import urllib\n",
        "import requests\n",
        "#from Preprocessing import clean_text, remove_names, entity_recognizing, remove_url\n",
        "from keras_preprocessing.sequence import pad_sequences\n",
        "from keras_preprocessing.text import Tokenizer\n",
        "from keras import Sequential\n",
        "from keras.layers import Embedding\n",
        "from keras.layers import SpatialDropout1D\n",
        "from keras.layers import LSTM\n",
        "from keras.layers import Dense\n",
        "from keras.callbacks import EarlyStopping\n",
        "from sklearn.preprocessing import LabelEncoder\n",
        "from sklearn.model_selection import train_test_split\n",
        "from sklearn.metrics import classification_report\n",
        "import tensorflow as tf\n",
        "from keras.models import Sequential\n",
        "from keras.layers import Dense\n",
        "from keras.layers import LSTM\n",
        "from keras.regularizers import l2\n",
        "import re\n",
        "import os\n",
        "\n",
        "%matplotlib inline\n",
        "print(tf.__version__)"
      ],
      "execution_count": null,
      "outputs": [
        {
          "output_type": "stream",
          "text": [
            "[nltk_data] Downloading package punkt to /root/nltk_data...\n",
            "[nltk_data]   Unzipping tokenizers/punkt.zip.\n",
            "2.4.1\n"
          ],
          "name": "stdout"
        }
      ]
    },
    {
      "cell_type": "code",
      "metadata": {
        "colab": {
          "base_uri": "https://localhost:8080/"
        },
        "id": "DClAs95Ne0Dj",
        "outputId": "c1ec558c-6859-4b5b-a3e3-fe582a836ba0"
      },
      "source": [
        "from google.colab import drive\n",
        "drive.mount('/content/drive')"
      ],
      "execution_count": null,
      "outputs": [
        {
          "output_type": "stream",
          "text": [
            "Mounted at /content/drive\n"
          ],
          "name": "stdout"
        }
      ]
    },
    {
      "cell_type": "markdown",
      "metadata": {
        "id": "TNt3t5PDfGVi"
      },
      "source": [
        "# New Section"
      ]
    },
    {
      "cell_type": "code",
      "metadata": {
        "colab": {
          "base_uri": "https://localhost:8080/",
          "height": 204
        },
        "id": "95DxqXw5eAI2",
        "outputId": "a01b8993-d64f-46f2-a54d-b0c5dbe8d4ff"
      },
      "source": [
        "path = \"/content/drive/MyDrive/IAS/NLP_and_Web/data/fox_news.csv\"\n",
        "df_training = pd.read_csv(path)\n",
        "df_training = df_training.rename(columns={'class': 'label'})\n",
        "df_training.head()"
      ],
      "execution_count": null,
      "outputs": [
        {
          "output_type": "execute_result",
          "data": {
            "text/html": [
              "<div>\n",
              "<style scoped>\n",
              "    .dataframe tbody tr th:only-of-type {\n",
              "        vertical-align: middle;\n",
              "    }\n",
              "\n",
              "    .dataframe tbody tr th {\n",
              "        vertical-align: top;\n",
              "    }\n",
              "\n",
              "    .dataframe thead th {\n",
              "        text-align: right;\n",
              "    }\n",
              "</style>\n",
              "<table border=\"1\" class=\"dataframe\">\n",
              "  <thead>\n",
              "    <tr style=\"text-align: right;\">\n",
              "      <th></th>\n",
              "      <th>Unnamed: 0</th>\n",
              "      <th>comment</th>\n",
              "      <th>label</th>\n",
              "    </tr>\n",
              "  </thead>\n",
              "  <tbody>\n",
              "    <tr>\n",
              "      <th>0</th>\n",
              "      <td>0</td>\n",
              "      <td>Merkel would never say NO</td>\n",
              "      <td>2</td>\n",
              "    </tr>\n",
              "    <tr>\n",
              "      <th>1</th>\n",
              "      <td>1</td>\n",
              "      <td>Expect more and more women to be asking .. \"wh...</td>\n",
              "      <td>2</td>\n",
              "    </tr>\n",
              "    <tr>\n",
              "      <th>2</th>\n",
              "      <td>2</td>\n",
              "      <td>Groping people in public wasn't already illega...</td>\n",
              "      <td>0</td>\n",
              "    </tr>\n",
              "    <tr>\n",
              "      <th>3</th>\n",
              "      <td>3</td>\n",
              "      <td>Merkel, possible the only person in charge who...</td>\n",
              "      <td>2</td>\n",
              "    </tr>\n",
              "    <tr>\n",
              "      <th>4</th>\n",
              "      <td>4</td>\n",
              "      <td>They know very well, no means NO They need to ...</td>\n",
              "      <td>2</td>\n",
              "    </tr>\n",
              "  </tbody>\n",
              "</table>\n",
              "</div>"
            ],
            "text/plain": [
              "   Unnamed: 0                                            comment  label\n",
              "0           0                          Merkel would never say NO      2\n",
              "1           1  Expect more and more women to be asking .. \"wh...      2\n",
              "2           2  Groping people in public wasn't already illega...      0\n",
              "3           3  Merkel, possible the only person in charge who...      2\n",
              "4           4  They know very well, no means NO They need to ...      2"
            ]
          },
          "metadata": {
            "tags": []
          },
          "execution_count": 3
        }
      ]
    },
    {
      "cell_type": "code",
      "metadata": {
        "colab": {
          "base_uri": "https://localhost:8080/"
        },
        "id": "n1eIkqfoeAI5",
        "outputId": "5350f613-b7fb-40d5-9626-28114cdaade7"
      },
      "source": [
        "df_training['label'].value_counts()\n"
      ],
      "execution_count": null,
      "outputs": [
        {
          "output_type": "execute_result",
          "data": {
            "text/plain": [
              "0    1083\n",
              "2     430\n",
              "Name: label, dtype: int64"
            ]
          },
          "metadata": {
            "tags": []
          },
          "execution_count": 4
        }
      ]
    },
    {
      "cell_type": "code",
      "metadata": {
        "colab": {
          "base_uri": "https://localhost:8080/"
        },
        "id": "fz8LMeSz4Gy8",
        "outputId": "f2a3637d-2453-46d4-e0ec-a2f213d8a68a"
      },
      "source": [
        "df_training.duplicated(subset=['comment']).value_counts()"
      ],
      "execution_count": null,
      "outputs": [
        {
          "output_type": "execute_result",
          "data": {
            "text/plain": [
              "False    1513\n",
              "dtype: int64"
            ]
          },
          "metadata": {
            "tags": []
          },
          "execution_count": 5
        }
      ]
    },
    {
      "cell_type": "code",
      "metadata": {
        "colab": {
          "base_uri": "https://localhost:8080/",
          "height": 419
        },
        "id": "SvvRXVn6mkMS",
        "outputId": "9d5579e0-6b41-49f0-ad71-33fdeaa52db8"
      },
      "source": [
        "#converting hate label(2) to hate label(1)\n",
        "df_training.replace({2:1}, inplace=True)\n",
        "df_training"
      ],
      "execution_count": null,
      "outputs": [
        {
          "output_type": "execute_result",
          "data": {
            "text/html": [
              "<div>\n",
              "<style scoped>\n",
              "    .dataframe tbody tr th:only-of-type {\n",
              "        vertical-align: middle;\n",
              "    }\n",
              "\n",
              "    .dataframe tbody tr th {\n",
              "        vertical-align: top;\n",
              "    }\n",
              "\n",
              "    .dataframe thead th {\n",
              "        text-align: right;\n",
              "    }\n",
              "</style>\n",
              "<table border=\"1\" class=\"dataframe\">\n",
              "  <thead>\n",
              "    <tr style=\"text-align: right;\">\n",
              "      <th></th>\n",
              "      <th>Unnamed: 0</th>\n",
              "      <th>comment</th>\n",
              "      <th>label</th>\n",
              "    </tr>\n",
              "  </thead>\n",
              "  <tbody>\n",
              "    <tr>\n",
              "      <th>0</th>\n",
              "      <td>0</td>\n",
              "      <td>Merkel would never say NO</td>\n",
              "      <td>1</td>\n",
              "    </tr>\n",
              "    <tr>\n",
              "      <th>1</th>\n",
              "      <td>1</td>\n",
              "      <td>Expect more and more women to be asking .. \"wh...</td>\n",
              "      <td>1</td>\n",
              "    </tr>\n",
              "    <tr>\n",
              "      <th>2</th>\n",
              "      <td>1</td>\n",
              "      <td>Groping people in public wasn't already illega...</td>\n",
              "      <td>0</td>\n",
              "    </tr>\n",
              "    <tr>\n",
              "      <th>3</th>\n",
              "      <td>3</td>\n",
              "      <td>Merkel, possible the only person in charge who...</td>\n",
              "      <td>1</td>\n",
              "    </tr>\n",
              "    <tr>\n",
              "      <th>4</th>\n",
              "      <td>4</td>\n",
              "      <td>They know very well, no means NO They need to ...</td>\n",
              "      <td>1</td>\n",
              "    </tr>\n",
              "    <tr>\n",
              "      <th>...</th>\n",
              "      <td>...</td>\n",
              "      <td>...</td>\n",
              "      <td>...</td>\n",
              "    </tr>\n",
              "    <tr>\n",
              "      <th>1508</th>\n",
              "      <td>1523</td>\n",
              "      <td>No, 10000 Loose nuts off their meds</td>\n",
              "      <td>1</td>\n",
              "    </tr>\n",
              "    <tr>\n",
              "      <th>1509</th>\n",
              "      <td>1524</td>\n",
              "      <td>Just another ugly leftist.</td>\n",
              "      <td>1</td>\n",
              "    </tr>\n",
              "    <tr>\n",
              "      <th>1510</th>\n",
              "      <td>1525</td>\n",
              "      <td>True. Most leftists ,esp female leftists have ...</td>\n",
              "      <td>1</td>\n",
              "    </tr>\n",
              "    <tr>\n",
              "      <th>1511</th>\n",
              "      <td>1526</td>\n",
              "      <td>First, lets get this straight</td>\n",
              "      <td>1</td>\n",
              "    </tr>\n",
              "    <tr>\n",
              "      <th>1512</th>\n",
              "      <td>1527</td>\n",
              "      <td>White privilege ...work all your life to take ...</td>\n",
              "      <td>1</td>\n",
              "    </tr>\n",
              "  </tbody>\n",
              "</table>\n",
              "<p>1513 rows × 3 columns</p>\n",
              "</div>"
            ],
            "text/plain": [
              "      Unnamed: 0                                            comment  label\n",
              "0              0                          Merkel would never say NO      1\n",
              "1              1  Expect more and more women to be asking .. \"wh...      1\n",
              "2              1  Groping people in public wasn't already illega...      0\n",
              "3              3  Merkel, possible the only person in charge who...      1\n",
              "4              4  They know very well, no means NO They need to ...      1\n",
              "...          ...                                                ...    ...\n",
              "1508        1523                No, 10000 Loose nuts off their meds      1\n",
              "1509        1524                         Just another ugly leftist.      1\n",
              "1510        1525  True. Most leftists ,esp female leftists have ...      1\n",
              "1511        1526                      First, lets get this straight      1\n",
              "1512        1527  White privilege ...work all your life to take ...      1\n",
              "\n",
              "[1513 rows x 3 columns]"
            ]
          },
          "metadata": {
            "tags": []
          },
          "execution_count": 6
        }
      ]
    },
    {
      "cell_type": "code",
      "metadata": {
        "colab": {
          "base_uri": "https://localhost:8080/",
          "height": 311
        },
        "id": "g_KEj1RGeAI7",
        "outputId": "5f9d33be-aada-45c0-d413-d2a75c44b047"
      },
      "source": [
        "df_training.label.value_counts().plot(kind='pie', subplots=True, autopct='%1.0f%%', title='Hate Speech Distribution Twitter')\n"
      ],
      "execution_count": null,
      "outputs": [
        {
          "output_type": "execute_result",
          "data": {
            "text/plain": [
              "array([<matplotlib.axes._subplots.AxesSubplot object at 0x7f1d1fcaacd0>],\n",
              "      dtype=object)"
            ]
          },
          "metadata": {
            "tags": []
          },
          "execution_count": 7
        },
        {
          "output_type": "display_data",
          "data": {
            "image/png": "[encoded data removed]",
            "text/plain": [
              "<Figure size 432x288 with 1 Axes>"
            ]
          },
          "metadata": {
            "tags": []
          }
        }
      ]
    },
    {
      "cell_type": "markdown",
      "metadata": {
        "id": "FMS64728eAI8"
      },
      "source": [
        "## class = class label for Fox news. 1 - hate speech 0 - non hate"
      ]
    },
    {
      "cell_type": "code",
      "metadata": {
        "id": "f8yylSoDeAI-"
      },
      "source": [
        "def filter_hatespeech_texts(df):\n",
        "    \n",
        "    def filter_texts(text):\n",
        "        return re.sub('@.\\:|!|@\\w+:|@[\\w]*|&#[0-9]*;|#\\w+|RT|\\/\\/t.co\\/\\w+|&gt|&lt', '', text)\n",
        "\n",
        "    def postprocess_filter_texts(text):\n",
        "        \n",
        "        return df\n",
        "\n",
        "    df['comment'] = df['comment'].apply(filter_texts)\n",
        "    df.replace(\"\", np.nan, inplace=True)\n",
        "    df = df.dropna()\n",
        "    \n",
        "    \n",
        "    return df\n",
        "\n",
        "df_training = filter_hatespeech_texts(df_training)"
      ],
      "execution_count": null,
      "outputs": []
    },
    {
      "cell_type": "code",
      "metadata": {
        "colab": {
          "base_uri": "https://localhost:8080/"
        },
        "id": "fynBIfipeAI_",
        "outputId": "fbfea800-6f1e-49bf-d75e-b9d0830ba956"
      },
      "source": [
        "TEXT_COLUMN = \"comment\"\n",
        "LABEL_COLUMN = \"label\"\n",
        "\n",
        "print(\"Converting to lower-case\")\n",
        "df_training[TEXT_COLUMN] = df_training[TEXT_COLUMN].str.lower()\n",
        "print(df_training.head())"
      ],
      "execution_count": null,
      "outputs": [
        {
          "output_type": "stream",
          "text": [
            "Converting to lower-case\n",
            "   Unnamed: 0                                            comment  label\n",
            "0           0                          merkel would never say no      1\n",
            "1           1  expect more and more women to be asking .. \"wh...      1\n",
            "2           1  groping people in public wasn't already illega...      0\n",
            "3           3  merkel, possible the only person in charge who...      1\n",
            "4           4  they know very well, no means no they need to ...      1\n"
          ],
          "name": "stdout"
        }
      ]
    },
    {
      "cell_type": "code",
      "metadata": {
        "id": "X4yvUcBUeAJA"
      },
      "source": [
        "df_training['doc_len'] = df_training[TEXT_COLUMN].apply(lambda words: len(words.split(\" \")))\n",
        "max_seq_len = np.round(df_training['doc_len'].mean() + df_training['doc_len'].std()).astype(int)"
      ],
      "execution_count": null,
      "outputs": []
    },
    {
      "cell_type": "code",
      "metadata": {
        "colab": {
          "base_uri": "https://localhost:8080/",
          "height": 204
        },
        "id": "yLMwtMhoeAJB",
        "outputId": "f8aafebc-6424-4327-dd5c-ca2eda0a84b2"
      },
      "source": [
        "df_training.head()"
      ],
      "execution_count": null,
      "outputs": [
        {
          "output_type": "execute_result",
          "data": {
            "text/html": [
              "<div>\n",
              "<style scoped>\n",
              "    .dataframe tbody tr th:only-of-type {\n",
              "        vertical-align: middle;\n",
              "    }\n",
              "\n",
              "    .dataframe tbody tr th {\n",
              "        vertical-align: top;\n",
              "    }\n",
              "\n",
              "    .dataframe thead th {\n",
              "        text-align: right;\n",
              "    }\n",
              "</style>\n",
              "<table border=\"1\" class=\"dataframe\">\n",
              "  <thead>\n",
              "    <tr style=\"text-align: right;\">\n",
              "      <th></th>\n",
              "      <th>Unnamed: 0</th>\n",
              "      <th>comment</th>\n",
              "      <th>label</th>\n",
              "      <th>doc_len</th>\n",
              "    </tr>\n",
              "  </thead>\n",
              "  <tbody>\n",
              "    <tr>\n",
              "      <th>0</th>\n",
              "      <td>0</td>\n",
              "      <td>merkel would never say no</td>\n",
              "      <td>1</td>\n",
              "      <td>5</td>\n",
              "    </tr>\n",
              "    <tr>\n",
              "      <th>1</th>\n",
              "      <td>1</td>\n",
              "      <td>expect more and more women to be asking .. \"wh...</td>\n",
              "      <td>1</td>\n",
              "      <td>28</td>\n",
              "    </tr>\n",
              "    <tr>\n",
              "      <th>2</th>\n",
              "      <td>1</td>\n",
              "      <td>groping people in public wasn't already illega...</td>\n",
              "      <td>0</td>\n",
              "      <td>12</td>\n",
              "    </tr>\n",
              "    <tr>\n",
              "      <th>3</th>\n",
              "      <td>3</td>\n",
              "      <td>merkel, possible the only person in charge who...</td>\n",
              "      <td>1</td>\n",
              "      <td>80</td>\n",
              "    </tr>\n",
              "    <tr>\n",
              "      <th>4</th>\n",
              "      <td>4</td>\n",
              "      <td>they know very well, no means no they need to ...</td>\n",
              "      <td>1</td>\n",
              "      <td>20</td>\n",
              "    </tr>\n",
              "  </tbody>\n",
              "</table>\n",
              "</div>"
            ],
            "text/plain": [
              "   Unnamed: 0  ... doc_len\n",
              "0           0  ...       5\n",
              "1           1  ...      28\n",
              "2           1  ...      12\n",
              "3           3  ...      80\n",
              "4           4  ...      20\n",
              "\n",
              "[5 rows x 4 columns]"
            ]
          },
          "metadata": {
            "tags": []
          },
          "execution_count": 11
        }
      ]
    },
    {
      "cell_type": "markdown",
      "metadata": {
        "id": "rq6nf8yneAJC"
      },
      "source": [
        "## Splitting the data"
      ]
    },
    {
      "cell_type": "code",
      "metadata": {
        "id": "2lXJeCdZeAJD"
      },
      "source": [
        "seed = 11\n",
        "test_size = 0.0\n",
        "# categories = ['not hate speech', 'hate speech]\n",
        "categories = [0,1]\n",
        "def split_dataset(df, seed, test_size):\n",
        "    #train, test = train_test_split(df, test_size=test_size, random_state=seed, shuffle=True)\n",
        "    #val, test = train_test_split(test, test_size=0.5, random_state=seed, shuffle=True)\n",
        "    #return train.comment, train.label, test.comment, test.label  #, val.comment, val.label\n",
        "    return df.comment, df.label, df.comment, df.label"
      ],
      "execution_count": null,
      "outputs": []
    },
    {
      "cell_type": "code",
      "metadata": {
        "id": "P-O7D0dceAJE"
      },
      "source": [
        "train, train_targets, test, test_targets = split_dataset(df_training, seed=seed, test_size=test_size)"
      ],
      "execution_count": null,
      "outputs": []
    },
    {
      "cell_type": "code",
      "metadata": {
        "colab": {
          "base_uri": "https://localhost:8080/"
        },
        "id": "Bs3oHDiyeAJF",
        "outputId": "28f1f0e2-333e-45ea-fdd0-4bc1e444838a"
      },
      "source": [
        "type(train_targets.values)"
      ],
      "execution_count": null,
      "outputs": [
        {
          "output_type": "execute_result",
          "data": {
            "text/plain": [
              "numpy.ndarray"
            ]
          },
          "metadata": {
            "tags": []
          },
          "execution_count": 21
        }
      ]
    },
    {
      "cell_type": "code",
      "metadata": {
        "id": "W9ywvoxqrnVT"
      },
      "source": [
        "def calculate_dataset_class_distribution(targets, categories):\n",
        "    df = pd.DataFrame({'category':targets})\n",
        "    s = df.category.value_counts(normalize=True)\n",
        "    s = s.reindex(categories)\n",
        "    return [s.index[0], s[0]], [s.index[1], s[1]]"
      ],
      "execution_count": null,
      "outputs": []
    },
    {
      "cell_type": "code",
      "metadata": {
        "id": "YZW5PS7GroRW"
      },
      "source": [
        "train_class_distribution = calculate_dataset_class_distribution(train_targets, categories)\n",
        "test_class_distribution = calculate_dataset_class_distribution(test_targets, categories)"
      ],
      "execution_count": null,
      "outputs": []
    },
    {
      "cell_type": "code",
      "metadata": {
        "id": "JmC1W49VeAJG"
      },
      "source": [
        "embed_size = 300  # how big is each word vector\n",
        "max_features = None  # how many unique words to use (i.e num rows in embedding vector)\n",
        "maxlen = max_seq_len  # max number of words in a question to use #99.99%\n",
        "\n",
        "def encode(data, label):\n",
        "    # fill up the missing values\n",
        "    X = data.fillna(\"_na_\").values\n",
        "    total_texts = df_training.comment.fillna(\"_na_\").values\n",
        "    \n",
        "    # Tokenize the sentences\n",
        "    tokenizer = Tokenizer(num_words=max_features, filters='')\n",
        "    tokenizer.fit_on_texts(list(total_texts))\n",
        "    X = tokenizer.texts_to_sequences(X)\n",
        "    vocab_size = len(tokenizer.word_index) + 1\n",
        "    print(tokenizer.word_index)\n",
        "    \n",
        "    # Pad the sentences\n",
        "    X = pad_sequences(X, maxlen=maxlen)\n",
        "    print(X.shape)\n",
        "    \n",
        "    # Get the target values\n",
        "    y = pd.get_dummies(label.values)\n",
        "    print(y.shape)\n",
        "    #le = LabelEncoder()\n",
        "    #le.fit(Y_train)\n",
        "    #encoded_Y = le.transform(Y_train)\n",
        "    return X,y,vocab_size\n",
        "    "
      ],
      "execution_count": null,
      "outputs": []
    },
    {
      "cell_type": "code",
      "metadata": {
        "colab": {
          "base_uri": "https://localhost:8080/"
        },
        "id": "vLk8ZCRxnHiu",
        "outputId": "66c85cfa-9e99-4768-8eb8-383be3eddcf6"
      },
      "source": [
        "max_seq_len"
      ],
      "execution_count": null,
      "outputs": [
        {
          "output_type": "execute_result",
          "data": {
            "text/plain": [
              "56"
            ]
          },
          "metadata": {
            "tags": []
          },
          "execution_count": 25
        }
      ]
    },
    {
      "cell_type": "code",
      "metadata": {
        "colab": {
          "base_uri": "https://localhost:8080/"
        },
        "id": "LzwSvb7XksbB",
        "outputId": "532a659d-6e33-44b7-e97a-5f3f019441ed"
      },
      "source": [
        "type(train)"
      ],
      "execution_count": null,
      "outputs": [
        {
          "output_type": "execute_result",
          "data": {
            "text/plain": [
              "pandas.core.series.Series"
            ]
          },
          "metadata": {
            "tags": []
          },
          "execution_count": 26
        }
      ]
    },
    {
      "cell_type": "code",
      "metadata": {
        "colab": {
          "base_uri": "https://localhost:8080/"
        },
        "id": "77D8wbLbeAJI",
        "outputId": "2b8382d0-390b-476f-f3de-77537905815c"
      },
      "source": [
        "# FETCH DATA, LABELS, DICTIONARIES\n",
        "X_train, y_train, vocab_size = encode(train, train_targets)\n",
        "X_test, y_test, vocab_size = encode(test, test_targets)\n",
        "\n",
        "print(vocab_size)"
      ],
      "execution_count": null,
      "outputs": [
        {
          "output_type": "stream",
          "text": [
            "{'the': 1, 'to': 2, 'and': 3, 'a': 4, 'of': 5, 'is': 6, 'in': 7, 'that': 8, 'you': 9, 'i': 10, 'are': 11, 'for': 12, 'it': 13, 'they': 14, 'not': 15, 'have': 16, 'be': 17, 'with': 18, 'on': 19, 'this': 20, 'as': 21, 'was': 22, 'people': 23, 'who': 24, 'all': 25, 'your': 26, 'will': 27, 'what': 28, 'but': 29, 'or': 30, 'their': 31, 'if': 32, 'no': 33, 'just': 34, 'so': 35, 'we': 36, 'do': 37, 'by': 38, 'like': 39, 'an': 40, 'has': 41, 'from': 42, 'at': 43, 'would': 44, 'can': 45, 'get': 46, 'about': 47, 'he': 48, 'she': 49, 'should': 50, \"don't\": 51, 'them': 52, 'how': 53, 'there': 54, 'more': 55, 'because': 56, \"it's\": 57, 'up': 58, 'one': 59, 'my': 60, 'than': 61, 'out': 62, 'only': 63, 'when': 64, 'his': 65, 'why': 66, 'any': 67, 'our': 68, 'white': 69, 'make': 70, 'some': 71, 'obama': 72, 'then': 73, 'these': 74, 'her': 75, 'been': 76, 'want': 77, 'were': 78, 'think': 79, 'did': 80, 'never': 81, 'does': 82, 'work': 83, 'after': 84, 'flag': 85, 'country': 86, 'know': 87, 'many': 88, 'had': 89, 'its': 90, 'need': 91, 'those': 92, 'now': 93, 'into': 94, 'being': 95, 'it.': 96, 'other': 97, 'even': 98, 'go': 99, 'see': 100, 'good': 101, 'over': 102, 'very': 103, 'could': 104, 'black': 105, 'government': 106, 'much': 107, \"that's\": 108, 'right': 109, '-': 110, 'said': 111, 'us': 112, 'me': 113, 'same': 114, 'where': 115, \"can't\": 116, 'keep': 117, 'law': 118, 'which': 119, 'first': 120, 'most': 121, 'america': 122, 'food': 123, 'say': 124, 'back': 125, 'really': 126, 'liberals': 127, 'own': 128, 'american': 129, 'against': 130, 'state': 131, 'person': 132, 'take': 133, 'off': 134, \"didn't\": 135, \"i'm\": 136, 'going': 137, \"you're\": 138, 'also': 139, 'sure': 140, 'him': 141, 'states': 142, 'maybe': 143, 'trump': 144, 'down': 145, 'stop': 146, 'better': 147, 'time': 148, 'nothing': 149, 'believe': 150, 'blacks': 151, 'way': 152, 'here': 153, \"isn't\": 154, 'illegal': 155, \"doesn't\": 156, 'give': 157, 'another': 158, 'still': 159, 'years': 160, 'every': 161, 'too': 162, 'hate': 163, 'pay': 164, 'name': 165, 'israel': 166, 'them.': 167, 'help': 168, 'job': 169, 'someone': 170, 'anything': 171, 'social': 172, 'college': 173, 'ship': 174, 'liberal': 175, 'come': 176, 'always': 177, 'am': 178, 'federal': 179, '.': 180, 'navy': 181, 'women': 182, 'means': 183, 'family': 184, 'such': 185, 'ever': 186, 'given': 187, 'new': 188, 'made': 189, 'care': 190, 'great': 191, 'try': 192, 'while': 193, 'under': 194, '&': 195, 'man': 196, 'look': 197, 'talking': 198, 'thing': 199, 'understand': 200, 'around': 201, 'actually': 202, 'well': 203, 'little': 204, 'welfare': 205, 'affirmative': 206, 'put': 207, 'support': 208, 'live': 209, 'house': 210, 'money': 211, 'wrong': 212, 'something': 213, 'lives': 214, 'working': 215, 'gay': 216, 'number': 217, 'let': 218, 'children': 219, 'before': 220, 'must': 221, 'real': 222, 'use': 223, 'since': 224, 'used': 225, 'vote': 226, 'getting': 227, 'day': 228, 'anyone': 229, 'else': 230, 'matter': 231, 'students': 232, 'confederate': 233, 'stamps': 234, 'away': 235, 'making': 236, 'democrats': 237, 'citizens': 238, 'got': 239, 'laws': 240, 'agree': 241, 'americans': 242, 'called': 243, 'different': 244, 'others': 245, 'far': 246, 'civil': 247, 'kids': 248, 'paid': 249, 'illegals': 250, 'free': 251, 'jobs': 252, ',': 253, 'action': 254, 'flying': 255, 'until': 256, 'public': 257, 'doing': 258, 'problem': 259, 'you.': 260, 'human': 261, 'everything': 262, 'rights': 263, 'find': 264, 'read': 265, 'long': 266, 'blm': 267, 'men': 268, 'already': 269, 'woman': 270, 'again': 271, 'last': 272, 'point': 273, 'parents': 274, 'sense': 275, 'old': 276, 'president': 277, 'life': 278, 'speech': 279, 'world': 280, 'makes': 281, 'enough': 282, 'become': 283, 'political': 284, 'part': 285, 'seems': 286, 'guess': 287, 'without': 288, \"they're\": 289, 'having': 290, 'that.': 291, 'united': 292, 'needs': 293, 'freedom': 294, 'income': 295, 'land': 296, 'two': 297, 'bill': 298, 'lot': 299, 'mean': 300, 'feel': 301, 'allow': 302, 'high': 303, 'saying': 304, 'things': 305, 'both': 306, 'fact': 307, 'living': 308, \"he's\": 309, 'says': 310, 'may': 311, 'hillary': 312, 'year': 313, 'racist': 314, 'history': 315, 'racism': 316, 'group': 317, 'worse': 318, 'trying': 319, 'though': 320, 'so,': 321, 'true': 322, 'no,': 323, 'mind': 324, 'change': 325, 'wonder': 326, 'left': 327, 'using': 328, 'few': 329, 'show': 330, 'forced': 331, 'might': 332, 'military': 333, 'is.': 334, 'full': 335, 'water': 336, 'colleges': 337, 'sexual': 338, '?': 339, 'yes': 340, 'clinton': 341, 'terrorist': 342, 'one.': 343, 'right.': 344, 'instead': 345, 'through': 346, 'gays': 347, 'lie': 348, 'wants': 349, 'coming': 350, 'god': 351, 'tell': 352, 'slaves': 353, 'next': 354, 'security': 355, 'bad': 356, 'everyone': 357, 'poor': 358, '2': 359, 'bet': 360, 'hatred': 361, 'diversity': 362, 'longer': 363, 'german': 364, 'probably': 365, 'allowed': 366, 'once': 367, 'out.': 368, 'politicians': 369, 'nation': 370, 'clearly': 371, 'unless': 372, 'remember': 373, 'gender': 374, 'bathroom': 375, 'wish': 376, \"couldn't\": 377, 'stand': 378, 'office': 379, 'born': 380, 'based': 381, 'less': 382, 'call': 383, 'times': 384, 'comes': 385, 'jesus': 386, 'hope': 387, 'place': 388, 'defend': 389, 'open': 390, 'rather': 391, 'yet': 392, 'school': 393, 'lost': 394, 'isis': 395, 'watch': 396, 'asked': 397, 'please': 398, 'not.': 399, 'police': 400, 'during': 401, 'proud': 402, 'michelle': 403, 'barker': 404, 'exactly': 405, 'pass': 406, \"aren't\": 407, 'muslims': 408, 'end': 409, 'whole': 410, 'especially': 411, 'criminals': 412, 'hard': 413, 'learn': 414, 'work.': 415, 'cannot': 416, 'religion': 417, 'this.': 418, 'tax': 419, 'time.': 420, 'post': 421, 'answer': 422, 'small': 423, 'society': 424, 'it,': 425, 'rest': 426, 'thinking': 427, 'least': 428, 'kind': 429, 'serve': 430, 'comment': 431, '...': 432, 'move': 433, 'went': 434, 'boy': 435, 'million': 436, 'started': 437, 'fix': 438, 'love': 439, 'qualified': 440, 'fly': 441, 'naming': 442, 'flag.': 443, 'war': 444, 'alligators': 445, 'is,': 446, \"won't\": 447, 'idea': 448, 'u': 449, 'rid': 450, 'reason': 451, 'thought': 452, 'none': 453, 'win': 454, 'fox': 455, 'middle': 456, 'families': 457, 'either': 458, 'yes,': 459, 'etc.': 460, 'oh': 461, 'you,': 462, 'supporters': 463, 'case': 464, 'now.': 465, 'sick': 466, 'point.': 467, 'jewish': 468, 'slavery': 469, 'health': 470, 'issue': 471, 'young': 472, 'ok': 473, 'up.': 474, 'you?': 475, 'cities': 476, 'aliens': 477, 'national': 478, 'lol': 479, \"i'll\": 480, 'sanctuary': 481, 'paying': 482, 'us.': 483, 'hispanics': 484, 'follow': 485, 'start': 486, 'taxes': 487, 'lady': 488, 'taken': 489, 'oh,': 490, 'teach': 491, 'that,': 492, 'sounds': 493, 'me.': 494, 'responsible': 495, 'protect': 496, 'sad': 497, 'state.': 498, 'order': 499, 'islam': 500, 'type': 501, 'on.': 502, 'law.': 503, 'self': 504, 'local': 505, 'death': 506, 'education': 507, 'transgender': 508, 'equal': 509, 'becoming': 510, 'hilary': 511, 'dems': 512, 'years.': 513, \"haven't\": 514, 'question': 515, 'ones': 516, 'evil': 517, 'media': 518, 'confused': 519, 'however,': 520, 'way.': 521, 'face': 522, 'truly': 523, 'able': 524, 'level': 525, 'shot': 526, 'taking': 527, 'behind': 528, 'do.': 529, 'wanted': 530, 'failed': 531, 'seem': 532, 'immigration': 533, 'killed': 534, 'ice': 535, 'illegally': 536, 'looks': 537, 'dead': 538, 'true.': 539, 'population': 540, 'south': 541, \"shouldn't\": 542, 'whites': 543, 'play': 544, 'power': 545, '6': 546, 'unemployment': 547, 'worst': 548, 'husband': 549, 'jews': 550, 'uss': 551, 'thousands': 552, 'gorilla': 553, 'expect': 554, \"we're\": 555, \"what's\": 556, 'convicted': 557, '\"': 558, 'raped': 559, 'lets': 560, 'talk': 561, 'several': 562, 'happen': 563, 'countries': 564, '--': 565, 'members': 566, 'lack': 567, 'country.': 568, 'control': 569, 'dont': 570, 'hear': 571, \"she's\": 572, 'america.': 573, 'big': 574, 'fine': 575, 'nice': 576, 'came': 577, 'second': 578, 'capable': 579, 'turn': 580, '3': 581, 'eastern': 582, 'run': 583, 'harm': 584, 'confusion': 585, 'wrong.': 586, 'term': 587, 'looking': 588, 'truth': 589, 'best': 590, 'done': 591, 'created': 592, 'brain': 593, 'simply': 594, 'people.': 595, 'months': 596, 'send': 597, 'took': 598, \"obama's\": 599, 'in.': 600, 'about?': 601, 'perversion': 602, 'perhaps': 603, 'neither': 604, 'enforcement': 605, 'guy': 606, 'u.s.': 607, '2016': 608, 'three': 609, 'multiple': 610, 'chicago': 611, 'catholic': 612, 'church': 613, 'policy': 614, 'home': 615, 'afford': 616, 'ebt': 617, 'served': 618, 'san': 619, 'front': 620, 'offer': 621, 'sorry': 622, '9': 623, 'continue': 624, 'seen': 625, 'worked': 626, 'known': 627, 'racial': 628, 'southern': 629, 'government.': 630, 'native': 631, 'gotten': 632, 'feminist': 633, 'alligator': 634, 'gator': 635, 'merkel': 636, \"wasn't\": 637, '\"no\"': 638, 'millions': 639, 'bunch': 640, 'each': 641, 'socialist': 642, 'previous': 643, 'core': 644, 'speech.': 645, 'sharia': 646, 'all.': 647, 'no.': 648, 'large': 649, \"i'd\": 650, 'international': 651, 'male': 652, 'considered': 653, 'failure': 654, 'shows': 655, 'democratic': 656, 'case,': 657, 'conservatives': 658, 'thats': 659, 'told': 660, 'again,': 661, \"you've\": 662, 'couple': 663, 'republican': 664, 'well.': 665, 'schools': 666, 'friends': 667, 'sad.': 668, 'bother': 669, 'nonsense.': 670, 'actual': 671, 'first,': 672, 'itself': 673, 'claim': 674, 'refused': 675, 'nature': 676, 'dangerous': 677, 'due': 678, 'minds': 679, 'inner': 680, 'mention': 681, 'moral': 682, 'correctness': 683, 'various': 684, 'suppose': 685, 'between': 686, 'nobody': 687, 'service': 688, 'religious': 689, 'discriminate': 690, 'are.': 691, 'usually': 692, 'speak': 693, 'facts': 694, 'simple': 695, '–': 696, 'calling': 697, 'themselves': 698, 'innocent': 699, 'supporting': 700, 'ago.': 701, 'notice': 702, 'correct': 703, 'ha': 704, 'explain': 705, 'gets': 706, 'terrible': 707, 'worse.': 708, 'ladies': 709, 'pushing': 710, \"i've\": 711, 'wearing': 712, 'drug': 713, 'body': 714, 'discrimination': 715, 'not,': 716, 'heard': 717, 'compliance': 718, 'pointing': 719, 'current': 720, 'pedophile': 721, 'happens': 722, 'immigrant': 723, 'married': 724, 'remove': 725, 'criminal': 726, 'leaves': 727, 'sold': 728, 'honorable': 729, 'donald': 730, 'according': 731, 'rules': 732, 'article': 733, 'words': 734, 'know.': 735, 'grow': 736, 'build': 737, 'funny': 738, 'entire': 739, 'signs': 740, 'wife': 741, 'judge': 742, 'commencement': 743, '4': 744, 'available': 745, '20': 746, 'minorities': 747, 'surprise': 748, 'harvey': 749, 'named': 750, 'milk': 751, 'count': 752, 'color': 753, 'fought': 754, 'battle': 755, 'stars': 756, 'constitution.': 757, 'jews.': 758, 'sign': 759, 'apply': 760, 'student': 761, 'system': 762, 'buy': 763, 'child': 764, 'dad': 765, 'parent': 766, '\"white': 767, 'brienne': 768, 'pull': 769, 'assault': 770, 'suspended': 771, 'well,': 772, 'laid': 773, 'deported': 774, 'republicans': 775, 'yeah': 776, 'crime': 777, 'elected': 778, 'yourself': 779, 'monkey': 780, 'apparently': 781, 'so.': 782, 'with.': 783, 'violent': 784, '(and': 785, 'foreign': 786, 'too.': 787, 'problem.': 788, 'course': 789, 'except': 790, 'immigrants': 791, 'that?': 792, 'leave': 793, 'though.': 794, 'subject': 795, 'man.': 796, 'act': 797, 'thank': 798, 'certain': 799, 'silly': 800, 'protecting': 801, 'sense.': 802, 'jail': 803, 'office.': 804, 'yeah,': 805, 'justice': 806, 'referring': 807, 'depends': 808, 'lived': 809, 'often': 810, 'obviously': 811, 'bathrooms': 812, 'huge': 813, 'right?': 814, 'nor': 815, 'say.': 816, 'clear': 817, 'hoping': 818, 'help.': 819, 'original': 820, 'result': 821, 'cons': 822, 'here.': 823, 'conservative': 824, 'reality.': 825, 'reality': 826, 'adults': 827, 'issues': 828, 'bring': 829, 'real.': 830, 'inherently': 831, 'individual': 832, 'and,': 833, 'possibly': 834, 'common': 835, 'somehow': 836, 'understanding': 837, 'treatment': 838, 'force': 839, 'along': 840, \"god's\": 841, 'general': 842, 'again.': 843, 'top': 844, 'morals': 845, 'whose': 846, 'bible': 847, 'yep': 848, 'write': 849, 'counter': 850, 'hide': 851, 'ask': 852, 'huh?': 853, 'bringing': 854, 'respect': 855, 'it?': 856, \"there's\": 857, 'doubt': 858, 'opinion': 859, 'game': 860, 'create': 861, 'birth': 862, 'up,': 863, 'north': 864, 'forget': 865, 'five': 866, 'major': 867, 'home.': 868, 'mexico': 869, 'hispanic': 870, 'everywhere': 871, 'appears': 872, 'died': 873, 'o': 874, 'google': 875, 'stay': 876, 'mexican': 877, 'ya': 878, 'including': 879, 'administration': 880, 'taxpayers': 881, 'trump.': 882, 'fast': 883, 'matter.': 884, 'information': 885, 'single': 886, 'program': 887, 'missed': 888, 'years,': 889, 'refuse': 890, 'rights.': 891, 'q.': 892, 'a.': 893, 'thanks': 894, 'concerned': 895, 'elite': 896, 'higher': 897, 're': 898, '\"the': 899, 'nothing.': 900, 'sit': 901, 'race': 902, 'skin': 903, 'shut': 904, 'out,': 905, 'walls': 906, 'consider': 907, '1': 908, 'spent': 909, 'house.': 910, 'plan': 911, 'company': 912, 'university': 913, 'class': 914, 'baby': 915, 'victims': 916, '....': 917, 'heart': 918, 'comments': 919, 'throw': 920, 'check': 921, 'proof': 922, 'hey': 923, 'racism,': 924, 'blame': 925, 'honorable\"': 926, 'discharge.': 927, 'ships': 928, 'planning': 929, 'provide': 930, 'treason': 931, 'signed': 932, 'represents': 933, 'constitution': 934, 'slavery.': 935, 'percentage': 936, 'enemy': 937, 'hate.': 938, 'first.': 939, 'eating': 940, 'financial': 941, 'diversity,': 942, 'qualify': 943, '\"diversity\"': 944, 'receive': 945, 'applied': 946, 'low': 947, 'junior': 948, 'requirement': 949, 'benefits': 950, 'recipients': 951, 'blah': 952, 'feminism': 953, 'gators': 954, 'towards': 955, 'pants': 956, 'abetting': 957, 'pathetic': 958, 'handed': 959, 'meaning': 960, 'soon': 961, 'humanity': 962, 'physical': 963, 'speech,': 964, 'belief': 965, 'care.': 966, 'about.': 967, '\"no': 968, 'laws.': 969, 'example': 970, 'numbers.': 971, 'leader': 972, 'law,': 973, 'themselves.': 974, 'animal': 975, 'court': 976, 'future.': 977, 'gun': 978, 'hates': 979, 'them,': 980, 'brought': 981, 'knows': 982, 'video': 983, 'wing': 984, 'equivalent': 985, 'felt': 986, 'exist.': 987, 'christians': 988, 'pretty': 989, 'female': 990, 'woman.': 991, 'wayne.': 992, 'admit': 993, 'violence': 994, 'dump': 995, 'four': 996, 'statement.': 997, 'morality': 998, 'ancient': 999, 'book': 1000, 'thinks': 1001, 'nonsense': 1002, 'fact.': 1003, 'names': 1004, 'caused': 1005, 'condition': 1006, 'willing': 1007, 'identity': 1008, 'they?': 1009, 'tried': 1010, 'believes': 1011, 'harmful': 1012, 'society.': 1013, 'are,': 1014, 'interest': 1015, 'conditions': 1016, 'psychology': 1017, 'process': 1018, 'before.': 1019, 'outside': 1020, 'takes': 1021, 'choose': 1022, '13': 1023, 'room': 1024, 'nuts': 1025, 'enter': 1026, 'supposed': 1027, 'putting': 1028, 'refute': 1029, 'attention': 1030, 'utter': 1031, 'truth.': 1032, '\"other': 1033, 'faith': 1034, 'president,': 1035, 'people?': 1036, 'news': 1037, 'yours': 1038, 'standard': 1039, 'founded': 1040, 'really?': 1041, 'push': 1042, '25': 1043, 'telling': 1044, '(or': 1045, 'job,': 1046, 'caught': 1047, 'issues.': 1048, 'protected': 1049, 'standing': 1050, 'limited': 1051, 'growing': 1052, 'side': 1053, 'president.': 1054, 'pro': 1055, 'seriously': 1056, 'figure': 1057, 'opinions': 1058, 'pedophiles': 1059, 'on,': 1060, 'equality': 1061, \"you'll\": 1062, 'cop': 1063, 'says,': 1064, 'cops': 1065, '50': 1066, 'voting': 1067, 'fraud': 1068, 'democrat': 1069, 'released': 1070, 'building': 1071, 'voters': 1072, 'her.': 1073, 'obama’s': 1074, 'george': 1075, 'bush': 1076, 'obama,': 1077, 'number.': 1078, 'numerous': 1079, 'commander': 1080, 'private': 1081, 'research': 1082, 'moved': 1083, 'pick': 1084, 'amazing': 1085, 'grandmother': 1086, 'aiding': 1087, 'day,': 1088, 'area': 1089, 'leaving': 1090, 'bars': 1091, 'works': 1092, 'control.': 1093, 'future': 1094, 'jobs.': 1095, 'safe': 1096, 'girls': 1097, 'die': 1098, 'currently': 1099, 'limit': 1100, 'money.': 1101, 'burn': 1102, 'easy': 1103, 'healthcare': 1104, 'chief': 1105, '=': 1106, 'backs': 1107, 'businesses': 1108, 'streets': 1109, 'wall': 1110, 'congress': 1111, 'workers': 1112, 'luck': 1113, 'hole': 1114, 'watching': 1115, 'bit': 1116, 'cant': 1117, 'else.': 1118, 'privileged': 1119, 'public.': 1120, 'soros': 1121, 'for.': 1122, 'pay?': 1123, 'successful': 1124, 'anybody': 1125, 'dollars': 1126, 'complete': 1127, 'wake': 1128, 'work,': 1129, 'debt': 1130, 'pos': 1131, '1st': 1132, 'chicago,': 1133, 'built': 1134, 'slaves.': 1135, 'but,': 1136, \"we've\": 1137, 'playing': 1138, 'speaker': 1139, 'gives': 1140, 'line': 1141, 'dude': 1142, 'whether': 1143, 'attack': 1144, 'above': 1145, 'slave': 1146, 'there.': 1147, 'fingers': 1148, 'barack': 1149, 'daughter': 1150, 'deserve': 1151, 'record': 1152, 'honor': 1153, 'discharge': 1154, 'village': 1155, 'received': 1156, 'taste': 1157, 'define': 1158, 'among': 1159, 'group.': 1160, 'blew': 1161, 'honorably': 1162, 'indeed': 1163, 'giving': 1164, 'college,': 1165, 'response': 1166, 'groups': 1167, 'folks': 1168, 'child.': 1169, 'minority': 1170, 'purpose': 1171, 'days': 1172, 'business': 1173, 'amendment': 1174, 'test': 1175, 'nut': 1176, 'owned': 1177, 'lots': 1178, 'scholarships': 1179, 'excellent': 1180, 'graduating': 1181, 'college.': 1182, 'genocide': 1183, 'wait,': 1184, 'percent': 1185, 'promise': 1186, 'alive': 1187, 'sometimes': 1188, 'system.': 1189, 'degrees': 1190, 'socialists': 1191, 'spend': 1192, 'half': 1193, 'pays': 1194, 'stamps,': 1195, 'feed': 1196, 'hours': 1197, 'wanna': 1198, 'eat': 1199, 'employed': 1200, 'father': 1201, 'israel,': 1202, 'dershowitz': 1203, 'privilege?': 1204, 'asking': 1205, 'touch': 1206, 'merkel,': 1207, 'possible': 1208, 'charge': 1209, 'one-year': 1210, 'sentence.': 1211, 'attempted': 1212, 'legal': 1213, 'animals.': 1214, 'involved': 1215, 'mental': 1216, 'great,': 1217, 'imagine': 1218, 'wow.': 1219, 'lying': 1220, 'nasty': 1221, 'arabic': 1222, 'arab': 1223, 'choice': 1224, 'cause': 1225, 'ignorant': 1226, 'prevent': 1227, 'refugee': 1228, 'happens.': 1229, 'related': 1230, 'sand': 1231, 'wonderful': 1232, 'stupid': 1233, 'required': 1234, 'requires': 1235, 'said?': 1236, 'invited': 1237, 'back.': 1238, 'obey': 1239, \"wouldn't\": 1240, 'problem,': 1241, 'unfortunately': 1242, 'shame': 1243, 'pandering': 1244, 'religion.': 1245, 'includes': 1246, 'realize': 1247, 'quick': 1248, 'germany': 1249, 'country,': 1250, 'say?': 1251, 'improve': 1252, 'anyway': 1253, 'scumbags': 1254, 'knew': 1255, 'key': 1256, 'lead': 1257, 'near': 1258, 'add': 1259, 'keeping': 1260, 'dress': 1261, 'demand': 1262, 'enforce': 1263, \"america's\": 1264, 'sentence': 1265, 'list.': 1266, 'civilized': 1267, 'hundreds': 1268, 'became': 1269, 'view': 1270, 'hate,': 1271, 'acts': 1272, 'disaster': 1273, 'hurt': 1274, 'barry': 1275, 'european': 1276, 'style': 1277, 'opposition': 1278, 'deportation': 1279, 'party.': 1280, 'reverse': 1281, 'intended': 1282, 'executive': 1283, 'department': 1284, 'jump': 1285, 'kept': 1286, 'moving': 1287, 'sharon?': 1288, 'joke.': 1289, 'glad': 1290, 'name.': 1291, 'yourself.': 1292, 'quite': 1293, 'interesting': 1294, 'third': 1295, 'said,': 1296, 'thought.': 1297, 'period': 1298, 'ready': 1299, 'clinton.': 1300, 'polls': 1301, 'compete': 1302, 'focus': 1303, 'silver': 1304, 'liberals,': 1305, '8': 1306, 'latest': 1307, 'nope': 1308, 'dumped': 1309, 'carter': 1310, '80': 1311, 'not?': 1312, 'desert': 1313, 'tv.': 1314, 'hands': 1315, 'appear': 1316, 'hold': 1317, '\"transgenderism\"': 1318, 'children,': 1319, 'youth,': 1320, 'regarding': 1321, 'effects': 1322, 'denial': 1323, 'differently': 1324, 'appropriate': 1325, 'consequences': 1326, 'sadly': 1327, 'causes': 1328, 'therapy': 1329, 'solution': 1330, 'problems': 1331, 'confusions': 1332, 'majority': 1333, 'viable': 1334, 'solution.': 1335, 'depression': 1336, 'concepts': 1337, 'worth': 1338, 'deal': 1339, 'one,': 1340, 'fun': 1341, 'earlier': 1342, 'door,': 1343, 'medicine': 1344, 'terms': 1345, 'intimidate': 1346, 'evil,': 1347, 'incorrect': 1348, 'fallacy': 1349, 'blatant': 1350, 'grand': 1351, 'ended': 1352, 'course,': 1353, 'wrong,': 1354, '\"civil': 1355, 'watched': 1356, 'selective': 1357, 'serving': 1358, 'feels': 1359, 'senate': 1360, 'suggest': 1361, 'medical': 1362, 'completely': 1363, 'personally': 1364, 'recognize': 1365, 'via': 1366, 'toward': 1367, 'info': 1368, 'decades.': 1369, 'discrimination.': 1370, 'identifies': 1371, 'argument.': 1372, 'typo.': 1373, 'argument': 1374, 'enough.': 1375, 'argue': 1376, 'case.': 1377, 'question.': 1378, 'okay': 1379, 'abortion': 1380, 'added': 1381, 'tragic': 1382, 'fallen': 1383, 'words.': 1384, 'access': 1385, 'possessed': 1386, 'black.': 1387, 'pee.': 1388, 'claiming': 1389, 'me?': 1390, 'normal': 1391, 'basically': 1392, 'stopped': 1393, 'dresses': 1394, 'her,': 1395, 'mr.': 1396, 'seek': 1397, 'laugh': 1398, 'post.': 1399, 'stuff': 1400, 'wears': 1401, 'suits': 1402, 'party': 1403, 'attacking': 1404, 'places': 1405, 'scotus': 1406, 'passed': 1407, 'allowing': 1408, 'obama.': 1409, 'perversion?': 1410, 'mad': 1411, 'desired': 1412, 'what?': 1413, 'poster': 1414, 'legislation': 1415, 'carolina': 1416, 'forward': 1417, 'sane': 1418, 'ordering': 1419, 'drive': 1420, '\"but': 1421, 'removed': 1422, 'voter': 1423, 'vaughan': 1424, 'cited': 1425, 'car': 1426, 'serious': 1427, 'set': 1428, 'fire': 1429, 'removing': 1430, 'mexicans': 1431, 'attorney': 1432, 'officers': 1433, 'sankey': 1434, 'prior': 1435, '$100': 1436, '300': 1437, 'listed': 1438, 'volunteer': 1439, 'calls': 1440, 'denied': 1441, 'ss#': 1442, 'uses': 1443, 'citizen': 1444, 'we,': 1445, 'cut': 1446, 'arrest': 1447, 'english': 1448, 'also,': 1449, 'word': 1450, 'burning': 1451, 'police.': 1452, 'black,': 1453, 'destroy': 1454, 'property': 1455, 'uncle': 1456, 'anymore.': 1457, 'total': 1458, 'recognized': 1459, 'report': 1460, 'step': 1461, 'ground': 1462, 'clout': 1463, 'happened': 1464, 'idea.': 1465, 'illegally,': 1466, 'false': 1467, 'personal': 1468, 'breaking': 1469, 'conflict': 1470, 'left,': 1471, '/': 1472, 'changing': 1473, 'positive': 1474, 'constitutional': 1475, 'guards': 1476, 'welfare,': 1477, 'liquor': 1478, 'tired': 1479, '40': 1480, 'old.': 1481, 'system,': 1482, 'earth': 1483, 'more.': 1484, 'totally': 1485, 'situation': 1486, 'propaganda': 1487, 'action,': 1488, 'illegals.': 1489, 'saving': 1490, '7': 1491, 'receiving': 1492, 'informed': 1493, 'prison': 1494, 'also.': 1495, 'thugs': 1496, 'programs': 1497, 'extremely': 1498, 'rate': 1499, 'movement': 1500, 'dare': 1501, 'brothers': 1502, 'symbol': 1503, 'advantage': 1504, 'selling': 1505, 'light': 1506, 'opportunity': 1507, 'honest': 1508, 'excuse': 1509, 'base': 1510, 'deport': 1511, 'michelle,': 1512, 'pie': 1513, 'cares': 1514, \"“don't\": 1515, 'contributions': 1516, 'hungry': 1517, 'politics': 1518, 'turned': 1519, 'filled': 1520, 'presidential': 1521, 'anger': 1522, 'size': 1523, 'miss': 1524, 'hospital': 1525, 'helped': 1526, 'irish': 1527, 'kids.': 1528, 'broke': 1529, 'treated': 1530, 'family.': 1531, 'can.': 1532, 'held': 1533, 'providing': 1534, 'prefer': 1535, 'hat': 1536, 'today,': 1537, 'buying': 1538, 'this,': 1539, 'china': 1540, 'mouth': 1541, '??': 1542, 'separate': 1543, 'ugly': 1544, 'african': 1545, 'races': 1546, 'history.': 1547, 'head': 1548, 'im': 1549, '1/2': 1550, 'owners': 1551, 'attacks': 1552, 'africans': 1553, 'protest': 1554, 'daughters': 1555, 'males': 1556, 'others.': 1557, 'racist.': 1558, 'roll': 1559, 'class.': 1560, 'retired': 1561, 'trump,': 1562, 'navy.': 1563, 'disgusting': 1564, 'sailors': 1565, 'fight': 1566, 'him?': 1567, 'anything,': 1568, 'liberalism': 1569, 'paint': 1570, 'hated': 1571, 'search': 1572, 'lying?': 1573, 'boys': 1574, 'century': 1575, 'past': 1576, 'unfortunately,': 1577, 'gone': 1578, 'veteran': 1579, 'too?': 1580, 'target': 1581, 'sympathy': 1582, '\"less': 1583, 'pedophilia': 1584, 'chosen': 1585, 'stood': 1586, 'pedophile.': 1587, 'tells': 1588, 'bottom': 1589, 'strike': 1590, 'decided': 1591, 'community.': 1592, 'fighting': 1593, 'special': 1594, 'destroys': 1595, 'placed': 1596, 'people,': 1597, 'heritage.': 1598, 'race,': 1599, 'ancestors': 1600, 'rebel': 1601, 'supreme': 1602, 'flags': 1603, 'today': 1604, 'e.': 1605, '<': 1606, 'please,': 1607, 'authority': 1608, 'month': 1609, 'flag?': 1610, 'tread': 1611, 'anyway.': 1612, 'asians': 1613, 'regardless': 1614, 'whatever': 1615, 'race.': 1616, 'quota': 1617, 'wiped': 1618, 'wage': 1619, 'almost': 1620, '2015': 1621, 'cost': 1622, 'ability': 1623, 'confederacy': 1624, 'horrible': 1625, 'union.': 1626, 'branch': 1627, 'citizens.': 1628, 'job.': 1629, 'educated': 1630, \"one's\": 1631, 'testing': 1632, 'aid.': 1633, 'admissions': 1634, 'fund': 1635, 'low-income': 1636, 'studies': 1637, 'attempt': 1638, 'accepted': 1639, 'companies': 1640, 'ethnic': 1641, 'gas': 1642, 'decent': 1643, 'educational': 1644, 'zip': 1645, 'beyond': 1646, 'success': 1647, 'universities': 1648, 'next?': 1649, 'jews,': 1650, 'i’m': 1651, 'classes.': 1652, 'provides': 1653, 'companies.': 1654, 'math': 1655, 'scholarships.': 1656, 'alike.': 1657, 'standards': 1658, 'mom': 1659, \"let's\": 1660, 'kid': 1661, 'poorly': 1662, 'ahead': 1663, 'folk': 1664, 'shot.': 1665, 'experience': 1666, 'murray': 1667, 'asian': 1668, 'soc': 1669, 'sec.': 1670, 'box': 1671, 'soda': 1672, 'ill': 1673, 'assistance.': 1674, 'food.': 1675, 'able-bodied': 1676, 'guilt': 1677, 'cards': 1678, 'chimp': 1679, 'cash': 1680, 'disabled': 1681, 'stamps.': 1682, 'otherwise': 1683, '(': 1684, 'cell': 1685, 'sell': 1686, 'eats': 1687, 'cicero': 1688, 'supported': 1689, 'blacks.': 1690, 'away.': 1691, 'movement.': 1692, 'loyal': 1693, 'interests': 1694, 'accident': 1695, 'hood': 1696, 'disney': 1697, 'swimming': 1698, 'water.': 1699, 'son': 1700, 'this?': 1701, 'st.': 1702, 'daddy': 1703, 'privilege': 1704, 'snarth': 1705, 'privilege.': 1706, '21-year-old': 1707, 'iraqi': 1708, '26-year-old': 1709, 'algerian': 1710, 'assault,': 1711, 'sentence.\"': 1712, 'directly': 1713, 'punished': 1714, 'foreigners': 1715, 'disease': 1716, 'opposed': 1717, 'deporting': 1718, 'acting': 1719, 'savages': 1720, '~': 1721, 'uncivilized': 1722, 'germany.': 1723, 'africa.': 1724, \"that'll\": 1725, 'rapists,': 1726, 'muslims.': 1727, 'translate': 1728, 'language': 1729, 'moon': 1730, 'laws,': 1731, 'paper': 1732, 'easier': 1733, 'thing.': 1734, 'invaders': 1735, 'kick': 1736, 'loves': 1737, 'steel': 1738, 'shoes.': 1739, 'knife': 1740, 'germany,': 1741, 'rapist': 1742, 'alone': 1743, 'prove': 1744, 'germans': 1745, 'electing': 1746, 'eu': 1747, 'brussels.': 1748, 'criminals?': 1749, 'guess.': 1750, 'crimes': 1751, 'hurt,': 1752, 'votes': 1753, 'peaceful': 1754, 'neuter': 1755, 'lousy': 1756, 'did,': 1757, 'practice': 1758, 'capital': 1759, 'animals': 1760, 'men.': 1761, 'in?': 1762, 'weapons': 1763, 'islamic': 1764, 'treating': 1765, 'defense': 1766, 'meant': 1767, 'bernie': 1768, 'conviction': 1769, \"year's\": 1770, 'absolutely': 1771, 'behavior': 1772, 'reasonable': 1773, 'pig': 1774, 'sake': 1775, 'us,': 1776, 'answer.': 1777, 'most.': 1778, 'center': 1779, 'destroyed': 1780, 'brown': 1781, 'far?': 1782, 'allows': 1783, 'physically': 1784, 'itself.': 1785, 'price': 1786, 'letting': 1787, 'voted': 1788, 'books': 1789, 'perceived': 1790, 'existed': 1791, 'secret': 1792, 'unlike': 1793, 'christian': 1794, 'areas': 1795, 'around.': 1796, 'why?': 1797, 'awareness': 1798, 'tgs': 1799, 'churches': 1800, 'bigger': 1801, 'seeing': 1802, 'saying?': 1803, 'ah,': 1804, 'saw': 1805, 'nah,': 1806, 'either.': 1807, 'mostly': 1808, 'matters': 1809, 'accurate': 1810, 'within': 1811, 'effect': 1812, 'points.': 1813, 'mccain': 1814, '57': 1815, 'easily': 1816, 'election': 1817, 'day.': 1818, \"here's\": 1819, 'brings': 1820, 'source?': 1821, 'resolve': 1822, 'yet.': 1823, 'mean?': 1824, 'monica': 1825, 'lewinski': 1826, 'lol.': 1827, 'distinguish': 1828, 'to.': 1829, 'barbaric': 1830, 'blast': 1831, 'night': 1832, 'falsely': 1833, 'freedomscout': 1834, 'pink': 1835, 'spouting': 1836, 'han': 1837, 'nity': 1838, 'definitely': 1839, 'fox.': 1840, 'sb': 1841, 'reading': 1842, 'posts.': 1843, 'gender,': 1844, 'adolescents': 1845, 'deception': 1846, 'important': 1847, 'confuse': 1848, 'culture': 1849, 'repeated': 1850, 'both.': 1851, 'transgenderism': 1852, '\"real': 1853, 'thing\"': 1854, 'condemnation': 1855, 'specific,': 1856, 'real,': 1857, 'confused.': 1858, 'refer': 1859, 'form': 1860, 'suspect': 1861, 'react': 1862, 'them?': 1863, 'forcing': 1864, 'suicide.': 1865, 'forms': 1866, 'raise': 1867, 'resulting': 1868, 'perversions': 1869, 'brain,': 1870, 'person,': 1871, 'differently,': 1872, 'dynamically': 1873, 'changes': 1874, 'results': 1875, '\"spiritual': 1876, 'accept': 1877, 'value.': 1878, 'influence': 1879, 'course.': 1880, 'source': 1881, 'persons': 1882, 'sessions': 1883, 'deep': 1884, 'humanity.': 1885, 'fit': 1886, 'helping': 1887, 'error': 1888, 'statements': 1889, '\"indeed': 1890, 'last.\"': 1891, 'luke': 1892, 'one?': 1893, 'close': 1894, 'exist': 1895, 'such.': 1896, 'effort': 1897, 'many,': 1898, 'science,': 1899, 'rationale': 1900, '\"discriminate\"': 1901, '\"discrimination\"': 1902, 'elevated': 1903, 'warfare': 1904, 'foolish': 1905, 'politically': 1906, 'further': 1907, 'tactic': 1908, 'imply': 1909, 'writer': 1910, 'minded': 1911, 'thus': 1912, '\"put': 1913, 'truth,': 1914, 'figures': 1915, 'deeper': 1916, 'righteous': 1917, 'righteousness': 1918, 'bad,': 1919, 'dealt': 1920, 'properly': 1921, 'loving': 1922, 'god.': 1923, 'question?': 1924, '\"others\"': 1925, 'orlando': 1926, '102': 1927, 'him,': 1928, 'dirt': 1929, 'cover': 1930, 'school.': 1931, 'genetic': 1932, 'transgenders': 1933, 'fall': 1934, 'switch': 1935, 'interpretation': 1936, 'science': 1937, 'east': 1938, 'eh?': 1939, 'tg': 1940, 'marriage': 1941, 'then?': 1942, 'ra': 1943, 'marry': 1944, 'victim.': 1945, 'stone': 1946, 'guidance': 1947, 'as.': 1948, 'choice.': 1949, 'difference': 1950, 'words,': 1951, 'checking': 1952, 'auto': 1953, 'point,': 1954, 'likely': 1955, \"they'll\": 1956, 'shoot': 1957, 'solved': 1958, 'perfectly': 1959, 'culture.': 1960, 'difficult': 1961, 'creating': 1962, 'logic': 1963, 'religions': 1964, 'beings': 1965, 'remain': 1966, 'christ.': 1967, 'sinful': 1968, 'nearly': 1969, 'sole': 1970, 'identify': 1971, 'perhaps,': 1972, 'creation': 1973, 'bible?': 1974, 'surely': 1975, 'funny,': 1976, 'age': 1977, 'support.': 1978, 'girl': 1979, 'pee?': 1980, 'tg/gays?': 1981, 'deviance': 1982, 'else)': 1983, 'mess': 1984, 'lifestyle': 1985, 'determine': 1986, 'entered': 1987, 'ban': 1988, 'sure.': 1989, 'require': 1990, 'deviant': 1991, 'said.': 1992, 'true,': 1993, 'women,': 1994, 'pedophiles.': 1995, 'noticed': 1996, \"women's\": 1997, 'showed': 1998, 'claim.': 1999, 'celebrities': 2000, 'nc': 2001, 'statement': 2002, 'time;': 2003, 'him.': 2004, 'demanding': 2005, 'fines': 2006, 'answered': 2007, 'boycott': 2008, 'shared': 2009, 'bodies': 2010, 'mark': 2011, 'larry': 2012, 'craig?': 2013, 'outrage': 2014, 'ignore': 2015, 'rational': 2016, 'sue': 2017, 'ignoring': 2018, '\"get': 2019, '\"i': 2020, 'clean': 2021, 'crash': 2022, 'january': 2023, 'eswin': 2024, 'mejia': 2025, 'intoxicated': 2026, 'drag': 2027, 'arrived': 2028, 'ice’s': 2029, 'arrested': 2030, 'los': 2031, 'so-called': 2032, 'veteran,': 2033, 'july': 2034, 'months,': 2035, 'whats': 2036, 'usa.': 2037, 'records,': 2038, 'questions.': 2039, 'john': 2040, 'school,': 2041, 'concerning': 2042, 'representing': 2043, 'conduct': 2044, 'found': 2045, 'numbers': 2046, 'closely': 2047, 'done.': 2048, 'card': 2049, 'runs': 2050, 'massachusetts': 2051, '042': 2052, 'ave': 2053, 'attached': 2054, 'address': 2055, \"pd's\": 2056, 'highly': 2057, 'illegal,': 2058, 'accident.': 2059, 'coffee,': 2060, 'officer': 2061, 'sober': 2062, 'government?': 2063, 'alien': 2064, 'issued': 2065, 'hawaii': 2066, 'british': 2067, 'republic': 2068, 'congo': 2069, 'p': 2070, 's': 2071, 'crap': 2072, 'funding': 2073, 'white.': 2074, 'jail,': 2075, 'failing': 2076, 'chicken': 2077, 'rooting': 2078, 'city': 2079, 'randomly': 2080, 'endorsement': 2081, 'work?': 2082, 'supporter': 2083, 'silent': 2084, 'prayer': 2085, 'latino,': 2086, 'consequences.': 2087, 'mcd': 2088, 'harass': 2089, 'bounty': 2090, 'enforced': 2091, 'holding': 2092, 'can,': 2093, 'personnel': 2094, 'olympic': 2095, 'deleted.': 2096, 'props': 2097, 'contemporary.': 2098, \"hasn't\": 2099, 'fencing.': 2100, 'round': 2101, 'elections.': 2102, 'anything.': 2103, 'farm': 2104, 'section': 2105, 'position': 2106, 'automatically': 2107, 'church.': 2108, 'expense': 2109, 'grounds': 2110, 'liberals.': 2111, 'recruiting': 2112, 'publicly': 2113, 'funds': 2114, 'staying': 2115, 'plea': 2116, 'protection': 2117, 'zone': 2118, 'circumstances': 2119, 'alternative': 2120, 'kidnapped': 2121, 'respected': 2122, 'voice': 2123, 'greater': 2124, 'impact': 2125, 'dummycraps': 2126, 'mean,': 2127, 'pulse': 2128, 'lock': 2129, 'doors': 2130, 'guns': 2131, 'housing': 2132, 'spending': 2133, \"people's\": 2134, 'clothing': 2135, 'beat': 2136, 'mob': 2137, 'age,': 2138, 'drugs': 2139, 'tear': 2140, 'secure': 2141, 'store': 2142, 'payer': 2143, 'pure': 2144, 'penny': 2145, 'foundation': 2146, 'sean': 2147, 'starting': 2148, 'dry': 2149, 'gonna': 2150, 'running': 2151, 'of.': 2152, 'armed': 2153, 'resistance': 2154, 'violates': 2155, 'country?': 2156, 'illegals,': 2157, 'sheriff': 2158, 'weed': 2159, 'benefit': 2160, 'central': 2161, 'felons': 2162, '\"fu\"': 2163, '\"good': 2164, 'broken.': 2165, 'recently': 2166, 'leaning': 2167, 'screwing': 2168, 'safety': 2169, 'security.': 2170, 'chiefs': 2171, 'immediately': 2172, 'usa': 2173, 'proper': 2174, 'roads': 2175, 'suffer': 2176, 'nonsense?': 2177, 'belong': 2178, 'drop': 2179, 'globalization': 2180, 'controlling': 2181, 'commoners': 2182, 'bike?': 2183, 'murdered': 2184, 'murder': 2185, '5': 2186, 'unwilling': 2187, 'prosecuted': 2188, 'period.': 2189, 'harbor': 2190, 'include': 2191, 'haaaaa': 2192, 'haa': 2193, 'charity.': 2194, 'organization': 2195, 'wanting': 2196, 'free.': 2197, '\"free\"': 2198, '$87,000': 2199, 'did.': 2200, 'dream': 2201, 'dreams': 2202, 'circles': 2203, 'michele': 2204, 'witch.': 2205, 'nancy': 2206, 'reagan.': 2207, 'evidently': 2208, 'pocket': 2209, 'embrace': 2210, 'night.': 2211, 'doing.': 2212, 'mlk': 2213, 'pc': 2214, 'terrorist.': 2215, 'moochelle': 2216, 'swipe': 2217, '\"she': 2218, 'greatness': 2219, 'depended': 2220, 'elsewhere': 2221, 'sought': 2222, 'home.\"': 2223, 'herself': 2224, '…': 2225, 'adult': 2226, 'finally': 2227, 'me,': 2228, 'wife,': 2229, 'valued': 2230, 'amount': 2231, 'fed': 2232, 'harder': 2233, 'wealthy': 2234, 'theirs': 2235, 'participated': 2236, 'community': 2237, 'activities': 2238, 'achieve': 2239, 'lost,': 2240, 'counted': 2241, 'administration.': 2242, 'history?': 2243, 'records': 2244, 'americas': 2245, 'greatest': 2246, '\"he\\'s': 2247, 'name-calling': 2248, 'default': 2249, 'hypocritical': 2250, 'buffalo': 2251, 'former': 2252, 'camp': 2253, 'share': 2254, 'diversity?': 2255, 'beg': 2256, 'differ.': 2257, 'lady.': 2258, 'packing.': 2259, 'team': 2260, 'honest.': 2261, 'black...': 2262, 'eight': 2263, 'stick': 2264, 'color,': 2265, 'thing,': 2266, 'guests': 2267, 'knock,': 2268, 'home,': 2269, 'damaged': 2270, '200': 2271, 'insist': 2272, 'welcome.': 2273, 'outstanding': 2274, 'hit': 2275, \"don't.\": 2276, 'obamas': 2277, 'advice': 2278, 'instead,': 2279, 'agenda.': 2280, 'considering': 2281, 'washington': 2282, 'integrity': 2283, 'green': 2284, 'graduation': 2285, 'methuen': 2286, 'africa': 2287, 'unable': 2288, 'trillion': 2289, 'washington.': 2290, 'dept.': 2291, 'save': 2292, '300,000': 2293, 'per': 2294, 'action\"': 2295, 'positions': 2296, 'apologize': 2297, 'basis': 2298, 'sitting': 2299, 'nominee': 2300, 'disgraceful': 2301, 'ought': 2302, 'wiping': 2303, 'trash': 2304, 'anyone.': 2305, 'lgbt': 2306, 'home?': 2307, 'now,': 2308, 'riddance': 2309, 'debate': 2310, 'roughly': 2311, 'relevant': 2312, 'assigned': 2313, 'firmly': 2314, 'lives,': 2315, 'cold': 2316, 'insane.': 2317, 'expect?': 2318, 'slave,': 2319, 'any.': 2320, 'enslaved': 2321, 'rule.': 2322, 'cherokee': 2323, 'card.': 2324, 'lose': 2325, 'economy': 2326, 'occupies': 2327, 'character': 2328, 'suddenly': 2329, 'earned': 2330, 'morning': 2331, 'change.': 2332, 'trail': 2333, 'tears': 2334, 'inherited': 2335, 'nose': 2336, 'nazis': 2337, 'rioters': 2338, 'everyday': 2339, 'obsessed': 2340, 'somebody': 2341, 'know,': 2342, 'day;': 2343, \"weren't\": 2344, 'operation': 2345, 'vision': 2346, 'useless': 2347, 'murdering': 2348, 'committee': 2349, 'comment,': 2350, 'grade': 2351, 'examples.': 2352, 'pedophile?': 2353, 'smartest': 2354, 'eliminated': 2355, 'remaining': 2356, 'welcome': 2357, 'aboard': 2358, 'milk,': 2359, 'extra': 2360, 'army.': 2361, 'already?': 2362, 'fleet': 2363, 'determined': 2364, 'francisco': 2365, 'week.': 2366, 'bay': 2367, 'habit,': 2368, 'angry': 2369, 'sickness': 2370, 'enemy.': 2371, 'style.': 2372, 'status': 2373, 'rival': 2374, 'democrat.': 2375, 'boats': 2376, 'previously.': 2377, 'meet': 2378, 'laughing': 2379, 'stock.': 2380, 'drama': 2381, 'queen.': 2382, 'naming.': 2383, 'lost.': 2384, 'factually': 2385, 'accountable': 2386, 'implemented': 2387, 'honorably.': 2388, 'clintons': 2389, 'boy,': 2390, 'slipped': 2391, 'needed': 2392, 'leading': 2393, 'invaded': 2394, 'destruction': 2395, 'reward': 2396, 'francisco.': 2397, 'mess.': 2398, 'lmao': 2399, 'traitor': 2400, 'sleep': 2401, 'admitting': 2402, 'discharged.': 2403, 'britannica.com/biography/harvey-milk': 2404, 'sorry,': 2405, 'naval': 2406, 'site': 2407, 'ap': 2408, 'am.': 2409, 'fun.': 2410, 'usni': 2411, 'web': 2412, 'favors': 2413, 'withdraw': 2414, 'comments,': 2415, 'author': 2416, 'aside,': 2417, 'boy...': 2418, 'boat': 2419, 'short': 2420, 'controversial': 2421, 'honoring': 2422, 'basement.': 2423, 'banana.': 2424, 'enjoy': 2425, 'incapable': 2426, 'concerned.': 2427, 'comments.': 2428, 'discharged': 2429, \"who's\": 2430, 'activist': 2431, 'defended': 2432, 'differences': 2433, 'classes': 2434, 'hilarious': 2435, 'mommy': 2436, 'assuming': 2437, 'begin': 2438, 'involved.': 2439, 'military.': 2440, 'humor.': 2441, 'legislature': 2442, 'sc': 2443, 'avoid': 2444, 'ago': 2445, 'neighbors': 2446, 'south,': 2447, 'activists': 2448, 'displayed': 2449, 'abolish': 2450, 'buildings,': 2451, 'napolitano': 2452, 'media.': 2453, 'finish': 2454, 'insists': 2455, 'acknowledge': 2456, 'invented': 2457, 'down.': 2458, 'successful,': 2459, 'dean': 2460, 'robert': 2461, 'e': 2462, 'confederated': 2463, 'study': 2464, 'lee.': 2465, 'correct,': 2466, 'force.': 2467, 'surrendered': 2468, 'main': 2469, 'newly': 2470, 'oppression': 2471, 'war.': 2472, 'dictate': 2473, 'states,': 2474, 'troll': 2475, 'equipped': 2476, 'fort': 2477, 'april': 2478, 'stripes': 2479, '●': 2480, 'estimated': 2481, '1900': 2482, 'natives': 2483, 'offended': 2484, 'design': 2485, 'ancestor': 2486, 'dna': 2487, 'list': 2488, 'together': 2489, 'amen': 2490, 'thru': 2491, 'destroying': 2492, 'waiting': 2493, 'way,': 2494, 'beside': 2495, 'inalienable': 2496, 'oppress': 2497, 'communist': 2498, '100': 2499, 'problems.': 2500, 'pride.': 2501, 'reminds': 2502, 'slavery,': 2503, 'certainly': 2504, 'associated': 2505, 'divine': 2506, 'branches': 2507, 'applies': 2508, 'legislative': 2509, 'killing': 2510, 'eyes': 2511, 'christ': 2512, 'lame': 2513, 'spin': 2514, 'continually': 2515, 'communism': 2516, 'spot': 2517, 'relatives': 2518, 'property.': 2519, 'perpetuating': 2520, 'ridiculous.': 2521, 'alive.': 2522, 'racism.': 2523, 'promoted': 2524, 'defending': 2525, 'kidnapping': 2526, 'hateful': 2527, 'trade.': 2528, 'knowledge': 2529, 'prevented': 2530, 'strong': 2531, 'commitment': 2532, 'item': 2533, 'scientist,': 2534, 'non': 2535, 'studied': 2536, 'enroll': 2537, 'marxist': 2538, \"daughter's\": 2539, '\"both': 2540, 'screwed': 2541, 'policy.': 2542, 'checks.': 2543, 'color\"': 2544, 'stated': 2545, 'jobs,': 2546, 'temp': 2547, 'employment': 2548, 'refusals': 2549, 'initiatives,': 2550, '%': 2551, 'goes': 2552, 'cooke': 2553, 'prize': 2554, 'lower': 2555, 'requirements': 2556, 'succeed': 2557, 'unsuccessful': 2558, 'succeed,': 2559, 'event': 2560, 'seriously?': 2561, 'reports': 2562, 'athletic': 2563, 'squash': 2564, 'ivy': 2565, 'league': 2566, 'workplace': 2567, 'army': 2568, 'actions.': 2569, '\"reverse': 2570, 'demographic': 2571, 'changed.': 2572, 'policies': 2573, 'favor': 2574, 'action.': 2575, 'scores': 2576, 'burger': 2577, 'trading': 2578, 'trade': 2579, 'superior': 2580, 'dismal.': 2581, 'overflowing': 2582, 'prepared': 2583, 'stem,': 2584, 'studies.': 2585, 'quotas': 2586, 'goods': 2587, 'services': 2588, 'armies': 2589, 'soviet': 2590, 'grades': 2591, 'writing': 2592, 'voters.': 2593, 'blacks,': 2594, 'hispanics.': 2595, 'parents.': 2596, 'steal': 2597, 'grading': 2598, 'professors': 2599, 'bias': 2600, 'already.': 2601, 'hs': 2602, 'dumbing': 2603, 'requirements......idocracy': 2604, 'generation': 2605, 'biggest': 2606, 'stamp': 2607, 'double': 2608, 'nature,': 2609, 'aid': 2610, 'left.': 2611, 'assistance,': 2612, 'drop.': 2613, 'contribute': 2614, 'benefits.': 2615, 'ss,': 2616, 'taxes.': 2617, 'medicare,': 2618, 'gave': 2619, 'program.': 2620, 'billions': 2621, 'candy,': 2622, 'lifetime.': 2623, 'enlist': 2624, 'soldiers,': 2625, 'requirement.': 2626, 'hire': 2627, 'guarantee': 2628, 'kansas': 2629, 'fell': 2630, 'chimps': 2631, 'nowadays,': 2632, 'feelings': 2633, 'bueller?': 2634, 'stinky': 2635, '\"refugees\"': 2636, 'medicaid,': 2637, 'debtors': 2638, 'week': 2639, 'eliminate': 2640, 'fi': 2641, 'elderly': 2642, 'frivolous': 2643, 'mamma': 2644, 'recipient': 2645, 'pregnant': 2646, 'russell': 2647, 's.': 2648, 'wait': 2649, 'member': 2650, 'unfortunate': 2651, 'bomb': 2652, 'eighteen': 2653, 'story': 2654, 'kitchen': 2655, 'expensive': 2656, 'cream,': 2657, 'eggs': 2658, 'vegetables': 2659, 'screening': 2660, 'purchase': 2661, 'temporary': 2662, 'times.': 2663, 'regular': 2664, 'plenty': 2665, 'need.': 2666, 'feet': 2667, 'forgive': 2668, 'stories': 2669, 'skinny': 2670, 'costs': 2671, 'fish,': 2672, 'funded': 2673, 'mistake': 2674, 'ethiopian': 2675, 'species': 2676, \"israel's\": 2677, 'palestinkian': 2678, 'charter': 2679, 'elimination': 2680, 'blm.': 2681, 'blm,': 2682, 'lands': 2683, 'organization.': 2684, 'threatening': 2685, 'moment': 2686, 'violently': 2687, 'group?': 2688, 'israel.': 2689, 'palestinians,': 2690, 'placing': 2691, 'dog': 2692, 'alligator.': 2693, 'cool': 2694, 'petition': 2695, 'eaten': 2696, 'florida': 2697, 'bare': 2698, 'dragged': 2699, 'gator.': 2700, '\"part': 2701, 'rocks': 2702, 'insult': 2703, 'givonna': 2704, 'long,': 2705, 'stumps': 2706, 'hotel': 2707, 'fault': 2708, 'feminists': 2709, 'grew': 2710, 'snatched': 2711, 'influential': 2712, 'twisted': 2713, '30': 2714, 'fl': 2715, 'bears': 2716, 'natural': 2717, 'boy?': 2718, 'olivia': 2719, 'clair': 2720, 'nobody,': 2721, 'chop': 2722, 'coffee.': 2723, '10000': 2724, 'leftists': 2725, '..': 2726, '\"why': 2727, 'interested': 2728, 'me\"': 2729, 'groping': 2730, 'illegal?': 2731, 'deutschland?': 2732, 'have.': 2733, 'hardest': 2734, \"merkel's\": 2735, 'level.': 2736, '\"a': 2737, 'everything.': 2738, 'castrate': 2739, 'criticized': 2740, 'measures': 2741, 'harassment\"': 2742, 'legislators': 2743, \"kate's\": 2744, 'had.': 2745, 'cruel': 2746, '(sarcasm)': 2747, '\"go\",': 2748, 'slime': 2749, 'ball': 2750, 'lawyers': 2751, 'everywhere.': 2752, 'assaults': 2753, 'burned': 2754, 'ovens?': 2755, 'less.': 2756, 'point?': 2757, 'fashion,': 2758, 'ordinance': 2759, 'passed.': 2760, 'rapes': 2761, 'muslimes': 2762, 'fatherland.': 2763, 'russians': 2764, 'wwii.': 2765, 'contend': 2766, 'savages?': 2767, 'cow-tow': 2768, 'hoard': 2769, 'migrants.': 2770, 'problem...?': 2771, 'sentence?': 2772, 'harsh.': 2773, 'thing....lol': 2774, '50?': 2775, 'bracelets': 2776, 'liebrals': 2777, 'learn.': 2778, 'hahahahahahaha': 2779, '\"no.\"': 2780, 'idea,': 2781, 'm16a4': 2782, 'arabic.': 2783, 'glock': 2784, 'countries.': 2785, '7.62': 2786, 'x': 2787, '39': 2788, 'mm': 2789, 'm4': 2790, 'bolt': 2791, 'chambering': 2792, 'round.': 2793, 'lilly': 2794, 'esin': 2795, 'blue': 2796, 'crop': 2797, 'chevrolet': 2798, 'corvette': 2799, 'stingray': 2800, 'coupe': 2801, 'unavailable': 2802, 'laptop...': 2803, 'flash': 2804, 'ink': 2805, 'prevents': 2806, 'crime.': 2807, 'troll.': 2808, 'crime,': 2809, 'prosecute': 2810, '---': 2811, 'habla': 2812, 'deutch....': 2813, 'chicks': 2814, 'mongrelland': 2815, 'approved': 2816, 'committed': 2817, 'mongrels': 2818, 'back,': 2819, 'brobama': 2820, 'work...it': 2821, 'advisable': 2822, 'sharp,': 2823, 'tipped': 2824, 'kicks': 2825, 'groin': 2826, '\"nein\"': 2827, 'muzzieazzholes': 2828, 'battle-hardened,': 2829, 'decades': 2830, 'kicked': 2831, 'sheep': 2832, 'goats': 2833, 'numb': 2834, 'sharp': 2835, '...............': 2836, 'carry': 2837, 'guns...': 2838, 'merkels': 2839, 'legacy.': 2840, 'city.': 2841, 'armed,': 2842, 'rufus': 2843, 'establish': 2844, 'no?': 2845, 'reached': 2846, 'seeking': 2847, 'relevancy': 2848, 'sheeple': 2849, 'read.': 2850, 'victim': 2851, 'struggle': 2852, 'prosecuted..': 2853, '\"no\".': 2854, 'impossibility': 2855, 'reason...........': 2856, 'platoon': 2857, 'filth': 2858, 'once-great': 2859, 'bureaucrats': 2860, 'timid': 2861, 'recognizes': 2862, 'barbarism': 2863, 'sexist': 2864, 'attitudes': 2865, 'islam.': 2866, 'annoyance.': 2867, 'preaches,': 2868, 'teaches,': 2869, 'demands,': 2870, 'applauds': 2871, 'rewards': 2872, 'behavior.': 2873, 'written': 2874, 'not)': 2875, '(muslims)': 2876, 'ultimately': 2877, 'crimes,': 2878, 'elites': 2879, 'insulated': 2880, 'tolerant': 2881, 'criminals.': 2882, 'musiims': 2883, 'azzkicking.': 2884, 'wasnt': 2885, 'rapists': 2886, 'please.': 2887, 'cosby': 2888, 'no\"': 2889, '\"just': 2890, 'muslims\"': 2891, 'expel': 2892, 'mooh-slum.': 2893, 'impression': 2894, 'merkel/obama': 2895, 'progressivness.': 2896, 'odumbo': 2897, 'civilize': 2898, 'uncivilized.': 2899, 'then..': 2900, 'colt,': 2901, 'browning,': 2902, 'luger,': 2903, 'et': 2904, 'al.': 2905, 'function.': 2906, 'punishment.': 2907, 'reason-one': 2908, 'muzlim': 2909, '-young': 2910, 'girls-': 2911, 'boxes.': 2912, 'languages': 2913, 'assume': 2914, 'hot': 2915, 'speed': 2916, 'or......fathers,': 2917, 'brothers,': 2918, 'cousins': 2919, 'islam...a': 2920, 'accompanied': 2921, 'relative.': 2922, 'raped.': 2923, 'story.': 2924, 'dishonored': 2925, 'beatings': 2926, 'subjected': 2927, '\"honor': 2928, 'killing\".': 2929, 'that....if': 2930, 'women--there': 2931, 'prosecution': 2932, 'scumbags.': 2933, 'condones': 2934, 'chattel.': 2935, 'expect??': 2936, 'rapists.': 2937, 'droves': 2938, '\"raping\"': 2939, 'mentality': 2940, 'arming': 2941, 'curb': 2942, 'rapes.': 2943, 'want.': 2944, 'savages.': 2945, 'man;': 2946, 'nfl': 2947, 'job...do': 2948, 'blackasses': 2949, 'monkeys.': 2950, 'git': 2951, 'ur': 2952, 'together.': 2953, 'procrastinating': 2954, 'avoiding': 2955, 'vaunted': 2956, '\"european': 2957, 'society\"': 2958, 'emulate?': 2959, 'bern': 2960, 'himself,': 2961, 'is..': 2962, '\"on': 2963, 'thursday,': 2964, 'cologne': 2965, 'offense': 2966, 'eve.': 2967, 'aggressive': 2968, 'sentencing': 2969, 'there,': 2970, 'deter': 2971, 'caveat,': 2972, 'namely,': 2973, 'boiling': 2974, 'subhuman': 2975, 'blood.': 2976, 'lord': 2977, 'passing': 2978, 'knee': 2979, 'grows': 2980, '???': 2981, 'dig': 2982, 'slugs': 2983, \"'humanity'\": 2984, 'zero': 2985, 'vetting.': 2986, 'change?': 2987, 'answer...black': 2988, 'hoplophobes': 2989, 'racists.': 2990, '\"too?\".': 2991, 'grammar': 2992, 'checkers': 2993, 'hoplophobe?': 2994, 'bunnies?': 2995, 'hands,': 2996, 'aim': 2997, 'mass,': 2998, 'squeeze': 2999, 'slowly.': 3000, 'invaders.': 3001, 'molested': 3002, 'eve': 3003, 'travesty.': 3004, 'opened': 3005, 'borders': 3006, 'hordes': 3007, 'women-hating': 3008, 'year,': 3009, 'hardly': 3010, 'deterrent.': 3011, 'punish': 3012, 'toys.': 3013, 'cult': 3014, 'destruction.': 3015, 'agreed': 3016, 'immigrate': 3017, 'seduce': 3018, 'submissive.': 3019, 'nice,': 3020, 'assaulted.': 3021, 'barbarians': 3022, 'unchecked.': 3023, 'hillary.': 3024, 'oblama': 3025, 'her...': 3026, 'wrap': 3027, 'trial??': 3028, 'venture': 3029, 'england': 3030, 'brexit?': 3031, 'hasent': 3032, 'forever': 3033, 'defined.': 3034, '/sarc': 3035, '\"is\"': 3036, '\\'is\".': 3037, 'huh???': 3038, 'discrimination,': 3039, 'dear': 3040, 'remedy': 3041, 'fiat': 3042, 'doles': 3043, 'hoops': 3044, 'beginning': 3045, 'suffered': 3046, 'silence.': 3047, 'location.': 3048, 'knew,': 3049, 'dressing': 3050, 'flailing': 3051, 'gen': 3052, 'italia': 3053, '2016,': 3054, 'sudden': 3055, 'politics.': 3056, 'once.': 3057, 'repetitive.': 3058, 'honestly,': 3059, 'ok?': 3060, 'name,': 3061, 'was,': 3062, \"didn't.\": 3063, 'okay.': 3064, 'cr\\u2060e\\u2060epy,': 3065, 'fan\\u2060tas\\u2060ies': 3066, 'woman?': 3067, 'sa\\u2060d,': 3068, '\"16': 3069, 'replies\"': 3070, '\"wow,': 3071, 'generated': 3072, 'conversation.\"': 3073, 'clicked': 3074, 'omg.': 3075, 'sharon': 3076, 'wife...and': 3077, 'daughter.': 3078, 'himself': 3079, 'parroting': 3080, 'thought,': 3081, 'en': 3082, 'masse': 3083, 'bob': 3084, 'dole': 3085, \"'96\": 3086, 'opposite': 3087, 'poll': 3088, 'cigar': 3089, 'pollsters': 3090, 'contracts': 3091, 'accuracy.': 3092, 'predicting': 3093, 'elections': 3094, 'margin': 3095, 'error.': 3096, 'rasmussen': 3097, 'ppp': 3098, 'dem': 3099, '3.': 3100, 'romney': 3101, \"fox's\": 3102, 'polls.': 3103, 'neke': 3104, 'percent??': 3105, 'manhattans.': 3106, 'endorses': 3107, 'comply': 3108, 'wishes,': 3109, 'gladly.': 3110, 'nov': 3111, 'asylum': 3112, 'someone.': 3113, 'hrc': 3114, 'hopefully': 3115, 'authorities': 3116, 'projections': 3117, 'orange': 3118, 'clown': 3119, 'loses': 3120, 'landslide.': 3121, 'possible.': 3122, 'hostage': 3123, 'crisis': 3124, 'inflation': 3125, 'control...after': 3126, 'hillary?': 3127, 'overlords': 3128, 'answer,': 3129, 'repetition': 3130, 'rejected': 3131, 'hilary.': 3132, 'women.': 3133, 'rantings': 3134, 'tribe.': 3135, \"floyd's\": 3136, 'wall.': 3137, \"he'd\": 3138, 'publish': 3139, 'spamming': 3140, 'homeschooling': 3141, 'banned.': 3142, 'hears': 3143, 'critical': 3144, 'radio.': 3145, 'caller': 3146, '\"oh': 3147, 'right.\"': 3148, 'wringing': 3149, 'repeat': 3150, 'handful': 3151, \"wayne's\": 3152, 'tweets,': 3153, '(sharon)': 3154, 'quote.': 3155, 'breath.': 3156, 'replied': 3157, 'below.': 3158, 'dare.': 3159, 'creationist': 3160, 'favorite': 3161, 'heads': 3162, 'fits': 3163, 'transgender?': 3164, 'harmed': 3165, 'taught': 3166, 'schooling': 3167, 'valid': 3168, 'description': 3169, 'validity': 3170, 'false...thus': 3171, 'deceptive': 3172, 'deceived': 3173, 'critically': 3174, 'learning,': 3175, 'growth,': 3176, 'self-understanding': 3177, 'self-appreciation,': 3178, 'refuted.': 3179, 'inexcusable': 3180, 'abusive': 3181, 'falsehoods': 3182, 'foisted': 3183, 'intention': 3184, 'complicity,': 3185, 'widespread': 3186, 'kinds.the': 3187, 'stability': 3188, 'degradation': 3189, 'seriously,': 3190, 'struggli': 3191, 'g': 3192, 'develop': 3193, 'hormones': 3194, 'biology.': 3195, '\"ism\",': 3196, 'either,': 3197, 'precisely': 3198, 'motivations': 3199, '\"trangenderism\"': 3200, \"someone's\": 3201, 'changed?': 3202, 'effects.': 3203, '\"real\"': 3204, 'distorts': 3205, 'discussion,': 3206, 'phenomena': 3207, 'i.e.': 3208, '\"evil\"': 3209, 'effects,': 3210, 'generically': 3211, 'indicate': 3212, 'evil.': 3213, '(victim)': 3214, 'case?': 3215, 'society?': 3216, 'generically,': 3217, 'evil?': 3218, 'sexuality': 3219, 'obvious,': 3220, 'suppressed': 3221, 'involved,': 3222, 'erroneously,': 3223, 'decisions': 3224, 'least,': 3225, 'worst,': 3226, 'wellbeing.': 3227, '\"curing\"': 3228, 'kinds': 3229, 'transition.': 3230, '\"normal\"': 3231, 'depression,': 3232, '\"confused\"': 3233, 'aware': 3234, 'bodies.': 3235, 'misconception': 3236, '\"force\"': 3237, 'confusion.': 3238, 'seldom': 3239, 'works,': 3240, 'although': 3241, 'coercion': 3242, 'effective...and': 3243, 'ethical': 3244, 'concerns.transgenderism,': 3245, 'perversions,': 3246, 'depressive': 3247, 'individual,': 3248, 'also...sometimes': 3249, 'consequences...and': 3250, 'remedies': 3251, 'pandering,': 3252, 'sheltering': 3253, 'accommodating.': 3254, 'mental,': 3255, 'sourced': 3256, 'itself...speaking': 3257, 'generally': 3258, 'cases.': 3259, 'categorizes': 3260, '\"mental\"': 3261, 'physical,': 3262, '\"mind\".': 3263, 'secular': 3264, 'answers': 3265, 'conditions,': 3266, 'permanent': 3267, 'correction': 3268, 'cause.': 3269, 'versed': 3270, 'psychologists': 3271, 'counselors': 3272, 'spirit': 3273, 'being,': 3274, 'treat': 3275, 'volition': 3276, 'lasting': 3277, 'benefit,': 3278, 'healing': 3279, 'normally': 3280, 'harmony': 3281, 'self.': 3282, 'counseling\"': 3283, 'conform': 3284, 'persons,': 3285, 'accentuated': 3286, 'demeaning,': 3287, 'internal': 3288, 'themselves,': 3289, 'alleviated': 3290, 'nature.': 3291, 'conceive': 3292, 'counselling\"': 3293, 'simplistic': 3294, 'recitation': 3295, 'scripture': 3296, 'platitudes,': 3297, 'prayer,': 3298, 'counseling,': 3299, 'inward': 3300, 'objective': 3301, 'self-concepts': 3302, 'immense': 3303, 'value,': 3304, 'acclimate': 3305, 'patience': 3306, 'explanation': 3307, 'levels': 3308, \"subject's\": 3309, 'initial': 3310, 'perceptions': 3311, 'beliefs,': 3312, 'understanding...and': 3313, 'erroneous.': 3314, 'essential': 3315, 'imparted': 3316, 'redirect': 3317, 'patterns,': 3318, 'modifying': 3319, 'structure': 3320, 'symbiosis': 3321, 'purposed': 3322, 'lasting,': 3323, 'permanent,': 3324, 'healing.': 3325, 'choices?': 3326, 'answering': 3327, 'heaven': 3328, 'despite': 3329, 'shop.': 3330, 'heavan?': 3331, 'praying': 3332, 'chapter,': 3333, '“make': 3334, 'narrow': 3335, 'to.\"': 3336, 'legitimate?': 3337, 'basis?': 3338, 'commonly': 3339, 'bizarre': 3340, 'behaviors': 3341, 'policies.': 3342, 'sanctimony,': 3343, 'ultimate': 3344, 'oppose': 3345, 'notions.': 3346, 'guilty': 3347, 'unaccepted': 3348, 'belief.': 3349, 'opposition...as': 3350, 'outrageously': 3351, 'fallacious': 3352, 'claim,': 3353, '\"science,': 3354, 'legitimate\".': 3355, 'realists': 3356, 'defensive,': 3357, 'fallacy,': 3358, 'promoter': 3359, \"fallacy's\": 3360, 'then,': 3361, 'question,': 3362, 'dogmatic': 3363, 'doctrinaire,': 3364, 'claimed,': 3365, 'diverting': 3366, 'intimidation': 3367, 'monkey\"': 3368, 'opposition.': 3369, 'tactics': 3370, 'arguments...the': 3371, 'engage': 3372, 'presentation': 3373, 'facts,': 3374, 'arguments': 3375, 'readers/listeners': 3376, 'proofs': 3377, 'subjects': 3378, 'tolerated': 3379, 'society\"?': 3380, 'stumped': 3381, 'sanctimony': 3382, '\"do': 3383, 'unto': 3384, 'others\"': 3385, 'bit.': 3386, 'people?\"': 3387, 'hidden': 3388, 'homosexuals.': 3389, 'bar': 3390, 'sued': 3391, 'cake': 3392, 'angry.': 3393, 'moves': 3394, 'made,': 3395, 'sereve': 3396, 'obligated': 3397, 'morals,': 3398, 'term,': 3399, 'session': 3400, 'impeaching': 3401, 'immoral,': 3402, 'dirtier': 3403, 'affected': 3404, 'despotic': 3405, 'rule': 3406, 'immoral': 3407, 'privacy?': 3408, 'who?': 3409, 'who.': 3410, 'doctor.': 3411, 'bought': 3412, 'defect.': 3413, 'perversion.': 3414, 'immoral?': 3415, 'immoral.': 3416, \"isn't.\": 3417, 'definition?': 3418, 'only?': 3419, 'sla': 3420, 'very?': 3421, 'surprised.': 3422, 'biblical': 3423, 'conversation.': 3424, 'identifying': 3425, 'from.': 3426, 'hardly.': 3427, 'where?': 3428, 'flawed': 3429, 'savior.': 3430, 'medicine.': 3431, 'prevalent': 3432, '2000': 3433, 'date,': 3434, 'word.': 3435, 'deuteronomy': 3436, '22': 3437, 'leviticus': 3438, 'return': 3439, 'exodus': 3440, '21': 3441, 'from,': 3442, 'se': 3443, 'xuality': 3444, 'tribe': 3445, 'marrying': 3446, 'pe': 3447, 'pist': 3448, 'way?': 3449, 'facilities': 3450, 'as...as': 3451, 'vice': 3452, 'versa)': 3453, 'gender.': 3454, 'female.': 3455, 'opposite.': 3456, '\"you\\'re,\"': 3457, 'fifth-grader.': 3458, 'sound': 3459, 'typo': 3460, 'difference.': 3461, 'paper,': 3462, 'proofreading': 3463, 'understandable': 3464, '\"your\"': 3465, '\"you\\'re\"?': 3466, 'du\\ufeffm\\ufeffb': 3467, 'doctor': 3468, 'simple.': 3469, 'thinking/acting': 3470, 'man,': 3471, 'physically.': 3472, 'join': 3473, 'tgs/gays': 3474, 'whoever': 3475, 'answer?': 3476, 'depending': 3477, 'militant': 3478, 'tg/s': 3479, 'empathize': 3480, 'sentiment': 3481, 'motives': 3482, 'murderous': 3483, 'decadence': 3484, '43': 3485, 'symptom': 3486, 'decay': 3487, 'compass': 3488, 'guide': 3489, 'unnecessary.': 3490, 'shielding': 3491, 'influences': 3492, 'uncertainty': 3493, 'relativism': 3494, 'youth...largely': 3495, 'schooling.': 3496, 'following': 3497, 'mythology': 3498, 'psychology.': 3499, 'poisons': 3500, 'poisonous': 3501, 'true...and': 3502, 'redeemed': 3503, 'sacrifice': 3504, 'fallacies': 3505, 'attributed': 3506, 'inherent': 3507, 'motivation,': 3508, 'motivation': 3509, 'self-centeredness': 3510, 'beings.': 3511, \"world's\": 3512, 'expressions': 3513, 'nature...christianity': 3514, 'judaism': 3515, 'exceptions.': 3516, 'correct...except': 3517, 'seven': 3518, 'fo\\ufeffol.': 3519, 'paul': 3520, 'apostle,': 3521, 'fool': 3522, 'fo\\ufeffol...period.': 3523, 'saddest': 3524, 'result,': 3525, 'machinations': 3526, 'influenced': 3527, 'inestimable': 3528, 'bible,': 3529, 'scouty': 3530, 'misquote': 3531, 'figured': 3532, '5.': 3533, 'healthcare,': 3534, 'information,': 3535, 'medicine,': 3536, 'transexuals': 3537, \"1970's\": 3538, \"80's.\": 3539, 'sick,': 3540, 'satan': 3541, 'satan.': 3542, 'thankfully': 3543, 'pee': 3544, 'odd': 3545, 'fantasy.': 3546, 'sb,': 3547, 'pee,': 3548, 'watches': 3549, 'bathroom?': 3550, 'about,': 3551, 'agreement': 3552, 'socialismless': 3553, 'reason,': 3554, 'ms.': 3555, 'pantyhose?': 3556, 'wisdom': 3557, 'high-risk': 3558, 'liability': 3559, 'be,': 3560, 'pantyhose': 3561, 'entangled': 3562, 'ankles,': 3563, 'unknown': 3564, 'unbeknownst,': 3565, 'forewarn': 3566, 'potential': 3567, 'danger?': 3568, 'pantyhose,': 3569, 'next,': 3570, 'dresses,': 3571, 'deeming': 3572, 'unnecessary': 3573, 'risk': 3574, 'room?': 3575, '0/10': 3576, '-1/10': 3577, 'forbid': 3578, 'danger': 3579, 'happen,': 3580, 'active': 3581, 'imagination.': 3582, 'dresses?': 3583, 'freaked': 3584, 'forgot': 3585, 'yours,': 3586, 'clearly...': 3587, 'drug?': 3588, 'gibberish->english': 3589, 'translator': 3590, 'gay/tg': 3591, 'stated.': 3592, 'phrasing.': 3593, 'redefining': 3594, 'disagreement': 3595, 'saying.': 3596, 'questions': 3597, 'mentioned.': 3598, 'desperately': 3599, 'that.its': 3600, 'drug.': 3601, 'want,': 3602, 'impossible': 3603, 'tiresome': 3604, 'agreeing': 3605, 'liking': 3606, 'transgenders,': 3607, 'otherwise.': 3608, 'opinions.': 3609, \"aren't...but\": 3610, 'am....': 3611, 'actually,': 3612, 'leak': 3613, 'plausible': 3614, 'hypothesis,': 3615, 'customized': 3616, 'enhancements;': 3617, 'nevertheless,': 3618, 'alinsky': 3619, 'playbook.': 3620, 'trans': 3621, 'bathroom/facilities': 3622, 'potentially': 3623, 'explosive': 3624, 'situations.': 3625, 'thrive': 3626, 'really,': 3627, 'distraction.': 3628, 'room,': 3629, 'in...that': 3630, 'rooms': 3631, 'transgenders...they': 3632, 'scares': 3633, 'me...rapists': 3634, 'confirming': 3635, 'bathroom.': 3636, 'insisting': 3637, 'certificate.': 3638, 'subset': 3639, '\"law\"': 3640, 'ssm.': 3641, 'ruling': 3642, 'rights?': 3643, 'ruling?': 3644, '*crickets': 3645, 'killer': 3646, 'deflected': 3647, 'weapon.': 3648, 'then.': 3649, \"they'd\": 3650, 'legacy': 3651, 'bruce': 3652, 'springsteen,': 3653, 'ringo': 3654, 'starr,': 3655, 'corporations': 3656, 'condemned/boycotted': 3657, 'states?': 3658, '.....': 3659, 'crickets...': 3660, 'outrage,': 3661, 'liberals?': 3662, 'jim': 3663, 'crow': 3664, 'per\\u2060version?': 3665, 'nons\\u2060ense': 3666, 'face;': 3667, 'fourth': 3668, \"he'll\": 3669, 'eventually': 3670, 'c\\u2060o\\u2060w\\u2060ard': 3671, 's\\u2060h\\u2060u\\u2060t': 3672, '\"answer\"': 3673, 'asked,': 3674, '4th': 3675, 'cares?': 3676, 'awsome': 3677, 'ruins': 3678, 'finances': 3679, 'ag': 3680, 'becomes': 3681, 'ncs': 3682, 'govener.': 3683, 'crying.': 3684, 'bedrooms': 3685, 'repulsive': 3686, 'singled': 3687, 'outage': 3688, 'dennis': 3689, 'hastert,': 3690, 'foley': 3691, 'crimes?': 3692, 'celebrities?': 3693, 'monkeys': 3694, 'howlling': 3695, 'collection': 3696, 'dependent': 3697, 'king.': 3698, \"doesn't.\": 3699, 'leader.': 3700, 'legally': 3701, 'do,': 3702, 'consume': 3703, 'controlled': 3704, 'substances': 3705, 'recreational': 3706, 'usage,': 3707, 'imaginary': 3708, 'agency,': 3709, 'branch,': 3710, 'pulls': 3711, 'car,': 3712, 'drive\".': 3713, '\"why,': 3714, 'break?\"': 3715, '\"my': 3716, 'again.\"': 3717, 'unconstitutional.\"': 3718, 'jail.\"': 3719, 'me?\"': 3720, 'hair': 3721, 'cut\".': 3722, 'resident': 3723, 'oval': 3724, 'office...': 3725, 'plus': 3726, 'portion': 3727, 'demoratic': 3728, 'base...': 3729, 'demorats': 3730, \"id's\": 3731, 'booths.': 3732, 'incompetent': 3733, 'anti': 3734, 'hacks': 3735, \"obama's.\": 3736, 'enforcing': 3737, 'sarah': 3738, 'root,': 3739, 'omaha,': 3740, 'neb.,': 3741, 'slammed': 3742, 'hers': 3743, 'racing.': 3744, 'unaccompanied': 3745, 'minor,': 3746, 'brushes': 3747, 'vaughan.': 3748, '“the': 3749, 'detectives': 3750, 'detainer': 3751, 'mejia,': 3752, 'priority': 3753, 'crime,”': 3754, '“he': 3755, 'bail': 3756, 'disappeared,': 3757, 'scandal': 3758, 'ice.”': 3759, 'instance,': 3760, 'johnny': 3761, 'josue': 3762, 'sanchez,': 3763, '21,': 3764, 'honduran': 3765, 'times,': 3766, 'allegedly': 3767, 'homeless': 3768, 'vacant': 3769, 'angeles.': 3770, 'combination': 3771, 'angeles’s': 3772, 'disinterest': 3773, 'sanchez': 3774, '“minor”': 3775, 'offenses': 3776, 'resulted': 3777, 'tragedy.': 3778, 'marilyn': 3779, 'pharis,': 3780, '64-year-old': 3781, 'air': 3782, 'brutally': 3783, 'bludgeoned': 3784, 'claw': 3785, 'hammer': 3786, '24,': 3787, '2015,': 3788, 'victor': 3789, 'aureliano': 3790, 'martinez': 3791, 'ramirez,': 3792, '29,': 3793, 'six': 3794, '15': 3795, 'charged': 3796, 'grant': 3797, 'citizenship': 3798, '11.6': 3799, '6.6': 3800, 'citizens?': 3801, 'insurgents': 3802, 'indeed,': 3803, 'background,': 3804, 'sealed': 3805, 'scrubbed': 3806, 'websites,': 3807, 'altered': 3808, 'documents,': 3809, 'unanswered': 3810, 'blocked': 3811, 'medical,': 3812, 'records?': 3813, 'headlines': 3814, 'marvels,': 3815, 'mystery': 3816, 'perplexing': 3817, 'identities': 3818, 'possessing': 3819, 'orly': 3820, 'taitz,': 3821, 'filed': 3822, 'eligibility': 3823, 'discover': 3824, 'suit,': 3825, 'refusing': 3826, 'ineligible': 3827, 'chief,': 3828, 'hired': 3829, 'investigator': 3830, 'neil': 3831, 'addresses': 3832, 'intelius,': 3833, 'lexis': 3834, 'nexis,': 3835, 'connected': 3836, '25,': 3837, 'searched': 3838, 'fake': 3839, 'phoenix': 3840, '713': 3841, 'hart': 3842, 'attended': 3843, 'harvard': 3844, 'addresses,': 3845, '2005,': 3846, 'apartment': 3847, 'nw;': 3848, 'yet,': 3849, 'later,': 3850, 'bro': 3851, 'spanish': 3852, 'interpreter': 3853, '24/7.': 3854, 'suspected': 3855, 'cups': 3856, 'ascertain': 3857, 'honduras': 3858, 'twice': 3859, 'request': 3860, 'up,..which': 3861, 'promptly': 3862, 'loose\"': 3863, \",that's\": 3864, 'connectcut': 3865, '1898': 3866, 'french': 3867, '1960': 3868, '1961......': 3869, 'obamma': 3870, '1961': 3871, 'mother': 3872, 'collected': 3873, \"'s\": 3874, 'people.......': 3875, 'r': 3876, 'insurgent': 3877, 's?': 3878, '1898?': 3879, 'sure?': 3880, 'originally': 3881, '1898.': 3882, 'date': 3883, 'belly': 3884, 'boarder': 3885, 'crawlin': 3886, 'mexitrash': 3887, 'sancuary': 3888, 'anyway?': 3889, 'else?': 3890, 'kinda': 3891, 'names.': 3892, 'later.': 3893, '\"democrats\"': 3894, 'abetting,': 3895, 'obstruction': 3896, 'stick.': 3897, 'scotsman': 3898, 'overstaying': 3899, 'visa': 3900, 'departure': 3901, 'lax': 3902, 'barred': 3903, 'returning,': 3904, 'consultant': 3905, 'abroad': 3906, 'american,': 3907, 'harsh': 3908, 'spoke': 3909, 'intellectual': 3910, 'colonel': 3911, 'sanders.': 3912, 'dim.': 3913, '\"illegal\"': 3914, \"dim's\": 3915, 'understand?': 3916, 'enforced?': 3917, \"hillary's\": 3918, 'blacklivesmatter.': 3919, 'injustices': 3920, 'streets?': 3921, 'works.': 3922, 'protesters': 3923, 'dallas': 3924, 'fraternal': 3925, 'explain.': 3926, 'dnc': 3927, 'convention': 3928, 'audience': 3929, 'jeered': 3930, 'officers.': 3931, 'white,': 3932, 'asian,': 3933, 'protesting': 3934, 'done?': 3935, 'demokkkrat': 3936, 'bigot': 3937, 'shalom': 3938, 'clm.': 3939, 'johnson,': 3940, 'illegally.': 3941, 'all,,,,,,,': 3942, 'crminals': 3943, 'deported,': 3944, 'commit': 3945, 'crimes.': 3946, 'protected,': 3947, 'ordered': 3948, 'when??': 3949, 'civilians': 3950, 'apprehend': 3951, 'ice.': 3952, 'agents,': 3953, 'hugely': 3954, 'expand': 3955, 'forces': 3956, 'street.': 3957, 'e-verify': 3958, 'undocumented': 3959, 'u.s.a.': 3960, 's,overeign': 3961, 'diluted': 3962, 'hunter': 3963, '.......': 3964, 'alive/': 3965, 'suprisied': 3966, 'team..........': 3967, 'swim': 3968, 'joke': 3969, 'brough': 3970, 'later': 3971, 'olympics,': 3972, 'didnt': 3973, 'deleted,,,': 3974, 'fence-climbing': 3975, 'event......': 3976, 'eh,': 3977, ',,,': 3978, 'ask?,,': 3979, 'grubers': 3980, 'fraud,': 3981, 'leftist': 3982, 'lemmings,': 3983, 'mediamatters': 3984, 'happened.': 3985, 'dummycrap': 3986, 'districts': 3987, 'sector.': 3988, 'unqualified': 3989, 'tenured': 3990, 'increases.': 3991, 'functions': 3992, 'function': 3993, 'impose': 3994, 'housed': 3995, 'grounds.': 3996, 'determination': 3997, 'individual.': 3998, 'extent': 3999, 'liable': 4000, 'damages': 4001, 'imposing': 4002, 'anti-': 4003, 'asault': 4004, 'ceased': 4005, 'credence': 4006, 'accorded': 4007, '\"sanctuary\"': 4008, 'virulent': 4009, 'secularists': 4010, 'bolster': 4011, 'districting': 4012, 'purposes.': 4013, 'afactor': 4014, 'tenet': 4015, 'contrived,': 4016, 'legislator,pelosi': 4017, 'biden': 4018, 'mind,purporting': 4019, 'excommunicated.': 4020, 'bastion': 4021, 'minorities.': 4022, 'religionhas': 4023, 'amoral': 4024, 'athiest...': 4025, 'cutting': 4026, 'dandy': 4027, 'faster': 4028, 'attitude': 4029, 'abeting': 4030, 'commission': 4031, 'papers': 4032, '(fraud)': 4033, 'refuge': 4034, 'individuals': 4035, 'appealing': 4036, 'recognition': 4037, 'gilt': 4038, 'apprehension': 4039, 'safely': 4040, 'present': 4041, 'led': 4042, 'brake': 4043, 'granting': 4044, 'thereof.': 4045, 'counts': 4046, 'border,': 4047, 'drown': 4048, 'rio': 4049, 'grande': 4050, 'deportations': 4051, 'ltfol': 4052, 'crisis....': 4053, 'demoncrats': 4054, 'continuing': 4055, 'destabilize': 4056, 'people....': 4057, 'peoples': 4058, 'choice...ceo': 4059, 'competent': 4060, 'evident': 4061, 'runnig': 4062, 'patriotic,': 4063, 'content': 4064, 'administrator': 4065, 'suppoing': 4066, 'america...trump': 4067, 'efect': 4068, 'american....': 4069, '...fact': 4070, 'fiction': 4071, 'todays': 4072, 'accomplished': 4073, 'dividing': 4074, 'undermining': 4075, 'governing': 4076, 'principles....we': 4077, '????????': 4078, 'isnt': 4079, 'oxymoron???': 4080, '\"dangerous': 4081, 'immigrants\",': 4082, '\"democratic': 4083, 'voters\".': 4084, 'brain-dead.': 4085, 'count?': 4086, 'registered.': 4087, 'demrats': 4088, 'gated': 4089, 'comunities': 4090, 'cars': 4091, 'busses': 4092, 'planes': 4093, 'trains,': 4094, 'h2o': 4095, 'muslims..........': 4096, 'long,,,,,,': 4097, 'gov.': 4098, 'ebt,': 4099, 'etc.......': 4100, 'own.': 4101, 'stores': 4102, 'fixed': 4103, 'cincyman': 4104, 'upon': 4105, 'correctness?': 4106, 'vote.': 4107, 'maximum': 4108, 'abort': 4109, 'alcohol': 4110, 'madness...trump': 4111, 'pence': 4112, 'empty': 4113, 'corner.': 4114, 'failing.': 4115, 'bankrupt': 4116, 'nation...': 4117, 'thee': 4118, '<<<': 4119, 'adolph.': 4120, 'meds...or': 4121, \"how's\": 4122, 'obamacare': 4123, \"gov't\": 4124, 'works.quick': 4125, 'summary': 4126, 'hsa': 4127, 'plan.': 4128, 'mail': 4129, 'gov': 4130, 'you????': 4131, 'indian......': 4132, 'henery': 4133, 'ford': 4134, 'wise': 4135, 'indian': 4136, '\"sure': 4137, 'trust': 4138, 'government\".': 4139, 'once......and': 4140, '\"wise\"': 4141, 'venezuela?': 4142, 'cure': 4143, 'stupidity': 4144, 'reed': 4145, 'hang': 4146, 'vermin.': 4147, 'certificates': 4148, 'hanging': 4149, 'coddling': 4150, 'la': 4151, '\"needed\"': 4152, '\"day': 4153, 'mexican\"': 4154, 'stayed': 4155, 'protest.': 4156, 'backfired': 4157, 'traffic': 4158, 'freeways': 4159, '(unheard': 4160, 'la),': 4161, 'functioned': 4162, 'issue,': 4163, \"mex's\": 4164, 'exhibiting': 4165, 'collateral': 4166, 'damage': 4167, 'lefts': 4168, 'quest': 4169, 'brown...': 4170, 'government,': 4171, 'cooperate': 4172, 'governments': 4173, 'amok': 4174, 'deportation?': 4175, 'problem....': 4176, 'ourselves': 4177, 'minds,': 4178, 'govt.': 4179, 'agencies': 4180, 'feds': 4181, 'custody,': 4182, 'advocates': 4183, 'subject’s': 4184, 'rights\"': 4185, 'non-citizens': 4186, 'complete.': 4187, 'jeh': 4188, 'johnson': 4189, 'hack.': 4190, 'arizona': 4191, 'flooded': 4192, 'agency': 4193, 'joe': 4194, \"arpaio's\": 4195, 'maricopa': 4196, 'county': 4197, \"sheriff's\": 4198, 'office,': 4199, 'felons.': 4200, 'neighborhoods': 4201, 'spout': 4202, 'ridding': 4203, 'joe.': 4204, 'reelected.': 4205, 'here.........': 4206, '\"except': 4207, 'lawyers\"': 4208, 'pole': 4209, 'vaulting': 4210, \"teams...you're\": 4211, 'it.\"': 4212, '--donald': 4213, 'seems,': 4214, 'witnessed': 4215, 'seattle': 4216, '\"city': 4217, 'workers\"': 4218, 'backhoe': 4219, 'bucket': 4220, 'olympics.': 4221, 'olympics': 4222, 'embarrassed.': 4223, 'deleted': 4224, 'land,': 4225, 'occupation.': 4226, 'committing': 4227, 'deported.': 4228, 'biometric': 4229, 'scanned': 4230, 'paperwork': 4231, 'trip': 4232, 'chaingang': 4233, 'fixing': 4234, \"if's\": 4235, 'ands': 4236, 'buts.': 4237, 'circumcise': 4238, 'liberal?': 4239, 'boyfriend': 4240, 'chin.': 4241, 'winner': 4242, 'backed': 4243, 'officials': 4244, 'deciding': 4245, 'following......they': 4246, 'participation': 4247, 'louder': 4248, 'peoples.': 4249, 'dnc.': 4250, 'happening.': 4251, 'machines': 4252, 'break': 4253, 'riot': 4254, 'milwaukee?': 4255, 'paternity': 4256, 'tests': 4257, 'helicopter': 4258, 'crowd': 4259, 'applications....': 4260, 'boots': 4261, 'airplanes': 4262, 'aliens.': 4263, 'redundant?': 4264, 'dumbed': 4265, 'become.': 4266, 'country......': 4267, 'starve': 4268, 'democrat?': 4269, 'rob': 4270, 'democrat,': 4271, 'bike.': 4272, 'thief.': 4273, 'wasteful': 4274, 'ineffective': 4275, 'murders': 4276, 'many.': 4277, 'poetic': 4278, 'justice....': 4279, 'innocents': 4280, '(aka': 4281, 'non-liberals)': 4282, 'intolerable.': 4283, 'democrats.': 4284, 'happy?': 4285, 'murderer': 4286, 'states......and': 4287, '100,000': 4288, 'felon': 4289, 'anarchy.': 4290, 'chico.': 4291, 'movie': 4292, 'help.\"': 4293, 'fix.': 4294, 'a-hole': 4295, 'hand': 4296, 'criminals,': 4297, 'kills': 4298, 'manslaughter': 4299, 'negotiation,': 4300, 'bargaining,': 4301, 'responsible.': 4302, 'folks?': 4303, 'unacceptable,': 4304, 'dereliction': 4305, 'sworn': 4306, 'duty': 4307, 'charges': 4308, 'limitted': 4309, 'simple....not': 4310, 'agree...completely.': 4311, 'bury': 4312, 'foot': 4313, 'die?': 4314, '\"hand': 4315, 'out\"': 4316, 'bwaaaaa': 4317, 'wasted': 4318, 'bwaa': 4319, 'teabags': 4320, '<<': 4321, 'nothing?': 4322, 'santa': 4323, 'chimney.': 4324, 'senseless': 4325, 'violence.': 4326, 'fools': 4327, '\"pittsburg': 4328, 'steal\"': 4329, 'deceived.': 4330, '\"give': 4331, 'rich': 4332, 'independent?\"': 4333, 'freeloader': 4334, 'year....how': 4335, 'skippy.': 4336, 'ten': 4337, 'business.': 4338, 'seanny': 4339, 'farce': 4340, 'cooking': 4341, 'meth': 4342, '$40k.': 4343, 'said....how': 4344, 'herpes': 4345, 'hemorrhoids': 4346, 'madame': 4347, 'wookie': 4348, 'epitomy': 4349, 'arrogance': 4350, 'sef-righteousness': 4351, 'valerie': 4352, 'jarrett': 4353, 'ayers,': 4354, 'rv': 4355, 'wright.....ho': 4356, 'w': 4357, 'judgement..how': 4358, 'verbally': 4359, 'degrade': 4360, \"where's\": 4361, 'now?': 4362, 'tarzans': 4363, 'spoiled,': 4364, 'thankless,': 4365, 'america-hating': 4366, 'wicked': 4367, 'deneen,': 4368, 'betray': 4369, 'sisters?': 4370, 'channels': 4371, 'martin': 4372, 'luther': 4373, 'king': 4374, 'deride': 4375, 'her?': 4376, 'mature': 4377, 'beautiful': 4378, 'lady,': 4379, 'guise': 4380, 'neck': 4381, 'sermon': 4382, 'mound': 4383, 'heart.': 4384, 'race?': 4385, 'pleasure': 4386, 'defection,': 4387, 'poverty': 4388, 'prejudice': 4389, 'haunt': 4390, 'bone': 4391, 'body.': 4392, 'haunted': 4393, \"'channeling'\": 4394, 'channel.': 4395, 'color.': 4396, 'does.': 4397, 'lying...trump': 4398, 'us...he': 4399, 'legally.': 4400, 'calling?...': 4401, 'cupcakes...': 4402, 'radical': 4403, 'that.....not': 4404, 'think.': 4405, 'redecorate': 4406, 'nobama': 4407, 'sez.': 4408, 'apes': 4409, 'reach.': 4410, 'much?': 4411, \"callin'\": 4412, 'spade,': 4413, 'spade.': 4414, 'oops': 4415, 'african-american': 4416, 'african.....was': 4417, '“people': 4418, 'comeback.”': 4419, 'benefiting': 4420, 'minority?': 4421, 'bloviates': 4422, 'accepting': 4423, 'frakish,': 4424, 'progs': 4425, 'hypocritical.': 4426, 'hypocrite': 4427, 'elaborate': 4428, 'trips,': 4429, 'bed': 4430, 'nite.....': 4431, '(taxpayer': 4432, 'money)': 4433, 'vacations': 4434, 'equality.....': 4435, 'joke.....': 4436, 'america.....': 4437, 'grandkids': 4438, 'wardrobes': 4439, '$20,000.00-': 4440, 'dresses.': 4441, '\"waking': 4442, 'up\"': 4443, 'tens': 4444, 'productive': 4445, 'homes': 4446, 'families,': 4447, 'pushed': 4448, 'aside': 4449, 'immigrants,': 4450, ';': 4451, 'points': 4452, '(his': 4453, 'labor': 4454, '(legal': 4455, 'illegal)': 4456, 'benefits,': 4457, '\"official\"': 4458, 'massive,': 4459, 'huge,': 4460, 'grown': 4461, 'already;': 4462, 'reputation': 4463, 'showing': 4464, 'confussed': 4465, 'fraud\"': 4466, 'thin': 4467, 'skinned': 4468, 'fake\"': 4469, 'delete': 4470, 'sorry..did': 4471, 'this...the': 4472, 'friday': 4473, '“act': 4474, 'acceptable': 4475, 'substitute': 4476, 'thoughtful': 4477, 'debate,': 4478, 'intolerance': 4479, 'optimism': 4480, 'openness': 4481, 'engine': 4482, 'progress.\"': 4483, 'circumvents': 4484, 'whenever': 4485, 'occasions': 4486, 'violated': 4487, 'constitution??': 4488, 'is....': 4489, '\"hateful': 4490, 'eight\"': 4491, 'vacate': 4492, 'wh,': 4493, '19': 4494, 'vietnam': 4495, 'ugly.': 4496, 'marine': 4497, 'rvn': 4498, '9-67': 4499, '3-69': 4500, 'amtrak': 4501, 'cau': 4502, 'viet': 4503, '2/9': 4504, 'carroll': 4505, 'quang': 4506, 'tri': 4507, 'buffalo,': 4508, 'lol,': 4509, 'perfect.': 4510, 'transvestites': 4511, 'elated': 4512, 'locker': 4513, 'cares????': 4514, 'trashy': 4515, \"michele's\": 4516, 'party,': 4517, '18,': 4518, '20,': 4519, '22.': 4520, '6,': 4521, 'discussions\"': 4522, '\"lady\"?': 4523, 'obama-': 4524, 'ski': 4525, 'house...': 4526, 'senator,': 4527, 'qualifications.': 4528, 'poor--her': 4529, 'hospitals': 4530, 'michelle.': 4531, 'contract,': 4532, 'bucks': 4533, 'ride....nwcs': 4534, 'popular': 4535, 'nwcs....money': 4536, 'laundering.': 4537, 'architect,': 4538, '(african': 4539, 'european),': 4540, 'pot': 4541, 'kettle': 4542, 'drafting': 4543, 'nomination': 4544, 'bizaro,': 4545, 'indited?': 4546, 'off.......for': 4547, '7.5': 4548, 'years.........': 4549, 'condemn': 4550, '\"anger': 4551, 'intolerance\"': 4552, 'inflicted': 4553, 'jose,': 4554, 'ca.': 4555, 'woodwork?': 4556, 'lunches': 4557, 'face...': 4558, 'scary.': 4559, 'bumper': 4560, 'sticker': 4561, 'mooch-elles': 4562, 'stating': 4563, 'a55': 4564, 'truck': 4565, 'fat?': 4566, 'curious...why': 4567, \"'good\": 4568, 'question...': 4569, 'lady,who': 4570, 'ride': 4571, 'n': 4572, 'spoken': 4573, 'wookie.': 4574, 'grinch': 4575, 'stole': 4576, 'christmas?\"': 4577, 'immigration.': 4578, 'arrive': 4579, 'beverage,': 4580, 'chat.': 4581, 'garbage,': 4582, 'invite': 4583, 'door.': 4584, 'in,': 4585, 'settled,': 4586, 'door': 4587, 'ok,': 4588, \"we'll\": 4589, 'otherwise,': 4590, 'written,': 4591, 'ad': 4592, 'eyes,': 4593, 'moochell': 4594, 'at..': 4595, 'hideously': 4596, 'ugly..': 4597, 'pathetically': 4598, 'uncalled': 4599, 'inappropriate.': 4600, 'developed,': 4601, 'nerve,': 4602, 'truth?': 4603, '\"cards\"': 4604, 'carve': 4605, 'b.s.': 4606, 'liberalbeliefs.': 4607, 'for/criticized': 4608, 'legitimately...': 4609, 'out...\"': 4610, '\"walls\"': 4611, 'clueless,': 4612, 'pro-illegal': 4613, 'immigration,': 4614, 'leftytool.': 4615, 'guarded': 4616, 'guys': 4617, 'guns,': 4618, 'lectures': 4619, 'yeeeeup.': 4620, '(actually,': 4621, 'fence,': 4622, 'it?)': 4623, 'speech?': 4624, 'trump?': 4625, 'inappropriate....and': 4626, 'tacky.': 4627, 'shame.': 4628, 'lives?': 4629, 'place.': 4630, 'interact': 4631, 'barack...she': 4632, 'strap': 4633, 'jesus,': 4634, 'bus': 4635, 'again?': 4636, 'dignity': 4637, 'rutgers': 4638, 'nj': 4639, 'graduates': 4640, 'fluff': 4641, 'trump...what': 4642, 'sorting': 4643, 'graduates.': 4644, 'maketheunitedstatesgreatagain.com': 4645, 'red': 4646, 'shipping': 4647, 'coast,': 4648, 'vendor': 4649, 'campaign.': 4650, 'swipes': 4651, 'opponent': 4652, \"party's\": 4653, 'candidates?': 4654, 'goodness': 4655, 'sake,': 4656, 'michele.': 4657, 'reveals': 4658, 'grace': 4659, \"nation's\": 4660, 'ticked': 4661, 'elected,': 4662, 'celebrated': 4663, 'michael.': 4664, 'he/she': 4665, 'envy.': 4666, 'kitchen??is': 4667, 'beter': 4668, 'brother': 4669, 'trumpet': 4670, '9.6%': 4671, 'rate.': 4672, \"osym's\": 4673, 'relevant.': 4674, 'expected': 4675, 'language.': 4676, 'down,': 4677, 'wholly': 4678, 'contact': 4679, 'prime': 4680, 'oceanfront': 4681, 'cheap': 4682, 'downtown': 4683, 'memphis': 4684, 'tennessee.': 4685, 'atlantic': 4686, 'pacific': 4687, 'ocean.': 4688, ',suppose': 4689, 'downtrodden': 4690, 'tapped': 4691, 'lucky': 4692, 'potus,': 4693, 'anyway,': 4694, 'twice.': 4695, 'undercover': 4696, 'michelle?': 4697, 'all?': 4698, 'suggestion': 4699, '\"different\"': 4700, 'whey': 4701, 'come.': 4702, 'catch': 4703, 'tony': 4704, 'd.c.': 4705, 'neighborhood,': 4706, 'daughters,': 4707, 'coffee': 4708, 'morning.': 4709, '2017': 4710, 'enough,': 4711, 'bon': 4712, 'voyage': 4713, 'michells': 4714, 'husband..': 4715, 'owe': 4716, 'results.': 4717, 'trillion,': 4718, 'year..': 4719, 'libertards..': 4720, 'majority.': 4721, '(sarc)': 4722, 'reside': 4723, 'shame?': 4724, 'pearl': 4725, 'apologizes': 4726, 'reprehensible': 4727, 'act.': 4728, 'plows': 4729, 'bong': 4730, 'nightly': 4731, 'unbelievable': 4732, 'shots': 4733, 'jv': 4734, 'joke....': 4735, 'wh': 4736, 'oblunder': 4737, 'divided': 4738, 'horse': 4739, 'tooth': 4740, 'jungle': 4741, 'creaturrrrre': 4742, 'moooooochel': 4743, 'swiping': 4744, '$': 4745, 'gutter': 4746, 'crust': 4747, 'swiping.': 4748, 'michael': 4749, 'he.': 4750, 'buckwheat': 4751, 'dude.': 4752, '\"experience\"': 4753, 'a…': 4754, 'wondered': 4755, 'planes,': 4756, 'together..': 4757, 'baiting': 4758, 'husband.': 4759, 'obimbo': 4760, 'wednesday,': 4761, 'husband,': 4762, 'indiana,': 4763, '“republican': 4764, 'nominee”': 4765, '“crazy”': 4766, 'ideas,': 4767, '11': 4768, 'states.': 4769, 'depo': 4770, 'em': 4771, 'joan': 4772, 'rivers': 4773, 'critique': 4774, 'comedy.': 4775, 'critize': 4776, 'like.': 4777, 'somehow,': 4778, 'clinton’s': 4779, 'presidency': 4780, 'alleges': 4781, 'presumptive': 4782, '“lacks': 4783, 'temperament': 4784, 'honestly...': 4785, 'barrack': 4786, 'insane': 4787, 'transformation': 4788, 'firlmy': 4789, 'boundary...im': 4790, 'cynical': 4791, 'argumebt': 4792, 'severely': 4793, 'hateful.': 4794, 'context': 4795, 'victims.': 4796, 'victimizing': 4797, 'victimize': 4798, 'them)': 4799, 'mistreated': 4800, 'descent': 4801, 'obsess': 4802, 'blood,': 4803, 'rarely': 4804, 'treated.': 4805, 'documented': 4806, 'tent': 4807, 'borders,': 4808, 'face.': 4809, 'boundaries': 4810, '..with': 4811, 'sure,': 4812, 'ths': 4813, 'sister': 4814, 'cleo??': 4815, 'cleo': 4816, 'impressive.': 4817, 'marries': 4818, 'degrades': 4819, 'spiteful': 4820, 'empowered.': 4821, 'moocher': 4822, 'pulpit.': 4823, 'world;': 4824, 'cherrypicking': 4825, 'patients': 4826, 'salary': 4827, 'worth,': 4828, 'hate-speech': 4829, 'setting': 4830, 'earn,': 4831, 'remembering.': 4832, 'slavic;': 4833, 'realizing': 4834, 'predecessors': 4835, 'divisive': 4836, 'uttered,': 4837, 'opportunities': 4838, 'failures,': 4839, 'worldwide': 4840, 'disarray': 4841, 'enemies': 4842, 'fronts': 4843, 'lithuanian': 4844, 'here...with': 4845, 'g-grandmum': 4846, 'czar': 4847, '10%': 4848, 'predated': 4849, 'scottish': 4850, 'jew...but': 4851, 'regarded': 4852, 'murderedf': 4853, 'falls': 4854, 'rally': 4855, 'attendees': 4856, 'jose': 4857, 'supporters.': 4858, 'glance': 4859, '\"husband\\'s\"': 4860, 'his.': 4861, 'pair.': 4862, 'cheering': 4863, 'egyptian': 4864, 'hebrew': 4865, 'pyramids??': 4866, 'stage': 4867, 'protests': 4868, 'eggs,': 4869, 'maybe.': 4870, 'press': 4871, 'egypt': 4872, 'reparations.': 4873, 'thousand': 4874, 'commemorating': 4875, 'egypt.': 4876, 'obummers': 4877, \"'african'\": 4878, '\"built': 4879, 'slaves\"': 4880, 'hypocrisy': 4881, 'fills': 4882, 'darts': 4883, 'use?': 4884, 'families.': 4885, 'mrs.': 4886, 'smart,': 4887, \"she'll\": 4888, 'quote': 4889, '\"protests': 4890, 'page': 4891, 'ago\"': 4892, '...not': 4893, 'in...': 4894, 'prison.': 4895, 'cellmate': 4896, 'rapidly': 4897, 'gray': 4898, 'tired,': 4899, 'attractive.': 4900, 'mooch': 4901, 'aunt': 4902, 'esther': 4903, 'cataracts': 4904, 'worry': 4905, 'moochel': 4906, 'sexually': 4907, 'billy.': 4908, '...no': 4909, \"trump's\": 4910, 'out...fortrump....': 4911, 'f': 4912, 'beast': 4913, 'racists': 4914, 'lynching,': 4915, 'abusing,': 4916, 'owed': 4917, 'tramp': 4918, 'transparent': 4919, '\"race': 4920, 'card\"': 4921, '????': 4922, 'trouble..': 4923, 'visit': 4924, 'thread': 4925, 'gutter.': 4926, 'someday,': 4927, 'wishful': 4928, 'thinking.': 4929, 'fair,': 4930, 'hatred,': 4931, 'vitriol,': 4932, 'them...over': 4933, 'multi': 4934, 'hospital....was': 4935, 'patient': 4936, 'dumping': 4937, 'scheme.': 4938, 'sources': 4939, 'comment?': 4940, 'toolbar': 4941, 'educate': 4942, 'yourself...if': 4943, 'type?': 4944, 'apologize.': 4945, 'covered': 4946, '8th': 4947, 'today?': 4948, \"'re\": 4949, '\"we\"?': 4950, 'storm....try': 4951, 'recall': 4952, 'rolled': 4953, 'gutter...as': 4954, 'say.....over': 4955, 'palin.': 4956, 'respect....why?': 4957, 'topic': 4958, 'reacting': 4959, 'lol...not': 4960, \"hillary...you're\": 4961, 'too...': 4962, 'great.': 4963, 'impeached.': 4964, 'impeached': 4965, 'dynamic': 4966, 'duo\"': 4967, 'linebacker': 4968, 'nfl....': 4969, 'bitter': 4970, 'skunk-ape.': 4971, 'sigh.': 4972, 'she?': 4973, 'nope.': 4974, 'embarrassment': 4975, 'vacuous': 4976, 'anywhere': 4977, 'was.': 4978, 'behind.': 4979, 'gang': 4980, 'longer.': 4981, 'promises': 4982, '(if': 4983, 'elected)': 4984, \"'progress'.\": 4985, 'gaffes,': 4986, 'wake.': 4987, 'milk?': 4988, 'pedophile,': 4989, 'ex-navy,': 4990, 'choices.': 4991, 'lollypop?': 4992, 'rainbow': 4993, 'deserving': 4994, 'honor.': 4995, 'organizations': 4996, 'ceremony': 4997, 'pendleton': 4998, 'moh': 4999, 'basilone': 5000, '(second': 5001, 'warship': 5002, 'ddg)': 5003, 'narrative': 5004, 'song': 5005, '\"anchors': 5006, 'away\"': 5007, '\"in': 5008, 'navy\"': 5009, 'sailor': 5010, 'seriously.': 5011, 'j.': 5012, 'christopher': 5013, 'stevens,': 5014, 'tyrone': 5015, 'woods,': 5016, 'glen': 5017, 'doherty,': 5018, 'smith...american': 5019, 'heroes': 5020, 'lifestyle,': 5021, 'stomached.': 5022, 'backdoor': 5023, 'commissioned?': 5024, 'usns': 5025, 'milk.': 5026, 'aft': 5027, 'boarding': 5028, 'only.': 5029, 'blow': 5030, 'jeffrey': 5031, 'dahmer': 5032, 'understand.': 5033, 'sea-men.': 5034, 'minimum??': 5035, 'milk.................': 5036, 'ferry...............': 5037, 'fairy': 5038, 'crewed': 5039, 'auxiliary': 5040, 'general.': 5041, 'f.a.g.': 5042, 'oils': 5043, 'hauls': 5044, 'effluence?': 5045, 'guess,': 5046, 'rumpranger': 5047, 'oiler': 5048, 'option.': 5049, 'watering': 5050, 'tsunami': 5051, 'wash': 5052, \"fran's\": 5053, 'machine': 5054, 'rev': 5055, 'cons---': 5056, 'quickly': 5057, 'irrelevant.': 5058, 'christ-like': 5059, 'tighter,': 5060, 'meanness': 5061, 'evangelizing': 5062, 'here;': 5063, 'tomorrow': 5064, 'us?': 5065, 'habit.': 5066, 'proclivity': 5067, 'dismisses': 5068, 'hand.': 5069, 'us-we': 5070, 'liberal/lamocrats,like': 5071, 'you.maybe': 5072, 'orlando.': 5073, 'embarrassing': 5074, '....and': 5075, 'gleefully': 5076, 'embraced': 5077, \"'normal'.\": 5078, 'lace': 5079, 'deck': 5080, 'flows': 5081, 'keyboards': 5082, '\"christians\"': 5083, 'buttsex': 5084, '1912?': 5085, 'stds': 5086, 'resistant': 5087, 'libidinous': 5088, 'chastity': 5089, 'bathrooms.': 5090, 'gomer.': 5091, 'hiv.': 5092, 'partner,': 5093, 'believe.': 5094, 'hahahahahahahahahahahahahahahaha': 5095, 'co-worker': 5096, 'gays.': 5097, 'hahahahahahahaha': 5098, 'heel': 5099, 'clicking': 5100, 'stories....': 5101, 'sharing': 5102, 'pity': 5103, 'ship.': 5104, 'iranians': 5105, 'patrol': 5106, 'capture': 5107, 'welp,': 5108, 'boys.': 5109, '\"we,\"': 5110, 'sing': 5111, 'eye': 5112, 'filmed': 5113, 'homoerotic': 5114, 'destroyers.': 5115, '\"conservative\"': 5116, 'dinosaurs.': 5117, 'beauty': 5118, 'rights,': 5119, 'candidates,': 5120, 'counts.': 5121, 'extremist': 5122, 'fringe': 5123, 'gfy': 5124, 'greece': 5125, 'bc....you': 5126, 'regressives': 5127, 'roman': 5128, 'empire?': 5129, 'over,': 5130, 'empire': 5131, 'fell.': 5132, 'wth': 5133, 'pedophiles?': 5134, 'count-': 5135, 'hetero': 5136, 'phobic.': 5137, 'imploded': 5138, 'further?': 5139, 'gay.': 5140, '\"really': 5141, 'gay\"': 5142, 'outspoken': 5143, 'fu_kin': 5144, 'pedo': 5145, 'tanker.the': 5146, 'usn': 5147, 'hill.': 5148, 'deplorable': 5149, 'u.c.m.j.': 5150, '\"don\\'t': 5151, 'tell,': 5152, 'ask\"': 5153, 'homosexuality': 5154, 'beastity': 5155, 'window.': 5156, 'goes.': 5157, 'cesspool': 5158, 'much.': 5159, 'chelsea': 5160, 'billy': 5161, 'running.': 5162, 'shadows': 5163, 'tinfoil': 5164, 'rays': 5165, 'f*ggots.': 5166, 'fanatical': 5167, 'conservative.': 5168, 'anti-gay': 5169, 'agenda?': 5170, 'william': 5171, 'jefferson': 5172, 'torpedo': 5173, 'trials.': 5174, 'islamists.': 5175, 'image.': 5176, 'relations': 5177, 'enlisted': 5178, 'unacceptable': 5179, 'secretary': 5180, 'ray': 5181, 'mabus;': 5182, 'traitor.': 5183, 'eyeseeit': 5184, 'correction;': 5185, 'woke': 5186, 'soho': 5187, 'doorway,': 5188, 'policeman': 5189, '\"you': 5190, 'tonight': 5191, 'walk': 5192, 'away.\"': 5193, 'underground': 5194, 'breeze': 5195, 'hair.': 5196, 'throwing': 5197, 'punches': 5198, 'preaching': 5199, 'chair.': 5200, ';something': 5201, 'you\"ll': 5202, 'enjoy;': 5203, 'g.f.y.': 5204, 'manhood': 5205, 'dignity.mine': 5206, 'tact,fudgepounder.': 5207, 'aww,': 5208, 'adorable': 5209, 'argument,': 5210, 'upping': 5211, 'ante': 5212, 'rude': 5213, 'insults.': 5214, 'long,fairy.': 5215, ',vietnam': 5216, 'combat': 5217, 'vet,mekong.honorable': 5218, 'discharge,purple': 5219, \"heart,etc.etc.what's\": 5220, 'america,pogeybait': 5221, \"wasn't.\": 5222, 'politician': 5223, 'votes.': 5224, 'navy,': 5225, 'homosexuals': 5226, 'distinction': 5227, 'openly': 5228, 'brag': 5229, 'exploits': 5230, 'institute': 5231, 'will.': 5232, 'interestingly,': 5233, 'site.': 5234, 'honorable.': 5235, 'presence': 5236, 'than\"': 5237, 'says.': 5238, 'unusual': 5239, 'wrong...': 5240, 'discharged,': 5241, 'objection': 5242, 'fueled': 5243, 'derisive': 5244, \"article's\": 5245, 'bottom.': 5246, 'vessel': 5247, 'oiler.': 5248, 'jokes': 5249, '$40': 5250, 'politicize': 5251, 'experiment': 5252, 'below': 5253, 'above)': 5254, 'kneel': 5255, 'behind...': 5256, 'icon': 5257, 'foley?': 5258, 'bobbling': 5259, 'asking.': 5260, 'expert': 5261, '(experience': 5262, 'counts).': 5263, 'disagree': 5264, 'understood': 5265, 'served,': 5266, 'alliances': 5267, 'obsession': 5268, 'sickness.': 5269, 'job.........babysitting': 5270, \"mom's\": 5271, 'pedophilia,': 5272, 'lashing': 5273, 'psychological': 5274, 'diagnosis': 5275, 'and/or': 5276, 'solving': 5277, 'puzzle': 5278, 'banana?': 5279, 'reference?': 5280, 'monkey....in': 5281, 'were,': 5282, 'attack.': 5283, 'thought..': 5284, 'dense': 5285, 'demonizing': 5286, 'pedophilia.': 5287, 'dangerous.': 5288, 'well,your': 5289, 'question,given': 5290, 'postings;right': 5291, 'happen?': 5292, 'rhetorical': 5293, 'sea.': 5294, 'disgusting.': 5295, '\"milk\\'s': 5296, 'career': 5297, 'officer,': 5298, 'discharge,\"': 5299, 'yup': 5300, 'after.': 5301, 'preferences,': 5302, 'performance': 5303, 'officer.': 5304, 'preferences': 5305, 'performance....': 5306, 'painted': 5307, 'hull....': 5308, 'harms': 5309, 'matter?': 5310, 'technically,': 5311, 'anymore': 5312, 'gotrumpforamerica': 5313, 'margaret': 5314, 'sanger': 5315, 'ss': 5316, 'sandusky': 5317, 'reverse?': 5318, 'pitcher,': 5319, 'catcher': 5320, 'mode': 5321, 'fear': 5322, 'enemies....': 5323, 'afraid': 5324, 'rear': 5325, 'ferry': 5326, 'boat...': 5327, 'wellsaid': 5328, 'pink,': 5329, 'a55hole': 5330, 'rudder': 5331, 'dix': 5332, 'unfrigginbelievable.': 5333, 'cruise': 5334, 'shores': 5335, 'iran.....a': 5336, 'threat': 5337, 'evinrude': 5338, 'engineer': 5339, 'condom': 5340, 'wrapped': 5341, 'wow...': 5342, 'loss': 5343, 'scared': 5344, 'become?': 5345, 'doubting': 5346, 'contribution': 5347, 'navel': 5348, 'reconnection.': 5349, \"gay's\": 5350, 'grandson': 5351, 'respectful': 5352, 'award': 5353, 'tool.': 5354, '1960-1967.': 5355, 'significant': 5356, 'personnel.': 5357, 'others?': 5358, 'criticizing': 5359, \"bj's\": 5360, '\"serving': 5361, 'honorably\"': 5362, 'agree,': 5363, 'admitted': 5364, '....other': 5365, 'honorably..read': 5366, 'queerbait..': 5367, 'dishonourably.': 5368, 'sources.': 5369, 'lie.': 5370, 'things.': 5371, 'provided': 5372, 'source.': 5373, 'britannica': 5374, 'harvey,': 5375, 'dishonourable': 5376, 'crying?': 5377, 'aw,': 5378, 'cry,': 5379, 'baby.': 5380, 'diaper.': 5381, 'shown': 5382, 'ilk.': 5383, 'melted': 5384, 'brain.': 5385, 'dance': 5386, 'chain.': 5387, 'dance,': 5388, 'smirk': 5389, 'shove': 5390, 'honorably,': 5391, 'buddy.': 5392, 'chickensht.': 5393, 'flightsuit': 5394, 'base.': 5395, 'smart': 5396, 'libby': 5397, 'flower.': 5398, 'sinks': 5399, 'ask,': 5400, 'board.': 5401, 'wishing': 5402, 'personnel?': 5403, 'treason?': 5404, 'qeerbarge': 5405, 'ship,': 5406, 'fairy?': 5407, 'overdue.': 5408, 'water-carrying': 5409, 'republicans.': 5410, 'lol..': 5411, 'honey.': 5412, 'starts,': 5413, 'nope,': 5414, 'heartbeats': 5415, 'presidency,': 5416, 'try,': 5417, 'employers.': 5418, '\"destroyed\".': 5419, 'serve?': 5420, '1990': 5421, '2012.': 5422, 'house,': 5423, 'u.s.s.': 5424, 'seaman': 5425, 'napolitano,': 5426, 'extra.': 5427, 'surprises': 5428, 'research.': 5429, '2000.': 5430, 'memorial': 5431, 'troops': 5432, 'confederacy,': 5433, 'belongs.': 5434, 'future,': 5435, 'liberal.': 5436, 'southerners': 5437, 'ticking': 5438, 'cussing': 5439, '13%': 5440, 'believe,': 5441, 'residence': 5442, 'weeks': 5443, 'daily.': 5444, 'street,': 5445, 'possessions': 5446, 'holidays,': 5447, 'anytime': 5448, 'flag(battle': 5449, 'flag)': 5450, 'attack,': 5451, 'north,': 5452, 'regulations': 5453, 'rebelling': 5454, 'easiest': 5455, 'confederacy...regardless': 5456, 'values': 5457, 'heritage,': 5458, 'suburbs': 5459, 'get.': 5460, 'article.': 5461, 'throughout..': 5462, 'similar.': 5463, 'souther': 5464, 'panthers': 5465, 'colors': 5466, 'bars.': 5467, 'stain': 5468, 'daily,': 5469, 'discussions': 5470, 'conversations': 5471, '(ferguson,': 5472, 'baltimore),': 5473, 'motion': 5474, 'pictures': 5475, '(12': 5476, 'selma),': 5477, 'month.': 5478, 'end,': 5479, 'flinging': 5480, 'onto': 5481, 'knock-kneed': 5482, 'concede': 5483, 'intimidating': 5484, 'deployed': 5485, 'opporiturity': 5486, 'thirty': 5487, 'forward,': 5488, 'governor': 5489, 'howard': 5490, '(d.,': 5491, 'vt.)': 5492, '2003': 5493, '“white': 5494, 'pickup': 5495, 'trucks': 5496, 'confederate-flag': 5497, 'decals': 5498, 'us.”': 5499, 'november,': 5500, 'declared': 5501, '\"missing': 5502, 'point\"': 5503, 'theme': 5504, 'governor,': 5505, '1987': 5506, '116,': 5507, 'banner.': 5508, 'lee': 5509, 'adopted': 5510, '1863': 5511, 'lee?': 5512, 'famous': 5513, 'something?': 5514, 'lee,': 5515, 'general,': 5516, 'out...which': 5517, 'bright': 5518, 'on...is': 5519, '\"robert\"': 5520, 'progressives': 5521, 'pc.': 5522, 'gfy,': 5523, 'letters': 5524, 'gruber?': 5525, 'correct.': 5526, '\"gruber\",': 5527, 'immature': 5528, 'southerners,': 5529, 'rednecks,': 5530, 'republicans,': 5531, 'miscellaneous': 5532, 'halfwits': 5533, 'particularly': 5534, 'encourage': 5535, 'encouraging': 5536, 'tremendous': 5537, 'service.': 5538, 'willingness': 5539, 'obsessive': 5540, 'enforces': 5541, 'sovereignty': 5542, 'unites': 5543, 'philadelphia': 5544, 'debates': 5545, '18': 5546, 'formed': 5547, 'enforce.': 5548, 'oldest': 5549, 'predates': 5550, 'tyranny': 5551, 'tyrannical': 5552, 'independence': 5553, 'slavery...it': 5554, 'states...(minus': 5555, 'admin.)': 5556, 'blight': 5557, 'past.': 5558, \"judge's\": 5559, 'piece,': 5560, '\"imagine': 5561, 'constitution\"': 5562, 'sovereign': 5563, 'yielded': 5564, 'patrolling': 5565, 'coasts': 5566, 'piracy,': 5567, 'minting': 5568, 'currency,': 5569, 'efficiently': 5570, 'separately.': 5571, 'lincoln': 5572, 'undoubtedly': 5573, 'role': 5574, 'grave': 5575, 'strip': 5576, 'powers…': 5577, 'year.': 5578, 'ideas': 5579, 'something.': 5580, 'spam.': 5581, 'emotions': 5582, 'operate': 5583, 'gruber': 5584, '\"gruber\"': 5585, 'refute,': 5586, 'infiltrate': 5587, 'hostile': 5588, 'vallerie': 5589, 'jarrett,': 5590, 'van': 5591, 'jones': 5592, 'departments': 5593, 'fantasy': 5594, 'reality....': 5595, 'correctly.': 5596, 'bragg': 5597, '(who': 5598, 'traitor)': 5599, 'sherman': 5600, 'reminder': 5601, 'confederates.': 5602, '4,': 5603, '1818,': 5604, 'changed': 5605, 'stars,': 5606, 'star': 5607, 'admitted,': 5608, 'reduced': 5609, 'colonies.': 5610, '10': 5611, 'million+': 5612, 'explorers': 5613, '15th': 5614, '1860': 5615, 'granted': 5616, '100+': 5617, '\"ended\",': 5618, 'dropping': 5619, 'continents': 5620, '0.3%': 5621, 'number....': 5622, 'atrocities': 5623, 'slightly': 5624, 'gadsen': 5625, \"(don't\": 5626, 'me)': 5627, 'replace': 5628, 'old,': 5629, 'offensive,': 5630, 'hug': 5631, 'slave.': 5632, 'cry': 5633, 'continent': 5634, 'strive': 5635, 'vikings': 5636, 'crossed': 5637, 'bridge': 5638, '25%': 5639, 'origin.': 5640, 'sir?': 5641, 'africa?': 5642, '125,000': 5643, '60,000': 5644, 'it...': 5645, 'genetics': 5646, 'proven': 5647, 'outdated.': 5648, 'nova': 5649, 'series': 5650, 'ones.': 5651, 'fill': 5652, 'genetics.': 5653, 'world,': 5654, 'inappropriate': 5655, 'deeds.': 5656, 'bask': 5657, 'deeds': 5658, 'always,': 5659, 'incredible': 5660, 'misdeeds': 5661, 'responsibility': 5662, 'misdeeds...': 5663, 'defender.': 5664, 'mentioning': 5665, '\"god\"': 5666, 'oxymoron.': 5667, 'aggression': 5668, 'propagandist': 5669, 'training': 5670, 'waty': 5671, 'help.....political': 5672, 'help.....i': 5673, 'clips': 5674, 'ferguson': 5675, \"baltimore..............can't\": 5676, '\"diversity': 5677, 'training\"': 5678, 'brow': 5679, 'previously': 5680, 'thoroughly': 5681, 'eternally': 5682, 'dissing': 5683, 'ends': 5684, 'begins.': 5685, 'caliphate': 5686, 'iran.': 5687, 'remnants': 5688, 'heritage': 5689, \"left's\": 5690, 'difference,': 5691, 'deliver': 5692, 'intelligent': 5693, 'response........': 5694, 'waiting......': 5695, 'indians': 5696, 'end?': 5697, 'carnage,': 5698, 'japenese': 5699, 'incarcerated,': 5700, 'germans.': 5701, 'almost,': 5702, 'marches': 5703, 'bataan': 5704, 'march': 5705, 'ww2.': 5706, 'miscarriages': 5707, 'marched': 5708, 'across': 5709, 'miles.': 5710, 'deliberately': 5711, 'infected': 5712, 'blankets': 5713, 'smallpox': 5714, 'men,': 5715, 'germ': 5716, 'deliberate': 5717, 'bombing': 5718, 'civilian': 5719, 'centers': 5720, 'japan': 5721, 'industrial': 5722, 'targets.': 5723, 'fiery': 5724, 'holocaust': 5725, 'hiroshima': 5726, 'nagasaki': 5727, 'atomic': 5728, 'weapons.': 5729, 'excess': 5730, 'bloodshed': 5731, 'stripes.': 5732, 'record,': 5733, 'saintly.': 5734, 'india': 5735, 'foxxy': 5736, 'arms': 5737, 'beheading': 5738, 'them.off': 5739, 'buildings': 5740, 'expressing': 5741, 'te\"': 5742, 'consistent.': 5743, 'remember,': 5744, 'who,': 5745, \"o'reilly\": 5746, 'interview,': 5747, 'afdi': 5748, 'advertisements': 5749, 'caiiing': 5750, 'kiiiing': 5751, 'some.': 5752, 'necessity': 5753, 'forefathers': 5754, 'believed': 5755, 'rights...': 5756, 'pursue': 5757, 'freedoms.': 5758, 'entity': 5759, 'retail': 5760, 'outlets': 5761, 'sales': 5762, 'domestic': 5763, 'amendment.': 5764, '\"ordered\"': 5765, 'retailers': 5766, 'fiags?': 5767, 'nutter.': 5768, 'muzzy': 5769, 'erasure': 5770, 'funneling': 5771, 'died.': 5772, 'mistake,': 5773, 'agenda': 5774, 'socialize': 5775, 'intentionally': 5776, 'exactly.': 5777, 'lies?': 5778, 'ignorance?': 5779, 'million?': 5780, 'million.': 5781, '30-40': 5782, 'ussr': 5783, 'alone.': 5784, 'redskins': 5785, 'happy': 5786, 'rap.': 5787, 'judgements.': 5788, 'weak,': 5789, '(hugh': 5790, 'lorry': 5791, 'terrible.)': 5792, 'shutting': 5793, 'bad.': 5794, 'amazes': 5795, 'constituiton': 5796, 'continued': 5797, 'enslavement': 5798, 'apart': 5799, 'strongly': 5800, 'urge': 5801, 'south.': 5802, 'rag': 5803, 'museum.': 5804, 'shocking': 5805, 'displaying': 5806, 'attrocities': 5807, 'through.': 5808, 'business?': 5809, '\"whole': 5810, 'purpose\"': 5811, 'vast': 5812, 'ambivalent': 5813, 'drove': 5814, 'subservient': 5815, 'contractual': 5816, 'york': 5817, 'war\"': 5818, '1812,': 5819, \"ny's\": 5820, 'drafted': 5821, 'articles': 5822, 'succession.': 5823, 'brits': 5824, 'd.c.,': 5825, 'ny': 5826, 'riddance\".': 5827, 'contained': 5828, 'ongoing': 5829, 'primary': 5830, '\"states': 5831, 'rights\",': 5832, 'continues': 5833, 'go.': 5834, 'treason,freedom': 5835, 'right.....god': 5836, ',men': 5837, 'document': 5838, 'spite': 5839, 'crown': 5840, 'england.': 5841, 'shall.': 5842, 'obedient': 5843, 'does,': 5844, 'goverment': 5845, 'treason.': 5846, 'nuke.': 5847, 'belongs': 5848, 'prision.': 5849, 'criminal.': 5850, '\"inalienable': 5851, 'rights\"?': 5852, 'sober,': 5853, 'means.': 5854, 'mine': 5855, 'incomprehensible,': 5856, 'inaccurate': 5857, 'wacky.': 5858, 'minute': 5859, 'silence': 5860, 'with...': 5861, 'thoughts': 5862, 'action?': 5863, 'fan': 5864, 'issue.': 5865, 'refresher': 5866, 'myth.': 5867, 'confer': 5868, 'absolute': 5869, 'branch.': 5870, 'myth': 5871, 'civics.': 5872, '\"congress': 5873, 'shall': 5874, 'law...': 5875, 'abridging': 5876, 'speech...\"': 5877, 'implied.': 5878, \"thousand's\": 5879, 'speak.': 5880, 'yourselves': 5881, 'hundred': 5882, 'today.': 5883, 'pray': 5884, 'sisters': 5885, 'genocide.': 5886, 'huh': 5887, 'joining': 5888, 'whos': 5889, 'sick.': 5890, 'capitol': 5891, 'duck...we': 5892, 'traveling': 5893, 'direction': 5894, 'issues?': 5895, 'preserves': 5896, 'hatred.': 5897, 'gop/fox': 5898, 'commended': 5899, 'massaging': 5900, 'narratives': 5901, 'suit': 5902, 'angle.': 5903, 'falling': 5904, '\"intellectual': 5905, 'lightweight\".': 5906, 'speech..whether': 5907, 'object': 5908, 'amendment?': 5909, 'communists': 5910, 'angle': 5911, 'flag,': 5912, 'napolitano.': 5913, 'unbiased.': 5914, 'southerner': 5915, 'grandparents': 5916, 'reminded': 5917, 'this??': 5918, 'ridiculous?': 5919, 'thoughts?': 5920, 'figures.': 5921, 'slave?': 5922, '(not': 5923, 'state)': 5924, 'state?': 5925, \"country's\": 5926, 'secede.': 5927, 'dearly': 5928, 'smudge': 5929, 'history,': 5930, 'types': 5931, 'actions': 5932, 'perpetuate': 5933, 'keeps': 5934, 'apologists.': 5935, 'agree.': 5936, 'symbolizes': 5937, 'perpetuates': 5938, 'internationally': 5939, 'patriotism...': 5940, 'demonstrate': 5941, 'patriotism': 5942, 'occurred': 5943, 'raised.': 5944, 'melodramatic,': 5945, '\"smudge': 5946, 'history.\"': 5947, 'enslaving': 5948, '\"smudge.\"': 5949, 'pride': 5950, 'touched': 5951, '(well,': 5952, 'movement)': 5953, 'coin.': 5954, 'attempting': 5955, 'portray': 5956, 'clue,': 5957, 'nabbed': 5958, 'traders(not': 5959, 'america),': 5960, 'america,': 5961, 'scag': 5962, 'ok.': 5963, 'way;': 5964, 'okay,': 5965, 'ownership': 5966, 'owning': 5967, 'astounding.': 5968, 'kidnapped?': 5969, 'lynched': 5970, 'hamburger': 5971, 'person?': 5972, 'offensive?': 5973, 'with,': 5974, 'article?': 5975, '\"should\"': 5976, 'unlawfully': 5977, 'restricting': 5978, 'ban.': 5979, 'typical': 5980, 'survival': 5981, 'fittest,': 5982, 'weaker.': 5983, 'wolves': 5984, 'gate.': 5985, 'ourselves.': 5986, '123': 5987, 'diversify': 5988, 'race-based': 5989, 'admissions,': 5990, 'endowment': 5991, 'haverford': 5992, 'announced': 5993, 'need-blind': 5994, 'budgetary': 5995, 'concerns.': 5996, 'saddle': 5997, 'lives.': 5998, 'strategy': 5999, 'affordable.': 6000, 'unlikely': 6001, 'institutions': 6002, 'collage': 6003, 'disadvantaged.': 6004, 'exact': 6005, 'moderators': 6006, 'posts,': 6007, 'censored': 6008, 'princeton': 6009, 'website': 6010, 'veteran-': 6011, 'affirmitive': 6012, 'returns': 6013, 'asks': 6014, 'oppounity': 6015, 'operation,': 6016, 'colour': 6017, 'suppos': 6018, 'college\",': 6019, 'college\".': 6020, 'dude...asians': 6021, 'particular': 6022, 'break.': 6023, '1975': 6024, 'bellingham': 6025, 'went,': 6026, 'applied,': 6027, 'openings,': 6028, 'experience,': 6029, 'have?': 6030, 'background': 6031, 'caucasian': 6032, '(code': 6033, 'minority)': 6034, 'status.': 6035, '\"unemployment': 6036, 'office\",': 6037, 'time,': 6038, '\"people': 6039, 'industries': 6040, 'fulfill': 6041, '\"quota\"': 6042, 'listed.': 6043, '\"person': 6044, 'check.': 6045, 'wealth': 6046, '\"adjusted\"': 6047, 'match': 6048, 'outcome': 6049, 'socialism': 6050, 'establishment': 6051, '\"equal\"': 6052, 'challenge': 6053, 'there...': 6054, \"70's\": 6055, 'factories': 6056, 'stations': 6057, 'digging': 6058, 'ditches': 6059, 'landscaping': 6060, 'stemmed': 6061, 'reserved': 6062, 'minorities,': 6063, 'grants,': 6064, 'loans,': 6065, 'visible': 6066, 'peers': 6067, 'rides(even': 6068, 'i,': 6069, 'workforce': 6070, 'supervision': 6071, 'edicts,': 6072, 'inclusive': 6073, 'traditional': 6074, 'roles...': 6075, 'legislate': 6076, 'demographics': 6077, 'colors(no': 6078, 'pun': 6079, 'intended)': 6080, '(at': 6081, 'dominated': 6082, 'respective': 6083, 'construction': 6084, 'industry...': 6085, '\"last': 6086, 'awarded': 6087, '$1': 6088, 'equity': 6089, 'excellence': 6090, 'vassar': 6091, 'admitting,': 6092, 'students\",': 6093, '\"supporting\"': 6094, 'tutoring,': 6095, 'mentoring': 6096, 'trumps': 6097, 'code.': 6098, 'counselor': 6099, 'resume': 6100, 'perfection': 6101, 'compare': 6102, 'strikes': 6103, 'you...': 6104, 'female,': 6105, 'code': 6106, 'graduated': 6107, 'grades,': 6108, 'scores,': 6109, 'recommendations': 6110, 'resume.': 6111, 'honey': 6112, 'working.': 6113, 'affirmatively': 6114, 'doctors': 6115, 'professionals.': 6116, 'professionals': 6117, 'berate': 6118, 'multiculturalism': 6119, 'integration': 6120, 'dna.': 6121, 'loved': 6122, 'darwin,': 6123, 'artificially': 6124, 'succeed.': 6125, 'ensure': 6126, 'shenanigans.': 6127, 'energy': 6128, 'bald,': 6129, 'therefore': 6130, 'condition,': 6131, 'ability.': 6132, 'chance': 6133, 'genetics,': 6134, '100m': 6135, 'track': 6136, 'winning,': 6137, 'equally': 6138, 'recommend': 6139, 'preference,': 6140, 'preference': 6141, 'sports': 6142, 'crew,': 6143, 'polo,': 6144, 'awards': 6145, '\"need\".': 6146, '\"3': 6147, 'america’s': 6148, 'lowest': 6149, 'incomes,': 6150, '72': 6151, 'highest': 6152, 'incomes.\"': 6153, 'wealth,': 6154, 'to...............short': 6155, 'intelligence': 6156, 'violence,': 6157, 'washington?': 6158, 'hmmmm?': 6159, \"hillry's\": 6160, 'freebies.': 6161, 'union': 6162, 'takeo': 6163, 'hmmm?': 6164, 'sacrificing': 6165, 'alter': 6166, 'perfect': 6167, 'stupidity.': 6168, '\"if': 6169, 'opportunity\"': 6170, 'written?': 6171, 'declaration.': 6172, 'declaration': 6173, 'guarantees': 6174, '\"life,': 6175, 'liberty': 6176, 'pursuit': 6177, 'happiness\"': 6178, 'equality.': 6179, 'opportunity.': 6180, 'democracy': 6181, 'scotus.': 6182, 'discrimination\",': 6183, 'discrimination\"': 6184, 'origin': 6185, 'practiced': 6186, 'caucasians': 6187, 'deadbeats': 6188, 'cadillac': 6189, 'dealership': 6190, 'cadillac?': 6191, 'qualification': 6192, 'woman,': 6193, 'discriminated': 6194, '\"privilege\"': 6195, 'hearing': 6196, 'candidate': 6197, 'chosen.': 6198, 'punishing': 6199, 'progressive.': 6200, 'developed': 6201, 'exist,': 6202, \"they've\": 6203, 'evolve': 6204, \"well.i'm\": 6205, 'discussed': 6206, 'article,': 6207, 'sensible.': 6208, 'contrast': 6209, 'tending': 6210, 'candidate,': 6211, 'equation': 6212, 'only;': 6213, 'packed': 6214, 'asians,': 6215, 'europeans,': 6216, 'merit': 6217, 'perform.': 6218, '\"earned\"': 6219, 'path.': 6220, '\"minority': 6221, 'privilege\"?': 6222, 'supemes': 6223, 'decide': 6224, 'fine.....as': 6225, 'reversed': 6226, 'anti-white': 6227, 'preparing': 6228, '\"separate': 6229, 'equal\"': 6230, 'thrown': 6231, 'court.': 6232, 'fine?': 6233, 'enrollment?': 6234, '6th': 6235, 'level,': 6236, 'college...?': 6237, 'flippers': 6238, 'broom': 6239, 'pushers.': 6240, 'unskilled.': 6241, 'plumbers': 6242, 'mechanics': 6243, 'everyone.': 6244, 'profiting': 6245, 'profit': 6246, 'trading.': 6247, 'data': 6248, '39th': 6249, 'graduations': 6250, 'misery': 6251, 'truthful.': 6252, 'grades?': 6253, \"'straight\": 6254, \"a'\": 6255, 'handle': 6256, '12': 6257, 'hrs': 6258, 'arts': 6259, 'courses?': 6260, 'construct': 6261, 'differ': 6262, 'reasons.': 6263, \"'victims'\": 6264, 'muslims?': 6265, '\"income': 6266, 'diversity\"': 6267, 'grads': 6268, 'income.': 6269, 'intend': 6270, 'unproductive': 6271, 'irresponsible': 6272, 'parents,': 6273, 'penalize': 6274, 'inevitable': 6275, 'equal-outcome': 6276, 'socialism,': 6277, 'meritocracy.': 6278, 'subsidizes': 6279, 'guaranteed': 6280, 'creates': 6281, 'if/when': 6282, 'low)': 6283, 'sat': 6284, 'disappear,': 6285, 'thus,': 6286, 'aclu,': 6287, 'file': 6288, 'lawsuits': 6289, 'represented.': 6290, 'increase': 6291, 'non-whites.': 6292, 'whites.': 6293, 'knuckleheads.': 6294, 'systems': 6295, 'biased': 6296, 'under-represented': 6297, 'affect': 6298, 'evaluated': 6299, 'subjectively.': 6300, 'disservice': 6301, 'freight': 6302, 'wrongly': 6303, 'grades.': 6304, 'interviewed': 6305, 'questions....\"higher': 6306, 'education\"': 6307, 'cruelty': 6308, 'lowers': 6309, 'achieving': 6310, '200,00': 6311, 'week,': 6312, 'overpaid.': 6313, 'fantastic': 6314, 'lexus': 6315, 'nx': 6316, '200t': 6317, 'suv': 6318, 'home.see': 6319, 'here=====jobsbay24.comllllllll': 6320, 'offspring': 6321, 'headed': 6322, 'harvard,': 6323, 'po': 6324, 'instead.': 6325, 'wayne': 6326, 'tucked': 6327, '\"diversity.\"': 6328, 'smh.': 6329, 'losing': 6330, 'incoming': 6331, '1+1': 6332, 'test.': 6333, 'intelligence.': 6334, 'exactly...the': 6335, 'interchangeable.': 6336, 'adopt': 6337, \"bernie's\": 6338, 'jurnior': 6339, 'hs.': 6340, 'ilk': 6341, 'gi': 6342, 'graduate': 6343, 'sam': 6344, 'ride.': 6345, 'brightess.': 6346, 'cheating....and': 6347, 'vomit': 6348, 'dummy': 6349, 'register': 6350, 'mixed': 6351, 'identical': 6352, 'psychographics.': 6353, '\"thought': 6354, 'police\".': 6355, 'chance.': 6356, 'stage.': 6357, 'japanese': 6358, 'academic': 6359, 'beneficiary': 6360, 'admission.': 6361, 'chinese': 6362, 'waves.': 6363, 'gone.': 6364, '\"po\"': 6365, 'wrongs': 6366, 'hum.': 6367, 'cleansing': 6368, '\"projects\"': 6369, 'deepest': 6370, 'pockets': 6371, 'non-working': 6372, 'ged.': 6373, 'computes': 6374, '3%': 6375, 'rise': 6376, 'achieve,': 6377, 'origins.': 6378, 'right???': 6379, 'poorer': 6380, 'usa,': 6381, 'racist.....only': 6382, 'ahead.....affirmative': 6383, 'my,': 6384, \"lbj's\": 6385, '\"war': 6386, 'poverty\"': 6387, 'attending': 6388, 'treatment..': 6389, 'asian.': 6390, 'upper': 6391, '1%': 6392, 'fewer': 6393, 'minorities?': 6394, 'standard?': 6395, 'contends': 6396, 'inferior.': 6397, 'demoted': 6398, 'read,': 6399, 'cap': 6400, 'admissions.': 6401, 'qualifications,': 6402, 'ignored.': 6403, 'population.': 6404, 'asians.': 6405, 'entirely': 6406, 'arms.': 6407, 'tuition': 6408, 'non-nationals.': 6409, 'universities,': 6410, 'buck.': 6411, 'pious': 6412, 'hypocrites.': 6413, 'price.': 6414, 'student,': 6415, 'scholarship': 6416, 'attend': 6417, '\"affirmative': 6418, 'posting': 6419, '\"feelings\"': 6420, 'non-caucasian,': 6421, 'non-asian': 6422, 'apply.': 6423, 'coyote': 6424, 'harvard...': 6425, \"'buy'\": 6426, 'power.': 6427, \"'victims',\": 6428, 'tool': 6429, '\"have': 6430, 'felony\"': 6431, 'rental': 6432, 'applications': 6433, '60%': 6434, 'sadam': 6435, '9/11.': 6436, 'sierra415': 6437, 'collecting': 6438, 'the\"immigrants\"': 6439, 'never,': 6440, 'country,and': 6441, 'american?': 6442, 'wages.': 6443, 'dah': 6444, 'spousal': 6445, 'earnings': 6446, 'medicare': 6447, 'surplus': 6448, 'contributed': 6449, 'socialism.': 6450, 'assinine': 6451, 'statements.': 6452, 'sec,': 6453, 'defense.': 6454, 'goods,': 6455, 'rent': 6456, 'debt.': 6457, 'debt=sis': 6458, 'sec': 6459, 'blah,': 6460, 'uninformed': 6461, 'taker.': 6462, 'paycheck': 6463, 'life.': 6464, 'till': 6465, 'soc.': 6466, 'hurts': 6467, 'out...intellectuals': 6468, 'in....kcarab': 6469, 'amado': 6470, 'bravo': 6471, 'able-bodies': 6472, 'potus': 6473, 'ride,': 6474, 'return.': 6475, 'state,': 6476, 'medicare.': 6477, 's.s.': 6478, '37': 6479, 'with15%': 6480, 'interest,': 6481, 'compounded': 6482, 'quarterly': 6483, 'collecting.': 6484, 'insurance': 6485, '15%?': 6486, 'laughs': 6487, 'ironic': 6488, 'banning': 6489, 'candy': 6490, 'snacks': 6491, 'punishment': 6492, 'burden': 6493, 'soda,': 6494, 'snacks.': 6495, '\"working\"': 6496, 'dole.': 6497, 'unsustainable.': 6498, 'leadership': 6499, 'homeowners': 6500, 'largely': 6501, 'administration.\"': 6502, 'societies.': 6503, 'dependent.': 6504, 'decisions-': 6505, 'welfare.': 6506, 'cake,': 6507, 'month-': 6508, \"his/her/it's\": 6509, '0': 6510, 'seen.': 6511, 'releases': 6512, 'eat,': 6513, 'military,': 6514, 'barracks,': 6515, 'met': 6516, 'requirement?': 6517, 'insufficient,': 6518, 'subsidy': 6519, 'happy.': 6520, 'confidence': 6521, 'employees.': 6522, 'walmart': 6523, 'employees': 6524, 'medicaid': 6525, 'walton': 6526, 'learned': 6527, 'wage.': 6528, 'workee': 6529, 'foodie.': 6530, \"ain't\": 6531, 'maine': 6532, 'followed': 6533, '2014.': 6534, 'percent.': 6535, 'read?..': 6536, 'not...': 6537, 'disaster.': 6538, 'illinois,': 6539, 'york,': 6540, 'cali': 6541, 'social/govt.': 6542, 'programs?': 6543, 'chuckle.': 6544, 'california': 6545, 'mississippi.': 6546, 'foodstamps...': 6547, 'coupons,': 6548, 'ebt.': 6549, 'foodstamps': 6550, '(as': 6551, 'person).': 6552, 'taxpayer': 6553, 'dime.': 6554, 'sustenance': 6555, 'expenses': 6556, 'earn': 6557, 'keep.': 6558, 'freebies': 6559, 'flowing': 6560, 'anybody?': 6561, 'gaping': 6562, 'wounds': 6563, 'dept...': 6564, 'end...': 6565, 'stinking': 6566, 'canopy...': 6567, 'wins...............': 6568, 'off.': 6569, 'ssi,': 6570, 'tanf,': 6571, 'friend': 6572, 'services,': 6573, 'immediate': 6574, '$2000.00,': 6575, 'subsidies': 6576, 'cloward-piven': 6577, 'strategy,': 6578, 'should.': 6579, 'refugees,': 6580, 'cubans': 6581, 'coward': 6582, 'priven': 6583, 'burglar': 6584, 'restitution': 6585, 'burglarized': 6586, 'prison\"': 6587, 'wont': 6588, 'luck,': 6589, 'you\"re': 6590, 'aid,': 6591, 'atrocity': 6592, 'handout?': 6593, 'to?': 6594, 'alabama': 6595, 'booted': 6596, '32,000': 6597, 'because....gee....apparently': 6598, 'volunteering': 6599, 'burdensome.': 6600, 'altogether': 6601, 'form.in': 6602, 'daycare': 6603, ',get': 6604, 'telepromter': 6605, 'ifif': 6606, 'fififififif': 6607, 'phony': 6608, 'charlatans': 6609, 'ssi': 6610, '\"diseases/disorders.\"': 6611, 'ssi.': 6612, 'no.....too': 6613, 'mothers': 6614, 'daddies,': 6615, 'milking': 6616, 'worth.': 6617, 'queens': 6618, 'patients.': 6619, 'kid,': 6620, 'experience.': 6621, 'average': 6622, 'attends': 6623, 'desire': 6624, 'kits': 6625, 'visits,': 6626, 'tubos,': 6627, 'received.': 6628, 'yes.': 6629, 'dummie.': 6630, 'govt.,': 6631, 'typically': 6632, 'slants': 6633, 'favor,': 6634, 'fraud?': 6635, 'huh,': 6636, 'from?': 6637, 'toy': 6638, 'purchases?': 6639, 'widows': 6640, 'husbands.': 6641, 'indiscriminately.': 6642, 'ways': 6643, 'food-': 6644, \"payer's\": 6645, 'expense.': 6646, 'yeh': 6647, 'prob': 6648, 'cleaning': 6649, 'streets,': 6650, 'graffiti,': 6651, 'improving': 6652, 'landscaping.': 6653, 'crumbling': 6654, 'roads?': 6655, '(those': 6656, 'capable)': 6657, 'agriculture': 6658, 'products': 6659, 'presume': 6660, 'predominantly': 6661, 'along.': 6662, 'mabee': 6663, 'garbage': 6664, 'cans': 6665, '.like': 6666, 'two......make': 6667, 'wedlock': 6668, 'babies....get': 6669, 'custody': 6670, 'december.': 6671, '$32,000.': 6672, 'pennsylvania': 6673, 'declined': 6674, 'december': 6675, 'residential': 6676, 'electrical': 6677, 'bills': 6678, 'defaulted.': 6679, 'saddened': 6680, 'testimonial.': 6681, 'narcissist': 6682, 'help...': 6683, 'trabjo': 6684, 'cervesa': 6685, 'irs': 6686, 'consumption': 6687, 'freloaders': 6688, '49%': 6689, 'same.': 6690, '2020': 6691, 'avoid.......sales': 6692, 'overide': 6693, 'long....when': 6694, 'riots.': 6695, 'accordingly...': 6696, '(99%': 6697, 'welfare)': 6698, 'manchurian': 6699, 'canidate': 6700, '-cash': 6701, 'flow': 6702, 'detonates': 6703, 'dirty': 6704, 'pledge': 6705, 'allah.': 6706, 'incentive': 6707, 'like,': 6708, 'you\".': 6709, \"'em\": 6710, 'farms': 6711, 'lazy': 6712, 'moochers': 6713, 'exceed': 6714, 'facility': 6715, ',shelter': 6716, 'barracks.the': 6717, 'residents': 6718, ',laundry': 6719, ',child': 6720, 'cleaning.': 6721, 'courses': 6722, 'skill': 6723, 'trade..': 6724, 'meantime': 6725, 'clintons.......................': 6726, 'last.': 6727, '\"single': 6728, 'mother\"': 6729, 'pressures': 6730, 'start,': 6731, 'forgotten.': 6732, \"anyone's\": 6733, 'grocery': 6734, 'trim': 6735, 'haircuts': 6736, 'nike': 6737, 'uggs': 6738, 'cart': 6739, 'gourmet': 6740, 'foods,': 6741, 'talenti': 6742, 'pop,': 6743, 'steak': 6744, 'cookies': 6745, 'cheese': 6746, 'milk)': 6747, 'card)': 6748, 'dime': 6749, 'taxpayer.': 6750, '1965.': 6751, 'looked': 6752, '1971.': 6753, 'limits': 6754, 'junk': 6755, 'users': 6756, 'bodied': 6757, 'spoiled': 6758, 'cards.': 6759, 'fruit': 6760, 'beans': 6761, 'nurse': 6762, 'oregon.': 6763, 'nurse,': 6764, 'expensively': 6765, 'dressed': 6766, 'buggy': 6767, 'steaks,': 6768, 'pork': 6769, 'chops,': 6770, 'roasts,': 6771, 'premium': 6772, '\"food': 6773, 'stamps.\"': 6774, 'teacher': 6775, 'bank.': 6776, 'beef': 6777, 'casseroles': 6778, '\"ice': 6779, 'milk\"': 6780, '(remember': 6781, 'that?)': 6782, \"two-year-old's\": 6783, 'birthday': 6784, 'witness': 6785, 'claims': 6786, 'counties': 6787, 'partner': 6788, 'order?': 6789, 'unemployed': 6790, 'for,': 6791, 'interview': 6792, 'dozen': 6793, 'bachelors': 6794, 'degree': 6795, 'approach': 6796, '\"temp\"': 6797, 'agency.': 6798, '\"temps\"': 6799, 'offered': 6800, 'agencies.': 6801, 'paths,': 6802, 'fellow': 6803, 'workers,': 6804, 'employment.': 6805, 'recipients.': 6806, 'largest': 6807, 'block': 6808, 'receivers': 6809, 'walmart.': 6810, 'absolutely.': 6811, 'food,': 6812, 'housing,': 6813, 'electricity,': 6814, 'phones,': 6815, 'else,': 6816, 'litter': 6817, 'highways': 6818, \"'gave\": 6819, \"back'\": 6820, 'capable,': 6821, 'engaged': 6822, 'life,': 6823, 'needed,': 6824, 'appreciate': 6825, \"'welfare\": 6826, \"life'\": 6827, 'deforms': 6828, 'spirit,': 6829, 'deformed': 6830, 'acceptable.': 6831, 'essentials': 6832, 'power,': 6833, 'transport,': 6834, 'etc': 6835, 'expensive,': 6836, 'knockbacks': 6837, 'demoralising': 6838, 'eventual': 6839, 'inertia': 6840, 'debilitating,': 6841, 'sink': 6842, 'despondency.': 6843, 'eligable': 6844, 'matched': 6845, 'align': 6846, 'emergency': 6847, 'relief': 6848, 'outlet': 6849, 'liked),': 6850, 'work-for': 6851, 'the-state': 6852, 'end-point,': 6853, 'heebie': 6854, 'jeebies.': 6855, 'be.': 6856, 'temporary,': 6857, 'empowering.': 6858, 'depressing': 6859, 'unemployed.': 6860, 'economy,': 6861, 'wonders': 6862, 'esteem': 6863, 'loaders': 6864, 'table': 6865, 'handouts': 6866, 'turning': 6867, '/584efea0-7ff6-11e2-bb02-000f20980440': 6868, '$800+': 6869, 'cigarettes.': 6870, 'inspections.': 6871, 'volunteer.': 6872, 'overwhelming.': 6873, 'feet,': 6874, 'thousand.': 6875, 'nailed': 6876, 'cross,': 6877, 'better.': 6878, 'yea.': 6879, 'um...': 6880, 'economic': 6881, 'discussion': 6882, 'discussion.': 6883, 'novelist,': 6884, 'gladly': 6885, 'holt': 6886, 'thessalonians': 6887, 'gift,other': 6888, 'them...and': 6889, 'obese,this': 6890, 'slap': 6891, 'payer.': 6892, 'gee': 6893, 'mr': 6894, 'obvious...i': 6895, \"connection...you're\": 6896, 'lifesaver': 6897, 'booze': 6898, 'cigarettes': 6899, 'lottery': 6900, 'tickets': 6901, 'items': 6902, 'scammers': 6903, 'ca': 6904, 'restaurants.': 6905, 'fambly': 6906, 'cents': 6907, 'dollar.': 6908, \"24's\": 6909, 'e.b.t': 6910, 'casinos': 6911, 'good.': 6912, 'leeches': 6913, 'totally.': 6914, 'afford,': 6915, 'help,': 6916, 'survive,': 6917, 'choices': 6918, 'born.': 6919, 'support??': 6920, 'work??': 6921, 'caregiver': 6922, 'stunted': 6923, '\"reliable\"': 6924, 'hardest??': 6925, 'exceptions': 6926, 'plainly': 6927, 'exempt.': 6928, 'fat': 6929, 'disability,especially': 6930, 'exist,i': 6931, 'bullets': 6932, 'picked': 6933, 'da*n': 6934, 'cotton.': 6935, '$1/100': 6936, 'lb': 6937, 'sack': 6938, 'un': 6939, 'employed/under': 6940, '\"illegals\"?': 6941, 'poor->': 6942, 'overall': 6943, 'requiring': 6944, 'monthly': 6945, 'retain': 6946, 'limiting': 6947, 'purchased.': 6948, 'literally': 6949, 'payers': 6950, '1/10': 6951, 'healthy': 6952, 'options.': 6953, 'habits': 6954, 'inter-generational': 6955, 'adverse': 6956, 'healthy.': 6957, 'wow': 6958, 'misinformed': 6959, 'misconceived.': 6960, 'eat.': 6961, 'poor.': 6962, 'back...': 6963, 'so....': 6964, 'leaches........': 6965, 'prominent': 6966, 'alan,': 6967, 'sending': 6968, 'reporting': 6969, 'bat': 6970, 'this=': 6971, 'employers': 6972, 'work,on': 6973, '=uh': 6974, '96%': 6975, 'work=welafareheathcare=': 6976, 'foodcare=housingcare=': 6977, '/hate': 6978, 'masquerade': 6979, 'affiliations': 6980, 'questionable': 6981, 'best.': 6982, 'donors': 6983, 'suspect.': 6984, 'afro-americans': 6985, 'field': 6986, 'knowledge.': 6987, 'progress.': 6988, 'able.': 6989, 'paralysed': 6990, 'deranged.': 6991, 'fblm.': 6992, 'noticeably': 6993, 'travesty': 6994, 'integrated': 6995, 'judicial': 6996, 'nation.': 6997, 'hand....': 6998, 'still,': 6999, 'lightly.': 7000, 'however': 7001, '(from': 7002, 'jordan': 7003, 'river': 7004, 'mediterranean': 7005, 'sea)': 7006, 'bandits,': 7007, 'villain': 7008, 'hooligans': 7009, 'blowing': 7010, 'murderers,': 7011, '\"racism': 7012, 'israel\".': 7013, 'slaughtering': 7014, 'jealousy.': 7015, 'station,': 7016, 'muslims..': 7017, 'less...': 7018, 'raised,': 7019, 'proved': 7020, 'effective': 7021, 'vigorous': 7022, 'ways.': 7023, 'autonomously,': 7024, 'identification': 7025, 'anti-semitic': 7026, 'anti-white,': 7027, 'anti-police,': 7028, 'anti-truth,': 7029, 'anti-civilized,': 7030, 'anti-peace,': 7031, 'anti-common': 7032, 'tolerate': 7033, 'draw': 7034, 'jews?': 7035, 'treatment.': 7036, 'soros,': 7037, 'original,': 7038, 'ancient,': 7039, 'eternal,': 7040, 'undivided': 7041, 'blessed': 7042, 'jerusalem.': 7043, 'debate;': 7044, 'descendants': 7045, 'jericho': 7046, \"'historic\": 7047, \"claim'\": 7048, 'land.': 7049, 'bible;': 7050, 'hebrews': 7051, 'slaughtered': 7052, 'wholesale': 7053, 'moot': 7054, 'sits': 7055, '\"as': 7056, 'urged': 7057, 'macedonia,': 7058, 'ephesus': 7059, 'command': 7060, 'doctrines': 7061, 'devote': 7062, 'myths': 7063, 'endless': 7064, 'genealogies.': 7065, 'promote': 7066, 'speculations': 7067, 'advancing': 7068, 'work--which': 7069, 'faith.\"': 7070, '\"it': 7071, 'failed.': 7072, 'descended': 7073, 'israel.\"': 7074, '\"for': 7075, 'israel;': 7076, 'seed': 7077, 'abraham': 7078, 'children…': 7079, 'seed.\"': 7080, 'alan': 7081, 'played': 7082, 'joke........sometimes': 7083, 'stereotype': 7084, 'reason.': 7085, 'invalidated': 7086, 'sentence,': 7087, '\"which': 7088, 'raising': 7089, 'abuses\"': 7090, '\"so': 7091, 'good\"': 7092, 'kidding': 7093, 'conflict.': 7094, 'blocking': 7095, 'rioting': 7096, 'good?': 7097, 'what,': 7098, 'support,': 7099, 'reprinted': 7100, 'boston': 7101, 'globe': 7102, 'hey,': 7103, 'phone': 7104, 'videos': 7105, 'phones': 7106, 'cams': 7107, 'unfairly': 7108, 'reprinted?': 7109, 'clue': 7110, \"'group'\": 7111, 'controls': 7112, 'erred': 7113, 'dedicated': 7114, 'abuses.': 7115, 'goal': 7116, 'whites,': 7117, 'cops,': 7118, 'abused': 7119, 'eventually,': 7120, 'hating': 7121, 'blm?': 7122, 'abuse': 7123, '\"encourages\"': 7124, 'behave': 7125, 'badly': 7126, 'law-abiding': 7127, 'weapon': 7128, 'maniacs': 7129, 'instructions': 7130, 'police,': 7131, 'citizens,': 7132, 'property,': 7133, 'enforcement;': 7134, 'proven.': 7135, 'person\"': 7136, '95%': 7137, 'fear,': 7138, 'riot,': 7139, 'murder,': 7140, 'repertoire': 7141, \"'no\": 7142, \"fly'\": 7143, 'list?': 7144, 'subsidies,': 7145, 'scholarships,': 7146, 'professional': 7147, 'licenses,': 7148, 'driving': 7149, 'licenses': 7150, 'civil/military': 7151, 'occupations': 7152, \"member's\": 7153, 'hands?': 7154, 'sarcastic.': 7155, 'amen.': 7156, 'olives': 7157, 'anti-semites.': 7158, 'gee,': 7159, 'guessed': 7160, 'israel?': 7161, 'logical.': 7162, 'pressed': 7163, 'forefront': 7164, 'democratic,': 7165, 'east.': 7166, 'americans,': 7167, 'deeply': 7168, 'anti-semitism': 7169, 'distinguished': 7170, 'attorney,': 7171, 'j': 7172, 'simpson': 7173, 'isn’t': 7174, 'audacity': 7175, 'israelis,': 7176, 'you’re': 7177, 'despises': 7178, 'groups.': 7179, 'singling': 7180, 'accusing': 7181, '“genocide”': 7182, 'explained': 7183, 'state.\"': 7184, 'rofl': 7185, 'tanks': 7186, 'babies,': 7187, 'genocide?': 7188, '(seen': 7189, 'incursion': 7190, 'europeantv)': 7191, 'aspirin': 7192, 'facts.': 7193, 'mowing': 7194, 'misunderstood': 7195, 'supportive': 7196, 'realized': 7197, 'misunderstood.': 7198, 'palestinians': 7199, 'score?': 7200, 'sir': 7201, 'savior': 7202, 'labels': 7203, 'blame,': 7204, 'jaxtown,': 7205, 'boot,': 7206, 'dopes': 7207, 'accuses': 7208, 'disgraceful.': 7209, 'anti-semites': 7210, 'go\".': 7211, 'wide': 7212, 'spread': 7213, 'meet.': 7214, 'unusually': 7215, 'narrative.': 7216, 'cops.': 7217, 'thumbs': 7218, 'displeasure': 7219, 'swaths': 7220, 'west': 7221, 'bank': 7222, 'direct': 7223, 'defiance': 7224, 'approximately': 7225, '1/3': 7226, 'occupies,': 7227, '2/3': 7228, 'occupied,': 7229, 'managaes': 7230, 'abhorrent': 7231, 'iran': 7232, 'syria.': 7233, 'involves': 7234, 'conspiracy': 7235, 'alex': 7236, 'jones.': 7237, 'captured': 7238, 'defensive': 7239, \"'worse\": 7240, 'hr': 7241, \"record'\": 7242, 'despots': 7243, 'sheer': 7244, 'comprehension.': 7245, 'non-jewish': 7246, 'semites,': 7247, 'muslims,': 7248, 'babylonians': 7249, '(nebuchadnezzar)': 7250, 'assorted': 7251, 'tribes': 7252, 'bloody.': 7253, '(cyrus': 7254, 'persian)': 7255, 'don’t.': 7256, 'naturally,': 7257, 'strict': 7258, 'border': 7259, 'secure.': 7260, 'name?': 7261, 'palestinkians': 7262, 'stricter': 7263, 'traitor-in-chief': 7264, 'occupying': 7265, 'blah.': 7266, 'region': 7267, 'unwashed': 7268, 'masses': 7269, 'bay.': 7270, 'un,': 7271, 'described': 7272, 'strip.': 7273, 'boarders.': 7274, 'gained': 7275, 'war?': 7276, 'disagree.': 7277, 'won': 7278, 'invasion': 7279, 'england,': 7280, 'france,': 7281, 'spain': 7282, '10x': 7283, 'wipe': 7284, 'earth.': 7285, 'uhh': 7286, 'confusec': 7287, 'thwre': 7288, 'attacked': 7289, 'formed.': 7290, 'shooting': 7291, 'rockets': 7292, 'singing': 7293, 'tune.': 7294, 'yiu': 7295, 'crush': 7296, 'charles': 7297, 'manson': 7298, 'single;': 7299, 'match.': 7300, 'man...that': 7301, 'goofball': 7302, 'looney': 7303, 'liberal...probably': 7304, 'organizer': 7305, 'chicongo...': 7306, 'exists': 7307, 'everywhere,': 7308, 'efen': 7309, 'loon,': 7310, 'femanazis': 7311, 'cells': 7312, 'loon?': 7313, 'news.': 7314, 'notes': 7315, \"psychiatrist's\": 7316, 'notebook': 7317, 'asylum.': 7318, 'charlie': 7319, 'sense).': 7320, '\"progressive\"': 7321, 'ug..ug..ly.': 7322, 'surgeon': 7323, 'smoking': 7324, 'drinking': 7325, 'unborn': 7326, 'child......this': 7327, 'get...brain': 7328, 'children.....i': 7329, '\"accidents\"': 7330, 'movements.....an': 7331, 'undesirable': 7332, 'incidental': 7333, 'unplanned': 7334, 'spay': 7335, 'millennials.': 7336, 'white?': 7337, 'cool.': 7338, 'utterly': 7339, 'privilage\"': 7340, 'stamped': 7341, \".it's\": 7342, 'cool\".': 7343, 'dead\".': 7344, 'clueless': 7345, 'insulting': 7346, 'cage': 7347, 'petitions': 7348, \"boy's\": 7349, 'prosecuted.': 7350, 'condemned': 7351, '\"privileged\"': 7352, 'sympathy.': 7353, 'pretending': 7354, 'otherwise...': 7355, 'karvictho;': 7356, '\"fall\"': 7357, 'climbed': 7358, 'second,': 7359, 'momma': 7360, 'escaping': 7361, 'pit': 7362, 'distracted': 7363, 'photos': 7364, 'off,': 7365, 'siblings': 7366, 'occupied': 7367, 'lil': 7368, 'to.d': 7369, 'climb': 7370, 'deaths': 7371, 'privileges\"': 7372, 'pants,': 7373, 'looting': 7374, 'neighborhood': 7375, 'btw,': 7376, 'btw': 7377, '45.2%': 7378, 'privileged,': 7379, 'vs': 7380, '25.7%': 7381, 'living,': 7382, 'agricultural': 7383, 'ijs': 7384, 'fail': 7385, 'picture': 7386, 'femme_esq?': 7387, 'deiw': 7388, 'killed.': 7389, 'unnecessarily': 7390, 'maligned.': 7391, 'shrugged': 7392, 'bacteria': 7393, 'amebas': 7394, 'danger.': 7395, 'enclosure': 7396, 'hazard,': 7397, 'quick.': 7398, 'reckless': 7399, 'endangerment.': 7400, 'helpless': 7401, 'fend': 7402, 'lawsuit': 7403, 'nowhere': 7404, 'pages': 7405, 'maybe,': 7406, 'rare': 7407, 'shot,': 7408, 'conformation': 7409, 'settle': 7410, 'problem\"': 7411, '(in': 7412, 'fact,': 7413, 'problem)...': 7414, 'carrying': 7415, 'spreading': 7416, 'venomous': 7417, '\"whites.': 7418, 'tragedy': 7419, 'befell': 7420, '\"white\"': 7421, 'befall': 7422, 'poetic)': 7423, 'solution\".': 7424, 'transplant': 7425, 'organs': 7426, 'removal...': 7427, 'dumber': 7428, 'comparison.': 7429, '\"olivia': 7430, 'clair\"': 7431, 'part?': 7432, 'lawyer,': 7433, 'liberal.................the': 7434, 'diarrhea': 7435, 'spat': 7436, 'jmo': 7437, '\"racist': 7438, 'spewing': 7439, 'venom': 7440, 'proud,': 7441, 'circulating': 7442, 'internet': 7443, 'nation,': 7444, 'compass.': 7445, 'curious.': 7446, 'swimming\".': 7447, 'florida.': 7448, 'asset': 7449, 'pools.': 7450, 'cautious.': 7451, 'family,': 7452, 'himself.': 7453, 'walking': 7454, 'final': 7455, 'remembrance': 7456, 'breaking.': 7457, 'technically': 7458, 'swimming.': 7459, 'gulf': 7460, 'coast': 7461, 'permanent.': 7462, 'tree': 7463, 'make,': 7464, 'lake.': 7465, 'rotted': 7466, 'walked': 7467, 'beach': 7468, '12\"': 7469, 'posted': 7470, '\"danger': 7471, 'water\"': 7472, 'soul.': 7473, 'profile': 7474, 'photo.': 7475, '\"honeyblonde\",': 7476, 'smh': 7477, 'that....now': 7478, '\"disney\"': 7479, 'resort': 7480, 'northern': 7481, 'vacation': 7482, 'kingdom.....this': 7483, 'parents....and': 7484, 'useful': 7485, 'soundless': 7486, 'velcro.': 7487, 'doubt.': 7488, 'kids,': 7489, 'traumatic': 7490, 'discriminating': 7491, 'chose': 7492, 'taste?': 7493, 'deal...': 7494, 'complying': 7495, 'eeoc': 7496, '(equal': 7497, 'commission)': 7498, 'requirements.': 7499, '\"race\"': 7500, '(actually': 7501, 'ethnicity,': 7502, 'race),': 7503, 'profile.': 7504, 'sight': 7505, 'sore,': 7506, 'intern': 7507, 'chances': 7508, 'weekends.': 7509, 'odds': 7510, 'alligators.': 7511, 'stats': 7512, '1847': 7513, 'weekend.': 7514, 'condolences': 7515, 'evidence': 7516, 'piled': 7517, 'quit': 7518, 'wondering': 7519, 'uncovered': 7520, '\"how': 7521, 'unsupervised': 7522, 'arena?\"': 7523, 'parenting': 7524, 'maybe?': 7525, 'asking,': 7526, 'bangee,': 7527, 'gators.': 7528, 'knowing.': 7529, 'pond': 7530, 'vacationing': 7531, 'disney.': 7532, 'warning': 7533, 'sign?': 7534, 'devil.': 7535, '\"issues\"': 7536, 'peace.': 7537, 'ignoiring': 7538, 'signs.': 7539, 'wheelers': 7540, 'watercraft.': 7541, 'feelings.': 7542, 'wildlife': 7543, \"...that's\": 7544, 'poaching.': 7545, 'commenting': 7546, '$$$': 7547, 'soothe': 7548, \"parent's\": 7549, 'lawsuit?': 7550, 'pos.': 7551, 'ridiculous': 7552, 'kneegrows': 7553, 'stain.': 7554, 'mentally': 7555, 'disturbed': 7556, 'hater': 7557, 'crowd.': 7558, 'no-fly': 7559, '\"flight\"': 7560, 'list,': 7561, 'country...': 7562, 'population,': 7563, 'supporter.': 7564, 'given.': 7565, 'blamed': 7566, 'lame.': 7567, 'witch': 7568, 'waste': 7569, 'cells.': 7570, 'has.': 7571, 'thrower': 7572, 'comments-': 7573, 'children?': 7574, 'absence': 7575, 'god,': 7576, 'caring': 7577, 'bulls**t.': 7578, 'hildabeeste': 7579, 'strange': 7580, 'resemblance': 7581, 'alligator?': 7582, 'illness': 7583, 'spirit...leading': 7584, 'nonsensical': 7585, 'rationalizations': 7586, 'mind.': 7587, 'rewrite': 7588, 'past....': 7589, 'present.....': 7590, 'future....': 7591, 'disease.': 7592, 'credit,': 7593, 'bills.': 7594, \"want--don't\": 7595, 'we?': 7596, 'guessing': 7597, 'snarth,': 7598, '[large': 7599, 'alligator]': 7600, 'single-issue': 7601, 'hammer,': 7602, 'nail.': 7603, 'feminist,': 7604, 'ugly,': 7605, 'self-proclaimed': 7606, '\"feminist\".': 7607, 'observation,': 7608, 'cookbook': 7609, 'protects': 7610, 'much,': 7611, 'serial': 7612, 'killers,': 7613, 'pet,': 7614, 'convinced': 7615, 'killers': 7616, '\"protected': 7617, 'law\"?': 7618, 'creatures': 7619, 'desirable': 7620, 'neighbors?': 7621, 're-located': 7622, 'everglades': 7623, '(the': 7624, 'media,': 7625, 'lol),': 7626, 'tourism': 7627, 'safer.': 7628, 'bear': 7629, 'issues,': 7630, 'development': 7631, 'habitat': 7632, 'farther,': 7633, 'mans': 7634, 'doing;': 7635, 're-locate': 7636, 'rockies': 7637, 'killed,who': 7638, 'too,': 7639, 'barriers': 7640, 'creature': 7641, 'unawares.': 7642, '100%': 7643, 'guard.': 7644, 'privilege...pull': 7645, 'ar-15': 7646, 'ar': 7647, 'sufficient': 7648, '.357': 7649, 'closer': 7650, 'listen': 7651, 'surprised': 7652, 'war,': 7653, 'summer': 7654, 'scorcher.': 7655, 'aka': 7656, 'strauss': 7657, 'malk': 7658, 'llp': 7659, 'il.': 7660, 'firm': 7661, 'area.': 7662, 'snooping': 7663, 'shed': 7664, 'privilege\".': 7665, 'fatherless': 7666, 'men?': 7667, 'info.': 7668, 'souls': 7669, 'enjoyed': 7670, 'godfather': 7671, 'black...duh': 7672, 'half......size': 7673, 'matters....': 7674, 'ms': 7675, 'directed': 7676, 'print.': 7677, 'christ,': 7678, 'humans': 7679, 'evolved': 7680, 'primates': 7681, 'evolved?': 7682, 'stillare': 7683, 'primates....': 7684, 'evolutionists': 7685, 'backing': 7686, '\"evolving\"': 7687, 'breeding.': 7688, 'nascar': 7689, 'indy,': 7690, 'race-ist': 7691, 'brianne': 7692, 'samich.': 7693, 'roflmao': 7694, 'laughed': 7695, 'sprayed': 7696, 'keyboard': 7697, 'crappy': 7698, 'smile': 7699, 'grubers.': 7700, 'weird': 7701, 'satisfaction': 7702, 'garnering': 7703, 'ignored': 7704, 'whatever,': 7705, 'creepy': 7706, 'speaks': 7707, 'volumes': 7708, 'intelligence,': 7709, 'compassion.': 7710, 'actually.': 7711, 'lived....': 7712, 'cage???': 7713, 'gorilla.': 7714, 'against.': 7715, 'chambers.': 7716, 'foot,': 7717, 'nevertheless.': 7718, 'rocker.': 7719, 'breeding...we': 7720, 'hope.': 7721, 'cancer': 7722, '\"anonymity\"': 7723, 'cowardly': 7724, 'remarks.': 7725, 'somebody,': 7726, 'man/girl': 7727, \"mommy's\": 7728, 'synical5': 7729, 'name...': 7730, '“brienne': 7731, 'snarth”,': 7732, 'courage': 7733, 'crawl': 7734, 'cess': 7735, 'ridden': 7736, 'rock': 7737, 'slither': 7738, 'beneath': 7739, 'privilege\"': 7740, 'about..............': 7741, 'anarchary.': 7742, 'to,': 7743, 'oath': 7744, 'permit': 7745, 'ever...': 7746, 'acronym.....': 7747, 'own,': 7748, 'abortion--only': 7749, 'aborted--the': 7750, 'stayed.': 7751, 'down\"': 7752, 'morris': 7753, 'rude,': 7754, 'noooo': 7755, 'shock.': 7756, 'dox': 7757, 'snarky': 7758, 'snarth.': 7759, '\"later,': 7760, 'gator\"': 7761, 'anonymity': 7762, 'brave': 7763, 'compassion': 7764, 'stool.': 7765, 'childs': 7766, 'pool': 7767, 'heated': 7768, 'lagoon': 7769, '$5': 7770, 'cup': 7771, \"there...it's\": 7772, 'child,': 7773, 'posing': 7774, 'alabaster': 7775, 'occupation': 7776, '144': 7777, 'characters': 7778, '10,000': 7779, 'her/him/it': 7780, 'fascinating....now': 7781, 'gurl?boy?it': 7782, 'overcome': 7783, 'privilege...and': 7784, 'toss': 7785, 'likes': 7786, 'dark': 7787, 'meat.': 7788, 'agree...you': 7789, 'unfair': 7790, 'gator,': 7791, 'lions': 7792, 'natives,': 7793, 'lick': 7794, 'arises': 7795, 'afterwards': 7796, 'taste...': 7797, 'refers': 7798, '\"social': 7799, 'justice\"': 7800, 'activist,': 7801, 'spouts': 7802, 'dim-wit??': 7803, 'who...': 7804, 'nobodys': 7805, 'loose': 7806, 'meds': 7807, 'leftist.': 7808, ',esp': 7809, 'women.gee,': 7810, 'why?????': 7811, 'straight': 7812, '...work': 7813}\n",
            "(1513, 56)\n",
            "(1513, 2)\n",
            "{'the': 1, 'to': 2, 'and': 3, 'a': 4, 'of': 5, 'is': 6, 'in': 7, 'that': 8, 'you': 9, 'i': 10, 'are': 11, 'for': 12, 'it': 13, 'they': 14, 'not': 15, 'have': 16, 'be': 17, 'with': 18, 'on': 19, 'this': 20, 'as': 21, 'was': 22, 'people': 23, 'who': 24, 'all': 25, 'your': 26, 'will': 27, 'what': 28, 'but': 29, 'or': 30, 'their': 31, 'if': 32, 'no': 33, 'just': 34, 'so': 35, 'we': 36, 'do': 37, 'by': 38, 'like': 39, 'an': 40, 'has': 41, 'from': 42, 'at': 43, 'would': 44, 'can': 45, 'get': 46, 'about': 47, 'he': 48, 'she': 49, 'should': 50, \"don't\": 51, 'them': 52, 'how': 53, 'there': 54, 'more': 55, 'because': 56, \"it's\": 57, 'up': 58, 'one': 59, 'my': 60, 'than': 61, 'out': 62, 'only': 63, 'when': 64, 'his': 65, 'why': 66, 'any': 67, 'our': 68, 'white': 69, 'make': 70, 'some': 71, 'obama': 72, 'then': 73, 'these': 74, 'her': 75, 'been': 76, 'want': 77, 'were': 78, 'think': 79, 'did': 80, 'never': 81, 'does': 82, 'work': 83, 'after': 84, 'flag': 85, 'country': 86, 'know': 87, 'many': 88, 'had': 89, 'its': 90, 'need': 91, 'those': 92, 'now': 93, 'into': 94, 'being': 95, 'it.': 96, 'other': 97, 'even': 98, 'go': 99, 'see': 100, 'good': 101, 'over': 102, 'very': 103, 'could': 104, 'black': 105, 'government': 106, 'much': 107, \"that's\": 108, 'right': 109, '-': 110, 'said': 111, 'us': 112, 'me': 113, 'same': 114, 'where': 115, \"can't\": 116, 'keep': 117, 'law': 118, 'which': 119, 'first': 120, 'most': 121, 'america': 122, 'food': 123, 'say': 124, 'back': 125, 'really': 126, 'liberals': 127, 'own': 128, 'american': 129, 'against': 130, 'state': 131, 'person': 132, 'take': 133, 'off': 134, \"didn't\": 135, \"i'm\": 136, 'going': 137, \"you're\": 138, 'also': 139, 'sure': 140, 'him': 141, 'states': 142, 'maybe': 143, 'trump': 144, 'down': 145, 'stop': 146, 'better': 147, 'time': 148, 'nothing': 149, 'believe': 150, 'blacks': 151, 'way': 152, 'here': 153, \"isn't\": 154, 'illegal': 155, \"doesn't\": 156, 'give': 157, 'another': 158, 'still': 159, 'years': 160, 'every': 161, 'too': 162, 'hate': 163, 'pay': 164, 'name': 165, 'israel': 166, 'them.': 167, 'help': 168, 'job': 169, 'someone': 170, 'anything': 171, 'social': 172, 'college': 173, 'ship': 174, 'liberal': 175, 'come': 176, 'always': 177, 'am': 178, 'federal': 179, '.': 180, 'navy': 181, 'women': 182, 'means': 183, 'family': 184, 'such': 185, 'ever': 186, 'given': 187, 'new': 188, 'made': 189, 'care': 190, 'great': 191, 'try': 192, 'while': 193, 'under': 194, '&': 195, 'man': 196, 'look': 197, 'talking': 198, 'thing': 199, 'understand': 200, 'around': 201, 'actually': 202, 'well': 203, 'little': 204, 'welfare': 205, 'affirmative': 206, 'put': 207, 'support': 208, 'live': 209, 'house': 210, 'money': 211, 'wrong': 212, 'something': 213, 'lives': 214, 'working': 215, 'gay': 216, 'number': 217, 'let': 218, 'children': 219, 'before': 220, 'must': 221, 'real': 222, 'use': 223, 'since': 224, 'used': 225, 'vote': 226, 'getting': 227, 'day': 228, 'anyone': 229, 'else': 230, 'matter': 231, 'students': 232, 'confederate': 233, 'stamps': 234, 'away': 235, 'making': 236, 'democrats': 237, 'citizens': 238, 'got': 239, 'laws': 240, 'agree': 241, 'americans': 242, 'called': 243, 'different': 244, 'others': 245, 'far': 246, 'civil': 247, 'kids': 248, 'paid': 249, 'illegals': 250, 'free': 251, 'jobs': 252, ',': 253, 'action': 254, 'flying': 255, 'until': 256, 'public': 257, 'doing': 258, 'problem': 259, 'you.': 260, 'human': 261, 'everything': 262, 'rights': 263, 'find': 264, 'read': 265, 'long': 266, 'blm': 267, 'men': 268, 'already': 269, 'woman': 270, 'again': 271, 'last': 272, 'point': 273, 'parents': 274, 'sense': 275, 'old': 276, 'president': 277, 'life': 278, 'speech': 279, 'world': 280, 'makes': 281, 'enough': 282, 'become': 283, 'political': 284, 'part': 285, 'seems': 286, 'guess': 287, 'without': 288, \"they're\": 289, 'having': 290, 'that.': 291, 'united': 292, 'needs': 293, 'freedom': 294, 'income': 295, 'land': 296, 'two': 297, 'bill': 298, 'lot': 299, 'mean': 300, 'feel': 301, 'allow': 302, 'high': 303, 'saying': 304, 'things': 305, 'both': 306, 'fact': 307, 'living': 308, \"he's\": 309, 'says': 310, 'may': 311, 'hillary': 312, 'year': 313, 'racist': 314, 'history': 315, 'racism': 316, 'group': 317, 'worse': 318, 'trying': 319, 'though': 320, 'so,': 321, 'true': 322, 'no,': 323, 'mind': 324, 'change': 325, 'wonder': 326, 'left': 327, 'using': 328, 'few': 329, 'show': 330, 'forced': 331, 'might': 332, 'military': 333, 'is.': 334, 'full': 335, 'water': 336, 'colleges': 337, 'sexual': 338, '?': 339, 'yes': 340, 'clinton': 341, 'terrorist': 342, 'one.': 343, 'right.': 344, 'instead': 345, 'through': 346, 'gays': 347, 'lie': 348, 'wants': 349, 'coming': 350, 'god': 351, 'tell': 352, 'slaves': 353, 'next': 354, 'security': 355, 'bad': 356, 'everyone': 357, 'poor': 358, '2': 359, 'bet': 360, 'hatred': 361, 'diversity': 362, 'longer': 363, 'german': 364, 'probably': 365, 'allowed': 366, 'once': 367, 'out.': 368, 'politicians': 369, 'nation': 370, 'clearly': 371, 'unless': 372, 'remember': 373, 'gender': 374, 'bathroom': 375, 'wish': 376, \"couldn't\": 377, 'stand': 378, 'office': 379, 'born': 380, 'based': 381, 'less': 382, 'call': 383, 'times': 384, 'comes': 385, 'jesus': 386, 'hope': 387, 'place': 388, 'defend': 389, 'open': 390, 'rather': 391, 'yet': 392, 'school': 393, 'lost': 394, 'isis': 395, 'watch': 396, 'asked': 397, 'please': 398, 'not.': 399, 'police': 400, 'during': 401, 'proud': 402, 'michelle': 403, 'barker': 404, 'exactly': 405, 'pass': 406, \"aren't\": 407, 'muslims': 408, 'end': 409, 'whole': 410, 'especially': 411, 'criminals': 412, 'hard': 413, 'learn': 414, 'work.': 415, 'cannot': 416, 'religion': 417, 'this.': 418, 'tax': 419, 'time.': 420, 'post': 421, 'answer': 422, 'small': 423, 'society': 424, 'it,': 425, 'rest': 426, 'thinking': 427, 'least': 428, 'kind': 429, 'serve': 430, 'comment': 431, '...': 432, 'move': 433, 'went': 434, 'boy': 435, 'million': 436, 'started': 437, 'fix': 438, 'love': 439, 'qualified': 440, 'fly': 441, 'naming': 442, 'flag.': 443, 'war': 444, 'alligators': 445, 'is,': 446, \"won't\": 447, 'idea': 448, 'u': 449, 'rid': 450, 'reason': 451, 'thought': 452, 'none': 453, 'win': 454, 'fox': 455, 'middle': 456, 'families': 457, 'either': 458, 'yes,': 459, 'etc.': 460, 'oh': 461, 'you,': 462, 'supporters': 463, 'case': 464, 'now.': 465, 'sick': 466, 'point.': 467, 'jewish': 468, 'slavery': 469, 'health': 470, 'issue': 471, 'young': 472, 'ok': 473, 'up.': 474, 'you?': 475, 'cities': 476, 'aliens': 477, 'national': 478, 'lol': 479, \"i'll\": 480, 'sanctuary': 481, 'paying': 482, 'us.': 483, 'hispanics': 484, 'follow': 485, 'start': 486, 'taxes': 487, 'lady': 488, 'taken': 489, 'oh,': 490, 'teach': 491, 'that,': 492, 'sounds': 493, 'me.': 494, 'responsible': 495, 'protect': 496, 'sad': 497, 'state.': 498, 'order': 499, 'islam': 500, 'type': 501, 'on.': 502, 'law.': 503, 'self': 504, 'local': 505, 'death': 506, 'education': 507, 'transgender': 508, 'equal': 509, 'becoming': 510, 'hilary': 511, 'dems': 512, 'years.': 513, \"haven't\": 514, 'question': 515, 'ones': 516, 'evil': 517, 'media': 518, 'confused': 519, 'however,': 520, 'way.': 521, 'face': 522, 'truly': 523, 'able': 524, 'level': 525, 'shot': 526, 'taking': 527, 'behind': 528, 'do.': 529, 'wanted': 530, 'failed': 531, 'seem': 532, 'immigration': 533, 'killed': 534, 'ice': 535, 'illegally': 536, 'looks': 537, 'dead': 538, 'true.': 539, 'population': 540, 'south': 541, \"shouldn't\": 542, 'whites': 543, 'play': 544, 'power': 545, '6': 546, 'unemployment': 547, 'worst': 548, 'husband': 549, 'jews': 550, 'uss': 551, 'thousands': 552, 'gorilla': 553, 'expect': 554, \"we're\": 555, \"what's\": 556, 'convicted': 557, '\"': 558, 'raped': 559, 'lets': 560, 'talk': 561, 'several': 562, 'happen': 563, 'countries': 564, '--': 565, 'members': 566, 'lack': 567, 'country.': 568, 'control': 569, 'dont': 570, 'hear': 571, \"she's\": 572, 'america.': 573, 'big': 574, 'fine': 575, 'nice': 576, 'came': 577, 'second': 578, 'capable': 579, 'turn': 580, '3': 581, 'eastern': 582, 'run': 583, 'harm': 584, 'confusion': 585, 'wrong.': 586, 'term': 587, 'looking': 588, 'truth': 589, 'best': 590, 'done': 591, 'created': 592, 'brain': 593, 'simply': 594, 'people.': 595, 'months': 596, 'send': 597, 'took': 598, \"obama's\": 599, 'in.': 600, 'about?': 601, 'perversion': 602, 'perhaps': 603, 'neither': 604, 'enforcement': 605, 'guy': 606, 'u.s.': 607, '2016': 608, 'three': 609, 'multiple': 610, 'chicago': 611, 'catholic': 612, 'church': 613, 'policy': 614, 'home': 615, 'afford': 616, 'ebt': 617, 'served': 618, 'san': 619, 'front': 620, 'offer': 621, 'sorry': 622, '9': 623, 'continue': 624, 'seen': 625, 'worked': 626, 'known': 627, 'racial': 628, 'southern': 629, 'government.': 630, 'native': 631, 'gotten': 632, 'feminist': 633, 'alligator': 634, 'gator': 635, 'merkel': 636, \"wasn't\": 637, '\"no\"': 638, 'millions': 639, 'bunch': 640, 'each': 641, 'socialist': 642, 'previous': 643, 'core': 644, 'speech.': 645, 'sharia': 646, 'all.': 647, 'no.': 648, 'large': 649, \"i'd\": 650, 'international': 651, 'male': 652, 'considered': 653, 'failure': 654, 'shows': 655, 'democratic': 656, 'case,': 657, 'conservatives': 658, 'thats': 659, 'told': 660, 'again,': 661, \"you've\": 662, 'couple': 663, 'republican': 664, 'well.': 665, 'schools': 666, 'friends': 667, 'sad.': 668, 'bother': 669, 'nonsense.': 670, 'actual': 671, 'first,': 672, 'itself': 673, 'claim': 674, 'refused': 675, 'nature': 676, 'dangerous': 677, 'due': 678, 'minds': 679, 'inner': 680, 'mention': 681, 'moral': 682, 'correctness': 683, 'various': 684, 'suppose': 685, 'between': 686, 'nobody': 687, 'service': 688, 'religious': 689, 'discriminate': 690, 'are.': 691, 'usually': 692, 'speak': 693, 'facts': 694, 'simple': 695, '–': 696, 'calling': 697, 'themselves': 698, 'innocent': 699, 'supporting': 700, 'ago.': 701, 'notice': 702, 'correct': 703, 'ha': 704, 'explain': 705, 'gets': 706, 'terrible': 707, 'worse.': 708, 'ladies': 709, 'pushing': 710, \"i've\": 711, 'wearing': 712, 'drug': 713, 'body': 714, 'discrimination': 715, 'not,': 716, 'heard': 717, 'compliance': 718, 'pointing': 719, 'current': 720, 'pedophile': 721, 'happens': 722, 'immigrant': 723, 'married': 724, 'remove': 725, 'criminal': 726, 'leaves': 727, 'sold': 728, 'honorable': 729, 'donald': 730, 'according': 731, 'rules': 732, 'article': 733, 'words': 734, 'know.': 735, 'grow': 736, 'build': 737, 'funny': 738, 'entire': 739, 'signs': 740, 'wife': 741, 'judge': 742, 'commencement': 743, '4': 744, 'available': 745, '20': 746, 'minorities': 747, 'surprise': 748, 'harvey': 749, 'named': 750, 'milk': 751, 'count': 752, 'color': 753, 'fought': 754, 'battle': 755, 'stars': 756, 'constitution.': 757, 'jews.': 758, 'sign': 759, 'apply': 760, 'student': 761, 'system': 762, 'buy': 763, 'child': 764, 'dad': 765, 'parent': 766, '\"white': 767, 'brienne': 768, 'pull': 769, 'assault': 770, 'suspended': 771, 'well,': 772, 'laid': 773, 'deported': 774, 'republicans': 775, 'yeah': 776, 'crime': 777, 'elected': 778, 'yourself': 779, 'monkey': 780, 'apparently': 781, 'so.': 782, 'with.': 783, 'violent': 784, '(and': 785, 'foreign': 786, 'too.': 787, 'problem.': 788, 'course': 789, 'except': 790, 'immigrants': 791, 'that?': 792, 'leave': 793, 'though.': 794, 'subject': 795, 'man.': 796, 'act': 797, 'thank': 798, 'certain': 799, 'silly': 800, 'protecting': 801, 'sense.': 802, 'jail': 803, 'office.': 804, 'yeah,': 805, 'justice': 806, 'referring': 807, 'depends': 808, 'lived': 809, 'often': 810, 'obviously': 811, 'bathrooms': 812, 'huge': 813, 'right?': 814, 'nor': 815, 'say.': 816, 'clear': 817, 'hoping': 818, 'help.': 819, 'original': 820, 'result': 821, 'cons': 822, 'here.': 823, 'conservative': 824, 'reality.': 825, 'reality': 826, 'adults': 827, 'issues': 828, 'bring': 829, 'real.': 830, 'inherently': 831, 'individual': 832, 'and,': 833, 'possibly': 834, 'common': 835, 'somehow': 836, 'understanding': 837, 'treatment': 838, 'force': 839, 'along': 840, \"god's\": 841, 'general': 842, 'again.': 843, 'top': 844, 'morals': 845, 'whose': 846, 'bible': 847, 'yep': 848, 'write': 849, 'counter': 850, 'hide': 851, 'ask': 852, 'huh?': 853, 'bringing': 854, 'respect': 855, 'it?': 856, \"there's\": 857, 'doubt': 858, 'opinion': 859, 'game': 860, 'create': 861, 'birth': 862, 'up,': 863, 'north': 864, 'forget': 865, 'five': 866, 'major': 867, 'home.': 868, 'mexico': 869, 'hispanic': 870, 'everywhere': 871, 'appears': 872, 'died': 873, 'o': 874, 'google': 875, 'stay': 876, 'mexican': 877, 'ya': 878, 'including': 879, 'administration': 880, 'taxpayers': 881, 'trump.': 882, 'fast': 883, 'matter.': 884, 'information': 885, 'single': 886, 'program': 887, 'missed': 888, 'years,': 889, 'refuse': 890, 'rights.': 891, 'q.': 892, 'a.': 893, 'thanks': 894, 'concerned': 895, 'elite': 896, 'higher': 897, 're': 898, '\"the': 899, 'nothing.': 900, 'sit': 901, 'race': 902, 'skin': 903, 'shut': 904, 'out,': 905, 'walls': 906, 'consider': 907, '1': 908, 'spent': 909, 'house.': 910, 'plan': 911, 'company': 912, 'university': 913, 'class': 914, 'baby': 915, 'victims': 916, '....': 917, 'heart': 918, 'comments': 919, 'throw': 920, 'check': 921, 'proof': 922, 'hey': 923, 'racism,': 924, 'blame': 925, 'honorable\"': 926, 'discharge.': 927, 'ships': 928, 'planning': 929, 'provide': 930, 'treason': 931, 'signed': 932, 'represents': 933, 'constitution': 934, 'slavery.': 935, 'percentage': 936, 'enemy': 937, 'hate.': 938, 'first.': 939, 'eating': 940, 'financial': 941, 'diversity,': 942, 'qualify': 943, '\"diversity\"': 944, 'receive': 945, 'applied': 946, 'low': 947, 'junior': 948, 'requirement': 949, 'benefits': 950, 'recipients': 951, 'blah': 952, 'feminism': 953, 'gators': 954, 'towards': 955, 'pants': 956, 'abetting': 957, 'pathetic': 958, 'handed': 959, 'meaning': 960, 'soon': 961, 'humanity': 962, 'physical': 963, 'speech,': 964, 'belief': 965, 'care.': 966, 'about.': 967, '\"no': 968, 'laws.': 969, 'example': 970, 'numbers.': 971, 'leader': 972, 'law,': 973, 'themselves.': 974, 'animal': 975, 'court': 976, 'future.': 977, 'gun': 978, 'hates': 979, 'them,': 980, 'brought': 981, 'knows': 982, 'video': 983, 'wing': 984, 'equivalent': 985, 'felt': 986, 'exist.': 987, 'christians': 988, 'pretty': 989, 'female': 990, 'woman.': 991, 'wayne.': 992, 'admit': 993, 'violence': 994, 'dump': 995, 'four': 996, 'statement.': 997, 'morality': 998, 'ancient': 999, 'book': 1000, 'thinks': 1001, 'nonsense': 1002, 'fact.': 1003, 'names': 1004, 'caused': 1005, 'condition': 1006, 'willing': 1007, 'identity': 1008, 'they?': 1009, 'tried': 1010, 'believes': 1011, 'harmful': 1012, 'society.': 1013, 'are,': 1014, 'interest': 1015, 'conditions': 1016, 'psychology': 1017, 'process': 1018, 'before.': 1019, 'outside': 1020, 'takes': 1021, 'choose': 1022, '13': 1023, 'room': 1024, 'nuts': 1025, 'enter': 1026, 'supposed': 1027, 'putting': 1028, 'refute': 1029, 'attention': 1030, 'utter': 1031, 'truth.': 1032, '\"other': 1033, 'faith': 1034, 'president,': 1035, 'people?': 1036, 'news': 1037, 'yours': 1038, 'standard': 1039, 'founded': 1040, 'really?': 1041, 'push': 1042, '25': 1043, 'telling': 1044, '(or': 1045, 'job,': 1046, 'caught': 1047, 'issues.': 1048, 'protected': 1049, 'standing': 1050, 'limited': 1051, 'growing': 1052, 'side': 1053, 'president.': 1054, 'pro': 1055, 'seriously': 1056, 'figure': 1057, 'opinions': 1058, 'pedophiles': 1059, 'on,': 1060, 'equality': 1061, \"you'll\": 1062, 'cop': 1063, 'says,': 1064, 'cops': 1065, '50': 1066, 'voting': 1067, 'fraud': 1068, 'democrat': 1069, 'released': 1070, 'building': 1071, 'voters': 1072, 'her.': 1073, 'obama’s': 1074, 'george': 1075, 'bush': 1076, 'obama,': 1077, 'number.': 1078, 'numerous': 1079, 'commander': 1080, 'private': 1081, 'research': 1082, 'moved': 1083, 'pick': 1084, 'amazing': 1085, 'grandmother': 1086, 'aiding': 1087, 'day,': 1088, 'area': 1089, 'leaving': 1090, 'bars': 1091, 'works': 1092, 'control.': 1093, 'future': 1094, 'jobs.': 1095, 'safe': 1096, 'girls': 1097, 'die': 1098, 'currently': 1099, 'limit': 1100, 'money.': 1101, 'burn': 1102, 'easy': 1103, 'healthcare': 1104, 'chief': 1105, '=': 1106, 'backs': 1107, 'businesses': 1108, 'streets': 1109, 'wall': 1110, 'congress': 1111, 'workers': 1112, 'luck': 1113, 'hole': 1114, 'watching': 1115, 'bit': 1116, 'cant': 1117, 'else.': 1118, 'privileged': 1119, 'public.': 1120, 'soros': 1121, 'for.': 1122, 'pay?': 1123, 'successful': 1124, 'anybody': 1125, 'dollars': 1126, 'complete': 1127, 'wake': 1128, 'work,': 1129, 'debt': 1130, 'pos': 1131, '1st': 1132, 'chicago,': 1133, 'built': 1134, 'slaves.': 1135, 'but,': 1136, \"we've\": 1137, 'playing': 1138, 'speaker': 1139, 'gives': 1140, 'line': 1141, 'dude': 1142, 'whether': 1143, 'attack': 1144, 'above': 1145, 'slave': 1146, 'there.': 1147, 'fingers': 1148, 'barack': 1149, 'daughter': 1150, 'deserve': 1151, 'record': 1152, 'honor': 1153, 'discharge': 1154, 'village': 1155, 'received': 1156, 'taste': 1157, 'define': 1158, 'among': 1159, 'group.': 1160, 'blew': 1161, 'honorably': 1162, 'indeed': 1163, 'giving': 1164, 'college,': 1165, 'response': 1166, 'groups': 1167, 'folks': 1168, 'child.': 1169, 'minority': 1170, 'purpose': 1171, 'days': 1172, 'business': 1173, 'amendment': 1174, 'test': 1175, 'nut': 1176, 'owned': 1177, 'lots': 1178, 'scholarships': 1179, 'excellent': 1180, 'graduating': 1181, 'college.': 1182, 'genocide': 1183, 'wait,': 1184, 'percent': 1185, 'promise': 1186, 'alive': 1187, 'sometimes': 1188, 'system.': 1189, 'degrees': 1190, 'socialists': 1191, 'spend': 1192, 'half': 1193, 'pays': 1194, 'stamps,': 1195, 'feed': 1196, 'hours': 1197, 'wanna': 1198, 'eat': 1199, 'employed': 1200, 'father': 1201, 'israel,': 1202, 'dershowitz': 1203, 'privilege?': 1204, 'asking': 1205, 'touch': 1206, 'merkel,': 1207, 'possible': 1208, 'charge': 1209, 'one-year': 1210, 'sentence.': 1211, 'attempted': 1212, 'legal': 1213, 'animals.': 1214, 'involved': 1215, 'mental': 1216, 'great,': 1217, 'imagine': 1218, 'wow.': 1219, 'lying': 1220, 'nasty': 1221, 'arabic': 1222, 'arab': 1223, 'choice': 1224, 'cause': 1225, 'ignorant': 1226, 'prevent': 1227, 'refugee': 1228, 'happens.': 1229, 'related': 1230, 'sand': 1231, 'wonderful': 1232, 'stupid': 1233, 'required': 1234, 'requires': 1235, 'said?': 1236, 'invited': 1237, 'back.': 1238, 'obey': 1239, \"wouldn't\": 1240, 'problem,': 1241, 'unfortunately': 1242, 'shame': 1243, 'pandering': 1244, 'religion.': 1245, 'includes': 1246, 'realize': 1247, 'quick': 1248, 'germany': 1249, 'country,': 1250, 'say?': 1251, 'improve': 1252, 'anyway': 1253, 'scumbags': 1254, 'knew': 1255, 'key': 1256, 'lead': 1257, 'near': 1258, 'add': 1259, 'keeping': 1260, 'dress': 1261, 'demand': 1262, 'enforce': 1263, \"america's\": 1264, 'sentence': 1265, 'list.': 1266, 'civilized': 1267, 'hundreds': 1268, 'became': 1269, 'view': 1270, 'hate,': 1271, 'acts': 1272, 'disaster': 1273, 'hurt': 1274, 'barry': 1275, 'european': 1276, 'style': 1277, 'opposition': 1278, 'deportation': 1279, 'party.': 1280, 'reverse': 1281, 'intended': 1282, 'executive': 1283, 'department': 1284, 'jump': 1285, 'kept': 1286, 'moving': 1287, 'sharon?': 1288, 'joke.': 1289, 'glad': 1290, 'name.': 1291, 'yourself.': 1292, 'quite': 1293, 'interesting': 1294, 'third': 1295, 'said,': 1296, 'thought.': 1297, 'period': 1298, 'ready': 1299, 'clinton.': 1300, 'polls': 1301, 'compete': 1302, 'focus': 1303, 'silver': 1304, 'liberals,': 1305, '8': 1306, 'latest': 1307, 'nope': 1308, 'dumped': 1309, 'carter': 1310, '80': 1311, 'not?': 1312, 'desert': 1313, 'tv.': 1314, 'hands': 1315, 'appear': 1316, 'hold': 1317, '\"transgenderism\"': 1318, 'children,': 1319, 'youth,': 1320, 'regarding': 1321, 'effects': 1322, 'denial': 1323, 'differently': 1324, 'appropriate': 1325, 'consequences': 1326, 'sadly': 1327, 'causes': 1328, 'therapy': 1329, 'solution': 1330, 'problems': 1331, 'confusions': 1332, 'majority': 1333, 'viable': 1334, 'solution.': 1335, 'depression': 1336, 'concepts': 1337, 'worth': 1338, 'deal': 1339, 'one,': 1340, 'fun': 1341, 'earlier': 1342, 'door,': 1343, 'medicine': 1344, 'terms': 1345, 'intimidate': 1346, 'evil,': 1347, 'incorrect': 1348, 'fallacy': 1349, 'blatant': 1350, 'grand': 1351, 'ended': 1352, 'course,': 1353, 'wrong,': 1354, '\"civil': 1355, 'watched': 1356, 'selective': 1357, 'serving': 1358, 'feels': 1359, 'senate': 1360, 'suggest': 1361, 'medical': 1362, 'completely': 1363, 'personally': 1364, 'recognize': 1365, 'via': 1366, 'toward': 1367, 'info': 1368, 'decades.': 1369, 'discrimination.': 1370, 'identifies': 1371, 'argument.': 1372, 'typo.': 1373, 'argument': 1374, 'enough.': 1375, 'argue': 1376, 'case.': 1377, 'question.': 1378, 'okay': 1379, 'abortion': 1380, 'added': 1381, 'tragic': 1382, 'fallen': 1383, 'words.': 1384, 'access': 1385, 'possessed': 1386, 'black.': 1387, 'pee.': 1388, 'claiming': 1389, 'me?': 1390, 'normal': 1391, 'basically': 1392, 'stopped': 1393, 'dresses': 1394, 'her,': 1395, 'mr.': 1396, 'seek': 1397, 'laugh': 1398, 'post.': 1399, 'stuff': 1400, 'wears': 1401, 'suits': 1402, 'party': 1403, 'attacking': 1404, 'places': 1405, 'scotus': 1406, 'passed': 1407, 'allowing': 1408, 'obama.': 1409, 'perversion?': 1410, 'mad': 1411, 'desired': 1412, 'what?': 1413, 'poster': 1414, 'legislation': 1415, 'carolina': 1416, 'forward': 1417, 'sane': 1418, 'ordering': 1419, 'drive': 1420, '\"but': 1421, 'removed': 1422, 'voter': 1423, 'vaughan': 1424, 'cited': 1425, 'car': 1426, 'serious': 1427, 'set': 1428, 'fire': 1429, 'removing': 1430, 'mexicans': 1431, 'attorney': 1432, 'officers': 1433, 'sankey': 1434, 'prior': 1435, '$100': 1436, '300': 1437, 'listed': 1438, 'volunteer': 1439, 'calls': 1440, 'denied': 1441, 'ss#': 1442, 'uses': 1443, 'citizen': 1444, 'we,': 1445, 'cut': 1446, 'arrest': 1447, 'english': 1448, 'also,': 1449, 'word': 1450, 'burning': 1451, 'police.': 1452, 'black,': 1453, 'destroy': 1454, 'property': 1455, 'uncle': 1456, 'anymore.': 1457, 'total': 1458, 'recognized': 1459, 'report': 1460, 'step': 1461, 'ground': 1462, 'clout': 1463, 'happened': 1464, 'idea.': 1465, 'illegally,': 1466, 'false': 1467, 'personal': 1468, 'breaking': 1469, 'conflict': 1470, 'left,': 1471, '/': 1472, 'changing': 1473, 'positive': 1474, 'constitutional': 1475, 'guards': 1476, 'welfare,': 1477, 'liquor': 1478, 'tired': 1479, '40': 1480, 'old.': 1481, 'system,': 1482, 'earth': 1483, 'more.': 1484, 'totally': 1485, 'situation': 1486, 'propaganda': 1487, 'action,': 1488, 'illegals.': 1489, 'saving': 1490, '7': 1491, 'receiving': 1492, 'informed': 1493, 'prison': 1494, 'also.': 1495, 'thugs': 1496, 'programs': 1497, 'extremely': 1498, 'rate': 1499, 'movement': 1500, 'dare': 1501, 'brothers': 1502, 'symbol': 1503, 'advantage': 1504, 'selling': 1505, 'light': 1506, 'opportunity': 1507, 'honest': 1508, 'excuse': 1509, 'base': 1510, 'deport': 1511, 'michelle,': 1512, 'pie': 1513, 'cares': 1514, \"“don't\": 1515, 'contributions': 1516, 'hungry': 1517, 'politics': 1518, 'turned': 1519, 'filled': 1520, 'presidential': 1521, 'anger': 1522, 'size': 1523, 'miss': 1524, 'hospital': 1525, 'helped': 1526, 'irish': 1527, 'kids.': 1528, 'broke': 1529, 'treated': 1530, 'family.': 1531, 'can.': 1532, 'held': 1533, 'providing': 1534, 'prefer': 1535, 'hat': 1536, 'today,': 1537, 'buying': 1538, 'this,': 1539, 'china': 1540, 'mouth': 1541, '??': 1542, 'separate': 1543, 'ugly': 1544, 'african': 1545, 'races': 1546, 'history.': 1547, 'head': 1548, 'im': 1549, '1/2': 1550, 'owners': 1551, 'attacks': 1552, 'africans': 1553, 'protest': 1554, 'daughters': 1555, 'males': 1556, 'others.': 1557, 'racist.': 1558, 'roll': 1559, 'class.': 1560, 'retired': 1561, 'trump,': 1562, 'navy.': 1563, 'disgusting': 1564, 'sailors': 1565, 'fight': 1566, 'him?': 1567, 'anything,': 1568, 'liberalism': 1569, 'paint': 1570, 'hated': 1571, 'search': 1572, 'lying?': 1573, 'boys': 1574, 'century': 1575, 'past': 1576, 'unfortunately,': 1577, 'gone': 1578, 'veteran': 1579, 'too?': 1580, 'target': 1581, 'sympathy': 1582, '\"less': 1583, 'pedophilia': 1584, 'chosen': 1585, 'stood': 1586, 'pedophile.': 1587, 'tells': 1588, 'bottom': 1589, 'strike': 1590, 'decided': 1591, 'community.': 1592, 'fighting': 1593, 'special': 1594, 'destroys': 1595, 'placed': 1596, 'people,': 1597, 'heritage.': 1598, 'race,': 1599, 'ancestors': 1600, 'rebel': 1601, 'supreme': 1602, 'flags': 1603, 'today': 1604, 'e.': 1605, '<': 1606, 'please,': 1607, 'authority': 1608, 'month': 1609, 'flag?': 1610, 'tread': 1611, 'anyway.': 1612, 'asians': 1613, 'regardless': 1614, 'whatever': 1615, 'race.': 1616, 'quota': 1617, 'wiped': 1618, 'wage': 1619, 'almost': 1620, '2015': 1621, 'cost': 1622, 'ability': 1623, 'confederacy': 1624, 'horrible': 1625, 'union.': 1626, 'branch': 1627, 'citizens.': 1628, 'job.': 1629, 'educated': 1630, \"one's\": 1631, 'testing': 1632, 'aid.': 1633, 'admissions': 1634, 'fund': 1635, 'low-income': 1636, 'studies': 1637, 'attempt': 1638, 'accepted': 1639, 'companies': 1640, 'ethnic': 1641, 'gas': 1642, 'decent': 1643, 'educational': 1644, 'zip': 1645, 'beyond': 1646, 'success': 1647, 'universities': 1648, 'next?': 1649, 'jews,': 1650, 'i’m': 1651, 'classes.': 1652, 'provides': 1653, 'companies.': 1654, 'math': 1655, 'scholarships.': 1656, 'alike.': 1657, 'standards': 1658, 'mom': 1659, \"let's\": 1660, 'kid': 1661, 'poorly': 1662, 'ahead': 1663, 'folk': 1664, 'shot.': 1665, 'experience': 1666, 'murray': 1667, 'asian': 1668, 'soc': 1669, 'sec.': 1670, 'box': 1671, 'soda': 1672, 'ill': 1673, 'assistance.': 1674, 'food.': 1675, 'able-bodied': 1676, 'guilt': 1677, 'cards': 1678, 'chimp': 1679, 'cash': 1680, 'disabled': 1681, 'stamps.': 1682, 'otherwise': 1683, '(': 1684, 'cell': 1685, 'sell': 1686, 'eats': 1687, 'cicero': 1688, 'supported': 1689, 'blacks.': 1690, 'away.': 1691, 'movement.': 1692, 'loyal': 1693, 'interests': 1694, 'accident': 1695, 'hood': 1696, 'disney': 1697, 'swimming': 1698, 'water.': 1699, 'son': 1700, 'this?': 1701, 'st.': 1702, 'daddy': 1703, 'privilege': 1704, 'snarth': 1705, 'privilege.': 1706, '21-year-old': 1707, 'iraqi': 1708, '26-year-old': 1709, 'algerian': 1710, 'assault,': 1711, 'sentence.\"': 1712, 'directly': 1713, 'punished': 1714, 'foreigners': 1715, 'disease': 1716, 'opposed': 1717, 'deporting': 1718, 'acting': 1719, 'savages': 1720, '~': 1721, 'uncivilized': 1722, 'germany.': 1723, 'africa.': 1724, \"that'll\": 1725, 'rapists,': 1726, 'muslims.': 1727, 'translate': 1728, 'language': 1729, 'moon': 1730, 'laws,': 1731, 'paper': 1732, 'easier': 1733, 'thing.': 1734, 'invaders': 1735, 'kick': 1736, 'loves': 1737, 'steel': 1738, 'shoes.': 1739, 'knife': 1740, 'germany,': 1741, 'rapist': 1742, 'alone': 1743, 'prove': 1744, 'germans': 1745, 'electing': 1746, 'eu': 1747, 'brussels.': 1748, 'criminals?': 1749, 'guess.': 1750, 'crimes': 1751, 'hurt,': 1752, 'votes': 1753, 'peaceful': 1754, 'neuter': 1755, 'lousy': 1756, 'did,': 1757, 'practice': 1758, 'capital': 1759, 'animals': 1760, 'men.': 1761, 'in?': 1762, 'weapons': 1763, 'islamic': 1764, 'treating': 1765, 'defense': 1766, 'meant': 1767, 'bernie': 1768, 'conviction': 1769, \"year's\": 1770, 'absolutely': 1771, 'behavior': 1772, 'reasonable': 1773, 'pig': 1774, 'sake': 1775, 'us,': 1776, 'answer.': 1777, 'most.': 1778, 'center': 1779, 'destroyed': 1780, 'brown': 1781, 'far?': 1782, 'allows': 1783, 'physically': 1784, 'itself.': 1785, 'price': 1786, 'letting': 1787, 'voted': 1788, 'books': 1789, 'perceived': 1790, 'existed': 1791, 'secret': 1792, 'unlike': 1793, 'christian': 1794, 'areas': 1795, 'around.': 1796, 'why?': 1797, 'awareness': 1798, 'tgs': 1799, 'churches': 1800, 'bigger': 1801, 'seeing': 1802, 'saying?': 1803, 'ah,': 1804, 'saw': 1805, 'nah,': 1806, 'either.': 1807, 'mostly': 1808, 'matters': 1809, 'accurate': 1810, 'within': 1811, 'effect': 1812, 'points.': 1813, 'mccain': 1814, '57': 1815, 'easily': 1816, 'election': 1817, 'day.': 1818, \"here's\": 1819, 'brings': 1820, 'source?': 1821, 'resolve': 1822, 'yet.': 1823, 'mean?': 1824, 'monica': 1825, 'lewinski': 1826, 'lol.': 1827, 'distinguish': 1828, 'to.': 1829, 'barbaric': 1830, 'blast': 1831, 'night': 1832, 'falsely': 1833, 'freedomscout': 1834, 'pink': 1835, 'spouting': 1836, 'han': 1837, 'nity': 1838, 'definitely': 1839, 'fox.': 1840, 'sb': 1841, 'reading': 1842, 'posts.': 1843, 'gender,': 1844, 'adolescents': 1845, 'deception': 1846, 'important': 1847, 'confuse': 1848, 'culture': 1849, 'repeated': 1850, 'both.': 1851, 'transgenderism': 1852, '\"real': 1853, 'thing\"': 1854, 'condemnation': 1855, 'specific,': 1856, 'real,': 1857, 'confused.': 1858, 'refer': 1859, 'form': 1860, 'suspect': 1861, 'react': 1862, 'them?': 1863, 'forcing': 1864, 'suicide.': 1865, 'forms': 1866, 'raise': 1867, 'resulting': 1868, 'perversions': 1869, 'brain,': 1870, 'person,': 1871, 'differently,': 1872, 'dynamically': 1873, 'changes': 1874, 'results': 1875, '\"spiritual': 1876, 'accept': 1877, 'value.': 1878, 'influence': 1879, 'course.': 1880, 'source': 1881, 'persons': 1882, 'sessions': 1883, 'deep': 1884, 'humanity.': 1885, 'fit': 1886, 'helping': 1887, 'error': 1888, 'statements': 1889, '\"indeed': 1890, 'last.\"': 1891, 'luke': 1892, 'one?': 1893, 'close': 1894, 'exist': 1895, 'such.': 1896, 'effort': 1897, 'many,': 1898, 'science,': 1899, 'rationale': 1900, '\"discriminate\"': 1901, '\"discrimination\"': 1902, 'elevated': 1903, 'warfare': 1904, 'foolish': 1905, 'politically': 1906, 'further': 1907, 'tactic': 1908, 'imply': 1909, 'writer': 1910, 'minded': 1911, 'thus': 1912, '\"put': 1913, 'truth,': 1914, 'figures': 1915, 'deeper': 1916, 'righteous': 1917, 'righteousness': 1918, 'bad,': 1919, 'dealt': 1920, 'properly': 1921, 'loving': 1922, 'god.': 1923, 'question?': 1924, '\"others\"': 1925, 'orlando': 1926, '102': 1927, 'him,': 1928, 'dirt': 1929, 'cover': 1930, 'school.': 1931, 'genetic': 1932, 'transgenders': 1933, 'fall': 1934, 'switch': 1935, 'interpretation': 1936, 'science': 1937, 'east': 1938, 'eh?': 1939, 'tg': 1940, 'marriage': 1941, 'then?': 1942, 'ra': 1943, 'marry': 1944, 'victim.': 1945, 'stone': 1946, 'guidance': 1947, 'as.': 1948, 'choice.': 1949, 'difference': 1950, 'words,': 1951, 'checking': 1952, 'auto': 1953, 'point,': 1954, 'likely': 1955, \"they'll\": 1956, 'shoot': 1957, 'solved': 1958, 'perfectly': 1959, 'culture.': 1960, 'difficult': 1961, 'creating': 1962, 'logic': 1963, 'religions': 1964, 'beings': 1965, 'remain': 1966, 'christ.': 1967, 'sinful': 1968, 'nearly': 1969, 'sole': 1970, 'identify': 1971, 'perhaps,': 1972, 'creation': 1973, 'bible?': 1974, 'surely': 1975, 'funny,': 1976, 'age': 1977, 'support.': 1978, 'girl': 1979, 'pee?': 1980, 'tg/gays?': 1981, 'deviance': 1982, 'else)': 1983, 'mess': 1984, 'lifestyle': 1985, 'determine': 1986, 'entered': 1987, 'ban': 1988, 'sure.': 1989, 'require': 1990, 'deviant': 1991, 'said.': 1992, 'true,': 1993, 'women,': 1994, 'pedophiles.': 1995, 'noticed': 1996, \"women's\": 1997, 'showed': 1998, 'claim.': 1999, 'celebrities': 2000, 'nc': 2001, 'statement': 2002, 'time;': 2003, 'him.': 2004, 'demanding': 2005, 'fines': 2006, 'answered': 2007, 'boycott': 2008, 'shared': 2009, 'bodies': 2010, 'mark': 2011, 'larry': 2012, 'craig?': 2013, 'outrage': 2014, 'ignore': 2015, 'rational': 2016, 'sue': 2017, 'ignoring': 2018, '\"get': 2019, '\"i': 2020, 'clean': 2021, 'crash': 2022, 'january': 2023, 'eswin': 2024, 'mejia': 2025, 'intoxicated': 2026, 'drag': 2027, 'arrived': 2028, 'ice’s': 2029, 'arrested': 2030, 'los': 2031, 'so-called': 2032, 'veteran,': 2033, 'july': 2034, 'months,': 2035, 'whats': 2036, 'usa.': 2037, 'records,': 2038, 'questions.': 2039, 'john': 2040, 'school,': 2041, 'concerning': 2042, 'representing': 2043, 'conduct': 2044, 'found': 2045, 'numbers': 2046, 'closely': 2047, 'done.': 2048, 'card': 2049, 'runs': 2050, 'massachusetts': 2051, '042': 2052, 'ave': 2053, 'attached': 2054, 'address': 2055, \"pd's\": 2056, 'highly': 2057, 'illegal,': 2058, 'accident.': 2059, 'coffee,': 2060, 'officer': 2061, 'sober': 2062, 'government?': 2063, 'alien': 2064, 'issued': 2065, 'hawaii': 2066, 'british': 2067, 'republic': 2068, 'congo': 2069, 'p': 2070, 's': 2071, 'crap': 2072, 'funding': 2073, 'white.': 2074, 'jail,': 2075, 'failing': 2076, 'chicken': 2077, 'rooting': 2078, 'city': 2079, 'randomly': 2080, 'endorsement': 2081, 'work?': 2082, 'supporter': 2083, 'silent': 2084, 'prayer': 2085, 'latino,': 2086, 'consequences.': 2087, 'mcd': 2088, 'harass': 2089, 'bounty': 2090, 'enforced': 2091, 'holding': 2092, 'can,': 2093, 'personnel': 2094, 'olympic': 2095, 'deleted.': 2096, 'props': 2097, 'contemporary.': 2098, \"hasn't\": 2099, 'fencing.': 2100, 'round': 2101, 'elections.': 2102, 'anything.': 2103, 'farm': 2104, 'section': 2105, 'position': 2106, 'automatically': 2107, 'church.': 2108, 'expense': 2109, 'grounds': 2110, 'liberals.': 2111, 'recruiting': 2112, 'publicly': 2113, 'funds': 2114, 'staying': 2115, 'plea': 2116, 'protection': 2117, 'zone': 2118, 'circumstances': 2119, 'alternative': 2120, 'kidnapped': 2121, 'respected': 2122, 'voice': 2123, 'greater': 2124, 'impact': 2125, 'dummycraps': 2126, 'mean,': 2127, 'pulse': 2128, 'lock': 2129, 'doors': 2130, 'guns': 2131, 'housing': 2132, 'spending': 2133, \"people's\": 2134, 'clothing': 2135, 'beat': 2136, 'mob': 2137, 'age,': 2138, 'drugs': 2139, 'tear': 2140, 'secure': 2141, 'store': 2142, 'payer': 2143, 'pure': 2144, 'penny': 2145, 'foundation': 2146, 'sean': 2147, 'starting': 2148, 'dry': 2149, 'gonna': 2150, 'running': 2151, 'of.': 2152, 'armed': 2153, 'resistance': 2154, 'violates': 2155, 'country?': 2156, 'illegals,': 2157, 'sheriff': 2158, 'weed': 2159, 'benefit': 2160, 'central': 2161, 'felons': 2162, '\"fu\"': 2163, '\"good': 2164, 'broken.': 2165, 'recently': 2166, 'leaning': 2167, 'screwing': 2168, 'safety': 2169, 'security.': 2170, 'chiefs': 2171, 'immediately': 2172, 'usa': 2173, 'proper': 2174, 'roads': 2175, 'suffer': 2176, 'nonsense?': 2177, 'belong': 2178, 'drop': 2179, 'globalization': 2180, 'controlling': 2181, 'commoners': 2182, 'bike?': 2183, 'murdered': 2184, 'murder': 2185, '5': 2186, 'unwilling': 2187, 'prosecuted': 2188, 'period.': 2189, 'harbor': 2190, 'include': 2191, 'haaaaa': 2192, 'haa': 2193, 'charity.': 2194, 'organization': 2195, 'wanting': 2196, 'free.': 2197, '\"free\"': 2198, '$87,000': 2199, 'did.': 2200, 'dream': 2201, 'dreams': 2202, 'circles': 2203, 'michele': 2204, 'witch.': 2205, 'nancy': 2206, 'reagan.': 2207, 'evidently': 2208, 'pocket': 2209, 'embrace': 2210, 'night.': 2211, 'doing.': 2212, 'mlk': 2213, 'pc': 2214, 'terrorist.': 2215, 'moochelle': 2216, 'swipe': 2217, '\"she': 2218, 'greatness': 2219, 'depended': 2220, 'elsewhere': 2221, 'sought': 2222, 'home.\"': 2223, 'herself': 2224, '…': 2225, 'adult': 2226, 'finally': 2227, 'me,': 2228, 'wife,': 2229, 'valued': 2230, 'amount': 2231, 'fed': 2232, 'harder': 2233, 'wealthy': 2234, 'theirs': 2235, 'participated': 2236, 'community': 2237, 'activities': 2238, 'achieve': 2239, 'lost,': 2240, 'counted': 2241, 'administration.': 2242, 'history?': 2243, 'records': 2244, 'americas': 2245, 'greatest': 2246, '\"he\\'s': 2247, 'name-calling': 2248, 'default': 2249, 'hypocritical': 2250, 'buffalo': 2251, 'former': 2252, 'camp': 2253, 'share': 2254, 'diversity?': 2255, 'beg': 2256, 'differ.': 2257, 'lady.': 2258, 'packing.': 2259, 'team': 2260, 'honest.': 2261, 'black...': 2262, 'eight': 2263, 'stick': 2264, 'color,': 2265, 'thing,': 2266, 'guests': 2267, 'knock,': 2268, 'home,': 2269, 'damaged': 2270, '200': 2271, 'insist': 2272, 'welcome.': 2273, 'outstanding': 2274, 'hit': 2275, \"don't.\": 2276, 'obamas': 2277, 'advice': 2278, 'instead,': 2279, 'agenda.': 2280, 'considering': 2281, 'washington': 2282, 'integrity': 2283, 'green': 2284, 'graduation': 2285, 'methuen': 2286, 'africa': 2287, 'unable': 2288, 'trillion': 2289, 'washington.': 2290, 'dept.': 2291, 'save': 2292, '300,000': 2293, 'per': 2294, 'action\"': 2295, 'positions': 2296, 'apologize': 2297, 'basis': 2298, 'sitting': 2299, 'nominee': 2300, 'disgraceful': 2301, 'ought': 2302, 'wiping': 2303, 'trash': 2304, 'anyone.': 2305, 'lgbt': 2306, 'home?': 2307, 'now,': 2308, 'riddance': 2309, 'debate': 2310, 'roughly': 2311, 'relevant': 2312, 'assigned': 2313, 'firmly': 2314, 'lives,': 2315, 'cold': 2316, 'insane.': 2317, 'expect?': 2318, 'slave,': 2319, 'any.': 2320, 'enslaved': 2321, 'rule.': 2322, 'cherokee': 2323, 'card.': 2324, 'lose': 2325, 'economy': 2326, 'occupies': 2327, 'character': 2328, 'suddenly': 2329, 'earned': 2330, 'morning': 2331, 'change.': 2332, 'trail': 2333, 'tears': 2334, 'inherited': 2335, 'nose': 2336, 'nazis': 2337, 'rioters': 2338, 'everyday': 2339, 'obsessed': 2340, 'somebody': 2341, 'know,': 2342, 'day;': 2343, \"weren't\": 2344, 'operation': 2345, 'vision': 2346, 'useless': 2347, 'murdering': 2348, 'committee': 2349, 'comment,': 2350, 'grade': 2351, 'examples.': 2352, 'pedophile?': 2353, 'smartest': 2354, 'eliminated': 2355, 'remaining': 2356, 'welcome': 2357, 'aboard': 2358, 'milk,': 2359, 'extra': 2360, 'army.': 2361, 'already?': 2362, 'fleet': 2363, 'determined': 2364, 'francisco': 2365, 'week.': 2366, 'bay': 2367, 'habit,': 2368, 'angry': 2369, 'sickness': 2370, 'enemy.': 2371, 'style.': 2372, 'status': 2373, 'rival': 2374, 'democrat.': 2375, 'boats': 2376, 'previously.': 2377, 'meet': 2378, 'laughing': 2379, 'stock.': 2380, 'drama': 2381, 'queen.': 2382, 'naming.': 2383, 'lost.': 2384, 'factually': 2385, 'accountable': 2386, 'implemented': 2387, 'honorably.': 2388, 'clintons': 2389, 'boy,': 2390, 'slipped': 2391, 'needed': 2392, 'leading': 2393, 'invaded': 2394, 'destruction': 2395, 'reward': 2396, 'francisco.': 2397, 'mess.': 2398, 'lmao': 2399, 'traitor': 2400, 'sleep': 2401, 'admitting': 2402, 'discharged.': 2403, 'britannica.com/biography/harvey-milk': 2404, 'sorry,': 2405, 'naval': 2406, 'site': 2407, 'ap': 2408, 'am.': 2409, 'fun.': 2410, 'usni': 2411, 'web': 2412, 'favors': 2413, 'withdraw': 2414, 'comments,': 2415, 'author': 2416, 'aside,': 2417, 'boy...': 2418, 'boat': 2419, 'short': 2420, 'controversial': 2421, 'honoring': 2422, 'basement.': 2423, 'banana.': 2424, 'enjoy': 2425, 'incapable': 2426, 'concerned.': 2427, 'comments.': 2428, 'discharged': 2429, \"who's\": 2430, 'activist': 2431, 'defended': 2432, 'differences': 2433, 'classes': 2434, 'hilarious': 2435, 'mommy': 2436, 'assuming': 2437, 'begin': 2438, 'involved.': 2439, 'military.': 2440, 'humor.': 2441, 'legislature': 2442, 'sc': 2443, 'avoid': 2444, 'ago': 2445, 'neighbors': 2446, 'south,': 2447, 'activists': 2448, 'displayed': 2449, 'abolish': 2450, 'buildings,': 2451, 'napolitano': 2452, 'media.': 2453, 'finish': 2454, 'insists': 2455, 'acknowledge': 2456, 'invented': 2457, 'down.': 2458, 'successful,': 2459, 'dean': 2460, 'robert': 2461, 'e': 2462, 'confederated': 2463, 'study': 2464, 'lee.': 2465, 'correct,': 2466, 'force.': 2467, 'surrendered': 2468, 'main': 2469, 'newly': 2470, 'oppression': 2471, 'war.': 2472, 'dictate': 2473, 'states,': 2474, 'troll': 2475, 'equipped': 2476, 'fort': 2477, 'april': 2478, 'stripes': 2479, '●': 2480, 'estimated': 2481, '1900': 2482, 'natives': 2483, 'offended': 2484, 'design': 2485, 'ancestor': 2486, 'dna': 2487, 'list': 2488, 'together': 2489, 'amen': 2490, 'thru': 2491, 'destroying': 2492, 'waiting': 2493, 'way,': 2494, 'beside': 2495, 'inalienable': 2496, 'oppress': 2497, 'communist': 2498, '100': 2499, 'problems.': 2500, 'pride.': 2501, 'reminds': 2502, 'slavery,': 2503, 'certainly': 2504, 'associated': 2505, 'divine': 2506, 'branches': 2507, 'applies': 2508, 'legislative': 2509, 'killing': 2510, 'eyes': 2511, 'christ': 2512, 'lame': 2513, 'spin': 2514, 'continually': 2515, 'communism': 2516, 'spot': 2517, 'relatives': 2518, 'property.': 2519, 'perpetuating': 2520, 'ridiculous.': 2521, 'alive.': 2522, 'racism.': 2523, 'promoted': 2524, 'defending': 2525, 'kidnapping': 2526, 'hateful': 2527, 'trade.': 2528, 'knowledge': 2529, 'prevented': 2530, 'strong': 2531, 'commitment': 2532, 'item': 2533, 'scientist,': 2534, 'non': 2535, 'studied': 2536, 'enroll': 2537, 'marxist': 2538, \"daughter's\": 2539, '\"both': 2540, 'screwed': 2541, 'policy.': 2542, 'checks.': 2543, 'color\"': 2544, 'stated': 2545, 'jobs,': 2546, 'temp': 2547, 'employment': 2548, 'refusals': 2549, 'initiatives,': 2550, '%': 2551, 'goes': 2552, 'cooke': 2553, 'prize': 2554, 'lower': 2555, 'requirements': 2556, 'succeed': 2557, 'unsuccessful': 2558, 'succeed,': 2559, 'event': 2560, 'seriously?': 2561, 'reports': 2562, 'athletic': 2563, 'squash': 2564, 'ivy': 2565, 'league': 2566, 'workplace': 2567, 'army': 2568, 'actions.': 2569, '\"reverse': 2570, 'demographic': 2571, 'changed.': 2572, 'policies': 2573, 'favor': 2574, 'action.': 2575, 'scores': 2576, 'burger': 2577, 'trading': 2578, 'trade': 2579, 'superior': 2580, 'dismal.': 2581, 'overflowing': 2582, 'prepared': 2583, 'stem,': 2584, 'studies.': 2585, 'quotas': 2586, 'goods': 2587, 'services': 2588, 'armies': 2589, 'soviet': 2590, 'grades': 2591, 'writing': 2592, 'voters.': 2593, 'blacks,': 2594, 'hispanics.': 2595, 'parents.': 2596, 'steal': 2597, 'grading': 2598, 'professors': 2599, 'bias': 2600, 'already.': 2601, 'hs': 2602, 'dumbing': 2603, 'requirements......idocracy': 2604, 'generation': 2605, 'biggest': 2606, 'stamp': 2607, 'double': 2608, 'nature,': 2609, 'aid': 2610, 'left.': 2611, 'assistance,': 2612, 'drop.': 2613, 'contribute': 2614, 'benefits.': 2615, 'ss,': 2616, 'taxes.': 2617, 'medicare,': 2618, 'gave': 2619, 'program.': 2620, 'billions': 2621, 'candy,': 2622, 'lifetime.': 2623, 'enlist': 2624, 'soldiers,': 2625, 'requirement.': 2626, 'hire': 2627, 'guarantee': 2628, 'kansas': 2629, 'fell': 2630, 'chimps': 2631, 'nowadays,': 2632, 'feelings': 2633, 'bueller?': 2634, 'stinky': 2635, '\"refugees\"': 2636, 'medicaid,': 2637, 'debtors': 2638, 'week': 2639, 'eliminate': 2640, 'fi': 2641, 'elderly': 2642, 'frivolous': 2643, 'mamma': 2644, 'recipient': 2645, 'pregnant': 2646, 'russell': 2647, 's.': 2648, 'wait': 2649, 'member': 2650, 'unfortunate': 2651, 'bomb': 2652, 'eighteen': 2653, 'story': 2654, 'kitchen': 2655, 'expensive': 2656, 'cream,': 2657, 'eggs': 2658, 'vegetables': 2659, 'screening': 2660, 'purchase': 2661, 'temporary': 2662, 'times.': 2663, 'regular': 2664, 'plenty': 2665, 'need.': 2666, 'feet': 2667, 'forgive': 2668, 'stories': 2669, 'skinny': 2670, 'costs': 2671, 'fish,': 2672, 'funded': 2673, 'mistake': 2674, 'ethiopian': 2675, 'species': 2676, \"israel's\": 2677, 'palestinkian': 2678, 'charter': 2679, 'elimination': 2680, 'blm.': 2681, 'blm,': 2682, 'lands': 2683, 'organization.': 2684, 'threatening': 2685, 'moment': 2686, 'violently': 2687, 'group?': 2688, 'israel.': 2689, 'palestinians,': 2690, 'placing': 2691, 'dog': 2692, 'alligator.': 2693, 'cool': 2694, 'petition': 2695, 'eaten': 2696, 'florida': 2697, 'bare': 2698, 'dragged': 2699, 'gator.': 2700, '\"part': 2701, 'rocks': 2702, 'insult': 2703, 'givonna': 2704, 'long,': 2705, 'stumps': 2706, 'hotel': 2707, 'fault': 2708, 'feminists': 2709, 'grew': 2710, 'snatched': 2711, 'influential': 2712, 'twisted': 2713, '30': 2714, 'fl': 2715, 'bears': 2716, 'natural': 2717, 'boy?': 2718, 'olivia': 2719, 'clair': 2720, 'nobody,': 2721, 'chop': 2722, 'coffee.': 2723, '10000': 2724, 'leftists': 2725, '..': 2726, '\"why': 2727, 'interested': 2728, 'me\"': 2729, 'groping': 2730, 'illegal?': 2731, 'deutschland?': 2732, 'have.': 2733, 'hardest': 2734, \"merkel's\": 2735, 'level.': 2736, '\"a': 2737, 'everything.': 2738, 'castrate': 2739, 'criticized': 2740, 'measures': 2741, 'harassment\"': 2742, 'legislators': 2743, \"kate's\": 2744, 'had.': 2745, 'cruel': 2746, '(sarcasm)': 2747, '\"go\",': 2748, 'slime': 2749, 'ball': 2750, 'lawyers': 2751, 'everywhere.': 2752, 'assaults': 2753, 'burned': 2754, 'ovens?': 2755, 'less.': 2756, 'point?': 2757, 'fashion,': 2758, 'ordinance': 2759, 'passed.': 2760, 'rapes': 2761, 'muslimes': 2762, 'fatherland.': 2763, 'russians': 2764, 'wwii.': 2765, 'contend': 2766, 'savages?': 2767, 'cow-tow': 2768, 'hoard': 2769, 'migrants.': 2770, 'problem...?': 2771, 'sentence?': 2772, 'harsh.': 2773, 'thing....lol': 2774, '50?': 2775, 'bracelets': 2776, 'liebrals': 2777, 'learn.': 2778, 'hahahahahahaha': 2779, '\"no.\"': 2780, 'idea,': 2781, 'm16a4': 2782, 'arabic.': 2783, 'glock': 2784, 'countries.': 2785, '7.62': 2786, 'x': 2787, '39': 2788, 'mm': 2789, 'm4': 2790, 'bolt': 2791, 'chambering': 2792, 'round.': 2793, 'lilly': 2794, 'esin': 2795, 'blue': 2796, 'crop': 2797, 'chevrolet': 2798, 'corvette': 2799, 'stingray': 2800, 'coupe': 2801, 'unavailable': 2802, 'laptop...': 2803, 'flash': 2804, 'ink': 2805, 'prevents': 2806, 'crime.': 2807, 'troll.': 2808, 'crime,': 2809, 'prosecute': 2810, '---': 2811, 'habla': 2812, 'deutch....': 2813, 'chicks': 2814, 'mongrelland': 2815, 'approved': 2816, 'committed': 2817, 'mongrels': 2818, 'back,': 2819, 'brobama': 2820, 'work...it': 2821, 'advisable': 2822, 'sharp,': 2823, 'tipped': 2824, 'kicks': 2825, 'groin': 2826, '\"nein\"': 2827, 'muzzieazzholes': 2828, 'battle-hardened,': 2829, 'decades': 2830, 'kicked': 2831, 'sheep': 2832, 'goats': 2833, 'numb': 2834, 'sharp': 2835, '...............': 2836, 'carry': 2837, 'guns...': 2838, 'merkels': 2839, 'legacy.': 2840, 'city.': 2841, 'armed,': 2842, 'rufus': 2843, 'establish': 2844, 'no?': 2845, 'reached': 2846, 'seeking': 2847, 'relevancy': 2848, 'sheeple': 2849, 'read.': 2850, 'victim': 2851, 'struggle': 2852, 'prosecuted..': 2853, '\"no\".': 2854, 'impossibility': 2855, 'reason...........': 2856, 'platoon': 2857, 'filth': 2858, 'once-great': 2859, 'bureaucrats': 2860, 'timid': 2861, 'recognizes': 2862, 'barbarism': 2863, 'sexist': 2864, 'attitudes': 2865, 'islam.': 2866, 'annoyance.': 2867, 'preaches,': 2868, 'teaches,': 2869, 'demands,': 2870, 'applauds': 2871, 'rewards': 2872, 'behavior.': 2873, 'written': 2874, 'not)': 2875, '(muslims)': 2876, 'ultimately': 2877, 'crimes,': 2878, 'elites': 2879, 'insulated': 2880, 'tolerant': 2881, 'criminals.': 2882, 'musiims': 2883, 'azzkicking.': 2884, 'wasnt': 2885, 'rapists': 2886, 'please.': 2887, 'cosby': 2888, 'no\"': 2889, '\"just': 2890, 'muslims\"': 2891, 'expel': 2892, 'mooh-slum.': 2893, 'impression': 2894, 'merkel/obama': 2895, 'progressivness.': 2896, 'odumbo': 2897, 'civilize': 2898, 'uncivilized.': 2899, 'then..': 2900, 'colt,': 2901, 'browning,': 2902, 'luger,': 2903, 'et': 2904, 'al.': 2905, 'function.': 2906, 'punishment.': 2907, 'reason-one': 2908, 'muzlim': 2909, '-young': 2910, 'girls-': 2911, 'boxes.': 2912, 'languages': 2913, 'assume': 2914, 'hot': 2915, 'speed': 2916, 'or......fathers,': 2917, 'brothers,': 2918, 'cousins': 2919, 'islam...a': 2920, 'accompanied': 2921, 'relative.': 2922, 'raped.': 2923, 'story.': 2924, 'dishonored': 2925, 'beatings': 2926, 'subjected': 2927, '\"honor': 2928, 'killing\".': 2929, 'that....if': 2930, 'women--there': 2931, 'prosecution': 2932, 'scumbags.': 2933, 'condones': 2934, 'chattel.': 2935, 'expect??': 2936, 'rapists.': 2937, 'droves': 2938, '\"raping\"': 2939, 'mentality': 2940, 'arming': 2941, 'curb': 2942, 'rapes.': 2943, 'want.': 2944, 'savages.': 2945, 'man;': 2946, 'nfl': 2947, 'job...do': 2948, 'blackasses': 2949, 'monkeys.': 2950, 'git': 2951, 'ur': 2952, 'together.': 2953, 'procrastinating': 2954, 'avoiding': 2955, 'vaunted': 2956, '\"european': 2957, 'society\"': 2958, 'emulate?': 2959, 'bern': 2960, 'himself,': 2961, 'is..': 2962, '\"on': 2963, 'thursday,': 2964, 'cologne': 2965, 'offense': 2966, 'eve.': 2967, 'aggressive': 2968, 'sentencing': 2969, 'there,': 2970, 'deter': 2971, 'caveat,': 2972, 'namely,': 2973, 'boiling': 2974, 'subhuman': 2975, 'blood.': 2976, 'lord': 2977, 'passing': 2978, 'knee': 2979, 'grows': 2980, '???': 2981, 'dig': 2982, 'slugs': 2983, \"'humanity'\": 2984, 'zero': 2985, 'vetting.': 2986, 'change?': 2987, 'answer...black': 2988, 'hoplophobes': 2989, 'racists.': 2990, '\"too?\".': 2991, 'grammar': 2992, 'checkers': 2993, 'hoplophobe?': 2994, 'bunnies?': 2995, 'hands,': 2996, 'aim': 2997, 'mass,': 2998, 'squeeze': 2999, 'slowly.': 3000, 'invaders.': 3001, 'molested': 3002, 'eve': 3003, 'travesty.': 3004, 'opened': 3005, 'borders': 3006, 'hordes': 3007, 'women-hating': 3008, 'year,': 3009, 'hardly': 3010, 'deterrent.': 3011, 'punish': 3012, 'toys.': 3013, 'cult': 3014, 'destruction.': 3015, 'agreed': 3016, 'immigrate': 3017, 'seduce': 3018, 'submissive.': 3019, 'nice,': 3020, 'assaulted.': 3021, 'barbarians': 3022, 'unchecked.': 3023, 'hillary.': 3024, 'oblama': 3025, 'her...': 3026, 'wrap': 3027, 'trial??': 3028, 'venture': 3029, 'england': 3030, 'brexit?': 3031, 'hasent': 3032, 'forever': 3033, 'defined.': 3034, '/sarc': 3035, '\"is\"': 3036, '\\'is\".': 3037, 'huh???': 3038, 'discrimination,': 3039, 'dear': 3040, 'remedy': 3041, 'fiat': 3042, 'doles': 3043, 'hoops': 3044, 'beginning': 3045, 'suffered': 3046, 'silence.': 3047, 'location.': 3048, 'knew,': 3049, 'dressing': 3050, 'flailing': 3051, 'gen': 3052, 'italia': 3053, '2016,': 3054, 'sudden': 3055, 'politics.': 3056, 'once.': 3057, 'repetitive.': 3058, 'honestly,': 3059, 'ok?': 3060, 'name,': 3061, 'was,': 3062, \"didn't.\": 3063, 'okay.': 3064, 'cr\\u2060e\\u2060epy,': 3065, 'fan\\u2060tas\\u2060ies': 3066, 'woman?': 3067, 'sa\\u2060d,': 3068, '\"16': 3069, 'replies\"': 3070, '\"wow,': 3071, 'generated': 3072, 'conversation.\"': 3073, 'clicked': 3074, 'omg.': 3075, 'sharon': 3076, 'wife...and': 3077, 'daughter.': 3078, 'himself': 3079, 'parroting': 3080, 'thought,': 3081, 'en': 3082, 'masse': 3083, 'bob': 3084, 'dole': 3085, \"'96\": 3086, 'opposite': 3087, 'poll': 3088, 'cigar': 3089, 'pollsters': 3090, 'contracts': 3091, 'accuracy.': 3092, 'predicting': 3093, 'elections': 3094, 'margin': 3095, 'error.': 3096, 'rasmussen': 3097, 'ppp': 3098, 'dem': 3099, '3.': 3100, 'romney': 3101, \"fox's\": 3102, 'polls.': 3103, 'neke': 3104, 'percent??': 3105, 'manhattans.': 3106, 'endorses': 3107, 'comply': 3108, 'wishes,': 3109, 'gladly.': 3110, 'nov': 3111, 'asylum': 3112, 'someone.': 3113, 'hrc': 3114, 'hopefully': 3115, 'authorities': 3116, 'projections': 3117, 'orange': 3118, 'clown': 3119, 'loses': 3120, 'landslide.': 3121, 'possible.': 3122, 'hostage': 3123, 'crisis': 3124, 'inflation': 3125, 'control...after': 3126, 'hillary?': 3127, 'overlords': 3128, 'answer,': 3129, 'repetition': 3130, 'rejected': 3131, 'hilary.': 3132, 'women.': 3133, 'rantings': 3134, 'tribe.': 3135, \"floyd's\": 3136, 'wall.': 3137, \"he'd\": 3138, 'publish': 3139, 'spamming': 3140, 'homeschooling': 3141, 'banned.': 3142, 'hears': 3143, 'critical': 3144, 'radio.': 3145, 'caller': 3146, '\"oh': 3147, 'right.\"': 3148, 'wringing': 3149, 'repeat': 3150, 'handful': 3151, \"wayne's\": 3152, 'tweets,': 3153, '(sharon)': 3154, 'quote.': 3155, 'breath.': 3156, 'replied': 3157, 'below.': 3158, 'dare.': 3159, 'creationist': 3160, 'favorite': 3161, 'heads': 3162, 'fits': 3163, 'transgender?': 3164, 'harmed': 3165, 'taught': 3166, 'schooling': 3167, 'valid': 3168, 'description': 3169, 'validity': 3170, 'false...thus': 3171, 'deceptive': 3172, 'deceived': 3173, 'critically': 3174, 'learning,': 3175, 'growth,': 3176, 'self-understanding': 3177, 'self-appreciation,': 3178, 'refuted.': 3179, 'inexcusable': 3180, 'abusive': 3181, 'falsehoods': 3182, 'foisted': 3183, 'intention': 3184, 'complicity,': 3185, 'widespread': 3186, 'kinds.the': 3187, 'stability': 3188, 'degradation': 3189, 'seriously,': 3190, 'struggli': 3191, 'g': 3192, 'develop': 3193, 'hormones': 3194, 'biology.': 3195, '\"ism\",': 3196, 'either,': 3197, 'precisely': 3198, 'motivations': 3199, '\"trangenderism\"': 3200, \"someone's\": 3201, 'changed?': 3202, 'effects.': 3203, '\"real\"': 3204, 'distorts': 3205, 'discussion,': 3206, 'phenomena': 3207, 'i.e.': 3208, '\"evil\"': 3209, 'effects,': 3210, 'generically': 3211, 'indicate': 3212, 'evil.': 3213, '(victim)': 3214, 'case?': 3215, 'society?': 3216, 'generically,': 3217, 'evil?': 3218, 'sexuality': 3219, 'obvious,': 3220, 'suppressed': 3221, 'involved,': 3222, 'erroneously,': 3223, 'decisions': 3224, 'least,': 3225, 'worst,': 3226, 'wellbeing.': 3227, '\"curing\"': 3228, 'kinds': 3229, 'transition.': 3230, '\"normal\"': 3231, 'depression,': 3232, '\"confused\"': 3233, 'aware': 3234, 'bodies.': 3235, 'misconception': 3236, '\"force\"': 3237, 'confusion.': 3238, 'seldom': 3239, 'works,': 3240, 'although': 3241, 'coercion': 3242, 'effective...and': 3243, 'ethical': 3244, 'concerns.transgenderism,': 3245, 'perversions,': 3246, 'depressive': 3247, 'individual,': 3248, 'also...sometimes': 3249, 'consequences...and': 3250, 'remedies': 3251, 'pandering,': 3252, 'sheltering': 3253, 'accommodating.': 3254, 'mental,': 3255, 'sourced': 3256, 'itself...speaking': 3257, 'generally': 3258, 'cases.': 3259, 'categorizes': 3260, '\"mental\"': 3261, 'physical,': 3262, '\"mind\".': 3263, 'secular': 3264, 'answers': 3265, 'conditions,': 3266, 'permanent': 3267, 'correction': 3268, 'cause.': 3269, 'versed': 3270, 'psychologists': 3271, 'counselors': 3272, 'spirit': 3273, 'being,': 3274, 'treat': 3275, 'volition': 3276, 'lasting': 3277, 'benefit,': 3278, 'healing': 3279, 'normally': 3280, 'harmony': 3281, 'self.': 3282, 'counseling\"': 3283, 'conform': 3284, 'persons,': 3285, 'accentuated': 3286, 'demeaning,': 3287, 'internal': 3288, 'themselves,': 3289, 'alleviated': 3290, 'nature.': 3291, 'conceive': 3292, 'counselling\"': 3293, 'simplistic': 3294, 'recitation': 3295, 'scripture': 3296, 'platitudes,': 3297, 'prayer,': 3298, 'counseling,': 3299, 'inward': 3300, 'objective': 3301, 'self-concepts': 3302, 'immense': 3303, 'value,': 3304, 'acclimate': 3305, 'patience': 3306, 'explanation': 3307, 'levels': 3308, \"subject's\": 3309, 'initial': 3310, 'perceptions': 3311, 'beliefs,': 3312, 'understanding...and': 3313, 'erroneous.': 3314, 'essential': 3315, 'imparted': 3316, 'redirect': 3317, 'patterns,': 3318, 'modifying': 3319, 'structure': 3320, 'symbiosis': 3321, 'purposed': 3322, 'lasting,': 3323, 'permanent,': 3324, 'healing.': 3325, 'choices?': 3326, 'answering': 3327, 'heaven': 3328, 'despite': 3329, 'shop.': 3330, 'heavan?': 3331, 'praying': 3332, 'chapter,': 3333, '“make': 3334, 'narrow': 3335, 'to.\"': 3336, 'legitimate?': 3337, 'basis?': 3338, 'commonly': 3339, 'bizarre': 3340, 'behaviors': 3341, 'policies.': 3342, 'sanctimony,': 3343, 'ultimate': 3344, 'oppose': 3345, 'notions.': 3346, 'guilty': 3347, 'unaccepted': 3348, 'belief.': 3349, 'opposition...as': 3350, 'outrageously': 3351, 'fallacious': 3352, 'claim,': 3353, '\"science,': 3354, 'legitimate\".': 3355, 'realists': 3356, 'defensive,': 3357, 'fallacy,': 3358, 'promoter': 3359, \"fallacy's\": 3360, 'then,': 3361, 'question,': 3362, 'dogmatic': 3363, 'doctrinaire,': 3364, 'claimed,': 3365, 'diverting': 3366, 'intimidation': 3367, 'monkey\"': 3368, 'opposition.': 3369, 'tactics': 3370, 'arguments...the': 3371, 'engage': 3372, 'presentation': 3373, 'facts,': 3374, 'arguments': 3375, 'readers/listeners': 3376, 'proofs': 3377, 'subjects': 3378, 'tolerated': 3379, 'society\"?': 3380, 'stumped': 3381, 'sanctimony': 3382, '\"do': 3383, 'unto': 3384, 'others\"': 3385, 'bit.': 3386, 'people?\"': 3387, 'hidden': 3388, 'homosexuals.': 3389, 'bar': 3390, 'sued': 3391, 'cake': 3392, 'angry.': 3393, 'moves': 3394, 'made,': 3395, 'sereve': 3396, 'obligated': 3397, 'morals,': 3398, 'term,': 3399, 'session': 3400, 'impeaching': 3401, 'immoral,': 3402, 'dirtier': 3403, 'affected': 3404, 'despotic': 3405, 'rule': 3406, 'immoral': 3407, 'privacy?': 3408, 'who?': 3409, 'who.': 3410, 'doctor.': 3411, 'bought': 3412, 'defect.': 3413, 'perversion.': 3414, 'immoral?': 3415, 'immoral.': 3416, \"isn't.\": 3417, 'definition?': 3418, 'only?': 3419, 'sla': 3420, 'very?': 3421, 'surprised.': 3422, 'biblical': 3423, 'conversation.': 3424, 'identifying': 3425, 'from.': 3426, 'hardly.': 3427, 'where?': 3428, 'flawed': 3429, 'savior.': 3430, 'medicine.': 3431, 'prevalent': 3432, '2000': 3433, 'date,': 3434, 'word.': 3435, 'deuteronomy': 3436, '22': 3437, 'leviticus': 3438, 'return': 3439, 'exodus': 3440, '21': 3441, 'from,': 3442, 'se': 3443, 'xuality': 3444, 'tribe': 3445, 'marrying': 3446, 'pe': 3447, 'pist': 3448, 'way?': 3449, 'facilities': 3450, 'as...as': 3451, 'vice': 3452, 'versa)': 3453, 'gender.': 3454, 'female.': 3455, 'opposite.': 3456, '\"you\\'re,\"': 3457, 'fifth-grader.': 3458, 'sound': 3459, 'typo': 3460, 'difference.': 3461, 'paper,': 3462, 'proofreading': 3463, 'understandable': 3464, '\"your\"': 3465, '\"you\\'re\"?': 3466, 'du\\ufeffm\\ufeffb': 3467, 'doctor': 3468, 'simple.': 3469, 'thinking/acting': 3470, 'man,': 3471, 'physically.': 3472, 'join': 3473, 'tgs/gays': 3474, 'whoever': 3475, 'answer?': 3476, 'depending': 3477, 'militant': 3478, 'tg/s': 3479, 'empathize': 3480, 'sentiment': 3481, 'motives': 3482, 'murderous': 3483, 'decadence': 3484, '43': 3485, 'symptom': 3486, 'decay': 3487, 'compass': 3488, 'guide': 3489, 'unnecessary.': 3490, 'shielding': 3491, 'influences': 3492, 'uncertainty': 3493, 'relativism': 3494, 'youth...largely': 3495, 'schooling.': 3496, 'following': 3497, 'mythology': 3498, 'psychology.': 3499, 'poisons': 3500, 'poisonous': 3501, 'true...and': 3502, 'redeemed': 3503, 'sacrifice': 3504, 'fallacies': 3505, 'attributed': 3506, 'inherent': 3507, 'motivation,': 3508, 'motivation': 3509, 'self-centeredness': 3510, 'beings.': 3511, \"world's\": 3512, 'expressions': 3513, 'nature...christianity': 3514, 'judaism': 3515, 'exceptions.': 3516, 'correct...except': 3517, 'seven': 3518, 'fo\\ufeffol.': 3519, 'paul': 3520, 'apostle,': 3521, 'fool': 3522, 'fo\\ufeffol...period.': 3523, 'saddest': 3524, 'result,': 3525, 'machinations': 3526, 'influenced': 3527, 'inestimable': 3528, 'bible,': 3529, 'scouty': 3530, 'misquote': 3531, 'figured': 3532, '5.': 3533, 'healthcare,': 3534, 'information,': 3535, 'medicine,': 3536, 'transexuals': 3537, \"1970's\": 3538, \"80's.\": 3539, 'sick,': 3540, 'satan': 3541, 'satan.': 3542, 'thankfully': 3543, 'pee': 3544, 'odd': 3545, 'fantasy.': 3546, 'sb,': 3547, 'pee,': 3548, 'watches': 3549, 'bathroom?': 3550, 'about,': 3551, 'agreement': 3552, 'socialismless': 3553, 'reason,': 3554, 'ms.': 3555, 'pantyhose?': 3556, 'wisdom': 3557, 'high-risk': 3558, 'liability': 3559, 'be,': 3560, 'pantyhose': 3561, 'entangled': 3562, 'ankles,': 3563, 'unknown': 3564, 'unbeknownst,': 3565, 'forewarn': 3566, 'potential': 3567, 'danger?': 3568, 'pantyhose,': 3569, 'next,': 3570, 'dresses,': 3571, 'deeming': 3572, 'unnecessary': 3573, 'risk': 3574, 'room?': 3575, '0/10': 3576, '-1/10': 3577, 'forbid': 3578, 'danger': 3579, 'happen,': 3580, 'active': 3581, 'imagination.': 3582, 'dresses?': 3583, 'freaked': 3584, 'forgot': 3585, 'yours,': 3586, 'clearly...': 3587, 'drug?': 3588, 'gibberish->english': 3589, 'translator': 3590, 'gay/tg': 3591, 'stated.': 3592, 'phrasing.': 3593, 'redefining': 3594, 'disagreement': 3595, 'saying.': 3596, 'questions': 3597, 'mentioned.': 3598, 'desperately': 3599, 'that.its': 3600, 'drug.': 3601, 'want,': 3602, 'impossible': 3603, 'tiresome': 3604, 'agreeing': 3605, 'liking': 3606, 'transgenders,': 3607, 'otherwise.': 3608, 'opinions.': 3609, \"aren't...but\": 3610, 'am....': 3611, 'actually,': 3612, 'leak': 3613, 'plausible': 3614, 'hypothesis,': 3615, 'customized': 3616, 'enhancements;': 3617, 'nevertheless,': 3618, 'alinsky': 3619, 'playbook.': 3620, 'trans': 3621, 'bathroom/facilities': 3622, 'potentially': 3623, 'explosive': 3624, 'situations.': 3625, 'thrive': 3626, 'really,': 3627, 'distraction.': 3628, 'room,': 3629, 'in...that': 3630, 'rooms': 3631, 'transgenders...they': 3632, 'scares': 3633, 'me...rapists': 3634, 'confirming': 3635, 'bathroom.': 3636, 'insisting': 3637, 'certificate.': 3638, 'subset': 3639, '\"law\"': 3640, 'ssm.': 3641, 'ruling': 3642, 'rights?': 3643, 'ruling?': 3644, '*crickets': 3645, 'killer': 3646, 'deflected': 3647, 'weapon.': 3648, 'then.': 3649, \"they'd\": 3650, 'legacy': 3651, 'bruce': 3652, 'springsteen,': 3653, 'ringo': 3654, 'starr,': 3655, 'corporations': 3656, 'condemned/boycotted': 3657, 'states?': 3658, '.....': 3659, 'crickets...': 3660, 'outrage,': 3661, 'liberals?': 3662, 'jim': 3663, 'crow': 3664, 'per\\u2060version?': 3665, 'nons\\u2060ense': 3666, 'face;': 3667, 'fourth': 3668, \"he'll\": 3669, 'eventually': 3670, 'c\\u2060o\\u2060w\\u2060ard': 3671, 's\\u2060h\\u2060u\\u2060t': 3672, '\"answer\"': 3673, 'asked,': 3674, '4th': 3675, 'cares?': 3676, 'awsome': 3677, 'ruins': 3678, 'finances': 3679, 'ag': 3680, 'becomes': 3681, 'ncs': 3682, 'govener.': 3683, 'crying.': 3684, 'bedrooms': 3685, 'repulsive': 3686, 'singled': 3687, 'outage': 3688, 'dennis': 3689, 'hastert,': 3690, 'foley': 3691, 'crimes?': 3692, 'celebrities?': 3693, 'monkeys': 3694, 'howlling': 3695, 'collection': 3696, 'dependent': 3697, 'king.': 3698, \"doesn't.\": 3699, 'leader.': 3700, 'legally': 3701, 'do,': 3702, 'consume': 3703, 'controlled': 3704, 'substances': 3705, 'recreational': 3706, 'usage,': 3707, 'imaginary': 3708, 'agency,': 3709, 'branch,': 3710, 'pulls': 3711, 'car,': 3712, 'drive\".': 3713, '\"why,': 3714, 'break?\"': 3715, '\"my': 3716, 'again.\"': 3717, 'unconstitutional.\"': 3718, 'jail.\"': 3719, 'me?\"': 3720, 'hair': 3721, 'cut\".': 3722, 'resident': 3723, 'oval': 3724, 'office...': 3725, 'plus': 3726, 'portion': 3727, 'demoratic': 3728, 'base...': 3729, 'demorats': 3730, \"id's\": 3731, 'booths.': 3732, 'incompetent': 3733, 'anti': 3734, 'hacks': 3735, \"obama's.\": 3736, 'enforcing': 3737, 'sarah': 3738, 'root,': 3739, 'omaha,': 3740, 'neb.,': 3741, 'slammed': 3742, 'hers': 3743, 'racing.': 3744, 'unaccompanied': 3745, 'minor,': 3746, 'brushes': 3747, 'vaughan.': 3748, '“the': 3749, 'detectives': 3750, 'detainer': 3751, 'mejia,': 3752, 'priority': 3753, 'crime,”': 3754, '“he': 3755, 'bail': 3756, 'disappeared,': 3757, 'scandal': 3758, 'ice.”': 3759, 'instance,': 3760, 'johnny': 3761, 'josue': 3762, 'sanchez,': 3763, '21,': 3764, 'honduran': 3765, 'times,': 3766, 'allegedly': 3767, 'homeless': 3768, 'vacant': 3769, 'angeles.': 3770, 'combination': 3771, 'angeles’s': 3772, 'disinterest': 3773, 'sanchez': 3774, '“minor”': 3775, 'offenses': 3776, 'resulted': 3777, 'tragedy.': 3778, 'marilyn': 3779, 'pharis,': 3780, '64-year-old': 3781, 'air': 3782, 'brutally': 3783, 'bludgeoned': 3784, 'claw': 3785, 'hammer': 3786, '24,': 3787, '2015,': 3788, 'victor': 3789, 'aureliano': 3790, 'martinez': 3791, 'ramirez,': 3792, '29,': 3793, 'six': 3794, '15': 3795, 'charged': 3796, 'grant': 3797, 'citizenship': 3798, '11.6': 3799, '6.6': 3800, 'citizens?': 3801, 'insurgents': 3802, 'indeed,': 3803, 'background,': 3804, 'sealed': 3805, 'scrubbed': 3806, 'websites,': 3807, 'altered': 3808, 'documents,': 3809, 'unanswered': 3810, 'blocked': 3811, 'medical,': 3812, 'records?': 3813, 'headlines': 3814, 'marvels,': 3815, 'mystery': 3816, 'perplexing': 3817, 'identities': 3818, 'possessing': 3819, 'orly': 3820, 'taitz,': 3821, 'filed': 3822, 'eligibility': 3823, 'discover': 3824, 'suit,': 3825, 'refusing': 3826, 'ineligible': 3827, 'chief,': 3828, 'hired': 3829, 'investigator': 3830, 'neil': 3831, 'addresses': 3832, 'intelius,': 3833, 'lexis': 3834, 'nexis,': 3835, 'connected': 3836, '25,': 3837, 'searched': 3838, 'fake': 3839, 'phoenix': 3840, '713': 3841, 'hart': 3842, 'attended': 3843, 'harvard': 3844, 'addresses,': 3845, '2005,': 3846, 'apartment': 3847, 'nw;': 3848, 'yet,': 3849, 'later,': 3850, 'bro': 3851, 'spanish': 3852, 'interpreter': 3853, '24/7.': 3854, 'suspected': 3855, 'cups': 3856, 'ascertain': 3857, 'honduras': 3858, 'twice': 3859, 'request': 3860, 'up,..which': 3861, 'promptly': 3862, 'loose\"': 3863, \",that's\": 3864, 'connectcut': 3865, '1898': 3866, 'french': 3867, '1960': 3868, '1961......': 3869, 'obamma': 3870, '1961': 3871, 'mother': 3872, 'collected': 3873, \"'s\": 3874, 'people.......': 3875, 'r': 3876, 'insurgent': 3877, 's?': 3878, '1898?': 3879, 'sure?': 3880, 'originally': 3881, '1898.': 3882, 'date': 3883, 'belly': 3884, 'boarder': 3885, 'crawlin': 3886, 'mexitrash': 3887, 'sancuary': 3888, 'anyway?': 3889, 'else?': 3890, 'kinda': 3891, 'names.': 3892, 'later.': 3893, '\"democrats\"': 3894, 'abetting,': 3895, 'obstruction': 3896, 'stick.': 3897, 'scotsman': 3898, 'overstaying': 3899, 'visa': 3900, 'departure': 3901, 'lax': 3902, 'barred': 3903, 'returning,': 3904, 'consultant': 3905, 'abroad': 3906, 'american,': 3907, 'harsh': 3908, 'spoke': 3909, 'intellectual': 3910, 'colonel': 3911, 'sanders.': 3912, 'dim.': 3913, '\"illegal\"': 3914, \"dim's\": 3915, 'understand?': 3916, 'enforced?': 3917, \"hillary's\": 3918, 'blacklivesmatter.': 3919, 'injustices': 3920, 'streets?': 3921, 'works.': 3922, 'protesters': 3923, 'dallas': 3924, 'fraternal': 3925, 'explain.': 3926, 'dnc': 3927, 'convention': 3928, 'audience': 3929, 'jeered': 3930, 'officers.': 3931, 'white,': 3932, 'asian,': 3933, 'protesting': 3934, 'done?': 3935, 'demokkkrat': 3936, 'bigot': 3937, 'shalom': 3938, 'clm.': 3939, 'johnson,': 3940, 'illegally.': 3941, 'all,,,,,,,': 3942, 'crminals': 3943, 'deported,': 3944, 'commit': 3945, 'crimes.': 3946, 'protected,': 3947, 'ordered': 3948, 'when??': 3949, 'civilians': 3950, 'apprehend': 3951, 'ice.': 3952, 'agents,': 3953, 'hugely': 3954, 'expand': 3955, 'forces': 3956, 'street.': 3957, 'e-verify': 3958, 'undocumented': 3959, 'u.s.a.': 3960, 's,overeign': 3961, 'diluted': 3962, 'hunter': 3963, '.......': 3964, 'alive/': 3965, 'suprisied': 3966, 'team..........': 3967, 'swim': 3968, 'joke': 3969, 'brough': 3970, 'later': 3971, 'olympics,': 3972, 'didnt': 3973, 'deleted,,,': 3974, 'fence-climbing': 3975, 'event......': 3976, 'eh,': 3977, ',,,': 3978, 'ask?,,': 3979, 'grubers': 3980, 'fraud,': 3981, 'leftist': 3982, 'lemmings,': 3983, 'mediamatters': 3984, 'happened.': 3985, 'dummycrap': 3986, 'districts': 3987, 'sector.': 3988, 'unqualified': 3989, 'tenured': 3990, 'increases.': 3991, 'functions': 3992, 'function': 3993, 'impose': 3994, 'housed': 3995, 'grounds.': 3996, 'determination': 3997, 'individual.': 3998, 'extent': 3999, 'liable': 4000, 'damages': 4001, 'imposing': 4002, 'anti-': 4003, 'asault': 4004, 'ceased': 4005, 'credence': 4006, 'accorded': 4007, '\"sanctuary\"': 4008, 'virulent': 4009, 'secularists': 4010, 'bolster': 4011, 'districting': 4012, 'purposes.': 4013, 'afactor': 4014, 'tenet': 4015, 'contrived,': 4016, 'legislator,pelosi': 4017, 'biden': 4018, 'mind,purporting': 4019, 'excommunicated.': 4020, 'bastion': 4021, 'minorities.': 4022, 'religionhas': 4023, 'amoral': 4024, 'athiest...': 4025, 'cutting': 4026, 'dandy': 4027, 'faster': 4028, 'attitude': 4029, 'abeting': 4030, 'commission': 4031, 'papers': 4032, '(fraud)': 4033, 'refuge': 4034, 'individuals': 4035, 'appealing': 4036, 'recognition': 4037, 'gilt': 4038, 'apprehension': 4039, 'safely': 4040, 'present': 4041, 'led': 4042, 'brake': 4043, 'granting': 4044, 'thereof.': 4045, 'counts': 4046, 'border,': 4047, 'drown': 4048, 'rio': 4049, 'grande': 4050, 'deportations': 4051, 'ltfol': 4052, 'crisis....': 4053, 'demoncrats': 4054, 'continuing': 4055, 'destabilize': 4056, 'people....': 4057, 'peoples': 4058, 'choice...ceo': 4059, 'competent': 4060, 'evident': 4061, 'runnig': 4062, 'patriotic,': 4063, 'content': 4064, 'administrator': 4065, 'suppoing': 4066, 'america...trump': 4067, 'efect': 4068, 'american....': 4069, '...fact': 4070, 'fiction': 4071, 'todays': 4072, 'accomplished': 4073, 'dividing': 4074, 'undermining': 4075, 'governing': 4076, 'principles....we': 4077, '????????': 4078, 'isnt': 4079, 'oxymoron???': 4080, '\"dangerous': 4081, 'immigrants\",': 4082, '\"democratic': 4083, 'voters\".': 4084, 'brain-dead.': 4085, 'count?': 4086, 'registered.': 4087, 'demrats': 4088, 'gated': 4089, 'comunities': 4090, 'cars': 4091, 'busses': 4092, 'planes': 4093, 'trains,': 4094, 'h2o': 4095, 'muslims..........': 4096, 'long,,,,,,': 4097, 'gov.': 4098, 'ebt,': 4099, 'etc.......': 4100, 'own.': 4101, 'stores': 4102, 'fixed': 4103, 'cincyman': 4104, 'upon': 4105, 'correctness?': 4106, 'vote.': 4107, 'maximum': 4108, 'abort': 4109, 'alcohol': 4110, 'madness...trump': 4111, 'pence': 4112, 'empty': 4113, 'corner.': 4114, 'failing.': 4115, 'bankrupt': 4116, 'nation...': 4117, 'thee': 4118, '<<<': 4119, 'adolph.': 4120, 'meds...or': 4121, \"how's\": 4122, 'obamacare': 4123, \"gov't\": 4124, 'works.quick': 4125, 'summary': 4126, 'hsa': 4127, 'plan.': 4128, 'mail': 4129, 'gov': 4130, 'you????': 4131, 'indian......': 4132, 'henery': 4133, 'ford': 4134, 'wise': 4135, 'indian': 4136, '\"sure': 4137, 'trust': 4138, 'government\".': 4139, 'once......and': 4140, '\"wise\"': 4141, 'venezuela?': 4142, 'cure': 4143, 'stupidity': 4144, 'reed': 4145, 'hang': 4146, 'vermin.': 4147, 'certificates': 4148, 'hanging': 4149, 'coddling': 4150, 'la': 4151, '\"needed\"': 4152, '\"day': 4153, 'mexican\"': 4154, 'stayed': 4155, 'protest.': 4156, 'backfired': 4157, 'traffic': 4158, 'freeways': 4159, '(unheard': 4160, 'la),': 4161, 'functioned': 4162, 'issue,': 4163, \"mex's\": 4164, 'exhibiting': 4165, 'collateral': 4166, 'damage': 4167, 'lefts': 4168, 'quest': 4169, 'brown...': 4170, 'government,': 4171, 'cooperate': 4172, 'governments': 4173, 'amok': 4174, 'deportation?': 4175, 'problem....': 4176, 'ourselves': 4177, 'minds,': 4178, 'govt.': 4179, 'agencies': 4180, 'feds': 4181, 'custody,': 4182, 'advocates': 4183, 'subject’s': 4184, 'rights\"': 4185, 'non-citizens': 4186, 'complete.': 4187, 'jeh': 4188, 'johnson': 4189, 'hack.': 4190, 'arizona': 4191, 'flooded': 4192, 'agency': 4193, 'joe': 4194, \"arpaio's\": 4195, 'maricopa': 4196, 'county': 4197, \"sheriff's\": 4198, 'office,': 4199, 'felons.': 4200, 'neighborhoods': 4201, 'spout': 4202, 'ridding': 4203, 'joe.': 4204, 'reelected.': 4205, 'here.........': 4206, '\"except': 4207, 'lawyers\"': 4208, 'pole': 4209, 'vaulting': 4210, \"teams...you're\": 4211, 'it.\"': 4212, '--donald': 4213, 'seems,': 4214, 'witnessed': 4215, 'seattle': 4216, '\"city': 4217, 'workers\"': 4218, 'backhoe': 4219, 'bucket': 4220, 'olympics.': 4221, 'olympics': 4222, 'embarrassed.': 4223, 'deleted': 4224, 'land,': 4225, 'occupation.': 4226, 'committing': 4227, 'deported.': 4228, 'biometric': 4229, 'scanned': 4230, 'paperwork': 4231, 'trip': 4232, 'chaingang': 4233, 'fixing': 4234, \"if's\": 4235, 'ands': 4236, 'buts.': 4237, 'circumcise': 4238, 'liberal?': 4239, 'boyfriend': 4240, 'chin.': 4241, 'winner': 4242, 'backed': 4243, 'officials': 4244, 'deciding': 4245, 'following......they': 4246, 'participation': 4247, 'louder': 4248, 'peoples.': 4249, 'dnc.': 4250, 'happening.': 4251, 'machines': 4252, 'break': 4253, 'riot': 4254, 'milwaukee?': 4255, 'paternity': 4256, 'tests': 4257, 'helicopter': 4258, 'crowd': 4259, 'applications....': 4260, 'boots': 4261, 'airplanes': 4262, 'aliens.': 4263, 'redundant?': 4264, 'dumbed': 4265, 'become.': 4266, 'country......': 4267, 'starve': 4268, 'democrat?': 4269, 'rob': 4270, 'democrat,': 4271, 'bike.': 4272, 'thief.': 4273, 'wasteful': 4274, 'ineffective': 4275, 'murders': 4276, 'many.': 4277, 'poetic': 4278, 'justice....': 4279, 'innocents': 4280, '(aka': 4281, 'non-liberals)': 4282, 'intolerable.': 4283, 'democrats.': 4284, 'happy?': 4285, 'murderer': 4286, 'states......and': 4287, '100,000': 4288, 'felon': 4289, 'anarchy.': 4290, 'chico.': 4291, 'movie': 4292, 'help.\"': 4293, 'fix.': 4294, 'a-hole': 4295, 'hand': 4296, 'criminals,': 4297, 'kills': 4298, 'manslaughter': 4299, 'negotiation,': 4300, 'bargaining,': 4301, 'responsible.': 4302, 'folks?': 4303, 'unacceptable,': 4304, 'dereliction': 4305, 'sworn': 4306, 'duty': 4307, 'charges': 4308, 'limitted': 4309, 'simple....not': 4310, 'agree...completely.': 4311, 'bury': 4312, 'foot': 4313, 'die?': 4314, '\"hand': 4315, 'out\"': 4316, 'bwaaaaa': 4317, 'wasted': 4318, 'bwaa': 4319, 'teabags': 4320, '<<': 4321, 'nothing?': 4322, 'santa': 4323, 'chimney.': 4324, 'senseless': 4325, 'violence.': 4326, 'fools': 4327, '\"pittsburg': 4328, 'steal\"': 4329, 'deceived.': 4330, '\"give': 4331, 'rich': 4332, 'independent?\"': 4333, 'freeloader': 4334, 'year....how': 4335, 'skippy.': 4336, 'ten': 4337, 'business.': 4338, 'seanny': 4339, 'farce': 4340, 'cooking': 4341, 'meth': 4342, '$40k.': 4343, 'said....how': 4344, 'herpes': 4345, 'hemorrhoids': 4346, 'madame': 4347, 'wookie': 4348, 'epitomy': 4349, 'arrogance': 4350, 'sef-righteousness': 4351, 'valerie': 4352, 'jarrett': 4353, 'ayers,': 4354, 'rv': 4355, 'wright.....ho': 4356, 'w': 4357, 'judgement..how': 4358, 'verbally': 4359, 'degrade': 4360, \"where's\": 4361, 'now?': 4362, 'tarzans': 4363, 'spoiled,': 4364, 'thankless,': 4365, 'america-hating': 4366, 'wicked': 4367, 'deneen,': 4368, 'betray': 4369, 'sisters?': 4370, 'channels': 4371, 'martin': 4372, 'luther': 4373, 'king': 4374, 'deride': 4375, 'her?': 4376, 'mature': 4377, 'beautiful': 4378, 'lady,': 4379, 'guise': 4380, 'neck': 4381, 'sermon': 4382, 'mound': 4383, 'heart.': 4384, 'race?': 4385, 'pleasure': 4386, 'defection,': 4387, 'poverty': 4388, 'prejudice': 4389, 'haunt': 4390, 'bone': 4391, 'body.': 4392, 'haunted': 4393, \"'channeling'\": 4394, 'channel.': 4395, 'color.': 4396, 'does.': 4397, 'lying...trump': 4398, 'us...he': 4399, 'legally.': 4400, 'calling?...': 4401, 'cupcakes...': 4402, 'radical': 4403, 'that.....not': 4404, 'think.': 4405, 'redecorate': 4406, 'nobama': 4407, 'sez.': 4408, 'apes': 4409, 'reach.': 4410, 'much?': 4411, \"callin'\": 4412, 'spade,': 4413, 'spade.': 4414, 'oops': 4415, 'african-american': 4416, 'african.....was': 4417, '“people': 4418, 'comeback.”': 4419, 'benefiting': 4420, 'minority?': 4421, 'bloviates': 4422, 'accepting': 4423, 'frakish,': 4424, 'progs': 4425, 'hypocritical.': 4426, 'hypocrite': 4427, 'elaborate': 4428, 'trips,': 4429, 'bed': 4430, 'nite.....': 4431, '(taxpayer': 4432, 'money)': 4433, 'vacations': 4434, 'equality.....': 4435, 'joke.....': 4436, 'america.....': 4437, 'grandkids': 4438, 'wardrobes': 4439, '$20,000.00-': 4440, 'dresses.': 4441, '\"waking': 4442, 'up\"': 4443, 'tens': 4444, 'productive': 4445, 'homes': 4446, 'families,': 4447, 'pushed': 4448, 'aside': 4449, 'immigrants,': 4450, ';': 4451, 'points': 4452, '(his': 4453, 'labor': 4454, '(legal': 4455, 'illegal)': 4456, 'benefits,': 4457, '\"official\"': 4458, 'massive,': 4459, 'huge,': 4460, 'grown': 4461, 'already;': 4462, 'reputation': 4463, 'showing': 4464, 'confussed': 4465, 'fraud\"': 4466, 'thin': 4467, 'skinned': 4468, 'fake\"': 4469, 'delete': 4470, 'sorry..did': 4471, 'this...the': 4472, 'friday': 4473, '“act': 4474, 'acceptable': 4475, 'substitute': 4476, 'thoughtful': 4477, 'debate,': 4478, 'intolerance': 4479, 'optimism': 4480, 'openness': 4481, 'engine': 4482, 'progress.\"': 4483, 'circumvents': 4484, 'whenever': 4485, 'occasions': 4486, 'violated': 4487, 'constitution??': 4488, 'is....': 4489, '\"hateful': 4490, 'eight\"': 4491, 'vacate': 4492, 'wh,': 4493, '19': 4494, 'vietnam': 4495, 'ugly.': 4496, 'marine': 4497, 'rvn': 4498, '9-67': 4499, '3-69': 4500, 'amtrak': 4501, 'cau': 4502, 'viet': 4503, '2/9': 4504, 'carroll': 4505, 'quang': 4506, 'tri': 4507, 'buffalo,': 4508, 'lol,': 4509, 'perfect.': 4510, 'transvestites': 4511, 'elated': 4512, 'locker': 4513, 'cares????': 4514, 'trashy': 4515, \"michele's\": 4516, 'party,': 4517, '18,': 4518, '20,': 4519, '22.': 4520, '6,': 4521, 'discussions\"': 4522, '\"lady\"?': 4523, 'obama-': 4524, 'ski': 4525, 'house...': 4526, 'senator,': 4527, 'qualifications.': 4528, 'poor--her': 4529, 'hospitals': 4530, 'michelle.': 4531, 'contract,': 4532, 'bucks': 4533, 'ride....nwcs': 4534, 'popular': 4535, 'nwcs....money': 4536, 'laundering.': 4537, 'architect,': 4538, '(african': 4539, 'european),': 4540, 'pot': 4541, 'kettle': 4542, 'drafting': 4543, 'nomination': 4544, 'bizaro,': 4545, 'indited?': 4546, 'off.......for': 4547, '7.5': 4548, 'years.........': 4549, 'condemn': 4550, '\"anger': 4551, 'intolerance\"': 4552, 'inflicted': 4553, 'jose,': 4554, 'ca.': 4555, 'woodwork?': 4556, 'lunches': 4557, 'face...': 4558, 'scary.': 4559, 'bumper': 4560, 'sticker': 4561, 'mooch-elles': 4562, 'stating': 4563, 'a55': 4564, 'truck': 4565, 'fat?': 4566, 'curious...why': 4567, \"'good\": 4568, 'question...': 4569, 'lady,who': 4570, 'ride': 4571, 'n': 4572, 'spoken': 4573, 'wookie.': 4574, 'grinch': 4575, 'stole': 4576, 'christmas?\"': 4577, 'immigration.': 4578, 'arrive': 4579, 'beverage,': 4580, 'chat.': 4581, 'garbage,': 4582, 'invite': 4583, 'door.': 4584, 'in,': 4585, 'settled,': 4586, 'door': 4587, 'ok,': 4588, \"we'll\": 4589, 'otherwise,': 4590, 'written,': 4591, 'ad': 4592, 'eyes,': 4593, 'moochell': 4594, 'at..': 4595, 'hideously': 4596, 'ugly..': 4597, 'pathetically': 4598, 'uncalled': 4599, 'inappropriate.': 4600, 'developed,': 4601, 'nerve,': 4602, 'truth?': 4603, '\"cards\"': 4604, 'carve': 4605, 'b.s.': 4606, 'liberalbeliefs.': 4607, 'for/criticized': 4608, 'legitimately...': 4609, 'out...\"': 4610, '\"walls\"': 4611, 'clueless,': 4612, 'pro-illegal': 4613, 'immigration,': 4614, 'leftytool.': 4615, 'guarded': 4616, 'guys': 4617, 'guns,': 4618, 'lectures': 4619, 'yeeeeup.': 4620, '(actually,': 4621, 'fence,': 4622, 'it?)': 4623, 'speech?': 4624, 'trump?': 4625, 'inappropriate....and': 4626, 'tacky.': 4627, 'shame.': 4628, 'lives?': 4629, 'place.': 4630, 'interact': 4631, 'barack...she': 4632, 'strap': 4633, 'jesus,': 4634, 'bus': 4635, 'again?': 4636, 'dignity': 4637, 'rutgers': 4638, 'nj': 4639, 'graduates': 4640, 'fluff': 4641, 'trump...what': 4642, 'sorting': 4643, 'graduates.': 4644, 'maketheunitedstatesgreatagain.com': 4645, 'red': 4646, 'shipping': 4647, 'coast,': 4648, 'vendor': 4649, 'campaign.': 4650, 'swipes': 4651, 'opponent': 4652, \"party's\": 4653, 'candidates?': 4654, 'goodness': 4655, 'sake,': 4656, 'michele.': 4657, 'reveals': 4658, 'grace': 4659, \"nation's\": 4660, 'ticked': 4661, 'elected,': 4662, 'celebrated': 4663, 'michael.': 4664, 'he/she': 4665, 'envy.': 4666, 'kitchen??is': 4667, 'beter': 4668, 'brother': 4669, 'trumpet': 4670, '9.6%': 4671, 'rate.': 4672, \"osym's\": 4673, 'relevant.': 4674, 'expected': 4675, 'language.': 4676, 'down,': 4677, 'wholly': 4678, 'contact': 4679, 'prime': 4680, 'oceanfront': 4681, 'cheap': 4682, 'downtown': 4683, 'memphis': 4684, 'tennessee.': 4685, 'atlantic': 4686, 'pacific': 4687, 'ocean.': 4688, ',suppose': 4689, 'downtrodden': 4690, 'tapped': 4691, 'lucky': 4692, 'potus,': 4693, 'anyway,': 4694, 'twice.': 4695, 'undercover': 4696, 'michelle?': 4697, 'all?': 4698, 'suggestion': 4699, '\"different\"': 4700, 'whey': 4701, 'come.': 4702, 'catch': 4703, 'tony': 4704, 'd.c.': 4705, 'neighborhood,': 4706, 'daughters,': 4707, 'coffee': 4708, 'morning.': 4709, '2017': 4710, 'enough,': 4711, 'bon': 4712, 'voyage': 4713, 'michells': 4714, 'husband..': 4715, 'owe': 4716, 'results.': 4717, 'trillion,': 4718, 'year..': 4719, 'libertards..': 4720, 'majority.': 4721, '(sarc)': 4722, 'reside': 4723, 'shame?': 4724, 'pearl': 4725, 'apologizes': 4726, 'reprehensible': 4727, 'act.': 4728, 'plows': 4729, 'bong': 4730, 'nightly': 4731, 'unbelievable': 4732, 'shots': 4733, 'jv': 4734, 'joke....': 4735, 'wh': 4736, 'oblunder': 4737, 'divided': 4738, 'horse': 4739, 'tooth': 4740, 'jungle': 4741, 'creaturrrrre': 4742, 'moooooochel': 4743, 'swiping': 4744, '$': 4745, 'gutter': 4746, 'crust': 4747, 'swiping.': 4748, 'michael': 4749, 'he.': 4750, 'buckwheat': 4751, 'dude.': 4752, '\"experience\"': 4753, 'a…': 4754, 'wondered': 4755, 'planes,': 4756, 'together..': 4757, 'baiting': 4758, 'husband.': 4759, 'obimbo': 4760, 'wednesday,': 4761, 'husband,': 4762, 'indiana,': 4763, '“republican': 4764, 'nominee”': 4765, '“crazy”': 4766, 'ideas,': 4767, '11': 4768, 'states.': 4769, 'depo': 4770, 'em': 4771, 'joan': 4772, 'rivers': 4773, 'critique': 4774, 'comedy.': 4775, 'critize': 4776, 'like.': 4777, 'somehow,': 4778, 'clinton’s': 4779, 'presidency': 4780, 'alleges': 4781, 'presumptive': 4782, '“lacks': 4783, 'temperament': 4784, 'honestly...': 4785, 'barrack': 4786, 'insane': 4787, 'transformation': 4788, 'firlmy': 4789, 'boundary...im': 4790, 'cynical': 4791, 'argumebt': 4792, 'severely': 4793, 'hateful.': 4794, 'context': 4795, 'victims.': 4796, 'victimizing': 4797, 'victimize': 4798, 'them)': 4799, 'mistreated': 4800, 'descent': 4801, 'obsess': 4802, 'blood,': 4803, 'rarely': 4804, 'treated.': 4805, 'documented': 4806, 'tent': 4807, 'borders,': 4808, 'face.': 4809, 'boundaries': 4810, '..with': 4811, 'sure,': 4812, 'ths': 4813, 'sister': 4814, 'cleo??': 4815, 'cleo': 4816, 'impressive.': 4817, 'marries': 4818, 'degrades': 4819, 'spiteful': 4820, 'empowered.': 4821, 'moocher': 4822, 'pulpit.': 4823, 'world;': 4824, 'cherrypicking': 4825, 'patients': 4826, 'salary': 4827, 'worth,': 4828, 'hate-speech': 4829, 'setting': 4830, 'earn,': 4831, 'remembering.': 4832, 'slavic;': 4833, 'realizing': 4834, 'predecessors': 4835, 'divisive': 4836, 'uttered,': 4837, 'opportunities': 4838, 'failures,': 4839, 'worldwide': 4840, 'disarray': 4841, 'enemies': 4842, 'fronts': 4843, 'lithuanian': 4844, 'here...with': 4845, 'g-grandmum': 4846, 'czar': 4847, '10%': 4848, 'predated': 4849, 'scottish': 4850, 'jew...but': 4851, 'regarded': 4852, 'murderedf': 4853, 'falls': 4854, 'rally': 4855, 'attendees': 4856, 'jose': 4857, 'supporters.': 4858, 'glance': 4859, '\"husband\\'s\"': 4860, 'his.': 4861, 'pair.': 4862, 'cheering': 4863, 'egyptian': 4864, 'hebrew': 4865, 'pyramids??': 4866, 'stage': 4867, 'protests': 4868, 'eggs,': 4869, 'maybe.': 4870, 'press': 4871, 'egypt': 4872, 'reparations.': 4873, 'thousand': 4874, 'commemorating': 4875, 'egypt.': 4876, 'obummers': 4877, \"'african'\": 4878, '\"built': 4879, 'slaves\"': 4880, 'hypocrisy': 4881, 'fills': 4882, 'darts': 4883, 'use?': 4884, 'families.': 4885, 'mrs.': 4886, 'smart,': 4887, \"she'll\": 4888, 'quote': 4889, '\"protests': 4890, 'page': 4891, 'ago\"': 4892, '...not': 4893, 'in...': 4894, 'prison.': 4895, 'cellmate': 4896, 'rapidly': 4897, 'gray': 4898, 'tired,': 4899, 'attractive.': 4900, 'mooch': 4901, 'aunt': 4902, 'esther': 4903, 'cataracts': 4904, 'worry': 4905, 'moochel': 4906, 'sexually': 4907, 'billy.': 4908, '...no': 4909, \"trump's\": 4910, 'out...fortrump....': 4911, 'f': 4912, 'beast': 4913, 'racists': 4914, 'lynching,': 4915, 'abusing,': 4916, 'owed': 4917, 'tramp': 4918, 'transparent': 4919, '\"race': 4920, 'card\"': 4921, '????': 4922, 'trouble..': 4923, 'visit': 4924, 'thread': 4925, 'gutter.': 4926, 'someday,': 4927, 'wishful': 4928, 'thinking.': 4929, 'fair,': 4930, 'hatred,': 4931, 'vitriol,': 4932, 'them...over': 4933, 'multi': 4934, 'hospital....was': 4935, 'patient': 4936, 'dumping': 4937, 'scheme.': 4938, 'sources': 4939, 'comment?': 4940, 'toolbar': 4941, 'educate': 4942, 'yourself...if': 4943, 'type?': 4944, 'apologize.': 4945, 'covered': 4946, '8th': 4947, 'today?': 4948, \"'re\": 4949, '\"we\"?': 4950, 'storm....try': 4951, 'recall': 4952, 'rolled': 4953, 'gutter...as': 4954, 'say.....over': 4955, 'palin.': 4956, 'respect....why?': 4957, 'topic': 4958, 'reacting': 4959, 'lol...not': 4960, \"hillary...you're\": 4961, 'too...': 4962, 'great.': 4963, 'impeached.': 4964, 'impeached': 4965, 'dynamic': 4966, 'duo\"': 4967, 'linebacker': 4968, 'nfl....': 4969, 'bitter': 4970, 'skunk-ape.': 4971, 'sigh.': 4972, 'she?': 4973, 'nope.': 4974, 'embarrassment': 4975, 'vacuous': 4976, 'anywhere': 4977, 'was.': 4978, 'behind.': 4979, 'gang': 4980, 'longer.': 4981, 'promises': 4982, '(if': 4983, 'elected)': 4984, \"'progress'.\": 4985, 'gaffes,': 4986, 'wake.': 4987, 'milk?': 4988, 'pedophile,': 4989, 'ex-navy,': 4990, 'choices.': 4991, 'lollypop?': 4992, 'rainbow': 4993, 'deserving': 4994, 'honor.': 4995, 'organizations': 4996, 'ceremony': 4997, 'pendleton': 4998, 'moh': 4999, 'basilone': 5000, '(second': 5001, 'warship': 5002, 'ddg)': 5003, 'narrative': 5004, 'song': 5005, '\"anchors': 5006, 'away\"': 5007, '\"in': 5008, 'navy\"': 5009, 'sailor': 5010, 'seriously.': 5011, 'j.': 5012, 'christopher': 5013, 'stevens,': 5014, 'tyrone': 5015, 'woods,': 5016, 'glen': 5017, 'doherty,': 5018, 'smith...american': 5019, 'heroes': 5020, 'lifestyle,': 5021, 'stomached.': 5022, 'backdoor': 5023, 'commissioned?': 5024, 'usns': 5025, 'milk.': 5026, 'aft': 5027, 'boarding': 5028, 'only.': 5029, 'blow': 5030, 'jeffrey': 5031, 'dahmer': 5032, 'understand.': 5033, 'sea-men.': 5034, 'minimum??': 5035, 'milk.................': 5036, 'ferry...............': 5037, 'fairy': 5038, 'crewed': 5039, 'auxiliary': 5040, 'general.': 5041, 'f.a.g.': 5042, 'oils': 5043, 'hauls': 5044, 'effluence?': 5045, 'guess,': 5046, 'rumpranger': 5047, 'oiler': 5048, 'option.': 5049, 'watering': 5050, 'tsunami': 5051, 'wash': 5052, \"fran's\": 5053, 'machine': 5054, 'rev': 5055, 'cons---': 5056, 'quickly': 5057, 'irrelevant.': 5058, 'christ-like': 5059, 'tighter,': 5060, 'meanness': 5061, 'evangelizing': 5062, 'here;': 5063, 'tomorrow': 5064, 'us?': 5065, 'habit.': 5066, 'proclivity': 5067, 'dismisses': 5068, 'hand.': 5069, 'us-we': 5070, 'liberal/lamocrats,like': 5071, 'you.maybe': 5072, 'orlando.': 5073, 'embarrassing': 5074, '....and': 5075, 'gleefully': 5076, 'embraced': 5077, \"'normal'.\": 5078, 'lace': 5079, 'deck': 5080, 'flows': 5081, 'keyboards': 5082, '\"christians\"': 5083, 'buttsex': 5084, '1912?': 5085, 'stds': 5086, 'resistant': 5087, 'libidinous': 5088, 'chastity': 5089, 'bathrooms.': 5090, 'gomer.': 5091, 'hiv.': 5092, 'partner,': 5093, 'believe.': 5094, 'hahahahahahahahahahahahahahahaha': 5095, 'co-worker': 5096, 'gays.': 5097, 'hahahahahahahaha': 5098, 'heel': 5099, 'clicking': 5100, 'stories....': 5101, 'sharing': 5102, 'pity': 5103, 'ship.': 5104, 'iranians': 5105, 'patrol': 5106, 'capture': 5107, 'welp,': 5108, 'boys.': 5109, '\"we,\"': 5110, 'sing': 5111, 'eye': 5112, 'filmed': 5113, 'homoerotic': 5114, 'destroyers.': 5115, '\"conservative\"': 5116, 'dinosaurs.': 5117, 'beauty': 5118, 'rights,': 5119, 'candidates,': 5120, 'counts.': 5121, 'extremist': 5122, 'fringe': 5123, 'gfy': 5124, 'greece': 5125, 'bc....you': 5126, 'regressives': 5127, 'roman': 5128, 'empire?': 5129, 'over,': 5130, 'empire': 5131, 'fell.': 5132, 'wth': 5133, 'pedophiles?': 5134, 'count-': 5135, 'hetero': 5136, 'phobic.': 5137, 'imploded': 5138, 'further?': 5139, 'gay.': 5140, '\"really': 5141, 'gay\"': 5142, 'outspoken': 5143, 'fu_kin': 5144, 'pedo': 5145, 'tanker.the': 5146, 'usn': 5147, 'hill.': 5148, 'deplorable': 5149, 'u.c.m.j.': 5150, '\"don\\'t': 5151, 'tell,': 5152, 'ask\"': 5153, 'homosexuality': 5154, 'beastity': 5155, 'window.': 5156, 'goes.': 5157, 'cesspool': 5158, 'much.': 5159, 'chelsea': 5160, 'billy': 5161, 'running.': 5162, 'shadows': 5163, 'tinfoil': 5164, 'rays': 5165, 'f*ggots.': 5166, 'fanatical': 5167, 'conservative.': 5168, 'anti-gay': 5169, 'agenda?': 5170, 'william': 5171, 'jefferson': 5172, 'torpedo': 5173, 'trials.': 5174, 'islamists.': 5175, 'image.': 5176, 'relations': 5177, 'enlisted': 5178, 'unacceptable': 5179, 'secretary': 5180, 'ray': 5181, 'mabus;': 5182, 'traitor.': 5183, 'eyeseeit': 5184, 'correction;': 5185, 'woke': 5186, 'soho': 5187, 'doorway,': 5188, 'policeman': 5189, '\"you': 5190, 'tonight': 5191, 'walk': 5192, 'away.\"': 5193, 'underground': 5194, 'breeze': 5195, 'hair.': 5196, 'throwing': 5197, 'punches': 5198, 'preaching': 5199, 'chair.': 5200, ';something': 5201, 'you\"ll': 5202, 'enjoy;': 5203, 'g.f.y.': 5204, 'manhood': 5205, 'dignity.mine': 5206, 'tact,fudgepounder.': 5207, 'aww,': 5208, 'adorable': 5209, 'argument,': 5210, 'upping': 5211, 'ante': 5212, 'rude': 5213, 'insults.': 5214, 'long,fairy.': 5215, ',vietnam': 5216, 'combat': 5217, 'vet,mekong.honorable': 5218, 'discharge,purple': 5219, \"heart,etc.etc.what's\": 5220, 'america,pogeybait': 5221, \"wasn't.\": 5222, 'politician': 5223, 'votes.': 5224, 'navy,': 5225, 'homosexuals': 5226, 'distinction': 5227, 'openly': 5228, 'brag': 5229, 'exploits': 5230, 'institute': 5231, 'will.': 5232, 'interestingly,': 5233, 'site.': 5234, 'honorable.': 5235, 'presence': 5236, 'than\"': 5237, 'says.': 5238, 'unusual': 5239, 'wrong...': 5240, 'discharged,': 5241, 'objection': 5242, 'fueled': 5243, 'derisive': 5244, \"article's\": 5245, 'bottom.': 5246, 'vessel': 5247, 'oiler.': 5248, 'jokes': 5249, '$40': 5250, 'politicize': 5251, 'experiment': 5252, 'below': 5253, 'above)': 5254, 'kneel': 5255, 'behind...': 5256, 'icon': 5257, 'foley?': 5258, 'bobbling': 5259, 'asking.': 5260, 'expert': 5261, '(experience': 5262, 'counts).': 5263, 'disagree': 5264, 'understood': 5265, 'served,': 5266, 'alliances': 5267, 'obsession': 5268, 'sickness.': 5269, 'job.........babysitting': 5270, \"mom's\": 5271, 'pedophilia,': 5272, 'lashing': 5273, 'psychological': 5274, 'diagnosis': 5275, 'and/or': 5276, 'solving': 5277, 'puzzle': 5278, 'banana?': 5279, 'reference?': 5280, 'monkey....in': 5281, 'were,': 5282, 'attack.': 5283, 'thought..': 5284, 'dense': 5285, 'demonizing': 5286, 'pedophilia.': 5287, 'dangerous.': 5288, 'well,your': 5289, 'question,given': 5290, 'postings;right': 5291, 'happen?': 5292, 'rhetorical': 5293, 'sea.': 5294, 'disgusting.': 5295, '\"milk\\'s': 5296, 'career': 5297, 'officer,': 5298, 'discharge,\"': 5299, 'yup': 5300, 'after.': 5301, 'preferences,': 5302, 'performance': 5303, 'officer.': 5304, 'preferences': 5305, 'performance....': 5306, 'painted': 5307, 'hull....': 5308, 'harms': 5309, 'matter?': 5310, 'technically,': 5311, 'anymore': 5312, 'gotrumpforamerica': 5313, 'margaret': 5314, 'sanger': 5315, 'ss': 5316, 'sandusky': 5317, 'reverse?': 5318, 'pitcher,': 5319, 'catcher': 5320, 'mode': 5321, 'fear': 5322, 'enemies....': 5323, 'afraid': 5324, 'rear': 5325, 'ferry': 5326, 'boat...': 5327, 'wellsaid': 5328, 'pink,': 5329, 'a55hole': 5330, 'rudder': 5331, 'dix': 5332, 'unfrigginbelievable.': 5333, 'cruise': 5334, 'shores': 5335, 'iran.....a': 5336, 'threat': 5337, 'evinrude': 5338, 'engineer': 5339, 'condom': 5340, 'wrapped': 5341, 'wow...': 5342, 'loss': 5343, 'scared': 5344, 'become?': 5345, 'doubting': 5346, 'contribution': 5347, 'navel': 5348, 'reconnection.': 5349, \"gay's\": 5350, 'grandson': 5351, 'respectful': 5352, 'award': 5353, 'tool.': 5354, '1960-1967.': 5355, 'significant': 5356, 'personnel.': 5357, 'others?': 5358, 'criticizing': 5359, \"bj's\": 5360, '\"serving': 5361, 'honorably\"': 5362, 'agree,': 5363, 'admitted': 5364, '....other': 5365, 'honorably..read': 5366, 'queerbait..': 5367, 'dishonourably.': 5368, 'sources.': 5369, 'lie.': 5370, 'things.': 5371, 'provided': 5372, 'source.': 5373, 'britannica': 5374, 'harvey,': 5375, 'dishonourable': 5376, 'crying?': 5377, 'aw,': 5378, 'cry,': 5379, 'baby.': 5380, 'diaper.': 5381, 'shown': 5382, 'ilk.': 5383, 'melted': 5384, 'brain.': 5385, 'dance': 5386, 'chain.': 5387, 'dance,': 5388, 'smirk': 5389, 'shove': 5390, 'honorably,': 5391, 'buddy.': 5392, 'chickensht.': 5393, 'flightsuit': 5394, 'base.': 5395, 'smart': 5396, 'libby': 5397, 'flower.': 5398, 'sinks': 5399, 'ask,': 5400, 'board.': 5401, 'wishing': 5402, 'personnel?': 5403, 'treason?': 5404, 'qeerbarge': 5405, 'ship,': 5406, 'fairy?': 5407, 'overdue.': 5408, 'water-carrying': 5409, 'republicans.': 5410, 'lol..': 5411, 'honey.': 5412, 'starts,': 5413, 'nope,': 5414, 'heartbeats': 5415, 'presidency,': 5416, 'try,': 5417, 'employers.': 5418, '\"destroyed\".': 5419, 'serve?': 5420, '1990': 5421, '2012.': 5422, 'house,': 5423, 'u.s.s.': 5424, 'seaman': 5425, 'napolitano,': 5426, 'extra.': 5427, 'surprises': 5428, 'research.': 5429, '2000.': 5430, 'memorial': 5431, 'troops': 5432, 'confederacy,': 5433, 'belongs.': 5434, 'future,': 5435, 'liberal.': 5436, 'southerners': 5437, 'ticking': 5438, 'cussing': 5439, '13%': 5440, 'believe,': 5441, 'residence': 5442, 'weeks': 5443, 'daily.': 5444, 'street,': 5445, 'possessions': 5446, 'holidays,': 5447, 'anytime': 5448, 'flag(battle': 5449, 'flag)': 5450, 'attack,': 5451, 'north,': 5452, 'regulations': 5453, 'rebelling': 5454, 'easiest': 5455, 'confederacy...regardless': 5456, 'values': 5457, 'heritage,': 5458, 'suburbs': 5459, 'get.': 5460, 'article.': 5461, 'throughout..': 5462, 'similar.': 5463, 'souther': 5464, 'panthers': 5465, 'colors': 5466, 'bars.': 5467, 'stain': 5468, 'daily,': 5469, 'discussions': 5470, 'conversations': 5471, '(ferguson,': 5472, 'baltimore),': 5473, 'motion': 5474, 'pictures': 5475, '(12': 5476, 'selma),': 5477, 'month.': 5478, 'end,': 5479, 'flinging': 5480, 'onto': 5481, 'knock-kneed': 5482, 'concede': 5483, 'intimidating': 5484, 'deployed': 5485, 'opporiturity': 5486, 'thirty': 5487, 'forward,': 5488, 'governor': 5489, 'howard': 5490, '(d.,': 5491, 'vt.)': 5492, '2003': 5493, '“white': 5494, 'pickup': 5495, 'trucks': 5496, 'confederate-flag': 5497, 'decals': 5498, 'us.”': 5499, 'november,': 5500, 'declared': 5501, '\"missing': 5502, 'point\"': 5503, 'theme': 5504, 'governor,': 5505, '1987': 5506, '116,': 5507, 'banner.': 5508, 'lee': 5509, 'adopted': 5510, '1863': 5511, 'lee?': 5512, 'famous': 5513, 'something?': 5514, 'lee,': 5515, 'general,': 5516, 'out...which': 5517, 'bright': 5518, 'on...is': 5519, '\"robert\"': 5520, 'progressives': 5521, 'pc.': 5522, 'gfy,': 5523, 'letters': 5524, 'gruber?': 5525, 'correct.': 5526, '\"gruber\",': 5527, 'immature': 5528, 'southerners,': 5529, 'rednecks,': 5530, 'republicans,': 5531, 'miscellaneous': 5532, 'halfwits': 5533, 'particularly': 5534, 'encourage': 5535, 'encouraging': 5536, 'tremendous': 5537, 'service.': 5538, 'willingness': 5539, 'obsessive': 5540, 'enforces': 5541, 'sovereignty': 5542, 'unites': 5543, 'philadelphia': 5544, 'debates': 5545, '18': 5546, 'formed': 5547, 'enforce.': 5548, 'oldest': 5549, 'predates': 5550, 'tyranny': 5551, 'tyrannical': 5552, 'independence': 5553, 'slavery...it': 5554, 'states...(minus': 5555, 'admin.)': 5556, 'blight': 5557, 'past.': 5558, \"judge's\": 5559, 'piece,': 5560, '\"imagine': 5561, 'constitution\"': 5562, 'sovereign': 5563, 'yielded': 5564, 'patrolling': 5565, 'coasts': 5566, 'piracy,': 5567, 'minting': 5568, 'currency,': 5569, 'efficiently': 5570, 'separately.': 5571, 'lincoln': 5572, 'undoubtedly': 5573, 'role': 5574, 'grave': 5575, 'strip': 5576, 'powers…': 5577, 'year.': 5578, 'ideas': 5579, 'something.': 5580, 'spam.': 5581, 'emotions': 5582, 'operate': 5583, 'gruber': 5584, '\"gruber\"': 5585, 'refute,': 5586, 'infiltrate': 5587, 'hostile': 5588, 'vallerie': 5589, 'jarrett,': 5590, 'van': 5591, 'jones': 5592, 'departments': 5593, 'fantasy': 5594, 'reality....': 5595, 'correctly.': 5596, 'bragg': 5597, '(who': 5598, 'traitor)': 5599, 'sherman': 5600, 'reminder': 5601, 'confederates.': 5602, '4,': 5603, '1818,': 5604, 'changed': 5605, 'stars,': 5606, 'star': 5607, 'admitted,': 5608, 'reduced': 5609, 'colonies.': 5610, '10': 5611, 'million+': 5612, 'explorers': 5613, '15th': 5614, '1860': 5615, 'granted': 5616, '100+': 5617, '\"ended\",': 5618, 'dropping': 5619, 'continents': 5620, '0.3%': 5621, 'number....': 5622, 'atrocities': 5623, 'slightly': 5624, 'gadsen': 5625, \"(don't\": 5626, 'me)': 5627, 'replace': 5628, 'old,': 5629, 'offensive,': 5630, 'hug': 5631, 'slave.': 5632, 'cry': 5633, 'continent': 5634, 'strive': 5635, 'vikings': 5636, 'crossed': 5637, 'bridge': 5638, '25%': 5639, 'origin.': 5640, 'sir?': 5641, 'africa?': 5642, '125,000': 5643, '60,000': 5644, 'it...': 5645, 'genetics': 5646, 'proven': 5647, 'outdated.': 5648, 'nova': 5649, 'series': 5650, 'ones.': 5651, 'fill': 5652, 'genetics.': 5653, 'world,': 5654, 'inappropriate': 5655, 'deeds.': 5656, 'bask': 5657, 'deeds': 5658, 'always,': 5659, 'incredible': 5660, 'misdeeds': 5661, 'responsibility': 5662, 'misdeeds...': 5663, 'defender.': 5664, 'mentioning': 5665, '\"god\"': 5666, 'oxymoron.': 5667, 'aggression': 5668, 'propagandist': 5669, 'training': 5670, 'waty': 5671, 'help.....political': 5672, 'help.....i': 5673, 'clips': 5674, 'ferguson': 5675, \"baltimore..............can't\": 5676, '\"diversity': 5677, 'training\"': 5678, 'brow': 5679, 'previously': 5680, 'thoroughly': 5681, 'eternally': 5682, 'dissing': 5683, 'ends': 5684, 'begins.': 5685, 'caliphate': 5686, 'iran.': 5687, 'remnants': 5688, 'heritage': 5689, \"left's\": 5690, 'difference,': 5691, 'deliver': 5692, 'intelligent': 5693, 'response........': 5694, 'waiting......': 5695, 'indians': 5696, 'end?': 5697, 'carnage,': 5698, 'japenese': 5699, 'incarcerated,': 5700, 'germans.': 5701, 'almost,': 5702, 'marches': 5703, 'bataan': 5704, 'march': 5705, 'ww2.': 5706, 'miscarriages': 5707, 'marched': 5708, 'across': 5709, 'miles.': 5710, 'deliberately': 5711, 'infected': 5712, 'blankets': 5713, 'smallpox': 5714, 'men,': 5715, 'germ': 5716, 'deliberate': 5717, 'bombing': 5718, 'civilian': 5719, 'centers': 5720, 'japan': 5721, 'industrial': 5722, 'targets.': 5723, 'fiery': 5724, 'holocaust': 5725, 'hiroshima': 5726, 'nagasaki': 5727, 'atomic': 5728, 'weapons.': 5729, 'excess': 5730, 'bloodshed': 5731, 'stripes.': 5732, 'record,': 5733, 'saintly.': 5734, 'india': 5735, 'foxxy': 5736, 'arms': 5737, 'beheading': 5738, 'them.off': 5739, 'buildings': 5740, 'expressing': 5741, 'te\"': 5742, 'consistent.': 5743, 'remember,': 5744, 'who,': 5745, \"o'reilly\": 5746, 'interview,': 5747, 'afdi': 5748, 'advertisements': 5749, 'caiiing': 5750, 'kiiiing': 5751, 'some.': 5752, 'necessity': 5753, 'forefathers': 5754, 'believed': 5755, 'rights...': 5756, 'pursue': 5757, 'freedoms.': 5758, 'entity': 5759, 'retail': 5760, 'outlets': 5761, 'sales': 5762, 'domestic': 5763, 'amendment.': 5764, '\"ordered\"': 5765, 'retailers': 5766, 'fiags?': 5767, 'nutter.': 5768, 'muzzy': 5769, 'erasure': 5770, 'funneling': 5771, 'died.': 5772, 'mistake,': 5773, 'agenda': 5774, 'socialize': 5775, 'intentionally': 5776, 'exactly.': 5777, 'lies?': 5778, 'ignorance?': 5779, 'million?': 5780, 'million.': 5781, '30-40': 5782, 'ussr': 5783, 'alone.': 5784, 'redskins': 5785, 'happy': 5786, 'rap.': 5787, 'judgements.': 5788, 'weak,': 5789, '(hugh': 5790, 'lorry': 5791, 'terrible.)': 5792, 'shutting': 5793, 'bad.': 5794, 'amazes': 5795, 'constituiton': 5796, 'continued': 5797, 'enslavement': 5798, 'apart': 5799, 'strongly': 5800, 'urge': 5801, 'south.': 5802, 'rag': 5803, 'museum.': 5804, 'shocking': 5805, 'displaying': 5806, 'attrocities': 5807, 'through.': 5808, 'business?': 5809, '\"whole': 5810, 'purpose\"': 5811, 'vast': 5812, 'ambivalent': 5813, 'drove': 5814, 'subservient': 5815, 'contractual': 5816, 'york': 5817, 'war\"': 5818, '1812,': 5819, \"ny's\": 5820, 'drafted': 5821, 'articles': 5822, 'succession.': 5823, 'brits': 5824, 'd.c.,': 5825, 'ny': 5826, 'riddance\".': 5827, 'contained': 5828, 'ongoing': 5829, 'primary': 5830, '\"states': 5831, 'rights\",': 5832, 'continues': 5833, 'go.': 5834, 'treason,freedom': 5835, 'right.....god': 5836, ',men': 5837, 'document': 5838, 'spite': 5839, 'crown': 5840, 'england.': 5841, 'shall.': 5842, 'obedient': 5843, 'does,': 5844, 'goverment': 5845, 'treason.': 5846, 'nuke.': 5847, 'belongs': 5848, 'prision.': 5849, 'criminal.': 5850, '\"inalienable': 5851, 'rights\"?': 5852, 'sober,': 5853, 'means.': 5854, 'mine': 5855, 'incomprehensible,': 5856, 'inaccurate': 5857, 'wacky.': 5858, 'minute': 5859, 'silence': 5860, 'with...': 5861, 'thoughts': 5862, 'action?': 5863, 'fan': 5864, 'issue.': 5865, 'refresher': 5866, 'myth.': 5867, 'confer': 5868, 'absolute': 5869, 'branch.': 5870, 'myth': 5871, 'civics.': 5872, '\"congress': 5873, 'shall': 5874, 'law...': 5875, 'abridging': 5876, 'speech...\"': 5877, 'implied.': 5878, \"thousand's\": 5879, 'speak.': 5880, 'yourselves': 5881, 'hundred': 5882, 'today.': 5883, 'pray': 5884, 'sisters': 5885, 'genocide.': 5886, 'huh': 5887, 'joining': 5888, 'whos': 5889, 'sick.': 5890, 'capitol': 5891, 'duck...we': 5892, 'traveling': 5893, 'direction': 5894, 'issues?': 5895, 'preserves': 5896, 'hatred.': 5897, 'gop/fox': 5898, 'commended': 5899, 'massaging': 5900, 'narratives': 5901, 'suit': 5902, 'angle.': 5903, 'falling': 5904, '\"intellectual': 5905, 'lightweight\".': 5906, 'speech..whether': 5907, 'object': 5908, 'amendment?': 5909, 'communists': 5910, 'angle': 5911, 'flag,': 5912, 'napolitano.': 5913, 'unbiased.': 5914, 'southerner': 5915, 'grandparents': 5916, 'reminded': 5917, 'this??': 5918, 'ridiculous?': 5919, 'thoughts?': 5920, 'figures.': 5921, 'slave?': 5922, '(not': 5923, 'state)': 5924, 'state?': 5925, \"country's\": 5926, 'secede.': 5927, 'dearly': 5928, 'smudge': 5929, 'history,': 5930, 'types': 5931, 'actions': 5932, 'perpetuate': 5933, 'keeps': 5934, 'apologists.': 5935, 'agree.': 5936, 'symbolizes': 5937, 'perpetuates': 5938, 'internationally': 5939, 'patriotism...': 5940, 'demonstrate': 5941, 'patriotism': 5942, 'occurred': 5943, 'raised.': 5944, 'melodramatic,': 5945, '\"smudge': 5946, 'history.\"': 5947, 'enslaving': 5948, '\"smudge.\"': 5949, 'pride': 5950, 'touched': 5951, '(well,': 5952, 'movement)': 5953, 'coin.': 5954, 'attempting': 5955, 'portray': 5956, 'clue,': 5957, 'nabbed': 5958, 'traders(not': 5959, 'america),': 5960, 'america,': 5961, 'scag': 5962, 'ok.': 5963, 'way;': 5964, 'okay,': 5965, 'ownership': 5966, 'owning': 5967, 'astounding.': 5968, 'kidnapped?': 5969, 'lynched': 5970, 'hamburger': 5971, 'person?': 5972, 'offensive?': 5973, 'with,': 5974, 'article?': 5975, '\"should\"': 5976, 'unlawfully': 5977, 'restricting': 5978, 'ban.': 5979, 'typical': 5980, 'survival': 5981, 'fittest,': 5982, 'weaker.': 5983, 'wolves': 5984, 'gate.': 5985, 'ourselves.': 5986, '123': 5987, 'diversify': 5988, 'race-based': 5989, 'admissions,': 5990, 'endowment': 5991, 'haverford': 5992, 'announced': 5993, 'need-blind': 5994, 'budgetary': 5995, 'concerns.': 5996, 'saddle': 5997, 'lives.': 5998, 'strategy': 5999, 'affordable.': 6000, 'unlikely': 6001, 'institutions': 6002, 'collage': 6003, 'disadvantaged.': 6004, 'exact': 6005, 'moderators': 6006, 'posts,': 6007, 'censored': 6008, 'princeton': 6009, 'website': 6010, 'veteran-': 6011, 'affirmitive': 6012, 'returns': 6013, 'asks': 6014, 'oppounity': 6015, 'operation,': 6016, 'colour': 6017, 'suppos': 6018, 'college\",': 6019, 'college\".': 6020, 'dude...asians': 6021, 'particular': 6022, 'break.': 6023, '1975': 6024, 'bellingham': 6025, 'went,': 6026, 'applied,': 6027, 'openings,': 6028, 'experience,': 6029, 'have?': 6030, 'background': 6031, 'caucasian': 6032, '(code': 6033, 'minority)': 6034, 'status.': 6035, '\"unemployment': 6036, 'office\",': 6037, 'time,': 6038, '\"people': 6039, 'industries': 6040, 'fulfill': 6041, '\"quota\"': 6042, 'listed.': 6043, '\"person': 6044, 'check.': 6045, 'wealth': 6046, '\"adjusted\"': 6047, 'match': 6048, 'outcome': 6049, 'socialism': 6050, 'establishment': 6051, '\"equal\"': 6052, 'challenge': 6053, 'there...': 6054, \"70's\": 6055, 'factories': 6056, 'stations': 6057, 'digging': 6058, 'ditches': 6059, 'landscaping': 6060, 'stemmed': 6061, 'reserved': 6062, 'minorities,': 6063, 'grants,': 6064, 'loans,': 6065, 'visible': 6066, 'peers': 6067, 'rides(even': 6068, 'i,': 6069, 'workforce': 6070, 'supervision': 6071, 'edicts,': 6072, 'inclusive': 6073, 'traditional': 6074, 'roles...': 6075, 'legislate': 6076, 'demographics': 6077, 'colors(no': 6078, 'pun': 6079, 'intended)': 6080, '(at': 6081, 'dominated': 6082, 'respective': 6083, 'construction': 6084, 'industry...': 6085, '\"last': 6086, 'awarded': 6087, '$1': 6088, 'equity': 6089, 'excellence': 6090, 'vassar': 6091, 'admitting,': 6092, 'students\",': 6093, '\"supporting\"': 6094, 'tutoring,': 6095, 'mentoring': 6096, 'trumps': 6097, 'code.': 6098, 'counselor': 6099, 'resume': 6100, 'perfection': 6101, 'compare': 6102, 'strikes': 6103, 'you...': 6104, 'female,': 6105, 'code': 6106, 'graduated': 6107, 'grades,': 6108, 'scores,': 6109, 'recommendations': 6110, 'resume.': 6111, 'honey': 6112, 'working.': 6113, 'affirmatively': 6114, 'doctors': 6115, 'professionals.': 6116, 'professionals': 6117, 'berate': 6118, 'multiculturalism': 6119, 'integration': 6120, 'dna.': 6121, 'loved': 6122, 'darwin,': 6123, 'artificially': 6124, 'succeed.': 6125, 'ensure': 6126, 'shenanigans.': 6127, 'energy': 6128, 'bald,': 6129, 'therefore': 6130, 'condition,': 6131, 'ability.': 6132, 'chance': 6133, 'genetics,': 6134, '100m': 6135, 'track': 6136, 'winning,': 6137, 'equally': 6138, 'recommend': 6139, 'preference,': 6140, 'preference': 6141, 'sports': 6142, 'crew,': 6143, 'polo,': 6144, 'awards': 6145, '\"need\".': 6146, '\"3': 6147, 'america’s': 6148, 'lowest': 6149, 'incomes,': 6150, '72': 6151, 'highest': 6152, 'incomes.\"': 6153, 'wealth,': 6154, 'to...............short': 6155, 'intelligence': 6156, 'violence,': 6157, 'washington?': 6158, 'hmmmm?': 6159, \"hillry's\": 6160, 'freebies.': 6161, 'union': 6162, 'takeo': 6163, 'hmmm?': 6164, 'sacrificing': 6165, 'alter': 6166, 'perfect': 6167, 'stupidity.': 6168, '\"if': 6169, 'opportunity\"': 6170, 'written?': 6171, 'declaration.': 6172, 'declaration': 6173, 'guarantees': 6174, '\"life,': 6175, 'liberty': 6176, 'pursuit': 6177, 'happiness\"': 6178, 'equality.': 6179, 'opportunity.': 6180, 'democracy': 6181, 'scotus.': 6182, 'discrimination\",': 6183, 'discrimination\"': 6184, 'origin': 6185, 'practiced': 6186, 'caucasians': 6187, 'deadbeats': 6188, 'cadillac': 6189, 'dealership': 6190, 'cadillac?': 6191, 'qualification': 6192, 'woman,': 6193, 'discriminated': 6194, '\"privilege\"': 6195, 'hearing': 6196, 'candidate': 6197, 'chosen.': 6198, 'punishing': 6199, 'progressive.': 6200, 'developed': 6201, 'exist,': 6202, \"they've\": 6203, 'evolve': 6204, \"well.i'm\": 6205, 'discussed': 6206, 'article,': 6207, 'sensible.': 6208, 'contrast': 6209, 'tending': 6210, 'candidate,': 6211, 'equation': 6212, 'only;': 6213, 'packed': 6214, 'asians,': 6215, 'europeans,': 6216, 'merit': 6217, 'perform.': 6218, '\"earned\"': 6219, 'path.': 6220, '\"minority': 6221, 'privilege\"?': 6222, 'supemes': 6223, 'decide': 6224, 'fine.....as': 6225, 'reversed': 6226, 'anti-white': 6227, 'preparing': 6228, '\"separate': 6229, 'equal\"': 6230, 'thrown': 6231, 'court.': 6232, 'fine?': 6233, 'enrollment?': 6234, '6th': 6235, 'level,': 6236, 'college...?': 6237, 'flippers': 6238, 'broom': 6239, 'pushers.': 6240, 'unskilled.': 6241, 'plumbers': 6242, 'mechanics': 6243, 'everyone.': 6244, 'profiting': 6245, 'profit': 6246, 'trading.': 6247, 'data': 6248, '39th': 6249, 'graduations': 6250, 'misery': 6251, 'truthful.': 6252, 'grades?': 6253, \"'straight\": 6254, \"a'\": 6255, 'handle': 6256, '12': 6257, 'hrs': 6258, 'arts': 6259, 'courses?': 6260, 'construct': 6261, 'differ': 6262, 'reasons.': 6263, \"'victims'\": 6264, 'muslims?': 6265, '\"income': 6266, 'diversity\"': 6267, 'grads': 6268, 'income.': 6269, 'intend': 6270, 'unproductive': 6271, 'irresponsible': 6272, 'parents,': 6273, 'penalize': 6274, 'inevitable': 6275, 'equal-outcome': 6276, 'socialism,': 6277, 'meritocracy.': 6278, 'subsidizes': 6279, 'guaranteed': 6280, 'creates': 6281, 'if/when': 6282, 'low)': 6283, 'sat': 6284, 'disappear,': 6285, 'thus,': 6286, 'aclu,': 6287, 'file': 6288, 'lawsuits': 6289, 'represented.': 6290, 'increase': 6291, 'non-whites.': 6292, 'whites.': 6293, 'knuckleheads.': 6294, 'systems': 6295, 'biased': 6296, 'under-represented': 6297, 'affect': 6298, 'evaluated': 6299, 'subjectively.': 6300, 'disservice': 6301, 'freight': 6302, 'wrongly': 6303, 'grades.': 6304, 'interviewed': 6305, 'questions....\"higher': 6306, 'education\"': 6307, 'cruelty': 6308, 'lowers': 6309, 'achieving': 6310, '200,00': 6311, 'week,': 6312, 'overpaid.': 6313, 'fantastic': 6314, 'lexus': 6315, 'nx': 6316, '200t': 6317, 'suv': 6318, 'home.see': 6319, 'here=====jobsbay24.comllllllll': 6320, 'offspring': 6321, 'headed': 6322, 'harvard,': 6323, 'po': 6324, 'instead.': 6325, 'wayne': 6326, 'tucked': 6327, '\"diversity.\"': 6328, 'smh.': 6329, 'losing': 6330, 'incoming': 6331, '1+1': 6332, 'test.': 6333, 'intelligence.': 6334, 'exactly...the': 6335, 'interchangeable.': 6336, 'adopt': 6337, \"bernie's\": 6338, 'jurnior': 6339, 'hs.': 6340, 'ilk': 6341, 'gi': 6342, 'graduate': 6343, 'sam': 6344, 'ride.': 6345, 'brightess.': 6346, 'cheating....and': 6347, 'vomit': 6348, 'dummy': 6349, 'register': 6350, 'mixed': 6351, 'identical': 6352, 'psychographics.': 6353, '\"thought': 6354, 'police\".': 6355, 'chance.': 6356, 'stage.': 6357, 'japanese': 6358, 'academic': 6359, 'beneficiary': 6360, 'admission.': 6361, 'chinese': 6362, 'waves.': 6363, 'gone.': 6364, '\"po\"': 6365, 'wrongs': 6366, 'hum.': 6367, 'cleansing': 6368, '\"projects\"': 6369, 'deepest': 6370, 'pockets': 6371, 'non-working': 6372, 'ged.': 6373, 'computes': 6374, '3%': 6375, 'rise': 6376, 'achieve,': 6377, 'origins.': 6378, 'right???': 6379, 'poorer': 6380, 'usa,': 6381, 'racist.....only': 6382, 'ahead.....affirmative': 6383, 'my,': 6384, \"lbj's\": 6385, '\"war': 6386, 'poverty\"': 6387, 'attending': 6388, 'treatment..': 6389, 'asian.': 6390, 'upper': 6391, '1%': 6392, 'fewer': 6393, 'minorities?': 6394, 'standard?': 6395, 'contends': 6396, 'inferior.': 6397, 'demoted': 6398, 'read,': 6399, 'cap': 6400, 'admissions.': 6401, 'qualifications,': 6402, 'ignored.': 6403, 'population.': 6404, 'asians.': 6405, 'entirely': 6406, 'arms.': 6407, 'tuition': 6408, 'non-nationals.': 6409, 'universities,': 6410, 'buck.': 6411, 'pious': 6412, 'hypocrites.': 6413, 'price.': 6414, 'student,': 6415, 'scholarship': 6416, 'attend': 6417, '\"affirmative': 6418, 'posting': 6419, '\"feelings\"': 6420, 'non-caucasian,': 6421, 'non-asian': 6422, 'apply.': 6423, 'coyote': 6424, 'harvard...': 6425, \"'buy'\": 6426, 'power.': 6427, \"'victims',\": 6428, 'tool': 6429, '\"have': 6430, 'felony\"': 6431, 'rental': 6432, 'applications': 6433, '60%': 6434, 'sadam': 6435, '9/11.': 6436, 'sierra415': 6437, 'collecting': 6438, 'the\"immigrants\"': 6439, 'never,': 6440, 'country,and': 6441, 'american?': 6442, 'wages.': 6443, 'dah': 6444, 'spousal': 6445, 'earnings': 6446, 'medicare': 6447, 'surplus': 6448, 'contributed': 6449, 'socialism.': 6450, 'assinine': 6451, 'statements.': 6452, 'sec,': 6453, 'defense.': 6454, 'goods,': 6455, 'rent': 6456, 'debt.': 6457, 'debt=sis': 6458, 'sec': 6459, 'blah,': 6460, 'uninformed': 6461, 'taker.': 6462, 'paycheck': 6463, 'life.': 6464, 'till': 6465, 'soc.': 6466, 'hurts': 6467, 'out...intellectuals': 6468, 'in....kcarab': 6469, 'amado': 6470, 'bravo': 6471, 'able-bodies': 6472, 'potus': 6473, 'ride,': 6474, 'return.': 6475, 'state,': 6476, 'medicare.': 6477, 's.s.': 6478, '37': 6479, 'with15%': 6480, 'interest,': 6481, 'compounded': 6482, 'quarterly': 6483, 'collecting.': 6484, 'insurance': 6485, '15%?': 6486, 'laughs': 6487, 'ironic': 6488, 'banning': 6489, 'candy': 6490, 'snacks': 6491, 'punishment': 6492, 'burden': 6493, 'soda,': 6494, 'snacks.': 6495, '\"working\"': 6496, 'dole.': 6497, 'unsustainable.': 6498, 'leadership': 6499, 'homeowners': 6500, 'largely': 6501, 'administration.\"': 6502, 'societies.': 6503, 'dependent.': 6504, 'decisions-': 6505, 'welfare.': 6506, 'cake,': 6507, 'month-': 6508, \"his/her/it's\": 6509, '0': 6510, 'seen.': 6511, 'releases': 6512, 'eat,': 6513, 'military,': 6514, 'barracks,': 6515, 'met': 6516, 'requirement?': 6517, 'insufficient,': 6518, 'subsidy': 6519, 'happy.': 6520, 'confidence': 6521, 'employees.': 6522, 'walmart': 6523, 'employees': 6524, 'medicaid': 6525, 'walton': 6526, 'learned': 6527, 'wage.': 6528, 'workee': 6529, 'foodie.': 6530, \"ain't\": 6531, 'maine': 6532, 'followed': 6533, '2014.': 6534, 'percent.': 6535, 'read?..': 6536, 'not...': 6537, 'disaster.': 6538, 'illinois,': 6539, 'york,': 6540, 'cali': 6541, 'social/govt.': 6542, 'programs?': 6543, 'chuckle.': 6544, 'california': 6545, 'mississippi.': 6546, 'foodstamps...': 6547, 'coupons,': 6548, 'ebt.': 6549, 'foodstamps': 6550, '(as': 6551, 'person).': 6552, 'taxpayer': 6553, 'dime.': 6554, 'sustenance': 6555, 'expenses': 6556, 'earn': 6557, 'keep.': 6558, 'freebies': 6559, 'flowing': 6560, 'anybody?': 6561, 'gaping': 6562, 'wounds': 6563, 'dept...': 6564, 'end...': 6565, 'stinking': 6566, 'canopy...': 6567, 'wins...............': 6568, 'off.': 6569, 'ssi,': 6570, 'tanf,': 6571, 'friend': 6572, 'services,': 6573, 'immediate': 6574, '$2000.00,': 6575, 'subsidies': 6576, 'cloward-piven': 6577, 'strategy,': 6578, 'should.': 6579, 'refugees,': 6580, 'cubans': 6581, 'coward': 6582, 'priven': 6583, 'burglar': 6584, 'restitution': 6585, 'burglarized': 6586, 'prison\"': 6587, 'wont': 6588, 'luck,': 6589, 'you\"re': 6590, 'aid,': 6591, 'atrocity': 6592, 'handout?': 6593, 'to?': 6594, 'alabama': 6595, 'booted': 6596, '32,000': 6597, 'because....gee....apparently': 6598, 'volunteering': 6599, 'burdensome.': 6600, 'altogether': 6601, 'form.in': 6602, 'daycare': 6603, ',get': 6604, 'telepromter': 6605, 'ifif': 6606, 'fififififif': 6607, 'phony': 6608, 'charlatans': 6609, 'ssi': 6610, '\"diseases/disorders.\"': 6611, 'ssi.': 6612, 'no.....too': 6613, 'mothers': 6614, 'daddies,': 6615, 'milking': 6616, 'worth.': 6617, 'queens': 6618, 'patients.': 6619, 'kid,': 6620, 'experience.': 6621, 'average': 6622, 'attends': 6623, 'desire': 6624, 'kits': 6625, 'visits,': 6626, 'tubos,': 6627, 'received.': 6628, 'yes.': 6629, 'dummie.': 6630, 'govt.,': 6631, 'typically': 6632, 'slants': 6633, 'favor,': 6634, 'fraud?': 6635, 'huh,': 6636, 'from?': 6637, 'toy': 6638, 'purchases?': 6639, 'widows': 6640, 'husbands.': 6641, 'indiscriminately.': 6642, 'ways': 6643, 'food-': 6644, \"payer's\": 6645, 'expense.': 6646, 'yeh': 6647, 'prob': 6648, 'cleaning': 6649, 'streets,': 6650, 'graffiti,': 6651, 'improving': 6652, 'landscaping.': 6653, 'crumbling': 6654, 'roads?': 6655, '(those': 6656, 'capable)': 6657, 'agriculture': 6658, 'products': 6659, 'presume': 6660, 'predominantly': 6661, 'along.': 6662, 'mabee': 6663, 'garbage': 6664, 'cans': 6665, '.like': 6666, 'two......make': 6667, 'wedlock': 6668, 'babies....get': 6669, 'custody': 6670, 'december.': 6671, '$32,000.': 6672, 'pennsylvania': 6673, 'declined': 6674, 'december': 6675, 'residential': 6676, 'electrical': 6677, 'bills': 6678, 'defaulted.': 6679, 'saddened': 6680, 'testimonial.': 6681, 'narcissist': 6682, 'help...': 6683, 'trabjo': 6684, 'cervesa': 6685, 'irs': 6686, 'consumption': 6687, 'freloaders': 6688, '49%': 6689, 'same.': 6690, '2020': 6691, 'avoid.......sales': 6692, 'overide': 6693, 'long....when': 6694, 'riots.': 6695, 'accordingly...': 6696, '(99%': 6697, 'welfare)': 6698, 'manchurian': 6699, 'canidate': 6700, '-cash': 6701, 'flow': 6702, 'detonates': 6703, 'dirty': 6704, 'pledge': 6705, 'allah.': 6706, 'incentive': 6707, 'like,': 6708, 'you\".': 6709, \"'em\": 6710, 'farms': 6711, 'lazy': 6712, 'moochers': 6713, 'exceed': 6714, 'facility': 6715, ',shelter': 6716, 'barracks.the': 6717, 'residents': 6718, ',laundry': 6719, ',child': 6720, 'cleaning.': 6721, 'courses': 6722, 'skill': 6723, 'trade..': 6724, 'meantime': 6725, 'clintons.......................': 6726, 'last.': 6727, '\"single': 6728, 'mother\"': 6729, 'pressures': 6730, 'start,': 6731, 'forgotten.': 6732, \"anyone's\": 6733, 'grocery': 6734, 'trim': 6735, 'haircuts': 6736, 'nike': 6737, 'uggs': 6738, 'cart': 6739, 'gourmet': 6740, 'foods,': 6741, 'talenti': 6742, 'pop,': 6743, 'steak': 6744, 'cookies': 6745, 'cheese': 6746, 'milk)': 6747, 'card)': 6748, 'dime': 6749, 'taxpayer.': 6750, '1965.': 6751, 'looked': 6752, '1971.': 6753, 'limits': 6754, 'junk': 6755, 'users': 6756, 'bodied': 6757, 'spoiled': 6758, 'cards.': 6759, 'fruit': 6760, 'beans': 6761, 'nurse': 6762, 'oregon.': 6763, 'nurse,': 6764, 'expensively': 6765, 'dressed': 6766, 'buggy': 6767, 'steaks,': 6768, 'pork': 6769, 'chops,': 6770, 'roasts,': 6771, 'premium': 6772, '\"food': 6773, 'stamps.\"': 6774, 'teacher': 6775, 'bank.': 6776, 'beef': 6777, 'casseroles': 6778, '\"ice': 6779, 'milk\"': 6780, '(remember': 6781, 'that?)': 6782, \"two-year-old's\": 6783, 'birthday': 6784, 'witness': 6785, 'claims': 6786, 'counties': 6787, 'partner': 6788, 'order?': 6789, 'unemployed': 6790, 'for,': 6791, 'interview': 6792, 'dozen': 6793, 'bachelors': 6794, 'degree': 6795, 'approach': 6796, '\"temp\"': 6797, 'agency.': 6798, '\"temps\"': 6799, 'offered': 6800, 'agencies.': 6801, 'paths,': 6802, 'fellow': 6803, 'workers,': 6804, 'employment.': 6805, 'recipients.': 6806, 'largest': 6807, 'block': 6808, 'receivers': 6809, 'walmart.': 6810, 'absolutely.': 6811, 'food,': 6812, 'housing,': 6813, 'electricity,': 6814, 'phones,': 6815, 'else,': 6816, 'litter': 6817, 'highways': 6818, \"'gave\": 6819, \"back'\": 6820, 'capable,': 6821, 'engaged': 6822, 'life,': 6823, 'needed,': 6824, 'appreciate': 6825, \"'welfare\": 6826, \"life'\": 6827, 'deforms': 6828, 'spirit,': 6829, 'deformed': 6830, 'acceptable.': 6831, 'essentials': 6832, 'power,': 6833, 'transport,': 6834, 'etc': 6835, 'expensive,': 6836, 'knockbacks': 6837, 'demoralising': 6838, 'eventual': 6839, 'inertia': 6840, 'debilitating,': 6841, 'sink': 6842, 'despondency.': 6843, 'eligable': 6844, 'matched': 6845, 'align': 6846, 'emergency': 6847, 'relief': 6848, 'outlet': 6849, 'liked),': 6850, 'work-for': 6851, 'the-state': 6852, 'end-point,': 6853, 'heebie': 6854, 'jeebies.': 6855, 'be.': 6856, 'temporary,': 6857, 'empowering.': 6858, 'depressing': 6859, 'unemployed.': 6860, 'economy,': 6861, 'wonders': 6862, 'esteem': 6863, 'loaders': 6864, 'table': 6865, 'handouts': 6866, 'turning': 6867, '/584efea0-7ff6-11e2-bb02-000f20980440': 6868, '$800+': 6869, 'cigarettes.': 6870, 'inspections.': 6871, 'volunteer.': 6872, 'overwhelming.': 6873, 'feet,': 6874, 'thousand.': 6875, 'nailed': 6876, 'cross,': 6877, 'better.': 6878, 'yea.': 6879, 'um...': 6880, 'economic': 6881, 'discussion': 6882, 'discussion.': 6883, 'novelist,': 6884, 'gladly': 6885, 'holt': 6886, 'thessalonians': 6887, 'gift,other': 6888, 'them...and': 6889, 'obese,this': 6890, 'slap': 6891, 'payer.': 6892, 'gee': 6893, 'mr': 6894, 'obvious...i': 6895, \"connection...you're\": 6896, 'lifesaver': 6897, 'booze': 6898, 'cigarettes': 6899, 'lottery': 6900, 'tickets': 6901, 'items': 6902, 'scammers': 6903, 'ca': 6904, 'restaurants.': 6905, 'fambly': 6906, 'cents': 6907, 'dollar.': 6908, \"24's\": 6909, 'e.b.t': 6910, 'casinos': 6911, 'good.': 6912, 'leeches': 6913, 'totally.': 6914, 'afford,': 6915, 'help,': 6916, 'survive,': 6917, 'choices': 6918, 'born.': 6919, 'support??': 6920, 'work??': 6921, 'caregiver': 6922, 'stunted': 6923, '\"reliable\"': 6924, 'hardest??': 6925, 'exceptions': 6926, 'plainly': 6927, 'exempt.': 6928, 'fat': 6929, 'disability,especially': 6930, 'exist,i': 6931, 'bullets': 6932, 'picked': 6933, 'da*n': 6934, 'cotton.': 6935, '$1/100': 6936, 'lb': 6937, 'sack': 6938, 'un': 6939, 'employed/under': 6940, '\"illegals\"?': 6941, 'poor->': 6942, 'overall': 6943, 'requiring': 6944, 'monthly': 6945, 'retain': 6946, 'limiting': 6947, 'purchased.': 6948, 'literally': 6949, 'payers': 6950, '1/10': 6951, 'healthy': 6952, 'options.': 6953, 'habits': 6954, 'inter-generational': 6955, 'adverse': 6956, 'healthy.': 6957, 'wow': 6958, 'misinformed': 6959, 'misconceived.': 6960, 'eat.': 6961, 'poor.': 6962, 'back...': 6963, 'so....': 6964, 'leaches........': 6965, 'prominent': 6966, 'alan,': 6967, 'sending': 6968, 'reporting': 6969, 'bat': 6970, 'this=': 6971, 'employers': 6972, 'work,on': 6973, '=uh': 6974, '96%': 6975, 'work=welafareheathcare=': 6976, 'foodcare=housingcare=': 6977, '/hate': 6978, 'masquerade': 6979, 'affiliations': 6980, 'questionable': 6981, 'best.': 6982, 'donors': 6983, 'suspect.': 6984, 'afro-americans': 6985, 'field': 6986, 'knowledge.': 6987, 'progress.': 6988, 'able.': 6989, 'paralysed': 6990, 'deranged.': 6991, 'fblm.': 6992, 'noticeably': 6993, 'travesty': 6994, 'integrated': 6995, 'judicial': 6996, 'nation.': 6997, 'hand....': 6998, 'still,': 6999, 'lightly.': 7000, 'however': 7001, '(from': 7002, 'jordan': 7003, 'river': 7004, 'mediterranean': 7005, 'sea)': 7006, 'bandits,': 7007, 'villain': 7008, 'hooligans': 7009, 'blowing': 7010, 'murderers,': 7011, '\"racism': 7012, 'israel\".': 7013, 'slaughtering': 7014, 'jealousy.': 7015, 'station,': 7016, 'muslims..': 7017, 'less...': 7018, 'raised,': 7019, 'proved': 7020, 'effective': 7021, 'vigorous': 7022, 'ways.': 7023, 'autonomously,': 7024, 'identification': 7025, 'anti-semitic': 7026, 'anti-white,': 7027, 'anti-police,': 7028, 'anti-truth,': 7029, 'anti-civilized,': 7030, 'anti-peace,': 7031, 'anti-common': 7032, 'tolerate': 7033, 'draw': 7034, 'jews?': 7035, 'treatment.': 7036, 'soros,': 7037, 'original,': 7038, 'ancient,': 7039, 'eternal,': 7040, 'undivided': 7041, 'blessed': 7042, 'jerusalem.': 7043, 'debate;': 7044, 'descendants': 7045, 'jericho': 7046, \"'historic\": 7047, \"claim'\": 7048, 'land.': 7049, 'bible;': 7050, 'hebrews': 7051, 'slaughtered': 7052, 'wholesale': 7053, 'moot': 7054, 'sits': 7055, '\"as': 7056, 'urged': 7057, 'macedonia,': 7058, 'ephesus': 7059, 'command': 7060, 'doctrines': 7061, 'devote': 7062, 'myths': 7063, 'endless': 7064, 'genealogies.': 7065, 'promote': 7066, 'speculations': 7067, 'advancing': 7068, 'work--which': 7069, 'faith.\"': 7070, '\"it': 7071, 'failed.': 7072, 'descended': 7073, 'israel.\"': 7074, '\"for': 7075, 'israel;': 7076, 'seed': 7077, 'abraham': 7078, 'children…': 7079, 'seed.\"': 7080, 'alan': 7081, 'played': 7082, 'joke........sometimes': 7083, 'stereotype': 7084, 'reason.': 7085, 'invalidated': 7086, 'sentence,': 7087, '\"which': 7088, 'raising': 7089, 'abuses\"': 7090, '\"so': 7091, 'good\"': 7092, 'kidding': 7093, 'conflict.': 7094, 'blocking': 7095, 'rioting': 7096, 'good?': 7097, 'what,': 7098, 'support,': 7099, 'reprinted': 7100, 'boston': 7101, 'globe': 7102, 'hey,': 7103, 'phone': 7104, 'videos': 7105, 'phones': 7106, 'cams': 7107, 'unfairly': 7108, 'reprinted?': 7109, 'clue': 7110, \"'group'\": 7111, 'controls': 7112, 'erred': 7113, 'dedicated': 7114, 'abuses.': 7115, 'goal': 7116, 'whites,': 7117, 'cops,': 7118, 'abused': 7119, 'eventually,': 7120, 'hating': 7121, 'blm?': 7122, 'abuse': 7123, '\"encourages\"': 7124, 'behave': 7125, 'badly': 7126, 'law-abiding': 7127, 'weapon': 7128, 'maniacs': 7129, 'instructions': 7130, 'police,': 7131, 'citizens,': 7132, 'property,': 7133, 'enforcement;': 7134, 'proven.': 7135, 'person\"': 7136, '95%': 7137, 'fear,': 7138, 'riot,': 7139, 'murder,': 7140, 'repertoire': 7141, \"'no\": 7142, \"fly'\": 7143, 'list?': 7144, 'subsidies,': 7145, 'scholarships,': 7146, 'professional': 7147, 'licenses,': 7148, 'driving': 7149, 'licenses': 7150, 'civil/military': 7151, 'occupations': 7152, \"member's\": 7153, 'hands?': 7154, 'sarcastic.': 7155, 'amen.': 7156, 'olives': 7157, 'anti-semites.': 7158, 'gee,': 7159, 'guessed': 7160, 'israel?': 7161, 'logical.': 7162, 'pressed': 7163, 'forefront': 7164, 'democratic,': 7165, 'east.': 7166, 'americans,': 7167, 'deeply': 7168, 'anti-semitism': 7169, 'distinguished': 7170, 'attorney,': 7171, 'j': 7172, 'simpson': 7173, 'isn’t': 7174, 'audacity': 7175, 'israelis,': 7176, 'you’re': 7177, 'despises': 7178, 'groups.': 7179, 'singling': 7180, 'accusing': 7181, '“genocide”': 7182, 'explained': 7183, 'state.\"': 7184, 'rofl': 7185, 'tanks': 7186, 'babies,': 7187, 'genocide?': 7188, '(seen': 7189, 'incursion': 7190, 'europeantv)': 7191, 'aspirin': 7192, 'facts.': 7193, 'mowing': 7194, 'misunderstood': 7195, 'supportive': 7196, 'realized': 7197, 'misunderstood.': 7198, 'palestinians': 7199, 'score?': 7200, 'sir': 7201, 'savior': 7202, 'labels': 7203, 'blame,': 7204, 'jaxtown,': 7205, 'boot,': 7206, 'dopes': 7207, 'accuses': 7208, 'disgraceful.': 7209, 'anti-semites': 7210, 'go\".': 7211, 'wide': 7212, 'spread': 7213, 'meet.': 7214, 'unusually': 7215, 'narrative.': 7216, 'cops.': 7217, 'thumbs': 7218, 'displeasure': 7219, 'swaths': 7220, 'west': 7221, 'bank': 7222, 'direct': 7223, 'defiance': 7224, 'approximately': 7225, '1/3': 7226, 'occupies,': 7227, '2/3': 7228, 'occupied,': 7229, 'managaes': 7230, 'abhorrent': 7231, 'iran': 7232, 'syria.': 7233, 'involves': 7234, 'conspiracy': 7235, 'alex': 7236, 'jones.': 7237, 'captured': 7238, 'defensive': 7239, \"'worse\": 7240, 'hr': 7241, \"record'\": 7242, 'despots': 7243, 'sheer': 7244, 'comprehension.': 7245, 'non-jewish': 7246, 'semites,': 7247, 'muslims,': 7248, 'babylonians': 7249, '(nebuchadnezzar)': 7250, 'assorted': 7251, 'tribes': 7252, 'bloody.': 7253, '(cyrus': 7254, 'persian)': 7255, 'don’t.': 7256, 'naturally,': 7257, 'strict': 7258, 'border': 7259, 'secure.': 7260, 'name?': 7261, 'palestinkians': 7262, 'stricter': 7263, 'traitor-in-chief': 7264, 'occupying': 7265, 'blah.': 7266, 'region': 7267, 'unwashed': 7268, 'masses': 7269, 'bay.': 7270, 'un,': 7271, 'described': 7272, 'strip.': 7273, 'boarders.': 7274, 'gained': 7275, 'war?': 7276, 'disagree.': 7277, 'won': 7278, 'invasion': 7279, 'england,': 7280, 'france,': 7281, 'spain': 7282, '10x': 7283, 'wipe': 7284, 'earth.': 7285, 'uhh': 7286, 'confusec': 7287, 'thwre': 7288, 'attacked': 7289, 'formed.': 7290, 'shooting': 7291, 'rockets': 7292, 'singing': 7293, 'tune.': 7294, 'yiu': 7295, 'crush': 7296, 'charles': 7297, 'manson': 7298, 'single;': 7299, 'match.': 7300, 'man...that': 7301, 'goofball': 7302, 'looney': 7303, 'liberal...probably': 7304, 'organizer': 7305, 'chicongo...': 7306, 'exists': 7307, 'everywhere,': 7308, 'efen': 7309, 'loon,': 7310, 'femanazis': 7311, 'cells': 7312, 'loon?': 7313, 'news.': 7314, 'notes': 7315, \"psychiatrist's\": 7316, 'notebook': 7317, 'asylum.': 7318, 'charlie': 7319, 'sense).': 7320, '\"progressive\"': 7321, 'ug..ug..ly.': 7322, 'surgeon': 7323, 'smoking': 7324, 'drinking': 7325, 'unborn': 7326, 'child......this': 7327, 'get...brain': 7328, 'children.....i': 7329, '\"accidents\"': 7330, 'movements.....an': 7331, 'undesirable': 7332, 'incidental': 7333, 'unplanned': 7334, 'spay': 7335, 'millennials.': 7336, 'white?': 7337, 'cool.': 7338, 'utterly': 7339, 'privilage\"': 7340, 'stamped': 7341, \".it's\": 7342, 'cool\".': 7343, 'dead\".': 7344, 'clueless': 7345, 'insulting': 7346, 'cage': 7347, 'petitions': 7348, \"boy's\": 7349, 'prosecuted.': 7350, 'condemned': 7351, '\"privileged\"': 7352, 'sympathy.': 7353, 'pretending': 7354, 'otherwise...': 7355, 'karvictho;': 7356, '\"fall\"': 7357, 'climbed': 7358, 'second,': 7359, 'momma': 7360, 'escaping': 7361, 'pit': 7362, 'distracted': 7363, 'photos': 7364, 'off,': 7365, 'siblings': 7366, 'occupied': 7367, 'lil': 7368, 'to.d': 7369, 'climb': 7370, 'deaths': 7371, 'privileges\"': 7372, 'pants,': 7373, 'looting': 7374, 'neighborhood': 7375, 'btw,': 7376, 'btw': 7377, '45.2%': 7378, 'privileged,': 7379, 'vs': 7380, '25.7%': 7381, 'living,': 7382, 'agricultural': 7383, 'ijs': 7384, 'fail': 7385, 'picture': 7386, 'femme_esq?': 7387, 'deiw': 7388, 'killed.': 7389, 'unnecessarily': 7390, 'maligned.': 7391, 'shrugged': 7392, 'bacteria': 7393, 'amebas': 7394, 'danger.': 7395, 'enclosure': 7396, 'hazard,': 7397, 'quick.': 7398, 'reckless': 7399, 'endangerment.': 7400, 'helpless': 7401, 'fend': 7402, 'lawsuit': 7403, 'nowhere': 7404, 'pages': 7405, 'maybe,': 7406, 'rare': 7407, 'shot,': 7408, 'conformation': 7409, 'settle': 7410, 'problem\"': 7411, '(in': 7412, 'fact,': 7413, 'problem)...': 7414, 'carrying': 7415, 'spreading': 7416, 'venomous': 7417, '\"whites.': 7418, 'tragedy': 7419, 'befell': 7420, '\"white\"': 7421, 'befall': 7422, 'poetic)': 7423, 'solution\".': 7424, 'transplant': 7425, 'organs': 7426, 'removal...': 7427, 'dumber': 7428, 'comparison.': 7429, '\"olivia': 7430, 'clair\"': 7431, 'part?': 7432, 'lawyer,': 7433, 'liberal.................the': 7434, 'diarrhea': 7435, 'spat': 7436, 'jmo': 7437, '\"racist': 7438, 'spewing': 7439, 'venom': 7440, 'proud,': 7441, 'circulating': 7442, 'internet': 7443, 'nation,': 7444, 'compass.': 7445, 'curious.': 7446, 'swimming\".': 7447, 'florida.': 7448, 'asset': 7449, 'pools.': 7450, 'cautious.': 7451, 'family,': 7452, 'himself.': 7453, 'walking': 7454, 'final': 7455, 'remembrance': 7456, 'breaking.': 7457, 'technically': 7458, 'swimming.': 7459, 'gulf': 7460, 'coast': 7461, 'permanent.': 7462, 'tree': 7463, 'make,': 7464, 'lake.': 7465, 'rotted': 7466, 'walked': 7467, 'beach': 7468, '12\"': 7469, 'posted': 7470, '\"danger': 7471, 'water\"': 7472, 'soul.': 7473, 'profile': 7474, 'photo.': 7475, '\"honeyblonde\",': 7476, 'smh': 7477, 'that....now': 7478, '\"disney\"': 7479, 'resort': 7480, 'northern': 7481, 'vacation': 7482, 'kingdom.....this': 7483, 'parents....and': 7484, 'useful': 7485, 'soundless': 7486, 'velcro.': 7487, 'doubt.': 7488, 'kids,': 7489, 'traumatic': 7490, 'discriminating': 7491, 'chose': 7492, 'taste?': 7493, 'deal...': 7494, 'complying': 7495, 'eeoc': 7496, '(equal': 7497, 'commission)': 7498, 'requirements.': 7499, '\"race\"': 7500, '(actually': 7501, 'ethnicity,': 7502, 'race),': 7503, 'profile.': 7504, 'sight': 7505, 'sore,': 7506, 'intern': 7507, 'chances': 7508, 'weekends.': 7509, 'odds': 7510, 'alligators.': 7511, 'stats': 7512, '1847': 7513, 'weekend.': 7514, 'condolences': 7515, 'evidence': 7516, 'piled': 7517, 'quit': 7518, 'wondering': 7519, 'uncovered': 7520, '\"how': 7521, 'unsupervised': 7522, 'arena?\"': 7523, 'parenting': 7524, 'maybe?': 7525, 'asking,': 7526, 'bangee,': 7527, 'gators.': 7528, 'knowing.': 7529, 'pond': 7530, 'vacationing': 7531, 'disney.': 7532, 'warning': 7533, 'sign?': 7534, 'devil.': 7535, '\"issues\"': 7536, 'peace.': 7537, 'ignoiring': 7538, 'signs.': 7539, 'wheelers': 7540, 'watercraft.': 7541, 'feelings.': 7542, 'wildlife': 7543, \"...that's\": 7544, 'poaching.': 7545, 'commenting': 7546, '$$$': 7547, 'soothe': 7548, \"parent's\": 7549, 'lawsuit?': 7550, 'pos.': 7551, 'ridiculous': 7552, 'kneegrows': 7553, 'stain.': 7554, 'mentally': 7555, 'disturbed': 7556, 'hater': 7557, 'crowd.': 7558, 'no-fly': 7559, '\"flight\"': 7560, 'list,': 7561, 'country...': 7562, 'population,': 7563, 'supporter.': 7564, 'given.': 7565, 'blamed': 7566, 'lame.': 7567, 'witch': 7568, 'waste': 7569, 'cells.': 7570, 'has.': 7571, 'thrower': 7572, 'comments-': 7573, 'children?': 7574, 'absence': 7575, 'god,': 7576, 'caring': 7577, 'bulls**t.': 7578, 'hildabeeste': 7579, 'strange': 7580, 'resemblance': 7581, 'alligator?': 7582, 'illness': 7583, 'spirit...leading': 7584, 'nonsensical': 7585, 'rationalizations': 7586, 'mind.': 7587, 'rewrite': 7588, 'past....': 7589, 'present.....': 7590, 'future....': 7591, 'disease.': 7592, 'credit,': 7593, 'bills.': 7594, \"want--don't\": 7595, 'we?': 7596, 'guessing': 7597, 'snarth,': 7598, '[large': 7599, 'alligator]': 7600, 'single-issue': 7601, 'hammer,': 7602, 'nail.': 7603, 'feminist,': 7604, 'ugly,': 7605, 'self-proclaimed': 7606, '\"feminist\".': 7607, 'observation,': 7608, 'cookbook': 7609, 'protects': 7610, 'much,': 7611, 'serial': 7612, 'killers,': 7613, 'pet,': 7614, 'convinced': 7615, 'killers': 7616, '\"protected': 7617, 'law\"?': 7618, 'creatures': 7619, 'desirable': 7620, 'neighbors?': 7621, 're-located': 7622, 'everglades': 7623, '(the': 7624, 'media,': 7625, 'lol),': 7626, 'tourism': 7627, 'safer.': 7628, 'bear': 7629, 'issues,': 7630, 'development': 7631, 'habitat': 7632, 'farther,': 7633, 'mans': 7634, 'doing;': 7635, 're-locate': 7636, 'rockies': 7637, 'killed,who': 7638, 'too,': 7639, 'barriers': 7640, 'creature': 7641, 'unawares.': 7642, '100%': 7643, 'guard.': 7644, 'privilege...pull': 7645, 'ar-15': 7646, 'ar': 7647, 'sufficient': 7648, '.357': 7649, 'closer': 7650, 'listen': 7651, 'surprised': 7652, 'war,': 7653, 'summer': 7654, 'scorcher.': 7655, 'aka': 7656, 'strauss': 7657, 'malk': 7658, 'llp': 7659, 'il.': 7660, 'firm': 7661, 'area.': 7662, 'snooping': 7663, 'shed': 7664, 'privilege\".': 7665, 'fatherless': 7666, 'men?': 7667, 'info.': 7668, 'souls': 7669, 'enjoyed': 7670, 'godfather': 7671, 'black...duh': 7672, 'half......size': 7673, 'matters....': 7674, 'ms': 7675, 'directed': 7676, 'print.': 7677, 'christ,': 7678, 'humans': 7679, 'evolved': 7680, 'primates': 7681, 'evolved?': 7682, 'stillare': 7683, 'primates....': 7684, 'evolutionists': 7685, 'backing': 7686, '\"evolving\"': 7687, 'breeding.': 7688, 'nascar': 7689, 'indy,': 7690, 'race-ist': 7691, 'brianne': 7692, 'samich.': 7693, 'roflmao': 7694, 'laughed': 7695, 'sprayed': 7696, 'keyboard': 7697, 'crappy': 7698, 'smile': 7699, 'grubers.': 7700, 'weird': 7701, 'satisfaction': 7702, 'garnering': 7703, 'ignored': 7704, 'whatever,': 7705, 'creepy': 7706, 'speaks': 7707, 'volumes': 7708, 'intelligence,': 7709, 'compassion.': 7710, 'actually.': 7711, 'lived....': 7712, 'cage???': 7713, 'gorilla.': 7714, 'against.': 7715, 'chambers.': 7716, 'foot,': 7717, 'nevertheless.': 7718, 'rocker.': 7719, 'breeding...we': 7720, 'hope.': 7721, 'cancer': 7722, '\"anonymity\"': 7723, 'cowardly': 7724, 'remarks.': 7725, 'somebody,': 7726, 'man/girl': 7727, \"mommy's\": 7728, 'synical5': 7729, 'name...': 7730, '“brienne': 7731, 'snarth”,': 7732, 'courage': 7733, 'crawl': 7734, 'cess': 7735, 'ridden': 7736, 'rock': 7737, 'slither': 7738, 'beneath': 7739, 'privilege\"': 7740, 'about..............': 7741, 'anarchary.': 7742, 'to,': 7743, 'oath': 7744, 'permit': 7745, 'ever...': 7746, 'acronym.....': 7747, 'own,': 7748, 'abortion--only': 7749, 'aborted--the': 7750, 'stayed.': 7751, 'down\"': 7752, 'morris': 7753, 'rude,': 7754, 'noooo': 7755, 'shock.': 7756, 'dox': 7757, 'snarky': 7758, 'snarth.': 7759, '\"later,': 7760, 'gator\"': 7761, 'anonymity': 7762, 'brave': 7763, 'compassion': 7764, 'stool.': 7765, 'childs': 7766, 'pool': 7767, 'heated': 7768, 'lagoon': 7769, '$5': 7770, 'cup': 7771, \"there...it's\": 7772, 'child,': 7773, 'posing': 7774, 'alabaster': 7775, 'occupation': 7776, '144': 7777, 'characters': 7778, '10,000': 7779, 'her/him/it': 7780, 'fascinating....now': 7781, 'gurl?boy?it': 7782, 'overcome': 7783, 'privilege...and': 7784, 'toss': 7785, 'likes': 7786, 'dark': 7787, 'meat.': 7788, 'agree...you': 7789, 'unfair': 7790, 'gator,': 7791, 'lions': 7792, 'natives,': 7793, 'lick': 7794, 'arises': 7795, 'afterwards': 7796, 'taste...': 7797, 'refers': 7798, '\"social': 7799, 'justice\"': 7800, 'activist,': 7801, 'spouts': 7802, 'dim-wit??': 7803, 'who...': 7804, 'nobodys': 7805, 'loose': 7806, 'meds': 7807, 'leftist.': 7808, ',esp': 7809, 'women.gee,': 7810, 'why?????': 7811, 'straight': 7812, '...work': 7813}\n",
            "(1513, 56)\n",
            "(1513, 2)\n",
            "7814\n"
          ],
          "name": "stdout"
        }
      ]
    },
    {
      "cell_type": "code",
      "metadata": {
        "colab": {
          "base_uri": "https://localhost:8080/",
          "height": 419
        },
        "id": "yhga6vU3eAJJ",
        "outputId": "3be9688d-70cb-4e25-f874-3ab882534cd4"
      },
      "source": [
        "y_train"
      ],
      "execution_count": null,
      "outputs": [
        {
          "output_type": "execute_result",
          "data": {
            "text/html": [
              "<div>\n",
              "<style scoped>\n",
              "    .dataframe tbody tr th:only-of-type {\n",
              "        vertical-align: middle;\n",
              "    }\n",
              "\n",
              "    .dataframe tbody tr th {\n",
              "        vertical-align: top;\n",
              "    }\n",
              "\n",
              "    .dataframe thead th {\n",
              "        text-align: right;\n",
              "    }\n",
              "</style>\n",
              "<table border=\"1\" class=\"dataframe\">\n",
              "  <thead>\n",
              "    <tr style=\"text-align: right;\">\n",
              "      <th></th>\n",
              "      <th>0</th>\n",
              "      <th>1</th>\n",
              "    </tr>\n",
              "  </thead>\n",
              "  <tbody>\n",
              "    <tr>\n",
              "      <th>0</th>\n",
              "      <td>0</td>\n",
              "      <td>1</td>\n",
              "    </tr>\n",
              "    <tr>\n",
              "      <th>1</th>\n",
              "      <td>0</td>\n",
              "      <td>1</td>\n",
              "    </tr>\n",
              "    <tr>\n",
              "      <th>2</th>\n",
              "      <td>1</td>\n",
              "      <td>0</td>\n",
              "    </tr>\n",
              "    <tr>\n",
              "      <th>3</th>\n",
              "      <td>0</td>\n",
              "      <td>1</td>\n",
              "    </tr>\n",
              "    <tr>\n",
              "      <th>4</th>\n",
              "      <td>0</td>\n",
              "      <td>1</td>\n",
              "    </tr>\n",
              "    <tr>\n",
              "      <th>...</th>\n",
              "      <td>...</td>\n",
              "      <td>...</td>\n",
              "    </tr>\n",
              "    <tr>\n",
              "      <th>1508</th>\n",
              "      <td>0</td>\n",
              "      <td>1</td>\n",
              "    </tr>\n",
              "    <tr>\n",
              "      <th>1509</th>\n",
              "      <td>0</td>\n",
              "      <td>1</td>\n",
              "    </tr>\n",
              "    <tr>\n",
              "      <th>1510</th>\n",
              "      <td>0</td>\n",
              "      <td>1</td>\n",
              "    </tr>\n",
              "    <tr>\n",
              "      <th>1511</th>\n",
              "      <td>0</td>\n",
              "      <td>1</td>\n",
              "    </tr>\n",
              "    <tr>\n",
              "      <th>1512</th>\n",
              "      <td>0</td>\n",
              "      <td>1</td>\n",
              "    </tr>\n",
              "  </tbody>\n",
              "</table>\n",
              "<p>1513 rows × 2 columns</p>\n",
              "</div>"
            ],
            "text/plain": [
              "      0  1\n",
              "0     0  1\n",
              "1     0  1\n",
              "2     1  0\n",
              "3     0  1\n",
              "4     0  1\n",
              "...  .. ..\n",
              "1508  0  1\n",
              "1509  0  1\n",
              "1510  0  1\n",
              "1511  0  1\n",
              "1512  0  1\n",
              "\n",
              "[1513 rows x 2 columns]"
            ]
          },
          "metadata": {
            "tags": []
          },
          "execution_count": 28
        }
      ]
    },
    {
      "cell_type": "markdown",
      "metadata": {
        "id": "6Hi-e99qpJvj"
      },
      "source": [
        "Loading the Movies dataset and preparing the encodings for each utterences"
      ]
    },
    {
      "cell_type": "code",
      "metadata": {
        "colab": {
          "base_uri": "https://localhost:8080/",
          "height": 419
        },
        "id": "EWYrA012aQDq",
        "outputId": "077d32d3-35e7-4272-baa7-d8c3bdd34fe8"
      },
      "source": [
        "df_AllMovie = pd.read_csv('/content/drive/MyDrive/IAS/NLP_and_Web/data/all_movies.csv')\n",
        "df_AllMovie"
      ],
      "execution_count": null,
      "outputs": [
        {
          "output_type": "execute_result",
          "data": {
            "text/html": [
              "<div>\n",
              "<style scoped>\n",
              "    .dataframe tbody tr th:only-of-type {\n",
              "        vertical-align: middle;\n",
              "    }\n",
              "\n",
              "    .dataframe tbody tr th {\n",
              "        vertical-align: top;\n",
              "    }\n",
              "\n",
              "    .dataframe thead th {\n",
              "        text-align: right;\n",
              "    }\n",
              "</style>\n",
              "<table border=\"1\" class=\"dataframe\">\n",
              "  <thead>\n",
              "    <tr style=\"text-align: right;\">\n",
              "      <th></th>\n",
              "      <th>Unnamed: 0</th>\n",
              "      <th>movie_id</th>\n",
              "      <th>batch_id</th>\n",
              "      <th>majority_answer</th>\n",
              "      <th>text</th>\n",
              "      <th>movie_name</th>\n",
              "    </tr>\n",
              "  </thead>\n",
              "  <tbody>\n",
              "    <tr>\n",
              "      <th>0</th>\n",
              "      <td>0</td>\n",
              "      <td>AmericanHistoryX(1998)_1</td>\n",
              "      <td>1566624979</td>\n",
              "      <td>0</td>\n",
              "      <td>Derek.</td>\n",
              "      <td>AmerricanHistoryX</td>\n",
              "    </tr>\n",
              "    <tr>\n",
              "      <th>1</th>\n",
              "      <td>1</td>\n",
              "      <td>AmericanHistoryX(1998)_2</td>\n",
              "      <td>1566624979</td>\n",
              "      <td>1</td>\n",
              "      <td>What the fuck are you thinking?</td>\n",
              "      <td>AmerricanHistoryX</td>\n",
              "    </tr>\n",
              "    <tr>\n",
              "      <th>2</th>\n",
              "      <td>2</td>\n",
              "      <td>AmericanHistoryX(1998)_3</td>\n",
              "      <td>1566624979</td>\n",
              "      <td>0</td>\n",
              "      <td>There's a black guy outside breaking into your...</td>\n",
              "      <td>AmerricanHistoryX</td>\n",
              "    </tr>\n",
              "    <tr>\n",
              "      <th>3</th>\n",
              "      <td>3</td>\n",
              "      <td>AmericanHistoryX(1998)_4</td>\n",
              "      <td>1566624979</td>\n",
              "      <td>0</td>\n",
              "      <td>How long has he been there?</td>\n",
              "      <td>AmerricanHistoryX</td>\n",
              "    </tr>\n",
              "    <tr>\n",
              "      <th>4</th>\n",
              "      <td>4</td>\n",
              "      <td>AmericanHistoryX(1998)_5</td>\n",
              "      <td>1566624979</td>\n",
              "      <td>0</td>\n",
              "      <td>I don't know.</td>\n",
              "      <td>AmerricanHistoryX</td>\n",
              "    </tr>\n",
              "    <tr>\n",
              "      <th>...</th>\n",
              "      <td>...</td>\n",
              "      <td>...</td>\n",
              "      <td>...</td>\n",
              "      <td>...</td>\n",
              "      <td>...</td>\n",
              "      <td>...</td>\n",
              "    </tr>\n",
              "    <tr>\n",
              "      <th>10683</th>\n",
              "      <td>10683</td>\n",
              "      <td>TheWolfofWallStreet2013BluRay_3724</td>\n",
              "      <td>3859903933</td>\n",
              "      <td>0</td>\n",
              "      <td>Sell me this pen.</td>\n",
              "      <td>TheWolfofWallStreet</td>\n",
              "    </tr>\n",
              "    <tr>\n",
              "      <th>10684</th>\n",
              "      <td>10684</td>\n",
              "      <td>TheWolfofWallStreet2013BluRay_3725</td>\n",
              "      <td>3859903933</td>\n",
              "      <td>0</td>\n",
              "      <td>Well, it's a nice pen.</td>\n",
              "      <td>TheWolfofWallStreet</td>\n",
              "    </tr>\n",
              "    <tr>\n",
              "      <th>10685</th>\n",
              "      <td>10685</td>\n",
              "      <td>TheWolfofWallStreet2013BluRay_3726_3727</td>\n",
              "      <td>3859903933</td>\n",
              "      <td>0</td>\n",
              "      <td>You can use the pen to write down thoughts fro...</td>\n",
              "      <td>TheWolfofWallStreet</td>\n",
              "    </tr>\n",
              "    <tr>\n",
              "      <th>10686</th>\n",
              "      <td>10686</td>\n",
              "      <td>TheWolfofWallStreet2013BluRay_3728</td>\n",
              "      <td>3859903933</td>\n",
              "      <td>0</td>\n",
              "      <td>Sell me this pen.</td>\n",
              "      <td>TheWolfofWallStreet</td>\n",
              "    </tr>\n",
              "    <tr>\n",
              "      <th>10687</th>\n",
              "      <td>10687</td>\n",
              "      <td>TheWolfofWallStreet2013BluRay_3729_3730</td>\n",
              "      <td>3859903933</td>\n",
              "      <td>0</td>\n",
              "      <td>Well... This pen works and I personally love t...</td>\n",
              "      <td>TheWolfofWallStreet</td>\n",
              "    </tr>\n",
              "  </tbody>\n",
              "</table>\n",
              "<p>10688 rows × 6 columns</p>\n",
              "</div>"
            ],
            "text/plain": [
              "       Unnamed: 0  ...           movie_name\n",
              "0               0  ...    AmerricanHistoryX\n",
              "1               1  ...    AmerricanHistoryX\n",
              "2               2  ...    AmerricanHistoryX\n",
              "3               3  ...    AmerricanHistoryX\n",
              "4               4  ...    AmerricanHistoryX\n",
              "...           ...  ...                  ...\n",
              "10683       10683  ...  TheWolfofWallStreet\n",
              "10684       10684  ...  TheWolfofWallStreet\n",
              "10685       10685  ...  TheWolfofWallStreet\n",
              "10686       10686  ...  TheWolfofWallStreet\n",
              "10687       10687  ...  TheWolfofWallStreet\n",
              "\n",
              "[10688 rows x 6 columns]"
            ]
          },
          "metadata": {
            "tags": []
          },
          "execution_count": 29
        }
      ]
    },
    {
      "cell_type": "code",
      "metadata": {
        "id": "sJP2S70bpLvR"
      },
      "source": [
        "#df_AllMovie.drop(columns=['Unnamed: 0','Unnamed: 6','Unnamed: 7'],inplace=True)"
      ],
      "execution_count": null,
      "outputs": []
    },
    {
      "cell_type": "markdown",
      "metadata": {
        "id": "eN7xVVOkLGNZ"
      },
      "source": [
        "####combining (Hate + offensive) labels in all movies dataset together as Hate"
      ]
    },
    {
      "cell_type": "code",
      "metadata": {
        "colab": {
          "base_uri": "https://localhost:8080/",
          "height": 419
        },
        "id": "9-6kDWpnLVkA",
        "outputId": "c12be7a4-2c39-4b43-ed7a-5829b0a2b161"
      },
      "source": [
        "#make the all movies dataset as 0: neither, 1:hate (the hate and offensive labels are clubbed together into hate(1))\n",
        "df_AllMovie[\"majority_answer\"].replace({2:1}, inplace=True)\n",
        "df_AllMovie"
      ],
      "execution_count": null,
      "outputs": [
        {
          "output_type": "execute_result",
          "data": {
            "text/html": [
              "<div>\n",
              "<style scoped>\n",
              "    .dataframe tbody tr th:only-of-type {\n",
              "        vertical-align: middle;\n",
              "    }\n",
              "\n",
              "    .dataframe tbody tr th {\n",
              "        vertical-align: top;\n",
              "    }\n",
              "\n",
              "    .dataframe thead th {\n",
              "        text-align: right;\n",
              "    }\n",
              "</style>\n",
              "<table border=\"1\" class=\"dataframe\">\n",
              "  <thead>\n",
              "    <tr style=\"text-align: right;\">\n",
              "      <th></th>\n",
              "      <th>Unnamed: 0</th>\n",
              "      <th>movie_id</th>\n",
              "      <th>batch_id</th>\n",
              "      <th>majority_answer</th>\n",
              "      <th>text</th>\n",
              "      <th>movie_name</th>\n",
              "    </tr>\n",
              "  </thead>\n",
              "  <tbody>\n",
              "    <tr>\n",
              "      <th>0</th>\n",
              "      <td>0</td>\n",
              "      <td>AmericanHistoryX(1998)_1</td>\n",
              "      <td>1566624979</td>\n",
              "      <td>0</td>\n",
              "      <td>Derek.</td>\n",
              "      <td>AmerricanHistoryX</td>\n",
              "    </tr>\n",
              "    <tr>\n",
              "      <th>1</th>\n",
              "      <td>1</td>\n",
              "      <td>AmericanHistoryX(1998)_2</td>\n",
              "      <td>1566624979</td>\n",
              "      <td>1</td>\n",
              "      <td>What the fuck are you thinking?</td>\n",
              "      <td>AmerricanHistoryX</td>\n",
              "    </tr>\n",
              "    <tr>\n",
              "      <th>2</th>\n",
              "      <td>2</td>\n",
              "      <td>AmericanHistoryX(1998)_3</td>\n",
              "      <td>1566624979</td>\n",
              "      <td>0</td>\n",
              "      <td>There's a black guy outside breaking into your...</td>\n",
              "      <td>AmerricanHistoryX</td>\n",
              "    </tr>\n",
              "    <tr>\n",
              "      <th>3</th>\n",
              "      <td>3</td>\n",
              "      <td>AmericanHistoryX(1998)_4</td>\n",
              "      <td>1566624979</td>\n",
              "      <td>0</td>\n",
              "      <td>How long has he been there?</td>\n",
              "      <td>AmerricanHistoryX</td>\n",
              "    </tr>\n",
              "    <tr>\n",
              "      <th>4</th>\n",
              "      <td>4</td>\n",
              "      <td>AmericanHistoryX(1998)_5</td>\n",
              "      <td>1566624979</td>\n",
              "      <td>0</td>\n",
              "      <td>I don't know.</td>\n",
              "      <td>AmerricanHistoryX</td>\n",
              "    </tr>\n",
              "    <tr>\n",
              "      <th>...</th>\n",
              "      <td>...</td>\n",
              "      <td>...</td>\n",
              "      <td>...</td>\n",
              "      <td>...</td>\n",
              "      <td>...</td>\n",
              "      <td>...</td>\n",
              "    </tr>\n",
              "    <tr>\n",
              "      <th>10683</th>\n",
              "      <td>10683</td>\n",
              "      <td>TheWolfofWallStreet2013BluRay_3724</td>\n",
              "      <td>3859903933</td>\n",
              "      <td>0</td>\n",
              "      <td>Sell me this pen.</td>\n",
              "      <td>TheWolfofWallStreet</td>\n",
              "    </tr>\n",
              "    <tr>\n",
              "      <th>10684</th>\n",
              "      <td>10684</td>\n",
              "      <td>TheWolfofWallStreet2013BluRay_3725</td>\n",
              "      <td>3859903933</td>\n",
              "      <td>0</td>\n",
              "      <td>Well, it's a nice pen.</td>\n",
              "      <td>TheWolfofWallStreet</td>\n",
              "    </tr>\n",
              "    <tr>\n",
              "      <th>10685</th>\n",
              "      <td>10685</td>\n",
              "      <td>TheWolfofWallStreet2013BluRay_3726_3727</td>\n",
              "      <td>3859903933</td>\n",
              "      <td>0</td>\n",
              "      <td>You can use the pen to write down thoughts fro...</td>\n",
              "      <td>TheWolfofWallStreet</td>\n",
              "    </tr>\n",
              "    <tr>\n",
              "      <th>10686</th>\n",
              "      <td>10686</td>\n",
              "      <td>TheWolfofWallStreet2013BluRay_3728</td>\n",
              "      <td>3859903933</td>\n",
              "      <td>0</td>\n",
              "      <td>Sell me this pen.</td>\n",
              "      <td>TheWolfofWallStreet</td>\n",
              "    </tr>\n",
              "    <tr>\n",
              "      <th>10687</th>\n",
              "      <td>10687</td>\n",
              "      <td>TheWolfofWallStreet2013BluRay_3729_3730</td>\n",
              "      <td>3859903933</td>\n",
              "      <td>0</td>\n",
              "      <td>Well... This pen works and I personally love t...</td>\n",
              "      <td>TheWolfofWallStreet</td>\n",
              "    </tr>\n",
              "  </tbody>\n",
              "</table>\n",
              "<p>10688 rows × 6 columns</p>\n",
              "</div>"
            ],
            "text/plain": [
              "       Unnamed: 0  ...           movie_name\n",
              "0               0  ...    AmerricanHistoryX\n",
              "1               1  ...    AmerricanHistoryX\n",
              "2               2  ...    AmerricanHistoryX\n",
              "3               3  ...    AmerricanHistoryX\n",
              "4               4  ...    AmerricanHistoryX\n",
              "...           ...  ...                  ...\n",
              "10683       10683  ...  TheWolfofWallStreet\n",
              "10684       10684  ...  TheWolfofWallStreet\n",
              "10685       10685  ...  TheWolfofWallStreet\n",
              "10686       10686  ...  TheWolfofWallStreet\n",
              "10687       10687  ...  TheWolfofWallStreet\n",
              "\n",
              "[10688 rows x 6 columns]"
            ]
          },
          "metadata": {
            "tags": []
          },
          "execution_count": 31
        }
      ]
    },
    {
      "cell_type": "code",
      "metadata": {
        "colab": {
          "base_uri": "https://localhost:8080/"
        },
        "id": "k7O_do64OUHW",
        "outputId": "e4392e43-4742-4d4c-befd-9397fd8f13ca"
      },
      "source": [
        "X_test_AllMovie, y_test_AllMovie, vocab_size = encode(df_AllMovie['text'], df_AllMovie['majority_answer'])\n",
        "print(vocab_size)"
      ],
      "execution_count": null,
      "outputs": [
        {
          "output_type": "stream",
          "text": [
            "{'the': 1, 'to': 2, 'and': 3, 'a': 4, 'of': 5, 'is': 6, 'in': 7, 'that': 8, 'you': 9, 'i': 10, 'are': 11, 'for': 12, 'it': 13, 'they': 14, 'not': 15, 'have': 16, 'be': 17, 'with': 18, 'on': 19, 'this': 20, 'as': 21, 'was': 22, 'people': 23, 'who': 24, 'all': 25, 'your': 26, 'will': 27, 'what': 28, 'but': 29, 'or': 30, 'their': 31, 'if': 32, 'no': 33, 'just': 34, 'so': 35, 'we': 36, 'do': 37, 'by': 38, 'like': 39, 'an': 40, 'has': 41, 'from': 42, 'at': 43, 'would': 44, 'can': 45, 'get': 46, 'about': 47, 'he': 48, 'she': 49, 'should': 50, \"don't\": 51, 'them': 52, 'how': 53, 'there': 54, 'more': 55, 'because': 56, \"it's\": 57, 'up': 58, 'one': 59, 'my': 60, 'than': 61, 'out': 62, 'only': 63, 'when': 64, 'his': 65, 'why': 66, 'any': 67, 'our': 68, 'white': 69, 'make': 70, 'some': 71, 'obama': 72, 'then': 73, 'these': 74, 'her': 75, 'been': 76, 'want': 77, 'were': 78, 'think': 79, 'did': 80, 'never': 81, 'does': 82, 'work': 83, 'after': 84, 'flag': 85, 'country': 86, 'know': 87, 'many': 88, 'had': 89, 'its': 90, 'need': 91, 'those': 92, 'now': 93, 'into': 94, 'being': 95, 'it.': 96, 'other': 97, 'even': 98, 'go': 99, 'see': 100, 'good': 101, 'over': 102, 'very': 103, 'could': 104, 'black': 105, 'government': 106, 'much': 107, \"that's\": 108, 'right': 109, '-': 110, 'said': 111, 'us': 112, 'me': 113, 'same': 114, 'where': 115, \"can't\": 116, 'keep': 117, 'law': 118, 'which': 119, 'first': 120, 'most': 121, 'america': 122, 'food': 123, 'say': 124, 'back': 125, 'really': 126, 'liberals': 127, 'own': 128, 'american': 129, 'against': 130, 'state': 131, 'person': 132, 'take': 133, 'off': 134, \"didn't\": 135, \"i'm\": 136, 'going': 137, \"you're\": 138, 'also': 139, 'sure': 140, 'him': 141, 'states': 142, 'maybe': 143, 'trump': 144, 'down': 145, 'stop': 146, 'better': 147, 'time': 148, 'nothing': 149, 'believe': 150, 'blacks': 151, 'way': 152, 'here': 153, \"isn't\": 154, 'illegal': 155, \"doesn't\": 156, 'give': 157, 'another': 158, 'still': 159, 'years': 160, 'every': 161, 'too': 162, 'hate': 163, 'pay': 164, 'name': 165, 'israel': 166, 'them.': 167, 'help': 168, 'job': 169, 'someone': 170, 'anything': 171, 'social': 172, 'college': 173, 'ship': 174, 'liberal': 175, 'come': 176, 'always': 177, 'am': 178, 'federal': 179, '.': 180, 'navy': 181, 'women': 182, 'means': 183, 'family': 184, 'such': 185, 'ever': 186, 'given': 187, 'new': 188, 'made': 189, 'care': 190, 'great': 191, 'try': 192, 'while': 193, 'under': 194, '&': 195, 'man': 196, 'look': 197, 'talking': 198, 'thing': 199, 'understand': 200, 'around': 201, 'actually': 202, 'well': 203, 'little': 204, 'welfare': 205, 'affirmative': 206, 'put': 207, 'support': 208, 'live': 209, 'house': 210, 'money': 211, 'wrong': 212, 'something': 213, 'lives': 214, 'working': 215, 'gay': 216, 'number': 217, 'let': 218, 'children': 219, 'before': 220, 'must': 221, 'real': 222, 'use': 223, 'since': 224, 'used': 225, 'vote': 226, 'getting': 227, 'day': 228, 'anyone': 229, 'else': 230, 'matter': 231, 'students': 232, 'confederate': 233, 'stamps': 234, 'away': 235, 'making': 236, 'democrats': 237, 'citizens': 238, 'got': 239, 'laws': 240, 'agree': 241, 'americans': 242, 'called': 243, 'different': 244, 'others': 245, 'far': 246, 'civil': 247, 'kids': 248, 'paid': 249, 'illegals': 250, 'free': 251, 'jobs': 252, ',': 253, 'action': 254, 'flying': 255, 'until': 256, 'public': 257, 'doing': 258, 'problem': 259, 'you.': 260, 'human': 261, 'everything': 262, 'rights': 263, 'find': 264, 'read': 265, 'long': 266, 'blm': 267, 'men': 268, 'already': 269, 'woman': 270, 'again': 271, 'last': 272, 'point': 273, 'parents': 274, 'sense': 275, 'old': 276, 'president': 277, 'life': 278, 'speech': 279, 'world': 280, 'makes': 281, 'enough': 282, 'become': 283, 'political': 284, 'part': 285, 'seems': 286, 'guess': 287, 'without': 288, \"they're\": 289, 'having': 290, 'that.': 291, 'united': 292, 'needs': 293, 'freedom': 294, 'income': 295, 'land': 296, 'two': 297, 'bill': 298, 'lot': 299, 'mean': 300, 'feel': 301, 'allow': 302, 'high': 303, 'saying': 304, 'things': 305, 'both': 306, 'fact': 307, 'living': 308, \"he's\": 309, 'says': 310, 'may': 311, 'hillary': 312, 'year': 313, 'racist': 314, 'history': 315, 'racism': 316, 'group': 317, 'worse': 318, 'trying': 319, 'though': 320, 'so,': 321, 'true': 322, 'no,': 323, 'mind': 324, 'change': 325, 'wonder': 326, 'left': 327, 'using': 328, 'few': 329, 'show': 330, 'forced': 331, 'might': 332, 'military': 333, 'is.': 334, 'full': 335, 'water': 336, 'colleges': 337, 'sexual': 338, '?': 339, 'yes': 340, 'clinton': 341, 'terrorist': 342, 'one.': 343, 'right.': 344, 'instead': 345, 'through': 346, 'gays': 347, 'lie': 348, 'wants': 349, 'coming': 350, 'god': 351, 'tell': 352, 'slaves': 353, 'next': 354, 'security': 355, 'bad': 356, 'everyone': 357, 'poor': 358, '2': 359, 'bet': 360, 'hatred': 361, 'diversity': 362, 'longer': 363, 'german': 364, 'probably': 365, 'allowed': 366, 'once': 367, 'out.': 368, 'politicians': 369, 'nation': 370, 'clearly': 371, 'unless': 372, 'remember': 373, 'gender': 374, 'bathroom': 375, 'wish': 376, \"couldn't\": 377, 'stand': 378, 'office': 379, 'born': 380, 'based': 381, 'less': 382, 'call': 383, 'times': 384, 'comes': 385, 'jesus': 386, 'hope': 387, 'place': 388, 'defend': 389, 'open': 390, 'rather': 391, 'yet': 392, 'school': 393, 'lost': 394, 'isis': 395, 'watch': 396, 'asked': 397, 'please': 398, 'not.': 399, 'police': 400, 'during': 401, 'proud': 402, 'michelle': 403, 'barker': 404, 'exactly': 405, 'pass': 406, \"aren't\": 407, 'muslims': 408, 'end': 409, 'whole': 410, 'especially': 411, 'criminals': 412, 'hard': 413, 'learn': 414, 'work.': 415, 'cannot': 416, 'religion': 417, 'this.': 418, 'tax': 419, 'time.': 420, 'post': 421, 'answer': 422, 'small': 423, 'society': 424, 'it,': 425, 'rest': 426, 'thinking': 427, 'least': 428, 'kind': 429, 'serve': 430, 'comment': 431, '...': 432, 'move': 433, 'went': 434, 'boy': 435, 'million': 436, 'started': 437, 'fix': 438, 'love': 439, 'qualified': 440, 'fly': 441, 'naming': 442, 'flag.': 443, 'war': 444, 'alligators': 445, 'is,': 446, \"won't\": 447, 'idea': 448, 'u': 449, 'rid': 450, 'reason': 451, 'thought': 452, 'none': 453, 'win': 454, 'fox': 455, 'middle': 456, 'families': 457, 'either': 458, 'yes,': 459, 'etc.': 460, 'oh': 461, 'you,': 462, 'supporters': 463, 'case': 464, 'now.': 465, 'sick': 466, 'point.': 467, 'jewish': 468, 'slavery': 469, 'health': 470, 'issue': 471, 'young': 472, 'ok': 473, 'up.': 474, 'you?': 475, 'cities': 476, 'aliens': 477, 'national': 478, 'lol': 479, \"i'll\": 480, 'sanctuary': 481, 'paying': 482, 'us.': 483, 'hispanics': 484, 'follow': 485, 'start': 486, 'taxes': 487, 'lady': 488, 'taken': 489, 'oh,': 490, 'teach': 491, 'that,': 492, 'sounds': 493, 'me.': 494, 'responsible': 495, 'protect': 496, 'sad': 497, 'state.': 498, 'order': 499, 'islam': 500, 'type': 501, 'on.': 502, 'law.': 503, 'self': 504, 'local': 505, 'death': 506, 'education': 507, 'transgender': 508, 'equal': 509, 'becoming': 510, 'hilary': 511, 'dems': 512, 'years.': 513, \"haven't\": 514, 'question': 515, 'ones': 516, 'evil': 517, 'media': 518, 'confused': 519, 'however,': 520, 'way.': 521, 'face': 522, 'truly': 523, 'able': 524, 'level': 525, 'shot': 526, 'taking': 527, 'behind': 528, 'do.': 529, 'wanted': 530, 'failed': 531, 'seem': 532, 'immigration': 533, 'killed': 534, 'ice': 535, 'illegally': 536, 'looks': 537, 'dead': 538, 'true.': 539, 'population': 540, 'south': 541, \"shouldn't\": 542, 'whites': 543, 'play': 544, 'power': 545, '6': 546, 'unemployment': 547, 'worst': 548, 'husband': 549, 'jews': 550, 'uss': 551, 'thousands': 552, 'gorilla': 553, 'expect': 554, \"we're\": 555, \"what's\": 556, 'convicted': 557, '\"': 558, 'raped': 559, 'lets': 560, 'talk': 561, 'several': 562, 'happen': 563, 'countries': 564, '--': 565, 'members': 566, 'lack': 567, 'country.': 568, 'control': 569, 'dont': 570, 'hear': 571, \"she's\": 572, 'america.': 573, 'big': 574, 'fine': 575, 'nice': 576, 'came': 577, 'second': 578, 'capable': 579, 'turn': 580, '3': 581, 'eastern': 582, 'run': 583, 'harm': 584, 'confusion': 585, 'wrong.': 586, 'term': 587, 'looking': 588, 'truth': 589, 'best': 590, 'done': 591, 'created': 592, 'brain': 593, 'simply': 594, 'people.': 595, 'months': 596, 'send': 597, 'took': 598, \"obama's\": 599, 'in.': 600, 'about?': 601, 'perversion': 602, 'perhaps': 603, 'neither': 604, 'enforcement': 605, 'guy': 606, 'u.s.': 607, '2016': 608, 'three': 609, 'multiple': 610, 'chicago': 611, 'catholic': 612, 'church': 613, 'policy': 614, 'home': 615, 'afford': 616, 'ebt': 617, 'served': 618, 'san': 619, 'front': 620, 'offer': 621, 'sorry': 622, '9': 623, 'continue': 624, 'seen': 625, 'worked': 626, 'known': 627, 'racial': 628, 'southern': 629, 'government.': 630, 'native': 631, 'gotten': 632, 'feminist': 633, 'alligator': 634, 'gator': 635, 'merkel': 636, \"wasn't\": 637, '\"no\"': 638, 'millions': 639, 'bunch': 640, 'each': 641, 'socialist': 642, 'previous': 643, 'core': 644, 'speech.': 645, 'sharia': 646, 'all.': 647, 'no.': 648, 'large': 649, \"i'd\": 650, 'international': 651, 'male': 652, 'considered': 653, 'failure': 654, 'shows': 655, 'democratic': 656, 'case,': 657, 'conservatives': 658, 'thats': 659, 'told': 660, 'again,': 661, \"you've\": 662, 'couple': 663, 'republican': 664, 'well.': 665, 'schools': 666, 'friends': 667, 'sad.': 668, 'bother': 669, 'nonsense.': 670, 'actual': 671, 'first,': 672, 'itself': 673, 'claim': 674, 'refused': 675, 'nature': 676, 'dangerous': 677, 'due': 678, 'minds': 679, 'inner': 680, 'mention': 681, 'moral': 682, 'correctness': 683, 'various': 684, 'suppose': 685, 'between': 686, 'nobody': 687, 'service': 688, 'religious': 689, 'discriminate': 690, 'are.': 691, 'usually': 692, 'speak': 693, 'facts': 694, 'simple': 695, '–': 696, 'calling': 697, 'themselves': 698, 'innocent': 699, 'supporting': 700, 'ago.': 701, 'notice': 702, 'correct': 703, 'ha': 704, 'explain': 705, 'gets': 706, 'terrible': 707, 'worse.': 708, 'ladies': 709, 'pushing': 710, \"i've\": 711, 'wearing': 712, 'drug': 713, 'body': 714, 'discrimination': 715, 'not,': 716, 'heard': 717, 'compliance': 718, 'pointing': 719, 'current': 720, 'pedophile': 721, 'happens': 722, 'immigrant': 723, 'married': 724, 'remove': 725, 'criminal': 726, 'leaves': 727, 'sold': 728, 'honorable': 729, 'donald': 730, 'according': 731, 'rules': 732, 'article': 733, 'words': 734, 'know.': 735, 'grow': 736, 'build': 737, 'funny': 738, 'entire': 739, 'signs': 740, 'wife': 741, 'judge': 742, 'commencement': 743, '4': 744, 'available': 745, '20': 746, 'minorities': 747, 'surprise': 748, 'harvey': 749, 'named': 750, 'milk': 751, 'count': 752, 'color': 753, 'fought': 754, 'battle': 755, 'stars': 756, 'constitution.': 757, 'jews.': 758, 'sign': 759, 'apply': 760, 'student': 761, 'system': 762, 'buy': 763, 'child': 764, 'dad': 765, 'parent': 766, '\"white': 767, 'brienne': 768, 'pull': 769, 'assault': 770, 'suspended': 771, 'well,': 772, 'laid': 773, 'deported': 774, 'republicans': 775, 'yeah': 776, 'crime': 777, 'elected': 778, 'yourself': 779, 'monkey': 780, 'apparently': 781, 'so.': 782, 'with.': 783, 'violent': 784, '(and': 785, 'foreign': 786, 'too.': 787, 'problem.': 788, 'course': 789, 'except': 790, 'immigrants': 791, 'that?': 792, 'leave': 793, 'though.': 794, 'subject': 795, 'man.': 796, 'act': 797, 'thank': 798, 'certain': 799, 'silly': 800, 'protecting': 801, 'sense.': 802, 'jail': 803, 'office.': 804, 'yeah,': 805, 'justice': 806, 'referring': 807, 'depends': 808, 'lived': 809, 'often': 810, 'obviously': 811, 'bathrooms': 812, 'huge': 813, 'right?': 814, 'nor': 815, 'say.': 816, 'clear': 817, 'hoping': 818, 'help.': 819, 'original': 820, 'result': 821, 'cons': 822, 'here.': 823, 'conservative': 824, 'reality.': 825, 'reality': 826, 'adults': 827, 'issues': 828, 'bring': 829, 'real.': 830, 'inherently': 831, 'individual': 832, 'and,': 833, 'possibly': 834, 'common': 835, 'somehow': 836, 'understanding': 837, 'treatment': 838, 'force': 839, 'along': 840, \"god's\": 841, 'general': 842, 'again.': 843, 'top': 844, 'morals': 845, 'whose': 846, 'bible': 847, 'yep': 848, 'write': 849, 'counter': 850, 'hide': 851, 'ask': 852, 'huh?': 853, 'bringing': 854, 'respect': 855, 'it?': 856, \"there's\": 857, 'doubt': 858, 'opinion': 859, 'game': 860, 'create': 861, 'birth': 862, 'up,': 863, 'north': 864, 'forget': 865, 'five': 866, 'major': 867, 'home.': 868, 'mexico': 869, 'hispanic': 870, 'everywhere': 871, 'appears': 872, 'died': 873, 'o': 874, 'google': 875, 'stay': 876, 'mexican': 877, 'ya': 878, 'including': 879, 'administration': 880, 'taxpayers': 881, 'trump.': 882, 'fast': 883, 'matter.': 884, 'information': 885, 'single': 886, 'program': 887, 'missed': 888, 'years,': 889, 'refuse': 890, 'rights.': 891, 'q.': 892, 'a.': 893, 'thanks': 894, 'concerned': 895, 'elite': 896, 'higher': 897, 're': 898, '\"the': 899, 'nothing.': 900, 'sit': 901, 'race': 902, 'skin': 903, 'shut': 904, 'out,': 905, 'walls': 906, 'consider': 907, '1': 908, 'spent': 909, 'house.': 910, 'plan': 911, 'company': 912, 'university': 913, 'class': 914, 'baby': 915, 'victims': 916, '....': 917, 'heart': 918, 'comments': 919, 'throw': 920, 'check': 921, 'proof': 922, 'hey': 923, 'racism,': 924, 'blame': 925, 'honorable\"': 926, 'discharge.': 927, 'ships': 928, 'planning': 929, 'provide': 930, 'treason': 931, 'signed': 932, 'represents': 933, 'constitution': 934, 'slavery.': 935, 'percentage': 936, 'enemy': 937, 'hate.': 938, 'first.': 939, 'eating': 940, 'financial': 941, 'diversity,': 942, 'qualify': 943, '\"diversity\"': 944, 'receive': 945, 'applied': 946, 'low': 947, 'junior': 948, 'requirement': 949, 'benefits': 950, 'recipients': 951, 'blah': 952, 'feminism': 953, 'gators': 954, 'towards': 955, 'pants': 956, 'abetting': 957, 'pathetic': 958, 'handed': 959, 'meaning': 960, 'soon': 961, 'humanity': 962, 'physical': 963, 'speech,': 964, 'belief': 965, 'care.': 966, 'about.': 967, '\"no': 968, 'laws.': 969, 'example': 970, 'numbers.': 971, 'leader': 972, 'law,': 973, 'themselves.': 974, 'animal': 975, 'court': 976, 'future.': 977, 'gun': 978, 'hates': 979, 'them,': 980, 'brought': 981, 'knows': 982, 'video': 983, 'wing': 984, 'equivalent': 985, 'felt': 986, 'exist.': 987, 'christians': 988, 'pretty': 989, 'female': 990, 'woman.': 991, 'wayne.': 992, 'admit': 993, 'violence': 994, 'dump': 995, 'four': 996, 'statement.': 997, 'morality': 998, 'ancient': 999, 'book': 1000, 'thinks': 1001, 'nonsense': 1002, 'fact.': 1003, 'names': 1004, 'caused': 1005, 'condition': 1006, 'willing': 1007, 'identity': 1008, 'they?': 1009, 'tried': 1010, 'believes': 1011, 'harmful': 1012, 'society.': 1013, 'are,': 1014, 'interest': 1015, 'conditions': 1016, 'psychology': 1017, 'process': 1018, 'before.': 1019, 'outside': 1020, 'takes': 1021, 'choose': 1022, '13': 1023, 'room': 1024, 'nuts': 1025, 'enter': 1026, 'supposed': 1027, 'putting': 1028, 'refute': 1029, 'attention': 1030, 'utter': 1031, 'truth.': 1032, '\"other': 1033, 'faith': 1034, 'president,': 1035, 'people?': 1036, 'news': 1037, 'yours': 1038, 'standard': 1039, 'founded': 1040, 'really?': 1041, 'push': 1042, '25': 1043, 'telling': 1044, '(or': 1045, 'job,': 1046, 'caught': 1047, 'issues.': 1048, 'protected': 1049, 'standing': 1050, 'limited': 1051, 'growing': 1052, 'side': 1053, 'president.': 1054, 'pro': 1055, 'seriously': 1056, 'figure': 1057, 'opinions': 1058, 'pedophiles': 1059, 'on,': 1060, 'equality': 1061, \"you'll\": 1062, 'cop': 1063, 'says,': 1064, 'cops': 1065, '50': 1066, 'voting': 1067, 'fraud': 1068, 'democrat': 1069, 'released': 1070, 'building': 1071, 'voters': 1072, 'her.': 1073, 'obama’s': 1074, 'george': 1075, 'bush': 1076, 'obama,': 1077, 'number.': 1078, 'numerous': 1079, 'commander': 1080, 'private': 1081, 'research': 1082, 'moved': 1083, 'pick': 1084, 'amazing': 1085, 'grandmother': 1086, 'aiding': 1087, 'day,': 1088, 'area': 1089, 'leaving': 1090, 'bars': 1091, 'works': 1092, 'control.': 1093, 'future': 1094, 'jobs.': 1095, 'safe': 1096, 'girls': 1097, 'die': 1098, 'currently': 1099, 'limit': 1100, 'money.': 1101, 'burn': 1102, 'easy': 1103, 'healthcare': 1104, 'chief': 1105, '=': 1106, 'backs': 1107, 'businesses': 1108, 'streets': 1109, 'wall': 1110, 'congress': 1111, 'workers': 1112, 'luck': 1113, 'hole': 1114, 'watching': 1115, 'bit': 1116, 'cant': 1117, 'else.': 1118, 'privileged': 1119, 'public.': 1120, 'soros': 1121, 'for.': 1122, 'pay?': 1123, 'successful': 1124, 'anybody': 1125, 'dollars': 1126, 'complete': 1127, 'wake': 1128, 'work,': 1129, 'debt': 1130, 'pos': 1131, '1st': 1132, 'chicago,': 1133, 'built': 1134, 'slaves.': 1135, 'but,': 1136, \"we've\": 1137, 'playing': 1138, 'speaker': 1139, 'gives': 1140, 'line': 1141, 'dude': 1142, 'whether': 1143, 'attack': 1144, 'above': 1145, 'slave': 1146, 'there.': 1147, 'fingers': 1148, 'barack': 1149, 'daughter': 1150, 'deserve': 1151, 'record': 1152, 'honor': 1153, 'discharge': 1154, 'village': 1155, 'received': 1156, 'taste': 1157, 'define': 1158, 'among': 1159, 'group.': 1160, 'blew': 1161, 'honorably': 1162, 'indeed': 1163, 'giving': 1164, 'college,': 1165, 'response': 1166, 'groups': 1167, 'folks': 1168, 'child.': 1169, 'minority': 1170, 'purpose': 1171, 'days': 1172, 'business': 1173, 'amendment': 1174, 'test': 1175, 'nut': 1176, 'owned': 1177, 'lots': 1178, 'scholarships': 1179, 'excellent': 1180, 'graduating': 1181, 'college.': 1182, 'genocide': 1183, 'wait,': 1184, 'percent': 1185, 'promise': 1186, 'alive': 1187, 'sometimes': 1188, 'system.': 1189, 'degrees': 1190, 'socialists': 1191, 'spend': 1192, 'half': 1193, 'pays': 1194, 'stamps,': 1195, 'feed': 1196, 'hours': 1197, 'wanna': 1198, 'eat': 1199, 'employed': 1200, 'father': 1201, 'israel,': 1202, 'dershowitz': 1203, 'privilege?': 1204, 'asking': 1205, 'touch': 1206, 'merkel,': 1207, 'possible': 1208, 'charge': 1209, 'one-year': 1210, 'sentence.': 1211, 'attempted': 1212, 'legal': 1213, 'animals.': 1214, 'involved': 1215, 'mental': 1216, 'great,': 1217, 'imagine': 1218, 'wow.': 1219, 'lying': 1220, 'nasty': 1221, 'arabic': 1222, 'arab': 1223, 'choice': 1224, 'cause': 1225, 'ignorant': 1226, 'prevent': 1227, 'refugee': 1228, 'happens.': 1229, 'related': 1230, 'sand': 1231, 'wonderful': 1232, 'stupid': 1233, 'required': 1234, 'requires': 1235, 'said?': 1236, 'invited': 1237, 'back.': 1238, 'obey': 1239, \"wouldn't\": 1240, 'problem,': 1241, 'unfortunately': 1242, 'shame': 1243, 'pandering': 1244, 'religion.': 1245, 'includes': 1246, 'realize': 1247, 'quick': 1248, 'germany': 1249, 'country,': 1250, 'say?': 1251, 'improve': 1252, 'anyway': 1253, 'scumbags': 1254, 'knew': 1255, 'key': 1256, 'lead': 1257, 'near': 1258, 'add': 1259, 'keeping': 1260, 'dress': 1261, 'demand': 1262, 'enforce': 1263, \"america's\": 1264, 'sentence': 1265, 'list.': 1266, 'civilized': 1267, 'hundreds': 1268, 'became': 1269, 'view': 1270, 'hate,': 1271, 'acts': 1272, 'disaster': 1273, 'hurt': 1274, 'barry': 1275, 'european': 1276, 'style': 1277, 'opposition': 1278, 'deportation': 1279, 'party.': 1280, 'reverse': 1281, 'intended': 1282, 'executive': 1283, 'department': 1284, 'jump': 1285, 'kept': 1286, 'moving': 1287, 'sharon?': 1288, 'joke.': 1289, 'glad': 1290, 'name.': 1291, 'yourself.': 1292, 'quite': 1293, 'interesting': 1294, 'third': 1295, 'said,': 1296, 'thought.': 1297, 'period': 1298, 'ready': 1299, 'clinton.': 1300, 'polls': 1301, 'compete': 1302, 'focus': 1303, 'silver': 1304, 'liberals,': 1305, '8': 1306, 'latest': 1307, 'nope': 1308, 'dumped': 1309, 'carter': 1310, '80': 1311, 'not?': 1312, 'desert': 1313, 'tv.': 1314, 'hands': 1315, 'appear': 1316, 'hold': 1317, '\"transgenderism\"': 1318, 'children,': 1319, 'youth,': 1320, 'regarding': 1321, 'effects': 1322, 'denial': 1323, 'differently': 1324, 'appropriate': 1325, 'consequences': 1326, 'sadly': 1327, 'causes': 1328, 'therapy': 1329, 'solution': 1330, 'problems': 1331, 'confusions': 1332, 'majority': 1333, 'viable': 1334, 'solution.': 1335, 'depression': 1336, 'concepts': 1337, 'worth': 1338, 'deal': 1339, 'one,': 1340, 'fun': 1341, 'earlier': 1342, 'door,': 1343, 'medicine': 1344, 'terms': 1345, 'intimidate': 1346, 'evil,': 1347, 'incorrect': 1348, 'fallacy': 1349, 'blatant': 1350, 'grand': 1351, 'ended': 1352, 'course,': 1353, 'wrong,': 1354, '\"civil': 1355, 'watched': 1356, 'selective': 1357, 'serving': 1358, 'feels': 1359, 'senate': 1360, 'suggest': 1361, 'medical': 1362, 'completely': 1363, 'personally': 1364, 'recognize': 1365, 'via': 1366, 'toward': 1367, 'info': 1368, 'decades.': 1369, 'discrimination.': 1370, 'identifies': 1371, 'argument.': 1372, 'typo.': 1373, 'argument': 1374, 'enough.': 1375, 'argue': 1376, 'case.': 1377, 'question.': 1378, 'okay': 1379, 'abortion': 1380, 'added': 1381, 'tragic': 1382, 'fallen': 1383, 'words.': 1384, 'access': 1385, 'possessed': 1386, 'black.': 1387, 'pee.': 1388, 'claiming': 1389, 'me?': 1390, 'normal': 1391, 'basically': 1392, 'stopped': 1393, 'dresses': 1394, 'her,': 1395, 'mr.': 1396, 'seek': 1397, 'laugh': 1398, 'post.': 1399, 'stuff': 1400, 'wears': 1401, 'suits': 1402, 'party': 1403, 'attacking': 1404, 'places': 1405, 'scotus': 1406, 'passed': 1407, 'allowing': 1408, 'obama.': 1409, 'perversion?': 1410, 'mad': 1411, 'desired': 1412, 'what?': 1413, 'poster': 1414, 'legislation': 1415, 'carolina': 1416, 'forward': 1417, 'sane': 1418, 'ordering': 1419, 'drive': 1420, '\"but': 1421, 'removed': 1422, 'voter': 1423, 'vaughan': 1424, 'cited': 1425, 'car': 1426, 'serious': 1427, 'set': 1428, 'fire': 1429, 'removing': 1430, 'mexicans': 1431, 'attorney': 1432, 'officers': 1433, 'sankey': 1434, 'prior': 1435, '$100': 1436, '300': 1437, 'listed': 1438, 'volunteer': 1439, 'calls': 1440, 'denied': 1441, 'ss#': 1442, 'uses': 1443, 'citizen': 1444, 'we,': 1445, 'cut': 1446, 'arrest': 1447, 'english': 1448, 'also,': 1449, 'word': 1450, 'burning': 1451, 'police.': 1452, 'black,': 1453, 'destroy': 1454, 'property': 1455, 'uncle': 1456, 'anymore.': 1457, 'total': 1458, 'recognized': 1459, 'report': 1460, 'step': 1461, 'ground': 1462, 'clout': 1463, 'happened': 1464, 'idea.': 1465, 'illegally,': 1466, 'false': 1467, 'personal': 1468, 'breaking': 1469, 'conflict': 1470, 'left,': 1471, '/': 1472, 'changing': 1473, 'positive': 1474, 'constitutional': 1475, 'guards': 1476, 'welfare,': 1477, 'liquor': 1478, 'tired': 1479, '40': 1480, 'old.': 1481, 'system,': 1482, 'earth': 1483, 'more.': 1484, 'totally': 1485, 'situation': 1486, 'propaganda': 1487, 'action,': 1488, 'illegals.': 1489, 'saving': 1490, '7': 1491, 'receiving': 1492, 'informed': 1493, 'prison': 1494, 'also.': 1495, 'thugs': 1496, 'programs': 1497, 'extremely': 1498, 'rate': 1499, 'movement': 1500, 'dare': 1501, 'brothers': 1502, 'symbol': 1503, 'advantage': 1504, 'selling': 1505, 'light': 1506, 'opportunity': 1507, 'honest': 1508, 'excuse': 1509, 'base': 1510, 'deport': 1511, 'michelle,': 1512, 'pie': 1513, 'cares': 1514, \"“don't\": 1515, 'contributions': 1516, 'hungry': 1517, 'politics': 1518, 'turned': 1519, 'filled': 1520, 'presidential': 1521, 'anger': 1522, 'size': 1523, 'miss': 1524, 'hospital': 1525, 'helped': 1526, 'irish': 1527, 'kids.': 1528, 'broke': 1529, 'treated': 1530, 'family.': 1531, 'can.': 1532, 'held': 1533, 'providing': 1534, 'prefer': 1535, 'hat': 1536, 'today,': 1537, 'buying': 1538, 'this,': 1539, 'china': 1540, 'mouth': 1541, '??': 1542, 'separate': 1543, 'ugly': 1544, 'african': 1545, 'races': 1546, 'history.': 1547, 'head': 1548, 'im': 1549, '1/2': 1550, 'owners': 1551, 'attacks': 1552, 'africans': 1553, 'protest': 1554, 'daughters': 1555, 'males': 1556, 'others.': 1557, 'racist.': 1558, 'roll': 1559, 'class.': 1560, 'retired': 1561, 'trump,': 1562, 'navy.': 1563, 'disgusting': 1564, 'sailors': 1565, 'fight': 1566, 'him?': 1567, 'anything,': 1568, 'liberalism': 1569, 'paint': 1570, 'hated': 1571, 'search': 1572, 'lying?': 1573, 'boys': 1574, 'century': 1575, 'past': 1576, 'unfortunately,': 1577, 'gone': 1578, 'veteran': 1579, 'too?': 1580, 'target': 1581, 'sympathy': 1582, '\"less': 1583, 'pedophilia': 1584, 'chosen': 1585, 'stood': 1586, 'pedophile.': 1587, 'tells': 1588, 'bottom': 1589, 'strike': 1590, 'decided': 1591, 'community.': 1592, 'fighting': 1593, 'special': 1594, 'destroys': 1595, 'placed': 1596, 'people,': 1597, 'heritage.': 1598, 'race,': 1599, 'ancestors': 1600, 'rebel': 1601, 'supreme': 1602, 'flags': 1603, 'today': 1604, 'e.': 1605, '<': 1606, 'please,': 1607, 'authority': 1608, 'month': 1609, 'flag?': 1610, 'tread': 1611, 'anyway.': 1612, 'asians': 1613, 'regardless': 1614, 'whatever': 1615, 'race.': 1616, 'quota': 1617, 'wiped': 1618, 'wage': 1619, 'almost': 1620, '2015': 1621, 'cost': 1622, 'ability': 1623, 'confederacy': 1624, 'horrible': 1625, 'union.': 1626, 'branch': 1627, 'citizens.': 1628, 'job.': 1629, 'educated': 1630, \"one's\": 1631, 'testing': 1632, 'aid.': 1633, 'admissions': 1634, 'fund': 1635, 'low-income': 1636, 'studies': 1637, 'attempt': 1638, 'accepted': 1639, 'companies': 1640, 'ethnic': 1641, 'gas': 1642, 'decent': 1643, 'educational': 1644, 'zip': 1645, 'beyond': 1646, 'success': 1647, 'universities': 1648, 'next?': 1649, 'jews,': 1650, 'i’m': 1651, 'classes.': 1652, 'provides': 1653, 'companies.': 1654, 'math': 1655, 'scholarships.': 1656, 'alike.': 1657, 'standards': 1658, 'mom': 1659, \"let's\": 1660, 'kid': 1661, 'poorly': 1662, 'ahead': 1663, 'folk': 1664, 'shot.': 1665, 'experience': 1666, 'murray': 1667, 'asian': 1668, 'soc': 1669, 'sec.': 1670, 'box': 1671, 'soda': 1672, 'ill': 1673, 'assistance.': 1674, 'food.': 1675, 'able-bodied': 1676, 'guilt': 1677, 'cards': 1678, 'chimp': 1679, 'cash': 1680, 'disabled': 1681, 'stamps.': 1682, 'otherwise': 1683, '(': 1684, 'cell': 1685, 'sell': 1686, 'eats': 1687, 'cicero': 1688, 'supported': 1689, 'blacks.': 1690, 'away.': 1691, 'movement.': 1692, 'loyal': 1693, 'interests': 1694, 'accident': 1695, 'hood': 1696, 'disney': 1697, 'swimming': 1698, 'water.': 1699, 'son': 1700, 'this?': 1701, 'st.': 1702, 'daddy': 1703, 'privilege': 1704, 'snarth': 1705, 'privilege.': 1706, '21-year-old': 1707, 'iraqi': 1708, '26-year-old': 1709, 'algerian': 1710, 'assault,': 1711, 'sentence.\"': 1712, 'directly': 1713, 'punished': 1714, 'foreigners': 1715, 'disease': 1716, 'opposed': 1717, 'deporting': 1718, 'acting': 1719, 'savages': 1720, '~': 1721, 'uncivilized': 1722, 'germany.': 1723, 'africa.': 1724, \"that'll\": 1725, 'rapists,': 1726, 'muslims.': 1727, 'translate': 1728, 'language': 1729, 'moon': 1730, 'laws,': 1731, 'paper': 1732, 'easier': 1733, 'thing.': 1734, 'invaders': 1735, 'kick': 1736, 'loves': 1737, 'steel': 1738, 'shoes.': 1739, 'knife': 1740, 'germany,': 1741, 'rapist': 1742, 'alone': 1743, 'prove': 1744, 'germans': 1745, 'electing': 1746, 'eu': 1747, 'brussels.': 1748, 'criminals?': 1749, 'guess.': 1750, 'crimes': 1751, 'hurt,': 1752, 'votes': 1753, 'peaceful': 1754, 'neuter': 1755, 'lousy': 1756, 'did,': 1757, 'practice': 1758, 'capital': 1759, 'animals': 1760, 'men.': 1761, 'in?': 1762, 'weapons': 1763, 'islamic': 1764, 'treating': 1765, 'defense': 1766, 'meant': 1767, 'bernie': 1768, 'conviction': 1769, \"year's\": 1770, 'absolutely': 1771, 'behavior': 1772, 'reasonable': 1773, 'pig': 1774, 'sake': 1775, 'us,': 1776, 'answer.': 1777, 'most.': 1778, 'center': 1779, 'destroyed': 1780, 'brown': 1781, 'far?': 1782, 'allows': 1783, 'physically': 1784, 'itself.': 1785, 'price': 1786, 'letting': 1787, 'voted': 1788, 'books': 1789, 'perceived': 1790, 'existed': 1791, 'secret': 1792, 'unlike': 1793, 'christian': 1794, 'areas': 1795, 'around.': 1796, 'why?': 1797, 'awareness': 1798, 'tgs': 1799, 'churches': 1800, 'bigger': 1801, 'seeing': 1802, 'saying?': 1803, 'ah,': 1804, 'saw': 1805, 'nah,': 1806, 'either.': 1807, 'mostly': 1808, 'matters': 1809, 'accurate': 1810, 'within': 1811, 'effect': 1812, 'points.': 1813, 'mccain': 1814, '57': 1815, 'easily': 1816, 'election': 1817, 'day.': 1818, \"here's\": 1819, 'brings': 1820, 'source?': 1821, 'resolve': 1822, 'yet.': 1823, 'mean?': 1824, 'monica': 1825, 'lewinski': 1826, 'lol.': 1827, 'distinguish': 1828, 'to.': 1829, 'barbaric': 1830, 'blast': 1831, 'night': 1832, 'falsely': 1833, 'freedomscout': 1834, 'pink': 1835, 'spouting': 1836, 'han': 1837, 'nity': 1838, 'definitely': 1839, 'fox.': 1840, 'sb': 1841, 'reading': 1842, 'posts.': 1843, 'gender,': 1844, 'adolescents': 1845, 'deception': 1846, 'important': 1847, 'confuse': 1848, 'culture': 1849, 'repeated': 1850, 'both.': 1851, 'transgenderism': 1852, '\"real': 1853, 'thing\"': 1854, 'condemnation': 1855, 'specific,': 1856, 'real,': 1857, 'confused.': 1858, 'refer': 1859, 'form': 1860, 'suspect': 1861, 'react': 1862, 'them?': 1863, 'forcing': 1864, 'suicide.': 1865, 'forms': 1866, 'raise': 1867, 'resulting': 1868, 'perversions': 1869, 'brain,': 1870, 'person,': 1871, 'differently,': 1872, 'dynamically': 1873, 'changes': 1874, 'results': 1875, '\"spiritual': 1876, 'accept': 1877, 'value.': 1878, 'influence': 1879, 'course.': 1880, 'source': 1881, 'persons': 1882, 'sessions': 1883, 'deep': 1884, 'humanity.': 1885, 'fit': 1886, 'helping': 1887, 'error': 1888, 'statements': 1889, '\"indeed': 1890, 'last.\"': 1891, 'luke': 1892, 'one?': 1893, 'close': 1894, 'exist': 1895, 'such.': 1896, 'effort': 1897, 'many,': 1898, 'science,': 1899, 'rationale': 1900, '\"discriminate\"': 1901, '\"discrimination\"': 1902, 'elevated': 1903, 'warfare': 1904, 'foolish': 1905, 'politically': 1906, 'further': 1907, 'tactic': 1908, 'imply': 1909, 'writer': 1910, 'minded': 1911, 'thus': 1912, '\"put': 1913, 'truth,': 1914, 'figures': 1915, 'deeper': 1916, 'righteous': 1917, 'righteousness': 1918, 'bad,': 1919, 'dealt': 1920, 'properly': 1921, 'loving': 1922, 'god.': 1923, 'question?': 1924, '\"others\"': 1925, 'orlando': 1926, '102': 1927, 'him,': 1928, 'dirt': 1929, 'cover': 1930, 'school.': 1931, 'genetic': 1932, 'transgenders': 1933, 'fall': 1934, 'switch': 1935, 'interpretation': 1936, 'science': 1937, 'east': 1938, 'eh?': 1939, 'tg': 1940, 'marriage': 1941, 'then?': 1942, 'ra': 1943, 'marry': 1944, 'victim.': 1945, 'stone': 1946, 'guidance': 1947, 'as.': 1948, 'choice.': 1949, 'difference': 1950, 'words,': 1951, 'checking': 1952, 'auto': 1953, 'point,': 1954, 'likely': 1955, \"they'll\": 1956, 'shoot': 1957, 'solved': 1958, 'perfectly': 1959, 'culture.': 1960, 'difficult': 1961, 'creating': 1962, 'logic': 1963, 'religions': 1964, 'beings': 1965, 'remain': 1966, 'christ.': 1967, 'sinful': 1968, 'nearly': 1969, 'sole': 1970, 'identify': 1971, 'perhaps,': 1972, 'creation': 1973, 'bible?': 1974, 'surely': 1975, 'funny,': 1976, 'age': 1977, 'support.': 1978, 'girl': 1979, 'pee?': 1980, 'tg/gays?': 1981, 'deviance': 1982, 'else)': 1983, 'mess': 1984, 'lifestyle': 1985, 'determine': 1986, 'entered': 1987, 'ban': 1988, 'sure.': 1989, 'require': 1990, 'deviant': 1991, 'said.': 1992, 'true,': 1993, 'women,': 1994, 'pedophiles.': 1995, 'noticed': 1996, \"women's\": 1997, 'showed': 1998, 'claim.': 1999, 'celebrities': 2000, 'nc': 2001, 'statement': 2002, 'time;': 2003, 'him.': 2004, 'demanding': 2005, 'fines': 2006, 'answered': 2007, 'boycott': 2008, 'shared': 2009, 'bodies': 2010, 'mark': 2011, 'larry': 2012, 'craig?': 2013, 'outrage': 2014, 'ignore': 2015, 'rational': 2016, 'sue': 2017, 'ignoring': 2018, '\"get': 2019, '\"i': 2020, 'clean': 2021, 'crash': 2022, 'january': 2023, 'eswin': 2024, 'mejia': 2025, 'intoxicated': 2026, 'drag': 2027, 'arrived': 2028, 'ice’s': 2029, 'arrested': 2030, 'los': 2031, 'so-called': 2032, 'veteran,': 2033, 'july': 2034, 'months,': 2035, 'whats': 2036, 'usa.': 2037, 'records,': 2038, 'questions.': 2039, 'john': 2040, 'school,': 2041, 'concerning': 2042, 'representing': 2043, 'conduct': 2044, 'found': 2045, 'numbers': 2046, 'closely': 2047, 'done.': 2048, 'card': 2049, 'runs': 2050, 'massachusetts': 2051, '042': 2052, 'ave': 2053, 'attached': 2054, 'address': 2055, \"pd's\": 2056, 'highly': 2057, 'illegal,': 2058, 'accident.': 2059, 'coffee,': 2060, 'officer': 2061, 'sober': 2062, 'government?': 2063, 'alien': 2064, 'issued': 2065, 'hawaii': 2066, 'british': 2067, 'republic': 2068, 'congo': 2069, 'p': 2070, 's': 2071, 'crap': 2072, 'funding': 2073, 'white.': 2074, 'jail,': 2075, 'failing': 2076, 'chicken': 2077, 'rooting': 2078, 'city': 2079, 'randomly': 2080, 'endorsement': 2081, 'work?': 2082, 'supporter': 2083, 'silent': 2084, 'prayer': 2085, 'latino,': 2086, 'consequences.': 2087, 'mcd': 2088, 'harass': 2089, 'bounty': 2090, 'enforced': 2091, 'holding': 2092, 'can,': 2093, 'personnel': 2094, 'olympic': 2095, 'deleted.': 2096, 'props': 2097, 'contemporary.': 2098, \"hasn't\": 2099, 'fencing.': 2100, 'round': 2101, 'elections.': 2102, 'anything.': 2103, 'farm': 2104, 'section': 2105, 'position': 2106, 'automatically': 2107, 'church.': 2108, 'expense': 2109, 'grounds': 2110, 'liberals.': 2111, 'recruiting': 2112, 'publicly': 2113, 'funds': 2114, 'staying': 2115, 'plea': 2116, 'protection': 2117, 'zone': 2118, 'circumstances': 2119, 'alternative': 2120, 'kidnapped': 2121, 'respected': 2122, 'voice': 2123, 'greater': 2124, 'impact': 2125, 'dummycraps': 2126, 'mean,': 2127, 'pulse': 2128, 'lock': 2129, 'doors': 2130, 'guns': 2131, 'housing': 2132, 'spending': 2133, \"people's\": 2134, 'clothing': 2135, 'beat': 2136, 'mob': 2137, 'age,': 2138, 'drugs': 2139, 'tear': 2140, 'secure': 2141, 'store': 2142, 'payer': 2143, 'pure': 2144, 'penny': 2145, 'foundation': 2146, 'sean': 2147, 'starting': 2148, 'dry': 2149, 'gonna': 2150, 'running': 2151, 'of.': 2152, 'armed': 2153, 'resistance': 2154, 'violates': 2155, 'country?': 2156, 'illegals,': 2157, 'sheriff': 2158, 'weed': 2159, 'benefit': 2160, 'central': 2161, 'felons': 2162, '\"fu\"': 2163, '\"good': 2164, 'broken.': 2165, 'recently': 2166, 'leaning': 2167, 'screwing': 2168, 'safety': 2169, 'security.': 2170, 'chiefs': 2171, 'immediately': 2172, 'usa': 2173, 'proper': 2174, 'roads': 2175, 'suffer': 2176, 'nonsense?': 2177, 'belong': 2178, 'drop': 2179, 'globalization': 2180, 'controlling': 2181, 'commoners': 2182, 'bike?': 2183, 'murdered': 2184, 'murder': 2185, '5': 2186, 'unwilling': 2187, 'prosecuted': 2188, 'period.': 2189, 'harbor': 2190, 'include': 2191, 'haaaaa': 2192, 'haa': 2193, 'charity.': 2194, 'organization': 2195, 'wanting': 2196, 'free.': 2197, '\"free\"': 2198, '$87,000': 2199, 'did.': 2200, 'dream': 2201, 'dreams': 2202, 'circles': 2203, 'michele': 2204, 'witch.': 2205, 'nancy': 2206, 'reagan.': 2207, 'evidently': 2208, 'pocket': 2209, 'embrace': 2210, 'night.': 2211, 'doing.': 2212, 'mlk': 2213, 'pc': 2214, 'terrorist.': 2215, 'moochelle': 2216, 'swipe': 2217, '\"she': 2218, 'greatness': 2219, 'depended': 2220, 'elsewhere': 2221, 'sought': 2222, 'home.\"': 2223, 'herself': 2224, '…': 2225, 'adult': 2226, 'finally': 2227, 'me,': 2228, 'wife,': 2229, 'valued': 2230, 'amount': 2231, 'fed': 2232, 'harder': 2233, 'wealthy': 2234, 'theirs': 2235, 'participated': 2236, 'community': 2237, 'activities': 2238, 'achieve': 2239, 'lost,': 2240, 'counted': 2241, 'administration.': 2242, 'history?': 2243, 'records': 2244, 'americas': 2245, 'greatest': 2246, '\"he\\'s': 2247, 'name-calling': 2248, 'default': 2249, 'hypocritical': 2250, 'buffalo': 2251, 'former': 2252, 'camp': 2253, 'share': 2254, 'diversity?': 2255, 'beg': 2256, 'differ.': 2257, 'lady.': 2258, 'packing.': 2259, 'team': 2260, 'honest.': 2261, 'black...': 2262, 'eight': 2263, 'stick': 2264, 'color,': 2265, 'thing,': 2266, 'guests': 2267, 'knock,': 2268, 'home,': 2269, 'damaged': 2270, '200': 2271, 'insist': 2272, 'welcome.': 2273, 'outstanding': 2274, 'hit': 2275, \"don't.\": 2276, 'obamas': 2277, 'advice': 2278, 'instead,': 2279, 'agenda.': 2280, 'considering': 2281, 'washington': 2282, 'integrity': 2283, 'green': 2284, 'graduation': 2285, 'methuen': 2286, 'africa': 2287, 'unable': 2288, 'trillion': 2289, 'washington.': 2290, 'dept.': 2291, 'save': 2292, '300,000': 2293, 'per': 2294, 'action\"': 2295, 'positions': 2296, 'apologize': 2297, 'basis': 2298, 'sitting': 2299, 'nominee': 2300, 'disgraceful': 2301, 'ought': 2302, 'wiping': 2303, 'trash': 2304, 'anyone.': 2305, 'lgbt': 2306, 'home?': 2307, 'now,': 2308, 'riddance': 2309, 'debate': 2310, 'roughly': 2311, 'relevant': 2312, 'assigned': 2313, 'firmly': 2314, 'lives,': 2315, 'cold': 2316, 'insane.': 2317, 'expect?': 2318, 'slave,': 2319, 'any.': 2320, 'enslaved': 2321, 'rule.': 2322, 'cherokee': 2323, 'card.': 2324, 'lose': 2325, 'economy': 2326, 'occupies': 2327, 'character': 2328, 'suddenly': 2329, 'earned': 2330, 'morning': 2331, 'change.': 2332, 'trail': 2333, 'tears': 2334, 'inherited': 2335, 'nose': 2336, 'nazis': 2337, 'rioters': 2338, 'everyday': 2339, 'obsessed': 2340, 'somebody': 2341, 'know,': 2342, 'day;': 2343, \"weren't\": 2344, 'operation': 2345, 'vision': 2346, 'useless': 2347, 'murdering': 2348, 'committee': 2349, 'comment,': 2350, 'grade': 2351, 'examples.': 2352, 'pedophile?': 2353, 'smartest': 2354, 'eliminated': 2355, 'remaining': 2356, 'welcome': 2357, 'aboard': 2358, 'milk,': 2359, 'extra': 2360, 'army.': 2361, 'already?': 2362, 'fleet': 2363, 'determined': 2364, 'francisco': 2365, 'week.': 2366, 'bay': 2367, 'habit,': 2368, 'angry': 2369, 'sickness': 2370, 'enemy.': 2371, 'style.': 2372, 'status': 2373, 'rival': 2374, 'democrat.': 2375, 'boats': 2376, 'previously.': 2377, 'meet': 2378, 'laughing': 2379, 'stock.': 2380, 'drama': 2381, 'queen.': 2382, 'naming.': 2383, 'lost.': 2384, 'factually': 2385, 'accountable': 2386, 'implemented': 2387, 'honorably.': 2388, 'clintons': 2389, 'boy,': 2390, 'slipped': 2391, 'needed': 2392, 'leading': 2393, 'invaded': 2394, 'destruction': 2395, 'reward': 2396, 'francisco.': 2397, 'mess.': 2398, 'lmao': 2399, 'traitor': 2400, 'sleep': 2401, 'admitting': 2402, 'discharged.': 2403, 'britannica.com/biography/harvey-milk': 2404, 'sorry,': 2405, 'naval': 2406, 'site': 2407, 'ap': 2408, 'am.': 2409, 'fun.': 2410, 'usni': 2411, 'web': 2412, 'favors': 2413, 'withdraw': 2414, 'comments,': 2415, 'author': 2416, 'aside,': 2417, 'boy...': 2418, 'boat': 2419, 'short': 2420, 'controversial': 2421, 'honoring': 2422, 'basement.': 2423, 'banana.': 2424, 'enjoy': 2425, 'incapable': 2426, 'concerned.': 2427, 'comments.': 2428, 'discharged': 2429, \"who's\": 2430, 'activist': 2431, 'defended': 2432, 'differences': 2433, 'classes': 2434, 'hilarious': 2435, 'mommy': 2436, 'assuming': 2437, 'begin': 2438, 'involved.': 2439, 'military.': 2440, 'humor.': 2441, 'legislature': 2442, 'sc': 2443, 'avoid': 2444, 'ago': 2445, 'neighbors': 2446, 'south,': 2447, 'activists': 2448, 'displayed': 2449, 'abolish': 2450, 'buildings,': 2451, 'napolitano': 2452, 'media.': 2453, 'finish': 2454, 'insists': 2455, 'acknowledge': 2456, 'invented': 2457, 'down.': 2458, 'successful,': 2459, 'dean': 2460, 'robert': 2461, 'e': 2462, 'confederated': 2463, 'study': 2464, 'lee.': 2465, 'correct,': 2466, 'force.': 2467, 'surrendered': 2468, 'main': 2469, 'newly': 2470, 'oppression': 2471, 'war.': 2472, 'dictate': 2473, 'states,': 2474, 'troll': 2475, 'equipped': 2476, 'fort': 2477, 'april': 2478, 'stripes': 2479, '●': 2480, 'estimated': 2481, '1900': 2482, 'natives': 2483, 'offended': 2484, 'design': 2485, 'ancestor': 2486, 'dna': 2487, 'list': 2488, 'together': 2489, 'amen': 2490, 'thru': 2491, 'destroying': 2492, 'waiting': 2493, 'way,': 2494, 'beside': 2495, 'inalienable': 2496, 'oppress': 2497, 'communist': 2498, '100': 2499, 'problems.': 2500, 'pride.': 2501, 'reminds': 2502, 'slavery,': 2503, 'certainly': 2504, 'associated': 2505, 'divine': 2506, 'branches': 2507, 'applies': 2508, 'legislative': 2509, 'killing': 2510, 'eyes': 2511, 'christ': 2512, 'lame': 2513, 'spin': 2514, 'continually': 2515, 'communism': 2516, 'spot': 2517, 'relatives': 2518, 'property.': 2519, 'perpetuating': 2520, 'ridiculous.': 2521, 'alive.': 2522, 'racism.': 2523, 'promoted': 2524, 'defending': 2525, 'kidnapping': 2526, 'hateful': 2527, 'trade.': 2528, 'knowledge': 2529, 'prevented': 2530, 'strong': 2531, 'commitment': 2532, 'item': 2533, 'scientist,': 2534, 'non': 2535, 'studied': 2536, 'enroll': 2537, 'marxist': 2538, \"daughter's\": 2539, '\"both': 2540, 'screwed': 2541, 'policy.': 2542, 'checks.': 2543, 'color\"': 2544, 'stated': 2545, 'jobs,': 2546, 'temp': 2547, 'employment': 2548, 'refusals': 2549, 'initiatives,': 2550, '%': 2551, 'goes': 2552, 'cooke': 2553, 'prize': 2554, 'lower': 2555, 'requirements': 2556, 'succeed': 2557, 'unsuccessful': 2558, 'succeed,': 2559, 'event': 2560, 'seriously?': 2561, 'reports': 2562, 'athletic': 2563, 'squash': 2564, 'ivy': 2565, 'league': 2566, 'workplace': 2567, 'army': 2568, 'actions.': 2569, '\"reverse': 2570, 'demographic': 2571, 'changed.': 2572, 'policies': 2573, 'favor': 2574, 'action.': 2575, 'scores': 2576, 'burger': 2577, 'trading': 2578, 'trade': 2579, 'superior': 2580, 'dismal.': 2581, 'overflowing': 2582, 'prepared': 2583, 'stem,': 2584, 'studies.': 2585, 'quotas': 2586, 'goods': 2587, 'services': 2588, 'armies': 2589, 'soviet': 2590, 'grades': 2591, 'writing': 2592, 'voters.': 2593, 'blacks,': 2594, 'hispanics.': 2595, 'parents.': 2596, 'steal': 2597, 'grading': 2598, 'professors': 2599, 'bias': 2600, 'already.': 2601, 'hs': 2602, 'dumbing': 2603, 'requirements......idocracy': 2604, 'generation': 2605, 'biggest': 2606, 'stamp': 2607, 'double': 2608, 'nature,': 2609, 'aid': 2610, 'left.': 2611, 'assistance,': 2612, 'drop.': 2613, 'contribute': 2614, 'benefits.': 2615, 'ss,': 2616, 'taxes.': 2617, 'medicare,': 2618, 'gave': 2619, 'program.': 2620, 'billions': 2621, 'candy,': 2622, 'lifetime.': 2623, 'enlist': 2624, 'soldiers,': 2625, 'requirement.': 2626, 'hire': 2627, 'guarantee': 2628, 'kansas': 2629, 'fell': 2630, 'chimps': 2631, 'nowadays,': 2632, 'feelings': 2633, 'bueller?': 2634, 'stinky': 2635, '\"refugees\"': 2636, 'medicaid,': 2637, 'debtors': 2638, 'week': 2639, 'eliminate': 2640, 'fi': 2641, 'elderly': 2642, 'frivolous': 2643, 'mamma': 2644, 'recipient': 2645, 'pregnant': 2646, 'russell': 2647, 's.': 2648, 'wait': 2649, 'member': 2650, 'unfortunate': 2651, 'bomb': 2652, 'eighteen': 2653, 'story': 2654, 'kitchen': 2655, 'expensive': 2656, 'cream,': 2657, 'eggs': 2658, 'vegetables': 2659, 'screening': 2660, 'purchase': 2661, 'temporary': 2662, 'times.': 2663, 'regular': 2664, 'plenty': 2665, 'need.': 2666, 'feet': 2667, 'forgive': 2668, 'stories': 2669, 'skinny': 2670, 'costs': 2671, 'fish,': 2672, 'funded': 2673, 'mistake': 2674, 'ethiopian': 2675, 'species': 2676, \"israel's\": 2677, 'palestinkian': 2678, 'charter': 2679, 'elimination': 2680, 'blm.': 2681, 'blm,': 2682, 'lands': 2683, 'organization.': 2684, 'threatening': 2685, 'moment': 2686, 'violently': 2687, 'group?': 2688, 'israel.': 2689, 'palestinians,': 2690, 'placing': 2691, 'dog': 2692, 'alligator.': 2693, 'cool': 2694, 'petition': 2695, 'eaten': 2696, 'florida': 2697, 'bare': 2698, 'dragged': 2699, 'gator.': 2700, '\"part': 2701, 'rocks': 2702, 'insult': 2703, 'givonna': 2704, 'long,': 2705, 'stumps': 2706, 'hotel': 2707, 'fault': 2708, 'feminists': 2709, 'grew': 2710, 'snatched': 2711, 'influential': 2712, 'twisted': 2713, '30': 2714, 'fl': 2715, 'bears': 2716, 'natural': 2717, 'boy?': 2718, 'olivia': 2719, 'clair': 2720, 'nobody,': 2721, 'chop': 2722, 'coffee.': 2723, '10000': 2724, 'leftists': 2725, '..': 2726, '\"why': 2727, 'interested': 2728, 'me\"': 2729, 'groping': 2730, 'illegal?': 2731, 'deutschland?': 2732, 'have.': 2733, 'hardest': 2734, \"merkel's\": 2735, 'level.': 2736, '\"a': 2737, 'everything.': 2738, 'castrate': 2739, 'criticized': 2740, 'measures': 2741, 'harassment\"': 2742, 'legislators': 2743, \"kate's\": 2744, 'had.': 2745, 'cruel': 2746, '(sarcasm)': 2747, '\"go\",': 2748, 'slime': 2749, 'ball': 2750, 'lawyers': 2751, 'everywhere.': 2752, 'assaults': 2753, 'burned': 2754, 'ovens?': 2755, 'less.': 2756, 'point?': 2757, 'fashion,': 2758, 'ordinance': 2759, 'passed.': 2760, 'rapes': 2761, 'muslimes': 2762, 'fatherland.': 2763, 'russians': 2764, 'wwii.': 2765, 'contend': 2766, 'savages?': 2767, 'cow-tow': 2768, 'hoard': 2769, 'migrants.': 2770, 'problem...?': 2771, 'sentence?': 2772, 'harsh.': 2773, 'thing....lol': 2774, '50?': 2775, 'bracelets': 2776, 'liebrals': 2777, 'learn.': 2778, 'hahahahahahaha': 2779, '\"no.\"': 2780, 'idea,': 2781, 'm16a4': 2782, 'arabic.': 2783, 'glock': 2784, 'countries.': 2785, '7.62': 2786, 'x': 2787, '39': 2788, 'mm': 2789, 'm4': 2790, 'bolt': 2791, 'chambering': 2792, 'round.': 2793, 'lilly': 2794, 'esin': 2795, 'blue': 2796, 'crop': 2797, 'chevrolet': 2798, 'corvette': 2799, 'stingray': 2800, 'coupe': 2801, 'unavailable': 2802, 'laptop...': 2803, 'flash': 2804, 'ink': 2805, 'prevents': 2806, 'crime.': 2807, 'troll.': 2808, 'crime,': 2809, 'prosecute': 2810, '---': 2811, 'habla': 2812, 'deutch....': 2813, 'chicks': 2814, 'mongrelland': 2815, 'approved': 2816, 'committed': 2817, 'mongrels': 2818, 'back,': 2819, 'brobama': 2820, 'work...it': 2821, 'advisable': 2822, 'sharp,': 2823, 'tipped': 2824, 'kicks': 2825, 'groin': 2826, '\"nein\"': 2827, 'muzzieazzholes': 2828, 'battle-hardened,': 2829, 'decades': 2830, 'kicked': 2831, 'sheep': 2832, 'goats': 2833, 'numb': 2834, 'sharp': 2835, '...............': 2836, 'carry': 2837, 'guns...': 2838, 'merkels': 2839, 'legacy.': 2840, 'city.': 2841, 'armed,': 2842, 'rufus': 2843, 'establish': 2844, 'no?': 2845, 'reached': 2846, 'seeking': 2847, 'relevancy': 2848, 'sheeple': 2849, 'read.': 2850, 'victim': 2851, 'struggle': 2852, 'prosecuted..': 2853, '\"no\".': 2854, 'impossibility': 2855, 'reason...........': 2856, 'platoon': 2857, 'filth': 2858, 'once-great': 2859, 'bureaucrats': 2860, 'timid': 2861, 'recognizes': 2862, 'barbarism': 2863, 'sexist': 2864, 'attitudes': 2865, 'islam.': 2866, 'annoyance.': 2867, 'preaches,': 2868, 'teaches,': 2869, 'demands,': 2870, 'applauds': 2871, 'rewards': 2872, 'behavior.': 2873, 'written': 2874, 'not)': 2875, '(muslims)': 2876, 'ultimately': 2877, 'crimes,': 2878, 'elites': 2879, 'insulated': 2880, 'tolerant': 2881, 'criminals.': 2882, 'musiims': 2883, 'azzkicking.': 2884, 'wasnt': 2885, 'rapists': 2886, 'please.': 2887, 'cosby': 2888, 'no\"': 2889, '\"just': 2890, 'muslims\"': 2891, 'expel': 2892, 'mooh-slum.': 2893, 'impression': 2894, 'merkel/obama': 2895, 'progressivness.': 2896, 'odumbo': 2897, 'civilize': 2898, 'uncivilized.': 2899, 'then..': 2900, 'colt,': 2901, 'browning,': 2902, 'luger,': 2903, 'et': 2904, 'al.': 2905, 'function.': 2906, 'punishment.': 2907, 'reason-one': 2908, 'muzlim': 2909, '-young': 2910, 'girls-': 2911, 'boxes.': 2912, 'languages': 2913, 'assume': 2914, 'hot': 2915, 'speed': 2916, 'or......fathers,': 2917, 'brothers,': 2918, 'cousins': 2919, 'islam...a': 2920, 'accompanied': 2921, 'relative.': 2922, 'raped.': 2923, 'story.': 2924, 'dishonored': 2925, 'beatings': 2926, 'subjected': 2927, '\"honor': 2928, 'killing\".': 2929, 'that....if': 2930, 'women--there': 2931, 'prosecution': 2932, 'scumbags.': 2933, 'condones': 2934, 'chattel.': 2935, 'expect??': 2936, 'rapists.': 2937, 'droves': 2938, '\"raping\"': 2939, 'mentality': 2940, 'arming': 2941, 'curb': 2942, 'rapes.': 2943, 'want.': 2944, 'savages.': 2945, 'man;': 2946, 'nfl': 2947, 'job...do': 2948, 'blackasses': 2949, 'monkeys.': 2950, 'git': 2951, 'ur': 2952, 'together.': 2953, 'procrastinating': 2954, 'avoiding': 2955, 'vaunted': 2956, '\"european': 2957, 'society\"': 2958, 'emulate?': 2959, 'bern': 2960, 'himself,': 2961, 'is..': 2962, '\"on': 2963, 'thursday,': 2964, 'cologne': 2965, 'offense': 2966, 'eve.': 2967, 'aggressive': 2968, 'sentencing': 2969, 'there,': 2970, 'deter': 2971, 'caveat,': 2972, 'namely,': 2973, 'boiling': 2974, 'subhuman': 2975, 'blood.': 2976, 'lord': 2977, 'passing': 2978, 'knee': 2979, 'grows': 2980, '???': 2981, 'dig': 2982, 'slugs': 2983, \"'humanity'\": 2984, 'zero': 2985, 'vetting.': 2986, 'change?': 2987, 'answer...black': 2988, 'hoplophobes': 2989, 'racists.': 2990, '\"too?\".': 2991, 'grammar': 2992, 'checkers': 2993, 'hoplophobe?': 2994, 'bunnies?': 2995, 'hands,': 2996, 'aim': 2997, 'mass,': 2998, 'squeeze': 2999, 'slowly.': 3000, 'invaders.': 3001, 'molested': 3002, 'eve': 3003, 'travesty.': 3004, 'opened': 3005, 'borders': 3006, 'hordes': 3007, 'women-hating': 3008, 'year,': 3009, 'hardly': 3010, 'deterrent.': 3011, 'punish': 3012, 'toys.': 3013, 'cult': 3014, 'destruction.': 3015, 'agreed': 3016, 'immigrate': 3017, 'seduce': 3018, 'submissive.': 3019, 'nice,': 3020, 'assaulted.': 3021, 'barbarians': 3022, 'unchecked.': 3023, 'hillary.': 3024, 'oblama': 3025, 'her...': 3026, 'wrap': 3027, 'trial??': 3028, 'venture': 3029, 'england': 3030, 'brexit?': 3031, 'hasent': 3032, 'forever': 3033, 'defined.': 3034, '/sarc': 3035, '\"is\"': 3036, '\\'is\".': 3037, 'huh???': 3038, 'discrimination,': 3039, 'dear': 3040, 'remedy': 3041, 'fiat': 3042, 'doles': 3043, 'hoops': 3044, 'beginning': 3045, 'suffered': 3046, 'silence.': 3047, 'location.': 3048, 'knew,': 3049, 'dressing': 3050, 'flailing': 3051, 'gen': 3052, 'italia': 3053, '2016,': 3054, 'sudden': 3055, 'politics.': 3056, 'once.': 3057, 'repetitive.': 3058, 'honestly,': 3059, 'ok?': 3060, 'name,': 3061, 'was,': 3062, \"didn't.\": 3063, 'okay.': 3064, 'cr\\u2060e\\u2060epy,': 3065, 'fan\\u2060tas\\u2060ies': 3066, 'woman?': 3067, 'sa\\u2060d,': 3068, '\"16': 3069, 'replies\"': 3070, '\"wow,': 3071, 'generated': 3072, 'conversation.\"': 3073, 'clicked': 3074, 'omg.': 3075, 'sharon': 3076, 'wife...and': 3077, 'daughter.': 3078, 'himself': 3079, 'parroting': 3080, 'thought,': 3081, 'en': 3082, 'masse': 3083, 'bob': 3084, 'dole': 3085, \"'96\": 3086, 'opposite': 3087, 'poll': 3088, 'cigar': 3089, 'pollsters': 3090, 'contracts': 3091, 'accuracy.': 3092, 'predicting': 3093, 'elections': 3094, 'margin': 3095, 'error.': 3096, 'rasmussen': 3097, 'ppp': 3098, 'dem': 3099, '3.': 3100, 'romney': 3101, \"fox's\": 3102, 'polls.': 3103, 'neke': 3104, 'percent??': 3105, 'manhattans.': 3106, 'endorses': 3107, 'comply': 3108, 'wishes,': 3109, 'gladly.': 3110, 'nov': 3111, 'asylum': 3112, 'someone.': 3113, 'hrc': 3114, 'hopefully': 3115, 'authorities': 3116, 'projections': 3117, 'orange': 3118, 'clown': 3119, 'loses': 3120, 'landslide.': 3121, 'possible.': 3122, 'hostage': 3123, 'crisis': 3124, 'inflation': 3125, 'control...after': 3126, 'hillary?': 3127, 'overlords': 3128, 'answer,': 3129, 'repetition': 3130, 'rejected': 3131, 'hilary.': 3132, 'women.': 3133, 'rantings': 3134, 'tribe.': 3135, \"floyd's\": 3136, 'wall.': 3137, \"he'd\": 3138, 'publish': 3139, 'spamming': 3140, 'homeschooling': 3141, 'banned.': 3142, 'hears': 3143, 'critical': 3144, 'radio.': 3145, 'caller': 3146, '\"oh': 3147, 'right.\"': 3148, 'wringing': 3149, 'repeat': 3150, 'handful': 3151, \"wayne's\": 3152, 'tweets,': 3153, '(sharon)': 3154, 'quote.': 3155, 'breath.': 3156, 'replied': 3157, 'below.': 3158, 'dare.': 3159, 'creationist': 3160, 'favorite': 3161, 'heads': 3162, 'fits': 3163, 'transgender?': 3164, 'harmed': 3165, 'taught': 3166, 'schooling': 3167, 'valid': 3168, 'description': 3169, 'validity': 3170, 'false...thus': 3171, 'deceptive': 3172, 'deceived': 3173, 'critically': 3174, 'learning,': 3175, 'growth,': 3176, 'self-understanding': 3177, 'self-appreciation,': 3178, 'refuted.': 3179, 'inexcusable': 3180, 'abusive': 3181, 'falsehoods': 3182, 'foisted': 3183, 'intention': 3184, 'complicity,': 3185, 'widespread': 3186, 'kinds.the': 3187, 'stability': 3188, 'degradation': 3189, 'seriously,': 3190, 'struggli': 3191, 'g': 3192, 'develop': 3193, 'hormones': 3194, 'biology.': 3195, '\"ism\",': 3196, 'either,': 3197, 'precisely': 3198, 'motivations': 3199, '\"trangenderism\"': 3200, \"someone's\": 3201, 'changed?': 3202, 'effects.': 3203, '\"real\"': 3204, 'distorts': 3205, 'discussion,': 3206, 'phenomena': 3207, 'i.e.': 3208, '\"evil\"': 3209, 'effects,': 3210, 'generically': 3211, 'indicate': 3212, 'evil.': 3213, '(victim)': 3214, 'case?': 3215, 'society?': 3216, 'generically,': 3217, 'evil?': 3218, 'sexuality': 3219, 'obvious,': 3220, 'suppressed': 3221, 'involved,': 3222, 'erroneously,': 3223, 'decisions': 3224, 'least,': 3225, 'worst,': 3226, 'wellbeing.': 3227, '\"curing\"': 3228, 'kinds': 3229, 'transition.': 3230, '\"normal\"': 3231, 'depression,': 3232, '\"confused\"': 3233, 'aware': 3234, 'bodies.': 3235, 'misconception': 3236, '\"force\"': 3237, 'confusion.': 3238, 'seldom': 3239, 'works,': 3240, 'although': 3241, 'coercion': 3242, 'effective...and': 3243, 'ethical': 3244, 'concerns.transgenderism,': 3245, 'perversions,': 3246, 'depressive': 3247, 'individual,': 3248, 'also...sometimes': 3249, 'consequences...and': 3250, 'remedies': 3251, 'pandering,': 3252, 'sheltering': 3253, 'accommodating.': 3254, 'mental,': 3255, 'sourced': 3256, 'itself...speaking': 3257, 'generally': 3258, 'cases.': 3259, 'categorizes': 3260, '\"mental\"': 3261, 'physical,': 3262, '\"mind\".': 3263, 'secular': 3264, 'answers': 3265, 'conditions,': 3266, 'permanent': 3267, 'correction': 3268, 'cause.': 3269, 'versed': 3270, 'psychologists': 3271, 'counselors': 3272, 'spirit': 3273, 'being,': 3274, 'treat': 3275, 'volition': 3276, 'lasting': 3277, 'benefit,': 3278, 'healing': 3279, 'normally': 3280, 'harmony': 3281, 'self.': 3282, 'counseling\"': 3283, 'conform': 3284, 'persons,': 3285, 'accentuated': 3286, 'demeaning,': 3287, 'internal': 3288, 'themselves,': 3289, 'alleviated': 3290, 'nature.': 3291, 'conceive': 3292, 'counselling\"': 3293, 'simplistic': 3294, 'recitation': 3295, 'scripture': 3296, 'platitudes,': 3297, 'prayer,': 3298, 'counseling,': 3299, 'inward': 3300, 'objective': 3301, 'self-concepts': 3302, 'immense': 3303, 'value,': 3304, 'acclimate': 3305, 'patience': 3306, 'explanation': 3307, 'levels': 3308, \"subject's\": 3309, 'initial': 3310, 'perceptions': 3311, 'beliefs,': 3312, 'understanding...and': 3313, 'erroneous.': 3314, 'essential': 3315, 'imparted': 3316, 'redirect': 3317, 'patterns,': 3318, 'modifying': 3319, 'structure': 3320, 'symbiosis': 3321, 'purposed': 3322, 'lasting,': 3323, 'permanent,': 3324, 'healing.': 3325, 'choices?': 3326, 'answering': 3327, 'heaven': 3328, 'despite': 3329, 'shop.': 3330, 'heavan?': 3331, 'praying': 3332, 'chapter,': 3333, '“make': 3334, 'narrow': 3335, 'to.\"': 3336, 'legitimate?': 3337, 'basis?': 3338, 'commonly': 3339, 'bizarre': 3340, 'behaviors': 3341, 'policies.': 3342, 'sanctimony,': 3343, 'ultimate': 3344, 'oppose': 3345, 'notions.': 3346, 'guilty': 3347, 'unaccepted': 3348, 'belief.': 3349, 'opposition...as': 3350, 'outrageously': 3351, 'fallacious': 3352, 'claim,': 3353, '\"science,': 3354, 'legitimate\".': 3355, 'realists': 3356, 'defensive,': 3357, 'fallacy,': 3358, 'promoter': 3359, \"fallacy's\": 3360, 'then,': 3361, 'question,': 3362, 'dogmatic': 3363, 'doctrinaire,': 3364, 'claimed,': 3365, 'diverting': 3366, 'intimidation': 3367, 'monkey\"': 3368, 'opposition.': 3369, 'tactics': 3370, 'arguments...the': 3371, 'engage': 3372, 'presentation': 3373, 'facts,': 3374, 'arguments': 3375, 'readers/listeners': 3376, 'proofs': 3377, 'subjects': 3378, 'tolerated': 3379, 'society\"?': 3380, 'stumped': 3381, 'sanctimony': 3382, '\"do': 3383, 'unto': 3384, 'others\"': 3385, 'bit.': 3386, 'people?\"': 3387, 'hidden': 3388, 'homosexuals.': 3389, 'bar': 3390, 'sued': 3391, 'cake': 3392, 'angry.': 3393, 'moves': 3394, 'made,': 3395, 'sereve': 3396, 'obligated': 3397, 'morals,': 3398, 'term,': 3399, 'session': 3400, 'impeaching': 3401, 'immoral,': 3402, 'dirtier': 3403, 'affected': 3404, 'despotic': 3405, 'rule': 3406, 'immoral': 3407, 'privacy?': 3408, 'who?': 3409, 'who.': 3410, 'doctor.': 3411, 'bought': 3412, 'defect.': 3413, 'perversion.': 3414, 'immoral?': 3415, 'immoral.': 3416, \"isn't.\": 3417, 'definition?': 3418, 'only?': 3419, 'sla': 3420, 'very?': 3421, 'surprised.': 3422, 'biblical': 3423, 'conversation.': 3424, 'identifying': 3425, 'from.': 3426, 'hardly.': 3427, 'where?': 3428, 'flawed': 3429, 'savior.': 3430, 'medicine.': 3431, 'prevalent': 3432, '2000': 3433, 'date,': 3434, 'word.': 3435, 'deuteronomy': 3436, '22': 3437, 'leviticus': 3438, 'return': 3439, 'exodus': 3440, '21': 3441, 'from,': 3442, 'se': 3443, 'xuality': 3444, 'tribe': 3445, 'marrying': 3446, 'pe': 3447, 'pist': 3448, 'way?': 3449, 'facilities': 3450, 'as...as': 3451, 'vice': 3452, 'versa)': 3453, 'gender.': 3454, 'female.': 3455, 'opposite.': 3456, '\"you\\'re,\"': 3457, 'fifth-grader.': 3458, 'sound': 3459, 'typo': 3460, 'difference.': 3461, 'paper,': 3462, 'proofreading': 3463, 'understandable': 3464, '\"your\"': 3465, '\"you\\'re\"?': 3466, 'du\\ufeffm\\ufeffb': 3467, 'doctor': 3468, 'simple.': 3469, 'thinking/acting': 3470, 'man,': 3471, 'physically.': 3472, 'join': 3473, 'tgs/gays': 3474, 'whoever': 3475, 'answer?': 3476, 'depending': 3477, 'militant': 3478, 'tg/s': 3479, 'empathize': 3480, 'sentiment': 3481, 'motives': 3482, 'murderous': 3483, 'decadence': 3484, '43': 3485, 'symptom': 3486, 'decay': 3487, 'compass': 3488, 'guide': 3489, 'unnecessary.': 3490, 'shielding': 3491, 'influences': 3492, 'uncertainty': 3493, 'relativism': 3494, 'youth...largely': 3495, 'schooling.': 3496, 'following': 3497, 'mythology': 3498, 'psychology.': 3499, 'poisons': 3500, 'poisonous': 3501, 'true...and': 3502, 'redeemed': 3503, 'sacrifice': 3504, 'fallacies': 3505, 'attributed': 3506, 'inherent': 3507, 'motivation,': 3508, 'motivation': 3509, 'self-centeredness': 3510, 'beings.': 3511, \"world's\": 3512, 'expressions': 3513, 'nature...christianity': 3514, 'judaism': 3515, 'exceptions.': 3516, 'correct...except': 3517, 'seven': 3518, 'fo\\ufeffol.': 3519, 'paul': 3520, 'apostle,': 3521, 'fool': 3522, 'fo\\ufeffol...period.': 3523, 'saddest': 3524, 'result,': 3525, 'machinations': 3526, 'influenced': 3527, 'inestimable': 3528, 'bible,': 3529, 'scouty': 3530, 'misquote': 3531, 'figured': 3532, '5.': 3533, 'healthcare,': 3534, 'information,': 3535, 'medicine,': 3536, 'transexuals': 3537, \"1970's\": 3538, \"80's.\": 3539, 'sick,': 3540, 'satan': 3541, 'satan.': 3542, 'thankfully': 3543, 'pee': 3544, 'odd': 3545, 'fantasy.': 3546, 'sb,': 3547, 'pee,': 3548, 'watches': 3549, 'bathroom?': 3550, 'about,': 3551, 'agreement': 3552, 'socialismless': 3553, 'reason,': 3554, 'ms.': 3555, 'pantyhose?': 3556, 'wisdom': 3557, 'high-risk': 3558, 'liability': 3559, 'be,': 3560, 'pantyhose': 3561, 'entangled': 3562, 'ankles,': 3563, 'unknown': 3564, 'unbeknownst,': 3565, 'forewarn': 3566, 'potential': 3567, 'danger?': 3568, 'pantyhose,': 3569, 'next,': 3570, 'dresses,': 3571, 'deeming': 3572, 'unnecessary': 3573, 'risk': 3574, 'room?': 3575, '0/10': 3576, '-1/10': 3577, 'forbid': 3578, 'danger': 3579, 'happen,': 3580, 'active': 3581, 'imagination.': 3582, 'dresses?': 3583, 'freaked': 3584, 'forgot': 3585, 'yours,': 3586, 'clearly...': 3587, 'drug?': 3588, 'gibberish->english': 3589, 'translator': 3590, 'gay/tg': 3591, 'stated.': 3592, 'phrasing.': 3593, 'redefining': 3594, 'disagreement': 3595, 'saying.': 3596, 'questions': 3597, 'mentioned.': 3598, 'desperately': 3599, 'that.its': 3600, 'drug.': 3601, 'want,': 3602, 'impossible': 3603, 'tiresome': 3604, 'agreeing': 3605, 'liking': 3606, 'transgenders,': 3607, 'otherwise.': 3608, 'opinions.': 3609, \"aren't...but\": 3610, 'am....': 3611, 'actually,': 3612, 'leak': 3613, 'plausible': 3614, 'hypothesis,': 3615, 'customized': 3616, 'enhancements;': 3617, 'nevertheless,': 3618, 'alinsky': 3619, 'playbook.': 3620, 'trans': 3621, 'bathroom/facilities': 3622, 'potentially': 3623, 'explosive': 3624, 'situations.': 3625, 'thrive': 3626, 'really,': 3627, 'distraction.': 3628, 'room,': 3629, 'in...that': 3630, 'rooms': 3631, 'transgenders...they': 3632, 'scares': 3633, 'me...rapists': 3634, 'confirming': 3635, 'bathroom.': 3636, 'insisting': 3637, 'certificate.': 3638, 'subset': 3639, '\"law\"': 3640, 'ssm.': 3641, 'ruling': 3642, 'rights?': 3643, 'ruling?': 3644, '*crickets': 3645, 'killer': 3646, 'deflected': 3647, 'weapon.': 3648, 'then.': 3649, \"they'd\": 3650, 'legacy': 3651, 'bruce': 3652, 'springsteen,': 3653, 'ringo': 3654, 'starr,': 3655, 'corporations': 3656, 'condemned/boycotted': 3657, 'states?': 3658, '.....': 3659, 'crickets...': 3660, 'outrage,': 3661, 'liberals?': 3662, 'jim': 3663, 'crow': 3664, 'per\\u2060version?': 3665, 'nons\\u2060ense': 3666, 'face;': 3667, 'fourth': 3668, \"he'll\": 3669, 'eventually': 3670, 'c\\u2060o\\u2060w\\u2060ard': 3671, 's\\u2060h\\u2060u\\u2060t': 3672, '\"answer\"': 3673, 'asked,': 3674, '4th': 3675, 'cares?': 3676, 'awsome': 3677, 'ruins': 3678, 'finances': 3679, 'ag': 3680, 'becomes': 3681, 'ncs': 3682, 'govener.': 3683, 'crying.': 3684, 'bedrooms': 3685, 'repulsive': 3686, 'singled': 3687, 'outage': 3688, 'dennis': 3689, 'hastert,': 3690, 'foley': 3691, 'crimes?': 3692, 'celebrities?': 3693, 'monkeys': 3694, 'howlling': 3695, 'collection': 3696, 'dependent': 3697, 'king.': 3698, \"doesn't.\": 3699, 'leader.': 3700, 'legally': 3701, 'do,': 3702, 'consume': 3703, 'controlled': 3704, 'substances': 3705, 'recreational': 3706, 'usage,': 3707, 'imaginary': 3708, 'agency,': 3709, 'branch,': 3710, 'pulls': 3711, 'car,': 3712, 'drive\".': 3713, '\"why,': 3714, 'break?\"': 3715, '\"my': 3716, 'again.\"': 3717, 'unconstitutional.\"': 3718, 'jail.\"': 3719, 'me?\"': 3720, 'hair': 3721, 'cut\".': 3722, 'resident': 3723, 'oval': 3724, 'office...': 3725, 'plus': 3726, 'portion': 3727, 'demoratic': 3728, 'base...': 3729, 'demorats': 3730, \"id's\": 3731, 'booths.': 3732, 'incompetent': 3733, 'anti': 3734, 'hacks': 3735, \"obama's.\": 3736, 'enforcing': 3737, 'sarah': 3738, 'root,': 3739, 'omaha,': 3740, 'neb.,': 3741, 'slammed': 3742, 'hers': 3743, 'racing.': 3744, 'unaccompanied': 3745, 'minor,': 3746, 'brushes': 3747, 'vaughan.': 3748, '“the': 3749, 'detectives': 3750, 'detainer': 3751, 'mejia,': 3752, 'priority': 3753, 'crime,”': 3754, '“he': 3755, 'bail': 3756, 'disappeared,': 3757, 'scandal': 3758, 'ice.”': 3759, 'instance,': 3760, 'johnny': 3761, 'josue': 3762, 'sanchez,': 3763, '21,': 3764, 'honduran': 3765, 'times,': 3766, 'allegedly': 3767, 'homeless': 3768, 'vacant': 3769, 'angeles.': 3770, 'combination': 3771, 'angeles’s': 3772, 'disinterest': 3773, 'sanchez': 3774, '“minor”': 3775, 'offenses': 3776, 'resulted': 3777, 'tragedy.': 3778, 'marilyn': 3779, 'pharis,': 3780, '64-year-old': 3781, 'air': 3782, 'brutally': 3783, 'bludgeoned': 3784, 'claw': 3785, 'hammer': 3786, '24,': 3787, '2015,': 3788, 'victor': 3789, 'aureliano': 3790, 'martinez': 3791, 'ramirez,': 3792, '29,': 3793, 'six': 3794, '15': 3795, 'charged': 3796, 'grant': 3797, 'citizenship': 3798, '11.6': 3799, '6.6': 3800, 'citizens?': 3801, 'insurgents': 3802, 'indeed,': 3803, 'background,': 3804, 'sealed': 3805, 'scrubbed': 3806, 'websites,': 3807, 'altered': 3808, 'documents,': 3809, 'unanswered': 3810, 'blocked': 3811, 'medical,': 3812, 'records?': 3813, 'headlines': 3814, 'marvels,': 3815, 'mystery': 3816, 'perplexing': 3817, 'identities': 3818, 'possessing': 3819, 'orly': 3820, 'taitz,': 3821, 'filed': 3822, 'eligibility': 3823, 'discover': 3824, 'suit,': 3825, 'refusing': 3826, 'ineligible': 3827, 'chief,': 3828, 'hired': 3829, 'investigator': 3830, 'neil': 3831, 'addresses': 3832, 'intelius,': 3833, 'lexis': 3834, 'nexis,': 3835, 'connected': 3836, '25,': 3837, 'searched': 3838, 'fake': 3839, 'phoenix': 3840, '713': 3841, 'hart': 3842, 'attended': 3843, 'harvard': 3844, 'addresses,': 3845, '2005,': 3846, 'apartment': 3847, 'nw;': 3848, 'yet,': 3849, 'later,': 3850, 'bro': 3851, 'spanish': 3852, 'interpreter': 3853, '24/7.': 3854, 'suspected': 3855, 'cups': 3856, 'ascertain': 3857, 'honduras': 3858, 'twice': 3859, 'request': 3860, 'up,..which': 3861, 'promptly': 3862, 'loose\"': 3863, \",that's\": 3864, 'connectcut': 3865, '1898': 3866, 'french': 3867, '1960': 3868, '1961......': 3869, 'obamma': 3870, '1961': 3871, 'mother': 3872, 'collected': 3873, \"'s\": 3874, 'people.......': 3875, 'r': 3876, 'insurgent': 3877, 's?': 3878, '1898?': 3879, 'sure?': 3880, 'originally': 3881, '1898.': 3882, 'date': 3883, 'belly': 3884, 'boarder': 3885, 'crawlin': 3886, 'mexitrash': 3887, 'sancuary': 3888, 'anyway?': 3889, 'else?': 3890, 'kinda': 3891, 'names.': 3892, 'later.': 3893, '\"democrats\"': 3894, 'abetting,': 3895, 'obstruction': 3896, 'stick.': 3897, 'scotsman': 3898, 'overstaying': 3899, 'visa': 3900, 'departure': 3901, 'lax': 3902, 'barred': 3903, 'returning,': 3904, 'consultant': 3905, 'abroad': 3906, 'american,': 3907, 'harsh': 3908, 'spoke': 3909, 'intellectual': 3910, 'colonel': 3911, 'sanders.': 3912, 'dim.': 3913, '\"illegal\"': 3914, \"dim's\": 3915, 'understand?': 3916, 'enforced?': 3917, \"hillary's\": 3918, 'blacklivesmatter.': 3919, 'injustices': 3920, 'streets?': 3921, 'works.': 3922, 'protesters': 3923, 'dallas': 3924, 'fraternal': 3925, 'explain.': 3926, 'dnc': 3927, 'convention': 3928, 'audience': 3929, 'jeered': 3930, 'officers.': 3931, 'white,': 3932, 'asian,': 3933, 'protesting': 3934, 'done?': 3935, 'demokkkrat': 3936, 'bigot': 3937, 'shalom': 3938, 'clm.': 3939, 'johnson,': 3940, 'illegally.': 3941, 'all,,,,,,,': 3942, 'crminals': 3943, 'deported,': 3944, 'commit': 3945, 'crimes.': 3946, 'protected,': 3947, 'ordered': 3948, 'when??': 3949, 'civilians': 3950, 'apprehend': 3951, 'ice.': 3952, 'agents,': 3953, 'hugely': 3954, 'expand': 3955, 'forces': 3956, 'street.': 3957, 'e-verify': 3958, 'undocumented': 3959, 'u.s.a.': 3960, 's,overeign': 3961, 'diluted': 3962, 'hunter': 3963, '.......': 3964, 'alive/': 3965, 'suprisied': 3966, 'team..........': 3967, 'swim': 3968, 'joke': 3969, 'brough': 3970, 'later': 3971, 'olympics,': 3972, 'didnt': 3973, 'deleted,,,': 3974, 'fence-climbing': 3975, 'event......': 3976, 'eh,': 3977, ',,,': 3978, 'ask?,,': 3979, 'grubers': 3980, 'fraud,': 3981, 'leftist': 3982, 'lemmings,': 3983, 'mediamatters': 3984, 'happened.': 3985, 'dummycrap': 3986, 'districts': 3987, 'sector.': 3988, 'unqualified': 3989, 'tenured': 3990, 'increases.': 3991, 'functions': 3992, 'function': 3993, 'impose': 3994, 'housed': 3995, 'grounds.': 3996, 'determination': 3997, 'individual.': 3998, 'extent': 3999, 'liable': 4000, 'damages': 4001, 'imposing': 4002, 'anti-': 4003, 'asault': 4004, 'ceased': 4005, 'credence': 4006, 'accorded': 4007, '\"sanctuary\"': 4008, 'virulent': 4009, 'secularists': 4010, 'bolster': 4011, 'districting': 4012, 'purposes.': 4013, 'afactor': 4014, 'tenet': 4015, 'contrived,': 4016, 'legislator,pelosi': 4017, 'biden': 4018, 'mind,purporting': 4019, 'excommunicated.': 4020, 'bastion': 4021, 'minorities.': 4022, 'religionhas': 4023, 'amoral': 4024, 'athiest...': 4025, 'cutting': 4026, 'dandy': 4027, 'faster': 4028, 'attitude': 4029, 'abeting': 4030, 'commission': 4031, 'papers': 4032, '(fraud)': 4033, 'refuge': 4034, 'individuals': 4035, 'appealing': 4036, 'recognition': 4037, 'gilt': 4038, 'apprehension': 4039, 'safely': 4040, 'present': 4041, 'led': 4042, 'brake': 4043, 'granting': 4044, 'thereof.': 4045, 'counts': 4046, 'border,': 4047, 'drown': 4048, 'rio': 4049, 'grande': 4050, 'deportations': 4051, 'ltfol': 4052, 'crisis....': 4053, 'demoncrats': 4054, 'continuing': 4055, 'destabilize': 4056, 'people....': 4057, 'peoples': 4058, 'choice...ceo': 4059, 'competent': 4060, 'evident': 4061, 'runnig': 4062, 'patriotic,': 4063, 'content': 4064, 'administrator': 4065, 'suppoing': 4066, 'america...trump': 4067, 'efect': 4068, 'american....': 4069, '...fact': 4070, 'fiction': 4071, 'todays': 4072, 'accomplished': 4073, 'dividing': 4074, 'undermining': 4075, 'governing': 4076, 'principles....we': 4077, '????????': 4078, 'isnt': 4079, 'oxymoron???': 4080, '\"dangerous': 4081, 'immigrants\",': 4082, '\"democratic': 4083, 'voters\".': 4084, 'brain-dead.': 4085, 'count?': 4086, 'registered.': 4087, 'demrats': 4088, 'gated': 4089, 'comunities': 4090, 'cars': 4091, 'busses': 4092, 'planes': 4093, 'trains,': 4094, 'h2o': 4095, 'muslims..........': 4096, 'long,,,,,,': 4097, 'gov.': 4098, 'ebt,': 4099, 'etc.......': 4100, 'own.': 4101, 'stores': 4102, 'fixed': 4103, 'cincyman': 4104, 'upon': 4105, 'correctness?': 4106, 'vote.': 4107, 'maximum': 4108, 'abort': 4109, 'alcohol': 4110, 'madness...trump': 4111, 'pence': 4112, 'empty': 4113, 'corner.': 4114, 'failing.': 4115, 'bankrupt': 4116, 'nation...': 4117, 'thee': 4118, '<<<': 4119, 'adolph.': 4120, 'meds...or': 4121, \"how's\": 4122, 'obamacare': 4123, \"gov't\": 4124, 'works.quick': 4125, 'summary': 4126, 'hsa': 4127, 'plan.': 4128, 'mail': 4129, 'gov': 4130, 'you????': 4131, 'indian......': 4132, 'henery': 4133, 'ford': 4134, 'wise': 4135, 'indian': 4136, '\"sure': 4137, 'trust': 4138, 'government\".': 4139, 'once......and': 4140, '\"wise\"': 4141, 'venezuela?': 4142, 'cure': 4143, 'stupidity': 4144, 'reed': 4145, 'hang': 4146, 'vermin.': 4147, 'certificates': 4148, 'hanging': 4149, 'coddling': 4150, 'la': 4151, '\"needed\"': 4152, '\"day': 4153, 'mexican\"': 4154, 'stayed': 4155, 'protest.': 4156, 'backfired': 4157, 'traffic': 4158, 'freeways': 4159, '(unheard': 4160, 'la),': 4161, 'functioned': 4162, 'issue,': 4163, \"mex's\": 4164, 'exhibiting': 4165, 'collateral': 4166, 'damage': 4167, 'lefts': 4168, 'quest': 4169, 'brown...': 4170, 'government,': 4171, 'cooperate': 4172, 'governments': 4173, 'amok': 4174, 'deportation?': 4175, 'problem....': 4176, 'ourselves': 4177, 'minds,': 4178, 'govt.': 4179, 'agencies': 4180, 'feds': 4181, 'custody,': 4182, 'advocates': 4183, 'subject’s': 4184, 'rights\"': 4185, 'non-citizens': 4186, 'complete.': 4187, 'jeh': 4188, 'johnson': 4189, 'hack.': 4190, 'arizona': 4191, 'flooded': 4192, 'agency': 4193, 'joe': 4194, \"arpaio's\": 4195, 'maricopa': 4196, 'county': 4197, \"sheriff's\": 4198, 'office,': 4199, 'felons.': 4200, 'neighborhoods': 4201, 'spout': 4202, 'ridding': 4203, 'joe.': 4204, 'reelected.': 4205, 'here.........': 4206, '\"except': 4207, 'lawyers\"': 4208, 'pole': 4209, 'vaulting': 4210, \"teams...you're\": 4211, 'it.\"': 4212, '--donald': 4213, 'seems,': 4214, 'witnessed': 4215, 'seattle': 4216, '\"city': 4217, 'workers\"': 4218, 'backhoe': 4219, 'bucket': 4220, 'olympics.': 4221, 'olympics': 4222, 'embarrassed.': 4223, 'deleted': 4224, 'land,': 4225, 'occupation.': 4226, 'committing': 4227, 'deported.': 4228, 'biometric': 4229, 'scanned': 4230, 'paperwork': 4231, 'trip': 4232, 'chaingang': 4233, 'fixing': 4234, \"if's\": 4235, 'ands': 4236, 'buts.': 4237, 'circumcise': 4238, 'liberal?': 4239, 'boyfriend': 4240, 'chin.': 4241, 'winner': 4242, 'backed': 4243, 'officials': 4244, 'deciding': 4245, 'following......they': 4246, 'participation': 4247, 'louder': 4248, 'peoples.': 4249, 'dnc.': 4250, 'happening.': 4251, 'machines': 4252, 'break': 4253, 'riot': 4254, 'milwaukee?': 4255, 'paternity': 4256, 'tests': 4257, 'helicopter': 4258, 'crowd': 4259, 'applications....': 4260, 'boots': 4261, 'airplanes': 4262, 'aliens.': 4263, 'redundant?': 4264, 'dumbed': 4265, 'become.': 4266, 'country......': 4267, 'starve': 4268, 'democrat?': 4269, 'rob': 4270, 'democrat,': 4271, 'bike.': 4272, 'thief.': 4273, 'wasteful': 4274, 'ineffective': 4275, 'murders': 4276, 'many.': 4277, 'poetic': 4278, 'justice....': 4279, 'innocents': 4280, '(aka': 4281, 'non-liberals)': 4282, 'intolerable.': 4283, 'democrats.': 4284, 'happy?': 4285, 'murderer': 4286, 'states......and': 4287, '100,000': 4288, 'felon': 4289, 'anarchy.': 4290, 'chico.': 4291, 'movie': 4292, 'help.\"': 4293, 'fix.': 4294, 'a-hole': 4295, 'hand': 4296, 'criminals,': 4297, 'kills': 4298, 'manslaughter': 4299, 'negotiation,': 4300, 'bargaining,': 4301, 'responsible.': 4302, 'folks?': 4303, 'unacceptable,': 4304, 'dereliction': 4305, 'sworn': 4306, 'duty': 4307, 'charges': 4308, 'limitted': 4309, 'simple....not': 4310, 'agree...completely.': 4311, 'bury': 4312, 'foot': 4313, 'die?': 4314, '\"hand': 4315, 'out\"': 4316, 'bwaaaaa': 4317, 'wasted': 4318, 'bwaa': 4319, 'teabags': 4320, '<<': 4321, 'nothing?': 4322, 'santa': 4323, 'chimney.': 4324, 'senseless': 4325, 'violence.': 4326, 'fools': 4327, '\"pittsburg': 4328, 'steal\"': 4329, 'deceived.': 4330, '\"give': 4331, 'rich': 4332, 'independent?\"': 4333, 'freeloader': 4334, 'year....how': 4335, 'skippy.': 4336, 'ten': 4337, 'business.': 4338, 'seanny': 4339, 'farce': 4340, 'cooking': 4341, 'meth': 4342, '$40k.': 4343, 'said....how': 4344, 'herpes': 4345, 'hemorrhoids': 4346, 'madame': 4347, 'wookie': 4348, 'epitomy': 4349, 'arrogance': 4350, 'sef-righteousness': 4351, 'valerie': 4352, 'jarrett': 4353, 'ayers,': 4354, 'rv': 4355, 'wright.....ho': 4356, 'w': 4357, 'judgement..how': 4358, 'verbally': 4359, 'degrade': 4360, \"where's\": 4361, 'now?': 4362, 'tarzans': 4363, 'spoiled,': 4364, 'thankless,': 4365, 'america-hating': 4366, 'wicked': 4367, 'deneen,': 4368, 'betray': 4369, 'sisters?': 4370, 'channels': 4371, 'martin': 4372, 'luther': 4373, 'king': 4374, 'deride': 4375, 'her?': 4376, 'mature': 4377, 'beautiful': 4378, 'lady,': 4379, 'guise': 4380, 'neck': 4381, 'sermon': 4382, 'mound': 4383, 'heart.': 4384, 'race?': 4385, 'pleasure': 4386, 'defection,': 4387, 'poverty': 4388, 'prejudice': 4389, 'haunt': 4390, 'bone': 4391, 'body.': 4392, 'haunted': 4393, \"'channeling'\": 4394, 'channel.': 4395, 'color.': 4396, 'does.': 4397, 'lying...trump': 4398, 'us...he': 4399, 'legally.': 4400, 'calling?...': 4401, 'cupcakes...': 4402, 'radical': 4403, 'that.....not': 4404, 'think.': 4405, 'redecorate': 4406, 'nobama': 4407, 'sez.': 4408, 'apes': 4409, 'reach.': 4410, 'much?': 4411, \"callin'\": 4412, 'spade,': 4413, 'spade.': 4414, 'oops': 4415, 'african-american': 4416, 'african.....was': 4417, '“people': 4418, 'comeback.”': 4419, 'benefiting': 4420, 'minority?': 4421, 'bloviates': 4422, 'accepting': 4423, 'frakish,': 4424, 'progs': 4425, 'hypocritical.': 4426, 'hypocrite': 4427, 'elaborate': 4428, 'trips,': 4429, 'bed': 4430, 'nite.....': 4431, '(taxpayer': 4432, 'money)': 4433, 'vacations': 4434, 'equality.....': 4435, 'joke.....': 4436, 'america.....': 4437, 'grandkids': 4438, 'wardrobes': 4439, '$20,000.00-': 4440, 'dresses.': 4441, '\"waking': 4442, 'up\"': 4443, 'tens': 4444, 'productive': 4445, 'homes': 4446, 'families,': 4447, 'pushed': 4448, 'aside': 4449, 'immigrants,': 4450, ';': 4451, 'points': 4452, '(his': 4453, 'labor': 4454, '(legal': 4455, 'illegal)': 4456, 'benefits,': 4457, '\"official\"': 4458, 'massive,': 4459, 'huge,': 4460, 'grown': 4461, 'already;': 4462, 'reputation': 4463, 'showing': 4464, 'confussed': 4465, 'fraud\"': 4466, 'thin': 4467, 'skinned': 4468, 'fake\"': 4469, 'delete': 4470, 'sorry..did': 4471, 'this...the': 4472, 'friday': 4473, '“act': 4474, 'acceptable': 4475, 'substitute': 4476, 'thoughtful': 4477, 'debate,': 4478, 'intolerance': 4479, 'optimism': 4480, 'openness': 4481, 'engine': 4482, 'progress.\"': 4483, 'circumvents': 4484, 'whenever': 4485, 'occasions': 4486, 'violated': 4487, 'constitution??': 4488, 'is....': 4489, '\"hateful': 4490, 'eight\"': 4491, 'vacate': 4492, 'wh,': 4493, '19': 4494, 'vietnam': 4495, 'ugly.': 4496, 'marine': 4497, 'rvn': 4498, '9-67': 4499, '3-69': 4500, 'amtrak': 4501, 'cau': 4502, 'viet': 4503, '2/9': 4504, 'carroll': 4505, 'quang': 4506, 'tri': 4507, 'buffalo,': 4508, 'lol,': 4509, 'perfect.': 4510, 'transvestites': 4511, 'elated': 4512, 'locker': 4513, 'cares????': 4514, 'trashy': 4515, \"michele's\": 4516, 'party,': 4517, '18,': 4518, '20,': 4519, '22.': 4520, '6,': 4521, 'discussions\"': 4522, '\"lady\"?': 4523, 'obama-': 4524, 'ski': 4525, 'house...': 4526, 'senator,': 4527, 'qualifications.': 4528, 'poor--her': 4529, 'hospitals': 4530, 'michelle.': 4531, 'contract,': 4532, 'bucks': 4533, 'ride....nwcs': 4534, 'popular': 4535, 'nwcs....money': 4536, 'laundering.': 4537, 'architect,': 4538, '(african': 4539, 'european),': 4540, 'pot': 4541, 'kettle': 4542, 'drafting': 4543, 'nomination': 4544, 'bizaro,': 4545, 'indited?': 4546, 'off.......for': 4547, '7.5': 4548, 'years.........': 4549, 'condemn': 4550, '\"anger': 4551, 'intolerance\"': 4552, 'inflicted': 4553, 'jose,': 4554, 'ca.': 4555, 'woodwork?': 4556, 'lunches': 4557, 'face...': 4558, 'scary.': 4559, 'bumper': 4560, 'sticker': 4561, 'mooch-elles': 4562, 'stating': 4563, 'a55': 4564, 'truck': 4565, 'fat?': 4566, 'curious...why': 4567, \"'good\": 4568, 'question...': 4569, 'lady,who': 4570, 'ride': 4571, 'n': 4572, 'spoken': 4573, 'wookie.': 4574, 'grinch': 4575, 'stole': 4576, 'christmas?\"': 4577, 'immigration.': 4578, 'arrive': 4579, 'beverage,': 4580, 'chat.': 4581, 'garbage,': 4582, 'invite': 4583, 'door.': 4584, 'in,': 4585, 'settled,': 4586, 'door': 4587, 'ok,': 4588, \"we'll\": 4589, 'otherwise,': 4590, 'written,': 4591, 'ad': 4592, 'eyes,': 4593, 'moochell': 4594, 'at..': 4595, 'hideously': 4596, 'ugly..': 4597, 'pathetically': 4598, 'uncalled': 4599, 'inappropriate.': 4600, 'developed,': 4601, 'nerve,': 4602, 'truth?': 4603, '\"cards\"': 4604, 'carve': 4605, 'b.s.': 4606, 'liberalbeliefs.': 4607, 'for/criticized': 4608, 'legitimately...': 4609, 'out...\"': 4610, '\"walls\"': 4611, 'clueless,': 4612, 'pro-illegal': 4613, 'immigration,': 4614, 'leftytool.': 4615, 'guarded': 4616, 'guys': 4617, 'guns,': 4618, 'lectures': 4619, 'yeeeeup.': 4620, '(actually,': 4621, 'fence,': 4622, 'it?)': 4623, 'speech?': 4624, 'trump?': 4625, 'inappropriate....and': 4626, 'tacky.': 4627, 'shame.': 4628, 'lives?': 4629, 'place.': 4630, 'interact': 4631, 'barack...she': 4632, 'strap': 4633, 'jesus,': 4634, 'bus': 4635, 'again?': 4636, 'dignity': 4637, 'rutgers': 4638, 'nj': 4639, 'graduates': 4640, 'fluff': 4641, 'trump...what': 4642, 'sorting': 4643, 'graduates.': 4644, 'maketheunitedstatesgreatagain.com': 4645, 'red': 4646, 'shipping': 4647, 'coast,': 4648, 'vendor': 4649, 'campaign.': 4650, 'swipes': 4651, 'opponent': 4652, \"party's\": 4653, 'candidates?': 4654, 'goodness': 4655, 'sake,': 4656, 'michele.': 4657, 'reveals': 4658, 'grace': 4659, \"nation's\": 4660, 'ticked': 4661, 'elected,': 4662, 'celebrated': 4663, 'michael.': 4664, 'he/she': 4665, 'envy.': 4666, 'kitchen??is': 4667, 'beter': 4668, 'brother': 4669, 'trumpet': 4670, '9.6%': 4671, 'rate.': 4672, \"osym's\": 4673, 'relevant.': 4674, 'expected': 4675, 'language.': 4676, 'down,': 4677, 'wholly': 4678, 'contact': 4679, 'prime': 4680, 'oceanfront': 4681, 'cheap': 4682, 'downtown': 4683, 'memphis': 4684, 'tennessee.': 4685, 'atlantic': 4686, 'pacific': 4687, 'ocean.': 4688, ',suppose': 4689, 'downtrodden': 4690, 'tapped': 4691, 'lucky': 4692, 'potus,': 4693, 'anyway,': 4694, 'twice.': 4695, 'undercover': 4696, 'michelle?': 4697, 'all?': 4698, 'suggestion': 4699, '\"different\"': 4700, 'whey': 4701, 'come.': 4702, 'catch': 4703, 'tony': 4704, 'd.c.': 4705, 'neighborhood,': 4706, 'daughters,': 4707, 'coffee': 4708, 'morning.': 4709, '2017': 4710, 'enough,': 4711, 'bon': 4712, 'voyage': 4713, 'michells': 4714, 'husband..': 4715, 'owe': 4716, 'results.': 4717, 'trillion,': 4718, 'year..': 4719, 'libertards..': 4720, 'majority.': 4721, '(sarc)': 4722, 'reside': 4723, 'shame?': 4724, 'pearl': 4725, 'apologizes': 4726, 'reprehensible': 4727, 'act.': 4728, 'plows': 4729, 'bong': 4730, 'nightly': 4731, 'unbelievable': 4732, 'shots': 4733, 'jv': 4734, 'joke....': 4735, 'wh': 4736, 'oblunder': 4737, 'divided': 4738, 'horse': 4739, 'tooth': 4740, 'jungle': 4741, 'creaturrrrre': 4742, 'moooooochel': 4743, 'swiping': 4744, '$': 4745, 'gutter': 4746, 'crust': 4747, 'swiping.': 4748, 'michael': 4749, 'he.': 4750, 'buckwheat': 4751, 'dude.': 4752, '\"experience\"': 4753, 'a…': 4754, 'wondered': 4755, 'planes,': 4756, 'together..': 4757, 'baiting': 4758, 'husband.': 4759, 'obimbo': 4760, 'wednesday,': 4761, 'husband,': 4762, 'indiana,': 4763, '“republican': 4764, 'nominee”': 4765, '“crazy”': 4766, 'ideas,': 4767, '11': 4768, 'states.': 4769, 'depo': 4770, 'em': 4771, 'joan': 4772, 'rivers': 4773, 'critique': 4774, 'comedy.': 4775, 'critize': 4776, 'like.': 4777, 'somehow,': 4778, 'clinton’s': 4779, 'presidency': 4780, 'alleges': 4781, 'presumptive': 4782, '“lacks': 4783, 'temperament': 4784, 'honestly...': 4785, 'barrack': 4786, 'insane': 4787, 'transformation': 4788, 'firlmy': 4789, 'boundary...im': 4790, 'cynical': 4791, 'argumebt': 4792, 'severely': 4793, 'hateful.': 4794, 'context': 4795, 'victims.': 4796, 'victimizing': 4797, 'victimize': 4798, 'them)': 4799, 'mistreated': 4800, 'descent': 4801, 'obsess': 4802, 'blood,': 4803, 'rarely': 4804, 'treated.': 4805, 'documented': 4806, 'tent': 4807, 'borders,': 4808, 'face.': 4809, 'boundaries': 4810, '..with': 4811, 'sure,': 4812, 'ths': 4813, 'sister': 4814, 'cleo??': 4815, 'cleo': 4816, 'impressive.': 4817, 'marries': 4818, 'degrades': 4819, 'spiteful': 4820, 'empowered.': 4821, 'moocher': 4822, 'pulpit.': 4823, 'world;': 4824, 'cherrypicking': 4825, 'patients': 4826, 'salary': 4827, 'worth,': 4828, 'hate-speech': 4829, 'setting': 4830, 'earn,': 4831, 'remembering.': 4832, 'slavic;': 4833, 'realizing': 4834, 'predecessors': 4835, 'divisive': 4836, 'uttered,': 4837, 'opportunities': 4838, 'failures,': 4839, 'worldwide': 4840, 'disarray': 4841, 'enemies': 4842, 'fronts': 4843, 'lithuanian': 4844, 'here...with': 4845, 'g-grandmum': 4846, 'czar': 4847, '10%': 4848, 'predated': 4849, 'scottish': 4850, 'jew...but': 4851, 'regarded': 4852, 'murderedf': 4853, 'falls': 4854, 'rally': 4855, 'attendees': 4856, 'jose': 4857, 'supporters.': 4858, 'glance': 4859, '\"husband\\'s\"': 4860, 'his.': 4861, 'pair.': 4862, 'cheering': 4863, 'egyptian': 4864, 'hebrew': 4865, 'pyramids??': 4866, 'stage': 4867, 'protests': 4868, 'eggs,': 4869, 'maybe.': 4870, 'press': 4871, 'egypt': 4872, 'reparations.': 4873, 'thousand': 4874, 'commemorating': 4875, 'egypt.': 4876, 'obummers': 4877, \"'african'\": 4878, '\"built': 4879, 'slaves\"': 4880, 'hypocrisy': 4881, 'fills': 4882, 'darts': 4883, 'use?': 4884, 'families.': 4885, 'mrs.': 4886, 'smart,': 4887, \"she'll\": 4888, 'quote': 4889, '\"protests': 4890, 'page': 4891, 'ago\"': 4892, '...not': 4893, 'in...': 4894, 'prison.': 4895, 'cellmate': 4896, 'rapidly': 4897, 'gray': 4898, 'tired,': 4899, 'attractive.': 4900, 'mooch': 4901, 'aunt': 4902, 'esther': 4903, 'cataracts': 4904, 'worry': 4905, 'moochel': 4906, 'sexually': 4907, 'billy.': 4908, '...no': 4909, \"trump's\": 4910, 'out...fortrump....': 4911, 'f': 4912, 'beast': 4913, 'racists': 4914, 'lynching,': 4915, 'abusing,': 4916, 'owed': 4917, 'tramp': 4918, 'transparent': 4919, '\"race': 4920, 'card\"': 4921, '????': 4922, 'trouble..': 4923, 'visit': 4924, 'thread': 4925, 'gutter.': 4926, 'someday,': 4927, 'wishful': 4928, 'thinking.': 4929, 'fair,': 4930, 'hatred,': 4931, 'vitriol,': 4932, 'them...over': 4933, 'multi': 4934, 'hospital....was': 4935, 'patient': 4936, 'dumping': 4937, 'scheme.': 4938, 'sources': 4939, 'comment?': 4940, 'toolbar': 4941, 'educate': 4942, 'yourself...if': 4943, 'type?': 4944, 'apologize.': 4945, 'covered': 4946, '8th': 4947, 'today?': 4948, \"'re\": 4949, '\"we\"?': 4950, 'storm....try': 4951, 'recall': 4952, 'rolled': 4953, 'gutter...as': 4954, 'say.....over': 4955, 'palin.': 4956, 'respect....why?': 4957, 'topic': 4958, 'reacting': 4959, 'lol...not': 4960, \"hillary...you're\": 4961, 'too...': 4962, 'great.': 4963, 'impeached.': 4964, 'impeached': 4965, 'dynamic': 4966, 'duo\"': 4967, 'linebacker': 4968, 'nfl....': 4969, 'bitter': 4970, 'skunk-ape.': 4971, 'sigh.': 4972, 'she?': 4973, 'nope.': 4974, 'embarrassment': 4975, 'vacuous': 4976, 'anywhere': 4977, 'was.': 4978, 'behind.': 4979, 'gang': 4980, 'longer.': 4981, 'promises': 4982, '(if': 4983, 'elected)': 4984, \"'progress'.\": 4985, 'gaffes,': 4986, 'wake.': 4987, 'milk?': 4988, 'pedophile,': 4989, 'ex-navy,': 4990, 'choices.': 4991, 'lollypop?': 4992, 'rainbow': 4993, 'deserving': 4994, 'honor.': 4995, 'organizations': 4996, 'ceremony': 4997, 'pendleton': 4998, 'moh': 4999, 'basilone': 5000, '(second': 5001, 'warship': 5002, 'ddg)': 5003, 'narrative': 5004, 'song': 5005, '\"anchors': 5006, 'away\"': 5007, '\"in': 5008, 'navy\"': 5009, 'sailor': 5010, 'seriously.': 5011, 'j.': 5012, 'christopher': 5013, 'stevens,': 5014, 'tyrone': 5015, 'woods,': 5016, 'glen': 5017, 'doherty,': 5018, 'smith...american': 5019, 'heroes': 5020, 'lifestyle,': 5021, 'stomached.': 5022, 'backdoor': 5023, 'commissioned?': 5024, 'usns': 5025, 'milk.': 5026, 'aft': 5027, 'boarding': 5028, 'only.': 5029, 'blow': 5030, 'jeffrey': 5031, 'dahmer': 5032, 'understand.': 5033, 'sea-men.': 5034, 'minimum??': 5035, 'milk.................': 5036, 'ferry...............': 5037, 'fairy': 5038, 'crewed': 5039, 'auxiliary': 5040, 'general.': 5041, 'f.a.g.': 5042, 'oils': 5043, 'hauls': 5044, 'effluence?': 5045, 'guess,': 5046, 'rumpranger': 5047, 'oiler': 5048, 'option.': 5049, 'watering': 5050, 'tsunami': 5051, 'wash': 5052, \"fran's\": 5053, 'machine': 5054, 'rev': 5055, 'cons---': 5056, 'quickly': 5057, 'irrelevant.': 5058, 'christ-like': 5059, 'tighter,': 5060, 'meanness': 5061, 'evangelizing': 5062, 'here;': 5063, 'tomorrow': 5064, 'us?': 5065, 'habit.': 5066, 'proclivity': 5067, 'dismisses': 5068, 'hand.': 5069, 'us-we': 5070, 'liberal/lamocrats,like': 5071, 'you.maybe': 5072, 'orlando.': 5073, 'embarrassing': 5074, '....and': 5075, 'gleefully': 5076, 'embraced': 5077, \"'normal'.\": 5078, 'lace': 5079, 'deck': 5080, 'flows': 5081, 'keyboards': 5082, '\"christians\"': 5083, 'buttsex': 5084, '1912?': 5085, 'stds': 5086, 'resistant': 5087, 'libidinous': 5088, 'chastity': 5089, 'bathrooms.': 5090, 'gomer.': 5091, 'hiv.': 5092, 'partner,': 5093, 'believe.': 5094, 'hahahahahahahahahahahahahahahaha': 5095, 'co-worker': 5096, 'gays.': 5097, 'hahahahahahahaha': 5098, 'heel': 5099, 'clicking': 5100, 'stories....': 5101, 'sharing': 5102, 'pity': 5103, 'ship.': 5104, 'iranians': 5105, 'patrol': 5106, 'capture': 5107, 'welp,': 5108, 'boys.': 5109, '\"we,\"': 5110, 'sing': 5111, 'eye': 5112, 'filmed': 5113, 'homoerotic': 5114, 'destroyers.': 5115, '\"conservative\"': 5116, 'dinosaurs.': 5117, 'beauty': 5118, 'rights,': 5119, 'candidates,': 5120, 'counts.': 5121, 'extremist': 5122, 'fringe': 5123, 'gfy': 5124, 'greece': 5125, 'bc....you': 5126, 'regressives': 5127, 'roman': 5128, 'empire?': 5129, 'over,': 5130, 'empire': 5131, 'fell.': 5132, 'wth': 5133, 'pedophiles?': 5134, 'count-': 5135, 'hetero': 5136, 'phobic.': 5137, 'imploded': 5138, 'further?': 5139, 'gay.': 5140, '\"really': 5141, 'gay\"': 5142, 'outspoken': 5143, 'fu_kin': 5144, 'pedo': 5145, 'tanker.the': 5146, 'usn': 5147, 'hill.': 5148, 'deplorable': 5149, 'u.c.m.j.': 5150, '\"don\\'t': 5151, 'tell,': 5152, 'ask\"': 5153, 'homosexuality': 5154, 'beastity': 5155, 'window.': 5156, 'goes.': 5157, 'cesspool': 5158, 'much.': 5159, 'chelsea': 5160, 'billy': 5161, 'running.': 5162, 'shadows': 5163, 'tinfoil': 5164, 'rays': 5165, 'f*ggots.': 5166, 'fanatical': 5167, 'conservative.': 5168, 'anti-gay': 5169, 'agenda?': 5170, 'william': 5171, 'jefferson': 5172, 'torpedo': 5173, 'trials.': 5174, 'islamists.': 5175, 'image.': 5176, 'relations': 5177, 'enlisted': 5178, 'unacceptable': 5179, 'secretary': 5180, 'ray': 5181, 'mabus;': 5182, 'traitor.': 5183, 'eyeseeit': 5184, 'correction;': 5185, 'woke': 5186, 'soho': 5187, 'doorway,': 5188, 'policeman': 5189, '\"you': 5190, 'tonight': 5191, 'walk': 5192, 'away.\"': 5193, 'underground': 5194, 'breeze': 5195, 'hair.': 5196, 'throwing': 5197, 'punches': 5198, 'preaching': 5199, 'chair.': 5200, ';something': 5201, 'you\"ll': 5202, 'enjoy;': 5203, 'g.f.y.': 5204, 'manhood': 5205, 'dignity.mine': 5206, 'tact,fudgepounder.': 5207, 'aww,': 5208, 'adorable': 5209, 'argument,': 5210, 'upping': 5211, 'ante': 5212, 'rude': 5213, 'insults.': 5214, 'long,fairy.': 5215, ',vietnam': 5216, 'combat': 5217, 'vet,mekong.honorable': 5218, 'discharge,purple': 5219, \"heart,etc.etc.what's\": 5220, 'america,pogeybait': 5221, \"wasn't.\": 5222, 'politician': 5223, 'votes.': 5224, 'navy,': 5225, 'homosexuals': 5226, 'distinction': 5227, 'openly': 5228, 'brag': 5229, 'exploits': 5230, 'institute': 5231, 'will.': 5232, 'interestingly,': 5233, 'site.': 5234, 'honorable.': 5235, 'presence': 5236, 'than\"': 5237, 'says.': 5238, 'unusual': 5239, 'wrong...': 5240, 'discharged,': 5241, 'objection': 5242, 'fueled': 5243, 'derisive': 5244, \"article's\": 5245, 'bottom.': 5246, 'vessel': 5247, 'oiler.': 5248, 'jokes': 5249, '$40': 5250, 'politicize': 5251, 'experiment': 5252, 'below': 5253, 'above)': 5254, 'kneel': 5255, 'behind...': 5256, 'icon': 5257, 'foley?': 5258, 'bobbling': 5259, 'asking.': 5260, 'expert': 5261, '(experience': 5262, 'counts).': 5263, 'disagree': 5264, 'understood': 5265, 'served,': 5266, 'alliances': 5267, 'obsession': 5268, 'sickness.': 5269, 'job.........babysitting': 5270, \"mom's\": 5271, 'pedophilia,': 5272, 'lashing': 5273, 'psychological': 5274, 'diagnosis': 5275, 'and/or': 5276, 'solving': 5277, 'puzzle': 5278, 'banana?': 5279, 'reference?': 5280, 'monkey....in': 5281, 'were,': 5282, 'attack.': 5283, 'thought..': 5284, 'dense': 5285, 'demonizing': 5286, 'pedophilia.': 5287, 'dangerous.': 5288, 'well,your': 5289, 'question,given': 5290, 'postings;right': 5291, 'happen?': 5292, 'rhetorical': 5293, 'sea.': 5294, 'disgusting.': 5295, '\"milk\\'s': 5296, 'career': 5297, 'officer,': 5298, 'discharge,\"': 5299, 'yup': 5300, 'after.': 5301, 'preferences,': 5302, 'performance': 5303, 'officer.': 5304, 'preferences': 5305, 'performance....': 5306, 'painted': 5307, 'hull....': 5308, 'harms': 5309, 'matter?': 5310, 'technically,': 5311, 'anymore': 5312, 'gotrumpforamerica': 5313, 'margaret': 5314, 'sanger': 5315, 'ss': 5316, 'sandusky': 5317, 'reverse?': 5318, 'pitcher,': 5319, 'catcher': 5320, 'mode': 5321, 'fear': 5322, 'enemies....': 5323, 'afraid': 5324, 'rear': 5325, 'ferry': 5326, 'boat...': 5327, 'wellsaid': 5328, 'pink,': 5329, 'a55hole': 5330, 'rudder': 5331, 'dix': 5332, 'unfrigginbelievable.': 5333, 'cruise': 5334, 'shores': 5335, 'iran.....a': 5336, 'threat': 5337, 'evinrude': 5338, 'engineer': 5339, 'condom': 5340, 'wrapped': 5341, 'wow...': 5342, 'loss': 5343, 'scared': 5344, 'become?': 5345, 'doubting': 5346, 'contribution': 5347, 'navel': 5348, 'reconnection.': 5349, \"gay's\": 5350, 'grandson': 5351, 'respectful': 5352, 'award': 5353, 'tool.': 5354, '1960-1967.': 5355, 'significant': 5356, 'personnel.': 5357, 'others?': 5358, 'criticizing': 5359, \"bj's\": 5360, '\"serving': 5361, 'honorably\"': 5362, 'agree,': 5363, 'admitted': 5364, '....other': 5365, 'honorably..read': 5366, 'queerbait..': 5367, 'dishonourably.': 5368, 'sources.': 5369, 'lie.': 5370, 'things.': 5371, 'provided': 5372, 'source.': 5373, 'britannica': 5374, 'harvey,': 5375, 'dishonourable': 5376, 'crying?': 5377, 'aw,': 5378, 'cry,': 5379, 'baby.': 5380, 'diaper.': 5381, 'shown': 5382, 'ilk.': 5383, 'melted': 5384, 'brain.': 5385, 'dance': 5386, 'chain.': 5387, 'dance,': 5388, 'smirk': 5389, 'shove': 5390, 'honorably,': 5391, 'buddy.': 5392, 'chickensht.': 5393, 'flightsuit': 5394, 'base.': 5395, 'smart': 5396, 'libby': 5397, 'flower.': 5398, 'sinks': 5399, 'ask,': 5400, 'board.': 5401, 'wishing': 5402, 'personnel?': 5403, 'treason?': 5404, 'qeerbarge': 5405, 'ship,': 5406, 'fairy?': 5407, 'overdue.': 5408, 'water-carrying': 5409, 'republicans.': 5410, 'lol..': 5411, 'honey.': 5412, 'starts,': 5413, 'nope,': 5414, 'heartbeats': 5415, 'presidency,': 5416, 'try,': 5417, 'employers.': 5418, '\"destroyed\".': 5419, 'serve?': 5420, '1990': 5421, '2012.': 5422, 'house,': 5423, 'u.s.s.': 5424, 'seaman': 5425, 'napolitano,': 5426, 'extra.': 5427, 'surprises': 5428, 'research.': 5429, '2000.': 5430, 'memorial': 5431, 'troops': 5432, 'confederacy,': 5433, 'belongs.': 5434, 'future,': 5435, 'liberal.': 5436, 'southerners': 5437, 'ticking': 5438, 'cussing': 5439, '13%': 5440, 'believe,': 5441, 'residence': 5442, 'weeks': 5443, 'daily.': 5444, 'street,': 5445, 'possessions': 5446, 'holidays,': 5447, 'anytime': 5448, 'flag(battle': 5449, 'flag)': 5450, 'attack,': 5451, 'north,': 5452, 'regulations': 5453, 'rebelling': 5454, 'easiest': 5455, 'confederacy...regardless': 5456, 'values': 5457, 'heritage,': 5458, 'suburbs': 5459, 'get.': 5460, 'article.': 5461, 'throughout..': 5462, 'similar.': 5463, 'souther': 5464, 'panthers': 5465, 'colors': 5466, 'bars.': 5467, 'stain': 5468, 'daily,': 5469, 'discussions': 5470, 'conversations': 5471, '(ferguson,': 5472, 'baltimore),': 5473, 'motion': 5474, 'pictures': 5475, '(12': 5476, 'selma),': 5477, 'month.': 5478, 'end,': 5479, 'flinging': 5480, 'onto': 5481, 'knock-kneed': 5482, 'concede': 5483, 'intimidating': 5484, 'deployed': 5485, 'opporiturity': 5486, 'thirty': 5487, 'forward,': 5488, 'governor': 5489, 'howard': 5490, '(d.,': 5491, 'vt.)': 5492, '2003': 5493, '“white': 5494, 'pickup': 5495, 'trucks': 5496, 'confederate-flag': 5497, 'decals': 5498, 'us.”': 5499, 'november,': 5500, 'declared': 5501, '\"missing': 5502, 'point\"': 5503, 'theme': 5504, 'governor,': 5505, '1987': 5506, '116,': 5507, 'banner.': 5508, 'lee': 5509, 'adopted': 5510, '1863': 5511, 'lee?': 5512, 'famous': 5513, 'something?': 5514, 'lee,': 5515, 'general,': 5516, 'out...which': 5517, 'bright': 5518, 'on...is': 5519, '\"robert\"': 5520, 'progressives': 5521, 'pc.': 5522, 'gfy,': 5523, 'letters': 5524, 'gruber?': 5525, 'correct.': 5526, '\"gruber\",': 5527, 'immature': 5528, 'southerners,': 5529, 'rednecks,': 5530, 'republicans,': 5531, 'miscellaneous': 5532, 'halfwits': 5533, 'particularly': 5534, 'encourage': 5535, 'encouraging': 5536, 'tremendous': 5537, 'service.': 5538, 'willingness': 5539, 'obsessive': 5540, 'enforces': 5541, 'sovereignty': 5542, 'unites': 5543, 'philadelphia': 5544, 'debates': 5545, '18': 5546, 'formed': 5547, 'enforce.': 5548, 'oldest': 5549, 'predates': 5550, 'tyranny': 5551, 'tyrannical': 5552, 'independence': 5553, 'slavery...it': 5554, 'states...(minus': 5555, 'admin.)': 5556, 'blight': 5557, 'past.': 5558, \"judge's\": 5559, 'piece,': 5560, '\"imagine': 5561, 'constitution\"': 5562, 'sovereign': 5563, 'yielded': 5564, 'patrolling': 5565, 'coasts': 5566, 'piracy,': 5567, 'minting': 5568, 'currency,': 5569, 'efficiently': 5570, 'separately.': 5571, 'lincoln': 5572, 'undoubtedly': 5573, 'role': 5574, 'grave': 5575, 'strip': 5576, 'powers…': 5577, 'year.': 5578, 'ideas': 5579, 'something.': 5580, 'spam.': 5581, 'emotions': 5582, 'operate': 5583, 'gruber': 5584, '\"gruber\"': 5585, 'refute,': 5586, 'infiltrate': 5587, 'hostile': 5588, 'vallerie': 5589, 'jarrett,': 5590, 'van': 5591, 'jones': 5592, 'departments': 5593, 'fantasy': 5594, 'reality....': 5595, 'correctly.': 5596, 'bragg': 5597, '(who': 5598, 'traitor)': 5599, 'sherman': 5600, 'reminder': 5601, 'confederates.': 5602, '4,': 5603, '1818,': 5604, 'changed': 5605, 'stars,': 5606, 'star': 5607, 'admitted,': 5608, 'reduced': 5609, 'colonies.': 5610, '10': 5611, 'million+': 5612, 'explorers': 5613, '15th': 5614, '1860': 5615, 'granted': 5616, '100+': 5617, '\"ended\",': 5618, 'dropping': 5619, 'continents': 5620, '0.3%': 5621, 'number....': 5622, 'atrocities': 5623, 'slightly': 5624, 'gadsen': 5625, \"(don't\": 5626, 'me)': 5627, 'replace': 5628, 'old,': 5629, 'offensive,': 5630, 'hug': 5631, 'slave.': 5632, 'cry': 5633, 'continent': 5634, 'strive': 5635, 'vikings': 5636, 'crossed': 5637, 'bridge': 5638, '25%': 5639, 'origin.': 5640, 'sir?': 5641, 'africa?': 5642, '125,000': 5643, '60,000': 5644, 'it...': 5645, 'genetics': 5646, 'proven': 5647, 'outdated.': 5648, 'nova': 5649, 'series': 5650, 'ones.': 5651, 'fill': 5652, 'genetics.': 5653, 'world,': 5654, 'inappropriate': 5655, 'deeds.': 5656, 'bask': 5657, 'deeds': 5658, 'always,': 5659, 'incredible': 5660, 'misdeeds': 5661, 'responsibility': 5662, 'misdeeds...': 5663, 'defender.': 5664, 'mentioning': 5665, '\"god\"': 5666, 'oxymoron.': 5667, 'aggression': 5668, 'propagandist': 5669, 'training': 5670, 'waty': 5671, 'help.....political': 5672, 'help.....i': 5673, 'clips': 5674, 'ferguson': 5675, \"baltimore..............can't\": 5676, '\"diversity': 5677, 'training\"': 5678, 'brow': 5679, 'previously': 5680, 'thoroughly': 5681, 'eternally': 5682, 'dissing': 5683, 'ends': 5684, 'begins.': 5685, 'caliphate': 5686, 'iran.': 5687, 'remnants': 5688, 'heritage': 5689, \"left's\": 5690, 'difference,': 5691, 'deliver': 5692, 'intelligent': 5693, 'response........': 5694, 'waiting......': 5695, 'indians': 5696, 'end?': 5697, 'carnage,': 5698, 'japenese': 5699, 'incarcerated,': 5700, 'germans.': 5701, 'almost,': 5702, 'marches': 5703, 'bataan': 5704, 'march': 5705, 'ww2.': 5706, 'miscarriages': 5707, 'marched': 5708, 'across': 5709, 'miles.': 5710, 'deliberately': 5711, 'infected': 5712, 'blankets': 5713, 'smallpox': 5714, 'men,': 5715, 'germ': 5716, 'deliberate': 5717, 'bombing': 5718, 'civilian': 5719, 'centers': 5720, 'japan': 5721, 'industrial': 5722, 'targets.': 5723, 'fiery': 5724, 'holocaust': 5725, 'hiroshima': 5726, 'nagasaki': 5727, 'atomic': 5728, 'weapons.': 5729, 'excess': 5730, 'bloodshed': 5731, 'stripes.': 5732, 'record,': 5733, 'saintly.': 5734, 'india': 5735, 'foxxy': 5736, 'arms': 5737, 'beheading': 5738, 'them.off': 5739, 'buildings': 5740, 'expressing': 5741, 'te\"': 5742, 'consistent.': 5743, 'remember,': 5744, 'who,': 5745, \"o'reilly\": 5746, 'interview,': 5747, 'afdi': 5748, 'advertisements': 5749, 'caiiing': 5750, 'kiiiing': 5751, 'some.': 5752, 'necessity': 5753, 'forefathers': 5754, 'believed': 5755, 'rights...': 5756, 'pursue': 5757, 'freedoms.': 5758, 'entity': 5759, 'retail': 5760, 'outlets': 5761, 'sales': 5762, 'domestic': 5763, 'amendment.': 5764, '\"ordered\"': 5765, 'retailers': 5766, 'fiags?': 5767, 'nutter.': 5768, 'muzzy': 5769, 'erasure': 5770, 'funneling': 5771, 'died.': 5772, 'mistake,': 5773, 'agenda': 5774, 'socialize': 5775, 'intentionally': 5776, 'exactly.': 5777, 'lies?': 5778, 'ignorance?': 5779, 'million?': 5780, 'million.': 5781, '30-40': 5782, 'ussr': 5783, 'alone.': 5784, 'redskins': 5785, 'happy': 5786, 'rap.': 5787, 'judgements.': 5788, 'weak,': 5789, '(hugh': 5790, 'lorry': 5791, 'terrible.)': 5792, 'shutting': 5793, 'bad.': 5794, 'amazes': 5795, 'constituiton': 5796, 'continued': 5797, 'enslavement': 5798, 'apart': 5799, 'strongly': 5800, 'urge': 5801, 'south.': 5802, 'rag': 5803, 'museum.': 5804, 'shocking': 5805, 'displaying': 5806, 'attrocities': 5807, 'through.': 5808, 'business?': 5809, '\"whole': 5810, 'purpose\"': 5811, 'vast': 5812, 'ambivalent': 5813, 'drove': 5814, 'subservient': 5815, 'contractual': 5816, 'york': 5817, 'war\"': 5818, '1812,': 5819, \"ny's\": 5820, 'drafted': 5821, 'articles': 5822, 'succession.': 5823, 'brits': 5824, 'd.c.,': 5825, 'ny': 5826, 'riddance\".': 5827, 'contained': 5828, 'ongoing': 5829, 'primary': 5830, '\"states': 5831, 'rights\",': 5832, 'continues': 5833, 'go.': 5834, 'treason,freedom': 5835, 'right.....god': 5836, ',men': 5837, 'document': 5838, 'spite': 5839, 'crown': 5840, 'england.': 5841, 'shall.': 5842, 'obedient': 5843, 'does,': 5844, 'goverment': 5845, 'treason.': 5846, 'nuke.': 5847, 'belongs': 5848, 'prision.': 5849, 'criminal.': 5850, '\"inalienable': 5851, 'rights\"?': 5852, 'sober,': 5853, 'means.': 5854, 'mine': 5855, 'incomprehensible,': 5856, 'inaccurate': 5857, 'wacky.': 5858, 'minute': 5859, 'silence': 5860, 'with...': 5861, 'thoughts': 5862, 'action?': 5863, 'fan': 5864, 'issue.': 5865, 'refresher': 5866, 'myth.': 5867, 'confer': 5868, 'absolute': 5869, 'branch.': 5870, 'myth': 5871, 'civics.': 5872, '\"congress': 5873, 'shall': 5874, 'law...': 5875, 'abridging': 5876, 'speech...\"': 5877, 'implied.': 5878, \"thousand's\": 5879, 'speak.': 5880, 'yourselves': 5881, 'hundred': 5882, 'today.': 5883, 'pray': 5884, 'sisters': 5885, 'genocide.': 5886, 'huh': 5887, 'joining': 5888, 'whos': 5889, 'sick.': 5890, 'capitol': 5891, 'duck...we': 5892, 'traveling': 5893, 'direction': 5894, 'issues?': 5895, 'preserves': 5896, 'hatred.': 5897, 'gop/fox': 5898, 'commended': 5899, 'massaging': 5900, 'narratives': 5901, 'suit': 5902, 'angle.': 5903, 'falling': 5904, '\"intellectual': 5905, 'lightweight\".': 5906, 'speech..whether': 5907, 'object': 5908, 'amendment?': 5909, 'communists': 5910, 'angle': 5911, 'flag,': 5912, 'napolitano.': 5913, 'unbiased.': 5914, 'southerner': 5915, 'grandparents': 5916, 'reminded': 5917, 'this??': 5918, 'ridiculous?': 5919, 'thoughts?': 5920, 'figures.': 5921, 'slave?': 5922, '(not': 5923, 'state)': 5924, 'state?': 5925, \"country's\": 5926, 'secede.': 5927, 'dearly': 5928, 'smudge': 5929, 'history,': 5930, 'types': 5931, 'actions': 5932, 'perpetuate': 5933, 'keeps': 5934, 'apologists.': 5935, 'agree.': 5936, 'symbolizes': 5937, 'perpetuates': 5938, 'internationally': 5939, 'patriotism...': 5940, 'demonstrate': 5941, 'patriotism': 5942, 'occurred': 5943, 'raised.': 5944, 'melodramatic,': 5945, '\"smudge': 5946, 'history.\"': 5947, 'enslaving': 5948, '\"smudge.\"': 5949, 'pride': 5950, 'touched': 5951, '(well,': 5952, 'movement)': 5953, 'coin.': 5954, 'attempting': 5955, 'portray': 5956, 'clue,': 5957, 'nabbed': 5958, 'traders(not': 5959, 'america),': 5960, 'america,': 5961, 'scag': 5962, 'ok.': 5963, 'way;': 5964, 'okay,': 5965, 'ownership': 5966, 'owning': 5967, 'astounding.': 5968, 'kidnapped?': 5969, 'lynched': 5970, 'hamburger': 5971, 'person?': 5972, 'offensive?': 5973, 'with,': 5974, 'article?': 5975, '\"should\"': 5976, 'unlawfully': 5977, 'restricting': 5978, 'ban.': 5979, 'typical': 5980, 'survival': 5981, 'fittest,': 5982, 'weaker.': 5983, 'wolves': 5984, 'gate.': 5985, 'ourselves.': 5986, '123': 5987, 'diversify': 5988, 'race-based': 5989, 'admissions,': 5990, 'endowment': 5991, 'haverford': 5992, 'announced': 5993, 'need-blind': 5994, 'budgetary': 5995, 'concerns.': 5996, 'saddle': 5997, 'lives.': 5998, 'strategy': 5999, 'affordable.': 6000, 'unlikely': 6001, 'institutions': 6002, 'collage': 6003, 'disadvantaged.': 6004, 'exact': 6005, 'moderators': 6006, 'posts,': 6007, 'censored': 6008, 'princeton': 6009, 'website': 6010, 'veteran-': 6011, 'affirmitive': 6012, 'returns': 6013, 'asks': 6014, 'oppounity': 6015, 'operation,': 6016, 'colour': 6017, 'suppos': 6018, 'college\",': 6019, 'college\".': 6020, 'dude...asians': 6021, 'particular': 6022, 'break.': 6023, '1975': 6024, 'bellingham': 6025, 'went,': 6026, 'applied,': 6027, 'openings,': 6028, 'experience,': 6029, 'have?': 6030, 'background': 6031, 'caucasian': 6032, '(code': 6033, 'minority)': 6034, 'status.': 6035, '\"unemployment': 6036, 'office\",': 6037, 'time,': 6038, '\"people': 6039, 'industries': 6040, 'fulfill': 6041, '\"quota\"': 6042, 'listed.': 6043, '\"person': 6044, 'check.': 6045, 'wealth': 6046, '\"adjusted\"': 6047, 'match': 6048, 'outcome': 6049, 'socialism': 6050, 'establishment': 6051, '\"equal\"': 6052, 'challenge': 6053, 'there...': 6054, \"70's\": 6055, 'factories': 6056, 'stations': 6057, 'digging': 6058, 'ditches': 6059, 'landscaping': 6060, 'stemmed': 6061, 'reserved': 6062, 'minorities,': 6063, 'grants,': 6064, 'loans,': 6065, 'visible': 6066, 'peers': 6067, 'rides(even': 6068, 'i,': 6069, 'workforce': 6070, 'supervision': 6071, 'edicts,': 6072, 'inclusive': 6073, 'traditional': 6074, 'roles...': 6075, 'legislate': 6076, 'demographics': 6077, 'colors(no': 6078, 'pun': 6079, 'intended)': 6080, '(at': 6081, 'dominated': 6082, 'respective': 6083, 'construction': 6084, 'industry...': 6085, '\"last': 6086, 'awarded': 6087, '$1': 6088, 'equity': 6089, 'excellence': 6090, 'vassar': 6091, 'admitting,': 6092, 'students\",': 6093, '\"supporting\"': 6094, 'tutoring,': 6095, 'mentoring': 6096, 'trumps': 6097, 'code.': 6098, 'counselor': 6099, 'resume': 6100, 'perfection': 6101, 'compare': 6102, 'strikes': 6103, 'you...': 6104, 'female,': 6105, 'code': 6106, 'graduated': 6107, 'grades,': 6108, 'scores,': 6109, 'recommendations': 6110, 'resume.': 6111, 'honey': 6112, 'working.': 6113, 'affirmatively': 6114, 'doctors': 6115, 'professionals.': 6116, 'professionals': 6117, 'berate': 6118, 'multiculturalism': 6119, 'integration': 6120, 'dna.': 6121, 'loved': 6122, 'darwin,': 6123, 'artificially': 6124, 'succeed.': 6125, 'ensure': 6126, 'shenanigans.': 6127, 'energy': 6128, 'bald,': 6129, 'therefore': 6130, 'condition,': 6131, 'ability.': 6132, 'chance': 6133, 'genetics,': 6134, '100m': 6135, 'track': 6136, 'winning,': 6137, 'equally': 6138, 'recommend': 6139, 'preference,': 6140, 'preference': 6141, 'sports': 6142, 'crew,': 6143, 'polo,': 6144, 'awards': 6145, '\"need\".': 6146, '\"3': 6147, 'america’s': 6148, 'lowest': 6149, 'incomes,': 6150, '72': 6151, 'highest': 6152, 'incomes.\"': 6153, 'wealth,': 6154, 'to...............short': 6155, 'intelligence': 6156, 'violence,': 6157, 'washington?': 6158, 'hmmmm?': 6159, \"hillry's\": 6160, 'freebies.': 6161, 'union': 6162, 'takeo': 6163, 'hmmm?': 6164, 'sacrificing': 6165, 'alter': 6166, 'perfect': 6167, 'stupidity.': 6168, '\"if': 6169, 'opportunity\"': 6170, 'written?': 6171, 'declaration.': 6172, 'declaration': 6173, 'guarantees': 6174, '\"life,': 6175, 'liberty': 6176, 'pursuit': 6177, 'happiness\"': 6178, 'equality.': 6179, 'opportunity.': 6180, 'democracy': 6181, 'scotus.': 6182, 'discrimination\",': 6183, 'discrimination\"': 6184, 'origin': 6185, 'practiced': 6186, 'caucasians': 6187, 'deadbeats': 6188, 'cadillac': 6189, 'dealership': 6190, 'cadillac?': 6191, 'qualification': 6192, 'woman,': 6193, 'discriminated': 6194, '\"privilege\"': 6195, 'hearing': 6196, 'candidate': 6197, 'chosen.': 6198, 'punishing': 6199, 'progressive.': 6200, 'developed': 6201, 'exist,': 6202, \"they've\": 6203, 'evolve': 6204, \"well.i'm\": 6205, 'discussed': 6206, 'article,': 6207, 'sensible.': 6208, 'contrast': 6209, 'tending': 6210, 'candidate,': 6211, 'equation': 6212, 'only;': 6213, 'packed': 6214, 'asians,': 6215, 'europeans,': 6216, 'merit': 6217, 'perform.': 6218, '\"earned\"': 6219, 'path.': 6220, '\"minority': 6221, 'privilege\"?': 6222, 'supemes': 6223, 'decide': 6224, 'fine.....as': 6225, 'reversed': 6226, 'anti-white': 6227, 'preparing': 6228, '\"separate': 6229, 'equal\"': 6230, 'thrown': 6231, 'court.': 6232, 'fine?': 6233, 'enrollment?': 6234, '6th': 6235, 'level,': 6236, 'college...?': 6237, 'flippers': 6238, 'broom': 6239, 'pushers.': 6240, 'unskilled.': 6241, 'plumbers': 6242, 'mechanics': 6243, 'everyone.': 6244, 'profiting': 6245, 'profit': 6246, 'trading.': 6247, 'data': 6248, '39th': 6249, 'graduations': 6250, 'misery': 6251, 'truthful.': 6252, 'grades?': 6253, \"'straight\": 6254, \"a'\": 6255, 'handle': 6256, '12': 6257, 'hrs': 6258, 'arts': 6259, 'courses?': 6260, 'construct': 6261, 'differ': 6262, 'reasons.': 6263, \"'victims'\": 6264, 'muslims?': 6265, '\"income': 6266, 'diversity\"': 6267, 'grads': 6268, 'income.': 6269, 'intend': 6270, 'unproductive': 6271, 'irresponsible': 6272, 'parents,': 6273, 'penalize': 6274, 'inevitable': 6275, 'equal-outcome': 6276, 'socialism,': 6277, 'meritocracy.': 6278, 'subsidizes': 6279, 'guaranteed': 6280, 'creates': 6281, 'if/when': 6282, 'low)': 6283, 'sat': 6284, 'disappear,': 6285, 'thus,': 6286, 'aclu,': 6287, 'file': 6288, 'lawsuits': 6289, 'represented.': 6290, 'increase': 6291, 'non-whites.': 6292, 'whites.': 6293, 'knuckleheads.': 6294, 'systems': 6295, 'biased': 6296, 'under-represented': 6297, 'affect': 6298, 'evaluated': 6299, 'subjectively.': 6300, 'disservice': 6301, 'freight': 6302, 'wrongly': 6303, 'grades.': 6304, 'interviewed': 6305, 'questions....\"higher': 6306, 'education\"': 6307, 'cruelty': 6308, 'lowers': 6309, 'achieving': 6310, '200,00': 6311, 'week,': 6312, 'overpaid.': 6313, 'fantastic': 6314, 'lexus': 6315, 'nx': 6316, '200t': 6317, 'suv': 6318, 'home.see': 6319, 'here=====jobsbay24.comllllllll': 6320, 'offspring': 6321, 'headed': 6322, 'harvard,': 6323, 'po': 6324, 'instead.': 6325, 'wayne': 6326, 'tucked': 6327, '\"diversity.\"': 6328, 'smh.': 6329, 'losing': 6330, 'incoming': 6331, '1+1': 6332, 'test.': 6333, 'intelligence.': 6334, 'exactly...the': 6335, 'interchangeable.': 6336, 'adopt': 6337, \"bernie's\": 6338, 'jurnior': 6339, 'hs.': 6340, 'ilk': 6341, 'gi': 6342, 'graduate': 6343, 'sam': 6344, 'ride.': 6345, 'brightess.': 6346, 'cheating....and': 6347, 'vomit': 6348, 'dummy': 6349, 'register': 6350, 'mixed': 6351, 'identical': 6352, 'psychographics.': 6353, '\"thought': 6354, 'police\".': 6355, 'chance.': 6356, 'stage.': 6357, 'japanese': 6358, 'academic': 6359, 'beneficiary': 6360, 'admission.': 6361, 'chinese': 6362, 'waves.': 6363, 'gone.': 6364, '\"po\"': 6365, 'wrongs': 6366, 'hum.': 6367, 'cleansing': 6368, '\"projects\"': 6369, 'deepest': 6370, 'pockets': 6371, 'non-working': 6372, 'ged.': 6373, 'computes': 6374, '3%': 6375, 'rise': 6376, 'achieve,': 6377, 'origins.': 6378, 'right???': 6379, 'poorer': 6380, 'usa,': 6381, 'racist.....only': 6382, 'ahead.....affirmative': 6383, 'my,': 6384, \"lbj's\": 6385, '\"war': 6386, 'poverty\"': 6387, 'attending': 6388, 'treatment..': 6389, 'asian.': 6390, 'upper': 6391, '1%': 6392, 'fewer': 6393, 'minorities?': 6394, 'standard?': 6395, 'contends': 6396, 'inferior.': 6397, 'demoted': 6398, 'read,': 6399, 'cap': 6400, 'admissions.': 6401, 'qualifications,': 6402, 'ignored.': 6403, 'population.': 6404, 'asians.': 6405, 'entirely': 6406, 'arms.': 6407, 'tuition': 6408, 'non-nationals.': 6409, 'universities,': 6410, 'buck.': 6411, 'pious': 6412, 'hypocrites.': 6413, 'price.': 6414, 'student,': 6415, 'scholarship': 6416, 'attend': 6417, '\"affirmative': 6418, 'posting': 6419, '\"feelings\"': 6420, 'non-caucasian,': 6421, 'non-asian': 6422, 'apply.': 6423, 'coyote': 6424, 'harvard...': 6425, \"'buy'\": 6426, 'power.': 6427, \"'victims',\": 6428, 'tool': 6429, '\"have': 6430, 'felony\"': 6431, 'rental': 6432, 'applications': 6433, '60%': 6434, 'sadam': 6435, '9/11.': 6436, 'sierra415': 6437, 'collecting': 6438, 'the\"immigrants\"': 6439, 'never,': 6440, 'country,and': 6441, 'american?': 6442, 'wages.': 6443, 'dah': 6444, 'spousal': 6445, 'earnings': 6446, 'medicare': 6447, 'surplus': 6448, 'contributed': 6449, 'socialism.': 6450, 'assinine': 6451, 'statements.': 6452, 'sec,': 6453, 'defense.': 6454, 'goods,': 6455, 'rent': 6456, 'debt.': 6457, 'debt=sis': 6458, 'sec': 6459, 'blah,': 6460, 'uninformed': 6461, 'taker.': 6462, 'paycheck': 6463, 'life.': 6464, 'till': 6465, 'soc.': 6466, 'hurts': 6467, 'out...intellectuals': 6468, 'in....kcarab': 6469, 'amado': 6470, 'bravo': 6471, 'able-bodies': 6472, 'potus': 6473, 'ride,': 6474, 'return.': 6475, 'state,': 6476, 'medicare.': 6477, 's.s.': 6478, '37': 6479, 'with15%': 6480, 'interest,': 6481, 'compounded': 6482, 'quarterly': 6483, 'collecting.': 6484, 'insurance': 6485, '15%?': 6486, 'laughs': 6487, 'ironic': 6488, 'banning': 6489, 'candy': 6490, 'snacks': 6491, 'punishment': 6492, 'burden': 6493, 'soda,': 6494, 'snacks.': 6495, '\"working\"': 6496, 'dole.': 6497, 'unsustainable.': 6498, 'leadership': 6499, 'homeowners': 6500, 'largely': 6501, 'administration.\"': 6502, 'societies.': 6503, 'dependent.': 6504, 'decisions-': 6505, 'welfare.': 6506, 'cake,': 6507, 'month-': 6508, \"his/her/it's\": 6509, '0': 6510, 'seen.': 6511, 'releases': 6512, 'eat,': 6513, 'military,': 6514, 'barracks,': 6515, 'met': 6516, 'requirement?': 6517, 'insufficient,': 6518, 'subsidy': 6519, 'happy.': 6520, 'confidence': 6521, 'employees.': 6522, 'walmart': 6523, 'employees': 6524, 'medicaid': 6525, 'walton': 6526, 'learned': 6527, 'wage.': 6528, 'workee': 6529, 'foodie.': 6530, \"ain't\": 6531, 'maine': 6532, 'followed': 6533, '2014.': 6534, 'percent.': 6535, 'read?..': 6536, 'not...': 6537, 'disaster.': 6538, 'illinois,': 6539, 'york,': 6540, 'cali': 6541, 'social/govt.': 6542, 'programs?': 6543, 'chuckle.': 6544, 'california': 6545, 'mississippi.': 6546, 'foodstamps...': 6547, 'coupons,': 6548, 'ebt.': 6549, 'foodstamps': 6550, '(as': 6551, 'person).': 6552, 'taxpayer': 6553, 'dime.': 6554, 'sustenance': 6555, 'expenses': 6556, 'earn': 6557, 'keep.': 6558, 'freebies': 6559, 'flowing': 6560, 'anybody?': 6561, 'gaping': 6562, 'wounds': 6563, 'dept...': 6564, 'end...': 6565, 'stinking': 6566, 'canopy...': 6567, 'wins...............': 6568, 'off.': 6569, 'ssi,': 6570, 'tanf,': 6571, 'friend': 6572, 'services,': 6573, 'immediate': 6574, '$2000.00,': 6575, 'subsidies': 6576, 'cloward-piven': 6577, 'strategy,': 6578, 'should.': 6579, 'refugees,': 6580, 'cubans': 6581, 'coward': 6582, 'priven': 6583, 'burglar': 6584, 'restitution': 6585, 'burglarized': 6586, 'prison\"': 6587, 'wont': 6588, 'luck,': 6589, 'you\"re': 6590, 'aid,': 6591, 'atrocity': 6592, 'handout?': 6593, 'to?': 6594, 'alabama': 6595, 'booted': 6596, '32,000': 6597, 'because....gee....apparently': 6598, 'volunteering': 6599, 'burdensome.': 6600, 'altogether': 6601, 'form.in': 6602, 'daycare': 6603, ',get': 6604, 'telepromter': 6605, 'ifif': 6606, 'fififififif': 6607, 'phony': 6608, 'charlatans': 6609, 'ssi': 6610, '\"diseases/disorders.\"': 6611, 'ssi.': 6612, 'no.....too': 6613, 'mothers': 6614, 'daddies,': 6615, 'milking': 6616, 'worth.': 6617, 'queens': 6618, 'patients.': 6619, 'kid,': 6620, 'experience.': 6621, 'average': 6622, 'attends': 6623, 'desire': 6624, 'kits': 6625, 'visits,': 6626, 'tubos,': 6627, 'received.': 6628, 'yes.': 6629, 'dummie.': 6630, 'govt.,': 6631, 'typically': 6632, 'slants': 6633, 'favor,': 6634, 'fraud?': 6635, 'huh,': 6636, 'from?': 6637, 'toy': 6638, 'purchases?': 6639, 'widows': 6640, 'husbands.': 6641, 'indiscriminately.': 6642, 'ways': 6643, 'food-': 6644, \"payer's\": 6645, 'expense.': 6646, 'yeh': 6647, 'prob': 6648, 'cleaning': 6649, 'streets,': 6650, 'graffiti,': 6651, 'improving': 6652, 'landscaping.': 6653, 'crumbling': 6654, 'roads?': 6655, '(those': 6656, 'capable)': 6657, 'agriculture': 6658, 'products': 6659, 'presume': 6660, 'predominantly': 6661, 'along.': 6662, 'mabee': 6663, 'garbage': 6664, 'cans': 6665, '.like': 6666, 'two......make': 6667, 'wedlock': 6668, 'babies....get': 6669, 'custody': 6670, 'december.': 6671, '$32,000.': 6672, 'pennsylvania': 6673, 'declined': 6674, 'december': 6675, 'residential': 6676, 'electrical': 6677, 'bills': 6678, 'defaulted.': 6679, 'saddened': 6680, 'testimonial.': 6681, 'narcissist': 6682, 'help...': 6683, 'trabjo': 6684, 'cervesa': 6685, 'irs': 6686, 'consumption': 6687, 'freloaders': 6688, '49%': 6689, 'same.': 6690, '2020': 6691, 'avoid.......sales': 6692, 'overide': 6693, 'long....when': 6694, 'riots.': 6695, 'accordingly...': 6696, '(99%': 6697, 'welfare)': 6698, 'manchurian': 6699, 'canidate': 6700, '-cash': 6701, 'flow': 6702, 'detonates': 6703, 'dirty': 6704, 'pledge': 6705, 'allah.': 6706, 'incentive': 6707, 'like,': 6708, 'you\".': 6709, \"'em\": 6710, 'farms': 6711, 'lazy': 6712, 'moochers': 6713, 'exceed': 6714, 'facility': 6715, ',shelter': 6716, 'barracks.the': 6717, 'residents': 6718, ',laundry': 6719, ',child': 6720, 'cleaning.': 6721, 'courses': 6722, 'skill': 6723, 'trade..': 6724, 'meantime': 6725, 'clintons.......................': 6726, 'last.': 6727, '\"single': 6728, 'mother\"': 6729, 'pressures': 6730, 'start,': 6731, 'forgotten.': 6732, \"anyone's\": 6733, 'grocery': 6734, 'trim': 6735, 'haircuts': 6736, 'nike': 6737, 'uggs': 6738, 'cart': 6739, 'gourmet': 6740, 'foods,': 6741, 'talenti': 6742, 'pop,': 6743, 'steak': 6744, 'cookies': 6745, 'cheese': 6746, 'milk)': 6747, 'card)': 6748, 'dime': 6749, 'taxpayer.': 6750, '1965.': 6751, 'looked': 6752, '1971.': 6753, 'limits': 6754, 'junk': 6755, 'users': 6756, 'bodied': 6757, 'spoiled': 6758, 'cards.': 6759, 'fruit': 6760, 'beans': 6761, 'nurse': 6762, 'oregon.': 6763, 'nurse,': 6764, 'expensively': 6765, 'dressed': 6766, 'buggy': 6767, 'steaks,': 6768, 'pork': 6769, 'chops,': 6770, 'roasts,': 6771, 'premium': 6772, '\"food': 6773, 'stamps.\"': 6774, 'teacher': 6775, 'bank.': 6776, 'beef': 6777, 'casseroles': 6778, '\"ice': 6779, 'milk\"': 6780, '(remember': 6781, 'that?)': 6782, \"two-year-old's\": 6783, 'birthday': 6784, 'witness': 6785, 'claims': 6786, 'counties': 6787, 'partner': 6788, 'order?': 6789, 'unemployed': 6790, 'for,': 6791, 'interview': 6792, 'dozen': 6793, 'bachelors': 6794, 'degree': 6795, 'approach': 6796, '\"temp\"': 6797, 'agency.': 6798, '\"temps\"': 6799, 'offered': 6800, 'agencies.': 6801, 'paths,': 6802, 'fellow': 6803, 'workers,': 6804, 'employment.': 6805, 'recipients.': 6806, 'largest': 6807, 'block': 6808, 'receivers': 6809, 'walmart.': 6810, 'absolutely.': 6811, 'food,': 6812, 'housing,': 6813, 'electricity,': 6814, 'phones,': 6815, 'else,': 6816, 'litter': 6817, 'highways': 6818, \"'gave\": 6819, \"back'\": 6820, 'capable,': 6821, 'engaged': 6822, 'life,': 6823, 'needed,': 6824, 'appreciate': 6825, \"'welfare\": 6826, \"life'\": 6827, 'deforms': 6828, 'spirit,': 6829, 'deformed': 6830, 'acceptable.': 6831, 'essentials': 6832, 'power,': 6833, 'transport,': 6834, 'etc': 6835, 'expensive,': 6836, 'knockbacks': 6837, 'demoralising': 6838, 'eventual': 6839, 'inertia': 6840, 'debilitating,': 6841, 'sink': 6842, 'despondency.': 6843, 'eligable': 6844, 'matched': 6845, 'align': 6846, 'emergency': 6847, 'relief': 6848, 'outlet': 6849, 'liked),': 6850, 'work-for': 6851, 'the-state': 6852, 'end-point,': 6853, 'heebie': 6854, 'jeebies.': 6855, 'be.': 6856, 'temporary,': 6857, 'empowering.': 6858, 'depressing': 6859, 'unemployed.': 6860, 'economy,': 6861, 'wonders': 6862, 'esteem': 6863, 'loaders': 6864, 'table': 6865, 'handouts': 6866, 'turning': 6867, '/584efea0-7ff6-11e2-bb02-000f20980440': 6868, '$800+': 6869, 'cigarettes.': 6870, 'inspections.': 6871, 'volunteer.': 6872, 'overwhelming.': 6873, 'feet,': 6874, 'thousand.': 6875, 'nailed': 6876, 'cross,': 6877, 'better.': 6878, 'yea.': 6879, 'um...': 6880, 'economic': 6881, 'discussion': 6882, 'discussion.': 6883, 'novelist,': 6884, 'gladly': 6885, 'holt': 6886, 'thessalonians': 6887, 'gift,other': 6888, 'them...and': 6889, 'obese,this': 6890, 'slap': 6891, 'payer.': 6892, 'gee': 6893, 'mr': 6894, 'obvious...i': 6895, \"connection...you're\": 6896, 'lifesaver': 6897, 'booze': 6898, 'cigarettes': 6899, 'lottery': 6900, 'tickets': 6901, 'items': 6902, 'scammers': 6903, 'ca': 6904, 'restaurants.': 6905, 'fambly': 6906, 'cents': 6907, 'dollar.': 6908, \"24's\": 6909, 'e.b.t': 6910, 'casinos': 6911, 'good.': 6912, 'leeches': 6913, 'totally.': 6914, 'afford,': 6915, 'help,': 6916, 'survive,': 6917, 'choices': 6918, 'born.': 6919, 'support??': 6920, 'work??': 6921, 'caregiver': 6922, 'stunted': 6923, '\"reliable\"': 6924, 'hardest??': 6925, 'exceptions': 6926, 'plainly': 6927, 'exempt.': 6928, 'fat': 6929, 'disability,especially': 6930, 'exist,i': 6931, 'bullets': 6932, 'picked': 6933, 'da*n': 6934, 'cotton.': 6935, '$1/100': 6936, 'lb': 6937, 'sack': 6938, 'un': 6939, 'employed/under': 6940, '\"illegals\"?': 6941, 'poor->': 6942, 'overall': 6943, 'requiring': 6944, 'monthly': 6945, 'retain': 6946, 'limiting': 6947, 'purchased.': 6948, 'literally': 6949, 'payers': 6950, '1/10': 6951, 'healthy': 6952, 'options.': 6953, 'habits': 6954, 'inter-generational': 6955, 'adverse': 6956, 'healthy.': 6957, 'wow': 6958, 'misinformed': 6959, 'misconceived.': 6960, 'eat.': 6961, 'poor.': 6962, 'back...': 6963, 'so....': 6964, 'leaches........': 6965, 'prominent': 6966, 'alan,': 6967, 'sending': 6968, 'reporting': 6969, 'bat': 6970, 'this=': 6971, 'employers': 6972, 'work,on': 6973, '=uh': 6974, '96%': 6975, 'work=welafareheathcare=': 6976, 'foodcare=housingcare=': 6977, '/hate': 6978, 'masquerade': 6979, 'affiliations': 6980, 'questionable': 6981, 'best.': 6982, 'donors': 6983, 'suspect.': 6984, 'afro-americans': 6985, 'field': 6986, 'knowledge.': 6987, 'progress.': 6988, 'able.': 6989, 'paralysed': 6990, 'deranged.': 6991, 'fblm.': 6992, 'noticeably': 6993, 'travesty': 6994, 'integrated': 6995, 'judicial': 6996, 'nation.': 6997, 'hand....': 6998, 'still,': 6999, 'lightly.': 7000, 'however': 7001, '(from': 7002, 'jordan': 7003, 'river': 7004, 'mediterranean': 7005, 'sea)': 7006, 'bandits,': 7007, 'villain': 7008, 'hooligans': 7009, 'blowing': 7010, 'murderers,': 7011, '\"racism': 7012, 'israel\".': 7013, 'slaughtering': 7014, 'jealousy.': 7015, 'station,': 7016, 'muslims..': 7017, 'less...': 7018, 'raised,': 7019, 'proved': 7020, 'effective': 7021, 'vigorous': 7022, 'ways.': 7023, 'autonomously,': 7024, 'identification': 7025, 'anti-semitic': 7026, 'anti-white,': 7027, 'anti-police,': 7028, 'anti-truth,': 7029, 'anti-civilized,': 7030, 'anti-peace,': 7031, 'anti-common': 7032, 'tolerate': 7033, 'draw': 7034, 'jews?': 7035, 'treatment.': 7036, 'soros,': 7037, 'original,': 7038, 'ancient,': 7039, 'eternal,': 7040, 'undivided': 7041, 'blessed': 7042, 'jerusalem.': 7043, 'debate;': 7044, 'descendants': 7045, 'jericho': 7046, \"'historic\": 7047, \"claim'\": 7048, 'land.': 7049, 'bible;': 7050, 'hebrews': 7051, 'slaughtered': 7052, 'wholesale': 7053, 'moot': 7054, 'sits': 7055, '\"as': 7056, 'urged': 7057, 'macedonia,': 7058, 'ephesus': 7059, 'command': 7060, 'doctrines': 7061, 'devote': 7062, 'myths': 7063, 'endless': 7064, 'genealogies.': 7065, 'promote': 7066, 'speculations': 7067, 'advancing': 7068, 'work--which': 7069, 'faith.\"': 7070, '\"it': 7071, 'failed.': 7072, 'descended': 7073, 'israel.\"': 7074, '\"for': 7075, 'israel;': 7076, 'seed': 7077, 'abraham': 7078, 'children…': 7079, 'seed.\"': 7080, 'alan': 7081, 'played': 7082, 'joke........sometimes': 7083, 'stereotype': 7084, 'reason.': 7085, 'invalidated': 7086, 'sentence,': 7087, '\"which': 7088, 'raising': 7089, 'abuses\"': 7090, '\"so': 7091, 'good\"': 7092, 'kidding': 7093, 'conflict.': 7094, 'blocking': 7095, 'rioting': 7096, 'good?': 7097, 'what,': 7098, 'support,': 7099, 'reprinted': 7100, 'boston': 7101, 'globe': 7102, 'hey,': 7103, 'phone': 7104, 'videos': 7105, 'phones': 7106, 'cams': 7107, 'unfairly': 7108, 'reprinted?': 7109, 'clue': 7110, \"'group'\": 7111, 'controls': 7112, 'erred': 7113, 'dedicated': 7114, 'abuses.': 7115, 'goal': 7116, 'whites,': 7117, 'cops,': 7118, 'abused': 7119, 'eventually,': 7120, 'hating': 7121, 'blm?': 7122, 'abuse': 7123, '\"encourages\"': 7124, 'behave': 7125, 'badly': 7126, 'law-abiding': 7127, 'weapon': 7128, 'maniacs': 7129, 'instructions': 7130, 'police,': 7131, 'citizens,': 7132, 'property,': 7133, 'enforcement;': 7134, 'proven.': 7135, 'person\"': 7136, '95%': 7137, 'fear,': 7138, 'riot,': 7139, 'murder,': 7140, 'repertoire': 7141, \"'no\": 7142, \"fly'\": 7143, 'list?': 7144, 'subsidies,': 7145, 'scholarships,': 7146, 'professional': 7147, 'licenses,': 7148, 'driving': 7149, 'licenses': 7150, 'civil/military': 7151, 'occupations': 7152, \"member's\": 7153, 'hands?': 7154, 'sarcastic.': 7155, 'amen.': 7156, 'olives': 7157, 'anti-semites.': 7158, 'gee,': 7159, 'guessed': 7160, 'israel?': 7161, 'logical.': 7162, 'pressed': 7163, 'forefront': 7164, 'democratic,': 7165, 'east.': 7166, 'americans,': 7167, 'deeply': 7168, 'anti-semitism': 7169, 'distinguished': 7170, 'attorney,': 7171, 'j': 7172, 'simpson': 7173, 'isn’t': 7174, 'audacity': 7175, 'israelis,': 7176, 'you’re': 7177, 'despises': 7178, 'groups.': 7179, 'singling': 7180, 'accusing': 7181, '“genocide”': 7182, 'explained': 7183, 'state.\"': 7184, 'rofl': 7185, 'tanks': 7186, 'babies,': 7187, 'genocide?': 7188, '(seen': 7189, 'incursion': 7190, 'europeantv)': 7191, 'aspirin': 7192, 'facts.': 7193, 'mowing': 7194, 'misunderstood': 7195, 'supportive': 7196, 'realized': 7197, 'misunderstood.': 7198, 'palestinians': 7199, 'score?': 7200, 'sir': 7201, 'savior': 7202, 'labels': 7203, 'blame,': 7204, 'jaxtown,': 7205, 'boot,': 7206, 'dopes': 7207, 'accuses': 7208, 'disgraceful.': 7209, 'anti-semites': 7210, 'go\".': 7211, 'wide': 7212, 'spread': 7213, 'meet.': 7214, 'unusually': 7215, 'narrative.': 7216, 'cops.': 7217, 'thumbs': 7218, 'displeasure': 7219, 'swaths': 7220, 'west': 7221, 'bank': 7222, 'direct': 7223, 'defiance': 7224, 'approximately': 7225, '1/3': 7226, 'occupies,': 7227, '2/3': 7228, 'occupied,': 7229, 'managaes': 7230, 'abhorrent': 7231, 'iran': 7232, 'syria.': 7233, 'involves': 7234, 'conspiracy': 7235, 'alex': 7236, 'jones.': 7237, 'captured': 7238, 'defensive': 7239, \"'worse\": 7240, 'hr': 7241, \"record'\": 7242, 'despots': 7243, 'sheer': 7244, 'comprehension.': 7245, 'non-jewish': 7246, 'semites,': 7247, 'muslims,': 7248, 'babylonians': 7249, '(nebuchadnezzar)': 7250, 'assorted': 7251, 'tribes': 7252, 'bloody.': 7253, '(cyrus': 7254, 'persian)': 7255, 'don’t.': 7256, 'naturally,': 7257, 'strict': 7258, 'border': 7259, 'secure.': 7260, 'name?': 7261, 'palestinkians': 7262, 'stricter': 7263, 'traitor-in-chief': 7264, 'occupying': 7265, 'blah.': 7266, 'region': 7267, 'unwashed': 7268, 'masses': 7269, 'bay.': 7270, 'un,': 7271, 'described': 7272, 'strip.': 7273, 'boarders.': 7274, 'gained': 7275, 'war?': 7276, 'disagree.': 7277, 'won': 7278, 'invasion': 7279, 'england,': 7280, 'france,': 7281, 'spain': 7282, '10x': 7283, 'wipe': 7284, 'earth.': 7285, 'uhh': 7286, 'confusec': 7287, 'thwre': 7288, 'attacked': 7289, 'formed.': 7290, 'shooting': 7291, 'rockets': 7292, 'singing': 7293, 'tune.': 7294, 'yiu': 7295, 'crush': 7296, 'charles': 7297, 'manson': 7298, 'single;': 7299, 'match.': 7300, 'man...that': 7301, 'goofball': 7302, 'looney': 7303, 'liberal...probably': 7304, 'organizer': 7305, 'chicongo...': 7306, 'exists': 7307, 'everywhere,': 7308, 'efen': 7309, 'loon,': 7310, 'femanazis': 7311, 'cells': 7312, 'loon?': 7313, 'news.': 7314, 'notes': 7315, \"psychiatrist's\": 7316, 'notebook': 7317, 'asylum.': 7318, 'charlie': 7319, 'sense).': 7320, '\"progressive\"': 7321, 'ug..ug..ly.': 7322, 'surgeon': 7323, 'smoking': 7324, 'drinking': 7325, 'unborn': 7326, 'child......this': 7327, 'get...brain': 7328, 'children.....i': 7329, '\"accidents\"': 7330, 'movements.....an': 7331, 'undesirable': 7332, 'incidental': 7333, 'unplanned': 7334, 'spay': 7335, 'millennials.': 7336, 'white?': 7337, 'cool.': 7338, 'utterly': 7339, 'privilage\"': 7340, 'stamped': 7341, \".it's\": 7342, 'cool\".': 7343, 'dead\".': 7344, 'clueless': 7345, 'insulting': 7346, 'cage': 7347, 'petitions': 7348, \"boy's\": 7349, 'prosecuted.': 7350, 'condemned': 7351, '\"privileged\"': 7352, 'sympathy.': 7353, 'pretending': 7354, 'otherwise...': 7355, 'karvictho;': 7356, '\"fall\"': 7357, 'climbed': 7358, 'second,': 7359, 'momma': 7360, 'escaping': 7361, 'pit': 7362, 'distracted': 7363, 'photos': 7364, 'off,': 7365, 'siblings': 7366, 'occupied': 7367, 'lil': 7368, 'to.d': 7369, 'climb': 7370, 'deaths': 7371, 'privileges\"': 7372, 'pants,': 7373, 'looting': 7374, 'neighborhood': 7375, 'btw,': 7376, 'btw': 7377, '45.2%': 7378, 'privileged,': 7379, 'vs': 7380, '25.7%': 7381, 'living,': 7382, 'agricultural': 7383, 'ijs': 7384, 'fail': 7385, 'picture': 7386, 'femme_esq?': 7387, 'deiw': 7388, 'killed.': 7389, 'unnecessarily': 7390, 'maligned.': 7391, 'shrugged': 7392, 'bacteria': 7393, 'amebas': 7394, 'danger.': 7395, 'enclosure': 7396, 'hazard,': 7397, 'quick.': 7398, 'reckless': 7399, 'endangerment.': 7400, 'helpless': 7401, 'fend': 7402, 'lawsuit': 7403, 'nowhere': 7404, 'pages': 7405, 'maybe,': 7406, 'rare': 7407, 'shot,': 7408, 'conformation': 7409, 'settle': 7410, 'problem\"': 7411, '(in': 7412, 'fact,': 7413, 'problem)...': 7414, 'carrying': 7415, 'spreading': 7416, 'venomous': 7417, '\"whites.': 7418, 'tragedy': 7419, 'befell': 7420, '\"white\"': 7421, 'befall': 7422, 'poetic)': 7423, 'solution\".': 7424, 'transplant': 7425, 'organs': 7426, 'removal...': 7427, 'dumber': 7428, 'comparison.': 7429, '\"olivia': 7430, 'clair\"': 7431, 'part?': 7432, 'lawyer,': 7433, 'liberal.................the': 7434, 'diarrhea': 7435, 'spat': 7436, 'jmo': 7437, '\"racist': 7438, 'spewing': 7439, 'venom': 7440, 'proud,': 7441, 'circulating': 7442, 'internet': 7443, 'nation,': 7444, 'compass.': 7445, 'curious.': 7446, 'swimming\".': 7447, 'florida.': 7448, 'asset': 7449, 'pools.': 7450, 'cautious.': 7451, 'family,': 7452, 'himself.': 7453, 'walking': 7454, 'final': 7455, 'remembrance': 7456, 'breaking.': 7457, 'technically': 7458, 'swimming.': 7459, 'gulf': 7460, 'coast': 7461, 'permanent.': 7462, 'tree': 7463, 'make,': 7464, 'lake.': 7465, 'rotted': 7466, 'walked': 7467, 'beach': 7468, '12\"': 7469, 'posted': 7470, '\"danger': 7471, 'water\"': 7472, 'soul.': 7473, 'profile': 7474, 'photo.': 7475, '\"honeyblonde\",': 7476, 'smh': 7477, 'that....now': 7478, '\"disney\"': 7479, 'resort': 7480, 'northern': 7481, 'vacation': 7482, 'kingdom.....this': 7483, 'parents....and': 7484, 'useful': 7485, 'soundless': 7486, 'velcro.': 7487, 'doubt.': 7488, 'kids,': 7489, 'traumatic': 7490, 'discriminating': 7491, 'chose': 7492, 'taste?': 7493, 'deal...': 7494, 'complying': 7495, 'eeoc': 7496, '(equal': 7497, 'commission)': 7498, 'requirements.': 7499, '\"race\"': 7500, '(actually': 7501, 'ethnicity,': 7502, 'race),': 7503, 'profile.': 7504, 'sight': 7505, 'sore,': 7506, 'intern': 7507, 'chances': 7508, 'weekends.': 7509, 'odds': 7510, 'alligators.': 7511, 'stats': 7512, '1847': 7513, 'weekend.': 7514, 'condolences': 7515, 'evidence': 7516, 'piled': 7517, 'quit': 7518, 'wondering': 7519, 'uncovered': 7520, '\"how': 7521, 'unsupervised': 7522, 'arena?\"': 7523, 'parenting': 7524, 'maybe?': 7525, 'asking,': 7526, 'bangee,': 7527, 'gators.': 7528, 'knowing.': 7529, 'pond': 7530, 'vacationing': 7531, 'disney.': 7532, 'warning': 7533, 'sign?': 7534, 'devil.': 7535, '\"issues\"': 7536, 'peace.': 7537, 'ignoiring': 7538, 'signs.': 7539, 'wheelers': 7540, 'watercraft.': 7541, 'feelings.': 7542, 'wildlife': 7543, \"...that's\": 7544, 'poaching.': 7545, 'commenting': 7546, '$$$': 7547, 'soothe': 7548, \"parent's\": 7549, 'lawsuit?': 7550, 'pos.': 7551, 'ridiculous': 7552, 'kneegrows': 7553, 'stain.': 7554, 'mentally': 7555, 'disturbed': 7556, 'hater': 7557, 'crowd.': 7558, 'no-fly': 7559, '\"flight\"': 7560, 'list,': 7561, 'country...': 7562, 'population,': 7563, 'supporter.': 7564, 'given.': 7565, 'blamed': 7566, 'lame.': 7567, 'witch': 7568, 'waste': 7569, 'cells.': 7570, 'has.': 7571, 'thrower': 7572, 'comments-': 7573, 'children?': 7574, 'absence': 7575, 'god,': 7576, 'caring': 7577, 'bulls**t.': 7578, 'hildabeeste': 7579, 'strange': 7580, 'resemblance': 7581, 'alligator?': 7582, 'illness': 7583, 'spirit...leading': 7584, 'nonsensical': 7585, 'rationalizations': 7586, 'mind.': 7587, 'rewrite': 7588, 'past....': 7589, 'present.....': 7590, 'future....': 7591, 'disease.': 7592, 'credit,': 7593, 'bills.': 7594, \"want--don't\": 7595, 'we?': 7596, 'guessing': 7597, 'snarth,': 7598, '[large': 7599, 'alligator]': 7600, 'single-issue': 7601, 'hammer,': 7602, 'nail.': 7603, 'feminist,': 7604, 'ugly,': 7605, 'self-proclaimed': 7606, '\"feminist\".': 7607, 'observation,': 7608, 'cookbook': 7609, 'protects': 7610, 'much,': 7611, 'serial': 7612, 'killers,': 7613, 'pet,': 7614, 'convinced': 7615, 'killers': 7616, '\"protected': 7617, 'law\"?': 7618, 'creatures': 7619, 'desirable': 7620, 'neighbors?': 7621, 're-located': 7622, 'everglades': 7623, '(the': 7624, 'media,': 7625, 'lol),': 7626, 'tourism': 7627, 'safer.': 7628, 'bear': 7629, 'issues,': 7630, 'development': 7631, 'habitat': 7632, 'farther,': 7633, 'mans': 7634, 'doing;': 7635, 're-locate': 7636, 'rockies': 7637, 'killed,who': 7638, 'too,': 7639, 'barriers': 7640, 'creature': 7641, 'unawares.': 7642, '100%': 7643, 'guard.': 7644, 'privilege...pull': 7645, 'ar-15': 7646, 'ar': 7647, 'sufficient': 7648, '.357': 7649, 'closer': 7650, 'listen': 7651, 'surprised': 7652, 'war,': 7653, 'summer': 7654, 'scorcher.': 7655, 'aka': 7656, 'strauss': 7657, 'malk': 7658, 'llp': 7659, 'il.': 7660, 'firm': 7661, 'area.': 7662, 'snooping': 7663, 'shed': 7664, 'privilege\".': 7665, 'fatherless': 7666, 'men?': 7667, 'info.': 7668, 'souls': 7669, 'enjoyed': 7670, 'godfather': 7671, 'black...duh': 7672, 'half......size': 7673, 'matters....': 7674, 'ms': 7675, 'directed': 7676, 'print.': 7677, 'christ,': 7678, 'humans': 7679, 'evolved': 7680, 'primates': 7681, 'evolved?': 7682, 'stillare': 7683, 'primates....': 7684, 'evolutionists': 7685, 'backing': 7686, '\"evolving\"': 7687, 'breeding.': 7688, 'nascar': 7689, 'indy,': 7690, 'race-ist': 7691, 'brianne': 7692, 'samich.': 7693, 'roflmao': 7694, 'laughed': 7695, 'sprayed': 7696, 'keyboard': 7697, 'crappy': 7698, 'smile': 7699, 'grubers.': 7700, 'weird': 7701, 'satisfaction': 7702, 'garnering': 7703, 'ignored': 7704, 'whatever,': 7705, 'creepy': 7706, 'speaks': 7707, 'volumes': 7708, 'intelligence,': 7709, 'compassion.': 7710, 'actually.': 7711, 'lived....': 7712, 'cage???': 7713, 'gorilla.': 7714, 'against.': 7715, 'chambers.': 7716, 'foot,': 7717, 'nevertheless.': 7718, 'rocker.': 7719, 'breeding...we': 7720, 'hope.': 7721, 'cancer': 7722, '\"anonymity\"': 7723, 'cowardly': 7724, 'remarks.': 7725, 'somebody,': 7726, 'man/girl': 7727, \"mommy's\": 7728, 'synical5': 7729, 'name...': 7730, '“brienne': 7731, 'snarth”,': 7732, 'courage': 7733, 'crawl': 7734, 'cess': 7735, 'ridden': 7736, 'rock': 7737, 'slither': 7738, 'beneath': 7739, 'privilege\"': 7740, 'about..............': 7741, 'anarchary.': 7742, 'to,': 7743, 'oath': 7744, 'permit': 7745, 'ever...': 7746, 'acronym.....': 7747, 'own,': 7748, 'abortion--only': 7749, 'aborted--the': 7750, 'stayed.': 7751, 'down\"': 7752, 'morris': 7753, 'rude,': 7754, 'noooo': 7755, 'shock.': 7756, 'dox': 7757, 'snarky': 7758, 'snarth.': 7759, '\"later,': 7760, 'gator\"': 7761, 'anonymity': 7762, 'brave': 7763, 'compassion': 7764, 'stool.': 7765, 'childs': 7766, 'pool': 7767, 'heated': 7768, 'lagoon': 7769, '$5': 7770, 'cup': 7771, \"there...it's\": 7772, 'child,': 7773, 'posing': 7774, 'alabaster': 7775, 'occupation': 7776, '144': 7777, 'characters': 7778, '10,000': 7779, 'her/him/it': 7780, 'fascinating....now': 7781, 'gurl?boy?it': 7782, 'overcome': 7783, 'privilege...and': 7784, 'toss': 7785, 'likes': 7786, 'dark': 7787, 'meat.': 7788, 'agree...you': 7789, 'unfair': 7790, 'gator,': 7791, 'lions': 7792, 'natives,': 7793, 'lick': 7794, 'arises': 7795, 'afterwards': 7796, 'taste...': 7797, 'refers': 7798, '\"social': 7799, 'justice\"': 7800, 'activist,': 7801, 'spouts': 7802, 'dim-wit??': 7803, 'who...': 7804, 'nobodys': 7805, 'loose': 7806, 'meds': 7807, 'leftist.': 7808, ',esp': 7809, 'women.gee,': 7810, 'why?????': 7811, 'straight': 7812, '...work': 7813}\n",
            "(10688, 56)\n",
            "(10688, 2)\n",
            "7814\n"
          ],
          "name": "stdout"
        }
      ]
    },
    {
      "cell_type": "code",
      "metadata": {
        "id": "L65cTI4YeAJL"
      },
      "source": [
        "# model = Sequential()\n",
        "# model.add(Embedding(vocab_size, embed_size, input_length=X_train.shape[1]))\n",
        "# model.add(SpatialDropout1D(0.2))\n",
        "# model.add(LSTM(100, dropout=0.2, recurrent_dropout=0.2))\n",
        "# model.add(Dense(1, activation='softmax'))\n",
        "# model.compile(loss='categorical_crossentropy', optimizer='adam', metrics=['accuracy'])\n",
        "\n",
        "epochs = 20\n",
        "batch_size = 32\n",
        "lr = 0.001\n",
        "\n",
        "\n",
        "model = tf.keras.Sequential([\n",
        "        tf.keras.layers.Embedding(vocab_size, embed_size, input_length=X_train.shape[1]),\n",
        "        tf.keras.layers.LSTM(64, kernel_regularizer=l2(0.01), recurrent_regularizer=l2(0.01), bias_regularizer=l2(0.01)),\n",
        "        tf.keras.layers.Dense(2, activation = 'softmax')\n",
        "  ])\n",
        "\n",
        "model.compile(optimizer= tf.keras.optimizers.Adam(learning_rate=lr),\n",
        "                loss='categorical_crossentropy',\n",
        "                metrics=['accuracy', tf.keras.metrics.Precision(), tf.keras.metrics.Recall()])\n"
      ],
      "execution_count": null,
      "outputs": []
    },
    {
      "cell_type": "code",
      "metadata": {
        "colab": {
          "base_uri": "https://localhost:8080/"
        },
        "id": "q0EN_lBGeAJM",
        "outputId": "597eb993-9717-4611-c459-5487f231e25f"
      },
      "source": [
        "model.summary()"
      ],
      "execution_count": null,
      "outputs": [
        {
          "output_type": "stream",
          "text": [
            "Model: \"sequential\"\n",
            "_________________________________________________________________\n",
            "Layer (type)                 Output Shape              Param #   \n",
            "=================================================================\n",
            "embedding (Embedding)        (None, 56, 300)           2344200   \n",
            "_________________________________________________________________\n",
            "lstm (LSTM)                  (None, 64)                93440     \n",
            "_________________________________________________________________\n",
            "dense (Dense)                (None, 2)                 130       \n",
            "=================================================================\n",
            "Total params: 2,437,770\n",
            "Trainable params: 2,437,770\n",
            "Non-trainable params: 0\n",
            "_________________________________________________________________\n"
          ],
          "name": "stdout"
        }
      ]
    },
    {
      "cell_type": "code",
      "metadata": {
        "colab": {
          "base_uri": "https://localhost:8080/",
          "height": 164
        },
        "id": "NxLwQgBPXajc",
        "outputId": "10fe37f9-fc75-40ea-9ff2-6743e8570685"
      },
      "source": [
        "val\n"
      ],
      "execution_count": null,
      "outputs": [
        {
          "output_type": "error",
          "ename": "NameError",
          "evalue": "ignored",
          "traceback": [
            "\u001b[0;31m---------------------------------------------------------------------------\u001b[0m",
            "\u001b[0;31mNameError\u001b[0m                                 Traceback (most recent call last)",
            "\u001b[0;32m<ipython-input-35-22e33626e689>\u001b[0m in \u001b[0;36m<module>\u001b[0;34m()\u001b[0m\n\u001b[0;32m----> 1\u001b[0;31m \u001b[0mval\u001b[0m\u001b[0;34m\u001b[0m\u001b[0;34m\u001b[0m\u001b[0m\n\u001b[0m",
            "\u001b[0;31mNameError\u001b[0m: name 'val' is not defined"
          ]
        }
      ]
    },
    {
      "cell_type": "code",
      "metadata": {
        "colab": {
          "base_uri": "https://localhost:8080/",
          "height": 164
        },
        "id": "NCO-quenXfO_",
        "outputId": "e20f3a67-4699-4836-d61a-06c04ad2e015"
      },
      "source": [
        "val_targets"
      ],
      "execution_count": null,
      "outputs": [
        {
          "output_type": "error",
          "ename": "NameError",
          "evalue": "ignored",
          "traceback": [
            "\u001b[0;31m---------------------------------------------------------------------------\u001b[0m",
            "\u001b[0;31mNameError\u001b[0m                                 Traceback (most recent call last)",
            "\u001b[0;32m<ipython-input-36-8e90585b96a5>\u001b[0m in \u001b[0;36m<module>\u001b[0;34m()\u001b[0m\n\u001b[0;32m----> 1\u001b[0;31m \u001b[0mval_targets\u001b[0m\u001b[0;34m\u001b[0m\u001b[0;34m\u001b[0m\u001b[0m\n\u001b[0m",
            "\u001b[0;31mNameError\u001b[0m: name 'val_targets' is not defined"
          ]
        }
      ]
    },
    {
      "cell_type": "code",
      "metadata": {
        "colab": {
          "base_uri": "https://localhost:8080/"
        },
        "id": "FwwuZpTAeAJw",
        "outputId": "e5216401-fad5-41ec-f5ee-8ae00f582fd0"
      },
      "source": [
        "history = model.fit(X_train, y_train, \n",
        "      epochs=epochs,  \n",
        "      verbose=1, \n",
        "      validation_split=0.10,\n",
        "      batch_size=batch_size)"
      ],
      "execution_count": null,
      "outputs": [
        {
          "output_type": "stream",
          "text": [
            "Epoch 1/20\n",
            "43/43 [==============================] - 7s 108ms/step - loss: 3.8422 - accuracy: 0.6871 - precision: 0.6871 - recall: 0.6871 - val_loss: 2.0854 - val_accuracy: 0.7105 - val_precision: 0.7105 - val_recall: 0.7105\n",
            "Epoch 2/20\n",
            "43/43 [==============================] - 4s 88ms/step - loss: 1.7731 - accuracy: 0.7228 - precision: 0.7228 - recall: 0.7228 - val_loss: 1.3964 - val_accuracy: 0.7171 - val_precision: 0.7171 - val_recall: 0.7171\n",
            "Epoch 3/20\n",
            "43/43 [==============================] - 4s 88ms/step - loss: 1.0567 - accuracy: 0.8732 - precision: 0.8732 - recall: 0.8732 - val_loss: 1.3027 - val_accuracy: 0.6645 - val_precision: 0.6645 - val_recall: 0.6645\n",
            "Epoch 4/20\n",
            "43/43 [==============================] - 4s 88ms/step - loss: 0.7511 - accuracy: 0.9686 - precision: 0.9686 - recall: 0.9686 - val_loss: 1.3845 - val_accuracy: 0.6711 - val_precision: 0.6711 - val_recall: 0.6711\n",
            "Epoch 5/20\n",
            "43/43 [==============================] - 4s 87ms/step - loss: 0.5841 - accuracy: 0.9902 - precision: 0.9902 - recall: 0.9902 - val_loss: 1.2696 - val_accuracy: 0.6316 - val_precision: 0.6316 - val_recall: 0.6316\n",
            "Epoch 6/20\n",
            "43/43 [==============================] - 4s 87ms/step - loss: 0.5279 - accuracy: 0.9912 - precision: 0.9912 - recall: 0.9912 - val_loss: 1.2968 - val_accuracy: 0.6908 - val_precision: 0.6908 - val_recall: 0.6908\n",
            "Epoch 7/20\n",
            "43/43 [==============================] - 4s 88ms/step - loss: 0.4658 - accuracy: 0.9972 - precision: 0.9972 - recall: 0.9972 - val_loss: 1.2594 - val_accuracy: 0.6513 - val_precision: 0.6513 - val_recall: 0.6513\n",
            "Epoch 8/20\n",
            "43/43 [==============================] - 4s 86ms/step - loss: 0.4220 - accuracy: 0.9944 - precision: 0.9944 - recall: 0.9944 - val_loss: 1.1985 - val_accuracy: 0.6579 - val_precision: 0.6579 - val_recall: 0.6579\n",
            "Epoch 9/20\n",
            "43/43 [==============================] - 4s 87ms/step - loss: 0.3777 - accuracy: 0.9989 - precision: 0.9989 - recall: 0.9989 - val_loss: 1.2345 - val_accuracy: 0.7039 - val_precision: 0.7039 - val_recall: 0.7039\n",
            "Epoch 10/20\n",
            "43/43 [==============================] - 4s 86ms/step - loss: 0.3394 - accuracy: 0.9998 - precision: 0.9998 - recall: 0.9998 - val_loss: 1.1495 - val_accuracy: 0.6579 - val_precision: 0.6579 - val_recall: 0.6579\n",
            "Epoch 11/20\n",
            "43/43 [==============================] - 4s 87ms/step - loss: 0.3064 - accuracy: 0.9972 - precision: 0.9972 - recall: 0.9972 - val_loss: 1.1408 - val_accuracy: 0.6776 - val_precision: 0.6776 - val_recall: 0.6776\n",
            "Epoch 12/20\n",
            "43/43 [==============================] - 4s 86ms/step - loss: 0.2747 - accuracy: 0.9997 - precision: 0.9997 - recall: 0.9997 - val_loss: 1.1252 - val_accuracy: 0.6908 - val_precision: 0.6908 - val_recall: 0.6908\n",
            "Epoch 13/20\n",
            "43/43 [==============================] - 4s 87ms/step - loss: 0.2481 - accuracy: 1.0000 - precision: 1.0000 - recall: 1.0000 - val_loss: 1.1146 - val_accuracy: 0.6776 - val_precision: 0.6776 - val_recall: 0.6776\n",
            "Epoch 14/20\n",
            "43/43 [==============================] - 4s 87ms/step - loss: 0.2276 - accuracy: 1.0000 - precision: 1.0000 - recall: 1.0000 - val_loss: 1.0785 - val_accuracy: 0.6776 - val_precision: 0.6776 - val_recall: 0.6776\n",
            "Epoch 15/20\n",
            "43/43 [==============================] - 4s 88ms/step - loss: 0.2043 - accuracy: 1.0000 - precision: 1.0000 - recall: 1.0000 - val_loss: 1.0745 - val_accuracy: 0.6579 - val_precision: 0.6579 - val_recall: 0.6579\n",
            "Epoch 16/20\n",
            "43/43 [==============================] - 4s 88ms/step - loss: 0.1865 - accuracy: 1.0000 - precision: 1.0000 - recall: 1.0000 - val_loss: 1.0277 - val_accuracy: 0.6579 - val_precision: 0.6579 - val_recall: 0.6579\n",
            "Epoch 17/20\n",
            "43/43 [==============================] - 4s 88ms/step - loss: 0.1690 - accuracy: 1.0000 - precision: 1.0000 - recall: 1.0000 - val_loss: 1.0675 - val_accuracy: 0.6184 - val_precision: 0.6184 - val_recall: 0.6184\n",
            "Epoch 18/20\n",
            "43/43 [==============================] - 4s 88ms/step - loss: 0.1536 - accuracy: 1.0000 - precision: 1.0000 - recall: 1.0000 - val_loss: 1.0565 - val_accuracy: 0.6711 - val_precision: 0.6711 - val_recall: 0.6711\n",
            "Epoch 19/20\n",
            "43/43 [==============================] - 4s 87ms/step - loss: 0.1390 - accuracy: 1.0000 - precision: 1.0000 - recall: 1.0000 - val_loss: 1.0343 - val_accuracy: 0.6579 - val_precision: 0.6579 - val_recall: 0.6579\n",
            "Epoch 20/20\n",
            "43/43 [==============================] - 4s 89ms/step - loss: 0.1266 - accuracy: 1.0000 - precision: 1.0000 - recall: 1.0000 - val_loss: 1.0274 - val_accuracy: 0.6382 - val_precision: 0.6382 - val_recall: 0.6382\n"
          ],
          "name": "stdout"
        }
      ]
    },
    {
      "cell_type": "code",
      "metadata": {
        "colab": {
          "base_uri": "https://localhost:8080/",
          "height": 295
        },
        "id": "wpX_tUTneAJx",
        "outputId": "e4ab018a-9f28-47b3-f1db-8133a4115986"
      },
      "source": [
        "# summarize history for accuracy\n",
        "plt.plot(history.history['accuracy'])\n",
        "plt.plot(history.history['val_accuracy'])\n",
        "plt.title('model accuracy')\n",
        "plt.ylabel('accuracy')\n",
        "plt.xlabel('epoch')\n",
        "plt.legend(['train', 'val'], loc='upper left')\n",
        "plt.show()"
      ],
      "execution_count": null,
      "outputs": [
        {
          "output_type": "display_data",
          "data": {
            "image/png": "[encoded data removed]",
            "text/plain": [
              "<Figure size 432x288 with 1 Axes>"
            ]
          },
          "metadata": {
            "tags": [],
            "needs_background": "light"
          }
        }
      ]
    },
    {
      "cell_type": "code",
      "metadata": {
        "colab": {
          "base_uri": "https://localhost:8080/",
          "height": 295
        },
        "id": "zc1UmohieAJy",
        "outputId": "092628e6-f080-4c58-e03a-d994b4595eb3"
      },
      "source": [
        "# summarize history for loss\n",
        "plt.plot(history.history['loss'])\n",
        "plt.plot(history.history['val_loss'])\n",
        "plt.title('model loss')\n",
        "plt.ylabel('loss')\n",
        "plt.xlabel('epoch')\n",
        "plt.legend(['train', 'val'], loc='upper left')\n",
        "plt.show()"
      ],
      "execution_count": null,
      "outputs": [
        {
          "output_type": "display_data",
          "data": {
            "image/png": "[encoded data removed]",
            "text/plain": [
              "<Figure size 432x288 with 1 Axes>"
            ]
          },
          "metadata": {
            "tags": [],
            "needs_background": "light"
          }
        }
      ]
    },
    {
      "cell_type": "code",
      "metadata": {
        "colab": {
          "base_uri": "https://localhost:8080/"
        },
        "id": "JJxEWEQ0eAJz",
        "outputId": "5554328a-60c5-4ed8-9e99-f79f2a92871a"
      },
      "source": [
        "loss, accuracy, precision, recall = model.evaluate(X_test, y_test,batch_size=32)\n",
        "print(\"loss: %s accuracy: %s precision: %s recall: %s\" % (loss, accuracy, precision, recall))\n",
        "df_evaluation = pd.DataFrame({'loss':loss, 'accuracy':accuracy, 'precision': precision, 'recall':recall},index=[0])"
      ],
      "execution_count": null,
      "outputs": [
        {
          "output_type": "stream",
          "text": [
            "5/5 [==============================] - 0s 15ms/step - loss: 0.9588 - accuracy: 0.7039 - precision_6: 0.7039 - recall_6: 0.7039\n",
            "loss: 0.9588055610656738 accuracy: 0.7039473652839661 precision: 0.7039473652839661 recall: 0.7039473652839661\n"
          ],
          "name": "stdout"
        }
      ]
    },
    {
      "cell_type": "code",
      "metadata": {
        "colab": {
          "base_uri": "https://localhost:8080/",
          "height": 80
        },
        "id": "MaXUT7oE-4DH",
        "outputId": "83c14366-dfa5-4b2d-a661-7c9c0b712628"
      },
      "source": [
        "name = '/content/drive/MyDrive/IAS/NLP_and_Web/report/evaluation_logs_lstm_fox.csv'\n",
        "df_evaluation.to_csv(name)\n",
        "df_evaluation"
      ],
      "execution_count": null,
      "outputs": [
        {
          "output_type": "execute_result",
          "data": {
            "text/html": [
              "<div>\n",
              "<style scoped>\n",
              "    .dataframe tbody tr th:only-of-type {\n",
              "        vertical-align: middle;\n",
              "    }\n",
              "\n",
              "    .dataframe tbody tr th {\n",
              "        vertical-align: top;\n",
              "    }\n",
              "\n",
              "    .dataframe thead th {\n",
              "        text-align: right;\n",
              "    }\n",
              "</style>\n",
              "<table border=\"1\" class=\"dataframe\">\n",
              "  <thead>\n",
              "    <tr style=\"text-align: right;\">\n",
              "      <th></th>\n",
              "      <th>loss</th>\n",
              "      <th>accuracy</th>\n",
              "      <th>precision</th>\n",
              "      <th>recall</th>\n",
              "    </tr>\n",
              "  </thead>\n",
              "  <tbody>\n",
              "    <tr>\n",
              "      <th>0</th>\n",
              "      <td>0.958806</td>\n",
              "      <td>0.703947</td>\n",
              "      <td>0.703947</td>\n",
              "      <td>0.703947</td>\n",
              "    </tr>\n",
              "  </tbody>\n",
              "</table>\n",
              "</div>"
            ],
            "text/plain": [
              "       loss  accuracy  precision    recall\n",
              "0  0.958806  0.703947   0.703947  0.703947"
            ]
          },
          "metadata": {
            "tags": []
          },
          "execution_count": 177
        }
      ]
    },
    {
      "cell_type": "code",
      "metadata": {
        "id": "L2MMe5qieAJ0"
      },
      "source": [
        "Y_pred = model.predict(X_test)\n"
      ],
      "execution_count": null,
      "outputs": []
    },
    {
      "cell_type": "code",
      "metadata": {
        "colab": {
          "base_uri": "https://localhost:8080/"
        },
        "id": "i9yoA2_veAJ1",
        "outputId": "02dc24be-f085-4a8e-85fb-6b64c40069d8"
      },
      "source": [
        " Y_pred"
      ],
      "execution_count": null,
      "outputs": [
        {
          "output_type": "execute_result",
          "data": {
            "text/plain": [
              "array([[7.52954721e-01, 2.47045279e-01],\n",
              "       [8.69950056e-01, 1.30050018e-01],\n",
              "       [7.31912136e-01, 2.68087894e-01],\n",
              "       [9.76363063e-01, 2.36368552e-02],\n",
              "       [9.74933982e-01, 2.50659939e-02],\n",
              "       [9.92702603e-01, 7.29735615e-03],\n",
              "       [9.56174076e-01, 4.38259505e-02],\n",
              "       [6.37625158e-01, 3.62374842e-01],\n",
              "       [9.96337056e-01, 3.66292894e-03],\n",
              "       [9.99748051e-01, 2.51887541e-04],\n",
              "       [6.51204526e-01, 3.48795444e-01],\n",
              "       [9.91050601e-01, 8.94945208e-03],\n",
              "       [7.29187608e-01, 2.70812362e-01],\n",
              "       [7.81326294e-01, 2.18673751e-01],\n",
              "       [9.98013020e-01, 1.98698160e-03],\n",
              "       [1.47689894e-01, 8.52310061e-01],\n",
              "       [3.27588439e-01, 6.72411561e-01],\n",
              "       [9.95689213e-01, 4.31076670e-03],\n",
              "       [9.98144388e-01, 1.85567641e-03],\n",
              "       [9.27431524e-01, 7.25684687e-02],\n",
              "       [3.90200987e-02, 9.60979939e-01],\n",
              "       [9.97831404e-01, 2.16862559e-03],\n",
              "       [9.96521831e-01, 3.47814965e-03],\n",
              "       [9.95606005e-01, 4.39397339e-03],\n",
              "       [9.86178994e-01, 1.38210272e-02],\n",
              "       [9.11840022e-01, 8.81599858e-02],\n",
              "       [9.95245159e-01, 4.75482550e-03],\n",
              "       [9.97163594e-01, 2.83642346e-03],\n",
              "       [9.99500394e-01, 4.99646238e-04],\n",
              "       [6.09981753e-02, 9.39001799e-01],\n",
              "       [9.77155566e-01, 2.28443984e-02],\n",
              "       [9.77490544e-02, 9.02250946e-01],\n",
              "       [7.64384866e-01, 2.35615134e-01],\n",
              "       [8.65752697e-01, 1.34247229e-01],\n",
              "       [3.22301954e-01, 6.77697957e-01],\n",
              "       [9.54249620e-01, 4.57503907e-02],\n",
              "       [5.40682003e-02, 9.45931733e-01],\n",
              "       [9.02205467e-01, 9.77945030e-02],\n",
              "       [9.30316925e-01, 6.96830675e-02],\n",
              "       [9.64859366e-01, 3.51405926e-02],\n",
              "       [1.38550639e-01, 8.61449361e-01],\n",
              "       [9.59055245e-01, 4.09447663e-02],\n",
              "       [9.95490730e-01, 4.50924039e-03],\n",
              "       [9.99940515e-01, 5.94749072e-05],\n",
              "       [9.92035568e-01, 7.96444342e-03],\n",
              "       [9.65373456e-01, 3.46264802e-02],\n",
              "       [1.37777328e-01, 8.62222612e-01],\n",
              "       [6.44305408e-01, 3.55694532e-01],\n",
              "       [1.62941560e-01, 8.37058425e-01],\n",
              "       [9.77906048e-01, 2.20939536e-02],\n",
              "       [8.76169980e-01, 1.23830058e-01],\n",
              "       [9.96342957e-01, 3.65700293e-03],\n",
              "       [9.91994619e-01, 8.00540671e-03],\n",
              "       [8.97500694e-01, 1.02499314e-01],\n",
              "       [3.43199939e-01, 6.56800032e-01],\n",
              "       [9.33484256e-01, 6.65157288e-02],\n",
              "       [9.82997566e-02, 9.01700318e-01],\n",
              "       [9.77990150e-01, 2.20098831e-02],\n",
              "       [9.44510937e-01, 5.54890409e-02],\n",
              "       [9.99260724e-01, 7.39218784e-04],\n",
              "       [5.50787866e-01, 4.49212193e-01],\n",
              "       [9.88609552e-01, 1.13904756e-02],\n",
              "       [9.50744510e-01, 4.92555089e-02],\n",
              "       [2.68391743e-02, 9.73160803e-01],\n",
              "       [9.60984349e-01, 3.90156507e-02],\n",
              "       [8.64458263e-01, 1.35541722e-01],\n",
              "       [9.28220093e-01, 7.17799440e-02],\n",
              "       [2.51814146e-02, 9.74818528e-01],\n",
              "       [7.91387081e-01, 2.08612949e-01],\n",
              "       [9.98677433e-01, 1.32256770e-03],\n",
              "       [7.96996057e-01, 2.03003943e-01],\n",
              "       [7.73564696e-01, 2.26435333e-01],\n",
              "       [8.96362841e-01, 1.03637144e-01],\n",
              "       [4.13730204e-01, 5.86269736e-01],\n",
              "       [9.74888921e-01, 2.51110531e-02],\n",
              "       [9.97008622e-01, 2.99138529e-03],\n",
              "       [7.51619220e-01, 2.48380765e-01],\n",
              "       [9.99601543e-01, 3.98476433e-04],\n",
              "       [2.39343464e-01, 7.60656476e-01],\n",
              "       [9.61272836e-01, 3.87271233e-02],\n",
              "       [9.78530109e-01, 2.14699153e-02],\n",
              "       [8.87033939e-01, 1.12966061e-01],\n",
              "       [9.73828316e-01, 2.61716116e-02],\n",
              "       [9.62280571e-01, 3.77193838e-02],\n",
              "       [8.11562777e-01, 1.88437223e-01],\n",
              "       [9.44954216e-01, 5.50458170e-02],\n",
              "       [9.41729307e-01, 5.82707264e-02],\n",
              "       [9.99706566e-01, 2.93396326e-04],\n",
              "       [7.31762052e-01, 2.68237919e-01],\n",
              "       [8.97287488e-01, 1.02712467e-01],\n",
              "       [9.52155173e-01, 4.78448793e-02],\n",
              "       [2.86105186e-01, 7.13894784e-01],\n",
              "       [1.52521849e-01, 8.47478151e-01],\n",
              "       [5.72450340e-01, 4.27549630e-01],\n",
              "       [2.18914717e-01, 7.81085312e-01],\n",
              "       [4.06410843e-01, 5.93589187e-01],\n",
              "       [2.91731674e-03, 9.97082651e-01],\n",
              "       [8.14779639e-01, 1.85220286e-01],\n",
              "       [8.86717856e-01, 1.13282137e-01],\n",
              "       [9.86146033e-01, 1.38538983e-02],\n",
              "       [9.42642868e-01, 5.73571585e-02],\n",
              "       [9.55257833e-01, 4.47422080e-02],\n",
              "       [9.02750134e-01, 9.72498134e-02],\n",
              "       [9.36247468e-01, 6.37525544e-02],\n",
              "       [8.74941647e-01, 1.25058338e-01],\n",
              "       [8.86348546e-01, 1.13651536e-01],\n",
              "       [9.01042521e-02, 9.09895718e-01],\n",
              "       [9.30882215e-01, 6.91178069e-02],\n",
              "       [2.65681952e-01, 7.34318078e-01],\n",
              "       [9.67804611e-01, 3.21954265e-02],\n",
              "       [9.86114860e-01, 1.38851525e-02],\n",
              "       [9.71631050e-01, 2.83689573e-02],\n",
              "       [8.45419824e-01, 1.54580206e-01],\n",
              "       [9.38727617e-01, 6.12723604e-02],\n",
              "       [3.26180607e-01, 6.73819363e-01],\n",
              "       [9.68329430e-01, 3.16705443e-02],\n",
              "       [9.93116736e-01, 6.88321982e-03],\n",
              "       [7.34584987e-01, 2.65415043e-01],\n",
              "       [9.85343635e-01, 1.46563677e-02],\n",
              "       [5.80408871e-01, 4.19591099e-01],\n",
              "       [9.30326819e-01, 6.96732253e-02],\n",
              "       [9.62319016e-01, 3.76809463e-02],\n",
              "       [9.75781143e-01, 2.42188536e-02],\n",
              "       [7.41769254e-01, 2.58230656e-01],\n",
              "       [7.57634461e-01, 2.42365569e-01],\n",
              "       [4.15355295e-01, 5.84644675e-01],\n",
              "       [9.95988786e-01, 4.01117746e-03],\n",
              "       [9.98988092e-01, 1.01185217e-03],\n",
              "       [9.90019679e-01, 9.98033769e-03],\n",
              "       [5.27174056e-01, 4.72825855e-01],\n",
              "       [8.89501631e-01, 1.10498331e-01],\n",
              "       [9.55654025e-01, 4.43459637e-02],\n",
              "       [7.03234553e-01, 2.96765417e-01],\n",
              "       [8.76282156e-01, 1.23717844e-01],\n",
              "       [9.03875172e-01, 9.61248353e-02],\n",
              "       [3.41045350e-01, 6.58954620e-01],\n",
              "       [9.76875782e-01, 2.31242403e-02],\n",
              "       [9.72501576e-01, 2.74983868e-02],\n",
              "       [9.05206054e-02, 9.09479439e-01],\n",
              "       [8.48685861e-01, 1.51314080e-01],\n",
              "       [9.96125996e-01, 3.87402903e-03],\n",
              "       [7.52921760e-01, 2.47078240e-01],\n",
              "       [9.95511711e-01, 4.48828284e-03],\n",
              "       [7.05730379e-01, 2.94269592e-01],\n",
              "       [1.27219051e-01, 8.72780919e-01],\n",
              "       [9.98068988e-01, 1.93103729e-03],\n",
              "       [8.54775727e-01, 1.45224348e-01],\n",
              "       [8.13135877e-03, 9.91868615e-01],\n",
              "       [9.94052351e-01, 5.94760897e-03],\n",
              "       [8.63600612e-01, 1.36399403e-01],\n",
              "       [8.77682447e-01, 1.22317553e-01],\n",
              "       [9.25251424e-01, 7.47485384e-02]], dtype=float32)"
            ]
          },
          "metadata": {
            "tags": []
          },
          "execution_count": 179
        }
      ]
    },
    {
      "cell_type": "code",
      "metadata": {
        "colab": {
          "base_uri": "https://localhost:8080/"
        },
        "id": "lSBtKhUBeAJ1",
        "outputId": "3f2d9af3-243c-418f-aed3-e4b04cc65697"
      },
      "source": [
        "Y_pred = np.argmax(Y_pred, axis=1)\n",
        "Y_pred"
      ],
      "execution_count": null,
      "outputs": [
        {
          "output_type": "execute_result",
          "data": {
            "text/plain": [
              "array([0, 0, 0, 0, 0, 0, 0, 0, 0, 0, 0, 0, 0, 0, 0, 1, 1, 0, 0, 0, 1, 0,\n",
              "       0, 0, 0, 0, 0, 0, 0, 1, 0, 1, 0, 0, 1, 0, 1, 0, 0, 0, 1, 0, 0, 0,\n",
              "       0, 0, 1, 0, 1, 0, 0, 0, 0, 0, 1, 0, 1, 0, 0, 0, 0, 0, 0, 1, 0, 0,\n",
              "       0, 1, 0, 0, 0, 0, 0, 1, 0, 0, 0, 0, 1, 0, 0, 0, 0, 0, 0, 0, 0, 0,\n",
              "       0, 0, 0, 1, 1, 0, 1, 1, 1, 0, 0, 0, 0, 0, 0, 0, 0, 0, 1, 0, 1, 0,\n",
              "       0, 0, 0, 0, 1, 0, 0, 0, 0, 0, 0, 0, 0, 0, 0, 1, 0, 0, 0, 0, 0, 0,\n",
              "       0, 0, 0, 1, 0, 0, 1, 0, 0, 0, 0, 0, 1, 0, 0, 1, 0, 0, 0, 0])"
            ]
          },
          "metadata": {
            "tags": []
          },
          "execution_count": 180
        }
      ]
    },
    {
      "cell_type": "code",
      "metadata": {
        "colab": {
          "base_uri": "https://localhost:8080/",
          "height": 204
        },
        "id": "kJooOhgqeAJ3",
        "outputId": "0972ed1e-3a38-469a-bc7f-6ec4042cd518"
      },
      "source": [
        "categories = ['not hate speech', 'hate speech']\n",
        " \n",
        "report = classification_report(test_targets.values, Y_pred, target_names=categories, output_dict=True)\n",
        "df_report = pd.DataFrame(report).transpose()\n",
        "df_report"
      ],
      "execution_count": null,
      "outputs": [
        {
          "output_type": "execute_result",
          "data": {
            "text/html": [
              "<div>\n",
              "<style scoped>\n",
              "    .dataframe tbody tr th:only-of-type {\n",
              "        vertical-align: middle;\n",
              "    }\n",
              "\n",
              "    .dataframe tbody tr th {\n",
              "        vertical-align: top;\n",
              "    }\n",
              "\n",
              "    .dataframe thead th {\n",
              "        text-align: right;\n",
              "    }\n",
              "</style>\n",
              "<table border=\"1\" class=\"dataframe\">\n",
              "  <thead>\n",
              "    <tr style=\"text-align: right;\">\n",
              "      <th></th>\n",
              "      <th>precision</th>\n",
              "      <th>recall</th>\n",
              "      <th>f1-score</th>\n",
              "      <th>support</th>\n",
              "    </tr>\n",
              "  </thead>\n",
              "  <tbody>\n",
              "    <tr>\n",
              "      <th>not hate speech</th>\n",
              "      <td>0.788618</td>\n",
              "      <td>0.836207</td>\n",
              "      <td>0.811715</td>\n",
              "      <td>116.000000</td>\n",
              "    </tr>\n",
              "    <tr>\n",
              "      <th>hate speech</th>\n",
              "      <td>0.344828</td>\n",
              "      <td>0.277778</td>\n",
              "      <td>0.307692</td>\n",
              "      <td>36.000000</td>\n",
              "    </tr>\n",
              "    <tr>\n",
              "      <th>accuracy</th>\n",
              "      <td>0.703947</td>\n",
              "      <td>0.703947</td>\n",
              "      <td>0.703947</td>\n",
              "      <td>0.703947</td>\n",
              "    </tr>\n",
              "    <tr>\n",
              "      <th>macro avg</th>\n",
              "      <td>0.566723</td>\n",
              "      <td>0.556992</td>\n",
              "      <td>0.559704</td>\n",
              "      <td>152.000000</td>\n",
              "    </tr>\n",
              "    <tr>\n",
              "      <th>weighted avg</th>\n",
              "      <td>0.683510</td>\n",
              "      <td>0.703947</td>\n",
              "      <td>0.692342</td>\n",
              "      <td>152.000000</td>\n",
              "    </tr>\n",
              "  </tbody>\n",
              "</table>\n",
              "</div>"
            ],
            "text/plain": [
              "                 precision    recall  f1-score     support\n",
              "not hate speech   0.788618  0.836207  0.811715  116.000000\n",
              "hate speech       0.344828  0.277778  0.307692   36.000000\n",
              "accuracy          0.703947  0.703947  0.703947    0.703947\n",
              "macro avg         0.566723  0.556992  0.559704  152.000000\n",
              "weighted avg      0.683510  0.703947  0.692342  152.000000"
            ]
          },
          "metadata": {
            "tags": []
          },
          "execution_count": 184
        }
      ]
    },
    {
      "cell_type": "code",
      "metadata": {
        "id": "Xs8Z_At5szN9"
      },
      "source": [
        "name = '/content/drive/MyDrive/IAS/NLP_and_Web/report/matrix_report_FoxNews.csv'\n",
        "df_report.to_csv(name)"
      ],
      "execution_count": null,
      "outputs": []
    },
    {
      "cell_type": "code",
      "metadata": {
        "id": "knSN3ki8qSlb"
      },
      "source": [
        "df_results = pd.DataFrame(history.history)\n",
        "df_results['learning_rate'] = lr\n",
        "df_results['num_epochs'] = epochs\n",
        "df_results['batch_size'] = batch_size\n",
        "df_results['num_classes'] =  len(categories) \n",
        "df_results['test_size'] = test_size\n",
        "df_results['train_size'] = len(train)\n",
        "df_results['seed'] = seed\n",
        "df_results['Tokenizer'] = 'keras_preprocessing.text.Tokenizer'\n",
        "df_results['loss_function'] = 'categorical_crossentropy'\n",
        "df_results['learning_rate'] = lr\n",
        "df_results['train_class_proportion_' + categories[0]] = round(train_class_distribution[0][1], 2)\n",
        "df_results['train_class_proportion_' + categories[1]] = round(train_class_distribution[1][1], 2)\n",
        "df_results['test_class_proportion_' + categories[0]] = round(test_class_distribution[0][1], 2)\n",
        "df_results['test_class_proportion_' + categories[1]] = round(test_class_distribution[1][1], 2)\n"
      ],
      "execution_count": null,
      "outputs": []
    },
    {
      "cell_type": "code",
      "metadata": {
        "colab": {
          "base_uri": "https://localhost:8080/",
          "height": 241
        },
        "id": "gXeYIr7_r8nB",
        "outputId": "7c3aa8aa-2592-4b21-d556-bd892168ed0f"
      },
      "source": [
        "df_results.head()"
      ],
      "execution_count": null,
      "outputs": [
        {
          "output_type": "execute_result",
          "data": {
            "text/html": [
              "<div>\n",
              "<style scoped>\n",
              "    .dataframe tbody tr th:only-of-type {\n",
              "        vertical-align: middle;\n",
              "    }\n",
              "\n",
              "    .dataframe tbody tr th {\n",
              "        vertical-align: top;\n",
              "    }\n",
              "\n",
              "    .dataframe thead th {\n",
              "        text-align: right;\n",
              "    }\n",
              "</style>\n",
              "<table border=\"1\" class=\"dataframe\">\n",
              "  <thead>\n",
              "    <tr style=\"text-align: right;\">\n",
              "      <th></th>\n",
              "      <th>loss</th>\n",
              "      <th>accuracy</th>\n",
              "      <th>precision_6</th>\n",
              "      <th>recall_6</th>\n",
              "      <th>val_loss</th>\n",
              "      <th>val_accuracy</th>\n",
              "      <th>val_precision_6</th>\n",
              "      <th>val_recall_6</th>\n",
              "      <th>learning_rate</th>\n",
              "      <th>num_epochs</th>\n",
              "      <th>batch_size</th>\n",
              "      <th>num_classes</th>\n",
              "      <th>test_size</th>\n",
              "      <th>train_size</th>\n",
              "      <th>seed</th>\n",
              "      <th>Tokenizer</th>\n",
              "      <th>loss_function</th>\n",
              "      <th>train_class_proportion_not hate speech</th>\n",
              "      <th>train_class_proportion_hate speech</th>\n",
              "      <th>test_class_proportion_not hate speech</th>\n",
              "      <th>test_class_proportion_hate speech</th>\n",
              "    </tr>\n",
              "  </thead>\n",
              "  <tbody>\n",
              "    <tr>\n",
              "      <th>0</th>\n",
              "      <td>3.285998</td>\n",
              "      <td>0.704248</td>\n",
              "      <td>0.704248</td>\n",
              "      <td>0.704248</td>\n",
              "      <td>2.206868</td>\n",
              "      <td>0.708029</td>\n",
              "      <td>0.708029</td>\n",
              "      <td>0.708029</td>\n",
              "      <td>0.001</td>\n",
              "      <td>20</td>\n",
              "      <td>32</td>\n",
              "      <td>2</td>\n",
              "      <td>0.1</td>\n",
              "      <td>1361</td>\n",
              "      <td>11</td>\n",
              "      <td>keras_preprocessing.text.Tokenizer</td>\n",
              "      <td>categorical_crossentropy</td>\n",
              "      <td>0.71</td>\n",
              "      <td>0.29</td>\n",
              "      <td>0.76</td>\n",
              "      <td>0.24</td>\n",
              "    </tr>\n",
              "    <tr>\n",
              "      <th>1</th>\n",
              "      <td>1.691625</td>\n",
              "      <td>0.714052</td>\n",
              "      <td>0.714052</td>\n",
              "      <td>0.714052</td>\n",
              "      <td>1.424249</td>\n",
              "      <td>0.715328</td>\n",
              "      <td>0.715328</td>\n",
              "      <td>0.715328</td>\n",
              "      <td>0.001</td>\n",
              "      <td>20</td>\n",
              "      <td>32</td>\n",
              "      <td>2</td>\n",
              "      <td>0.1</td>\n",
              "      <td>1361</td>\n",
              "      <td>11</td>\n",
              "      <td>keras_preprocessing.text.Tokenizer</td>\n",
              "      <td>categorical_crossentropy</td>\n",
              "      <td>0.71</td>\n",
              "      <td>0.29</td>\n",
              "      <td>0.76</td>\n",
              "      <td>0.24</td>\n",
              "    </tr>\n",
              "    <tr>\n",
              "      <th>2</th>\n",
              "      <td>1.074065</td>\n",
              "      <td>0.874183</td>\n",
              "      <td>0.874183</td>\n",
              "      <td>0.874183</td>\n",
              "      <td>1.306786</td>\n",
              "      <td>0.708029</td>\n",
              "      <td>0.708029</td>\n",
              "      <td>0.708029</td>\n",
              "      <td>0.001</td>\n",
              "      <td>20</td>\n",
              "      <td>32</td>\n",
              "      <td>2</td>\n",
              "      <td>0.1</td>\n",
              "      <td>1361</td>\n",
              "      <td>11</td>\n",
              "      <td>keras_preprocessing.text.Tokenizer</td>\n",
              "      <td>categorical_crossentropy</td>\n",
              "      <td>0.71</td>\n",
              "      <td>0.29</td>\n",
              "      <td>0.76</td>\n",
              "      <td>0.24</td>\n",
              "    </tr>\n",
              "    <tr>\n",
              "      <th>3</th>\n",
              "      <td>0.740160</td>\n",
              "      <td>0.968137</td>\n",
              "      <td>0.968137</td>\n",
              "      <td>0.968137</td>\n",
              "      <td>1.236140</td>\n",
              "      <td>0.671533</td>\n",
              "      <td>0.671533</td>\n",
              "      <td>0.671533</td>\n",
              "      <td>0.001</td>\n",
              "      <td>20</td>\n",
              "      <td>32</td>\n",
              "      <td>2</td>\n",
              "      <td>0.1</td>\n",
              "      <td>1361</td>\n",
              "      <td>11</td>\n",
              "      <td>keras_preprocessing.text.Tokenizer</td>\n",
              "      <td>categorical_crossentropy</td>\n",
              "      <td>0.71</td>\n",
              "      <td>0.29</td>\n",
              "      <td>0.76</td>\n",
              "      <td>0.24</td>\n",
              "    </tr>\n",
              "    <tr>\n",
              "      <th>4</th>\n",
              "      <td>0.602069</td>\n",
              "      <td>0.986111</td>\n",
              "      <td>0.986111</td>\n",
              "      <td>0.986111</td>\n",
              "      <td>1.348445</td>\n",
              "      <td>0.708029</td>\n",
              "      <td>0.708029</td>\n",
              "      <td>0.708029</td>\n",
              "      <td>0.001</td>\n",
              "      <td>20</td>\n",
              "      <td>32</td>\n",
              "      <td>2</td>\n",
              "      <td>0.1</td>\n",
              "      <td>1361</td>\n",
              "      <td>11</td>\n",
              "      <td>keras_preprocessing.text.Tokenizer</td>\n",
              "      <td>categorical_crossentropy</td>\n",
              "      <td>0.71</td>\n",
              "      <td>0.29</td>\n",
              "      <td>0.76</td>\n",
              "      <td>0.24</td>\n",
              "    </tr>\n",
              "  </tbody>\n",
              "</table>\n",
              "</div>"
            ],
            "text/plain": [
              "       loss  ...  test_class_proportion_hate speech\n",
              "0  3.285998  ...                               0.24\n",
              "1  1.691625  ...                               0.24\n",
              "2  1.074065  ...                               0.24\n",
              "3  0.740160  ...                               0.24\n",
              "4  0.602069  ...                               0.24\n",
              "\n",
              "[5 rows x 21 columns]"
            ]
          },
          "metadata": {
            "tags": []
          },
          "execution_count": 187
        }
      ]
    },
    {
      "cell_type": "code",
      "metadata": {
        "id": "puM7VOTTshEt"
      },
      "source": [
        "name = '/content/drive/MyDrive/IAS/NLP_and_Web/report/training_logs_LSTM_FoxNews.csv'\n",
        "df_results.to_csv(name)"
      ],
      "execution_count": null,
      "outputs": []
    },
    {
      "cell_type": "code",
      "metadata": {
        "id": "QfMZzRfhs6bI"
      },
      "source": [
        "def plot_loss(path, ax, title):\n",
        "    df = pd.read_csv(path)\n",
        "    df.loss.plot(kind='line', legend=True, title=title, ax=ax, figsize=(15,8))\n",
        "    ax.legend(loc='upper right')\n",
        "    plt.xlabel('Step') \n",
        "    plt.ylabel('Loss')"
      ],
      "execution_count": null,
      "outputs": []
    },
    {
      "cell_type": "code",
      "metadata": {
        "colab": {
          "base_uri": "https://localhost:8080/",
          "height": 513
        },
        "id": "HQUXupp5s-Am",
        "outputId": "d83aa925-c96d-4e31-c47e-2b4b1dedb2f7"
      },
      "source": [
        "fig, axs = plt.subplots(1,1)\n",
        "path = '/content/drive/MyDrive/IAS/NLP_and_Web/report/training_logs_LSTM_FoxNews.csv'\n",
        "plot_loss(path, axs, title='Loss LSTM for Twitter Dataset')"
      ],
      "execution_count": null,
      "outputs": [
        {
          "output_type": "display_data",
          "data": {
            "image/png": "[encoded data removed]",
            "text/plain": [
              "<Figure size 1080x576 with 1 Axes>"
            ]
          },
          "metadata": {
            "tags": [],
            "needs_background": "light"
          }
        }
      ]
    },
    {
      "cell_type": "markdown",
      "metadata": {
        "id": "525c_ZRl-t9T"
      },
      "source": [
        "### Test the model on the 6 movies Dataset"
      ]
    },
    {
      "cell_type": "code",
      "metadata": {
        "id": "eTVAYaD0eMbN"
      },
      "source": [
        "def annotate_all_movie(movie_df, X_test):\n",
        "    utterances = X_test\n",
        "    predictions = []\n",
        "    batch = []\n",
        "    \n",
        "\n",
        "    predictions = model.predict(utterances)\n",
        "    print(predictions)\n",
        "    predictions = np.argmax(predictions, axis=1)\n",
        "    print(predictions[0:10])\n",
        "\n",
        "\n",
        "    result = []\n",
        "    \n",
        "    for i, pred in enumerate(predictions):\n",
        "        result.append({'index': i, 'label_LSTM_FoxNews': pred})\n",
        "    \n",
        "    result_df = pd.DataFrame(result)\n",
        "    movie_df = movie_df.merge(result_df, right_index=True, left_index=True)\n",
        "    \n",
        "    # del movie_df['Unnamed: 0']\n",
        "    # del movie_df['Unnamed: 6']\n",
        "    # del movie_df['Unnamed: 7']\n",
        "    del movie_df['index']\n",
        "\n",
        "    return movie_df"
      ],
      "execution_count": null,
      "outputs": []
    },
    {
      "cell_type": "code",
      "metadata": {
        "colab": {
          "base_uri": "https://localhost:8080/",
          "height": 495
        },
        "id": "taazq6B4fIm9",
        "outputId": "21c99f43-ad77-4296-e968-06970b12b323"
      },
      "source": [
        "annotated_all_movie =  annotate_all_movie(df_AllMovie, X_test_AllMovie) \n",
        "annotated_all_movie.head(10)"
      ],
      "execution_count": null,
      "outputs": [
        {
          "output_type": "stream",
          "text": [
            "[[0.78684646 0.21315357]\n",
            " [0.84945023 0.15054984]\n",
            " [0.87533367 0.12466627]\n",
            " ...\n",
            " [0.96234727 0.0376527 ]\n",
            " [0.9152596  0.08474034]\n",
            " [0.9582269  0.04177304]]\n",
            "[0 0 0 1 0 0 0 0 0 1]\n"
          ],
          "name": "stdout"
        },
        {
          "output_type": "execute_result",
          "data": {
            "text/html": [
              "<div>\n",
              "<style scoped>\n",
              "    .dataframe tbody tr th:only-of-type {\n",
              "        vertical-align: middle;\n",
              "    }\n",
              "\n",
              "    .dataframe tbody tr th {\n",
              "        vertical-align: top;\n",
              "    }\n",
              "\n",
              "    .dataframe thead th {\n",
              "        text-align: right;\n",
              "    }\n",
              "</style>\n",
              "<table border=\"1\" class=\"dataframe\">\n",
              "  <thead>\n",
              "    <tr style=\"text-align: right;\">\n",
              "      <th></th>\n",
              "      <th>Unnamed: 0</th>\n",
              "      <th>movie_id</th>\n",
              "      <th>batch_id</th>\n",
              "      <th>majority_answer</th>\n",
              "      <th>text</th>\n",
              "      <th>movie_name</th>\n",
              "      <th>label_LSTM_FoxNews</th>\n",
              "    </tr>\n",
              "  </thead>\n",
              "  <tbody>\n",
              "    <tr>\n",
              "      <th>0</th>\n",
              "      <td>0</td>\n",
              "      <td>AmericanHistoryX(1998)_1</td>\n",
              "      <td>1566624979</td>\n",
              "      <td>0</td>\n",
              "      <td>Derek.</td>\n",
              "      <td>AmerricanHistoryX</td>\n",
              "      <td>0</td>\n",
              "    </tr>\n",
              "    <tr>\n",
              "      <th>1</th>\n",
              "      <td>1</td>\n",
              "      <td>AmericanHistoryX(1998)_2</td>\n",
              "      <td>1566624979</td>\n",
              "      <td>1</td>\n",
              "      <td>What the fuck are you thinking?</td>\n",
              "      <td>AmerricanHistoryX</td>\n",
              "      <td>0</td>\n",
              "    </tr>\n",
              "    <tr>\n",
              "      <th>2</th>\n",
              "      <td>2</td>\n",
              "      <td>AmericanHistoryX(1998)_3</td>\n",
              "      <td>1566624979</td>\n",
              "      <td>0</td>\n",
              "      <td>There's a black guy outside breaking into your...</td>\n",
              "      <td>AmerricanHistoryX</td>\n",
              "      <td>0</td>\n",
              "    </tr>\n",
              "    <tr>\n",
              "      <th>3</th>\n",
              "      <td>3</td>\n",
              "      <td>AmericanHistoryX(1998)_4</td>\n",
              "      <td>1566624979</td>\n",
              "      <td>0</td>\n",
              "      <td>How long has he been there?</td>\n",
              "      <td>AmerricanHistoryX</td>\n",
              "      <td>1</td>\n",
              "    </tr>\n",
              "    <tr>\n",
              "      <th>4</th>\n",
              "      <td>4</td>\n",
              "      <td>AmericanHistoryX(1998)_5</td>\n",
              "      <td>1566624979</td>\n",
              "      <td>0</td>\n",
              "      <td>I don't know.</td>\n",
              "      <td>AmerricanHistoryX</td>\n",
              "      <td>0</td>\n",
              "    </tr>\n",
              "    <tr>\n",
              "      <th>5</th>\n",
              "      <td>5</td>\n",
              "      <td>AmericanHistoryX(1998)_6</td>\n",
              "      <td>1566624979</td>\n",
              "      <td>0</td>\n",
              "      <td>What's going on?</td>\n",
              "      <td>AmerricanHistoryX</td>\n",
              "      <td>0</td>\n",
              "    </tr>\n",
              "    <tr>\n",
              "      <th>6</th>\n",
              "      <td>6</td>\n",
              "      <td>AmericanHistoryX(1998)_7</td>\n",
              "      <td>1566624979</td>\n",
              "      <td>0</td>\n",
              "      <td>Not right now, honey. How many?</td>\n",
              "      <td>AmerricanHistoryX</td>\n",
              "      <td>0</td>\n",
              "    </tr>\n",
              "    <tr>\n",
              "      <th>7</th>\n",
              "      <td>7</td>\n",
              "      <td>AmericanHistoryX(1998)_8</td>\n",
              "      <td>1566624979</td>\n",
              "      <td>0</td>\n",
              "      <td>Danny, how many?</td>\n",
              "      <td>AmerricanHistoryX</td>\n",
              "      <td>0</td>\n",
              "    </tr>\n",
              "    <tr>\n",
              "      <th>8</th>\n",
              "      <td>8</td>\n",
              "      <td>AmericanHistoryX(1998)_9</td>\n",
              "      <td>1566624979</td>\n",
              "      <td>0</td>\n",
              "      <td>One, I think.</td>\n",
              "      <td>AmerricanHistoryX</td>\n",
              "      <td>0</td>\n",
              "    </tr>\n",
              "    <tr>\n",
              "      <th>9</th>\n",
              "      <td>9</td>\n",
              "      <td>AmericanHistoryX(1998)_10</td>\n",
              "      <td>1566624979</td>\n",
              "      <td>0</td>\n",
              "      <td>Is he strapped?</td>\n",
              "      <td>AmerricanHistoryX</td>\n",
              "      <td>1</td>\n",
              "    </tr>\n",
              "  </tbody>\n",
              "</table>\n",
              "</div>"
            ],
            "text/plain": [
              "   Unnamed: 0                   movie_id  ...         movie_name  label_LSTM_FoxNews\n",
              "0           0   AmericanHistoryX(1998)_1  ...  AmerricanHistoryX                   0\n",
              "1           1   AmericanHistoryX(1998)_2  ...  AmerricanHistoryX                   0\n",
              "2           2   AmericanHistoryX(1998)_3  ...  AmerricanHistoryX                   0\n",
              "3           3   AmericanHistoryX(1998)_4  ...  AmerricanHistoryX                   1\n",
              "4           4   AmericanHistoryX(1998)_5  ...  AmerricanHistoryX                   0\n",
              "5           5   AmericanHistoryX(1998)_6  ...  AmerricanHistoryX                   0\n",
              "6           6   AmericanHistoryX(1998)_7  ...  AmerricanHistoryX                   0\n",
              "7           7   AmericanHistoryX(1998)_8  ...  AmerricanHistoryX                   0\n",
              "8           8   AmericanHistoryX(1998)_9  ...  AmerricanHistoryX                   0\n",
              "9           9  AmericanHistoryX(1998)_10  ...  AmerricanHistoryX                   1\n",
              "\n",
              "[10 rows x 7 columns]"
            ]
          },
          "metadata": {
            "tags": []
          },
          "execution_count": 42
        }
      ]
    },
    {
      "cell_type": "code",
      "metadata": {
        "id": "F5ObZUX9iPsE"
      },
      "source": [
        "annotated_all_movie.to_csv('/content/drive/MyDrive/IAS/NLP_and_Web/annotations/annotations_train_FoxNews_test_movies.csv')"
      ],
      "execution_count": null,
      "outputs": []
    },
    {
      "cell_type": "code",
      "metadata": {
        "colab": {
          "base_uri": "https://localhost:8080/"
        },
        "id": "aCgyqhPqf_bh",
        "outputId": "8fa62de7-504c-46bd-80d7-cfbf38e074fa"
      },
      "source": [
        "annotated_all_movie[(annotated_all_movie['majority_answer']==1)]['label_LSTM_FoxNews'].value_counts()"
      ],
      "execution_count": null,
      "outputs": [
        {
          "output_type": "execute_result",
          "data": {
            "text/plain": [
              "0    1385\n",
              "1     289\n",
              "Name: label_LSTM_FoxNews, dtype: int64"
            ]
          },
          "metadata": {
            "tags": []
          },
          "execution_count": 44
        }
      ]
    },
    {
      "cell_type": "code",
      "metadata": {
        "colab": {
          "base_uri": "https://localhost:8080/",
          "height": 204
        },
        "id": "JMVuXM7agS37",
        "outputId": "7aca961e-57d1-4c61-d40b-3cc45ba03b0a"
      },
      "source": [
        "categories = ['not hate speech', 'hate speech']\n",
        " \n",
        "report = classification_report(annotated_all_movie['majority_answer'].values, annotated_all_movie['label_LSTM_FoxNews'].values, target_names=categories, output_dict=True)\n",
        "df_report = pd.DataFrame(report).transpose()\n",
        "df_report"
      ],
      "execution_count": null,
      "outputs": [
        {
          "output_type": "execute_result",
          "data": {
            "text/html": [
              "<div>\n",
              "<style scoped>\n",
              "    .dataframe tbody tr th:only-of-type {\n",
              "        vertical-align: middle;\n",
              "    }\n",
              "\n",
              "    .dataframe tbody tr th {\n",
              "        vertical-align: top;\n",
              "    }\n",
              "\n",
              "    .dataframe thead th {\n",
              "        text-align: right;\n",
              "    }\n",
              "</style>\n",
              "<table border=\"1\" class=\"dataframe\">\n",
              "  <thead>\n",
              "    <tr style=\"text-align: right;\">\n",
              "      <th></th>\n",
              "      <th>precision</th>\n",
              "      <th>recall</th>\n",
              "      <th>f1-score</th>\n",
              "      <th>support</th>\n",
              "    </tr>\n",
              "  </thead>\n",
              "  <tbody>\n",
              "    <tr>\n",
              "      <th>not hate speech</th>\n",
              "      <td>0.847046</td>\n",
              "      <td>0.850899</td>\n",
              "      <td>0.848968</td>\n",
              "      <td>9014.000000</td>\n",
              "    </tr>\n",
              "    <tr>\n",
              "      <th>hate speech</th>\n",
              "      <td>0.176975</td>\n",
              "      <td>0.172640</td>\n",
              "      <td>0.174781</td>\n",
              "      <td>1674.000000</td>\n",
              "    </tr>\n",
              "    <tr>\n",
              "      <th>accuracy</th>\n",
              "      <td>0.744667</td>\n",
              "      <td>0.744667</td>\n",
              "      <td>0.744667</td>\n",
              "      <td>0.744667</td>\n",
              "    </tr>\n",
              "    <tr>\n",
              "      <th>macro avg</th>\n",
              "      <td>0.512010</td>\n",
              "      <td>0.511769</td>\n",
              "      <td>0.511874</td>\n",
              "      <td>10688.000000</td>\n",
              "    </tr>\n",
              "    <tr>\n",
              "      <th>weighted avg</th>\n",
              "      <td>0.742096</td>\n",
              "      <td>0.744667</td>\n",
              "      <td>0.743374</td>\n",
              "      <td>10688.000000</td>\n",
              "    </tr>\n",
              "  </tbody>\n",
              "</table>\n",
              "</div>"
            ],
            "text/plain": [
              "                 precision    recall  f1-score       support\n",
              "not hate speech   0.847046  0.850899  0.848968   9014.000000\n",
              "hate speech       0.176975  0.172640  0.174781   1674.000000\n",
              "accuracy          0.744667  0.744667  0.744667      0.744667\n",
              "macro avg         0.512010  0.511769  0.511874  10688.000000\n",
              "weighted avg      0.742096  0.744667  0.743374  10688.000000"
            ]
          },
          "metadata": {
            "tags": []
          },
          "execution_count": 46
        }
      ]
    },
    {
      "cell_type": "code",
      "metadata": {
        "id": "j1TAunHNga52"
      },
      "source": [
        "name = '/content/drive/MyDrive/IAS/NLP_and_Web/report/matrix_report_train_FoxNews_test_movies.csv'\n",
        "df_report.to_csv(name)"
      ],
      "execution_count": null,
      "outputs": []
    },
    {
      "cell_type": "markdown",
      "metadata": {
        "id": "Uh4m8uTatWso"
      },
      "source": [
        "## Classication of Movies"
      ]
    },
    {
      "cell_type": "markdown",
      "metadata": {
        "id": "hv14PhShtsJ-"
      },
      "source": [
        "### Load Movies"
      ]
    },
    {
      "cell_type": "code",
      "metadata": {
        "id": "_ATiwJ3YtXYn"
      },
      "source": [
        "def read_movie_files(pathes):\n",
        "    result = []\n",
        "    for path in pathes: \n",
        "        directory = os.fsencode(path)\n",
        "\n",
        "        for file in os.listdir(directory):\n",
        "            filename = os.fsdecode(file)\n",
        "\n",
        "            if filename.endswith(\".csv\"):\n",
        "                #print(os.path.join(directory, filename))\n",
        "                #local_df = read_content(path + '//' + filename)\n",
        "                movie_df = pd.read_csv(path + '//' + filename)\n",
        "                tag = path.split('/')[-1]\n",
        "                count_utterances = movie_df.shape[0]\n",
        "                result.append({'movie_name': filename[:-9], 'count_utterances': count_utterances, 'tag': tag, 'path': path + '//' + filename})\n",
        "    result_df = pd.DataFrame(result)\n",
        "    return result_df"
      ],
      "execution_count": null,
      "outputs": []
    },
    {
      "cell_type": "code",
      "metadata": {
        "id": "q-Do-ACuuuRC"
      },
      "source": [
        "pathes = ['drive/MyDrive/IAS/Semester3/NLP/movies/racism', 'drive/MyDrive/IAS/Semester3/NLP/movies/hate_speech', 'drive/MyDrive/IAS/Semester3/NLP/movies/friendship']"
      ],
      "execution_count": null,
      "outputs": []
    },
    {
      "cell_type": "code",
      "metadata": {
        "colab": {
          "base_uri": "https://localhost:8080/",
          "height": 204
        },
        "id": "YX6nIsfs3Xom",
        "outputId": "e9decc12-3139-47cb-9ff7-a2e270afec73"
      },
      "source": [
        "movie_metadata_df = read_movie_files(pathes)\n",
        "movie_metadata_df.head()"
      ],
      "execution_count": null,
      "outputs": [
        {
          "output_type": "execute_result",
          "data": {
            "text/html": [
              "<div>\n",
              "<style scoped>\n",
              "    .dataframe tbody tr th:only-of-type {\n",
              "        vertical-align: middle;\n",
              "    }\n",
              "\n",
              "    .dataframe tbody tr th {\n",
              "        vertical-align: top;\n",
              "    }\n",
              "\n",
              "    .dataframe thead th {\n",
              "        text-align: right;\n",
              "    }\n",
              "</style>\n",
              "<table border=\"1\" class=\"dataframe\">\n",
              "  <thead>\n",
              "    <tr style=\"text-align: right;\">\n",
              "      <th></th>\n",
              "      <th>movie_name</th>\n",
              "      <th>count_utterances</th>\n",
              "      <th>tag</th>\n",
              "      <th>path</th>\n",
              "    </tr>\n",
              "  </thead>\n",
              "  <tbody>\n",
              "    <tr>\n",
              "      <th>0</th>\n",
              "      <td>A Time to Kill</td>\n",
              "      <td>2219</td>\n",
              "      <td>racism</td>\n",
              "      <td>drive/MyDrive/IAS/Semester3/NLP/movies/racism/...</td>\n",
              "    </tr>\n",
              "    <tr>\n",
              "      <th>1</th>\n",
              "      <td>Apocalypse Now</td>\n",
              "      <td>2070</td>\n",
              "      <td>racism</td>\n",
              "      <td>drive/MyDrive/IAS/Semester3/NLP/movies/racism/...</td>\n",
              "    </tr>\n",
              "    <tr>\n",
              "      <th>2</th>\n",
              "      <td>Amistad</td>\n",
              "      <td>1124</td>\n",
              "      <td>racism</td>\n",
              "      <td>drive/MyDrive/IAS/Semester3/NLP/movies/racism/...</td>\n",
              "    </tr>\n",
              "    <tr>\n",
              "      <th>3</th>\n",
              "      <td>Bad Boys II</td>\n",
              "      <td>2394</td>\n",
              "      <td>racism</td>\n",
              "      <td>drive/MyDrive/IAS/Semester3/NLP/movies/racism/...</td>\n",
              "    </tr>\n",
              "    <tr>\n",
              "      <th>4</th>\n",
              "      <td>Angel Heart</td>\n",
              "      <td>910</td>\n",
              "      <td>racism</td>\n",
              "      <td>drive/MyDrive/IAS/Semester3/NLP/movies/racism/...</td>\n",
              "    </tr>\n",
              "  </tbody>\n",
              "</table>\n",
              "</div>"
            ],
            "text/plain": [
              "       movie_name  ...                                               path\n",
              "0  A Time to Kill  ...  drive/MyDrive/IAS/Semester3/NLP/movies/racism/...\n",
              "1  Apocalypse Now  ...  drive/MyDrive/IAS/Semester3/NLP/movies/racism/...\n",
              "2         Amistad  ...  drive/MyDrive/IAS/Semester3/NLP/movies/racism/...\n",
              "3     Bad Boys II  ...  drive/MyDrive/IAS/Semester3/NLP/movies/racism/...\n",
              "4     Angel Heart  ...  drive/MyDrive/IAS/Semester3/NLP/movies/racism/...\n",
              "\n",
              "[5 rows x 4 columns]"
            ]
          },
          "metadata": {
            "tags": []
          },
          "execution_count": 65
        }
      ]
    },
    {
      "cell_type": "code",
      "metadata": {
        "colab": {
          "base_uri": "https://localhost:8080/",
          "height": 311
        },
        "id": "FEWuItph3fMu",
        "outputId": "812e8ac1-8f52-4ac2-a9f5-d2b69a576a4f"
      },
      "source": [
        "movie_metadata_df.tag.value_counts().plot(kind='pie', subplots=True, autopct='%1.0f%%', title='Movie Tag Distribution')"
      ],
      "execution_count": null,
      "outputs": [
        {
          "output_type": "execute_result",
          "data": {
            "text/plain": [
              "array([<matplotlib.axes._subplots.AxesSubplot object at 0x7fba2dc2af98>],\n",
              "      dtype=object)"
            ]
          },
          "metadata": {
            "tags": []
          },
          "execution_count": 66
        },
        {
          "output_type": "display_data",
          "data": {
            "image/png": "[encoded data removed]",
            "text/plain": [
              "<Figure size 432x288 with 1 Axes>"
            ]
          },
          "metadata": {
            "tags": []
          }
        }
      ]
    },
    {
      "cell_type": "code",
      "metadata": {
        "id": "tpv_lRqfHaJP"
      },
      "source": [
        "path = 'drive/MyDrive/IAS/Semester3/NLP/data/all_movies.csv'\n",
        "all_movie_data = pd.read_csv(path, index_col=0)"
      ],
      "execution_count": null,
      "outputs": []
    },
    {
      "cell_type": "code",
      "metadata": {
        "colab": {
          "base_uri": "https://localhost:8080/",
          "height": 204
        },
        "id": "3PolrZhlHmJY",
        "outputId": "9e7a6255-106e-41a5-bc75-8f04238be38a"
      },
      "source": [
        "all_movie_data.head()"
      ],
      "execution_count": null,
      "outputs": [
        {
          "output_type": "execute_result",
          "data": {
            "text/html": [
              "<div>\n",
              "<style scoped>\n",
              "    .dataframe tbody tr th:only-of-type {\n",
              "        vertical-align: middle;\n",
              "    }\n",
              "\n",
              "    .dataframe tbody tr th {\n",
              "        vertical-align: top;\n",
              "    }\n",
              "\n",
              "    .dataframe thead th {\n",
              "        text-align: right;\n",
              "    }\n",
              "</style>\n",
              "<table border=\"1\" class=\"dataframe\">\n",
              "  <thead>\n",
              "    <tr style=\"text-align: right;\">\n",
              "      <th></th>\n",
              "      <th>movie_name</th>\n",
              "      <th>index</th>\n",
              "      <th>utterance</th>\n",
              "      <th>count_utterances</th>\n",
              "      <th>tag</th>\n",
              "    </tr>\n",
              "  </thead>\n",
              "  <tbody>\n",
              "    <tr>\n",
              "      <th>0</th>\n",
              "      <td>12 Angry Men</td>\n",
              "      <td>0</td>\n",
              "      <td>Thank you very much, sir.</td>\n",
              "      <td>2065</td>\n",
              "      <td>racism</td>\n",
              "    </tr>\n",
              "    <tr>\n",
              "      <th>1</th>\n",
              "      <td>12 Angry Men</td>\n",
              "      <td>1</td>\n",
              "      <td>You did a wonderful job. Wonderful.</td>\n",
              "      <td>2065</td>\n",
              "      <td>racism</td>\n",
              "    </tr>\n",
              "    <tr>\n",
              "      <th>2</th>\n",
              "      <td>12 Angry Men</td>\n",
              "      <td>2</td>\n",
              "      <td>Shh. Shh.</td>\n",
              "      <td>2065</td>\n",
              "      <td>racism</td>\n",
              "    </tr>\n",
              "    <tr>\n",
              "      <th>3</th>\n",
              "      <td>12 Angry Men</td>\n",
              "      <td>3</td>\n",
              "      <td>We did it, Pete. We did it.</td>\n",
              "      <td>2065</td>\n",
              "      <td>racism</td>\n",
              "    </tr>\n",
              "    <tr>\n",
              "      <th>4</th>\n",
              "      <td>12 Angry Men</td>\n",
              "      <td>4</td>\n",
              "      <td>For a moment, we had our doubts.</td>\n",
              "      <td>2065</td>\n",
              "      <td>racism</td>\n",
              "    </tr>\n",
              "  </tbody>\n",
              "</table>\n",
              "</div>"
            ],
            "text/plain": [
              "     movie_name  index  ... count_utterances     tag\n",
              "0  12 Angry Men      0  ...             2065  racism\n",
              "1  12 Angry Men      1  ...             2065  racism\n",
              "2  12 Angry Men      2  ...             2065  racism\n",
              "3  12 Angry Men      3  ...             2065  racism\n",
              "4  12 Angry Men      4  ...             2065  racism\n",
              "\n",
              "[5 rows x 5 columns]"
            ]
          },
          "metadata": {
            "tags": []
          },
          "execution_count": 68
        }
      ]
    },
    {
      "cell_type": "code",
      "metadata": {
        "id": "1nPgmTliHxz8"
      },
      "source": [
        ""
      ],
      "execution_count": null,
      "outputs": []
    },
    {
      "cell_type": "code",
      "metadata": {
        "id": "kTGm30Vd5xhe"
      },
      "source": [
        "def annotate_single_movie(movie_df):\n",
        "    utterances = movie_df.dialog.values\n",
        "    predictions = []\n",
        "    batch = []\n",
        "    #doc_len = movie_df.dialog.apply(lambda words: len(words.split(\" \")))\n",
        "    #max_seq_len = np.round(doc_len.mean() + doc_len.std()).astype(int)\n",
        "    # Tokenize the sentences\n",
        "    tokenizer = Tokenizer(num_words=max_features, filters='')\n",
        "    tokenizer.fit_on_texts(utterances)\n",
        "\n",
        "\n",
        " \n",
        "    utterances = tokenizer.texts_to_sequences(utterances)\n",
        "    # Pad the sentences\n",
        "    utterances = pad_sequences(utterances, maxlen=maxlen)\n",
        "    #print(utterances.shape)\n",
        "    vocab_size = len(tokenizer.word_index) + 1\n",
        "    #print(tokenizer.word_index)\n",
        "    \n",
        "\n",
        "    predictions = model.predict(utterances)\n",
        "    predictions = np.argmax(predictions, axis=1)\n",
        "    #print(predictions)\n",
        "\n",
        "\n",
        "    result = []\n",
        "    \n",
        "    for i, pred in enumerate(predictions):\n",
        "        result.append({'index': i, 'label_LSTM_FoxNews': categories[pred]})\n",
        "    \n",
        "    result_df = pd.DataFrame(result)\n",
        "    movie_df = movie_df.merge(result_df, right_index=True, left_index=True)\n",
        "    \n",
        "    del movie_df['Unnamed: 0']\n",
        "    del movie_df['index']\n",
        "\n",
        "    return movie_df\n",
        "    "
      ],
      "execution_count": null,
      "outputs": []
    },
    {
      "cell_type": "markdown",
      "metadata": {
        "id": "v8qaLJO8_AW9"
      },
      "source": [
        "## Annotate Movies"
      ]
    },
    {
      "cell_type": "code",
      "metadata": {
        "id": "Ux5n8KhC_BI0"
      },
      "source": [
        "movie_df = pd.read_csv(pathes[0]+'/12 Angry Men_conv.csv')"
      ],
      "execution_count": null,
      "outputs": []
    },
    {
      "cell_type": "code",
      "metadata": {
        "colab": {
          "base_uri": "https://localhost:8080/",
          "height": 204
        },
        "id": "j09pswQ2_dQm",
        "outputId": "af9087bd-65df-44fb-a596-771a0d464961"
      },
      "source": [
        "movie_df.head()"
      ],
      "execution_count": null,
      "outputs": [
        {
          "output_type": "execute_result",
          "data": {
            "text/html": [
              "<div>\n",
              "<style scoped>\n",
              "    .dataframe tbody tr th:only-of-type {\n",
              "        vertical-align: middle;\n",
              "    }\n",
              "\n",
              "    .dataframe tbody tr th {\n",
              "        vertical-align: top;\n",
              "    }\n",
              "\n",
              "    .dataframe thead th {\n",
              "        text-align: right;\n",
              "    }\n",
              "</style>\n",
              "<table border=\"1\" class=\"dataframe\">\n",
              "  <thead>\n",
              "    <tr style=\"text-align: right;\">\n",
              "      <th></th>\n",
              "      <th>Unnamed: 0</th>\n",
              "      <th>dialog</th>\n",
              "    </tr>\n",
              "  </thead>\n",
              "  <tbody>\n",
              "    <tr>\n",
              "      <th>0</th>\n",
              "      <td>0</td>\n",
              "      <td>Thank you very much, sir.</td>\n",
              "    </tr>\n",
              "    <tr>\n",
              "      <th>1</th>\n",
              "      <td>1</td>\n",
              "      <td>You did a wonderful job. Wonderful.</td>\n",
              "    </tr>\n",
              "    <tr>\n",
              "      <th>2</th>\n",
              "      <td>2</td>\n",
              "      <td>Shh. Shh.</td>\n",
              "    </tr>\n",
              "    <tr>\n",
              "      <th>3</th>\n",
              "      <td>3</td>\n",
              "      <td>We did it, Pete. We did it.</td>\n",
              "    </tr>\n",
              "    <tr>\n",
              "      <th>4</th>\n",
              "      <td>4</td>\n",
              "      <td>For a moment, we had our doubts.</td>\n",
              "    </tr>\n",
              "  </tbody>\n",
              "</table>\n",
              "</div>"
            ],
            "text/plain": [
              "   Unnamed: 0                               dialog\n",
              "0           0            Thank you very much, sir.\n",
              "1           1  You did a wonderful job. Wonderful.\n",
              "2           2                            Shh. Shh.\n",
              "3           3          We did it, Pete. We did it.\n",
              "4           4     For a moment, we had our doubts."
            ]
          },
          "metadata": {
            "tags": []
          },
          "execution_count": 71
        }
      ]
    },
    {
      "cell_type": "code",
      "metadata": {
        "colab": {
          "base_uri": "https://localhost:8080/",
          "height": 419
        },
        "id": "hG_YVYhp_fAM",
        "outputId": "c29f0c68-25de-4349-e3eb-221a2007cf3d"
      },
      "source": [
        "annotate_single_movie(movie_df)"
      ],
      "execution_count": null,
      "outputs": [
        {
          "output_type": "execute_result",
          "data": {
            "text/html": [
              "<div>\n",
              "<style scoped>\n",
              "    .dataframe tbody tr th:only-of-type {\n",
              "        vertical-align: middle;\n",
              "    }\n",
              "\n",
              "    .dataframe tbody tr th {\n",
              "        vertical-align: top;\n",
              "    }\n",
              "\n",
              "    .dataframe thead th {\n",
              "        text-align: right;\n",
              "    }\n",
              "</style>\n",
              "<table border=\"1\" class=\"dataframe\">\n",
              "  <thead>\n",
              "    <tr style=\"text-align: right;\">\n",
              "      <th></th>\n",
              "      <th>dialog</th>\n",
              "      <th>label_LSTM_twitter</th>\n",
              "    </tr>\n",
              "  </thead>\n",
              "  <tbody>\n",
              "    <tr>\n",
              "      <th>0</th>\n",
              "      <td>Thank you very much, sir.</td>\n",
              "      <td>not hate speech</td>\n",
              "    </tr>\n",
              "    <tr>\n",
              "      <th>1</th>\n",
              "      <td>You did a wonderful job. Wonderful.</td>\n",
              "      <td>not hate speech</td>\n",
              "    </tr>\n",
              "    <tr>\n",
              "      <th>2</th>\n",
              "      <td>Shh. Shh.</td>\n",
              "      <td>not hate speech</td>\n",
              "    </tr>\n",
              "    <tr>\n",
              "      <th>3</th>\n",
              "      <td>We did it, Pete. We did it.</td>\n",
              "      <td>not hate speech</td>\n",
              "    </tr>\n",
              "    <tr>\n",
              "      <th>4</th>\n",
              "      <td>For a moment, we had our doubts.</td>\n",
              "      <td>not hate speech</td>\n",
              "    </tr>\n",
              "    <tr>\n",
              "      <th>...</th>\n",
              "      <td>...</td>\n",
              "      <td>...</td>\n",
              "    </tr>\n",
              "    <tr>\n",
              "      <th>2060</th>\n",
              "      <td>What's your name?</td>\n",
              "      <td>not hate speech</td>\n",
              "    </tr>\n",
              "    <tr>\n",
              "      <th>2061</th>\n",
              "      <td>Davis.</td>\n",
              "      <td>not hate speech</td>\n",
              "    </tr>\n",
              "    <tr>\n",
              "      <th>2062</th>\n",
              "      <td>My name's McCardle.</td>\n",
              "      <td>not hate speech</td>\n",
              "    </tr>\n",
              "    <tr>\n",
              "      <th>2063</th>\n",
              "      <td>Well, so long.</td>\n",
              "      <td>not hate speech</td>\n",
              "    </tr>\n",
              "    <tr>\n",
              "      <th>2064</th>\n",
              "      <td>So long.</td>\n",
              "      <td>not hate speech</td>\n",
              "    </tr>\n",
              "  </tbody>\n",
              "</table>\n",
              "<p>2065 rows × 2 columns</p>\n",
              "</div>"
            ],
            "text/plain": [
              "                                   dialog label_LSTM_twitter\n",
              "0               Thank you very much, sir.    not hate speech\n",
              "1     You did a wonderful job. Wonderful.    not hate speech\n",
              "2                               Shh. Shh.    not hate speech\n",
              "3             We did it, Pete. We did it.    not hate speech\n",
              "4        For a moment, we had our doubts.    not hate speech\n",
              "...                                   ...                ...\n",
              "2060                    What's your name?    not hate speech\n",
              "2061                               Davis.    not hate speech\n",
              "2062                  My name's McCardle.    not hate speech\n",
              "2063                       Well, so long.    not hate speech\n",
              "2064                             So long.    not hate speech\n",
              "\n",
              "[2065 rows x 2 columns]"
            ]
          },
          "metadata": {
            "tags": []
          },
          "execution_count": 72
        }
      ]
    },
    {
      "cell_type": "code",
      "metadata": {
        "id": "Tw_Z9MeyAPp0"
      },
      "source": [
        "def movie_data_cleansing(df):\n",
        "    df = df.replace(r'<[^\\\\]>', '', regex=True)\n",
        "    df = df.replace(r'<\\\\.*>', '', regex=True)\n",
        "    return df"
      ],
      "execution_count": null,
      "outputs": []
    },
    {
      "cell_type": "code",
      "metadata": {
        "id": "Kn-KHW9gC02U"
      },
      "source": [
        "def annotate_movies(movie_metadata_df):\n",
        "    \n",
        "    pathes = movie_metadata_df.path.values\n",
        "    tags = movie_metadata_df.tag.values\n",
        "    movie_names = movie_metadata_df.movie_name.values\n",
        "    \n",
        "    result = []\n",
        "    for i in range(0, movie_metadata_df.shape[0]):\n",
        "        path = pathes[i]\n",
        "        tag = tags[i]\n",
        "        movie_name = movie_names[i]\n",
        "        print(i+1, movie_metadata_df.shape[0], path, tag, movie_name)\n",
        "        movie_df = pd.read_csv(path)\n",
        "        movie_df = movie_data_cleansing(movie_df)\n",
        "        movie_df = movie_data_cleansing(movie_df)\n",
        "        movie_df = annotate_single_movie(movie_df)\n",
        "        \n",
        "        labels = movie_df.label_LSTM_twitter.values\n",
        "                \n",
        "        for i in range(0, len(labels)):\n",
        "            result.append({'movie_name': movie_name, 'index': i, 'label': labels[i]})\n",
        "                    \n",
        "    result_df = pd.DataFrame(result)     \n",
        "    return result_df"
      ],
      "execution_count": null,
      "outputs": []
    },
    {
      "cell_type": "code",
      "metadata": {
        "colab": {
          "base_uri": "https://localhost:8080/"
        },
        "id": "j7N-6N-pC9x1",
        "outputId": "fa6d1a6f-9cc8-4d62-e14a-250fec23dff4"
      },
      "source": [
        "movies_annotated_df = annotate_movies(movie_metadata_df)"
      ],
      "execution_count": null,
      "outputs": [
        {
          "output_type": "stream",
          "text": [
            "1 252 drive/MyDrive/IAS/Semester3/NLP/movies/racism//A Time to Kill_conv.csv racism A Time to Kill\n",
            "2 252 drive/MyDrive/IAS/Semester3/NLP/movies/racism//Apocalypse Now_conv.csv racism Apocalypse Now\n",
            "3 252 drive/MyDrive/IAS/Semester3/NLP/movies/racism//Amistad_conv.csv racism Amistad\n",
            "4 252 drive/MyDrive/IAS/Semester3/NLP/movies/racism//Bad Boys II_conv.csv racism Bad Boys II\n",
            "5 252 drive/MyDrive/IAS/Semester3/NLP/movies/racism//Angel Heart_conv.csv racism Angel Heart\n",
            "6 252 drive/MyDrive/IAS/Semester3/NLP/movies/racism//Bone Tomahawk_conv.csv racism Bone Tomahawk\n",
            "7 252 drive/MyDrive/IAS/Semester3/NLP/movies/racism//Enter the Dragon_conv.csv racism Enter the Dragon\n",
            "8 252 drive/MyDrive/IAS/Semester3/NLP/movies/racism//Dragged Across Concrete_conv.csv racism Dragged Across Concrete\n",
            "9 252 drive/MyDrive/IAS/Semester3/NLP/movies/racism//Antebellum_conv.csv racism Antebellum\n",
            "10 252 drive/MyDrive/IAS/Semester3/NLP/movies/racism//Empire of the Sun_conv.csv racism Empire of the Sun\n",
            "11 252 drive/MyDrive/IAS/Semester3/NLP/movies/racism//Chinatown_conv.csv racism Chinatown\n",
            "12 252 drive/MyDrive/IAS/Semester3/NLP/movies/racism//Children of Men_conv.csv racism Children of Men\n",
            "13 252 drive/MyDrive/IAS/Semester3/NLP/movies/racism//Blood Father_conv.csv racism Blood Father\n",
            "14 252 drive/MyDrive/IAS/Semester3/NLP/movies/racism//Caged_conv.csv racism Caged\n",
            "15 252 drive/MyDrive/IAS/Semester3/NLP/movies/racism//12 Angry Men_conv.csv racism 12 Angry Men\n",
            "16 252 drive/MyDrive/IAS/Semester3/NLP/movies/racism//Django Unchained_conv.csv racism Django Unchained\n",
            "17 252 drive/MyDrive/IAS/Semester3/NLP/movies/racism//Bright_conv.csv racism Bright\n",
            "18 252 drive/MyDrive/IAS/Semester3/NLP/movies/racism//Bend It Like Beckham_conv.csv racism Bend It Like Beckham\n",
            "19 252 drive/MyDrive/IAS/Semester3/NLP/movies/racism//Boyz n the Hood_conv.csv racism Boyz n the Hood\n",
            "20 252 drive/MyDrive/IAS/Semester3/NLP/movies/racism//42_conv.csv racism 42\n",
            "21 252 drive/MyDrive/IAS/Semester3/NLP/movies/racism//AI Artificial Intelligence_conv.csv racism AI Artificial Intelligence\n",
            "22 252 drive/MyDrive/IAS/Semester3/NLP/movies/racism//Donnie Brasco_conv.csv racism Donnie Brasco\n",
            "23 252 drive/MyDrive/IAS/Semester3/NLP/movies/racism//Crash_conv.csv racism Crash\n",
            "24 252 drive/MyDrive/IAS/Semester3/NLP/movies/racism//12 Years a Slave_conv.csv racism 12 Years a Slave\n",
            "25 252 drive/MyDrive/IAS/Semester3/NLP/movies/racism//A Bronx Tale_conv.csv racism A Bronx Tale\n",
            "26 252 drive/MyDrive/IAS/Semester3/NLP/movies/racism//Cruel Intentions_conv.csv racism Cruel Intentions\n",
            "27 252 drive/MyDrive/IAS/Semester3/NLP/movies/racism//American History X_conv.csv racism American History X\n",
            "28 252 drive/MyDrive/IAS/Semester3/NLP/movies/racism//Point Break_conv.csv racism Point Break\n",
            "29 252 drive/MyDrive/IAS/Semester3/NLP/movies/racism//Mystery Road_conv.csv racism Mystery Road\n",
            "30 252 drive/MyDrive/IAS/Semester3/NLP/movies/racism//Pulp Fiction_conv.csv racism Pulp Fiction\n",
            "31 252 drive/MyDrive/IAS/Semester3/NLP/movies/racism//Ocean's Eleven_conv.csv racism Ocean's Eleven\n",
            "32 252 drive/MyDrive/IAS/Semester3/NLP/movies/racism//Monster's Ball_conv.csv racism Monster's Ball\n",
            "33 252 drive/MyDrive/IAS/Semester3/NLP/movies/racism//Hairspray_conv.csv racism Hairspray\n",
            "34 252 drive/MyDrive/IAS/Semester3/NLP/movies/racism//Planet of the Apes_conv.csv racism Planet of the Apes\n",
            "35 252 drive/MyDrive/IAS/Semester3/NLP/movies/racism//Friday Night Lights_conv.csv racism Friday Night Lights\n",
            "36 252 drive/MyDrive/IAS/Semester3/NLP/movies/racism//Mudbound_conv.csv racism Mudbound\n",
            "37 252 drive/MyDrive/IAS/Semester3/NLP/movies/racism//Green Room_conv.csv racism Green Room\n",
            "38 252 drive/MyDrive/IAS/Semester3/NLP/movies/racism//From Dusk Till Dawn_conv.csv racism From Dusk Till Dawn\n",
            "39 252 drive/MyDrive/IAS/Semester3/NLP/movies/racism//Legends of the Fall_conv.csv racism Legends of the Fall\n",
            "40 252 drive/MyDrive/IAS/Semester3/NLP/movies/racism//If Beale Street Could Talk_conv.csv racism If Beale Street Could Talk\n",
            "41 252 drive/MyDrive/IAS/Semester3/NLP/movies/racism//Oz_conv.csv racism Oz\n",
            "42 252 drive/MyDrive/IAS/Semester3/NLP/movies/racism//Machete_conv.csv racism Machete\n",
            "43 252 drive/MyDrive/IAS/Semester3/NLP/movies/racism//In Bruges_conv.csv racism In Bruges\n",
            "44 252 drive/MyDrive/IAS/Semester3/NLP/movies/racism//Motherless Brooklyn_conv.csv racism Motherless Brooklyn\n",
            "45 252 drive/MyDrive/IAS/Semester3/NLP/movies/racism//Freedom Writers_conv.csv racism Freedom Writers\n",
            "46 252 drive/MyDrive/IAS/Semester3/NLP/movies/racism//Girl, Interrupted_conv.csv racism Girl, Interrupted\n",
            "47 252 drive/MyDrive/IAS/Semester3/NLP/movies/racism//Robin Hood_conv.csv racism Robin Hood\n",
            "48 252 drive/MyDrive/IAS/Semester3/NLP/movies/racism//Phantom Thread_conv.csv racism Phantom Thread\n",
            "49 252 drive/MyDrive/IAS/Semester3/NLP/movies/racism//Long Shot_conv.csv racism Long Shot\n",
            "50 252 drive/MyDrive/IAS/Semester3/NLP/movies/racism//Misbehaviour_conv.csv racism Misbehaviour\n",
            "51 252 drive/MyDrive/IAS/Semester3/NLP/movies/racism//MASH_conv.csv racism MASH\n",
            "52 252 drive/MyDrive/IAS/Semester3/NLP/movies/racism//Ma Rainey's Black Bottom_conv.csv racism Ma Rainey's Black Bottom\n",
            "53 252 drive/MyDrive/IAS/Semester3/NLP/movies/racism//Harry Potter and the Chamber of Secrets_conv.csv racism Harry Potter and the Chamber of Secrets\n",
            "54 252 drive/MyDrive/IAS/Semester3/NLP/movies/racism//Hell or High Water_conv.csv racism Hell or High Water\n",
            "55 252 drive/MyDrive/IAS/Semester3/NLP/movies/racism//In the Heat of the Night_conv.csv racism In the Heat of the Night\n",
            "56 252 drive/MyDrive/IAS/Semester3/NLP/movies/racism//Life_conv.csv racism Life\n",
            "57 252 drive/MyDrive/IAS/Semester3/NLP/movies/racism//My Big Fat Greek Wedding_conv.csv racism My Big Fat Greek Wedding\n",
            "58 252 drive/MyDrive/IAS/Semester3/NLP/movies/racism//Glory_conv.csv racism Glory\n",
            "59 252 drive/MyDrive/IAS/Semester3/NLP/movies/racism//Pocahontas_conv.csv racism Pocahontas\n",
            "60 252 drive/MyDrive/IAS/Semester3/NLP/movies/racism//Passenger 57_conv.csv racism Passenger 57\n",
            "61 252 drive/MyDrive/IAS/Semester3/NLP/movies/racism//Hidden Figures_conv.csv racism Hidden Figures\n",
            "62 252 drive/MyDrive/IAS/Semester3/NLP/movies/racism//Gran Torino_conv.csv racism Gran Torino\n",
            "63 252 drive/MyDrive/IAS/Semester3/NLP/movies/racism//Remember the Titans_conv.csv racism Remember the Titans\n",
            "64 252 drive/MyDrive/IAS/Semester3/NLP/movies/racism//Gangs of New York_conv.csv racism Gangs of New York\n",
            "65 252 drive/MyDrive/IAS/Semester3/NLP/movies/racism//Knives Out_conv.csv racism Knives Out\n",
            "66 252 drive/MyDrive/IAS/Semester3/NLP/movies/racism//Murder on the Orient Express_conv.csv racism Murder on the Orient Express\n",
            "67 252 drive/MyDrive/IAS/Semester3/NLP/movies/racism//Inglourious Basterds_conv.csv racism Inglourious Basterds\n",
            "68 252 drive/MyDrive/IAS/Semester3/NLP/movies/racism//Porky's_conv.csv racism Porky's\n",
            "69 252 drive/MyDrive/IAS/Semester3/NLP/movies/racism//Lethal Weapon 2_conv.csv racism Lethal Weapon 2\n",
            "70 252 drive/MyDrive/IAS/Semester3/NLP/movies/racism//LA Confidential_conv.csv racism LA Confidential\n",
            "71 252 drive/MyDrive/IAS/Semester3/NLP/movies/racism//Mike and Dave Need Wedding Dates_conv.csv racism Mike and Dave Need Wedding Dates\n",
            "72 252 drive/MyDrive/IAS/Semester3/NLP/movies/racism//Falling Down_conv.csv racism Falling Down\n",
            "73 252 drive/MyDrive/IAS/Semester3/NLP/movies/racism//Lost in Translation_conv.csv racism Lost in Translation\n",
            "74 252 drive/MyDrive/IAS/Semester3/NLP/movies/racism//Malcolm X_conv.csv racism Malcolm X\n",
            "75 252 drive/MyDrive/IAS/Semester3/NLP/movies/racism//Taxi Driver_conv.csv racism Taxi Driver\n",
            "76 252 drive/MyDrive/IAS/Semester3/NLP/movies/racism//The French Connection_conv.csv racism The French Connection\n",
            "77 252 drive/MyDrive/IAS/Semester3/NLP/movies/racism//The Craft_conv.csv racism The Craft\n",
            "78 252 drive/MyDrive/IAS/Semester3/NLP/movies/racism//Scary Stories to Tell in the Dark_conv.csv racism Scary Stories to Tell in the Dark\n",
            "79 252 drive/MyDrive/IAS/Semester3/NLP/movies/racism//The Banker_conv.csv racism The Banker\n",
            "80 252 drive/MyDrive/IAS/Semester3/NLP/movies/racism//The Butler_conv.csv racism The Butler\n",
            "81 252 drive/MyDrive/IAS/Semester3/NLP/movies/racism//Roots_conv.csv racism Roots\n",
            "82 252 drive/MyDrive/IAS/Semester3/NLP/movies/racism//The Happytime Murders_conv.csv racism The Happytime Murders\n",
            "83 252 drive/MyDrive/IAS/Semester3/NLP/movies/racism//The Lost City of Z_conv.csv racism The Lost City of Z\n",
            "84 252 drive/MyDrive/IAS/Semester3/NLP/movies/racism//The Color Purple_conv.csv racism The Color Purple\n",
            "85 252 drive/MyDrive/IAS/Semester3/NLP/movies/racism//The Gentlemen_conv.csv racism The Gentlemen\n",
            "86 252 drive/MyDrive/IAS/Semester3/NLP/movies/racism//The Hunchback of Notre Dame_conv.csv racism The Hunchback of Notre Dame\n",
            "87 252 drive/MyDrive/IAS/Semester3/NLP/movies/racism//The Big Sick_conv.csv racism The Big Sick\n",
            "88 252 drive/MyDrive/IAS/Semester3/NLP/movies/racism//The Hate U Give_conv.csv racism The Hate U Give\n",
            "89 252 drive/MyDrive/IAS/Semester3/NLP/movies/racism//The Rental_conv.csv racism The Rental\n",
            "90 252 drive/MyDrive/IAS/Semester3/NLP/movies/racism//The Blind Side_conv.csv racism The Blind Side\n",
            "91 252 drive/MyDrive/IAS/Semester3/NLP/movies/racism//Sausage Party_conv.csv racism Sausage Party\n",
            "92 252 drive/MyDrive/IAS/Semester3/NLP/movies/racism//The Dictator_conv.csv racism The Dictator\n",
            "93 252 drive/MyDrive/IAS/Semester3/NLP/movies/racism//The Nightingale_conv.csv racism The Nightingale\n",
            "94 252 drive/MyDrive/IAS/Semester3/NLP/movies/racism//Save the Last Dance_conv.csv racism Save the Last Dance\n",
            "95 252 drive/MyDrive/IAS/Semester3/NLP/movies/racism//Silverado_conv.csv racism Silverado\n",
            "96 252 drive/MyDrive/IAS/Semester3/NLP/movies/racism//The Chase_conv.csv racism The Chase\n",
            "97 252 drive/MyDrive/IAS/Semester3/NLP/movies/racism//The Painted Bird_conv.csv racism The Painted Bird\n",
            "98 252 drive/MyDrive/IAS/Semester3/NLP/movies/racism//Summerland_conv.csv racism Summerland\n",
            "99 252 drive/MyDrive/IAS/Semester3/NLP/movies/racism//The Green Mile_conv.csv racism The Green Mile\n",
            "100 252 drive/MyDrive/IAS/Semester3/NLP/movies/racism//Selma_conv.csv racism Selma\n",
            "101 252 drive/MyDrive/IAS/Semester3/NLP/movies/racism//The Hunt_conv.csv racism The Hunt\n",
            "102 252 drive/MyDrive/IAS/Semester3/NLP/movies/racism//Sophie's Choice_conv.csv racism Sophie's Choice\n",
            "103 252 drive/MyDrive/IAS/Semester3/NLP/movies/racism//The Hateful Eight_conv.csv racism The Hateful Eight\n",
            "104 252 drive/MyDrive/IAS/Semester3/NLP/movies/racism//The Hundred-Foot Journey_conv.csv racism The Hundred-Foot Journey\n",
            "105 252 drive/MyDrive/IAS/Semester3/NLP/movies/racism//The Trial of the Chicago 7_conv.csv racism The Trial of the Chicago 7\n",
            "106 252 drive/MyDrive/IAS/Semester3/NLP/movies/racism//Up in the Air_conv.csv racism Up in the Air\n",
            "107 252 drive/MyDrive/IAS/Semester3/NLP/movies/racism//To Kill a Mockingbird_conv.csv racism To Kill a Mockingbird\n",
            "108 252 drive/MyDrive/IAS/Semester3/NLP/movies/racism//Widows_conv.csv racism Widows\n",
            "109 252 drive/MyDrive/IAS/Semester3/NLP/movies/racism//X-Men_conv.csv racism X-Men\n",
            "110 252 drive/MyDrive/IAS/Semester3/NLP/movies/racism//The Royal Tenenbaums_conv.csv racism The Royal Tenenbaums\n",
            "111 252 drive/MyDrive/IAS/Semester3/NLP/movies/racism//The Untouchables_conv.csv racism The Untouchables\n",
            "112 252 drive/MyDrive/IAS/Semester3/NLP/movies/racism//The Shield_conv.csv racism The Shield\n",
            "113 252 drive/MyDrive/IAS/Semester3/NLP/movies/racism//The Searchers_conv.csv racism The Searchers\n",
            "114 252 drive/MyDrive/IAS/Semester3/NLP/movies/racism//The Terror_conv.csv racism The Terror\n",
            "115 252 drive/MyDrive/IAS/Semester3/NLP/movies/racism//Who Framed Roger Rabbit_conv.csv racism Who Framed Roger Rabbit\n",
            "116 252 drive/MyDrive/IAS/Semester3/NLP/movies/racism//Three Billboards Outside Ebbing, Missouri_conv.csv racism Three Billboards Outside Ebbing, Missouri\n",
            "117 252 drive/MyDrive/IAS/Semester3/NLP/movies/racism//Wrong Turn_conv.csv racism Wrong Turn\n",
            "118 252 drive/MyDrive/IAS/Semester3/NLP/movies/hate_speech//Electric Dreams_conv.csv hate_speech Electric Dreams\n",
            "119 252 drive/MyDrive/IAS/Semester3/NLP/movies/hate_speech//Pride_conv.csv hate_speech Pride\n",
            "120 252 drive/MyDrive/IAS/Semester3/NLP/movies/hate_speech//BlacKkKlansman_conv.csv hate_speech BlacKkKlansman\n",
            "121 252 drive/MyDrive/IAS/Semester3/NLP/movies/hate_speech//Talk Radio_conv.csv hate_speech Talk Radio\n",
            "122 252 drive/MyDrive/IAS/Semester3/NLP/movies/hate_speech//The Gifted_conv.csv hate_speech The Gifted\n",
            "123 252 drive/MyDrive/IAS/Semester3/NLP/movies/hate_speech//Pandora_conv.csv hate_speech Pandora\n",
            "124 252 drive/MyDrive/IAS/Semester3/NLP/movies/hate_speech//The Intruder_conv.csv hate_speech The Intruder\n",
            "125 252 drive/MyDrive/IAS/Semester3/NLP/movies/hate_speech//Mosley_conv.csv hate_speech Mosley\n",
            "126 252 drive/MyDrive/IAS/Semester3/NLP/movies/hate_speech//South Park_conv.csv hate_speech South Park\n",
            "127 252 drive/MyDrive/IAS/Semester3/NLP/movies/hate_speech//The Twilight Zone_conv.csv hate_speech The Twilight Zone\n",
            "128 252 drive/MyDrive/IAS/Semester3/NLP/movies/hate_speech//Woodlawn_conv.csv hate_speech Woodlawn\n",
            "129 252 drive/MyDrive/IAS/Semester3/NLP/movies/hate_speech//The Butcher_conv.csv hate_speech The Butcher\n",
            "130 252 drive/MyDrive/IAS/Semester3/NLP/movies/hate_speech//afterMath_conv.csv hate_speech afterMath\n",
            "131 252 drive/MyDrive/IAS/Semester3/NLP/movies/hate_speech//The Red Pill_conv.csv hate_speech The Red Pill\n",
            "132 252 drive/MyDrive/IAS/Semester3/NLP/movies/hate_speech//Miami Vice_conv.csv hate_speech Miami Vice\n",
            "133 252 drive/MyDrive/IAS/Semester3/NLP/movies/hate_speech//My 2_conv.csv hate_speech My 2\n",
            "134 252 drive/MyDrive/IAS/Semester3/NLP/movies/hate_speech//Dante's Inferno_conv.csv hate_speech Dante's Inferno\n",
            "135 252 drive/MyDrive/IAS/Semester3/NLP/movies/hate_speech//The Family_conv.csv hate_speech The Family\n",
            "136 252 drive/MyDrive/IAS/Semester3/NLP/movies/hate_speech//Float_conv.csv hate_speech Float\n",
            "137 252 drive/MyDrive/IAS/Semester3/NLP/movies/friendship//Almost Famous_conv.csv friendship Almost Famous\n",
            "138 252 drive/MyDrive/IAS/Semester3/NLP/movies/friendship//A Star Is Born_conv.csv friendship A Star Is Born\n",
            "139 252 drive/MyDrive/IAS/Semester3/NLP/movies/friendship//A Clockwork Orange_conv.csv friendship A Clockwork Orange\n",
            "140 252 drive/MyDrive/IAS/Semester3/NLP/movies/friendship//Aladdin_conv.csv friendship Aladdin\n",
            "141 252 drive/MyDrive/IAS/Semester3/NLP/movies/friendship//1917_conv.csv friendship 1917\n",
            "142 252 drive/MyDrive/IAS/Semester3/NLP/movies/friendship//About Time_conv.csv friendship About Time\n",
            "143 252 drive/MyDrive/IAS/Semester3/NLP/movies/friendship//Goodfellas_conv.csv friendship Goodfellas\n",
            "144 252 drive/MyDrive/IAS/Semester3/NLP/movies/friendship//Iron Man_conv.csv friendship Iron Man\n",
            "145 252 drive/MyDrive/IAS/Semester3/NLP/movies/friendship//American Beauty_conv.csv friendship American Beauty\n",
            "146 252 drive/MyDrive/IAS/Semester3/NLP/movies/friendship//Ant-Man_conv.csv friendship Ant-Man\n",
            "147 252 drive/MyDrive/IAS/Semester3/NLP/movies/friendship//Jojo Rabbit_conv.csv friendship Jojo Rabbit\n",
            "148 252 drive/MyDrive/IAS/Semester3/NLP/movies/friendship//Entourage_conv.csv friendship Entourage\n",
            "149 252 drive/MyDrive/IAS/Semester3/NLP/movies/friendship//Grease_conv.csv friendship Grease\n",
            "150 252 drive/MyDrive/IAS/Semester3/NLP/movies/friendship//Crazy Rich Asians_conv.csv friendship Crazy Rich Asians\n",
            "151 252 drive/MyDrive/IAS/Semester3/NLP/movies/friendship//Bad Boys for Life_conv.csv friendship Bad Boys for Life\n",
            "152 252 drive/MyDrive/IAS/Semester3/NLP/movies/friendship//Get Out_conv.csv friendship Get Out\n",
            "153 252 drive/MyDrive/IAS/Semester3/NLP/movies/friendship//Cats_conv.csv friendship Cats\n",
            "154 252 drive/MyDrive/IAS/Semester3/NLP/movies/friendship//Guardians of the Galaxy Vol 2_conv.csv friendship Guardians of the Galaxy Vol 2\n",
            "155 252 drive/MyDrive/IAS/Semester3/NLP/movies/friendship//American Psycho_conv.csv friendship American Psycho\n",
            "156 252 drive/MyDrive/IAS/Semester3/NLP/movies/friendship//Harry Potter and the Goblet of Fire_conv.csv friendship Harry Potter and the Goblet of Fire\n",
            "157 252 drive/MyDrive/IAS/Semester3/NLP/movies/friendship//Harry Potter and the Prisoner of Azkaban_conv.csv friendship Harry Potter and the Prisoner of Azkaban\n",
            "158 252 drive/MyDrive/IAS/Semester3/NLP/movies/friendship//Good Will Hunting_conv.csv friendship Good Will Hunting\n",
            "159 252 drive/MyDrive/IAS/Semester3/NLP/movies/friendship//Black Panther_conv.csv friendship Black Panther\n",
            "160 252 drive/MyDrive/IAS/Semester3/NLP/movies/friendship//Love Actually_conv.csv friendship Love Actually\n",
            "161 252 drive/MyDrive/IAS/Semester3/NLP/movies/friendship//Green Book_conv.csv friendship Green Book\n",
            "162 252 drive/MyDrive/IAS/Semester3/NLP/movies/friendship//Citizen Kane_conv.csv friendship Citizen Kane\n",
            "163 252 drive/MyDrive/IAS/Semester3/NLP/movies/friendship//Booksmart_conv.csv friendship Booksmart\n",
            "164 252 drive/MyDrive/IAS/Semester3/NLP/movies/friendship//Captain Marvel_conv.csv friendship Captain Marvel\n",
            "165 252 drive/MyDrive/IAS/Semester3/NLP/movies/friendship//Isle of Dogs_conv.csv friendship Isle of Dogs\n",
            "166 252 drive/MyDrive/IAS/Semester3/NLP/movies/friendship//ER_conv.csv friendship ER\n",
            "167 252 drive/MyDrive/IAS/Semester3/NLP/movies/friendship//Family Guy_conv.csv friendship Family Guy\n",
            "168 252 drive/MyDrive/IAS/Semester3/NLP/movies/friendship//Ammonite_conv.csv friendship Ammonite\n",
            "169 252 drive/MyDrive/IAS/Semester3/NLP/movies/friendship//Ford v Ferrari_conv.csv friendship Ford v Ferrari\n",
            "170 252 drive/MyDrive/IAS/Semester3/NLP/movies/friendship//Dead Poets Society_conv.csv friendship Dead Poets Society\n",
            "171 252 drive/MyDrive/IAS/Semester3/NLP/movies/friendship//Bones_conv.csv friendship Bones\n",
            "172 252 drive/MyDrive/IAS/Semester3/NLP/movies/friendship//American Pie_conv.csv friendship American Pie\n",
            "173 252 drive/MyDrive/IAS/Semester3/NLP/movies/friendship//Doctor Sleep_conv.csv friendship Doctor Sleep\n",
            "174 252 drive/MyDrive/IAS/Semester3/NLP/movies/friendship//Friends_conv.csv friendship Friends\n",
            "175 252 drive/MyDrive/IAS/Semester3/NLP/movies/friendship//Harry Potter and the Sorcerer's Stone_conv.csv friendship Harry Potter and the Sorcerer's Stone\n",
            "176 252 drive/MyDrive/IAS/Semester3/NLP/movies/friendship//It_conv.csv friendship It\n",
            "177 252 drive/MyDrive/IAS/Semester3/NLP/movies/friendship//Hunter x Hunter_conv.csv friendship Hunter x Hunter\n",
            "178 252 drive/MyDrive/IAS/Semester3/NLP/movies/friendship//Eyes Wide Shut_conv.csv friendship Eyes Wide Shut\n",
            "179 252 drive/MyDrive/IAS/Semester3/NLP/movies/friendship//John Wick_conv.csv friendship John Wick\n",
            "180 252 drive/MyDrive/IAS/Semester3/NLP/movies/friendship//Community_conv.csv friendship Community\n",
            "181 252 drive/MyDrive/IAS/Semester3/NLP/movies/friendship//Dazed and Confused_conv.csv friendship Dazed and Confused\n",
            "182 252 drive/MyDrive/IAS/Semester3/NLP/movies/friendship//Avatar_conv.csv friendship Avatar\n",
            "183 252 drive/MyDrive/IAS/Semester3/NLP/movies/friendship//Firefly_conv.csv friendship Firefly\n",
            "184 252 drive/MyDrive/IAS/Semester3/NLP/movies/friendship//Emma_conv.csv friendship Emma\n",
            "185 252 drive/MyDrive/IAS/Semester3/NLP/movies/friendship//Coming to America_conv.csv friendship Coming to America\n",
            "186 252 drive/MyDrive/IAS/Semester3/NLP/movies/friendship//Fast Times at Ridgemont High_conv.csv friendship Fast Times at Ridgemont High\n",
            "187 252 drive/MyDrive/IAS/Semester3/NLP/movies/friendship//House MD_conv.csv friendship House MD\n",
            "188 252 drive/MyDrive/IAS/Semester3/NLP/movies/friendship//Deadpool_conv.csv friendship Deadpool\n",
            "189 252 drive/MyDrive/IAS/Semester3/NLP/movies/friendship//Doctor Who_conv.csv friendship Doctor Who\n",
            "190 252 drive/MyDrive/IAS/Semester3/NLP/movies/friendship//Hamilton_conv.csv friendship Hamilton\n",
            "191 252 drive/MyDrive/IAS/Semester3/NLP/movies/friendship//Guardians of the Galaxy_conv.csv friendship Guardians of the Galaxy\n",
            "192 252 drive/MyDrive/IAS/Semester3/NLP/movies/friendship//Breaking Bad_conv.csv friendship Breaking Bad\n",
            "193 252 drive/MyDrive/IAS/Semester3/NLP/movies/friendship//Seinfeld_conv.csv friendship Seinfeld\n",
            "194 252 drive/MyDrive/IAS/Semester3/NLP/movies/friendship//The Simpsons_conv.csv friendship The Simpsons\n",
            "195 252 drive/MyDrive/IAS/Semester3/NLP/movies/friendship//Love and Monsters_conv.csv friendship Love and Monsters\n",
            "196 252 drive/MyDrive/IAS/Semester3/NLP/movies/friendship//The Last Picture Show_conv.csv friendship The Last Picture Show\n",
            "197 252 drive/MyDrive/IAS/Semester3/NLP/movies/friendship//Rome_conv.csv friendship Rome\n",
            "198 252 drive/MyDrive/IAS/Semester3/NLP/movies/friendship//Rocketman_conv.csv friendship Rocketman\n",
            "199 252 drive/MyDrive/IAS/Semester3/NLP/movies/friendship//Teen Wolf_conv.csv friendship Teen Wolf\n",
            "200 252 drive/MyDrive/IAS/Semester3/NLP/movies/friendship//One Night in Miami_conv.csv friendship One Night in Miami\n",
            "201 252 drive/MyDrive/IAS/Semester3/NLP/movies/friendship//The OC_conv.csv friendship The OC\n",
            "202 252 drive/MyDrive/IAS/Semester3/NLP/movies/friendship//Sherlock_conv.csv friendship Sherlock\n",
            "203 252 drive/MyDrive/IAS/Semester3/NLP/movies/friendship//Saving Private Ryan_conv.csv friendship Saving Private Ryan\n",
            "204 252 drive/MyDrive/IAS/Semester3/NLP/movies/friendship//The Guest_conv.csv friendship The Guest\n",
            "205 252 drive/MyDrive/IAS/Semester3/NLP/movies/friendship//The Dark Knight_conv.csv friendship The Dark Knight\n",
            "206 252 drive/MyDrive/IAS/Semester3/NLP/movies/friendship//The Lion King_conv.csv friendship The Lion King\n",
            "207 252 drive/MyDrive/IAS/Semester3/NLP/movies/friendship//Ocean's Eight_conv.csv friendship Ocean's Eight\n",
            "208 252 drive/MyDrive/IAS/Semester3/NLP/movies/friendship//The Prestige_conv.csv friendship The Prestige\n",
            "209 252 drive/MyDrive/IAS/Semester3/NLP/movies/friendship//Mom_conv.csv friendship Mom\n",
            "210 252 drive/MyDrive/IAS/Semester3/NLP/movies/friendship//Split_conv.csv friendship Split\n",
            "211 252 drive/MyDrive/IAS/Semester3/NLP/movies/friendship//South Park_conv.csv friendship South Park\n",
            "212 252 drive/MyDrive/IAS/Semester3/NLP/movies/friendship//The 100_conv.csv friendship The 100\n",
            "213 252 drive/MyDrive/IAS/Semester3/NLP/movies/friendship//The Grand Budapest Hotel_conv.csv friendship The Grand Budapest Hotel\n",
            "214 252 drive/MyDrive/IAS/Semester3/NLP/movies/friendship//The Departed_conv.csv friendship The Departed\n",
            "215 252 drive/MyDrive/IAS/Semester3/NLP/movies/friendship//Ready Player One_conv.csv friendship Ready Player One\n",
            "216 252 drive/MyDrive/IAS/Semester3/NLP/movies/friendship//The Princess Bride_conv.csv friendship The Princess Bride\n",
            "217 252 drive/MyDrive/IAS/Semester3/NLP/movies/friendship//The Goonies_conv.csv friendship The Goonies\n",
            "218 252 drive/MyDrive/IAS/Semester3/NLP/movies/friendship//Skins_conv.csv friendship Skins\n",
            "219 252 drive/MyDrive/IAS/Semester3/NLP/movies/friendship//Psych_conv.csv friendship Psych\n",
            "220 252 drive/MyDrive/IAS/Semester3/NLP/movies/friendship//The Shawshank Redemption_conv.csv friendship The Shawshank Redemption\n",
            "221 252 drive/MyDrive/IAS/Semester3/NLP/movies/friendship//Requiem for a Dream_conv.csv friendship Requiem for a Dream\n",
            "222 252 drive/MyDrive/IAS/Semester3/NLP/movies/friendship//The Silence of the Lambs_conv.csv friendship The Silence of the Lambs\n",
            "223 252 drive/MyDrive/IAS/Semester3/NLP/movies/friendship//The Prom_conv.csv friendship The Prom\n",
            "224 252 drive/MyDrive/IAS/Semester3/NLP/movies/friendship//The Revenant_conv.csv friendship The Revenant\n",
            "225 252 drive/MyDrive/IAS/Semester3/NLP/movies/friendship//Mank_conv.csv friendship Mank\n",
            "226 252 drive/MyDrive/IAS/Semester3/NLP/movies/friendship//The Maze Runner_conv.csv friendship The Maze Runner\n",
            "227 252 drive/MyDrive/IAS/Semester3/NLP/movies/friendship//Scott Pilgrim vs the World_conv.csv friendship Scott Pilgrim vs the World\n",
            "228 252 drive/MyDrive/IAS/Semester3/NLP/movies/friendship//The Peanut Butter Falcon_conv.csv friendship The Peanut Butter Falcon\n",
            "229 252 drive/MyDrive/IAS/Semester3/NLP/movies/friendship//Sex and the City_conv.csv friendship Sex and the City\n",
            "230 252 drive/MyDrive/IAS/Semester3/NLP/movies/friendship//Once Upon a Time in Hollywood_conv.csv friendship Once Upon a Time in Hollywood\n",
            "231 252 drive/MyDrive/IAS/Semester3/NLP/movies/friendship//Rogue One_conv.csv friendship Rogue One\n",
            "232 252 drive/MyDrive/IAS/Semester3/NLP/movies/friendship//The Social Network_conv.csv friendship The Social Network\n",
            "233 252 drive/MyDrive/IAS/Semester3/NLP/movies/friendship//The Martian_conv.csv friendship The Martian\n",
            "234 252 drive/MyDrive/IAS/Semester3/NLP/movies/friendship//Sicario_conv.csv friendship Sicario\n",
            "235 252 drive/MyDrive/IAS/Semester3/NLP/movies/friendship//The Big Lebowski_conv.csv friendship The Big Lebowski\n",
            "236 252 drive/MyDrive/IAS/Semester3/NLP/movies/friendship//Star Trek Beyond_conv.csv friendship Star Trek Beyond\n",
            "237 252 drive/MyDrive/IAS/Semester3/NLP/movies/friendship//The Hunger Games_conv.csv friendship The Hunger Games\n",
            "238 252 drive/MyDrive/IAS/Semester3/NLP/movies/friendship//The Help_conv.csv friendship The Help\n",
            "239 252 drive/MyDrive/IAS/Semester3/NLP/movies/friendship//The Greatest Showman_conv.csv friendship The Greatest Showman\n",
            "240 252 drive/MyDrive/IAS/Semester3/NLP/movies/friendship//The Invisible Man_conv.csv friendship The Invisible Man\n",
            "241 252 drive/MyDrive/IAS/Semester3/NLP/movies/friendship//Once Upon a Time in America_conv.csv friendship Once Upon a Time in America\n",
            "242 252 drive/MyDrive/IAS/Semester3/NLP/movies/friendship//Schindler's List_conv.csv friendship Schindler's List\n",
            "243 252 drive/MyDrive/IAS/Semester3/NLP/movies/friendship//Superbad_conv.csv friendship Superbad\n",
            "244 252 drive/MyDrive/IAS/Semester3/NLP/movies/friendship//The Wolf of Wall Street_conv.csv friendship The Wolf of Wall Street\n",
            "245 252 drive/MyDrive/IAS/Semester3/NLP/movies/friendship//You_conv.csv friendship You\n",
            "246 252 drive/MyDrive/IAS/Semester3/NLP/movies/friendship//The War with Grandpa_conv.csv friendship The War with Grandpa\n",
            "247 252 drive/MyDrive/IAS/Semester3/NLP/movies/friendship//Titans_conv.csv friendship Titans\n",
            "248 252 drive/MyDrive/IAS/Semester3/NLP/movies/friendship//The Truman Show_conv.csv friendship The Truman Show\n",
            "249 252 drive/MyDrive/IAS/Semester3/NLP/movies/friendship//Titanic_conv.csv friendship Titanic\n",
            "250 252 drive/MyDrive/IAS/Semester3/NLP/movies/friendship//Twilight_conv.csv friendship Twilight\n",
            "251 252 drive/MyDrive/IAS/Semester3/NLP/movies/friendship//Twin Peaks_conv.csv friendship Twin Peaks\n",
            "252 252 drive/MyDrive/IAS/Semester3/NLP/movies/friendship//Wind River_conv.csv friendship Wind River\n"
          ],
          "name": "stdout"
        }
      ]
    },
    {
      "cell_type": "code",
      "metadata": {
        "id": "P__S7u4ZDSOz"
      },
      "source": [
        "movies_annotated_df.to_csv('drive/MyDrive/IAS/Semester3/NLP/annotations/annotations_LSTM_FoxNews.csv')"
      ],
      "execution_count": null,
      "outputs": []
    },
    {
      "cell_type": "code",
      "metadata": {
        "id": "U5YVkvlsF0_O"
      },
      "source": [
        ""
      ],
      "execution_count": null,
      "outputs": []
    }
  ]
}