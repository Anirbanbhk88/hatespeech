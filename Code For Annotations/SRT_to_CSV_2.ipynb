{
 "cells": [
  {
   "cell_type": "code",
   "execution_count": 13,
   "metadata": {},
   "outputs": [],
   "source": [
    "import pandas as pd\n",
    "import glob"
   ]
  },
  {
   "cell_type": "markdown",
   "metadata": {},
   "source": [
    "numberOfDialog | dialog | Start_Time | End_Time"
   ]
  },
  {
   "cell_type": "code",
   "execution_count": null,
   "metadata": {},
   "outputs": [],
   "source": []
  },
  {
   "cell_type": "code",
   "execution_count": 38,
   "metadata": {},
   "outputs": [],
   "source": [
    "srt_path = r'C:\\Users\\Sana Moin\\Desktop\\movies_for_seid\\SRT\\American History X (1998).en.srt'\n",
    "srt_path = r'C:\\Users\\Sana Moin\\Desktop\\movies_for_seid\\SRT\\Django.Unchained.2012.720p.BluRay.DTS.x264-HDMaNiAcS.srt'"
   ]
  },
  {
   "cell_type": "code",
   "execution_count": 39,
   "metadata": {},
   "outputs": [],
   "source": [
    "def read(path):\n",
    "    result_arr = []\n",
    "    file_encoding = 'cp1252' \n",
    "    with open(path, encoding=file_encoding) as f:\n",
    "        srt_file = f.readlines()\n",
    "    \n",
    "    for line in srt_file:\n",
    "        \n",
    "        if line=='\\n':\n",
    "            continue\n",
    "        \n",
    "        try:\n",
    "            number_of_dialog = int(line)\n",
    "            continue\n",
    "        except:\n",
    "            None\n",
    "        \n",
    "        if '-->' in line:\n",
    "            start_time = line.split('-->')[0][:-1]\n",
    "            end_time =line.split('-->')[1][1:]\n",
    "            end_time = end_time.split('\\n')[0]\n",
    "            continue\n",
    "        else:\n",
    "            dialog = line.split('\\n')[0]\n",
    "        \n",
    "        result = {\"number_of_dialog\":number_of_dialog, \"start_time\": start_time, \"end_time\": end_time, \"dialog\": dialog}\n",
    "        result_arr.append(result)\n",
    "    result_df = pd.DataFrame(result_arr)\n",
    "    return result_df"
   ]
  },
  {
   "cell_type": "code",
   "execution_count": 40,
   "metadata": {},
   "outputs": [],
   "source": [
    "def formatting_srt_csv(srt_df):\n",
    "    srt_df = srt_df.groupby('number_of_dialog').agg(lambda x: ' '.join(x.tolist()))\n",
    "    srt_df['start_time'] = srt_df['start_time'].apply(lambda x: x.split(' ')[0])\n",
    "    srt_df['end_time'] = srt_df['end_time'].apply(lambda x: x.split(' ')[0])\n",
    "    return srt_df\n"
   ]
  },
  {
   "cell_type": "code",
   "execution_count": 41,
   "metadata": {},
   "outputs": [],
   "source": [
    "srt_df = read(srt_path)"
   ]
  },
  {
   "cell_type": "code",
   "execution_count": 42,
   "metadata": {},
   "outputs": [],
   "source": [
    "srt_df = formatting_srt_csv(srt_df)"
   ]
  },
  {
   "cell_type": "code",
   "execution_count": 43,
   "metadata": {},
   "outputs": [
    {
     "data": {
      "text/html": [
       "<div>\n",
       "<style scoped>\n",
       "    .dataframe tbody tr th:only-of-type {\n",
       "        vertical-align: middle;\n",
       "    }\n",
       "\n",
       "    .dataframe tbody tr th {\n",
       "        vertical-align: top;\n",
       "    }\n",
       "\n",
       "    .dataframe thead th {\n",
       "        text-align: right;\n",
       "    }\n",
       "</style>\n",
       "<table border=\"1\" class=\"dataframe\">\n",
       "  <thead>\n",
       "    <tr style=\"text-align: right;\">\n",
       "      <th></th>\n",
       "      <th>start_time</th>\n",
       "      <th>end_time</th>\n",
       "      <th>dialog</th>\n",
       "    </tr>\n",
       "    <tr>\n",
       "      <th>number_of_dialog</th>\n",
       "      <th></th>\n",
       "      <th></th>\n",
       "      <th></th>\n",
       "    </tr>\n",
       "  </thead>\n",
       "  <tbody>\n",
       "    <tr>\n",
       "      <th>1</th>\n",
       "      <td>00:04:18,937</td>\n",
       "      <td>00:04:21,624</td>\n",
       "      <td>Who's that stumbling around in the dark?</td>\n",
       "    </tr>\n",
       "    <tr>\n",
       "      <th>2</th>\n",
       "      <td>00:04:22,138</td>\n",
       "      <td>00:04:25,580</td>\n",
       "      <td>State your business or prepare to get winged!</td>\n",
       "    </tr>\n",
       "    <tr>\n",
       "      <th>3</th>\n",
       "      <td>00:04:26,309</td>\n",
       "      <td>00:04:28,787</td>\n",
       "      <td>Calm yourselves, gentlemen.</td>\n",
       "    </tr>\n",
       "    <tr>\n",
       "      <th>4</th>\n",
       "      <td>00:04:28,853</td>\n",
       "      <td>00:04:30,530</td>\n",
       "      <td>I mean you no harm.</td>\n",
       "    </tr>\n",
       "    <tr>\n",
       "      <th>5</th>\n",
       "      <td>00:04:31,356</td>\n",
       "      <td>00:04:34,362</td>\n",
       "      <td>I'm simply a fellow weary traveler.</td>\n",
       "    </tr>\n",
       "    <tr>\n",
       "      <th>...</th>\n",
       "      <td>...</td>\n",
       "      <td>...</td>\n",
       "      <td>...</td>\n",
       "    </tr>\n",
       "    <tr>\n",
       "      <th>2412</th>\n",
       "      <td>02:41:32,492</td>\n",
       "      <td>02:41:33,983</td>\n",
       "      <td>You know what they are going to call you?</td>\n",
       "    </tr>\n",
       "    <tr>\n",
       "      <th>2413</th>\n",
       "      <td>02:41:34,658</td>\n",
       "      <td>02:41:36,390</td>\n",
       "      <td>The fastest gun in the South.</td>\n",
       "    </tr>\n",
       "    <tr>\n",
       "      <th>2414</th>\n",
       "      <td>02:41:44,363</td>\n",
       "      <td>02:41:45,673</td>\n",
       "      <td>Let's get outta here.</td>\n",
       "    </tr>\n",
       "    <tr>\n",
       "      <th>2415</th>\n",
       "      <td>02:42:00,961</td>\n",
       "      <td>02:42:03,961</td>\n",
       "      <td>By &lt;font color=\"#ff80ff\"&gt;L&lt;/font&gt;&lt;font color=\"...</td>\n",
       "    </tr>\n",
       "    <tr>\n",
       "      <th>2416</th>\n",
       "      <td>02:45:14,823</td>\n",
       "      <td>02:45:16,052</td>\n",
       "      <td>Who was that nigger?</td>\n",
       "    </tr>\n",
       "  </tbody>\n",
       "</table>\n",
       "<p>2416 rows × 3 columns</p>\n",
       "</div>"
      ],
      "text/plain": [
       "                    start_time      end_time  \\\n",
       "number_of_dialog                               \n",
       "1                 00:04:18,937  00:04:21,624   \n",
       "2                 00:04:22,138  00:04:25,580   \n",
       "3                 00:04:26,309  00:04:28,787   \n",
       "4                 00:04:28,853  00:04:30,530   \n",
       "5                 00:04:31,356  00:04:34,362   \n",
       "...                        ...           ...   \n",
       "2412              02:41:32,492  02:41:33,983   \n",
       "2413              02:41:34,658  02:41:36,390   \n",
       "2414              02:41:44,363  02:41:45,673   \n",
       "2415              02:42:00,961  02:42:03,961   \n",
       "2416              02:45:14,823  02:45:16,052   \n",
       "\n",
       "                                                             dialog  \n",
       "number_of_dialog                                                     \n",
       "1                          Who's that stumbling around in the dark?  \n",
       "2                     State your business or prepare to get winged!  \n",
       "3                                       Calm yourselves, gentlemen.  \n",
       "4                                               I mean you no harm.  \n",
       "5                               I'm simply a fellow weary traveler.  \n",
       "...                                                             ...  \n",
       "2412                      You know what they are going to call you?  \n",
       "2413                                  The fastest gun in the South.  \n",
       "2414                                          Let's get outta here.  \n",
       "2415              By <font color=\"#ff80ff\">L</font><font color=\"...  \n",
       "2416                                           Who was that nigger?  \n",
       "\n",
       "[2416 rows x 3 columns]"
      ]
     },
     "execution_count": 43,
     "metadata": {},
     "output_type": "execute_result"
    }
   ],
   "source": [
    "srt_df"
   ]
  },
  {
   "cell_type": "code",
   "execution_count": 44,
   "metadata": {},
   "outputs": [],
   "source": [
    "def main(path, destination):\n",
    "    for filename in glob.glob(path+'*.srt'):\n",
    "        print(filename)\n",
    "        srt_df = read(filename)\n",
    "        srt_df = formatting_srt_csv(srt_df)\n",
    "        srt_df.to_csv(destination + '/' + filename.split('\\\\')[-1].split('.')[0] + '.csv')"
   ]
  },
  {
   "cell_type": "code",
   "execution_count": 45,
   "metadata": {},
   "outputs": [
    {
     "name": "stdout",
     "output_type": "stream",
     "text": [
      "SRT\\American History X (1998).en.srt\n",
      "SRT\\BlacKkKlansman (2018)23.976fps-134.49 min mp4 version-syn-edited-colorized-moreCompleted-Hi.srt\n",
      "SRT\\Django.Unchained.2012.720p.BluRay.DTS.x264-HDMaNiAcS.srt\n",
      "SRT\\Pulp.Fiction.1994.1080p.BluRay.EN.srt\n",
      "SRT\\South.Park.Bigger.Longer.and.Uncut.480p.BluRay.x264-MHQ.srt\n",
      "SRT\\The Wolf of Wall Street 2013 BluRay.srt\n"
     ]
    }
   ],
   "source": [
    "main(path=\"SRT/\", destination='CSV_2')"
   ]
  },
  {
   "cell_type": "code",
   "execution_count": null,
   "metadata": {},
   "outputs": [],
   "source": []
  }
 ],
 "metadata": {
  "kernelspec": {
   "display_name": "Python 3",
   "language": "python",
   "name": "python3"
  },
  "language_info": {
   "codemirror_mode": {
    "name": "ipython",
    "version": 3
   },
   "file_extension": ".py",
   "mimetype": "text/x-python",
   "name": "python",
   "nbconvert_exporter": "python",
   "pygments_lexer": "ipython3",
   "version": "3.7.4"
  }
 },
 "nbformat": 4,
 "nbformat_minor": 5
}
